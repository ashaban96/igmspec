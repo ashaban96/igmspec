{
 "cells": [
  {
   "cell_type": "markdown",
   "metadata": {},
   "source": [
    "# Simple Scripts with IGMspec (v1.2)"
   ]
  },
  {
   "cell_type": "code",
   "execution_count": 1,
   "metadata": {
    "collapsed": true
   },
   "outputs": [],
   "source": [
    "# imports"
   ]
  },
  {
   "cell_type": "markdown",
   "metadata": {},
   "source": [
    "## Downloading the DataBase\n",
    "\n",
    "After installing igmspec, you can grab the latest (or any\n",
    "previous) version of the DB with the *get_igmspec* script.\n",
    "\n",
    "    usage: get_igmspec [-h] [-v VERSION]\n",
    "\n",
    "    Grab the IGMspec DB\n",
    "\n",
    "    optional arguments:\n",
    "      -h, --help            show this help message and exit\n",
    "      -v VERSION, --version VERSION\n",
    "                            DB version to generate"
   ]
  },
  {
   "cell_type": "markdown",
   "metadata": {},
   "source": [
    "### Examples"
   ]
  },
  {
   "cell_type": "markdown",
   "metadata": {},
   "source": [
    "#### v01\n",
    "\n",
    "    get_igmspec -v v01"
   ]
  },
  {
   "cell_type": "markdown",
   "metadata": {},
   "source": [
    "----"
   ]
  },
  {
   "cell_type": "markdown",
   "metadata": {},
   "source": [
    "## Plot\n",
    "\n",
    "    wolverine.local> plot_igmspec -h\n",
    "    usage: plot_igmspec [-h] [--toler TOLER] [--meta] [--survey SURVEY]\n",
    "                        [--select SELECT] [--mplot MPLOT]\n",
    "                        coord\n",
    "\n",
    "    plot_igmspec script v0.1\n",
    "\n",
    "    positional arguments:\n",
    "      coord            Coordinates, e.g. J081240+320808\n",
    "\n",
    "    optional arguments:\n",
    "      -h, --help       show this help message and exit\n",
    "      --toler TOLER    Maximum offset in arcsec [default=5.]\n",
    "      --meta           Show meta data? [default: True]\n",
    "      --survey SURVEY  Name of Survey to use\n",
    "      --select SELECT  Name of Survey to use [default: 0]\n",
    "      --mplot MPLOT    Use simple matplotlib plot [default: False]"
   ]
  },
  {
   "cell_type": "markdown",
   "metadata": {},
   "source": [
    "### Examples"
   ]
  },
  {
   "cell_type": "markdown",
   "metadata": {},
   "source": [
    "#### FJ0812+32\n",
    "    plot_igmspec J081241+320808 --survey KODIAQ_DR1"
   ]
  },
  {
   "cell_type": "markdown",
   "metadata": {
    "collapsed": true
   },
   "source": [
    "#### J001115.23+144601.8\n",
    "    plot_igmspec J001115.23+144601.8"
   ]
  },
  {
   "cell_type": "markdown",
   "metadata": {
    "collapsed": true
   },
   "source": [
    "----"
   ]
  },
  {
   "cell_type": "markdown",
   "metadata": {},
   "source": [
    "## SDSS/BOSS Database\n",
    "\n",
    "    profx.ucolick.org> sdss_igmspec -h\n",
    "    usage: sdss_igmspec [-h] [-s SURVEY] [--select SELECT] [-p] plate fiberid\n",
    "\n",
    "    sdss_igmspec script v0.1\n",
    "\n",
    "    positional arguments:\n",
    "      plate                 Plate\n",
    "      fiberid               FiberID\n",
    "\n",
    "    optional arguments:\n",
    "      -h, --help            show this help message and exit\n",
    "      -s SURVEY, --survey SURVEY\n",
    "                            Name of Survey to use (BOSS_DR12 or SDSS_DR7)\n",
    "      --select SELECT       Index of spectrum to plot (when multiple exist)\n",
    "      -p, --plot            Plot with lt_xspec"
   ]
  },
  {
   "cell_type": "markdown",
   "metadata": {},
   "source": [
    "### Example\n",
    "\n",
    "    UNIX> sdss_igmspec 434 555 -p"
   ]
  },
  {
   "cell_type": "code",
   "execution_count": null,
   "metadata": {
    "collapsed": true
   },
   "outputs": [],
   "source": []
  }
 ],
 "metadata": {
  "kernelspec": {
   "display_name": "Python 2",
   "language": "python",
   "name": "python2"
  },
  "language_info": {
   "codemirror_mode": {
    "name": "ipython",
    "version": 2
   },
   "file_extension": ".py",
   "mimetype": "text/x-python",
   "name": "python",
   "nbconvert_exporter": "python",
   "pygments_lexer": "ipython2",
   "version": "2.7.11"
  }
 },
 "nbformat": 4,
 "nbformat_minor": 0
}
