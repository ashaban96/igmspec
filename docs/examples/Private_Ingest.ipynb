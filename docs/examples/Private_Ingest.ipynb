{
 "cells": [
  {
   "cell_type": "markdown",
   "metadata": {},
   "source": [
    "# Ingesting Private Datasets"
   ]
  },
  {
   "cell_type": "code",
   "execution_count": 5,
   "metadata": {
    "collapsed": true
   },
   "outputs": [],
   "source": [
    "# imports\n",
    "from igmspec.privatedb import build as pbuild"
   ]
  },
  {
   "cell_type": "markdown",
   "metadata": {},
   "source": [
    "## Test on Single Folder"
   ]
  },
  {
   "cell_type": "code",
   "execution_count": 6,
   "metadata": {
    "collapsed": true
   },
   "outputs": [],
   "source": [
    "tree = os.getenv('DROPBOX_DIR')+'/QSOPairs/data/MMT_redux/'"
   ]
  },
  {
   "cell_type": "code",
   "execution_count": 7,
   "metadata": {
    "collapsed": false
   },
   "outputs": [
    {
     "data": {
      "text/plain": [
       "87"
      ]
     },
     "execution_count": 7,
     "metadata": {},
     "output_type": "execute_result"
    }
   ],
   "source": [
    "reload(pbuild)\n",
    "flux_files = pbuild.grab_files(tree)\n",
    "len(flux_files)"
   ]
  },
  {
   "cell_type": "code",
   "execution_count": 8,
   "metadata": {
    "collapsed": false
   },
   "outputs": [
    {
     "data": {
      "text/plain": [
       "[u'/u/xavier/Dropbox//QSOPairs/data/MMT_redux/./SDSSJ001605.89+005654.3_b800_F.fits',\n",
       " u'/u/xavier/Dropbox//QSOPairs/data/MMT_redux/./SDSSJ001607.27+005653.1_b800_F.fits',\n",
       " u'/u/xavier/Dropbox//QSOPairs/data/MMT_redux/./SDSSJ001743.07+050327.3_b500_F.fits',\n",
       " u'/u/xavier/Dropbox//QSOPairs/data/MMT_redux/./SDSSJ001744.13+050334.8_b500_F.fits',\n",
       " u'/u/xavier/Dropbox//QSOPairs/data/MMT_redux/./SDSSJ001807.36+161257.5_b500_F.fits']"
      ]
     },
     "execution_count": 8,
     "metadata": {},
     "output_type": "execute_result"
    }
   ],
   "source": [
    "flux_files[:5]"
   ]
  },
  {
   "cell_type": "markdown",
   "metadata": {},
   "source": [
    "## Directory Tree"
   ]
  },
  {
   "cell_type": "code",
   "execution_count": 9,
   "metadata": {
    "collapsed": true
   },
   "outputs": [],
   "source": [
    "tree2 = os.getenv('DROPBOX_DIR')+'/QSOPairs/data/'"
   ]
  },
  {
   "cell_type": "code",
   "execution_count": 10,
   "metadata": {
    "collapsed": false
   },
   "outputs": [
    {
     "data": {
      "text/plain": [
       "25451"
      ]
     },
     "execution_count": 10,
     "metadata": {},
     "output_type": "execute_result"
    }
   ],
   "source": [
    "reload(pbuild)\n",
    "mflux_files = pbuild.grab_files(tree2)\n",
    "len(mflux_files)"
   ]
  },
  {
   "cell_type": "code",
   "execution_count": 11,
   "metadata": {
    "collapsed": false
   },
   "outputs": [
    {
     "data": {
      "text/plain": [
       "[u'/u/xavier/Dropbox//QSOPairs/data/BOSS/BOSSLyaDR9_cat.fits.gz',\n",
       " u'/u/xavier/Dropbox//QSOPairs/data/BOSS/BOSSLyaDR9_cat.fits.gz',\n",
       " u'/u/xavier/Dropbox//QSOPairs/data/ESI_redux/SDSSJ001813.89+142455.6_F.fits.gz',\n",
       " u'/u/xavier/Dropbox//QSOPairs/data/ESI_redux/SDSSJ002801.18-104933.9_F.fits.gz',\n",
       " u'/u/xavier/Dropbox//QSOPairs/data/ESI_redux/SDSSJ002802.61-104936.1_F.fits.gz']"
      ]
     },
     "execution_count": 11,
     "metadata": {},
     "output_type": "execute_result"
    }
   ],
   "source": [
    "mflux_files[:5]"
   ]
  },
  {
   "cell_type": "markdown",
   "metadata": {},
   "source": [
    "## Meta"
   ]
  },
  {
   "cell_type": "code",
   "execution_count": null,
   "metadata": {
    "collapsed": false
   },
   "outputs": [
    {
     "name": "stdout",
     "output_type": "stream",
     "text": [
      "Using /u/xavier/local/Python/igmspec/DB/IGMspec_DB_v01.hdf5 for the catalog file\n",
      "Using /u/xavier/local/Python/igmspec/DB/IGMspec_DB_v01.hdf5 for the DB file\n",
      "Available surveys: [u'GGG']\n",
      "> /Users/xavier/local/Python/igmspec/igmspec/privatedb/build.py(118)mk_meta()\n",
      "-> maindb = vstack([maindb,meta], join_type='exact')\n",
      "(Pdb) meta\n",
      "<Table length=87>\n",
      "      RA           DEC        STYPE  \n",
      "   float64       float64     unicode3\n",
      "------------- -------------- --------\n",
      "4.02454166667 0.948416666667      QSO\n",
      "4.03029166667 0.948083333333      QSO\n",
      "4.42945833333  5.05758333333      QSO\n",
      "     4.433875  5.05966666667      QSO\n",
      "4.53066666667  16.2159722222      QSO\n",
      "4.53370833333  16.2141111111      QSO\n",
      "8.36666666667  16.0804166667      QSO\n",
      "8.36808333333  16.0785833333      QSO\n",
      "11.1350833333  30.9634166667      QSO\n",
      "    11.135125  30.9598611111      QSO\n",
      "          ...            ...      ...\n",
      "   340.404125  23.1527222222      QSO\n",
      "340.404291667  23.1502777778      QSO\n",
      "342.236791667  3.11672222222      QSO\n",
      "342.238416667  3.11652777778      QSO\n",
      "348.227708333 -2.90086111111      QSO\n",
      "348.227916667 -2.90186111111      QSO\n",
      "350.659958333 0.840472222222      QSO\n",
      "350.660333333 0.848194444444      QSO\n",
      "   357.544625       19.93825      QSO\n",
      "357.546583333  19.9434444444      QSO\n",
      "(Pdb) igmsp.hdf['quasars']\n",
      "<HDF5 dataset \"quasars\": shape (1969183,), type \"|V168\">\n",
      "(Pdb) igmsp.hdf['quasars'].value\n",
      "array([ (0.02722799964249134, 0.5153409838676453, [1.8238259553909302, 0.0, 0.0, 0.0, 0.0, 0.0, 0.0, 0.0, 0.0, 1.9249999523162842, 1.823599934577942, 0.0, 0.0, 0.0, 0.0, 1.8250000476837158, 0.0, 0.0, 0.0], 34305, 0, 0, 0, 1.6200000047683716, 2.109999895095825, 0.718999981880188, 1, 0.983057975769043, 0.1923999935388565, 1, -999999488.0, 19.19727325439453, 18.88741683959961, 18.327693939208984, -999999488.0, 0.09420806914567947, 0.18727616965770721, 0.17226500809192657, 1.4500000476837158, 1.8250000476837158, 1.9500000476837158, 0.9989979863166809),\n",
      "       (0.033900000154972076, 0.27630099654197693, [1.8363829851150513, 0.0, 0.0, 0.0, 0.0, 0.0, 0.0, 0.0, 0.0, 2.005000114440918, 0.0, 0.0, 0.0, 0.0, 0.0, 1.875, 0.0, 0.0, 0.0], 33281, 0, 0, 0, 1.7599999904632568, 2.140000104904175, 0.9459999799728394, 1, 0.0, 0.0, 0, -999999488.0, 18.368852615356445, 17.716041564941406, 17.170101165771484, -999999488.0, 0.045900486409664154, 0.06558209657669067, 0.061539940536022186, 1.7000000476837158, 1.875, 1.9500000476837158, 0.9967759847640991),\n",
      "       (0.038603998720645905, 15.298477172851562, [1.1974760293960571, 0.0, 0.0, 0.0, 0.0, 0.0, 0.0, 0.0, 0.0, 1.215000033378601, 0.0, 0.0, 0.0, 1.1974799633026123, 0.0, 0.0, 0.0, 1.1990000009536743, 0.0], 139777, 1, 0, 0, 1.100000023841858, 1.5299999713897705, 0.9120000004768372, 1, 0.0, 0.0, 0, 0.0, 0.0, 0.0, 0.0, 0.0, 0.0, 0.0, 0.0, 0.0, 0.0, 0.0, 0.0),\n",
      "       ...,\n",
      "       (359.99371337890625, 22.70062255859375, [0.0, 0.0, 0.0, 0.0, 0.0, 0.0, 0.0, 0.0, 0.0, 0.0, 0.0, 0.0, 0.0, 0.0, 0.0, 0.0, 0.0, 0.0, 0.0], 262144, 0, 0, 0, 0.0, 0.0, 0.0, 0, 0.0, 0.0, 0, 0.0, 0.0, 0.0, 0.0, 0.0, 0.0, 0.0, 0.0, 0.0, 0.0, 0.0, 0.0),\n",
      "       (359.997802734375, 1.0843079090118408, [0.0, 0.0, 0.0, 0.0, 0.0, 0.0, 0.0, 0.0, 0.0, 0.0, 0.0, 0.0, 0.0, 0.0, 0.0, 0.0, 0.0, 0.0, 0.0], 262144, 0, 0, 0, 0.0, 0.0, 0.0, 0, 0.0, 0.0, 0, 0.0, 0.0, 0.0, 0.0, 0.0, 0.0, 0.0, 0.0, 0.0, 0.0, 0.0, 0.0),\n",
      "       (359.9991760253906, 27.772592544555664, [0.0, 0.0, 0.0, 0.0, 0.0, 0.0, 0.0, 0.0, 0.0, 0.0, 0.0, 0.0, 0.0, 0.0, 0.0, 0.0, 0.0, 0.0, 0.0], 262144, 0, 0, 0, 0.0, 0.0, 0.0, 0, 0.0, 0.0, 0, 0.0, 0.0, 0.0, 0.0, 0.0, 0.0, 0.0, 0.0, 0.0, 0.0, 0.0, 0.0)], \n",
      "      dtype=[('RA', '<f4'), ('DEC', '<f4'), ('ZBEST', '<f4', (19,)), ('SOURCEBIT', '<i4'), ('SDSS_UFLG', '<i2'), ('AGES_QSO', '<i2'), ('AGES_CODE06', '<i4'), ('KDE_ZPHOTLO', '<f4'), ('KDE_ZPHOTHI', '<f4'), ('KDE_ZPHOTPROB', '<f4'), ('KDE_LOWZORUVX', '<i2'), ('XDQSOZ_PEAKPROB', '<f4'), ('XDQSOZ_PEAKFWHM', '<f4'), ('XDQSOZ_NPEAKS', '<i2'), ('YAPERMAG3', '<f4'), ('JAPERMAG3', '<f4'), ('HAPERMAG3', '<f4'), ('KSAPERMAG3', '<f4'), ('YAPERMAG3ERR', '<f4'), ('JAPERMAG3ERR', '<f4'), ('HAPERMAG3ERR', '<f4'), ('KSAPERMAG3ERR', '<f4'), ('ZPHOTMINJHK', '<f4'), ('ZPHOTBESTJHK', '<f4'), ('ZPHOTMAXJHK', '<f4'), ('ZPHOTPROBJHK', '<f4')])\n",
      "(Pdb) Table(igmsp.hdf['quasars'].value)\n",
      "<Table length=1969183>\n",
      "   RA       DEC       ZBEST [19]   ... ZPHOTBESTJHK ZPHOTMAXJHK ZPHOTPROBJHK\n",
      "float32   float32      float32     ...   float32      float32     float32   \n",
      "-------- --------- --------------- ... ------------ ----------- ------------\n",
      "0.027228  0.515341  1.82383 .. 0.0 ...        1.825        1.95     0.998998\n",
      "  0.0339  0.276301  1.83638 .. 0.0 ...        1.875        1.95     0.996776\n",
      "0.038604   15.2985  1.19748 .. 0.0 ...          0.0         0.0          0.0\n",
      "0.039089   13.9384 2.2342 .. 2.239 ...          0.0         0.0          0.0\n",
      "0.039271  -10.4644  1.85301 .. 0.0 ...          0.0         0.0          0.0\n",
      "0.047549   14.9294 0.460089 .. 0.0 ...          0.0         0.0          0.0\n",
      "0.049839  0.040365 0.478335 .. 0.0 ...        0.575        0.75     0.988493\n",
      "0.051079 -0.539047  1.43683 .. 0.0 ...        1.425         1.5     0.995605\n",
      "0.054787   14.1763 0.949563 .. 0.0 ...          0.0         0.0          0.0\n",
      "0.057506 -0.913001  1.84086 .. 0.0 ...          0.0         0.0          0.0\n",
      "     ...       ...             ... ...          ...         ...          ...\n",
      " 359.983   28.5537      0.0 .. 0.0 ...          0.0         0.0          0.0\n",
      " 359.984   30.3402      0.0 .. 0.0 ...          0.0         0.0          0.0\n",
      " 359.986   5.05014      0.0 .. 0.0 ...          0.0         0.0          0.0\n",
      " 359.991   25.8768      0.0 .. 0.0 ...          0.0         0.0          0.0\n",
      " 359.992   27.0474      0.0 .. 0.0 ...          0.0         0.0          0.0\n",
      " 359.994    13.078      0.0 .. 0.0 ...          0.0         0.0          0.0\n",
      " 359.994  -6.06671      0.0 .. 0.0 ...          0.0         0.0          0.0\n",
      " 359.994   22.7006      0.0 .. 0.0 ...          0.0         0.0          0.0\n",
      " 359.998   1.08431      0.0 .. 0.0 ...          0.0         0.0          0.0\n",
      " 359.999   27.7726      0.0 .. 0.0 ...          0.0         0.0          0.0\n"
     ]
    }
   ],
   "source": [
    "reload(pbuild)\n",
    "meta = pbuild.mk_meta(flux_files, fname=True)"
   ]
  },
  {
   "cell_type": "code",
   "execution_count": 14,
   "metadata": {
    "collapsed": true
   },
   "outputs": [],
   "source": [
    "?range"
   ]
  },
  {
   "cell_type": "code",
   "execution_count": null,
   "metadata": {
    "collapsed": true
   },
   "outputs": [],
   "source": []
  }
 ],
 "metadata": {
  "kernelspec": {
   "display_name": "Python 2",
   "language": "python",
   "name": "python2"
  },
  "language_info": {
   "codemirror_mode": {
    "name": "ipython",
    "version": 2
   },
   "file_extension": ".py",
   "mimetype": "text/x-python",
   "name": "python",
   "nbconvert_exporter": "python",
   "pygments_lexer": "ipython2",
   "version": "2.7.11"
  }
 },
 "nbformat": 4,
 "nbformat_minor": 0
}
