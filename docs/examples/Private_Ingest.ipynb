{
 "cells": [
  {
   "cell_type": "markdown",
   "metadata": {},
   "source": [
    "# Ingesting Private Datasets (v1.0)"
   ]
  },
  {
   "cell_type": "code",
   "execution_count": 1,
   "metadata": {
    "collapsed": false
   },
   "outputs": [],
   "source": [
    "# imports\n",
    "from igmspec.privatedb import build as pbuild"
   ]
  },
  {
   "cell_type": "markdown",
   "metadata": {},
   "source": [
    "## Test on Single Folder"
   ]
  },
  {
   "cell_type": "code",
   "execution_count": 2,
   "metadata": {
    "collapsed": true
   },
   "outputs": [],
   "source": [
    "tree = os.getenv('DROPBOX_DIR')+'/QSOPairs/data/MMT_redux/'"
   ]
  },
  {
   "cell_type": "code",
   "execution_count": 3,
   "metadata": {
    "collapsed": false
   },
   "outputs": [
    {
     "data": {
      "text/plain": [
       "87"
      ]
     },
     "execution_count": 3,
     "metadata": {},
     "output_type": "execute_result"
    }
   ],
   "source": [
    "reload(pbuild)\n",
    "flux_files = pbuild.grab_files(tree)\n",
    "len(flux_files)"
   ]
  },
  {
   "cell_type": "code",
   "execution_count": 4,
   "metadata": {
    "collapsed": false
   },
   "outputs": [
    {
     "data": {
      "text/plain": [
       "[u'/u/xavier/Dropbox//QSOPairs/data/MMT_redux/./SDSSJ001605.89+005654.3_b800_F.fits',\n",
       " u'/u/xavier/Dropbox//QSOPairs/data/MMT_redux/./SDSSJ001607.27+005653.1_b800_F.fits',\n",
       " u'/u/xavier/Dropbox//QSOPairs/data/MMT_redux/./SDSSJ001743.07+050327.3_b500_F.fits',\n",
       " u'/u/xavier/Dropbox//QSOPairs/data/MMT_redux/./SDSSJ001744.13+050334.8_b500_F.fits',\n",
       " u'/u/xavier/Dropbox//QSOPairs/data/MMT_redux/./SDSSJ001807.36+161257.5_b500_F.fits']"
      ]
     },
     "execution_count": 4,
     "metadata": {},
     "output_type": "execute_result"
    }
   ],
   "source": [
    "flux_files[:5]"
   ]
  },
  {
   "cell_type": "markdown",
   "metadata": {},
   "source": [
    "## Directory Tree"
   ]
  },
  {
   "cell_type": "code",
   "execution_count": 5,
   "metadata": {
    "collapsed": true
   },
   "outputs": [],
   "source": [
    "tree2 = os.getenv('DROPBOX_DIR')+'/QSOPairs/data/'"
   ]
  },
  {
   "cell_type": "code",
   "execution_count": 6,
   "metadata": {
    "collapsed": false
   },
   "outputs": [
    {
     "data": {
      "text/plain": [
       "25451"
      ]
     },
     "execution_count": 6,
     "metadata": {},
     "output_type": "execute_result"
    }
   ],
   "source": [
    "reload(pbuild)\n",
    "mflux_files = pbuild.grab_files(tree2)\n",
    "len(mflux_files)"
   ]
  },
  {
   "cell_type": "code",
   "execution_count": null,
   "metadata": {
    "collapsed": false
   },
   "outputs": [
    {
     "data": {
      "text/plain": [
       "[u'/u/xavier/Dropbox//QSOPairs/data/BOSS/BOSSLyaDR9_cat.fits.gz',\n",
       " u'/u/xavier/Dropbox//QSOPairs/data/BOSS/BOSSLyaDR9_cat.fits.gz',\n",
       " u'/u/xavier/Dropbox//QSOPairs/data/ESI_redux/SDSSJ001813.89+142455.6_F.fits.gz',\n",
       " u'/u/xavier/Dropbox//QSOPairs/data/ESI_redux/SDSSJ002801.18-104933.9_F.fits.gz',\n",
       " u'/u/xavier/Dropbox//QSOPairs/data/ESI_redux/SDSSJ002802.61-104936.1_F.fits.gz']"
      ]
     },
     "execution_count": 7,
     "metadata": {},
     "output_type": "execute_result"
    }
   ],
   "source": [
    "mflux_files[:5]"
   ]
  },
  {
   "cell_type": "markdown",
   "metadata": {},
   "source": [
    "## Meta"
   ]
  },
  {
   "cell_type": "code",
   "execution_count": null,
   "metadata": {
    "collapsed": false
   },
   "outputs": [
    {
     "name": "stdout",
     "output_type": "stream",
     "text": [
      "Using /u/xavier/local/Python/igmspec/DB/IGMspec_DB_v01.hdf5 for the catalog file\n",
      "Using /u/xavier/local/Python/igmspec/DB/IGMspec_DB_v01.hdf5 for the DB file\n",
      "Available surveys: [u'GGG']\n",
      "> /Users/xavier/local/Python/igmspec/igmspec/cat_utils.py(51)zem_from_radec()\n",
      "-> return zem, zsource\n",
      "(Pdb) zem\n",
      "<Column name='RA' dtype='float64' length=87>\n",
      "2.39499998093\n",
      "2.59719920158\n",
      "2.77344179153\n",
      "2.77245926857\n",
      "3.13771748543\n",
      "3.12667798996\n",
      "          0.0\n",
      " 2.4430000782\n",
      "  2.367000103\n",
      "2.37099266052\n",
      "2.68784451485\n",
      "          0.0\n",
      "          ...\n",
      "2.54099988937\n",
      "2.45799994469\n",
      "2.37829399109\n",
      "          0.0\n",
      "2.38599991798\n",
      "2.37700009346\n",
      "          0.0\n",
      "2.89564609528\n",
      "2.95710468292\n",
      "3.11717629433\n",
      "2.39226603508\n",
      "2.39199995995\n",
      "(Pdb) zsource\n",
      "array([u'BOSS', u'BOSS', u'BOSS', u'BOSS', u'BOSS', u'BOSS', u'NONENONE',\n",
      "       u'BOSS', u'BOSS', u'BOSS', u'BOSS', u'NONENONE', u'BOSS', u'BOSS',\n",
      "       u'BOSS', u'BOSS', u'BOSS', u'BOSS', u'BOSS', u'BOSS', u'BOSS',\n",
      "       u'BOSS', u'BOSS', u'BOSS', u'BOSS', u'NONENONE', u'BOSS', u'BOSS',\n",
      "       u'BOSS', u'BOSS', u'SDSS-HW', u'BOSS', u'BOSS', u'SDSS-HW', u'BOSS',\n",
      "       u'VCV', u'SDSS-HW', u'BOSS', u'NONENONE', u'BOSS', u'BOSS', u'BOSS',\n",
      "       u'SDSS-HW', u'NONENONE', u'NONENONE', u'BOSS', u'BOSS', u'SDSS-HW',\n",
      "       u'VCV', u'NONENONE', u'SDSS-HW', u'BOSS', u'SDSS-HW', u'BOSS',\n",
      "       u'NONENONE', u'2QZ', u'BOSS', u'BOSS', u'NONENONE', u'BOSS',\n",
      "       u'BOSS', u'BOSS', u'BOSS', u'NONENONE', u'BOSS', u'BOSS', u'VCV',\n",
      "       u'BOSS', u'BOSS', u'SDSS-HW', u'PAPOVICH', u'BOSS', u'SDSS-HW',\n",
      "       u'BOSS', u'BOSS', u'BOSS', u'BOSS', u'SDSS-HW', u'NONENONE',\n",
      "       u'BOSS', u'BOSS', u'NONENONE', u'BOSS', u'BOSS', u'BOSS', u'BOSS',\n",
      "       u'BOSS'], \n",
      "      dtype='<U8')\n",
      "(Pdb) d2d\n",
      "<Angle [  1.48053182e-05,  2.09059760e-05,  2.02362703e-05,\n",
      "          1.32061299e-05,  4.01785627e-05,  2.63110637e-05,\n",
      "          2.29003438e-03,  1.98317120e-05,  1.54423187e-05,\n",
      "          9.30643866e-06,  3.88092690e-05,  3.27286859e-03,\n",
      "          1.27490867e-05,  1.05067809e-05,  3.98215754e-07,\n",
      "          1.34539232e-05,  1.81540516e-05,  2.15791256e-05,\n",
      "          1.61020717e-05,  2.00810657e-05,  4.60561339e-05,\n",
      "          2.82403456e-05,  1.52029346e-05,  2.88874432e-05,\n",
      "          7.30021755e-07,  2.67756569e-03,  3.61290504e-05,\n",
      "          4.21622777e-05,  1.13049309e-05,  2.05834066e-05,\n",
      "          4.93801549e-05,  1.51442238e-05,  2.06563951e-05,\n",
      "          1.96141042e-05,  1.38092423e-05,  1.14615829e-04,\n",
      "          1.25602044e-04,  1.54822726e-05,  2.00127284e-03,\n",
      "          2.15168363e-05,  1.48655070e-05,  1.92628755e-05,\n",
      "          1.45963065e-05,  5.86395577e-02,  6.50927748e-02,\n",
      "          2.96606300e-05,  1.86620708e-05,  7.82438177e-05,\n",
      "          1.09448219e-04,  9.26240565e-03,  6.54167599e-05,\n",
      "          2.81944305e-05,  1.42528022e-05,  3.52837026e-05,\n",
      "          3.69435094e-03,  4.73500180e-05,  2.39978385e-05,\n",
      "          2.31116990e-05,  9.16513753e-04,  3.56381053e-05,\n",
      "          9.58504670e-06,  5.05939074e-06,  1.97059839e-05,\n",
      "          5.93808918e-04,  6.83613915e-06,  1.60872327e-05,\n",
      "          2.68049953e-05,  1.91293631e-05,  2.83004821e-05,\n",
      "          2.58346051e-05,  2.57938849e-05,  2.79123271e-05,\n",
      "          2.79294497e-05,  3.47011938e-04,  1.24879413e-04,\n",
      "          2.27863844e-05,  1.29205809e-05,  2.11701137e-05,\n",
      "          2.45974241e-03,  8.05165869e-06,  1.75278130e-05,\n",
      "          1.04120137e-03,  2.49918860e-05,  2.86159859e-05,\n",
      "          3.72117186e-05,  1.35967283e-05,  1.97912074e-05] deg>\n",
      "(Pdb) d2d.to('arcsec')\n",
      "<Angle [  5.32991456e-02,  7.52615137e-02,  7.28505731e-02,\n",
      "          4.75420677e-02,  1.44642826e-01,  9.47198292e-02,\n",
      "          8.24412377e+00,  7.13941630e-02,  5.55923472e-02,\n",
      "          3.35031792e-02,  1.39713368e-01,  1.17823269e+01,\n",
      "          4.58967122e-02,  3.78244111e-02,  1.43357671e-03,\n",
      "          4.84341233e-02,  6.53545858e-02,  7.76848522e-02,\n",
      "          5.79674582e-02,  7.22918366e-02,  1.65802082e-01,\n",
      "          1.01665244e-01,  5.47305645e-02,  1.03994795e-01,\n",
      "          2.62807832e-03,  9.63923648e+00,  1.30064581e-01,\n",
      "          1.51784200e-01,  4.06977513e-02,  7.41002638e-02,\n",
      "          1.77768558e-01,  5.45192058e-02,  7.43630224e-02,\n",
      "          7.06107750e-02,  4.97132724e-02,  4.12616985e-01,\n",
      "          4.52167357e-01,  5.57361812e-02,  7.20458224e+00,\n",
      "          7.74606107e-02,  5.35158252e-02,  6.93463516e-02,\n",
      "          5.25467034e-02,  2.11102408e+02,  2.34333989e+02,\n",
      "          1.06778268e-01,  6.71834548e-02,  2.81677744e-01,\n",
      "          3.94013588e-01,  3.33446603e+01,  2.35500336e-01,\n",
      "          1.01499950e-01,  5.13100878e-02,  1.27021329e-01,\n",
      "          1.32996634e+01,  1.70460065e-01,  8.63922187e-02,\n",
      "          8.32021162e-02,  3.29944951e+00,  1.28297179e-01,\n",
      "          3.45061681e-02,  1.82138067e-02,  7.09415421e-02,\n",
      "          2.13771211e+00,  2.46101009e-02,  5.79140377e-02,\n",
      "          9.64979831e-02,  6.88657070e-02,  1.01881736e-01,\n",
      "          9.30045784e-02,  9.28579855e-02,  1.00484377e-01,\n",
      "          1.00546019e-01,  1.24924298e+00,  4.49565886e-01,\n",
      "          8.20309838e-02,  4.65140913e-02,  7.62124094e-02,\n",
      "          8.85507267e+00,  2.89859713e-02,  6.31001267e-02,\n",
      "          3.74832495e+00,  8.99707897e-02,  1.03017549e-01,\n",
      "          1.33962187e-01,  4.89482219e-02,  7.12483466e-02] arcsec>\n"
     ]
    }
   ],
   "source": [
    "reload(pbuild)\n",
    "meta = pbuild.mk_meta(flux_files, fname=True)"
   ]
  },
  {
   "cell_type": "code",
   "execution_count": null,
   "metadata": {
    "collapsed": true
   },
   "outputs": [],
   "source": []
  }
 ],
 "metadata": {
  "kernelspec": {
   "display_name": "Python 2",
   "language": "python",
   "name": "python2"
  },
  "language_info": {
   "codemirror_mode": {
    "name": "ipython",
    "version": 2
   },
   "file_extension": ".py",
   "mimetype": "text/x-python",
   "name": "python",
   "nbconvert_exporter": "python",
   "pygments_lexer": "ipython2",
   "version": "2.7.11"
  }
 },
 "nbformat": 4,
 "nbformat_minor": 0
}
