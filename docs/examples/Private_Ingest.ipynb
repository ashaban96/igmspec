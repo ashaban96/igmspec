{
 "cells": [
  {
   "cell_type": "markdown",
   "metadata": {},
   "source": [
    "# Ingesting Private Datasets"
   ]
  },
  {
   "cell_type": "code",
   "execution_count": 1,
   "metadata": {
    "collapsed": true
   },
   "outputs": [],
   "source": [
    "# imports\n",
    "from igmspec.privatedb import build as pbuild"
   ]
  },
  {
   "cell_type": "markdown",
   "metadata": {},
   "source": [
    "## Test on Single Folder"
   ]
  },
  {
   "cell_type": "code",
   "execution_count": 2,
   "metadata": {
    "collapsed": true
   },
   "outputs": [],
   "source": [
    "tree = os.getenv('DROPBOX_DIR')+'/QSOPairs/data/MMT_redux/'"
   ]
  },
  {
   "cell_type": "code",
   "execution_count": 16,
   "metadata": {
    "collapsed": false
   },
   "outputs": [
    {
     "data": {
      "text/plain": [
       "87"
      ]
     },
     "execution_count": 16,
     "metadata": {},
     "output_type": "execute_result"
    }
   ],
   "source": [
    "reload(pbuild)\n",
    "flux_files = pbuild.grab_files(tree)\n",
    "len(flux_files)"
   ]
  },
  {
   "cell_type": "code",
   "execution_count": 17,
   "metadata": {
    "collapsed": false
   },
   "outputs": [
    {
     "data": {
      "text/plain": [
       "[u'/u/xavier/Dropbox//QSOPairs/data/MMT_redux/./SDSSJ001605.89+005654.3_b800_F.fits',\n",
       " u'/u/xavier/Dropbox//QSOPairs/data/MMT_redux/./SDSSJ001607.27+005653.1_b800_F.fits',\n",
       " u'/u/xavier/Dropbox//QSOPairs/data/MMT_redux/./SDSSJ001743.07+050327.3_b500_F.fits',\n",
       " u'/u/xavier/Dropbox//QSOPairs/data/MMT_redux/./SDSSJ001744.13+050334.8_b500_F.fits',\n",
       " u'/u/xavier/Dropbox//QSOPairs/data/MMT_redux/./SDSSJ001807.36+161257.5_b500_F.fits']"
      ]
     },
     "execution_count": 17,
     "metadata": {},
     "output_type": "execute_result"
    }
   ],
   "source": [
    "flux_files[:5]"
   ]
  },
  {
   "cell_type": "markdown",
   "metadata": {},
   "source": [
    "## Directory Tree"
   ]
  },
  {
   "cell_type": "code",
   "execution_count": 9,
   "metadata": {
    "collapsed": true
   },
   "outputs": [],
   "source": [
    "tree2 = os.getenv('DROPBOX_DIR')+'/QSOPairs/data/'"
   ]
  },
  {
   "cell_type": "code",
   "execution_count": 14,
   "metadata": {
    "collapsed": false
   },
   "outputs": [
    {
     "data": {
      "text/plain": [
       "25451"
      ]
     },
     "execution_count": 14,
     "metadata": {},
     "output_type": "execute_result"
    }
   ],
   "source": [
    "reload(pbuild)\n",
    "flux_files = pbuild.grab_files(tree2)\n",
    "len(flux_files)"
   ]
  },
  {
   "cell_type": "code",
   "execution_count": 15,
   "metadata": {
    "collapsed": false
   },
   "outputs": [
    {
     "data": {
      "text/plain": [
       "[u'/u/xavier/Dropbox//QSOPairs/data/BOSS/BOSSLyaDR9_cat.fits.gz',\n",
       " u'/u/xavier/Dropbox//QSOPairs/data/BOSS/BOSSLyaDR9_cat.fits.gz',\n",
       " u'/u/xavier/Dropbox//QSOPairs/data/ESI_redux/SDSSJ001813.89+142455.6_F.fits.gz',\n",
       " u'/u/xavier/Dropbox//QSOPairs/data/ESI_redux/SDSSJ002801.18-104933.9_F.fits.gz',\n",
       " u'/u/xavier/Dropbox//QSOPairs/data/ESI_redux/SDSSJ002802.61-104936.1_F.fits.gz']"
      ]
     },
     "execution_count": 15,
     "metadata": {},
     "output_type": "execute_result"
    }
   ],
   "source": [
    "flux_files[:5]"
   ]
  },
  {
   "cell_type": "code",
   "execution_count": null,
   "metadata": {
    "collapsed": true
   },
   "outputs": [],
   "source": []
  }
 ],
 "metadata": {
  "kernelspec": {
   "display_name": "Python 2",
   "language": "python",
   "name": "python2"
  },
  "language_info": {
   "codemirror_mode": {
    "name": "ipython",
    "version": 2
   },
   "file_extension": ".py",
   "mimetype": "text/x-python",
   "name": "python",
   "nbconvert_exporter": "python",
   "pygments_lexer": "ipython2",
   "version": "2.7.11"
  }
 },
 "nbformat": 4,
 "nbformat_minor": 0
}
