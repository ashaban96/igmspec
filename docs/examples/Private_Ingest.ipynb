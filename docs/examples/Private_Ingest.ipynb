{
 "cells": [
  {
   "cell_type": "markdown",
   "metadata": {},
   "source": [
    "# Ingesting Private Datasets (v1.2)"
   ]
  },
  {
   "cell_type": "code",
   "execution_count": 1,
   "metadata": {
    "collapsed": false
   },
   "outputs": [],
   "source": [
    "# imports\n",
    "import h5py\n",
    "from igmspec.privatedb import build as pbuild"
   ]
  },
  {
   "cell_type": "markdown",
   "metadata": {},
   "source": [
    "## Test on Single Folder"
   ]
  },
  {
   "cell_type": "code",
   "execution_count": 2,
   "metadata": {
    "collapsed": true
   },
   "outputs": [],
   "source": [
    "tree = os.getenv('DROPBOX_DIR')+'/QSOPairs/data/MMT_redux/'"
   ]
  },
  {
   "cell_type": "code",
   "execution_count": 3,
   "metadata": {
    "collapsed": false
   },
   "outputs": [
    {
     "data": {
      "text/plain": [
       "87"
      ]
     },
     "execution_count": 3,
     "metadata": {},
     "output_type": "execute_result"
    }
   ],
   "source": [
    "reload(pbuild)\n",
    "flux_files = pbuild.grab_files(tree)\n",
    "len(flux_files)"
   ]
  },
  {
   "cell_type": "code",
   "execution_count": 4,
   "metadata": {
    "collapsed": false
   },
   "outputs": [
    {
     "data": {
      "text/plain": [
       "[u'/u/xavier/Dropbox//QSOPairs/data/MMT_redux//./SDSSJ001605.89+005654.3_b800_F.fits',\n",
       " u'/u/xavier/Dropbox//QSOPairs/data/MMT_redux//./SDSSJ001607.27+005653.1_b800_F.fits',\n",
       " u'/u/xavier/Dropbox//QSOPairs/data/MMT_redux//./SDSSJ001743.07+050327.3_b500_F.fits',\n",
       " u'/u/xavier/Dropbox//QSOPairs/data/MMT_redux//./SDSSJ001744.13+050334.8_b500_F.fits',\n",
       " u'/u/xavier/Dropbox//QSOPairs/data/MMT_redux//./SDSSJ001807.36+161257.5_b500_F.fits']"
      ]
     },
     "execution_count": 4,
     "metadata": {},
     "output_type": "execute_result"
    }
   ],
   "source": [
    "flux_files[:5]"
   ]
  },
  {
   "cell_type": "markdown",
   "metadata": {},
   "source": [
    "## Directory Tree"
   ]
  },
  {
   "cell_type": "code",
   "execution_count": 5,
   "metadata": {
    "collapsed": true
   },
   "outputs": [],
   "source": [
    "tree2 = os.getenv('DROPBOX_DIR')+'/QSOPairs/data/'"
   ]
  },
  {
   "cell_type": "code",
   "execution_count": 6,
   "metadata": {
    "collapsed": false
   },
   "outputs": [
    {
     "data": {
      "text/plain": [
       "25451"
      ]
     },
     "execution_count": 6,
     "metadata": {},
     "output_type": "execute_result"
    }
   ],
   "source": [
    "reload(pbuild)\n",
    "mflux_files = pbuild.grab_files(tree2)\n",
    "len(mflux_files)"
   ]
  },
  {
   "cell_type": "code",
   "execution_count": 7,
   "metadata": {
    "collapsed": false
   },
   "outputs": [
    {
     "data": {
      "text/plain": [
       "[u'/u/xavier/Dropbox//QSOPairs/data/BOSS/BOSSLyaDR9_cat.fits.gz',\n",
       " u'/u/xavier/Dropbox//QSOPairs/data/BOSS/BOSSLyaDR9_cat.fits.gz',\n",
       " u'/u/xavier/Dropbox//QSOPairs/data/ESI_redux/SDSSJ001813.89+142455.6_F.fits.gz',\n",
       " u'/u/xavier/Dropbox//QSOPairs/data/ESI_redux/SDSSJ002801.18-104933.9_F.fits.gz',\n",
       " u'/u/xavier/Dropbox//QSOPairs/data/ESI_redux/SDSSJ002802.61-104936.1_F.fits.gz']"
      ]
     },
     "execution_count": 7,
     "metadata": {},
     "output_type": "execute_result"
    }
   ],
   "source": [
    "mflux_files[:5]"
   ]
  },
  {
   "cell_type": "markdown",
   "metadata": {},
   "source": [
    "## Meta"
   ]
  },
  {
   "cell_type": "code",
   "execution_count": 19,
   "metadata": {
    "collapsed": false
   },
   "outputs": [
    {
     "name": "stdout",
     "output_type": "stream",
     "text": [
      "Using /u/xavier/local/Python/igmspec/DB/IGMspec_DB_v01.hdf5 for the catalog file\n",
      "Using /u/xavier/local/Python/igmspec/DB/IGMspec_DB_v01.hdf5 for the DB file\n",
      "Available surveys: [u'BOSS_DR12', u'GGG', u'HD-LLS_DR1', u'KODIAQ_DR1', u'SDSS_DR7']\n"
     ]
    }
   ],
   "source": [
    "reload(pbuild)\n",
    "meta = pbuild.mk_meta(flux_files, 0, fname=True, skip_badz=True, mdict=dict(INSTR='MMT'))"
   ]
  },
  {
   "cell_type": "code",
   "execution_count": 20,
   "metadata": {
    "collapsed": false
   },
   "outputs": [
    {
     "data": {
      "text/html": [
       "&lt;Table length=3&gt;\n",
       "<table id=\"table4779972304\">\n",
       "<thead><tr><th>sig_zem</th><th>flag_zem</th><th>flag_survey</th><th>PRIV_ID</th><th>zem</th><th>RA</th><th>DEC</th><th>IGM_ID</th><th>STYPE</th><th>SPEC_FILE</th><th>INSTR</th><th>EPOCH</th><th>R</th><th>SURVEY_ID</th><th>GRATING</th><th>TELESCOPE</th></tr></thead>\n",
       "<thead><tr><th>float64</th><th>str9</th><th>int64</th><th>int64</th><th>float64</th><th>float64</th><th>float64</th><th>int64</th><th>str3</th><th>unicode81</th><th>str3</th><th>float64</th><th>unicode5</th><th>unicode5</th><th>unicode5</th><th>unicode5</th></tr></thead>\n",
       "<tr><td>0.0</td><td>BOSS</td><td>1</td><td>1</td><td>2.39499998093</td><td>4.02454166667</td><td>0.948416666667</td><td>4636</td><td>QSO</td><td>/u/xavier/Dropbox//QSOPairs/data/MMT_redux//./SDSSJ001605.89+005654.3_b800_F.fits</td><td>MMT</td><td>2000.0</td><td>DUMMY</td><td>DUMMY</td><td>DUMMY</td><td>DUMMY</td></tr>\n",
       "<tr><td>0.0</td><td>BOSS</td><td>1</td><td>2</td><td>2.59719920158</td><td>4.03029166667</td><td>0.948083333333</td><td>4645</td><td>QSO</td><td>/u/xavier/Dropbox//QSOPairs/data/MMT_redux//./SDSSJ001607.27+005653.1_b800_F.fits</td><td>MMT</td><td>2000.0</td><td>DUMMY</td><td>DUMMY</td><td>DUMMY</td><td>DUMMY</td></tr>\n",
       "<tr><td>0.0</td><td>BOSS</td><td>1</td><td>3</td><td>2.77344179153</td><td>4.42945833333</td><td>5.05758333333</td><td>5056</td><td>QSO</td><td>/u/xavier/Dropbox//QSOPairs/data/MMT_redux//./SDSSJ001743.07+050327.3_b500_F.fits</td><td>MMT</td><td>2000.0</td><td>DUMMY</td><td>DUMMY</td><td>DUMMY</td><td>DUMMY</td></tr>\n",
       "</table>"
      ],
      "text/plain": [
       "<Table length=3>\n",
       "sig_zem flag_zem flag_survey PRIV_ID ...    R     SURVEY_ID GRATING  TELESCOPE\n",
       "float64   str9      int64     int64  ... unicode5  unicode5 unicode5  unicode5\n",
       "------- -------- ----------- ------- ... -------- --------- -------- ---------\n",
       "    0.0     BOSS           1       1 ...    DUMMY     DUMMY    DUMMY     DUMMY\n",
       "    0.0     BOSS           1       2 ...    DUMMY     DUMMY    DUMMY     DUMMY\n",
       "    0.0     BOSS           1       3 ...    DUMMY     DUMMY    DUMMY     DUMMY"
      ]
     },
     "execution_count": 20,
     "metadata": {},
     "output_type": "execute_result"
    }
   ],
   "source": [
    "meta[0:3]"
   ]
  },
  {
   "cell_type": "markdown",
   "metadata": {},
   "source": [
    "## Spectra"
   ]
  },
  {
   "cell_type": "code",
   "execution_count": 12,
   "metadata": {
    "collapsed": true
   },
   "outputs": [],
   "source": [
    "hdf = h5py.File('tmp.hdf5','w')"
   ]
  },
  {
   "cell_type": "code",
   "execution_count": 13,
   "metadata": {
    "collapsed": false
   },
   "outputs": [
    {
     "name": "stdout",
     "output_type": "stream",
     "text": [
      "Adding test survey to DB\n"
     ]
    },
    {
     "name": "stderr",
     "output_type": "stream",
     "text": [
      "/Users/xavier/local/Python/igmspec/igmspec/ingest/utils.py:51: UserWarning: unicode in column SPEC_FILE.  Will convert to str for hdf5\n",
      "  warnings.warn(\"unicode in column {:s}.  Will convert to str for hdf5\".format(key))\n",
      "/Users/xavier/local/Python/igmspec/igmspec/ingest/utils.py:51: UserWarning: unicode in column GRATING.  Will convert to str for hdf5\n",
      "  warnings.warn(\"unicode in column {:s}.  Will convert to str for hdf5\".format(key))\n",
      "/Users/xavier/local/Python/igmspec/igmspec/ingest/utils.py:51: UserWarning: unicode in column INSTR.  Will convert to str for hdf5\n",
      "  warnings.warn(\"unicode in column {:s}.  Will convert to str for hdf5\".format(key))\n",
      "/Users/xavier/local/Python/igmspec/igmspec/ingest/utils.py:51: UserWarning: unicode in column TELESCOPE.  Will convert to str for hdf5\n",
      "  warnings.warn(\"unicode in column {:s}.  Will convert to str for hdf5\".format(key))\n"
     ]
    }
   ],
   "source": [
    "reload(pbuild)\n",
    "pbuild.ingest_spectra(hdf, 'test', meta)"
   ]
  },
  {
   "cell_type": "code",
   "execution_count": 14,
   "metadata": {
    "collapsed": true
   },
   "outputs": [],
   "source": [
    "hdf.close()"
   ]
  },
  {
   "cell_type": "markdown",
   "metadata": {
    "collapsed": true
   },
   "source": [
    "## All in One"
   ]
  },
  {
   "cell_type": "code",
   "execution_count": 1,
   "metadata": {
    "collapsed": true
   },
   "outputs": [],
   "source": [
    "from igmspec.privatedb import build as pbuild"
   ]
  },
  {
   "cell_type": "code",
   "execution_count": 2,
   "metadata": {
    "collapsed": true
   },
   "outputs": [],
   "source": [
    "tree = os.getenv('DROPBOX_DIR')+'/QSOPairs/data/MMT_redux/'"
   ]
  },
  {
   "cell_type": "code",
   "execution_count": 5,
   "metadata": {
    "collapsed": false
   },
   "outputs": [
    {
     "name": "stdout",
     "output_type": "stream",
     "text": [
      "Working on tree: /u/xavier/Dropbox//QSOPairs/data/MMT_redux/\n",
      "Using /u/xavier/local/Python/igmspec/DB/IGMspec_DB_v01.hdf5 for the catalog file\n",
      "Using /u/xavier/local/Python/igmspec/DB/IGMspec_DB_v01.hdf5 for the DB file\n",
      "Available surveys: [u'BOSS_DR12', u'GGG', u'HD-LLS_DR1', u'KODIAQ_DR1', u'SDSS_DR7']\n",
      "Adding test survey to DB\n",
      "Wrote tmp.hdf5 DB file\n"
     ]
    }
   ],
   "source": [
    "reload(pbuild)\n",
    "pbuild.mk_db([tree], ['test'], 'tmp.hdf5',fname=True, skip_badz=True, mdict=dict(INSTR='MMT'))"
   ]
  },
  {
   "cell_type": "code",
   "execution_count": 6,
   "metadata": {
    "collapsed": true
   },
   "outputs": [],
   "source": [
    "from astropy.time import Time"
   ]
  },
  {
   "cell_type": "code",
   "execution_count": 10,
   "metadata": {
    "collapsed": true
   },
   "outputs": [],
   "source": [
    "t = Time('2013-07-11T19:12:27',format='isot', out_subfmt='date')"
   ]
  },
  {
   "cell_type": "code",
   "execution_count": 11,
   "metadata": {
    "collapsed": false
   },
   "outputs": [
    {
     "data": {
      "text/plain": [
       "'2013-07-11'"
      ]
     },
     "execution_count": 11,
     "metadata": {},
     "output_type": "execute_result"
    }
   ],
   "source": [
    "t.isot"
   ]
  },
  {
   "cell_type": "code",
   "execution_count": null,
   "metadata": {
    "collapsed": true
   },
   "outputs": [],
   "source": []
  }
 ],
 "metadata": {
  "kernelspec": {
   "display_name": "Python 2",
   "language": "python",
   "name": "python2"
  },
  "language_info": {
   "codemirror_mode": {
    "name": "ipython",
    "version": 2
   },
   "file_extension": ".py",
   "mimetype": "text/x-python",
   "name": "python",
   "nbconvert_exporter": "python",
   "pygments_lexer": "ipython2",
   "version": "2.7.11"
  }
 },
 "nbformat": 4,
 "nbformat_minor": 0
}
