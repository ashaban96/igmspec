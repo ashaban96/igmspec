{
 "cells": [
  {
   "cell_type": "markdown",
   "metadata": {},
   "source": [
    "# Notebook for HIRES DLA 100 systems from Neeleman+13"
   ]
  },
  {
   "cell_type": "code",
   "execution_count": 20,
   "metadata": {
    "collapsed": true
   },
   "outputs": [],
   "source": [
    "# imports\n",
    "import shutil\n",
    "\n",
    "from pyigm.surveys.dlasurvey import DLASurvey"
   ]
  },
  {
   "cell_type": "markdown",
   "metadata": {},
   "source": [
    "## Load DLAs"
   ]
  },
  {
   "cell_type": "code",
   "execution_count": 35,
   "metadata": {
    "collapsed": false
   },
   "outputs": [
    {
     "name": "stdout",
     "output_type": "stream",
     "text": [
      "Read 100 files from Lists/Neeleman13.lst in the tree /u/xavier/DLA/\n"
     ]
    }
   ],
   "source": [
    "hdla100 = DLASurvey.neeleman13_tree()"
   ]
  },
  {
   "cell_type": "code",
   "execution_count": 36,
   "metadata": {
    "collapsed": false
   },
   "outputs": [
    {
     "data": {
      "text/plain": [
       "array([<DLASystem: 02:09:44.52 05:17:17.3, 3.6662, NHI=20.45, Z/H=-1.836>,\n",
       "       <DLASystem: 02:09:44.52 05:17:17.3, 3.86355, NHI=20.55, Z/H=-2.546>,\n",
       "       <DLASystem: 09:57:44.47 33:08:23.46, 3.27958, NHI=20.45, Z/H=-1.08>,\n",
       "       <DLASystem: 09:57:44.47 33:08:23.46, 4.17983, NHI=20.7, Z/H=-1.456>,\n",
       "       <DLASystem: 11:35:08.03 22:27:06.8, 2.78347, NHI=21, Z/H=-1.902>], dtype=object)"
      ]
     },
     "execution_count": 36,
     "metadata": {},
     "output_type": "execute_result"
    }
   ],
   "source": [
    "hdla100.abs_sys()[0:5]"
   ]
  },
  {
   "cell_type": "markdown",
   "metadata": {},
   "source": [
    "### Check"
   ]
  },
  {
   "cell_type": "code",
   "execution_count": 37,
   "metadata": {
    "collapsed": false
   },
   "outputs": [
    {
     "data": {
      "text/plain": [
       "u'/HIRES/RedData/PSS0209+0517/PSS0209+0517a_f.fits'"
      ]
     },
     "execution_count": 37,
     "metadata": {},
     "output_type": "execute_result"
    }
   ],
   "source": [
    "dla0 = hdla100._abs_sys[0]\n",
    "dla0._datdict['hi res file']"
   ]
  },
  {
   "cell_type": "code",
   "execution_count": 38,
   "metadata": {
    "collapsed": false
   },
   "outputs": [
    {
     "data": {
      "text/plain": [
       "u'PSS0209+05_z3.666'"
      ]
     },
     "execution_count": 38,
     "metadata": {},
     "output_type": "execute_result"
    }
   ],
   "source": [
    "dla0.name"
   ]
  },
  {
   "cell_type": "markdown",
   "metadata": {},
   "source": [
    "## Push spectra to RAW_IGMSPEC"
   ]
  },
  {
   "cell_type": "code",
   "execution_count": 39,
   "metadata": {
    "collapsed": true
   },
   "outputs": [],
   "source": [
    "inpath = '/Users/xavier/Dropbox/Keck/'\n",
    "outpath = os.getenv('RAW_IGMSPEC')+'/HDLA100/'"
   ]
  },
  {
   "cell_type": "code",
   "execution_count": 40,
   "metadata": {
    "collapsed": false
   },
   "outputs": [],
   "source": [
    "for dla in hdla100._abs_sys:\n",
    "    # Flux\n",
    "    flux_fil = inpath+dla._datdict['hi res file']\n",
    "    shutil.copy2(flux_fil, outpath)\n",
    "    # Error\n",
    "    err_fil = flux_fil.replace('f.fits', 'e.fits')\n",
    "    shutil.copy2(err_fil, outpath)\n",
    "    # \n",
    "    #print('Copied {:s} and {:s}'.format(flux_fil, err_fil))"
   ]
  },
  {
   "cell_type": "markdown",
   "metadata": {},
   "source": [
    "## Meta"
   ]
  },
  {
   "cell_type": "code",
   "execution_count": 45,
   "metadata": {
    "collapsed": false
   },
   "outputs": [
    {
     "data": {
      "text/plain": [
       "array([ 4.17   ,  4.17   ,  4.25   ,  4.25   ,  2.885  ,  3.297  ,\n",
       "        2.917  ,  3.15   ,  4.18   ,  2.912  ,  2.29   ,  2.61   ,\n",
       "        2.08   ,  2.56   ,  2.56   ,  3.02   ,  4.56   ,  3.17   ,\n",
       "        4.69   ,  2.992  ,  2.78   ,  4.11   ,  4.53   ,  2.69   ,\n",
       "        2.43   ,  3.97   ,  3.97   ,  3.2    ,  3.23   ,  3.22   ,\n",
       "        2.67   ,  2.7    ,  2.5    ,  2.5    ,  3.29   ,  4.37   ,\n",
       "        4.37   ,  4.43   ,  4.405  ,  3.12   ,  3.92   ,  1.99   ,\n",
       "        2.54   ,  2.92   ,  3.99   ,  4.41   ,  3.05   ,  2.15   ,\n",
       "        2.09   ,  3.014  ,  3.014  ,  2.94   ,  2.8    ,  2.8    ,\n",
       "        4.976  ,  4.432  ,  4.389  ,  3.846  ,  4.253  ,  4.899  ,\n",
       "        4.8206 ,  4.707  ,  3.364  ,  4.73   ,  4.579  ,  4.579  ,\n",
       "        5.292  ,  2.9775 ,  2.9775 ,  2.9149 ,  4.611  ,  2.553  ,\n",
       "        4.678  ,  4.798  ,  3.88   ,  3.09358,  3.404  ,  3.404  ,\n",
       "        3.125  ,  2.9884 ,  2.921  ,  3.107  ,  3.206  ,  3.206  ,\n",
       "        2.58   ,  3.39   ,  2.913  ,  3.61   ,  2.318  ,  3.42   ,\n",
       "        4.13   ,  2.31   ,  3.561  ,  2.763  ,  2.79   ,  2.785  ,\n",
       "        5.292  ,  2.3    ,  3.475  ,  2.64   ])"
      ]
     },
     "execution_count": 45,
     "metadata": {},
     "output_type": "execute_result"
    }
   ],
   "source": [
    "hdla100.zem"
   ]
  },
  {
   "cell_type": "code",
   "execution_count": null,
   "metadata": {
    "collapsed": true
   },
   "outputs": [],
   "source": []
  }
 ],
 "metadata": {
  "kernelspec": {
   "display_name": "Python 2",
   "language": "python",
   "name": "python2"
  },
  "language_info": {
   "codemirror_mode": {
    "name": "ipython",
    "version": 2
   },
   "file_extension": ".py",
   "mimetype": "text/x-python",
   "name": "python",
   "nbconvert_exporter": "python",
   "pygments_lexer": "ipython2",
   "version": "2.7.11"
  }
 },
 "nbformat": 4,
 "nbformat_minor": 0
}
