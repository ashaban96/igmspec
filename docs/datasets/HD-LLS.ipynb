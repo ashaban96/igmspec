{
 "cells": [
  {
   "cell_type": "markdown",
   "metadata": {},
   "source": [
    "# Ingesting the HD-LLS Data"
   ]
  },
  {
   "cell_type": "code",
   "execution_count": 16,
   "metadata": {
    "collapsed": true
   },
   "outputs": [],
   "source": [
    "# imports\n",
    "import tarfile\n",
    "from astropy.io import fits\n",
    "import pdb"
   ]
  },
  {
   "cell_type": "markdown",
   "metadata": {},
   "source": [
    "## Meta"
   ]
  },
  {
   "cell_type": "code",
   "execution_count": 18,
   "metadata": {
    "collapsed": false
   },
   "outputs": [
    {
     "data": {
      "text/html": [
       "&lt;Table length=157&gt;\n",
       "<table id=\"table4557489232\">\n",
       "<thead><tr><th>Name</th><th>QSO</th><th>RA</th><th>DEC</th><th>Z_QSO</th><th>Z_LLS</th><th>logNHI</th><th>sig(logNHI) [2]</th><th>SPEC_FILES [5]</th></tr></thead>\n",
       "<thead><tr><th></th><th></th><th>deg</th><th>deg</th><th></th><th></th><th></th><th></th><th></th></tr></thead>\n",
       "<thead><tr><th>str33</th><th>str19</th><th>float64</th><th>float64</th><th>float64</th><th>float64</th><th>float64</th><th>float64</th><th>str37</th></tr></thead>\n",
       "<tr><td>HD-LLS_J000345.00-232346.5_z2.187</td><td>Q0001-2340</td><td>0.9375</td><td>-23.39625</td><td>2.262</td><td>2.1871</td><td>19.65</td><td>0.15 .. 0.15</td><td>HD-LLS_J000345.00-232346.5_MIKE.fits .. NULL</td></tr>\n",
       "<tr><td>HD-LLS_J003454.80+163920.0_z3.754</td><td>PX0034+16</td><td>8.72833333333</td><td>16.6555555556</td><td>4.29</td><td>3.75397</td><td>20.05</td><td>0.2 .. 0.2</td><td>HD-LLS_J003454.80+163920.0_ESI.fits .. NULL</td></tr>\n",
       "<tr><td>HD-LLS_J004049.50-402514.0_z2.816</td><td>Q0038-4041</td><td>10.20625</td><td>-40.4205555556</td><td>2.977</td><td>2.81609</td><td>17.55</td><td>0.15 .. 0.15</td><td>HD-LLS_J004049.50-402514.0_MAGE.fits .. NULL</td></tr>\n",
       "<tr><td>HD-LLS_J010355.30-300946.0_z2.908</td><td>Q0101-304</td><td>15.9804166667</td><td>-30.1627777778</td><td>3.137</td><td>2.90818</td><td>19.1</td><td>0.15 .. 0.15</td><td>HD-LLS_J010355.30-300946.0_MIKE.fits .. NULL</td></tr>\n",
       "<tr><td>HD-LLS_J010516.80-184642.0_z2.927</td><td>UM669</td><td>16.32</td><td>-18.7783333333</td><td>3.041</td><td>2.92695</td><td>20.0</td><td>0.2 .. 0.2</td><td>HD-LLS_J010516.80-184642.0_MAGE.fits .. NULL</td></tr>\n",
       "<tr><td>HD-LLS_J010619.24+004823.3_z4.172</td><td>SDSS0106+0048</td><td>16.5801666667</td><td>0.806472222222</td><td>4.433</td><td>4.17157</td><td>19.05</td><td>0.2 .. 0.2</td><td>HD-LLS_J010619.24+004823.3_MIKE.fits .. NULL</td></tr>\n",
       "<tr><td>HD-LLS_J010619.24+004823.3_z3.321</td><td>SDSS0106+0048</td><td>16.5801666667</td><td>0.806472222222</td><td>4.433</td><td>3.321</td><td>19.1</td><td>0.2 .. 0.2</td><td>HD-LLS_J010619.24+004823.3_MIKE.fits .. NULL</td></tr>\n",
       "<tr><td>HD-LLS_J010619.24+004823.3_z3.286</td><td>SDSS0106+0048</td><td>16.5801666667</td><td>0.806472222222</td><td>4.433</td><td>3.28622</td><td>19.05</td><td>0.25 .. 0.25</td><td>HD-LLS_J010619.24+004823.3_MIKE.fits .. NULL</td></tr>\n",
       "<tr><td>HD-LLS_J012156.03+144823.8_z2.662</td><td>SDSS0121+1448</td><td>20.4834583333</td><td>14.8066111111</td><td>2.87</td><td>2.66231</td><td>19.25</td><td>0.2 .. 0.15</td><td>HD-LLS_J012156.03+144823.8_HIRES.fits .. NULL</td></tr>\n",
       "<tr><td>...</td><td>...</td><td>...</td><td>...</td><td>...</td><td>...</td><td>...</td><td>...</td><td>...</td></tr>\n",
       "<tr><td>HD-LLS_J231543.56+145606.0_z3.135</td><td>SDSS2315+1456</td><td>348.9315</td><td>14.935</td><td>3.377</td><td>3.13502</td><td>19.95</td><td>0.15 .. 0.15</td><td>HD-LLS_J231543.56+145606.0_HIRES.fits .. NULL</td></tr>\n",
       "<tr><td>HD-LLS_J231543.56+145606.0_z2.943</td><td>SDSS2315+1456</td><td>348.9315</td><td>14.935</td><td>3.377</td><td>2.94298</td><td>18.8</td><td>0.3 .. 0.3</td><td>HD-LLS_J231543.56+145606.0_HIRES.fits .. NULL</td></tr>\n",
       "<tr><td>HD-LLS_J231643.20-334912.0_z2.386</td><td>HE2314-3405</td><td>349.18</td><td>-33.82</td><td>2.962</td><td>2.38599</td><td>19.0</td><td>0.2 .. 0.2</td><td>HD-LLS_J231643.20-334912.0_MIKE.fits .. NULL</td></tr>\n",
       "<tr><td>HD-LLS_J231934.77-104036.9_z2.675</td><td>SDSSJ2319-1040</td><td>349.894875</td><td>-10.6769166667</td><td>3.18</td><td>2.67497</td><td>19.45</td><td>0.15 .. 0.15</td><td>HD-LLS_J231934.77-104036.9_MAGE.fits .. NULL</td></tr>\n",
       "<tr><td>HD-LLS_J232340.90+275800.0_z3.565</td><td>PSS2323+2758</td><td>350.920416667</td><td>27.9666666667</td><td>4.131</td><td>3.56495</td><td>19.25</td><td>0.45 .. 0.25</td><td>HD-LLS_J232340.90+275800.0_ESI.fits .. NULL</td></tr>\n",
       "<tr><td>HD-LLS_J232340.90+275800.0_z3.267</td><td>PSS2323+2758</td><td>350.920416667</td><td>27.9666666667</td><td>4.131</td><td>3.26701</td><td>19.4</td><td>0.8 .. 0.4</td><td>HD-LLS_J232340.90+275800.0_ESI.fits .. NULL</td></tr>\n",
       "<tr><td>HD-LLS_J233446.40-090812.3_z3.226</td><td>SDSSJ2334-0908</td><td>353.693333333</td><td>-9.13675</td><td>3.317</td><td>3.226</td><td>17.7</td><td>0.1 .. 0.3</td><td>HD-LLS_J233446.40-090812.3_MAGE.fits .. NULL</td></tr>\n",
       "<tr><td>HD-LLS_J234855.40-144436.6_z2.775</td><td>HE2348-1444</td><td>357.230833333</td><td>-14.7435</td><td>2.925</td><td>2.77511</td><td>17.5</td><td>0.2 .. 0.2</td><td>HD-LLS_J234855.40-144436.6_MIKE.fits .. NULL</td></tr>\n",
       "<tr><td>HD-LLS_J235057.87-005209.9_z2.930</td><td>UM184</td><td>357.741125</td><td>-0.869416666667</td><td>3.021</td><td>2.93012</td><td>18.5</td><td>1.1 .. 0.4</td><td>HD-LLS_J235057.87-005209.9_MAGE.fits .. NULL</td></tr>\n",
       "<tr><td>HD-LLS_J235833.50-544042.0_z2.895</td><td>HE2355-5457</td><td>359.639583333</td><td>-54.6783333333</td><td>2.904</td><td>2.89488</td><td>17.4</td><td>0.2 .. 0.2</td><td>HD-LLS_J235833.50-544042.0_MIKE.fits .. NULL</td></tr>\n",
       "</table>"
      ],
      "text/plain": [
       "<Table length=157>\n",
       "               Name               ...\n",
       "                                  ...\n",
       "              str33               ...\n",
       "--------------------------------- ...\n",
       "HD-LLS_J000345.00-232346.5_z2.187 ...\n",
       "HD-LLS_J003454.80+163920.0_z3.754 ...\n",
       "HD-LLS_J004049.50-402514.0_z2.816 ...\n",
       "HD-LLS_J010355.30-300946.0_z2.908 ...\n",
       "HD-LLS_J010516.80-184642.0_z2.927 ...\n",
       "HD-LLS_J010619.24+004823.3_z4.172 ...\n",
       "HD-LLS_J010619.24+004823.3_z3.321 ...\n",
       "HD-LLS_J010619.24+004823.3_z3.286 ...\n",
       "HD-LLS_J012156.03+144823.8_z2.662 ...\n",
       "                              ... ...\n",
       "HD-LLS_J231543.56+145606.0_z3.135 ...\n",
       "HD-LLS_J231543.56+145606.0_z2.943 ...\n",
       "HD-LLS_J231643.20-334912.0_z2.386 ...\n",
       "HD-LLS_J231934.77-104036.9_z2.675 ...\n",
       "HD-LLS_J232340.90+275800.0_z3.565 ...\n",
       "HD-LLS_J232340.90+275800.0_z3.267 ...\n",
       "HD-LLS_J233446.40-090812.3_z3.226 ...\n",
       "HD-LLS_J234855.40-144436.6_z2.775 ...\n",
       "HD-LLS_J235057.87-005209.9_z2.930 ...\n",
       "HD-LLS_J235833.50-544042.0_z2.895 ..."
      ]
     },
     "execution_count": 18,
     "metadata": {},
     "output_type": "execute_result"
    }
   ],
   "source": [
    "meta = Table.read('/u/xavier/Raw_IGMspec/HD-LLS_DR1.fits.gz')\n",
    "meta"
   ]
  },
  {
   "cell_type": "markdown",
   "metadata": {
    "collapsed": false
   },
   "source": [
    "## Test reading tarball of spectra files"
   ]
  },
  {
   "cell_type": "code",
   "execution_count": 20,
   "metadata": {
    "collapsed": false
   },
   "outputs": [
    {
     "name": "stdout",
     "output_type": "stream",
     "text": [
      "Skipping a likely folder: Spectra\n",
      "> <ipython-input-20-1f16a855443e>(11)<module>()\n",
      "-> abssys = system.from_dict(tdict)\n",
      "(Pdb) f\n",
      "<tarfile.ExFileObject object at 0x110fee810>\n",
      "(Pdb) f.name\n",
      "'Spectra/HD-LLS_J000345.00-232346.5_z2.187_MIKE.fits'\n",
      "(Pdb) exit\n"
     ]
    },
    {
     "ename": "BdbQuit",
     "evalue": "",
     "output_type": "error",
     "traceback": [
      "\u001b[0;31m---------------------------------------------------------------------------\u001b[0m",
      "\u001b[0;31mBdbQuit\u001b[0m                                   Traceback (most recent call last)",
      "\u001b[0;32m<ipython-input-20-1f16a855443e>\u001b[0m in \u001b[0;36m<module>\u001b[0;34m()\u001b[0m\n\u001b[1;32m      9\u001b[0m     \u001b[0mpdb\u001b[0m\u001b[0;34m.\u001b[0m\u001b[0mset_trace\u001b[0m\u001b[0;34m(\u001b[0m\u001b[0;34m)\u001b[0m\u001b[0;34m\u001b[0m\u001b[0m\n\u001b[1;32m     10\u001b[0m     \u001b[0;31m# Generate\u001b[0m\u001b[0;34m\u001b[0m\u001b[0;34m\u001b[0m\u001b[0m\n\u001b[0;32m---> 11\u001b[0;31m     \u001b[0mabssys\u001b[0m \u001b[0;34m=\u001b[0m \u001b[0msystem\u001b[0m\u001b[0;34m.\u001b[0m\u001b[0mfrom_dict\u001b[0m\u001b[0;34m(\u001b[0m\u001b[0mtdict\u001b[0m\u001b[0;34m)\u001b[0m\u001b[0;34m\u001b[0m\u001b[0m\n\u001b[0m\u001b[1;32m     12\u001b[0m     \u001b[0msurvey\u001b[0m\u001b[0;34m.\u001b[0m\u001b[0m_abs_sys\u001b[0m\u001b[0;34m.\u001b[0m\u001b[0mappend\u001b[0m\u001b[0;34m(\u001b[0m\u001b[0mabssys\u001b[0m\u001b[0;34m)\u001b[0m\u001b[0;34m\u001b[0m\u001b[0m\n\u001b[1;32m     13\u001b[0m \u001b[0mtar\u001b[0m\u001b[0;34m.\u001b[0m\u001b[0mclose\u001b[0m\u001b[0;34m(\u001b[0m\u001b[0;34m)\u001b[0m\u001b[0;34m\u001b[0m\u001b[0m\n",
      "\u001b[0;32m<ipython-input-20-1f16a855443e>\u001b[0m in \u001b[0;36m<module>\u001b[0;34m()\u001b[0m\n\u001b[1;32m      9\u001b[0m     \u001b[0mpdb\u001b[0m\u001b[0;34m.\u001b[0m\u001b[0mset_trace\u001b[0m\u001b[0;34m(\u001b[0m\u001b[0;34m)\u001b[0m\u001b[0;34m\u001b[0m\u001b[0m\n\u001b[1;32m     10\u001b[0m     \u001b[0;31m# Generate\u001b[0m\u001b[0;34m\u001b[0m\u001b[0;34m\u001b[0m\u001b[0m\n\u001b[0;32m---> 11\u001b[0;31m     \u001b[0mabssys\u001b[0m \u001b[0;34m=\u001b[0m \u001b[0msystem\u001b[0m\u001b[0;34m.\u001b[0m\u001b[0mfrom_dict\u001b[0m\u001b[0;34m(\u001b[0m\u001b[0mtdict\u001b[0m\u001b[0;34m)\u001b[0m\u001b[0;34m\u001b[0m\u001b[0m\n\u001b[0m\u001b[1;32m     12\u001b[0m     \u001b[0msurvey\u001b[0m\u001b[0;34m.\u001b[0m\u001b[0m_abs_sys\u001b[0m\u001b[0;34m.\u001b[0m\u001b[0mappend\u001b[0m\u001b[0;34m(\u001b[0m\u001b[0mabssys\u001b[0m\u001b[0;34m)\u001b[0m\u001b[0;34m\u001b[0m\u001b[0m\n\u001b[1;32m     13\u001b[0m \u001b[0mtar\u001b[0m\u001b[0;34m.\u001b[0m\u001b[0mclose\u001b[0m\u001b[0;34m(\u001b[0m\u001b[0;34m)\u001b[0m\u001b[0;34m\u001b[0m\u001b[0m\n",
      "\u001b[0;32m/Users/xavier/anaconda/lib/python2.7/bdb.pyc\u001b[0m in \u001b[0;36mtrace_dispatch\u001b[0;34m(self, frame, event, arg)\u001b[0m\n\u001b[1;32m     47\u001b[0m             \u001b[0;32mreturn\u001b[0m \u001b[0;31m# None\u001b[0m\u001b[0;34m\u001b[0m\u001b[0m\n\u001b[1;32m     48\u001b[0m         \u001b[0;32mif\u001b[0m \u001b[0mevent\u001b[0m \u001b[0;34m==\u001b[0m \u001b[0;34m'line'\u001b[0m\u001b[0;34m:\u001b[0m\u001b[0;34m\u001b[0m\u001b[0m\n\u001b[0;32m---> 49\u001b[0;31m             \u001b[0;32mreturn\u001b[0m \u001b[0mself\u001b[0m\u001b[0;34m.\u001b[0m\u001b[0mdispatch_line\u001b[0m\u001b[0;34m(\u001b[0m\u001b[0mframe\u001b[0m\u001b[0;34m)\u001b[0m\u001b[0;34m\u001b[0m\u001b[0m\n\u001b[0m\u001b[1;32m     50\u001b[0m         \u001b[0;32mif\u001b[0m \u001b[0mevent\u001b[0m \u001b[0;34m==\u001b[0m \u001b[0;34m'call'\u001b[0m\u001b[0;34m:\u001b[0m\u001b[0;34m\u001b[0m\u001b[0m\n\u001b[1;32m     51\u001b[0m             \u001b[0;32mreturn\u001b[0m \u001b[0mself\u001b[0m\u001b[0;34m.\u001b[0m\u001b[0mdispatch_call\u001b[0m\u001b[0;34m(\u001b[0m\u001b[0mframe\u001b[0m\u001b[0;34m,\u001b[0m \u001b[0marg\u001b[0m\u001b[0;34m)\u001b[0m\u001b[0;34m\u001b[0m\u001b[0m\n",
      "\u001b[0;32m/Users/xavier/anaconda/lib/python2.7/bdb.pyc\u001b[0m in \u001b[0;36mdispatch_line\u001b[0;34m(self, frame)\u001b[0m\n\u001b[1;32m     66\u001b[0m         \u001b[0;32mif\u001b[0m \u001b[0mself\u001b[0m\u001b[0;34m.\u001b[0m\u001b[0mstop_here\u001b[0m\u001b[0;34m(\u001b[0m\u001b[0mframe\u001b[0m\u001b[0;34m)\u001b[0m \u001b[0;32mor\u001b[0m \u001b[0mself\u001b[0m\u001b[0;34m.\u001b[0m\u001b[0mbreak_here\u001b[0m\u001b[0;34m(\u001b[0m\u001b[0mframe\u001b[0m\u001b[0;34m)\u001b[0m\u001b[0;34m:\u001b[0m\u001b[0;34m\u001b[0m\u001b[0m\n\u001b[1;32m     67\u001b[0m             \u001b[0mself\u001b[0m\u001b[0;34m.\u001b[0m\u001b[0muser_line\u001b[0m\u001b[0;34m(\u001b[0m\u001b[0mframe\u001b[0m\u001b[0;34m)\u001b[0m\u001b[0;34m\u001b[0m\u001b[0m\n\u001b[0;32m---> 68\u001b[0;31m             \u001b[0;32mif\u001b[0m \u001b[0mself\u001b[0m\u001b[0;34m.\u001b[0m\u001b[0mquitting\u001b[0m\u001b[0;34m:\u001b[0m \u001b[0;32mraise\u001b[0m \u001b[0mBdbQuit\u001b[0m\u001b[0;34m\u001b[0m\u001b[0m\n\u001b[0m\u001b[1;32m     69\u001b[0m         \u001b[0;32mreturn\u001b[0m \u001b[0mself\u001b[0m\u001b[0;34m.\u001b[0m\u001b[0mtrace_dispatch\u001b[0m\u001b[0;34m\u001b[0m\u001b[0m\n\u001b[1;32m     70\u001b[0m \u001b[0;34m\u001b[0m\u001b[0m\n",
      "\u001b[0;31mBdbQuit\u001b[0m: "
     ]
    }
   ],
   "source": [
    "tar = tarfile.open('/u/xavier/Raw_IGMspec/HD-LLS_DR1_spectra.tar.gz')\n",
    "for member in tar.getmembers():\n",
    "    if '.' not in member.name:\n",
    "        print('Skipping a likely folder: {:s}'.format(member.name))\n",
    "        continue\n",
    "    # Extract\n",
    "    f = tar.extractfile(member)\n",
    "    hdu = fits.open(f)\n",
    "    pdb.set_trace()\n",
    "    # Generate\n",
    "    abssys = system.from_dict(tdict)\n",
    "    survey._abs_sys.append(abssys)\n",
    "tar.close()"
   ]
  },
  {
   "cell_type": "code",
   "execution_count": 19,
   "metadata": {
    "collapsed": true
   },
   "outputs": [],
   "source": [
    "?np.unique"
   ]
  },
  {
   "cell_type": "code",
   "execution_count": null,
   "metadata": {
    "collapsed": true
   },
   "outputs": [],
   "source": [
    "0.01/ 100"
   ]
  }
 ],
 "metadata": {
  "kernelspec": {
   "display_name": "Python 2",
   "language": "python",
   "name": "python2"
  },
  "language_info": {
   "codemirror_mode": {
    "name": "ipython",
    "version": 2
   },
   "file_extension": ".py",
   "mimetype": "text/x-python",
   "name": "python",
   "nbconvert_exporter": "python",
   "pygments_lexer": "ipython2",
   "version": "2.7.11"
  }
 },
 "nbformat": 4,
 "nbformat_minor": 0
}
