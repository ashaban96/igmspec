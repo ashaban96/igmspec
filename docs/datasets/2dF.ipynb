{
 "cells": [
  {
   "cell_type": "markdown",
   "metadata": {},
   "source": [
    "# 2dF Quasars (and 6dF)"
   ]
  },
  {
   "cell_type": "code",
   "execution_count": 1,
   "metadata": {
    "collapsed": true
   },
   "outputs": [],
   "source": [
    "# imports"
   ]
  },
  {
   "cell_type": "markdown",
   "metadata": {},
   "source": [
    "## Catalog\n",
    "\n",
    "    See file:///Users/xavier/Raw_IGMspec/2dF/2df/html/catalogue.html"
   ]
  },
  {
   "cell_type": "code",
   "execution_count": 4,
   "metadata": {
    "collapsed": true
   },
   "outputs": [],
   "source": [
    "catfil = os.getenv('RAW_IGMSPEC')+'/2dF/2df/cat/2QZ_6QZ_pubcat.txt'"
   ]
  },
  {
   "cell_type": "code",
   "execution_count": 5,
   "metadata": {
    "collapsed": false
   },
   "outputs": [],
   "source": [
    "cat = Table.read(catfil,format='ascii')"
   ]
  },
  {
   "cell_type": "code",
   "execution_count": 6,
   "metadata": {
    "collapsed": false
   },
   "outputs": [
    {
     "data": {
      "text/html": [
       "&lt;Table length=3&gt;\n",
       "<table id=\"table4511295440\">\n",
       "<thead><tr><th>col1</th><th>col2</th><th>col3</th><th>col4</th><th>col5</th><th>col6</th><th>col7</th><th>col8</th><th>col9</th><th>col10</th><th>col11</th><th>col12</th><th>col13</th><th>col14</th><th>col15</th><th>col16</th><th>col17</th><th>col18</th><th>col19</th><th>col20</th><th>col21</th><th>col22</th><th>col23</th><th>col24</th><th>col25</th><th>col26</th><th>col27</th><th>col28</th><th>col29</th><th>col30</th><th>col31</th><th>col32</th><th>col33</th><th>col34</th><th>col35</th><th>col36</th><th>col37</th><th>col38</th><th>col39</th><th>col40</th><th>col41</th><th>col42</th><th>col43</th><th>col44</th><th>col45</th></tr></thead>\n",
       "<thead><tr><th>str16</th><th>int64</th><th>int64</th><th>float64</th><th>int64</th><th>int64</th><th>float64</th><th>int64</th><th>str10</th><th>str25</th><th>int64</th><th>int64</th><th>float64</th><th>int64</th><th>int64</th><th>float64</th><th>int64</th><th>float64</th><th>float64</th><th>float64</th><th>float64</th><th>float64</th><th>float64</th><th>float64</th><th>int64</th><th>float64</th><th>int64</th><th>str9</th><th>float64</th><th>float64</th><th>int64</th><th>float64</th><th>float64</th><th>int64</th><th>str9</th><th>float64</th><th>float64</th><th>int64</th><th>float64</th><th>float64</th><th>float64</th><th>float64</th><th>float64</th><th>str20</th><th>str20</th></tr></thead>\n",
       "<tr><td>J120437.7-021003</td><td>12</td><td>4</td><td>37.74</td><td>-2</td><td>10</td><td>2.5</td><td>8563</td><td>TQN178_110</td><td>N_178_179_244_245_314</td><td>12</td><td>2</td><td>3.93</td><td>-1</td><td>53</td><td>21.4</td><td>859</td><td>-3498.82</td><td>11949.93</td><td>3.1506051</td><td>-0.03297412</td><td>20.834</td><td>-0.074</td><td>-10.377</td><td>4</td><td>0.0</td><td>11</td><td>star</td><td>20010524.0</td><td>2442.0</td><td>17</td><td>4.1</td><td>0.0</td><td>22</td><td>star?</td><td>20000604.0</td><td>1791.0</td><td>84</td><td>1.62</td><td>0.0</td><td>0.0</td><td>0.0</td><td>0.02627</td><td>-</td><td>-</td></tr>\n",
       "<tr><td>J120310.0-025755</td><td>12</td><td>3</td><td>10.09</td><td>-2</td><td>57</td><td>54.2</td><td>8573</td><td>TQN178_111</td><td>N_178_244</td><td>12</td><td>0</td><td>36.29</td><td>-2</td><td>41</td><td>12.8</td><td>859</td><td>-1051.86</td><td>17295.65</td><td>3.14423174</td><td>-0.04689506</td><td>20.224</td><td>-0.229</td><td>-0.612</td><td>3</td><td>0.9174</td><td>11</td><td>QSO</td><td>20010524.0</td><td>2441.0</td><td>168</td><td>3.89</td><td>0.9113</td><td>11</td><td>QSO</td><td>20000624.0</td><td>2441.0</td><td>167</td><td>0.41</td><td>0.0</td><td>0.0</td><td>0.0</td><td>0.02606</td><td>-</td><td>-</td></tr>\n",
       "<tr><td>J120450.2-025534</td><td>12</td><td>4</td><td>50.21</td><td>-2</td><td>55</td><td>34.0</td><td>8597</td><td>TQN178_112</td><td>N_178_179_244</td><td>12</td><td>2</td><td>16.39</td><td>-2</td><td>38</td><td>52.6</td><td>859</td><td>-3844.88</td><td>17035.11</td><td>3.15151121</td><td>-0.04621535</td><td>20.833</td><td>-1.143</td><td>-10.378</td><td>3</td><td>0.0</td><td>11</td><td>star</td><td>20010524.0</td><td>2441.0</td><td>187</td><td>5.1</td><td>0.0</td><td>22</td><td>star?</td><td>19990522.0</td><td>1782.0</td><td>189</td><td>2.51</td><td>0.0</td><td>0.0</td><td>0.0</td><td>0.02589</td><td>-</td><td>-</td></tr>\n",
       "</table>"
      ],
      "text/plain": [
       "<Table length=3>\n",
       "      col1        col2  col3   col4   col5 ...  col42   col43  col44 col45\n",
       "     str16       int64 int64 float64 int64 ... float64 float64 str20 str20\n",
       "---------------- ----- ----- ------- ----- ... ------- ------- ----- -----\n",
       "J120437.7-021003    12     4   37.74    -2 ...     0.0 0.02627     -     -\n",
       "J120310.0-025755    12     3   10.09    -2 ...     0.0 0.02606     -     -\n",
       "J120450.2-025534    12     4   50.21    -2 ...     0.0 0.02589     -     -"
      ]
     },
     "execution_count": 6,
     "metadata": {},
     "output_type": "execute_result"
    }
   ],
   "source": [
    "cat[0:3]"
   ]
  },
  {
   "cell_type": "markdown",
   "metadata": {},
   "source": [
    "### Rename columns"
   ]
  },
  {
   "cell_type": "code",
   "execution_count": 7,
   "metadata": {
    "collapsed": true
   },
   "outputs": [],
   "source": [
    "clms = ['Name', 'RAh00', 'RAm00', 'RAs00', 'DECd00', 'DECm00', 'DECs00',\n",
    "       'ID','cat_name', 'Sector', 'RAh50', 'RAm50', 'RAs50', 'DECd50', 'DECm50', 'DECs50',\n",
    "       'UKST', 'XAPM','YAPM','RA50','DEC50','bj','u-b','b-r','Nobs',\n",
    "       'z1','q1','ID1','date1','fld1','fiber1','SN1',\n",
    "       'z2','q2','ID2','date2','fld2','fiber2','SN2',\n",
    "        'zprev','rflux','Xray','EBV','comm1','comm2']"
   ]
  },
  {
   "cell_type": "code",
   "execution_count": 9,
   "metadata": {
    "collapsed": false
   },
   "outputs": [],
   "source": [
    "for ii in range(1,46):\n",
    "    cat.rename_column('col{:d}'.format(ii), clms[ii-1])"
   ]
  },
  {
   "cell_type": "code",
   "execution_count": 10,
   "metadata": {
    "collapsed": false
   },
   "outputs": [
    {
     "data": {
      "text/html": [
       "&lt;Table length=3&gt;\n",
       "<table id=\"table4691717328\">\n",
       "<thead><tr><th>Name</th><th>RAh00</th><th>RAm00</th><th>RAs00</th><th>DECd00</th><th>DECm00</th><th>DECs00</th><th>ID</th><th>cat_name</th><th>Sector</th><th>RAh50</th><th>RAm50</th><th>RAs50</th><th>DECd50</th><th>DECm50</th><th>DECs50</th><th>UKST</th><th>XAPM</th><th>YAPM</th><th>RA50</th><th>DEC50</th><th>bj</th><th>u-b</th><th>b-r</th><th>Nobs</th><th>z1</th><th>q1</th><th>ID1</th><th>date1</th><th>fld1</th><th>fiber1</th><th>SN1</th><th>z2</th><th>q2</th><th>ID2</th><th>date2</th><th>fld2</th><th>fiber2</th><th>SN2</th><th>zprev</th><th>rflux</th><th>Xray</th><th>EBV</th><th>comm1</th><th>comm2</th></tr></thead>\n",
       "<thead><tr><th>str16</th><th>int64</th><th>int64</th><th>float64</th><th>int64</th><th>int64</th><th>float64</th><th>int64</th><th>str10</th><th>str25</th><th>int64</th><th>int64</th><th>float64</th><th>int64</th><th>int64</th><th>float64</th><th>int64</th><th>float64</th><th>float64</th><th>float64</th><th>float64</th><th>float64</th><th>float64</th><th>float64</th><th>int64</th><th>float64</th><th>int64</th><th>str9</th><th>float64</th><th>float64</th><th>int64</th><th>float64</th><th>float64</th><th>int64</th><th>str9</th><th>float64</th><th>float64</th><th>int64</th><th>float64</th><th>float64</th><th>float64</th><th>float64</th><th>float64</th><th>str20</th><th>str20</th></tr></thead>\n",
       "<tr><td>J120437.7-021003</td><td>12</td><td>4</td><td>37.74</td><td>-2</td><td>10</td><td>2.5</td><td>8563</td><td>TQN178_110</td><td>N_178_179_244_245_314</td><td>12</td><td>2</td><td>3.93</td><td>-1</td><td>53</td><td>21.4</td><td>859</td><td>-3498.82</td><td>11949.93</td><td>3.1506051</td><td>-0.03297412</td><td>20.834</td><td>-0.074</td><td>-10.377</td><td>4</td><td>0.0</td><td>11</td><td>star</td><td>20010524.0</td><td>2442.0</td><td>17</td><td>4.1</td><td>0.0</td><td>22</td><td>star?</td><td>20000604.0</td><td>1791.0</td><td>84</td><td>1.62</td><td>0.0</td><td>0.0</td><td>0.0</td><td>0.02627</td><td>-</td><td>-</td></tr>\n",
       "<tr><td>J120310.0-025755</td><td>12</td><td>3</td><td>10.09</td><td>-2</td><td>57</td><td>54.2</td><td>8573</td><td>TQN178_111</td><td>N_178_244</td><td>12</td><td>0</td><td>36.29</td><td>-2</td><td>41</td><td>12.8</td><td>859</td><td>-1051.86</td><td>17295.65</td><td>3.14423174</td><td>-0.04689506</td><td>20.224</td><td>-0.229</td><td>-0.612</td><td>3</td><td>0.9174</td><td>11</td><td>QSO</td><td>20010524.0</td><td>2441.0</td><td>168</td><td>3.89</td><td>0.9113</td><td>11</td><td>QSO</td><td>20000624.0</td><td>2441.0</td><td>167</td><td>0.41</td><td>0.0</td><td>0.0</td><td>0.0</td><td>0.02606</td><td>-</td><td>-</td></tr>\n",
       "<tr><td>J120450.2-025534</td><td>12</td><td>4</td><td>50.21</td><td>-2</td><td>55</td><td>34.0</td><td>8597</td><td>TQN178_112</td><td>N_178_179_244</td><td>12</td><td>2</td><td>16.39</td><td>-2</td><td>38</td><td>52.6</td><td>859</td><td>-3844.88</td><td>17035.11</td><td>3.15151121</td><td>-0.04621535</td><td>20.833</td><td>-1.143</td><td>-10.378</td><td>3</td><td>0.0</td><td>11</td><td>star</td><td>20010524.0</td><td>2441.0</td><td>187</td><td>5.1</td><td>0.0</td><td>22</td><td>star?</td><td>19990522.0</td><td>1782.0</td><td>189</td><td>2.51</td><td>0.0</td><td>0.0</td><td>0.0</td><td>0.02589</td><td>-</td><td>-</td></tr>\n",
       "</table>"
      ],
      "text/plain": [
       "<Table length=3>\n",
       "      Name       RAh00 RAm00  RAs00  DECd00 ...   Xray    EBV   comm1 comm2\n",
       "     str16       int64 int64 float64 int64  ... float64 float64 str20 str20\n",
       "---------------- ----- ----- ------- ------ ... ------- ------- ----- -----\n",
       "J120437.7-021003    12     4   37.74     -2 ...     0.0 0.02627     -     -\n",
       "J120310.0-025755    12     3   10.09     -2 ...     0.0 0.02606     -     -\n",
       "J120450.2-025534    12     4   50.21     -2 ...     0.0 0.02589     -     -"
      ]
     },
     "execution_count": 10,
     "metadata": {},
     "output_type": "execute_result"
    }
   ],
   "source": [
    "cat[0:3]"
   ]
  },
  {
   "cell_type": "markdown",
   "metadata": {},
   "source": [
    "## FITS\n",
    "    Long or short?"
   ]
  },
  {
   "cell_type": "code",
   "execution_count": 13,
   "metadata": {
    "collapsed": true
   },
   "outputs": [],
   "source": [
    "exfits = os.getenv('RAW_IGMSPEC')+'/2dF/2df/fits/ra00_01/J002138.7-315323a.fits.gz'"
   ]
  },
  {
   "cell_type": "code",
   "execution_count": 14,
   "metadata": {
    "collapsed": false
   },
   "outputs": [
    {
     "name": "stdout",
     "output_type": "stream",
     "text": [
      "Filename: /u/xavier/Raw_IGMspec/2dF/2df/fits/ra00_01/J002138.7-315323a.fits.gz\n",
      "No.    Name         Type      Cards   Dimensions   Format\n",
      "0    PRIMARY     PrimaryHDU      69   (1024,)      int16 (rescales to float32)   \n"
     ]
    }
   ],
   "source": [
    "hdu = fits.open(exfits)\n",
    "hdu.info()"
   ]
  },
  {
   "cell_type": "code",
   "execution_count": null,
   "metadata": {
    "collapsed": true
   },
   "outputs": [],
   "source": []
  }
 ],
 "metadata": {
  "kernelspec": {
   "display_name": "Python 2",
   "language": "python",
   "name": "python2"
  },
  "language_info": {
   "codemirror_mode": {
    "name": "ipython",
    "version": 2
   },
   "file_extension": ".py",
   "mimetype": "text/x-python",
   "name": "python",
   "nbconvert_exporter": "python",
   "pygments_lexer": "ipython2",
   "version": "2.7.11"
  }
 },
 "nbformat": 4,
 "nbformat_minor": 0
}
