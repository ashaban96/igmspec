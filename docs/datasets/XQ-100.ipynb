{
 "cells": [
  {
   "cell_type": "markdown",
   "metadata": {},
   "source": [
    "# XQ-100 Dataset"
   ]
  },
  {
   "cell_type": "code",
   "execution_count": 3,
   "metadata": {
    "collapsed": true
   },
   "outputs": [],
   "source": [
    "# imports\n",
    "from astropy.coordinates import SkyCoord\n",
    "\n",
    "from igmspec.igmspec import IgmSpec"
   ]
  },
  {
   "cell_type": "markdown",
   "metadata": {},
   "source": [
    "## Meta file\n",
    "\n",
    "    Provided by S. Lopez on 18 July 2016\n",
    "    There is also one in the VLT database, but I've ignored it (probably should not have)"
   ]
  },
  {
   "cell_type": "code",
   "execution_count": 10,
   "metadata": {
    "collapsed": true
   },
   "outputs": [],
   "source": [
    "meta_file = os.getenv('RAW_IGMSPEC')+'/XQ-100/XQ100_v1_2.fits.gz'"
   ]
  },
  {
   "cell_type": "code",
   "execution_count": 11,
   "metadata": {
    "collapsed": false
   },
   "outputs": [
    {
     "name": "stderr",
     "output_type": "stream",
     "text": [
      "WARNING: UnitsWarning: '-' did not parse as fits unit: Invalid character at col 0 [astropy.units.core]\n",
      "WARNING: UnitsWarning: '[cm-2]' did not parse as fits unit: Invalid character at col 0 [astropy.units.core]\n"
     ]
    },
    {
     "data": {
      "text/html": [
       "&lt;Table masked=True length=5&gt;\n",
       "<table id=\"table4631577168\">\n",
       "<thead><tr><th>OBJ_NAME</th><th>RA</th><th>DEC</th><th>FILE_NAME</th><th>Z_QSO</th><th>ERR_ZQSO</th><th>N_OBS</th><th>MJD_OBS [3]</th><th>SEEING_START [3]</th><th>SEEING_END [3]</th><th>SNR_1700 [3]</th><th>SNR_3000 [3]</th><th>SNR_3600 [3]</th><th>CALIB_FLAG [3]</th><th>COMBINED_FLAG</th><th>COMBINED_SNR_17</th><th>COMBINED_SNR_30</th><th>COMBINED_SNR_36</th><th>HR_FLAG</th><th>JOHNSON_MAG [3]</th><th>SDSS_PSFMAG [5]</th><th>SDSS_ERR_PSFMAG [5]</th><th>DR7Q_MATCHED</th><th>PLATE_DR7Q</th><th>MJD_DR7Q</th><th>FIBER_DR7Q</th><th>DR12Q_MATCHED</th><th>N_DR12Q</th><th>PLATE_DR12Q [2]</th><th>MJD_DR12Q [2]</th><th>FIBER_DR12Q [2]</th><th>FIRST_MATCHED</th><th>FIRST_FLUX</th><th>FIRST_SNR</th><th>MATCHED_TMASS</th><th>TMASS_MAG [3]</th><th>TMASS_ERR_MAG [3]</th><th>TMASS_SNR [3]</th><th>RD_FLAG</th><th>MATCHED_WISE</th><th>WISE_MAG [4]</th><th>WISE_ERR_MAG [4]</th><th>WISE_SNR [4]</th><th>WISE_RCHI2 [4]</th><th>CC_FLAG</th><th>PH_QUAL</th><th>N_ABS</th><th>Z_ABS [4]</th><th>NHI_ABS [4]</th><th>ERR_NHI_ABS [4]</th></tr></thead>\n",
       "<thead><tr><th>-</th><th>deg</th><th>deg</th><th>-</th><th>-</th><th>-</th><th>-</th><th>-</th><th>arcsec</th><th>arcsec</th><th>-</th><th>-</th><th>-</th><th>-</th><th>-</th><th>-</th><th>-</th><th>-</th><th>-</th><th>-</th><th>-</th><th>-</th><th>-</th><th>-</th><th>-</th><th>-</th><th>-</th><th>-</th><th>-</th><th>-</th><th>-</th><th>-</th><th>mJy</th><th>-</th><th>-</th><th>-</th><th>-</th><th>-</th><th>-</th><th>-</th><th>-</th><th>-</th><th>-</th><th>-</th><th>-</th><th>-</th><th>-</th><th>-</th><th>[cm-2]</th><th>[cm-2]</th></tr></thead>\n",
       "<thead><tr><th>str24</th><th>float64</th><th>float64</th><th>str1</th><th>float32</th><th>float32</th><th>int32</th><th>float32</th><th>float32</th><th>float32</th><th>float64</th><th>float64</th><th>float64</th><th>float64</th><th>int16</th><th>float64</th><th>float64</th><th>float64</th><th>int16</th><th>float32</th><th>float64</th><th>float64</th><th>int16</th><th>int32</th><th>int32</th><th>int32</th><th>int16</th><th>int32</th><th>int32</th><th>int32</th><th>int32</th><th>int32</th><th>float64</th><th>float64</th><th>int16</th><th>float64</th><th>float64</th><th>float64</th><th>str3</th><th>int16</th><th>float64</th><th>float64</th><th>float64</th><th>float64</th><th>str4</th><th>str3</th><th>int16</th><th>float64</th><th>float64</th><th>float64</th></tr></thead>\n",
       "<tr><td>HB89 0000-263</td><td>0.844985</td><td>-26.0554</td><td>-</td><td>4.12544</td><td>0.0002136</td><td>1</td><td>56219.1 .. -1.0</td><td>0.98 .. -1.0</td><td>1.45 .. -1.0</td><td>78.5073013306 .. -1.0</td><td>99.202003479 .. -1.0</td><td>-1.0 .. -1.0</td><td>0.0 .. -1.0</td><td>0</td><td>-1.0</td><td>-1.0</td><td>-1.0</td><td>1</td><td>18.0 .. -1.0</td><td>-1.0 .. -1.0</td><td>-1.0 .. -1.0</td><td>0</td><td>-1</td><td>-1</td><td>-1</td><td>0</td><td>0</td><td>-1 .. -1</td><td>-1 .. -1</td><td>-1 .. -1</td><td>-1</td><td>0.0</td><td>0.0</td><td>1</td><td>16.2700004578 .. 14.7779998779</td><td>0.11400000006 .. 0.107000000775</td><td>9.80000019073 .. 9.69999980927</td><td>222</td><td>1</td><td>13.9270000458 .. 7.47700023651</td><td>0.0280000008643 .. 0.134000003338</td><td>39.0 .. 8.10000038147</td><td>1.01900005341 .. 1.01800000668</td><td>0000</td><td>BCB</td><td>2</td><td>3.054500103 .. -1.0</td><td>20.2000007629 .. -1.0</td><td>0.10000000149 .. -1.0</td></tr>\n",
       "<tr><td>BR J0006-6208</td><td>1.715033</td><td>-62.13355</td><td>-</td><td>4.43995</td><td>0.00089465</td><td>1</td><td>56209.2 .. -1.0</td><td>1.05 .. -1.0</td><td>1.43 .. -1.0</td><td>19.7355003357 .. -1.0</td><td>22.1355991364 .. -1.0</td><td>-1.0 .. -1.0</td><td>2.0 .. -1.0</td><td>0</td><td>-1.0</td><td>-1.0</td><td>-1.0</td><td>1</td><td>-1.0 .. -1.0</td><td>-1.0 .. -1.0</td><td>-1.0 .. -1.0</td><td>0</td><td>-1</td><td>-1</td><td>-1</td><td>0</td><td>0</td><td>-1 .. -1</td><td>-1 .. -1</td><td>-1 .. -1</td><td>-1</td><td>0.0</td><td>0.0</td><td>0</td><td>-1.0 .. -1.0</td><td>-1.0 .. -1.0</td><td>-1.0 .. -1.0</td><td>-</td><td>1</td><td>15.1999998093 .. 8.34200000763</td><td>0.0340000018477 .. 0.287999987602</td><td>32.2000007629 .. 3.79999995232</td><td>0.882799983025 .. 0.972999989986</td><td>0000</td><td>-</td><td>3</td><td>3.20300006866 .. -1.0</td><td>20.8999996185 .. -1.0</td><td>0.10000000149 .. -1.0</td></tr>\n",
       "<tr><td>BR J0030-5159</td><td>7.643627</td><td>-51.49546</td><td>-</td><td>4.17286</td><td>0.00014623</td><td>1</td><td>56211.2 .. -1.0</td><td>0.82 .. -1.0</td><td>-1.0 .. -1.0</td><td>17.7509002686 .. -1.0</td><td>21.5370006561 .. -1.0</td><td>-1.0 .. -1.0</td><td>0.0 .. -1.0</td><td>0</td><td>-1.0</td><td>-1.0</td><td>-1.0</td><td>1</td><td>-1.0 .. -1.0</td><td>-1.0 .. -1.0</td><td>-1.0 .. -1.0</td><td>0</td><td>-1</td><td>-1</td><td>-1</td><td>0</td><td>0</td><td>-1 .. -1</td><td>-1 .. -1</td><td>-1 .. -1</td><td>-1</td><td>0.0</td><td>0.0</td><td>0</td><td>-1.0 .. -1.0</td><td>-1.0 .. -1.0</td><td>-1.0 .. -1.0</td><td>-</td><td>1</td><td>15.468000412 .. 8.77700042725</td><td>0.0370000004768 .. 0.0</td><td>29.7000007629 .. 0.0</td><td>0.965099990368 .. 0.0</td><td></td><td>-</td><td>0</td><td>-1.0 .. -1.0</td><td>-1.0 .. -1.0</td><td>-1.0 .. -1.0</td></tr>\n",
       "<tr><td>PSS J0034+1639</td><td>8.727975</td><td>16.65506</td><td>-</td><td>4.29243</td><td>0.00019559</td><td>1</td><td>56219.1 .. -1.0</td><td>1.05 .. -1.0</td><td>1.34 .. -1.0</td><td>28.351600647 .. -1.0</td><td>30.108499527 .. -1.0</td><td>-1.0 .. -1.0</td><td>0.0 .. -1.0</td><td>0</td><td>-1.0</td><td>-1.0</td><td>-1.0</td><td>0</td><td>-1.0 .. -1.0</td><td>-1.0 .. -1.0</td><td>-1.0 .. -1.0</td><td>0</td><td>-1</td><td>-1</td><td>-1</td><td>0</td><td>0</td><td>-1 .. -1</td><td>-1 .. -1</td><td>-1 .. -1</td><td>-1</td><td>0.0</td><td>0.0</td><td>0</td><td>-1.0 .. -1.0</td><td>-1.0 .. -1.0</td><td>-1.0 .. -1.0</td><td>-</td><td>1</td><td>14.7530002594 .. 8.12699985504</td><td>0.0329999998212 .. 0.0</td><td>33.0 .. 0.0</td><td>0.85949999094 .. 0.0</td><td></td><td>-</td><td>3</td><td>3.75500011444 .. -1.0</td><td>20.3999996185 .. -1.0</td><td>0.15000000596 .. -1.0</td></tr>\n",
       "<tr><td>SDSS J004219.74-102009.4</td><td>10.582215</td><td>-10.33674</td><td>-</td><td>3.86293</td><td>0.00027549</td><td>1</td><td>56210.1 .. -1.0</td><td>0.58 .. -1.0</td><td>0.6 .. -1.0</td><td>51.7294006348 .. -1.0</td><td>48.0922012329 .. -1.0</td><td>57.8768005371 .. -1.0</td><td>0.0 .. -1.0</td><td>0</td><td>-1.0</td><td>-1.0</td><td>-1.0</td><td>1</td><td>20.57 .. -1.0</td><td>-1.0 .. -1.0</td><td>-1.0 .. -1.0</td><td>0</td><td>-1</td><td>-1</td><td>-1</td><td>0</td><td>0</td><td>-1 .. -1</td><td>-1 .. -1</td><td>-1 .. -1</td><td>0</td><td>0.0</td><td>0.0</td><td>0</td><td>-1.0 .. -1.0</td><td>-1.0 .. -1.0</td><td>-1.0 .. -1.0</td><td>-</td><td>1</td><td>15.0579996109 .. 8.19699954987</td><td>0.0370000004768 .. 0.261000007391</td><td>29.2999992371 .. 4.19999980927</td><td>0.927299976349 .. 0.788500010967</td><td>0000</td><td>-</td><td>1</td><td>2.7555000782 .. -1.0</td><td>20.0 .. -1.0</td><td>0.10000000149 .. -1.0</td></tr>\n",
       "</table>"
      ],
      "text/plain": [
       "<Table masked=True length=5>\n",
       "        OBJ_NAME             RA    ...    ERR_NHI_ABS [4]   \n",
       "           -                deg    ...         [cm-2]       \n",
       "         str24            float64  ...        float64       \n",
       "------------------------ --------- ... ---------------------\n",
       "           HB89 0000-263  0.844985 ... 0.10000000149 .. -1.0\n",
       "           BR J0006-6208  1.715033 ... 0.10000000149 .. -1.0\n",
       "           BR J0030-5159  7.643627 ...          -1.0 .. -1.0\n",
       "          PSS J0034+1639  8.727975 ... 0.15000000596 .. -1.0\n",
       "SDSS J004219.74-102009.4 10.582215 ... 0.10000000149 .. -1.0"
      ]
     },
     "execution_count": 11,
     "metadata": {},
     "output_type": "execute_result"
    }
   ],
   "source": [
    "meta = Table.read(meta_file)\n",
    "meta[0:5]"
   ]
  },
  {
   "cell_type": "code",
   "execution_count": 12,
   "metadata": {
    "collapsed": false
   },
   "outputs": [
    {
     "data": {
      "text/plain": [
       "masked_BaseColumn(data = [56219.05859375 -1.0 -1.0],\n",
       "                  mask = [False False False],\n",
       "            fill_value = 1.00000002004e+20)"
      ]
     },
     "execution_count": 12,
     "metadata": {},
     "output_type": "execute_result"
    }
   ],
   "source": [
    "meta[0]['MJD_OBS']"
   ]
  },
  {
   "cell_type": "code",
   "execution_count": 15,
   "metadata": {
    "collapsed": false
   },
   "outputs": [
    {
     "data": {
      "text/plain": [
       "['OBJ_NAME',\n",
       " 'RA',\n",
       " 'DEC',\n",
       " 'FILE_NAME',\n",
       " 'Z_QSO',\n",
       " 'ERR_ZQSO',\n",
       " 'N_OBS',\n",
       " 'MJD_OBS',\n",
       " 'SEEING_START',\n",
       " 'SEEING_END',\n",
       " 'SNR_1700',\n",
       " 'SNR_3000',\n",
       " 'SNR_3600',\n",
       " 'CALIB_FLAG',\n",
       " 'COMBINED_FLAG',\n",
       " 'COMBINED_SNR_17',\n",
       " 'COMBINED_SNR_30',\n",
       " 'COMBINED_SNR_36',\n",
       " 'HR_FLAG',\n",
       " 'JOHNSON_MAG',\n",
       " 'SDSS_PSFMAG',\n",
       " 'SDSS_ERR_PSFMAG',\n",
       " 'DR7Q_MATCHED',\n",
       " 'PLATE_DR7Q',\n",
       " 'MJD_DR7Q',\n",
       " 'FIBER_DR7Q',\n",
       " 'DR12Q_MATCHED',\n",
       " 'N_DR12Q',\n",
       " 'PLATE_DR12Q',\n",
       " 'MJD_DR12Q',\n",
       " 'FIBER_DR12Q',\n",
       " 'FIRST_MATCHED',\n",
       " 'FIRST_FLUX',\n",
       " 'FIRST_SNR',\n",
       " 'MATCHED_TMASS',\n",
       " 'TMASS_MAG',\n",
       " 'TMASS_ERR_MAG',\n",
       " 'TMASS_SNR',\n",
       " 'RD_FLAG',\n",
       " 'MATCHED_WISE',\n",
       " 'WISE_MAG',\n",
       " 'WISE_ERR_MAG',\n",
       " 'WISE_SNR',\n",
       " 'WISE_RCHI2',\n",
       " 'CC_FLAG',\n",
       " 'PH_QUAL',\n",
       " 'N_ABS',\n",
       " 'Z_ABS',\n",
       " 'NHI_ABS',\n",
       " 'ERR_NHI_ABS']"
      ]
     },
     "execution_count": 15,
     "metadata": {},
     "output_type": "execute_result"
    }
   ],
   "source": [
    "meta.keys()"
   ]
  },
  {
   "cell_type": "markdown",
   "metadata": {},
   "source": [
    "### Quick coord check"
   ]
  },
  {
   "cell_type": "code",
   "execution_count": 10,
   "metadata": {
    "collapsed": false
   },
   "outputs": [
    {
     "data": {
      "text/plain": [
       "\"\\nfor row in meta:\\n    coord = SkyCoord(ra=row['RA'], dec=row['DEC'], unit='deg')\\n    name = 'J{:s}{:s}'.format(coord.ra.to_string(unit=u.hour,sep='',pad=True),\\n                 coord.dec.to_string(sep='',pad=True,alwayssign=True))\\n    print(name)\\n\""
      ]
     },
     "execution_count": 10,
     "metadata": {},
     "output_type": "execute_result"
    }
   ],
   "source": [
    "'''\n",
    "for row in meta:\n",
    "    coord = SkyCoord(ra=row['RA'], dec=row['DEC'], unit='deg')\n",
    "    name = 'J{:s}{:s}'.format(coord.ra.to_string(unit=u.hour,sep='',pad=True),\n",
    "                 coord.dec.to_string(sep='',pad=True,alwayssign=True))\n",
    "    print(name)\n",
    "'''"
   ]
  },
  {
   "cell_type": "markdown",
   "metadata": {},
   "source": [
    "## Examining the new meta table"
   ]
  },
  {
   "cell_type": "code",
   "execution_count": 4,
   "metadata": {
    "collapsed": false
   },
   "outputs": [
    {
     "name": "stdout",
     "output_type": "stream",
     "text": [
      "Using /raid/IGMSPEC_DB/IGMspec_DB_v02.hdf5 for the catalog file\n",
      "Using /raid/IGMSPEC_DB/IGMspec_DB_v02.hdf5 for the DB file\n",
      "Available surveys: [u'XQ-100']\n"
     ]
    }
   ],
   "source": [
    "igmsp = IgmSpec()"
   ]
  },
  {
   "cell_type": "code",
   "execution_count": 5,
   "metadata": {
    "collapsed": true
   },
   "outputs": [],
   "source": [
    "new_meta = Table(igmsp.idb.hdf['XQ-100']['meta'].value)"
   ]
  },
  {
   "cell_type": "code",
   "execution_count": 7,
   "metadata": {
    "collapsed": false
   },
   "outputs": [
    {
     "data": {
      "text/html": [
       "&lt;Table length=411&gt;\n",
       "<table id=\"table4631577424\">\n",
       "<thead><tr><th>OBJ_NAME</th><th>FILE_NAME</th><th>Z_QSO</th></tr></thead>\n",
       "<thead><tr><th>str24</th><th>str1</th><th>float32</th></tr></thead>\n",
       "<tr><td>HB89 0000-263</td><td>-</td><td>4.12544</td></tr>\n",
       "<tr><td>HB89 0000-263</td><td>-</td><td>4.12544</td></tr>\n",
       "<tr><td>HB89 0000-263</td><td>-</td><td>4.12544</td></tr>\n",
       "<tr><td>BR J0006-6208</td><td>-</td><td>4.43995</td></tr>\n",
       "<tr><td>BR J0006-6208</td><td>-</td><td>4.43995</td></tr>\n",
       "<tr><td>BR J0006-6208</td><td>-</td><td>4.43995</td></tr>\n",
       "<tr><td>BR J0030-5159</td><td>-</td><td>4.17286</td></tr>\n",
       "<tr><td>BR J0030-5159</td><td>-</td><td>4.17286</td></tr>\n",
       "<tr><td>BR J0030-5159</td><td>-</td><td>4.17286</td></tr>\n",
       "<tr><td>PSS J0034+1639</td><td>-</td><td>4.29243</td></tr>\n",
       "<tr><td>...</td><td>...</td><td>...</td></tr>\n",
       "<tr><td>PSS J2344+0342</td><td>-</td><td>4.24844</td></tr>\n",
       "<tr><td>PSS J2344+0342</td><td>-</td><td>4.24844</td></tr>\n",
       "<tr><td>PSS J2344+0342</td><td>-</td><td>4.24844</td></tr>\n",
       "<tr><td>PSS J2344+0342</td><td>-</td><td>4.24844</td></tr>\n",
       "<tr><td>PSS J2344+0342</td><td>-</td><td>4.24844</td></tr>\n",
       "<tr><td>PSS J2344+0342</td><td>-</td><td>4.24844</td></tr>\n",
       "<tr><td>PSS J2344+0342</td><td>-</td><td>4.24844</td></tr>\n",
       "<tr><td>BR J2349-3712</td><td>-</td><td>4.21923</td></tr>\n",
       "<tr><td>BR J2349-3712</td><td>-</td><td>4.21923</td></tr>\n",
       "<tr><td>BR J2349-3712</td><td>-</td><td>4.21923</td></tr>\n",
       "</table>"
      ],
      "text/plain": [
       "<Table length=411>\n",
       "   OBJ_NAME    FILE_NAME  Z_QSO \n",
       "    str24         str1   float32\n",
       "-------------- --------- -------\n",
       " HB89 0000-263         - 4.12544\n",
       " HB89 0000-263         - 4.12544\n",
       " HB89 0000-263         - 4.12544\n",
       " BR J0006-6208         - 4.43995\n",
       " BR J0006-6208         - 4.43995\n",
       " BR J0006-6208         - 4.43995\n",
       " BR J0030-5159         - 4.17286\n",
       " BR J0030-5159         - 4.17286\n",
       " BR J0030-5159         - 4.17286\n",
       "PSS J0034+1639         - 4.29243\n",
       "           ...       ...     ...\n",
       "PSS J2344+0342         - 4.24844\n",
       "PSS J2344+0342         - 4.24844\n",
       "PSS J2344+0342         - 4.24844\n",
       "PSS J2344+0342         - 4.24844\n",
       "PSS J2344+0342         - 4.24844\n",
       "PSS J2344+0342         - 4.24844\n",
       "PSS J2344+0342         - 4.24844\n",
       " BR J2349-3712         - 4.21923\n",
       " BR J2349-3712         - 4.21923\n",
       " BR J2349-3712         - 4.21923"
      ]
     },
     "execution_count": 7,
     "metadata": {},
     "output_type": "execute_result"
    }
   ],
   "source": [
    "new_meta[['OBJ_NAME','FILE_NAME','Z_QSO']]"
   ]
  },
  {
   "cell_type": "code",
   "execution_count": 8,
   "metadata": {
    "collapsed": false
   },
   "outputs": [
    {
     "data": {
      "text/plain": [
       "411"
      ]
     },
     "execution_count": 8,
     "metadata": {},
     "output_type": "execute_result"
    }
   ],
   "source": [
    "len(new_meta)"
   ]
  },
  {
   "cell_type": "code",
   "execution_count": 9,
   "metadata": {
    "collapsed": false
   },
   "outputs": [
    {
     "data": {
      "text/plain": [
       "['OBJ_NAME',\n",
       " 'RA',\n",
       " 'DEC',\n",
       " 'FILE_NAME',\n",
       " 'Z_QSO',\n",
       " 'ERR_ZQSO',\n",
       " 'N_OBS',\n",
       " 'MJD_OBS',\n",
       " 'SEEING_START',\n",
       " 'SEEING_END',\n",
       " 'SNR_1700',\n",
       " 'SNR_3000',\n",
       " 'SNR_3600',\n",
       " 'CALIB_FLAG',\n",
       " 'COMBINED_FLAG',\n",
       " 'COMBINED_SNR_17',\n",
       " 'COMBINED_SNR_30',\n",
       " 'COMBINED_SNR_36',\n",
       " 'HR_FLAG',\n",
       " 'JOHNSON_MAG',\n",
       " 'SDSS_PSFMAG',\n",
       " 'SDSS_ERR_PSFMAG',\n",
       " 'DR7Q_MATCHED',\n",
       " 'PLATE_DR7Q',\n",
       " 'MJD_DR7Q',\n",
       " 'FIBER_DR7Q',\n",
       " 'DR12Q_MATCHED',\n",
       " 'N_DR12Q',\n",
       " 'PLATE_DR12Q',\n",
       " 'MJD_DR12Q',\n",
       " 'FIBER_DR12Q',\n",
       " 'FIRST_MATCHED',\n",
       " 'FIRST_FLUX',\n",
       " 'FIRST_SNR',\n",
       " 'MATCHED_TMASS',\n",
       " 'TMASS_MAG',\n",
       " 'TMASS_ERR_MAG',\n",
       " 'TMASS_SNR',\n",
       " 'RD_FLAG',\n",
       " 'MATCHED_WISE',\n",
       " 'WISE_MAG',\n",
       " 'WISE_ERR_MAG',\n",
       " 'WISE_SNR',\n",
       " 'WISE_RCHI2',\n",
       " 'CC_FLAG',\n",
       " 'PH_QUAL',\n",
       " 'N_ABS',\n",
       " 'Z_ABS',\n",
       " 'NHI_ABS',\n",
       " 'ERR_NHI_ABS',\n",
       " 'zem',\n",
       " 'sig_zem',\n",
       " 'flag_zem',\n",
       " 'DATE-OBS',\n",
       " 'EPOCH',\n",
       " 'IGM_ID',\n",
       " 'GRATING',\n",
       " 'TELESCOPE',\n",
       " 'INSTR',\n",
       " 'NPIX',\n",
       " 'WV_MIN',\n",
       " 'WV_MAX',\n",
       " 'R',\n",
       " 'SURVEY_ID',\n",
       " 'SPEC_FILE']"
      ]
     },
     "execution_count": 9,
     "metadata": {},
     "output_type": "execute_result"
    }
   ],
   "source": [
    "new_meta.keys()"
   ]
  },
  {
   "cell_type": "code",
   "execution_count": null,
   "metadata": {
    "collapsed": true
   },
   "outputs": [],
   "source": []
  }
 ],
 "metadata": {
  "kernelspec": {
   "display_name": "Python 2",
   "language": "python",
   "name": "python2"
  },
  "language_info": {
   "codemirror_mode": {
    "name": "ipython",
    "version": 2
   },
   "file_extension": ".py",
   "mimetype": "text/x-python",
   "name": "python",
   "nbconvert_exporter": "python",
   "pygments_lexer": "ipython2",
   "version": "2.7.11"
  }
 },
 "nbformat": 4,
 "nbformat_minor": 0
}
