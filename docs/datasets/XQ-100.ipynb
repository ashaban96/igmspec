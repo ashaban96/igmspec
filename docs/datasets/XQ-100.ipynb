{
 "cells": [
  {
   "cell_type": "markdown",
   "metadata": {},
   "source": [
    "# XQ-100 Dataset (v1.2)"
   ]
  },
  {
   "cell_type": "code",
   "execution_count": 21,
   "metadata": {
    "collapsed": true
   },
   "outputs": [],
   "source": [
    "%matplotlib notebook"
   ]
  },
  {
   "cell_type": "code",
   "execution_count": 1,
   "metadata": {
    "collapsed": true
   },
   "outputs": [],
   "source": [
    "# imports\n",
    "from astropy.coordinates import SkyCoord\n",
    "\n",
    "from igmspec.igmspec import IgmSpec"
   ]
  },
  {
   "cell_type": "markdown",
   "metadata": {},
   "source": [
    "## Meta file\n",
    "\n",
    "    Provided by S. Lopez on 18 July 2016\n",
    "    There is also one in the VLT database, but I've ignored it (probably should not have)\n",
    "    \n",
    "    Need to grab the Table on the webstie for the ORIGFILE column.."
   ]
  },
  {
   "cell_type": "code",
   "execution_count": 3,
   "metadata": {
    "collapsed": true
   },
   "outputs": [],
   "source": [
    "meta_file = os.getenv('RAW_IGMSPEC')+'/XQ-100/XQ100_v1_2.fits.gz'"
   ]
  },
  {
   "cell_type": "code",
   "execution_count": 4,
   "metadata": {
    "collapsed": false
   },
   "outputs": [
    {
     "name": "stderr",
     "output_type": "stream",
     "text": [
      "WARNING: UnitsWarning: '-' did not parse as fits unit: Invalid character at col 0 [astropy.units.core]\n",
      "WARNING: UnitsWarning: '[cm-2]' did not parse as fits unit: Invalid character at col 0 [astropy.units.core]\n"
     ]
    },
    {
     "data": {
      "text/html": [
       "&lt;Table masked=True length=5&gt;\n",
       "<table id=\"table4592801104\">\n",
       "<thead><tr><th>OBJ_NAME</th><th>RA</th><th>DEC</th><th>FILE_NAME</th><th>Z_QSO</th><th>ERR_ZQSO</th><th>N_OBS</th><th>MJD_OBS [3]</th><th>SEEING_START [3]</th><th>SEEING_END [3]</th><th>SNR_1700 [3]</th><th>SNR_3000 [3]</th><th>SNR_3600 [3]</th><th>CALIB_FLAG [3]</th><th>COMBINED_FLAG</th><th>COMBINED_SNR_17</th><th>COMBINED_SNR_30</th><th>COMBINED_SNR_36</th><th>HR_FLAG</th><th>JOHNSON_MAG [3]</th><th>SDSS_PSFMAG [5]</th><th>SDSS_ERR_PSFMAG [5]</th><th>DR7Q_MATCHED</th><th>PLATE_DR7Q</th><th>MJD_DR7Q</th><th>FIBER_DR7Q</th><th>DR12Q_MATCHED</th><th>N_DR12Q</th><th>PLATE_DR12Q [2]</th><th>MJD_DR12Q [2]</th><th>FIBER_DR12Q [2]</th><th>FIRST_MATCHED</th><th>FIRST_FLUX</th><th>FIRST_SNR</th><th>MATCHED_TMASS</th><th>TMASS_MAG [3]</th><th>TMASS_ERR_MAG [3]</th><th>TMASS_SNR [3]</th><th>RD_FLAG</th><th>MATCHED_WISE</th><th>WISE_MAG [4]</th><th>WISE_ERR_MAG [4]</th><th>WISE_SNR [4]</th><th>WISE_RCHI2 [4]</th><th>CC_FLAG</th><th>PH_QUAL</th><th>N_ABS</th><th>Z_ABS [4]</th><th>NHI_ABS [4]</th><th>ERR_NHI_ABS [4]</th></tr></thead>\n",
       "<thead><tr><th>-</th><th>deg</th><th>deg</th><th>-</th><th>-</th><th>-</th><th>-</th><th>-</th><th>arcsec</th><th>arcsec</th><th>-</th><th>-</th><th>-</th><th>-</th><th>-</th><th>-</th><th>-</th><th>-</th><th>-</th><th>-</th><th>-</th><th>-</th><th>-</th><th>-</th><th>-</th><th>-</th><th>-</th><th>-</th><th>-</th><th>-</th><th>-</th><th>-</th><th>mJy</th><th>-</th><th>-</th><th>-</th><th>-</th><th>-</th><th>-</th><th>-</th><th>-</th><th>-</th><th>-</th><th>-</th><th>-</th><th>-</th><th>-</th><th>-</th><th>[cm-2]</th><th>[cm-2]</th></tr></thead>\n",
       "<thead><tr><th>str24</th><th>float64</th><th>float64</th><th>str1</th><th>float32</th><th>float32</th><th>int32</th><th>float32</th><th>float32</th><th>float32</th><th>float64</th><th>float64</th><th>float64</th><th>float64</th><th>int16</th><th>float64</th><th>float64</th><th>float64</th><th>int16</th><th>float32</th><th>float64</th><th>float64</th><th>int16</th><th>int32</th><th>int32</th><th>int32</th><th>int16</th><th>int32</th><th>int32</th><th>int32</th><th>int32</th><th>int32</th><th>float64</th><th>float64</th><th>int16</th><th>float64</th><th>float64</th><th>float64</th><th>str3</th><th>int16</th><th>float64</th><th>float64</th><th>float64</th><th>float64</th><th>str4</th><th>str3</th><th>int16</th><th>float64</th><th>float64</th><th>float64</th></tr></thead>\n",
       "<tr><td>HB89 0000-263</td><td>0.844985</td><td>-26.0554</td><td>-</td><td>4.12544</td><td>0.0002136</td><td>1</td><td>56219.1 .. -1.0</td><td>0.98 .. -1.0</td><td>1.45 .. -1.0</td><td>78.5073013306 .. -1.0</td><td>99.202003479 .. -1.0</td><td>-1.0 .. -1.0</td><td>0.0 .. -1.0</td><td>0</td><td>-1.0</td><td>-1.0</td><td>-1.0</td><td>1</td><td>18.0 .. -1.0</td><td>-1.0 .. -1.0</td><td>-1.0 .. -1.0</td><td>0</td><td>-1</td><td>-1</td><td>-1</td><td>0</td><td>0</td><td>-1 .. -1</td><td>-1 .. -1</td><td>-1 .. -1</td><td>-1</td><td>0.0</td><td>0.0</td><td>1</td><td>16.2700004578 .. 14.7779998779</td><td>0.11400000006 .. 0.107000000775</td><td>9.80000019073 .. 9.69999980927</td><td>222</td><td>1</td><td>13.9270000458 .. 7.47700023651</td><td>0.0280000008643 .. 0.134000003338</td><td>39.0 .. 8.10000038147</td><td>1.01900005341 .. 1.01800000668</td><td>0000</td><td>BCB</td><td>2</td><td>3.054500103 .. -1.0</td><td>20.2000007629 .. -1.0</td><td>0.10000000149 .. -1.0</td></tr>\n",
       "<tr><td>BR J0006-6208</td><td>1.715033</td><td>-62.13355</td><td>-</td><td>4.43995</td><td>0.00089465</td><td>1</td><td>56209.2 .. -1.0</td><td>1.05 .. -1.0</td><td>1.43 .. -1.0</td><td>19.7355003357 .. -1.0</td><td>22.1355991364 .. -1.0</td><td>-1.0 .. -1.0</td><td>2.0 .. -1.0</td><td>0</td><td>-1.0</td><td>-1.0</td><td>-1.0</td><td>1</td><td>-1.0 .. -1.0</td><td>-1.0 .. -1.0</td><td>-1.0 .. -1.0</td><td>0</td><td>-1</td><td>-1</td><td>-1</td><td>0</td><td>0</td><td>-1 .. -1</td><td>-1 .. -1</td><td>-1 .. -1</td><td>-1</td><td>0.0</td><td>0.0</td><td>0</td><td>-1.0 .. -1.0</td><td>-1.0 .. -1.0</td><td>-1.0 .. -1.0</td><td>-</td><td>1</td><td>15.1999998093 .. 8.34200000763</td><td>0.0340000018477 .. 0.287999987602</td><td>32.2000007629 .. 3.79999995232</td><td>0.882799983025 .. 0.972999989986</td><td>0000</td><td>-</td><td>3</td><td>3.20300006866 .. -1.0</td><td>20.8999996185 .. -1.0</td><td>0.10000000149 .. -1.0</td></tr>\n",
       "<tr><td>BR J0030-5159</td><td>7.643627</td><td>-51.49546</td><td>-</td><td>4.17286</td><td>0.00014623</td><td>1</td><td>56211.2 .. -1.0</td><td>0.82 .. -1.0</td><td>-1.0 .. -1.0</td><td>17.7509002686 .. -1.0</td><td>21.5370006561 .. -1.0</td><td>-1.0 .. -1.0</td><td>0.0 .. -1.0</td><td>0</td><td>-1.0</td><td>-1.0</td><td>-1.0</td><td>1</td><td>-1.0 .. -1.0</td><td>-1.0 .. -1.0</td><td>-1.0 .. -1.0</td><td>0</td><td>-1</td><td>-1</td><td>-1</td><td>0</td><td>0</td><td>-1 .. -1</td><td>-1 .. -1</td><td>-1 .. -1</td><td>-1</td><td>0.0</td><td>0.0</td><td>0</td><td>-1.0 .. -1.0</td><td>-1.0 .. -1.0</td><td>-1.0 .. -1.0</td><td>-</td><td>1</td><td>15.468000412 .. 8.77700042725</td><td>0.0370000004768 .. 0.0</td><td>29.7000007629 .. 0.0</td><td>0.965099990368 .. 0.0</td><td></td><td>-</td><td>0</td><td>-1.0 .. -1.0</td><td>-1.0 .. -1.0</td><td>-1.0 .. -1.0</td></tr>\n",
       "<tr><td>PSS J0034+1639</td><td>8.727975</td><td>16.65506</td><td>-</td><td>4.29243</td><td>0.00019559</td><td>1</td><td>56219.1 .. -1.0</td><td>1.05 .. -1.0</td><td>1.34 .. -1.0</td><td>28.351600647 .. -1.0</td><td>30.108499527 .. -1.0</td><td>-1.0 .. -1.0</td><td>0.0 .. -1.0</td><td>0</td><td>-1.0</td><td>-1.0</td><td>-1.0</td><td>0</td><td>-1.0 .. -1.0</td><td>-1.0 .. -1.0</td><td>-1.0 .. -1.0</td><td>0</td><td>-1</td><td>-1</td><td>-1</td><td>0</td><td>0</td><td>-1 .. -1</td><td>-1 .. -1</td><td>-1 .. -1</td><td>-1</td><td>0.0</td><td>0.0</td><td>0</td><td>-1.0 .. -1.0</td><td>-1.0 .. -1.0</td><td>-1.0 .. -1.0</td><td>-</td><td>1</td><td>14.7530002594 .. 8.12699985504</td><td>0.0329999998212 .. 0.0</td><td>33.0 .. 0.0</td><td>0.85949999094 .. 0.0</td><td></td><td>-</td><td>3</td><td>3.75500011444 .. -1.0</td><td>20.3999996185 .. -1.0</td><td>0.15000000596 .. -1.0</td></tr>\n",
       "<tr><td>SDSS J004219.74-102009.4</td><td>10.582215</td><td>-10.33674</td><td>-</td><td>3.86293</td><td>0.00027549</td><td>1</td><td>56210.1 .. -1.0</td><td>0.58 .. -1.0</td><td>0.6 .. -1.0</td><td>51.7294006348 .. -1.0</td><td>48.0922012329 .. -1.0</td><td>57.8768005371 .. -1.0</td><td>0.0 .. -1.0</td><td>0</td><td>-1.0</td><td>-1.0</td><td>-1.0</td><td>1</td><td>20.57 .. -1.0</td><td>-1.0 .. -1.0</td><td>-1.0 .. -1.0</td><td>0</td><td>-1</td><td>-1</td><td>-1</td><td>0</td><td>0</td><td>-1 .. -1</td><td>-1 .. -1</td><td>-1 .. -1</td><td>0</td><td>0.0</td><td>0.0</td><td>0</td><td>-1.0 .. -1.0</td><td>-1.0 .. -1.0</td><td>-1.0 .. -1.0</td><td>-</td><td>1</td><td>15.0579996109 .. 8.19699954987</td><td>0.0370000004768 .. 0.261000007391</td><td>29.2999992371 .. 4.19999980927</td><td>0.927299976349 .. 0.788500010967</td><td>0000</td><td>-</td><td>1</td><td>2.7555000782 .. -1.0</td><td>20.0 .. -1.0</td><td>0.10000000149 .. -1.0</td></tr>\n",
       "</table>"
      ],
      "text/plain": [
       "<Table masked=True length=5>\n",
       "        OBJ_NAME             RA    ...    ERR_NHI_ABS [4]   \n",
       "           -                deg    ...         [cm-2]       \n",
       "         str24            float64  ...        float64       \n",
       "------------------------ --------- ... ---------------------\n",
       "           HB89 0000-263  0.844985 ... 0.10000000149 .. -1.0\n",
       "           BR J0006-6208  1.715033 ... 0.10000000149 .. -1.0\n",
       "           BR J0030-5159  7.643627 ...          -1.0 .. -1.0\n",
       "          PSS J0034+1639  8.727975 ... 0.15000000596 .. -1.0\n",
       "SDSS J004219.74-102009.4 10.582215 ... 0.10000000149 .. -1.0"
      ]
     },
     "execution_count": 4,
     "metadata": {},
     "output_type": "execute_result"
    }
   ],
   "source": [
    "meta = Table.read(meta_file)\n",
    "meta[0:5]"
   ]
  },
  {
   "cell_type": "code",
   "execution_count": 12,
   "metadata": {
    "collapsed": false
   },
   "outputs": [
    {
     "data": {
      "text/plain": [
       "masked_BaseColumn(data = [56219.05859375 -1.0 -1.0],\n",
       "                  mask = [False False False],\n",
       "            fill_value = 1.00000002004e+20)"
      ]
     },
     "execution_count": 12,
     "metadata": {},
     "output_type": "execute_result"
    }
   ],
   "source": [
    "meta[0]['MJD_OBS']"
   ]
  },
  {
   "cell_type": "code",
   "execution_count": 15,
   "metadata": {
    "collapsed": false
   },
   "outputs": [
    {
     "data": {
      "text/plain": [
       "['OBJ_NAME',\n",
       " 'RA',\n",
       " 'DEC',\n",
       " 'FILE_NAME',\n",
       " 'Z_QSO',\n",
       " 'ERR_ZQSO',\n",
       " 'N_OBS',\n",
       " 'MJD_OBS',\n",
       " 'SEEING_START',\n",
       " 'SEEING_END',\n",
       " 'SNR_1700',\n",
       " 'SNR_3000',\n",
       " 'SNR_3600',\n",
       " 'CALIB_FLAG',\n",
       " 'COMBINED_FLAG',\n",
       " 'COMBINED_SNR_17',\n",
       " 'COMBINED_SNR_30',\n",
       " 'COMBINED_SNR_36',\n",
       " 'HR_FLAG',\n",
       " 'JOHNSON_MAG',\n",
       " 'SDSS_PSFMAG',\n",
       " 'SDSS_ERR_PSFMAG',\n",
       " 'DR7Q_MATCHED',\n",
       " 'PLATE_DR7Q',\n",
       " 'MJD_DR7Q',\n",
       " 'FIBER_DR7Q',\n",
       " 'DR12Q_MATCHED',\n",
       " 'N_DR12Q',\n",
       " 'PLATE_DR12Q',\n",
       " 'MJD_DR12Q',\n",
       " 'FIBER_DR12Q',\n",
       " 'FIRST_MATCHED',\n",
       " 'FIRST_FLUX',\n",
       " 'FIRST_SNR',\n",
       " 'MATCHED_TMASS',\n",
       " 'TMASS_MAG',\n",
       " 'TMASS_ERR_MAG',\n",
       " 'TMASS_SNR',\n",
       " 'RD_FLAG',\n",
       " 'MATCHED_WISE',\n",
       " 'WISE_MAG',\n",
       " 'WISE_ERR_MAG',\n",
       " 'WISE_SNR',\n",
       " 'WISE_RCHI2',\n",
       " 'CC_FLAG',\n",
       " 'PH_QUAL',\n",
       " 'N_ABS',\n",
       " 'Z_ABS',\n",
       " 'NHI_ABS',\n",
       " 'ERR_NHI_ABS']"
      ]
     },
     "execution_count": 15,
     "metadata": {},
     "output_type": "execute_result"
    }
   ],
   "source": [
    "meta.keys()"
   ]
  },
  {
   "cell_type": "markdown",
   "metadata": {},
   "source": [
    "### Quick coord check"
   ]
  },
  {
   "cell_type": "code",
   "execution_count": 10,
   "metadata": {
    "collapsed": false
   },
   "outputs": [
    {
     "data": {
      "text/plain": [
       "\"\\nfor row in meta:\\n    coord = SkyCoord(ra=row['RA'], dec=row['DEC'], unit='deg')\\n    name = 'J{:s}{:s}'.format(coord.ra.to_string(unit=u.hour,sep='',pad=True),\\n                 coord.dec.to_string(sep='',pad=True,alwayssign=True))\\n    print(name)\\n\""
      ]
     },
     "execution_count": 10,
     "metadata": {},
     "output_type": "execute_result"
    }
   ],
   "source": [
    "'''\n",
    "for row in meta:\n",
    "    coord = SkyCoord(ra=row['RA'], dec=row['DEC'], unit='deg')\n",
    "    name = 'J{:s}{:s}'.format(coord.ra.to_string(unit=u.hour,sep='',pad=True),\n",
    "                 coord.dec.to_string(sep='',pad=True,alwayssign=True))\n",
    "    print(name)\n",
    "'''"
   ]
  },
  {
   "cell_type": "markdown",
   "metadata": {},
   "source": [
    "## ESO Meta file\n",
    "\n",
    "    http://archive.eso.org/wdb/wdb/adp/phase3_main/form?phase3_collection=189.A-0424&release_tag=1\n",
    "    Saved as csv\n",
    "    Had to fuss with unicode"
   ]
  },
  {
   "cell_type": "code",
   "execution_count": 36,
   "metadata": {
    "collapsed": true
   },
   "outputs": [],
   "source": [
    "eso_file = os.getenv('RAW_IGMSPEC')+'/XQ-100/metadata_eso_XQ100.csv'"
   ]
  },
  {
   "cell_type": "code",
   "execution_count": 37,
   "metadata": {
    "collapsed": false
   },
   "outputs": [],
   "source": [
    "eso_tbl = Table.read(eso_file, format='ascii.csv')#, guess=False)"
   ]
  },
  {
   "cell_type": "code",
   "execution_count": 39,
   "metadata": {
    "collapsed": false
   },
   "outputs": [
    {
     "data": {
      "text/html": [
       "&lt;Table masked=True length=5&gt;\n",
       "<table id=\"table4673949584\">\n",
       "<thead><tr><th>ARCFILE</th><th>Object</th><th>RA</th><th>DEC</th><th>Filter</th><th>ABMAGLIM</th><th>Wavelength</th><th>SNR</th><th>R</th><th>Product category</th><th>Instrument</th><th>Date Obs</th><th>Exptime</th><th>Collection</th><th>Product version</th><th>Run/Program ID</th><th>ORIGFILE</th><th>REF</th></tr></thead>\n",
       "<thead><tr><th>str67</th><th>str24</th><th>float64</th><th>float64</th><th>int64</th><th>int64</th><th>str17</th><th>float64</th><th>int64</th><th>str16</th><th>str8</th><th>str23</th><th>float64</th><th>str10</th><th>int64</th><th>str13</th><th>str23</th><th>int64</th></tr></thead>\n",
       "<tr><td>ADP.2016-07-15T08:22:40.171</td><td>SDSS J092041.76+072544.0</td><td>140.173864</td><td>7.42813</td><td>--</td><td>--</td><td>982.000..2480.304</td><td>19.3</td><td>5300</td><td>SCIENCE.SPECTRUM</td><td>XSHOOTER</td><td>2013-12-27T05:43:37.136</td><td>3600.0</td><td>189.A-0424</td><td>1</td><td>189.A-0424(B)</td><td>J0920+0725_nir.fits</td><td>--</td></tr>\n",
       "<tr><td>ADP.2016-07-15T08:22:40.173</td><td>PSS J0211+1107</td><td>32.833759</td><td>11.12072</td><td>--</td><td>--</td><td>310.003..560.019</td><td>7.1</td><td>5100</td><td>SCIENCE.SPECTRUM</td><td>XSHOOTER</td><td>2012-11-07T04:28:31.516</td><td>1780.0</td><td>189.A-0424</td><td>1</td><td>189.A-0424(B)</td><td>J0211+1107_uvb.fits</td><td>--</td></tr>\n",
       "<tr><td>ADP.2016-07-15T08:22:40.174</td><td>BR J0529-3526</td><td>82.316604</td><td>-35.43369</td><td>--</td><td>--</td><td>310.003..1799.963</td><td>16.5</td><td>5700</td><td>SCIENCE.SPECTRUM</td><td>XSHOOTER</td><td>2012-11-19T07:00:02.536</td><td>3480.0</td><td>189.A-0424</td><td>1</td><td>189.A-0424(B)</td><td>J0529-3526_rescale.fits</td><td>--</td></tr>\n",
       "<tr><td>ADP.2016-07-15T08:22:40.175</td><td>SDSSJ1042+1957</td><td>160.641776</td><td>19.95454</td><td>--</td><td>--</td><td>309.982..2480.304</td><td>26.0</td><td>5700</td><td>SCIENCE.SPECTRUM</td><td>XSHOOTER</td><td>2014-02-22T04:45:50.450</td><td>3480.0</td><td>189.A-0424</td><td>1</td><td>189.A-0424(A)</td><td>J1042+1957_rescale.fits</td><td>--</td></tr>\n",
       "<tr><td>ADP.2016-07-15T08:22:40.176</td><td>PSS J0211+1107</td><td>32.833759</td><td>11.12072</td><td>--</td><td>--</td><td>550.003..1019.992</td><td>21.6</td><td>8800</td><td>SCIENCE.SPECTRUM</td><td>XSHOOTER</td><td>2012-11-07T04:28:36.666</td><td>1680.0</td><td>189.A-0424</td><td>1</td><td>189.A-0424(B)</td><td>J0211+1107_vis.fits</td><td>--</td></tr>\n",
       "</table>"
      ],
      "text/plain": [
       "<Table masked=True length=5>\n",
       "          ARCFILE                    Object          ...  REF \n",
       "           str67                     str24           ... int64\n",
       "--------------------------- ------------------------ ... -----\n",
       "ADP.2016-07-15T08:22:40.171 SDSS J092041.76+072544.0 ...    --\n",
       "ADP.2016-07-15T08:22:40.173           PSS J0211+1107 ...    --\n",
       "ADP.2016-07-15T08:22:40.174            BR J0529-3526 ...    --\n",
       "ADP.2016-07-15T08:22:40.175           SDSSJ1042+1957 ...    --\n",
       "ADP.2016-07-15T08:22:40.176           PSS J0211+1107 ...    --"
      ]
     },
     "execution_count": 39,
     "metadata": {},
     "output_type": "execute_result"
    }
   ],
   "source": [
    "eso_tbl[0:5]"
   ]
  },
  {
   "cell_type": "code",
   "execution_count": 42,
   "metadata": {
    "collapsed": false
   },
   "outputs": [
    {
     "data": {
      "text/plain": [
       "masked_BaseColumn(data = ['J0003-2603_nir.fits' 'J0003-2603_rescale.fits' 'J0003-2603_uvb.fits'\n",
       " 'J0003-2603_vis.fits' 'J0006-6208_nir.fits' 'J0006-6208_rescale.fits'\n",
       " 'J0006-6208_uvb.fits' 'J0006-6208_vis.fits' 'J0030-5129_nir.fits'\n",
       " 'J0030-5129_rescale.fits' 'J0030-5129_uvb.fits' 'J0030-5129_vis.fits'\n",
       " 'J0034+1639_nir.fits' 'J0034+1639_rescale.fits' 'J0034+1639_uvb.fits'\n",
       " 'J0034+1639_vis.fits' 'J0042-1020_nir.fits' 'J0042-1020_rescale.fits'\n",
       " 'J0042-1020_uvb.fits' 'J0042-1020_vis.fits' 'J0048-2442_nir.fits'\n",
       " 'J0048-2442_rescale.fits' 'J0048-2442_uvb.fits' 'J0048-2442_vis.fits'\n",
       " 'J0056-2808_nir.fits' 'J0056-2808_rescale.fits' 'J0056-2808_uvb.fits'\n",
       " 'J0056-2808_vis.fits' 'J0057-2643_nir.fits' 'J0057-2643_rescale.fits'\n",
       " 'J0057-2643_uvb.fits' 'J0057-2643_vis.fits' 'J0100-2708_nir.fits'\n",
       " 'J0100-2708_rescale.fits' 'J0100-2708_uvb.fits' 'J0100-2708_vis.fits'\n",
       " 'J0113-2803_nir.fits' 'J0113-2803_rescale.fits' 'J0113-2803_uvb.fits'\n",
       " 'J0113-2803_vis.fits' 'J0117+1552_nir.fits' 'J0117+1552_rescale.fits'\n",
       " 'J0117+1552_uvb.fits' 'J0117+1552_vis.fits' 'J0121+0347_nir.fits'\n",
       " 'J0121+0347_rescale.fits' 'J0121+0347_uvb.fits' 'J0121+0347_vis.fits'\n",
       " 'J0124+0044_nir.fits' 'J0124+0044_rescale.fits' 'J0124+0044_uvb.fits'\n",
       " 'J0124+0044_vis.fits' 'J0132+1341_nir.fits' 'J0132+1341_rescale.fits'\n",
       " 'J0132+1341_uvb.fits' 'J0132+1341_vis.fits' 'J0133+0400_nir.fits'\n",
       " 'J0133+0400_rescale.fits' 'J0133+0400_uvb.fits' 'J0133+0400_vis.fits'\n",
       " 'J0137-4224_nir.fits' 'J0137-4224_rescale.fits' 'J0137-4224_uvb.fits'\n",
       " 'J0137-4224_vis.fits' 'J0153-0011_nir.fits' 'J0153-0011_rescale.fits'\n",
       " 'J0153-0011_uvb.fits' 'J0153-0011_vis.fits' 'J0211+1107_nir.fits'\n",
       " 'J0211+1107_rescale.fits' 'J0211+1107_uvb.fits' 'J0211+1107_vis.fits'\n",
       " 'J0214-0517_nir.fits' 'J0214-0517_rescale.fits' 'J0214-0517_uvb.fits'\n",
       " 'J0214-0517_vis.fits' 'J0234-1806_nir.fits' 'J0234-1806_rescale.fits'\n",
       " 'J0234-1806_uvb.fits' 'J0234-1806_vis.fits' 'J0244-0134_nir.fits'\n",
       " 'J0244-0134_rescale.fits' 'J0244-0134_uvb.fits' 'J0244-0134_vis.fits'\n",
       " 'J0247-0556_nir.fits' 'J0247-0556_rescale.fits' 'J0247-0556_uvb.fits'\n",
       " 'J0247-0556_vis.fits' 'J0248+1802_nir.fits' 'J0248+1802_rescale.fits'\n",
       " 'J0248+1802_uvb.fits' 'J0248+1802_vis.fits' 'J0255+0048_nir.fits'\n",
       " 'J0255+0048_rescale.fits' 'J0255+0048_uvb.fits' 'J0255+0048_vis.fits'\n",
       " 'J0307-4945_nir.fits' 'J0307-4945_rescale.fits' 'J0307-4945_uvb.fits'\n",
       " 'J0307-4945_vis.fits' 'J0311-1722_nir.fits' 'J0311-1722_rescale.fits'\n",
       " 'J0311-1722_uvb.fits' 'J0311-1722_vis.fits' 'J0403-1703_nir.fits'\n",
       " 'J0403-1703_rescale.fits' 'J0403-1703_uvb.fits' 'J0403-1703_vis.fits'\n",
       " 'J0415-4357_nir.fits' 'J0415-4357_rescale.fits' 'J0415-4357_uvb.fits'\n",
       " 'J0415-4357_vis.fits' 'J0426-2202_nir.fits' 'J0426-2202_rescale.fits'\n",
       " 'J0426-2202_uvb.fits' 'J0426-2202_vis.fits' 'J0525-3343_nir.fits'\n",
       " 'J0525-3343_rescale.fits' 'J0525-3343_uvb.fits' 'J0525-3343_vis.fits'\n",
       " 'J0529-3526_nir.fits' 'J0529-3526_rescale.fits' 'J0529-3526_uvb.fits'\n",
       " 'J0529-3526_vis.fits' 'J0529-3552_nir.fits' 'J0529-3552_rescale.fits'\n",
       " 'J0529-3552_uvb.fits' 'J0529-3552_vis.fits' 'J0714-6455_nir.fits'\n",
       " 'J0714-6455_rescale.fits' 'J0714-6455_uvb.fits' 'J0714-6455_vis.fits'\n",
       " 'J0747+2739_nir.fits' 'J0747+2739_rescale.fits' 'J0747+2739_uvb.fits'\n",
       " 'J0747+2739_vis.fits' 'J0755+1345_1_nir.fits' 'J0755+1345_1_uvb.fits'\n",
       " 'J0755+1345_1_vis.fits' 'J0755+1345_2_nir.fits' 'J0755+1345_2_uvb.fits'\n",
       " 'J0755+1345_2_vis.fits' 'J0755+1345_nir.fits' 'J0755+1345_rescale.fits'\n",
       " 'J0755+1345_uvb.fits' 'J0755+1345_vis.fits' 'J0800+1920_1_nir.fits'\n",
       " 'J0800+1920_1_uvb.fits' 'J0800+1920_1_vis.fits' 'J0800+1920_2_nir.fits'\n",
       " 'J0800+1920_2_uvb.fits' 'J0800+1920_2_vis.fits' 'J0800+1920_3_nir.fits'\n",
       " 'J0800+1920_3_uvb.fits' 'J0800+1920_3_vis.fits' 'J0800+1920_nir.fits'\n",
       " 'J0800+1920_rescale.fits' 'J0800+1920_uvb.fits' 'J0800+1920_vis.fits'\n",
       " 'J0818+0958_nir.fits' 'J0818+0958_rescale.fits' 'J0818+0958_uvb.fits'\n",
       " 'J0818+0958_vis.fits' 'J0833+0959_nir.fits' 'J0833+0959_rescale.fits'\n",
       " 'J0833+0959_uvb.fits' 'J0833+0959_vis.fits' 'J0835+0650_nir.fits'\n",
       " 'J0835+0650_rescale.fits' 'J0835+0650_uvb.fits' 'J0835+0650_vis.fits'\n",
       " 'J0839+0318_nir.fits' 'J0839+0318_rescale.fits' 'J0839+0318_uvb.fits'\n",
       " 'J0839+0318_vis.fits' 'J0920+0725_nir.fits' 'J0920+0725_rescale.fits'\n",
       " 'J0920+0725_uvb.fits' 'J0920+0725_vis.fits' 'J0935+0022_nir.fits'\n",
       " 'J0935+0022_rescale.fits' 'J0935+0022_uvb.fits' 'J0935+0022_vis.fits'\n",
       " 'J0937+0828_nir.fits' 'J0937+0828_rescale.fits' 'J0937+0828_uvb.fits'\n",
       " 'J0937+0828_vis.fits' 'J0955-0130_nir.fits' 'J0955-0130_rescale.fits'\n",
       " 'J0955-0130_uvb.fits' 'J0955-0130_vis.fits' 'J0959+1312_nir.fits'\n",
       " 'J0959+1312_rescale.fits' 'J0959+1312_uvb.fits' 'J0959+1312_vis.fits'\n",
       " 'J1013+0650_nir.fits' 'J1013+0650_rescale.fits' 'J1013+0650_uvb.fits'\n",
       " 'J1013+0650_vis.fits' 'J1018+0548_nir.fits' 'J1018+0548_rescale.fits'\n",
       " 'J1018+0548_uvb.fits' 'J1018+0548_vis.fits' 'J1020+0922_nir.fits'\n",
       " 'J1020+0922_rescale.fits' 'J1020+0922_uvb.fits' 'J1020+0922_vis.fits'\n",
       " 'J1024+1819_nir.fits' 'J1024+1819_rescale.fits' 'J1024+1819_uvb.fits'\n",
       " 'J1024+1819_vis.fits' 'J1032+0927_nir.fits' 'J1032+0927_rescale.fits'\n",
       " 'J1032+0927_uvb.fits' 'J1032+0927_vis.fits' 'J1034+1102_nir.fits'\n",
       " 'J1034+1102_rescale.fits' 'J1034+1102_uvb.fits' 'J1034+1102_vis.fits'\n",
       " 'J1036-0343_nir.fits' 'J1036-0343_rescale.fits' 'J1036-0343_uvb.fits'\n",
       " 'J1036-0343_vis.fits' 'J1037+0704_nir.fits' 'J1037+0704_rescale.fits'\n",
       " 'J1037+0704_uvb.fits' 'J1037+0704_vis.fits' 'J1037+2135_nir.fits'\n",
       " 'J1037+2135_rescale.fits' 'J1037+2135_uvb.fits' 'J1037+2135_vis.fits'\n",
       " 'J1042+1957_nir.fits' 'J1042+1957_rescale.fits' 'J1042+1957_uvb.fits'\n",
       " 'J1042+1957_vis.fits' 'J1053+0103_nir.fits' 'J1053+0103_rescale.fits'\n",
       " 'J1053+0103_uvb.fits' 'J1053+0103_vis.fits' 'J1054+0215_nir.fits'\n",
       " 'J1054+0215_rescale.fits' 'J1054+0215_uvb.fits' 'J1054+0215_vis.fits'\n",
       " 'J1057+1910_nir.fits' 'J1057+1910_rescale.fits' 'J1057+1910_uvb.fits'\n",
       " 'J1057+1910_vis.fits' 'J1058+1245_nir.fits' 'J1058+1245_rescale.fits'\n",
       " 'J1058+1245_uvb.fits' 'J1058+1245_vis.fits' 'J1103+1004_nir.fits'\n",
       " 'J1103+1004_rescale.fits' 'J1103+1004_uvb.fits' 'J1103+1004_vis.fits'\n",
       " 'J1108+1209_nir.fits' 'J1108+1209_rescale.fits' 'J1108+1209_uvb.fits'\n",
       " 'J1108+1209_vis.fits' 'J1110+0244_nir.fits' 'J1110+0244_rescale.fits'\n",
       " 'J1110+0244_uvb.fits' 'J1110+0244_vis.fits' 'J1111-0804_nir.fits'\n",
       " 'J1111-0804_rescale.fits' 'J1111-0804_uvb.fits' 'J1111-0804_vis.fits'\n",
       " 'J1117+1311_nir.fits' 'J1117+1311_rescale.fits' 'J1117+1311_uvb.fits'\n",
       " 'J1117+1311_vis.fits' 'J1126-0124_nir.fits' 'J1126-0124_rescale.fits'\n",
       " 'J1126-0124_uvb.fits' 'J1126-0124_vis.fits' 'J1126-0126_nir.fits'\n",
       " 'J1126-0126_rescale.fits' 'J1126-0126_uvb.fits' 'J1126-0126_vis.fits'\n",
       " 'J1135+0842_nir.fits' 'J1135+0842_rescale.fits' 'J1135+0842_uvb.fits'\n",
       " 'J1135+0842_vis.fits' 'J1201+1206_nir.fits' 'J1201+1206_rescale.fits'\n",
       " 'J1201+1206_uvb.fits' 'J1201+1206_vis.fits' 'J1202-0054_nir.fits'\n",
       " 'J1202-0054_rescale.fits' 'J1202-0054_uvb.fits' 'J1202-0054_vis.fits'\n",
       " 'J1248+1304_nir.fits' 'J1248+1304_rescale.fits' 'J1248+1304_uvb.fits'\n",
       " 'J1248+1304_vis.fits' 'J1249-0159_nir.fits' 'J1249-0159_rescale.fits'\n",
       " 'J1249-0159_uvb.fits' 'J1249-0159_vis.fits' 'J1304+0239_nir.fits'\n",
       " 'J1304+0239_rescale.fits' 'J1304+0239_uvb.fits' 'J1304+0239_vis.fits'\n",
       " 'J1312+0841_nir.fits' 'J1312+0841_rescale.fits' 'J1312+0841_uvb.fits'\n",
       " 'J1312+0841_vis.fits' 'J1320-0523_nir.fits' 'J1320-0523_rescale.fits'\n",
       " 'J1320-0523_uvb.fits' 'J1320-0523_vis.fits' 'J1323+1405_nir.fits'\n",
       " 'J1323+1405_rescale.fits' 'J1323+1405_uvb.fits' 'J1323+1405_vis.fits'\n",
       " 'J1330-2522_nir.fits' 'J1330-2522_rescale.fits' 'J1330-2522_uvb.fits'\n",
       " 'J1330-2522_vis.fits' 'J1331+1015_nir.fits' 'J1331+1015_rescale.fits'\n",
       " 'J1331+1015_uvb.fits' 'J1331+1015_vis.fits' 'J1332+0052_1_nir.fits'\n",
       " 'J1332+0052_1_uvb.fits' 'J1332+0052_1_vis.fits' 'J1332+0052_2_nir.fits'\n",
       " 'J1332+0052_2_uvb.fits' 'J1332+0052_2_vis.fits' 'J1332+0052_nir.fits'\n",
       " 'J1332+0052_rescale.fits' 'J1332+0052_uvb.fits' 'J1332+0052_vis.fits'\n",
       " 'J1336+0243_nir.fits' 'J1336+0243_rescale.fits' 'J1336+0243_uvb.fits'\n",
       " 'J1336+0243_vis.fits' 'J1352+1303_1_nir.fits' 'J1352+1303_1_uvb.fits'\n",
       " 'J1352+1303_1_vis.fits' 'J1352+1303_2_nir.fits' 'J1352+1303_2_uvb.fits'\n",
       " 'J1352+1303_2_vis.fits' 'J1352+1303_nir.fits' 'J1352+1303_rescale.fits'\n",
       " 'J1352+1303_uvb.fits' 'J1352+1303_vis.fits' 'J1401+0244_1_nir.fits'\n",
       " 'J1401+0244_1_uvb.fits' 'J1401+0244_1_vis.fits' 'J1401+0244_2_nir.fits'\n",
       " 'J1401+0244_2_uvb.fits' 'J1401+0244_2_vis.fits' 'J1401+0244_nir.fits'\n",
       " 'J1401+0244_rescale.fits' 'J1401+0244_uvb.fits' 'J1401+0244_vis.fits'\n",
       " 'J1416+1811_nir.fits' 'J1416+1811_rescale.fits' 'J1416+1811_uvb.fits'\n",
       " 'J1416+1811_vis.fits' 'J1421-0643_nir.fits' 'J1421-0643_rescale.fits'\n",
       " 'J1421-0643_uvb.fits' 'J1421-0643_vis.fits' 'J1442+0920_nir.fits'\n",
       " 'J1442+0920_rescale.fits' 'J1442+0920_uvb.fits' 'J1442+0920_vis.fits'\n",
       " 'J1445+0958_nir.fits' 'J1445+0958_rescale.fits' 'J1445+0958_uvb.fits'\n",
       " 'J1445+0958_vis.fits' 'J1503+0419_nir.fits' 'J1503+0419_rescale.fits'\n",
       " 'J1503+0419_uvb.fits' 'J1503+0419_vis.fits' 'J1517+0511_1_nir.fits'\n",
       " 'J1517+0511_1_uvb.fits' 'J1517+0511_1_vis.fits' 'J1517+0511_2_nir.fits'\n",
       " 'J1517+0511_2_uvb.fits' 'J1517+0511_2_vis.fits' 'J1517+0511_nir.fits'\n",
       " 'J1517+0511_rescale.fits' 'J1517+0511_uvb.fits' 'J1517+0511_vis.fits'\n",
       " 'J1524+2123_nir.fits' 'J1524+2123_rescale.fits' 'J1524+2123_uvb.fits'\n",
       " 'J1524+2123_vis.fits' 'J1542+0955_nir.fits' 'J1542+0955_rescale.fits'\n",
       " 'J1542+0955_uvb.fits' 'J1542+0955_vis.fits' 'J1552+1005_nir.fits'\n",
       " 'J1552+1005_rescale.fits' 'J1552+1005_uvb.fits' 'J1552+1005_vis.fits'\n",
       " 'J1621-0042_nir.fits' 'J1621-0042_rescale.fits' 'J1621-0042_uvb.fits'\n",
       " 'J1621-0042_vis.fits' 'J1633+1411_nir.fits' 'J1633+1411_rescale.fits'\n",
       " 'J1633+1411_uvb.fits' 'J1633+1411_vis.fits' 'J1658-0739_nir.fits'\n",
       " 'J1658-0739_rescale.fits' 'J1658-0739_uvb.fits' 'J1658-0739_vis.fits'\n",
       " 'J1723+2243_nir.fits' 'J1723+2243_rescale.fits' 'J1723+2243_uvb.fits'\n",
       " 'J1723+2243_vis.fits' 'J2215-1611_nir.fits' 'J2215-1611_rescale.fits'\n",
       " 'J2215-1611_uvb.fits' 'J2215-1611_vis.fits' 'J2216-6714_nir.fits'\n",
       " 'J2216-6714_rescale.fits' 'J2216-6714_uvb.fits' 'J2216-6714_vis.fits'\n",
       " 'J2239-0552_1_nir.fits' 'J2239-0552_1_uvb.fits' 'J2239-0552_1_vis.fits'\n",
       " 'J2239-0552_2_nir.fits' 'J2239-0552_2_uvb.fits' 'J2239-0552_2_vis.fits'\n",
       " 'J2239-0552_3_nir.fits' 'J2239-0552_3_uvb.fits' 'J2239-0552_3_vis.fits'\n",
       " 'J2239-0552_nir.fits' 'J2239-0552_rescale.fits' 'J2239-0552_uvb.fits'\n",
       " 'J2239-0552_vis.fits' 'J2251-1227_nir.fits' 'J2251-1227_rescale.fits'\n",
       " 'J2251-1227_uvb.fits' 'J2251-1227_vis.fits' 'J2344+0342_1_nir.fits'\n",
       " 'J2344+0342_1_uvb.fits' 'J2344+0342_1_vis.fits' 'J2344+0342_2_nir.fits'\n",
       " 'J2344+0342_2_uvb.fits' 'J2344+0342_2_vis.fits' 'J2344+0342_nir.fits'\n",
       " 'J2344+0342_rescale.fits' 'J2344+0342_uvb.fits' 'J2344+0342_vis.fits'\n",
       " 'J2349-3712_nir.fits' 'J2349-3712_rescale.fits' 'J2349-3712_uvb.fits'\n",
       " 'J2349-3712_vis.fits' -- -- -- -- --],\n",
       "                  mask = [False False False False False False False False False False False False\n",
       " False False False False False False False False False False False False\n",
       " False False False False False False False False False False False False\n",
       " False False False False False False False False False False False False\n",
       " False False False False False False False False False False False False\n",
       " False False False False False False False False False False False False\n",
       " False False False False False False False False False False False False\n",
       " False False False False False False False False False False False False\n",
       " False False False False False False False False False False False False\n",
       " False False False False False False False False False False False False\n",
       " False False False False False False False False False False False False\n",
       " False False False False False False False False False False False False\n",
       " False False False False False False False False False False False False\n",
       " False False False False False False False False False False False False\n",
       " False False False False False False False False False False False False\n",
       " False False False False False False False False False False False False\n",
       " False False False False False False False False False False False False\n",
       " False False False False False False False False False False False False\n",
       " False False False False False False False False False False False False\n",
       " False False False False False False False False False False False False\n",
       " False False False False False False False False False False False False\n",
       " False False False False False False False False False False False False\n",
       " False False False False False False False False False False False False\n",
       " False False False False False False False False False False False False\n",
       " False False False False False False False False False False False False\n",
       " False False False False False False False False False False False False\n",
       " False False False False False False False False False False False False\n",
       " False False False False False False False False False False False False\n",
       " False False False False False False False False False False False False\n",
       " False False False False False False False False False False False False\n",
       " False False False False False False False False False False False False\n",
       " False False False False False False False False False False False False\n",
       " False False False False False False False False False False False False\n",
       " False False False False False False False False False False False False\n",
       " False False False False False False False False False False False False\n",
       " False False False False False False False False False False False False\n",
       " False False False False False False False False False False False False\n",
       " False False False False False False False False False False  True  True\n",
       "  True  True  True],\n",
       "            fill_value = N/A)"
      ]
     },
     "execution_count": 42,
     "metadata": {},
     "output_type": "execute_result"
    }
   ],
   "source": [
    "tmp = eso_tbl['ORIGFILE'].data\n",
    "tmp.sort()\n",
    "tmp"
   ]
  },
  {
   "cell_type": "markdown",
   "metadata": {},
   "source": [
    "## Examining the new meta table"
   ]
  },
  {
   "cell_type": "code",
   "execution_count": 2,
   "metadata": {
    "collapsed": false
   },
   "outputs": [
    {
     "name": "stdout",
     "output_type": "stream",
     "text": [
      "Using /raid/IGMSPEC_DB/IGMspec_DB_v02.hdf5 for the catalog file\n",
      "Using /raid/IGMSPEC_DB/IGMspec_DB_v02.hdf5 for the DB file\n",
      "Available surveys: [u'XQ-100']\n"
     ]
    }
   ],
   "source": [
    "igmsp = IgmSpec()"
   ]
  },
  {
   "cell_type": "code",
   "execution_count": 3,
   "metadata": {
    "collapsed": true
   },
   "outputs": [],
   "source": [
    "new_meta = Table(igmsp.idb.hdf['XQ-100/meta'].value)"
   ]
  },
  {
   "cell_type": "code",
   "execution_count": 4,
   "metadata": {
    "collapsed": false
   },
   "outputs": [
    {
     "data": {
      "text/html": [
       "&lt;Table length=300&gt;\n",
       "<table id=\"table4611461712\">\n",
       "<thead><tr><th>OBJ_NAME</th><th>FILE_NAME</th><th>Z_QSO</th></tr></thead>\n",
       "<thead><tr><th>str24</th><th>str1</th><th>float32</th></tr></thead>\n",
       "<tr><td>HB89 0000-263</td><td>-</td><td>4.12544</td></tr>\n",
       "<tr><td>HB89 0000-263</td><td>-</td><td>4.12544</td></tr>\n",
       "<tr><td>HB89 0000-263</td><td>-</td><td>4.12544</td></tr>\n",
       "<tr><td>BR J0006-6208</td><td>-</td><td>4.43995</td></tr>\n",
       "<tr><td>BR J0006-6208</td><td>-</td><td>4.43995</td></tr>\n",
       "<tr><td>BR J0006-6208</td><td>-</td><td>4.43995</td></tr>\n",
       "<tr><td>BR J0030-5159</td><td>-</td><td>4.17286</td></tr>\n",
       "<tr><td>BR J0030-5159</td><td>-</td><td>4.17286</td></tr>\n",
       "<tr><td>BR J0030-5159</td><td>-</td><td>4.17286</td></tr>\n",
       "<tr><td>PSS J0034+1639</td><td>-</td><td>4.29243</td></tr>\n",
       "<tr><td>...</td><td>...</td><td>...</td></tr>\n",
       "<tr><td>J2239536-055219</td><td>-</td><td>4.55656</td></tr>\n",
       "<tr><td>BR 2248-1242</td><td>-</td><td>4.15747</td></tr>\n",
       "<tr><td>BR 2248-1242</td><td>-</td><td>4.15747</td></tr>\n",
       "<tr><td>BR 2248-1242</td><td>-</td><td>4.15747</td></tr>\n",
       "<tr><td>PSS J2344+0342</td><td>-</td><td>4.24844</td></tr>\n",
       "<tr><td>PSS J2344+0342</td><td>-</td><td>4.24844</td></tr>\n",
       "<tr><td>PSS J2344+0342</td><td>-</td><td>4.24844</td></tr>\n",
       "<tr><td>BR J2349-3712</td><td>-</td><td>4.21923</td></tr>\n",
       "<tr><td>BR J2349-3712</td><td>-</td><td>4.21923</td></tr>\n",
       "<tr><td>BR J2349-3712</td><td>-</td><td>4.21923</td></tr>\n",
       "</table>"
      ],
      "text/plain": [
       "<Table length=300>\n",
       "    OBJ_NAME    FILE_NAME  Z_QSO \n",
       "     str24         str1   float32\n",
       "--------------- --------- -------\n",
       "  HB89 0000-263         - 4.12544\n",
       "  HB89 0000-263         - 4.12544\n",
       "  HB89 0000-263         - 4.12544\n",
       "  BR J0006-6208         - 4.43995\n",
       "  BR J0006-6208         - 4.43995\n",
       "  BR J0006-6208         - 4.43995\n",
       "  BR J0030-5159         - 4.17286\n",
       "  BR J0030-5159         - 4.17286\n",
       "  BR J0030-5159         - 4.17286\n",
       " PSS J0034+1639         - 4.29243\n",
       "            ...       ...     ...\n",
       "J2239536-055219         - 4.55656\n",
       "   BR 2248-1242         - 4.15747\n",
       "   BR 2248-1242         - 4.15747\n",
       "   BR 2248-1242         - 4.15747\n",
       " PSS J2344+0342         - 4.24844\n",
       " PSS J2344+0342         - 4.24844\n",
       " PSS J2344+0342         - 4.24844\n",
       "  BR J2349-3712         - 4.21923\n",
       "  BR J2349-3712         - 4.21923\n",
       "  BR J2349-3712         - 4.21923"
      ]
     },
     "execution_count": 4,
     "metadata": {},
     "output_type": "execute_result"
    }
   ],
   "source": [
    "new_meta[['OBJ_NAME','FILE_NAME','Z_QSO']]"
   ]
  },
  {
   "cell_type": "code",
   "execution_count": 5,
   "metadata": {
    "collapsed": false
   },
   "outputs": [
    {
     "data": {
      "text/plain": [
       "300"
      ]
     },
     "execution_count": 5,
     "metadata": {},
     "output_type": "execute_result"
    }
   ],
   "source": [
    "len(new_meta)"
   ]
  },
  {
   "cell_type": "code",
   "execution_count": 6,
   "metadata": {
    "collapsed": false
   },
   "outputs": [
    {
     "data": {
      "text/plain": [
       "['OBJ_NAME',\n",
       " 'RA',\n",
       " 'DEC',\n",
       " 'FILE_NAME',\n",
       " 'Z_QSO',\n",
       " 'ERR_ZQSO',\n",
       " 'N_OBS',\n",
       " 'MJD_OBS',\n",
       " 'SEEING_START',\n",
       " 'SEEING_END',\n",
       " 'SNR_1700',\n",
       " 'SNR_3000',\n",
       " 'SNR_3600',\n",
       " 'CALIB_FLAG',\n",
       " 'COMBINED_FLAG',\n",
       " 'COMBINED_SNR_17',\n",
       " 'COMBINED_SNR_30',\n",
       " 'COMBINED_SNR_36',\n",
       " 'HR_FLAG',\n",
       " 'JOHNSON_MAG',\n",
       " 'SDSS_PSFMAG',\n",
       " 'SDSS_ERR_PSFMAG',\n",
       " 'DR7Q_MATCHED',\n",
       " 'PLATE_DR7Q',\n",
       " 'MJD_DR7Q',\n",
       " 'FIBER_DR7Q',\n",
       " 'DR12Q_MATCHED',\n",
       " 'N_DR12Q',\n",
       " 'PLATE_DR12Q',\n",
       " 'MJD_DR12Q',\n",
       " 'FIBER_DR12Q',\n",
       " 'FIRST_MATCHED',\n",
       " 'FIRST_FLUX',\n",
       " 'FIRST_SNR',\n",
       " 'MATCHED_TMASS',\n",
       " 'TMASS_MAG',\n",
       " 'TMASS_ERR_MAG',\n",
       " 'TMASS_SNR',\n",
       " 'RD_FLAG',\n",
       " 'MATCHED_WISE',\n",
       " 'WISE_MAG',\n",
       " 'WISE_ERR_MAG',\n",
       " 'WISE_SNR',\n",
       " 'WISE_RCHI2',\n",
       " 'CC_FLAG',\n",
       " 'PH_QUAL',\n",
       " 'N_ABS',\n",
       " 'Z_ABS',\n",
       " 'NHI_ABS',\n",
       " 'ERR_NHI_ABS',\n",
       " 'ORIG_FILE',\n",
       " 'zem',\n",
       " 'sig_zem',\n",
       " 'flag_zem',\n",
       " 'DATE-OBS',\n",
       " 'EPOCH',\n",
       " 'IGM_ID',\n",
       " 'GRATING',\n",
       " 'TELESCOPE',\n",
       " 'INSTR',\n",
       " 'NPIX',\n",
       " 'WV_MIN',\n",
       " 'WV_MAX',\n",
       " 'R',\n",
       " 'SURVEY_ID',\n",
       " 'SPEC_FILE']"
      ]
     },
     "execution_count": 6,
     "metadata": {},
     "output_type": "execute_result"
    }
   ],
   "source": [
    "new_meta.keys()"
   ]
  },
  {
   "cell_type": "markdown",
   "metadata": {
    "collapsed": true
   },
   "source": [
    "## Continuum"
   ]
  },
  {
   "cell_type": "markdown",
   "metadata": {},
   "source": [
    "### Load example"
   ]
  },
  {
   "cell_type": "code",
   "execution_count": 7,
   "metadata": {
    "collapsed": true
   },
   "outputs": [],
   "source": [
    "exmpl = '/raid/Raw_IGMspec//XQ-100/ADP.2016-07-15T08:22:40.174.fits'"
   ]
  },
  {
   "cell_type": "code",
   "execution_count": 9,
   "metadata": {
    "collapsed": false
   },
   "outputs": [
    {
     "name": "stdout",
     "output_type": "stream",
     "text": [
      "Filename: /raid/Raw_IGMspec//XQ-100/ADP.2016-07-15T08:22:40.174.fits\n",
      "No.    Name         Type      Cards   Dimensions   Format\n",
      "0    PRIMARY     PrimaryHDU      45   ()              \n",
      "1    SPECTRUM    BinTableHDU     40   1R x 3C      [34086E, 34086E, 34086E]   \n"
     ]
    }
   ],
   "source": [
    "hdu = fits.open(exmpl)\n",
    "hdu.info()"
   ]
  },
  {
   "cell_type": "code",
   "execution_count": 15,
   "metadata": {
    "collapsed": true
   },
   "outputs": [],
   "source": [
    "all_spec = Table(hdu[1].data)"
   ]
  },
  {
   "cell_type": "code",
   "execution_count": 16,
   "metadata": {
    "collapsed": false
   },
   "outputs": [
    {
     "data": {
      "text/html": [
       "&lt;Table length=1&gt;\n",
       "<table id=\"table4659845712\">\n",
       "<thead><tr><th>WAVE [34086]</th><th>FLUX [34086]</th><th>ERR_FLUX [34086]</th></tr></thead>\n",
       "<thead><tr><th>float32</th><th>float32</th><th>float32</th></tr></thead>\n",
       "<tr><td>310.003 .. 1799.96</td><td>0.0 .. 6.51778e-17</td><td>0.0 .. 4.05254e-18</td></tr>\n",
       "</table>"
      ],
      "text/plain": [
       "<Table length=1>\n",
       "   WAVE [34086]       FLUX [34086]     ERR_FLUX [34086] \n",
       "     float32            float32            float32      \n",
       "------------------ ------------------ ------------------\n",
       "310.003 .. 1799.96 0.0 .. 6.51778e-17 0.0 .. 4.05254e-18"
      ]
     },
     "execution_count": 16,
     "metadata": {},
     "output_type": "execute_result"
    }
   ],
   "source": [
    "all_spec"
   ]
  },
  {
   "cell_type": "markdown",
   "metadata": {},
   "source": [
    "### Check"
   ]
  },
  {
   "cell_type": "code",
   "execution_count": 14,
   "metadata": {
    "collapsed": true
   },
   "outputs": [],
   "source": [
    "uvb_exmpl = '/raid/Raw_IGMspec//XQ-100/ADP.2016-07-15T08:22:40.178.fits'"
   ]
  },
  {
   "cell_type": "code",
   "execution_count": 17,
   "metadata": {
    "collapsed": true
   },
   "outputs": [],
   "source": [
    "uvb_spec = Table(fits.open(uvb_exmpl)[1].data)"
   ]
  },
  {
   "cell_type": "code",
   "execution_count": 18,
   "metadata": {
    "collapsed": false
   },
   "outputs": [
    {
     "data": {
      "text/html": [
       "&lt;Table length=1&gt;\n",
       "<table id=\"table4611465040\">\n",
       "<thead><tr><th>WAVE [8866]</th><th>FLUX [8866]</th><th>ERR_FLUX [8866]</th><th>CONTINUUM [8866]</th></tr></thead>\n",
       "<thead><tr><th>float32</th><th>float32</th><th>float32</th><th>float32</th></tr></thead>\n",
       "<tr><td>310.003 .. 560.019</td><td>0.0 .. 0.0</td><td>0.0 .. 0.0</td><td>3.98277e-16 .. 4.5528e-16</td></tr>\n",
       "</table>"
      ],
      "text/plain": [
       "<Table length=1>\n",
       "   WAVE [8866]     FLUX [8866] ERR_FLUX [8866]      CONTINUUM [8866]    \n",
       "     float32         float32       float32              float32         \n",
       "------------------ ----------- --------------- -------------------------\n",
       "310.003 .. 560.019  0.0 .. 0.0      0.0 .. 0.0 3.98277e-16 .. 4.5528e-16"
      ]
     },
     "execution_count": 18,
     "metadata": {},
     "output_type": "execute_result"
    }
   ],
   "source": [
    "uvb_spec"
   ]
  },
  {
   "cell_type": "code",
   "execution_count": 20,
   "metadata": {
    "collapsed": false
   },
   "outputs": [
    {
     "data": {
      "text/plain": [
       "(310.00299, 310.00299)"
      ]
     },
     "execution_count": 20,
     "metadata": {},
     "output_type": "execute_result"
    }
   ],
   "source": [
    "uvb_spec['WAVE'][0][0], all_spec['WAVE'][0][0]"
   ]
  },
  {
   "cell_type": "markdown",
   "metadata": {},
   "source": [
    "#### Plot"
   ]
  },
  {
   "cell_type": "code",
   "execution_count": 28,
   "metadata": {
    "collapsed": true
   },
   "outputs": [],
   "source": [
    "# Not done\n",
    "# Just realized that the CONTINUUM is in the individual files!"
   ]
  },
  {
   "cell_type": "code",
   "execution_count": null,
   "metadata": {
    "collapsed": true
   },
   "outputs": [],
   "source": []
  }
 ],
 "metadata": {
  "kernelspec": {
   "display_name": "Python 2",
   "language": "python",
   "name": "python2"
  },
  "language_info": {
   "codemirror_mode": {
    "name": "ipython",
    "version": 2
   },
   "file_extension": ".py",
   "mimetype": "text/x-python",
   "name": "python",
   "nbconvert_exporter": "python",
   "pygments_lexer": "ipython2",
   "version": "2.7.11"
  }
 },
 "nbformat": 4,
 "nbformat_minor": 0
}
