{
 "cells": [
  {
   "cell_type": "markdown",
   "metadata": {},
   "source": [
    "# XQ-100 Dataset (v1.4)"
   ]
  },
  {
   "cell_type": "code",
   "execution_count": 1,
   "metadata": {
    "collapsed": true
   },
   "outputs": [],
   "source": [
    "%matplotlib notebook"
   ]
  },
  {
   "cell_type": "code",
   "execution_count": 14,
   "metadata": {
    "collapsed": true
   },
   "outputs": [],
   "source": [
    "# imports\n",
    "import os\n",
    "import numpy as np\n",
    "from imp import reload\n",
    "\n",
    "from astropy.coordinates import SkyCoord, match_coordinates_sky\n",
    "from astropy.table import Table\n",
    "from astropy import units as u\n",
    "\n",
    "from specdb.specdb import IgmSpec\n",
    "\n",
    "from igmspec.ingest import xq100 as iixq"
   ]
  },
  {
   "cell_type": "markdown",
   "metadata": {},
   "source": [
    "## See this paper\n",
    "\n",
    "    http://adsabs.harvard.edu/abs/2016arXiv160708776L"
   ]
  },
  {
   "cell_type": "markdown",
   "metadata": {},
   "source": [
    "## Meta file\n",
    "\n",
    "    Provided by S. Lopez on 18 July 2016\n",
    "    There is also one in the VLT database, but I've ignored it (probably should not have)\n",
    "    \n",
    "    Need to grab the Table on the webstie for the ORIGFILE column.."
   ]
  },
  {
   "cell_type": "code",
   "execution_count": 3,
   "metadata": {
    "collapsed": true
   },
   "outputs": [],
   "source": [
    "meta_file = os.getenv('RAW_IGMSPEC')+'/XQ-100/XQ100_v1_2.fits.gz'"
   ]
  },
  {
   "cell_type": "code",
   "execution_count": 4,
   "metadata": {
    "collapsed": false
   },
   "outputs": [
    {
     "name": "stderr",
     "output_type": "stream",
     "text": [
      "WARNING: UnitsWarning: '-' did not parse as fits unit: Invalid character at col 0 [astropy.units.core]\n",
      "WARNING: UnitsWarning: '[cm-2]' did not parse as fits unit: Invalid character at col 0 [astropy.units.core]\n"
     ]
    },
    {
     "data": {
      "text/html": [
       "&lt;Table masked=True length=5&gt;\n",
       "<table id=\"table140239207704952\" class=\"table-striped table-bordered table-condensed\">\n",
       "<thead><tr><th>OBJ_NAME</th><th>RA</th><th>DEC</th><th>FILE_NAME</th><th>Z_QSO</th><th>ERR_ZQSO</th><th>N_OBS</th><th>MJD_OBS [3]</th><th>SEEING_START [3]</th><th>SEEING_END [3]</th><th>SNR_1700 [3]</th><th>SNR_3000 [3]</th><th>SNR_3600 [3]</th><th>CALIB_FLAG [3]</th><th>COMBINED_FLAG</th><th>COMBINED_SNR_17</th><th>COMBINED_SNR_30</th><th>COMBINED_SNR_36</th><th>HR_FLAG</th><th>JOHNSON_MAG [3]</th><th>SDSS_PSFMAG [5]</th><th>SDSS_ERR_PSFMAG [5]</th><th>DR7Q_MATCHED</th><th>PLATE_DR7Q</th><th>MJD_DR7Q</th><th>FIBER_DR7Q</th><th>DR12Q_MATCHED</th><th>N_DR12Q</th><th>PLATE_DR12Q [2]</th><th>MJD_DR12Q [2]</th><th>FIBER_DR12Q [2]</th><th>FIRST_MATCHED</th><th>FIRST_FLUX</th><th>FIRST_SNR</th><th>MATCHED_TMASS</th><th>TMASS_MAG [3]</th><th>TMASS_ERR_MAG [3]</th><th>TMASS_SNR [3]</th><th>RD_FLAG</th><th>MATCHED_WISE</th><th>WISE_MAG [4]</th><th>WISE_ERR_MAG [4]</th><th>WISE_SNR [4]</th><th>WISE_RCHI2 [4]</th><th>CC_FLAG</th><th>PH_QUAL</th><th>N_ABS</th><th>Z_ABS [4]</th><th>NHI_ABS [4]</th><th>ERR_NHI_ABS [4]</th></tr></thead>\n",
       "<thead><tr><th>-</th><th>deg</th><th>deg</th><th>-</th><th>-</th><th>-</th><th>-</th><th>-</th><th>arcsec</th><th>arcsec</th><th>-</th><th>-</th><th>-</th><th>-</th><th>-</th><th>-</th><th>-</th><th>-</th><th>-</th><th>-</th><th>-</th><th>-</th><th>-</th><th>-</th><th>-</th><th>-</th><th>-</th><th>-</th><th>-</th><th>-</th><th>-</th><th>-</th><th>mJy</th><th>-</th><th>-</th><th>-</th><th>-</th><th>-</th><th>-</th><th>-</th><th>-</th><th>-</th><th>-</th><th>-</th><th>-</th><th>-</th><th>-</th><th>-</th><th>[cm-2]</th><th>[cm-2]</th></tr></thead>\n",
       "<thead><tr><th>str24</th><th>float64</th><th>float64</th><th>str1</th><th>float32</th><th>float32</th><th>int32</th><th>float32</th><th>float32</th><th>float32</th><th>float64</th><th>float64</th><th>float64</th><th>float64</th><th>int16</th><th>float64</th><th>float64</th><th>float64</th><th>int16</th><th>float32</th><th>float64</th><th>float64</th><th>int16</th><th>int32</th><th>int32</th><th>int32</th><th>int16</th><th>int32</th><th>int32</th><th>int32</th><th>int32</th><th>int32</th><th>float64</th><th>float64</th><th>int16</th><th>float64</th><th>float64</th><th>float64</th><th>str3</th><th>int16</th><th>float64</th><th>float64</th><th>float64</th><th>float64</th><th>str4</th><th>str3</th><th>int16</th><th>float64</th><th>float64</th><th>float64</th></tr></thead>\n",
       "<tr><td>HB89 0000-263</td><td>0.844985</td><td>-26.0554</td><td>-</td><td>4.12544</td><td>0.0002136</td><td>1</td><td>56219.1 .. -1.0</td><td>0.98 .. -1.0</td><td>1.45 .. -1.0</td><td>78.5073013306 .. -1.0</td><td>99.202003479 .. -1.0</td><td>-1.0 .. -1.0</td><td>0.0 .. -1.0</td><td>0</td><td>-1.0</td><td>-1.0</td><td>-1.0</td><td>1</td><td>18.0 .. -1.0</td><td>-1.0 .. -1.0</td><td>-1.0 .. -1.0</td><td>0</td><td>-1</td><td>-1</td><td>-1</td><td>0</td><td>0</td><td>-1 .. -1</td><td>-1 .. -1</td><td>-1 .. -1</td><td>-1</td><td>0.0</td><td>0.0</td><td>1</td><td>16.2700004578 .. 14.7779998779</td><td>0.11400000006 .. 0.107000000775</td><td>9.80000019073 .. 9.69999980927</td><td>222</td><td>1</td><td>13.9270000458 .. 7.47700023651</td><td>0.0280000008643 .. 0.134000003338</td><td>39.0 .. 8.10000038147</td><td>1.01900005341 .. 1.01800000668</td><td>0000</td><td>BCB</td><td>2</td><td>3.054500103 .. -1.0</td><td>20.2000007629 .. -1.0</td><td>0.10000000149 .. -1.0</td></tr>\n",
       "<tr><td>BR J0006-6208</td><td>1.715033</td><td>-62.13355</td><td>-</td><td>4.43995</td><td>0.00089465</td><td>1</td><td>56209.2 .. -1.0</td><td>1.05 .. -1.0</td><td>1.43 .. -1.0</td><td>19.7355003357 .. -1.0</td><td>22.1355991364 .. -1.0</td><td>-1.0 .. -1.0</td><td>2.0 .. -1.0</td><td>0</td><td>-1.0</td><td>-1.0</td><td>-1.0</td><td>1</td><td>-1.0 .. -1.0</td><td>-1.0 .. -1.0</td><td>-1.0 .. -1.0</td><td>0</td><td>-1</td><td>-1</td><td>-1</td><td>0</td><td>0</td><td>-1 .. -1</td><td>-1 .. -1</td><td>-1 .. -1</td><td>-1</td><td>0.0</td><td>0.0</td><td>0</td><td>-1.0 .. -1.0</td><td>-1.0 .. -1.0</td><td>-1.0 .. -1.0</td><td>-</td><td>1</td><td>15.1999998093 .. 8.34200000763</td><td>0.0340000018477 .. 0.287999987602</td><td>32.2000007629 .. 3.79999995232</td><td>0.882799983025 .. 0.972999989986</td><td>0000</td><td>-</td><td>3</td><td>3.20300006866 .. -1.0</td><td>20.8999996185 .. -1.0</td><td>0.10000000149 .. -1.0</td></tr>\n",
       "<tr><td>BR J0030-5159</td><td>7.643627</td><td>-51.49546</td><td>-</td><td>4.17286</td><td>0.00014623</td><td>1</td><td>56211.2 .. -1.0</td><td>0.82 .. -1.0</td><td>-1.0 .. -1.0</td><td>17.7509002686 .. -1.0</td><td>21.5370006561 .. -1.0</td><td>-1.0 .. -1.0</td><td>0.0 .. -1.0</td><td>0</td><td>-1.0</td><td>-1.0</td><td>-1.0</td><td>1</td><td>-1.0 .. -1.0</td><td>-1.0 .. -1.0</td><td>-1.0 .. -1.0</td><td>0</td><td>-1</td><td>-1</td><td>-1</td><td>0</td><td>0</td><td>-1 .. -1</td><td>-1 .. -1</td><td>-1 .. -1</td><td>-1</td><td>0.0</td><td>0.0</td><td>0</td><td>-1.0 .. -1.0</td><td>-1.0 .. -1.0</td><td>-1.0 .. -1.0</td><td>-</td><td>1</td><td>15.468000412 .. 8.77700042725</td><td>0.0370000004768 .. 0.0</td><td>29.7000007629 .. 0.0</td><td>0.965099990368 .. 0.0</td><td></td><td>-</td><td>0</td><td>-1.0 .. -1.0</td><td>-1.0 .. -1.0</td><td>-1.0 .. -1.0</td></tr>\n",
       "<tr><td>PSS J0034+1639</td><td>8.727975</td><td>16.65506</td><td>-</td><td>4.29243</td><td>0.00019559</td><td>1</td><td>56219.1 .. -1.0</td><td>1.05 .. -1.0</td><td>1.34 .. -1.0</td><td>28.351600647 .. -1.0</td><td>30.108499527 .. -1.0</td><td>-1.0 .. -1.0</td><td>0.0 .. -1.0</td><td>0</td><td>-1.0</td><td>-1.0</td><td>-1.0</td><td>0</td><td>-1.0 .. -1.0</td><td>-1.0 .. -1.0</td><td>-1.0 .. -1.0</td><td>0</td><td>-1</td><td>-1</td><td>-1</td><td>0</td><td>0</td><td>-1 .. -1</td><td>-1 .. -1</td><td>-1 .. -1</td><td>-1</td><td>0.0</td><td>0.0</td><td>0</td><td>-1.0 .. -1.0</td><td>-1.0 .. -1.0</td><td>-1.0 .. -1.0</td><td>-</td><td>1</td><td>14.7530002594 .. 8.12699985504</td><td>0.0329999998212 .. 0.0</td><td>33.0 .. 0.0</td><td>0.85949999094 .. 0.0</td><td></td><td>-</td><td>3</td><td>3.75500011444 .. -1.0</td><td>20.3999996185 .. -1.0</td><td>0.15000000596 .. -1.0</td></tr>\n",
       "<tr><td>SDSS J004219.74-102009.4</td><td>10.582215</td><td>-10.33674</td><td>-</td><td>3.86293</td><td>0.00027549</td><td>1</td><td>56210.1 .. -1.0</td><td>0.58 .. -1.0</td><td>0.6 .. -1.0</td><td>51.7294006348 .. -1.0</td><td>48.0922012329 .. -1.0</td><td>57.8768005371 .. -1.0</td><td>0.0 .. -1.0</td><td>0</td><td>-1.0</td><td>-1.0</td><td>-1.0</td><td>1</td><td>20.57 .. -1.0</td><td>-1.0 .. -1.0</td><td>-1.0 .. -1.0</td><td>0</td><td>-1</td><td>-1</td><td>-1</td><td>0</td><td>0</td><td>-1 .. -1</td><td>-1 .. -1</td><td>-1 .. -1</td><td>0</td><td>0.0</td><td>0.0</td><td>0</td><td>-1.0 .. -1.0</td><td>-1.0 .. -1.0</td><td>-1.0 .. -1.0</td><td>-</td><td>1</td><td>15.0579996109 .. 8.19699954987</td><td>0.0370000004768 .. 0.261000007391</td><td>29.2999992371 .. 4.19999980927</td><td>0.927299976349 .. 0.788500010967</td><td>0000</td><td>-</td><td>1</td><td>2.7555000782 .. -1.0</td><td>20.0 .. -1.0</td><td>0.10000000149 .. -1.0</td></tr>\n",
       "</table>"
      ],
      "text/plain": [
       "<Table masked=True length=5>\n",
       "        OBJ_NAME             RA    ...    ERR_NHI_ABS [4]   \n",
       "           -                deg    ...         [cm-2]       \n",
       "         str24            float64  ...        float64       \n",
       "------------------------ --------- ... ---------------------\n",
       "           HB89 0000-263  0.844985 ... 0.10000000149 .. -1.0\n",
       "           BR J0006-6208  1.715033 ... 0.10000000149 .. -1.0\n",
       "           BR J0030-5159  7.643627 ...          -1.0 .. -1.0\n",
       "          PSS J0034+1639  8.727975 ... 0.15000000596 .. -1.0\n",
       "SDSS J004219.74-102009.4 10.582215 ... 0.10000000149 .. -1.0"
      ]
     },
     "execution_count": 4,
     "metadata": {},
     "output_type": "execute_result"
    }
   ],
   "source": [
    "meta = Table.read(meta_file)\n",
    "meta[0:5]"
   ]
  },
  {
   "cell_type": "code",
   "execution_count": 12,
   "metadata": {
    "collapsed": false
   },
   "outputs": [
    {
     "data": {
      "text/plain": [
       "masked_BaseColumn(data = [56219.05859375 -1.0 -1.0],\n",
       "                  mask = [False False False],\n",
       "            fill_value = 1.00000002004e+20)"
      ]
     },
     "execution_count": 12,
     "metadata": {},
     "output_type": "execute_result"
    }
   ],
   "source": [
    "meta[0]['MJD_OBS']"
   ]
  },
  {
   "cell_type": "code",
   "execution_count": 15,
   "metadata": {
    "collapsed": false
   },
   "outputs": [
    {
     "data": {
      "text/plain": [
       "['OBJ_NAME',\n",
       " 'RA',\n",
       " 'DEC',\n",
       " 'FILE_NAME',\n",
       " 'Z_QSO',\n",
       " 'ERR_ZQSO',\n",
       " 'N_OBS',\n",
       " 'MJD_OBS',\n",
       " 'SEEING_START',\n",
       " 'SEEING_END',\n",
       " 'SNR_1700',\n",
       " 'SNR_3000',\n",
       " 'SNR_3600',\n",
       " 'CALIB_FLAG',\n",
       " 'COMBINED_FLAG',\n",
       " 'COMBINED_SNR_17',\n",
       " 'COMBINED_SNR_30',\n",
       " 'COMBINED_SNR_36',\n",
       " 'HR_FLAG',\n",
       " 'JOHNSON_MAG',\n",
       " 'SDSS_PSFMAG',\n",
       " 'SDSS_ERR_PSFMAG',\n",
       " 'DR7Q_MATCHED',\n",
       " 'PLATE_DR7Q',\n",
       " 'MJD_DR7Q',\n",
       " 'FIBER_DR7Q',\n",
       " 'DR12Q_MATCHED',\n",
       " 'N_DR12Q',\n",
       " 'PLATE_DR12Q',\n",
       " 'MJD_DR12Q',\n",
       " 'FIBER_DR12Q',\n",
       " 'FIRST_MATCHED',\n",
       " 'FIRST_FLUX',\n",
       " 'FIRST_SNR',\n",
       " 'MATCHED_TMASS',\n",
       " 'TMASS_MAG',\n",
       " 'TMASS_ERR_MAG',\n",
       " 'TMASS_SNR',\n",
       " 'RD_FLAG',\n",
       " 'MATCHED_WISE',\n",
       " 'WISE_MAG',\n",
       " 'WISE_ERR_MAG',\n",
       " 'WISE_SNR',\n",
       " 'WISE_RCHI2',\n",
       " 'CC_FLAG',\n",
       " 'PH_QUAL',\n",
       " 'N_ABS',\n",
       " 'Z_ABS',\n",
       " 'NHI_ABS',\n",
       " 'ERR_NHI_ABS']"
      ]
     },
     "execution_count": 15,
     "metadata": {},
     "output_type": "execute_result"
    }
   ],
   "source": [
    "meta.keys()"
   ]
  },
  {
   "cell_type": "markdown",
   "metadata": {},
   "source": [
    "### Quick coord check"
   ]
  },
  {
   "cell_type": "code",
   "execution_count": 10,
   "metadata": {
    "collapsed": false
   },
   "outputs": [
    {
     "data": {
      "text/plain": [
       "\"\\nfor row in meta:\\n    coord = SkyCoord(ra=row['RA'], dec=row['DEC'], unit='deg')\\n    name = 'J{:s}{:s}'.format(coord.ra.to_string(unit=u.hour,sep='',pad=True),\\n                 coord.dec.to_string(sep='',pad=True,alwayssign=True))\\n    print(name)\\n\""
      ]
     },
     "execution_count": 10,
     "metadata": {},
     "output_type": "execute_result"
    }
   ],
   "source": [
    "'''\n",
    "for row in meta:\n",
    "    coord = SkyCoord(ra=row['RA'], dec=row['DEC'], unit='deg')\n",
    "    name = 'J{:s}{:s}'.format(coord.ra.to_string(unit=u.hour,sep='',pad=True),\n",
    "                 coord.dec.to_string(sep='',pad=True,alwayssign=True))\n",
    "    print(name)\n",
    "'''"
   ]
  },
  {
   "cell_type": "markdown",
   "metadata": {},
   "source": [
    "## ESO Meta file\n",
    "\n",
    "    http://archive.eso.org/wdb/wdb/adp/phase3_main/form?phase3_collection=189.A-0424&release_tag=1\n",
    "    Saved as csv\n",
    "    Had to fuss with unicode"
   ]
  },
  {
   "cell_type": "code",
   "execution_count": 36,
   "metadata": {
    "collapsed": true
   },
   "outputs": [],
   "source": [
    "eso_file = os.getenv('RAW_IGMSPEC')+'/XQ-100/metadata_eso_XQ100.csv'"
   ]
  },
  {
   "cell_type": "code",
   "execution_count": 37,
   "metadata": {
    "collapsed": true
   },
   "outputs": [],
   "source": [
    "eso_tbl = Table.read(eso_file, format='ascii.csv')#, guess=False)"
   ]
  },
  {
   "cell_type": "code",
   "execution_count": 39,
   "metadata": {
    "collapsed": false
   },
   "outputs": [
    {
     "data": {
      "text/html": [
       "&lt;Table masked=True length=5&gt;\n",
       "<table id=\"table4673949584\">\n",
       "<thead><tr><th>ARCFILE</th><th>Object</th><th>RA</th><th>DEC</th><th>Filter</th><th>ABMAGLIM</th><th>Wavelength</th><th>SNR</th><th>R</th><th>Product category</th><th>Instrument</th><th>Date Obs</th><th>Exptime</th><th>Collection</th><th>Product version</th><th>Run/Program ID</th><th>ORIGFILE</th><th>REF</th></tr></thead>\n",
       "<thead><tr><th>str67</th><th>str24</th><th>float64</th><th>float64</th><th>int64</th><th>int64</th><th>str17</th><th>float64</th><th>int64</th><th>str16</th><th>str8</th><th>str23</th><th>float64</th><th>str10</th><th>int64</th><th>str13</th><th>str23</th><th>int64</th></tr></thead>\n",
       "<tr><td>ADP.2016-07-15T08:22:40.171</td><td>SDSS J092041.76+072544.0</td><td>140.173864</td><td>7.42813</td><td>--</td><td>--</td><td>982.000..2480.304</td><td>19.3</td><td>5300</td><td>SCIENCE.SPECTRUM</td><td>XSHOOTER</td><td>2013-12-27T05:43:37.136</td><td>3600.0</td><td>189.A-0424</td><td>1</td><td>189.A-0424(B)</td><td>J0920+0725_nir.fits</td><td>--</td></tr>\n",
       "<tr><td>ADP.2016-07-15T08:22:40.173</td><td>PSS J0211+1107</td><td>32.833759</td><td>11.12072</td><td>--</td><td>--</td><td>310.003..560.019</td><td>7.1</td><td>5100</td><td>SCIENCE.SPECTRUM</td><td>XSHOOTER</td><td>2012-11-07T04:28:31.516</td><td>1780.0</td><td>189.A-0424</td><td>1</td><td>189.A-0424(B)</td><td>J0211+1107_uvb.fits</td><td>--</td></tr>\n",
       "<tr><td>ADP.2016-07-15T08:22:40.174</td><td>BR J0529-3526</td><td>82.316604</td><td>-35.43369</td><td>--</td><td>--</td><td>310.003..1799.963</td><td>16.5</td><td>5700</td><td>SCIENCE.SPECTRUM</td><td>XSHOOTER</td><td>2012-11-19T07:00:02.536</td><td>3480.0</td><td>189.A-0424</td><td>1</td><td>189.A-0424(B)</td><td>J0529-3526_rescale.fits</td><td>--</td></tr>\n",
       "<tr><td>ADP.2016-07-15T08:22:40.175</td><td>SDSSJ1042+1957</td><td>160.641776</td><td>19.95454</td><td>--</td><td>--</td><td>309.982..2480.304</td><td>26.0</td><td>5700</td><td>SCIENCE.SPECTRUM</td><td>XSHOOTER</td><td>2014-02-22T04:45:50.450</td><td>3480.0</td><td>189.A-0424</td><td>1</td><td>189.A-0424(A)</td><td>J1042+1957_rescale.fits</td><td>--</td></tr>\n",
       "<tr><td>ADP.2016-07-15T08:22:40.176</td><td>PSS J0211+1107</td><td>32.833759</td><td>11.12072</td><td>--</td><td>--</td><td>550.003..1019.992</td><td>21.6</td><td>8800</td><td>SCIENCE.SPECTRUM</td><td>XSHOOTER</td><td>2012-11-07T04:28:36.666</td><td>1680.0</td><td>189.A-0424</td><td>1</td><td>189.A-0424(B)</td><td>J0211+1107_vis.fits</td><td>--</td></tr>\n",
       "</table>"
      ],
      "text/plain": [
       "<Table masked=True length=5>\n",
       "          ARCFILE                    Object          ...  REF \n",
       "           str67                     str24           ... int64\n",
       "--------------------------- ------------------------ ... -----\n",
       "ADP.2016-07-15T08:22:40.171 SDSS J092041.76+072544.0 ...    --\n",
       "ADP.2016-07-15T08:22:40.173           PSS J0211+1107 ...    --\n",
       "ADP.2016-07-15T08:22:40.174            BR J0529-3526 ...    --\n",
       "ADP.2016-07-15T08:22:40.175           SDSSJ1042+1957 ...    --\n",
       "ADP.2016-07-15T08:22:40.176           PSS J0211+1107 ...    --"
      ]
     },
     "execution_count": 39,
     "metadata": {},
     "output_type": "execute_result"
    }
   ],
   "source": [
    "eso_tbl[0:5]"
   ]
  },
  {
   "cell_type": "code",
   "execution_count": 42,
   "metadata": {
    "collapsed": false
   },
   "outputs": [
    {
     "data": {
      "text/plain": [
       "masked_BaseColumn(data = ['J0003-2603_nir.fits' 'J0003-2603_rescale.fits' 'J0003-2603_uvb.fits'\n",
       " 'J0003-2603_vis.fits' 'J0006-6208_nir.fits' 'J0006-6208_rescale.fits'\n",
       " 'J0006-6208_uvb.fits' 'J0006-6208_vis.fits' 'J0030-5129_nir.fits'\n",
       " 'J0030-5129_rescale.fits' 'J0030-5129_uvb.fits' 'J0030-5129_vis.fits'\n",
       " 'J0034+1639_nir.fits' 'J0034+1639_rescale.fits' 'J0034+1639_uvb.fits'\n",
       " 'J0034+1639_vis.fits' 'J0042-1020_nir.fits' 'J0042-1020_rescale.fits'\n",
       " 'J0042-1020_uvb.fits' 'J0042-1020_vis.fits' 'J0048-2442_nir.fits'\n",
       " 'J0048-2442_rescale.fits' 'J0048-2442_uvb.fits' 'J0048-2442_vis.fits'\n",
       " 'J0056-2808_nir.fits' 'J0056-2808_rescale.fits' 'J0056-2808_uvb.fits'\n",
       " 'J0056-2808_vis.fits' 'J0057-2643_nir.fits' 'J0057-2643_rescale.fits'\n",
       " 'J0057-2643_uvb.fits' 'J0057-2643_vis.fits' 'J0100-2708_nir.fits'\n",
       " 'J0100-2708_rescale.fits' 'J0100-2708_uvb.fits' 'J0100-2708_vis.fits'\n",
       " 'J0113-2803_nir.fits' 'J0113-2803_rescale.fits' 'J0113-2803_uvb.fits'\n",
       " 'J0113-2803_vis.fits' 'J0117+1552_nir.fits' 'J0117+1552_rescale.fits'\n",
       " 'J0117+1552_uvb.fits' 'J0117+1552_vis.fits' 'J0121+0347_nir.fits'\n",
       " 'J0121+0347_rescale.fits' 'J0121+0347_uvb.fits' 'J0121+0347_vis.fits'\n",
       " 'J0124+0044_nir.fits' 'J0124+0044_rescale.fits' 'J0124+0044_uvb.fits'\n",
       " 'J0124+0044_vis.fits' 'J0132+1341_nir.fits' 'J0132+1341_rescale.fits'\n",
       " 'J0132+1341_uvb.fits' 'J0132+1341_vis.fits' 'J0133+0400_nir.fits'\n",
       " 'J0133+0400_rescale.fits' 'J0133+0400_uvb.fits' 'J0133+0400_vis.fits'\n",
       " 'J0137-4224_nir.fits' 'J0137-4224_rescale.fits' 'J0137-4224_uvb.fits'\n",
       " 'J0137-4224_vis.fits' 'J0153-0011_nir.fits' 'J0153-0011_rescale.fits'\n",
       " 'J0153-0011_uvb.fits' 'J0153-0011_vis.fits' 'J0211+1107_nir.fits'\n",
       " 'J0211+1107_rescale.fits' 'J0211+1107_uvb.fits' 'J0211+1107_vis.fits'\n",
       " 'J0214-0517_nir.fits' 'J0214-0517_rescale.fits' 'J0214-0517_uvb.fits'\n",
       " 'J0214-0517_vis.fits' 'J0234-1806_nir.fits' 'J0234-1806_rescale.fits'\n",
       " 'J0234-1806_uvb.fits' 'J0234-1806_vis.fits' 'J0244-0134_nir.fits'\n",
       " 'J0244-0134_rescale.fits' 'J0244-0134_uvb.fits' 'J0244-0134_vis.fits'\n",
       " 'J0247-0556_nir.fits' 'J0247-0556_rescale.fits' 'J0247-0556_uvb.fits'\n",
       " 'J0247-0556_vis.fits' 'J0248+1802_nir.fits' 'J0248+1802_rescale.fits'\n",
       " 'J0248+1802_uvb.fits' 'J0248+1802_vis.fits' 'J0255+0048_nir.fits'\n",
       " 'J0255+0048_rescale.fits' 'J0255+0048_uvb.fits' 'J0255+0048_vis.fits'\n",
       " 'J0307-4945_nir.fits' 'J0307-4945_rescale.fits' 'J0307-4945_uvb.fits'\n",
       " 'J0307-4945_vis.fits' 'J0311-1722_nir.fits' 'J0311-1722_rescale.fits'\n",
       " 'J0311-1722_uvb.fits' 'J0311-1722_vis.fits' 'J0403-1703_nir.fits'\n",
       " 'J0403-1703_rescale.fits' 'J0403-1703_uvb.fits' 'J0403-1703_vis.fits'\n",
       " 'J0415-4357_nir.fits' 'J0415-4357_rescale.fits' 'J0415-4357_uvb.fits'\n",
       " 'J0415-4357_vis.fits' 'J0426-2202_nir.fits' 'J0426-2202_rescale.fits'\n",
       " 'J0426-2202_uvb.fits' 'J0426-2202_vis.fits' 'J0525-3343_nir.fits'\n",
       " 'J0525-3343_rescale.fits' 'J0525-3343_uvb.fits' 'J0525-3343_vis.fits'\n",
       " 'J0529-3526_nir.fits' 'J0529-3526_rescale.fits' 'J0529-3526_uvb.fits'\n",
       " 'J0529-3526_vis.fits' 'J0529-3552_nir.fits' 'J0529-3552_rescale.fits'\n",
       " 'J0529-3552_uvb.fits' 'J0529-3552_vis.fits' 'J0714-6455_nir.fits'\n",
       " 'J0714-6455_rescale.fits' 'J0714-6455_uvb.fits' 'J0714-6455_vis.fits'\n",
       " 'J0747+2739_nir.fits' 'J0747+2739_rescale.fits' 'J0747+2739_uvb.fits'\n",
       " 'J0747+2739_vis.fits' 'J0755+1345_1_nir.fits' 'J0755+1345_1_uvb.fits'\n",
       " 'J0755+1345_1_vis.fits' 'J0755+1345_2_nir.fits' 'J0755+1345_2_uvb.fits'\n",
       " 'J0755+1345_2_vis.fits' 'J0755+1345_nir.fits' 'J0755+1345_rescale.fits'\n",
       " 'J0755+1345_uvb.fits' 'J0755+1345_vis.fits' 'J0800+1920_1_nir.fits'\n",
       " 'J0800+1920_1_uvb.fits' 'J0800+1920_1_vis.fits' 'J0800+1920_2_nir.fits'\n",
       " 'J0800+1920_2_uvb.fits' 'J0800+1920_2_vis.fits' 'J0800+1920_3_nir.fits'\n",
       " 'J0800+1920_3_uvb.fits' 'J0800+1920_3_vis.fits' 'J0800+1920_nir.fits'\n",
       " 'J0800+1920_rescale.fits' 'J0800+1920_uvb.fits' 'J0800+1920_vis.fits'\n",
       " 'J0818+0958_nir.fits' 'J0818+0958_rescale.fits' 'J0818+0958_uvb.fits'\n",
       " 'J0818+0958_vis.fits' 'J0833+0959_nir.fits' 'J0833+0959_rescale.fits'\n",
       " 'J0833+0959_uvb.fits' 'J0833+0959_vis.fits' 'J0835+0650_nir.fits'\n",
       " 'J0835+0650_rescale.fits' 'J0835+0650_uvb.fits' 'J0835+0650_vis.fits'\n",
       " 'J0839+0318_nir.fits' 'J0839+0318_rescale.fits' 'J0839+0318_uvb.fits'\n",
       " 'J0839+0318_vis.fits' 'J0920+0725_nir.fits' 'J0920+0725_rescale.fits'\n",
       " 'J0920+0725_uvb.fits' 'J0920+0725_vis.fits' 'J0935+0022_nir.fits'\n",
       " 'J0935+0022_rescale.fits' 'J0935+0022_uvb.fits' 'J0935+0022_vis.fits'\n",
       " 'J0937+0828_nir.fits' 'J0937+0828_rescale.fits' 'J0937+0828_uvb.fits'\n",
       " 'J0937+0828_vis.fits' 'J0955-0130_nir.fits' 'J0955-0130_rescale.fits'\n",
       " 'J0955-0130_uvb.fits' 'J0955-0130_vis.fits' 'J0959+1312_nir.fits'\n",
       " 'J0959+1312_rescale.fits' 'J0959+1312_uvb.fits' 'J0959+1312_vis.fits'\n",
       " 'J1013+0650_nir.fits' 'J1013+0650_rescale.fits' 'J1013+0650_uvb.fits'\n",
       " 'J1013+0650_vis.fits' 'J1018+0548_nir.fits' 'J1018+0548_rescale.fits'\n",
       " 'J1018+0548_uvb.fits' 'J1018+0548_vis.fits' 'J1020+0922_nir.fits'\n",
       " 'J1020+0922_rescale.fits' 'J1020+0922_uvb.fits' 'J1020+0922_vis.fits'\n",
       " 'J1024+1819_nir.fits' 'J1024+1819_rescale.fits' 'J1024+1819_uvb.fits'\n",
       " 'J1024+1819_vis.fits' 'J1032+0927_nir.fits' 'J1032+0927_rescale.fits'\n",
       " 'J1032+0927_uvb.fits' 'J1032+0927_vis.fits' 'J1034+1102_nir.fits'\n",
       " 'J1034+1102_rescale.fits' 'J1034+1102_uvb.fits' 'J1034+1102_vis.fits'\n",
       " 'J1036-0343_nir.fits' 'J1036-0343_rescale.fits' 'J1036-0343_uvb.fits'\n",
       " 'J1036-0343_vis.fits' 'J1037+0704_nir.fits' 'J1037+0704_rescale.fits'\n",
       " 'J1037+0704_uvb.fits' 'J1037+0704_vis.fits' 'J1037+2135_nir.fits'\n",
       " 'J1037+2135_rescale.fits' 'J1037+2135_uvb.fits' 'J1037+2135_vis.fits'\n",
       " 'J1042+1957_nir.fits' 'J1042+1957_rescale.fits' 'J1042+1957_uvb.fits'\n",
       " 'J1042+1957_vis.fits' 'J1053+0103_nir.fits' 'J1053+0103_rescale.fits'\n",
       " 'J1053+0103_uvb.fits' 'J1053+0103_vis.fits' 'J1054+0215_nir.fits'\n",
       " 'J1054+0215_rescale.fits' 'J1054+0215_uvb.fits' 'J1054+0215_vis.fits'\n",
       " 'J1057+1910_nir.fits' 'J1057+1910_rescale.fits' 'J1057+1910_uvb.fits'\n",
       " 'J1057+1910_vis.fits' 'J1058+1245_nir.fits' 'J1058+1245_rescale.fits'\n",
       " 'J1058+1245_uvb.fits' 'J1058+1245_vis.fits' 'J1103+1004_nir.fits'\n",
       " 'J1103+1004_rescale.fits' 'J1103+1004_uvb.fits' 'J1103+1004_vis.fits'\n",
       " 'J1108+1209_nir.fits' 'J1108+1209_rescale.fits' 'J1108+1209_uvb.fits'\n",
       " 'J1108+1209_vis.fits' 'J1110+0244_nir.fits' 'J1110+0244_rescale.fits'\n",
       " 'J1110+0244_uvb.fits' 'J1110+0244_vis.fits' 'J1111-0804_nir.fits'\n",
       " 'J1111-0804_rescale.fits' 'J1111-0804_uvb.fits' 'J1111-0804_vis.fits'\n",
       " 'J1117+1311_nir.fits' 'J1117+1311_rescale.fits' 'J1117+1311_uvb.fits'\n",
       " 'J1117+1311_vis.fits' 'J1126-0124_nir.fits' 'J1126-0124_rescale.fits'\n",
       " 'J1126-0124_uvb.fits' 'J1126-0124_vis.fits' 'J1126-0126_nir.fits'\n",
       " 'J1126-0126_rescale.fits' 'J1126-0126_uvb.fits' 'J1126-0126_vis.fits'\n",
       " 'J1135+0842_nir.fits' 'J1135+0842_rescale.fits' 'J1135+0842_uvb.fits'\n",
       " 'J1135+0842_vis.fits' 'J1201+1206_nir.fits' 'J1201+1206_rescale.fits'\n",
       " 'J1201+1206_uvb.fits' 'J1201+1206_vis.fits' 'J1202-0054_nir.fits'\n",
       " 'J1202-0054_rescale.fits' 'J1202-0054_uvb.fits' 'J1202-0054_vis.fits'\n",
       " 'J1248+1304_nir.fits' 'J1248+1304_rescale.fits' 'J1248+1304_uvb.fits'\n",
       " 'J1248+1304_vis.fits' 'J1249-0159_nir.fits' 'J1249-0159_rescale.fits'\n",
       " 'J1249-0159_uvb.fits' 'J1249-0159_vis.fits' 'J1304+0239_nir.fits'\n",
       " 'J1304+0239_rescale.fits' 'J1304+0239_uvb.fits' 'J1304+0239_vis.fits'\n",
       " 'J1312+0841_nir.fits' 'J1312+0841_rescale.fits' 'J1312+0841_uvb.fits'\n",
       " 'J1312+0841_vis.fits' 'J1320-0523_nir.fits' 'J1320-0523_rescale.fits'\n",
       " 'J1320-0523_uvb.fits' 'J1320-0523_vis.fits' 'J1323+1405_nir.fits'\n",
       " 'J1323+1405_rescale.fits' 'J1323+1405_uvb.fits' 'J1323+1405_vis.fits'\n",
       " 'J1330-2522_nir.fits' 'J1330-2522_rescale.fits' 'J1330-2522_uvb.fits'\n",
       " 'J1330-2522_vis.fits' 'J1331+1015_nir.fits' 'J1331+1015_rescale.fits'\n",
       " 'J1331+1015_uvb.fits' 'J1331+1015_vis.fits' 'J1332+0052_1_nir.fits'\n",
       " 'J1332+0052_1_uvb.fits' 'J1332+0052_1_vis.fits' 'J1332+0052_2_nir.fits'\n",
       " 'J1332+0052_2_uvb.fits' 'J1332+0052_2_vis.fits' 'J1332+0052_nir.fits'\n",
       " 'J1332+0052_rescale.fits' 'J1332+0052_uvb.fits' 'J1332+0052_vis.fits'\n",
       " 'J1336+0243_nir.fits' 'J1336+0243_rescale.fits' 'J1336+0243_uvb.fits'\n",
       " 'J1336+0243_vis.fits' 'J1352+1303_1_nir.fits' 'J1352+1303_1_uvb.fits'\n",
       " 'J1352+1303_1_vis.fits' 'J1352+1303_2_nir.fits' 'J1352+1303_2_uvb.fits'\n",
       " 'J1352+1303_2_vis.fits' 'J1352+1303_nir.fits' 'J1352+1303_rescale.fits'\n",
       " 'J1352+1303_uvb.fits' 'J1352+1303_vis.fits' 'J1401+0244_1_nir.fits'\n",
       " 'J1401+0244_1_uvb.fits' 'J1401+0244_1_vis.fits' 'J1401+0244_2_nir.fits'\n",
       " 'J1401+0244_2_uvb.fits' 'J1401+0244_2_vis.fits' 'J1401+0244_nir.fits'\n",
       " 'J1401+0244_rescale.fits' 'J1401+0244_uvb.fits' 'J1401+0244_vis.fits'\n",
       " 'J1416+1811_nir.fits' 'J1416+1811_rescale.fits' 'J1416+1811_uvb.fits'\n",
       " 'J1416+1811_vis.fits' 'J1421-0643_nir.fits' 'J1421-0643_rescale.fits'\n",
       " 'J1421-0643_uvb.fits' 'J1421-0643_vis.fits' 'J1442+0920_nir.fits'\n",
       " 'J1442+0920_rescale.fits' 'J1442+0920_uvb.fits' 'J1442+0920_vis.fits'\n",
       " 'J1445+0958_nir.fits' 'J1445+0958_rescale.fits' 'J1445+0958_uvb.fits'\n",
       " 'J1445+0958_vis.fits' 'J1503+0419_nir.fits' 'J1503+0419_rescale.fits'\n",
       " 'J1503+0419_uvb.fits' 'J1503+0419_vis.fits' 'J1517+0511_1_nir.fits'\n",
       " 'J1517+0511_1_uvb.fits' 'J1517+0511_1_vis.fits' 'J1517+0511_2_nir.fits'\n",
       " 'J1517+0511_2_uvb.fits' 'J1517+0511_2_vis.fits' 'J1517+0511_nir.fits'\n",
       " 'J1517+0511_rescale.fits' 'J1517+0511_uvb.fits' 'J1517+0511_vis.fits'\n",
       " 'J1524+2123_nir.fits' 'J1524+2123_rescale.fits' 'J1524+2123_uvb.fits'\n",
       " 'J1524+2123_vis.fits' 'J1542+0955_nir.fits' 'J1542+0955_rescale.fits'\n",
       " 'J1542+0955_uvb.fits' 'J1542+0955_vis.fits' 'J1552+1005_nir.fits'\n",
       " 'J1552+1005_rescale.fits' 'J1552+1005_uvb.fits' 'J1552+1005_vis.fits'\n",
       " 'J1621-0042_nir.fits' 'J1621-0042_rescale.fits' 'J1621-0042_uvb.fits'\n",
       " 'J1621-0042_vis.fits' 'J1633+1411_nir.fits' 'J1633+1411_rescale.fits'\n",
       " 'J1633+1411_uvb.fits' 'J1633+1411_vis.fits' 'J1658-0739_nir.fits'\n",
       " 'J1658-0739_rescale.fits' 'J1658-0739_uvb.fits' 'J1658-0739_vis.fits'\n",
       " 'J1723+2243_nir.fits' 'J1723+2243_rescale.fits' 'J1723+2243_uvb.fits'\n",
       " 'J1723+2243_vis.fits' 'J2215-1611_nir.fits' 'J2215-1611_rescale.fits'\n",
       " 'J2215-1611_uvb.fits' 'J2215-1611_vis.fits' 'J2216-6714_nir.fits'\n",
       " 'J2216-6714_rescale.fits' 'J2216-6714_uvb.fits' 'J2216-6714_vis.fits'\n",
       " 'J2239-0552_1_nir.fits' 'J2239-0552_1_uvb.fits' 'J2239-0552_1_vis.fits'\n",
       " 'J2239-0552_2_nir.fits' 'J2239-0552_2_uvb.fits' 'J2239-0552_2_vis.fits'\n",
       " 'J2239-0552_3_nir.fits' 'J2239-0552_3_uvb.fits' 'J2239-0552_3_vis.fits'\n",
       " 'J2239-0552_nir.fits' 'J2239-0552_rescale.fits' 'J2239-0552_uvb.fits'\n",
       " 'J2239-0552_vis.fits' 'J2251-1227_nir.fits' 'J2251-1227_rescale.fits'\n",
       " 'J2251-1227_uvb.fits' 'J2251-1227_vis.fits' 'J2344+0342_1_nir.fits'\n",
       " 'J2344+0342_1_uvb.fits' 'J2344+0342_1_vis.fits' 'J2344+0342_2_nir.fits'\n",
       " 'J2344+0342_2_uvb.fits' 'J2344+0342_2_vis.fits' 'J2344+0342_nir.fits'\n",
       " 'J2344+0342_rescale.fits' 'J2344+0342_uvb.fits' 'J2344+0342_vis.fits'\n",
       " 'J2349-3712_nir.fits' 'J2349-3712_rescale.fits' 'J2349-3712_uvb.fits'\n",
       " 'J2349-3712_vis.fits' -- -- -- -- --],\n",
       "                  mask = [False False False False False False False False False False False False\n",
       " False False False False False False False False False False False False\n",
       " False False False False False False False False False False False False\n",
       " False False False False False False False False False False False False\n",
       " False False False False False False False False False False False False\n",
       " False False False False False False False False False False False False\n",
       " False False False False False False False False False False False False\n",
       " False False False False False False False False False False False False\n",
       " False False False False False False False False False False False False\n",
       " False False False False False False False False False False False False\n",
       " False False False False False False False False False False False False\n",
       " False False False False False False False False False False False False\n",
       " False False False False False False False False False False False False\n",
       " False False False False False False False False False False False False\n",
       " False False False False False False False False False False False False\n",
       " False False False False False False False False False False False False\n",
       " False False False False False False False False False False False False\n",
       " False False False False False False False False False False False False\n",
       " False False False False False False False False False False False False\n",
       " False False False False False False False False False False False False\n",
       " False False False False False False False False False False False False\n",
       " False False False False False False False False False False False False\n",
       " False False False False False False False False False False False False\n",
       " False False False False False False False False False False False False\n",
       " False False False False False False False False False False False False\n",
       " False False False False False False False False False False False False\n",
       " False False False False False False False False False False False False\n",
       " False False False False False False False False False False False False\n",
       " False False False False False False False False False False False False\n",
       " False False False False False False False False False False False False\n",
       " False False False False False False False False False False False False\n",
       " False False False False False False False False False False False False\n",
       " False False False False False False False False False False False False\n",
       " False False False False False False False False False False False False\n",
       " False False False False False False False False False False False False\n",
       " False False False False False False False False False False False False\n",
       " False False False False False False False False False False False False\n",
       " False False False False False False False False False False  True  True\n",
       "  True  True  True],\n",
       "            fill_value = N/A)"
      ]
     },
     "execution_count": 42,
     "metadata": {},
     "output_type": "execute_result"
    }
   ],
   "source": [
    "tmp = eso_tbl['ORIGFILE'].data\n",
    "tmp.sort()\n",
    "tmp"
   ]
  },
  {
   "cell_type": "markdown",
   "metadata": {},
   "source": [
    "## Examining the new meta table"
   ]
  },
  {
   "cell_type": "code",
   "execution_count": 2,
   "metadata": {
    "collapsed": false
   },
   "outputs": [
    {
     "name": "stdout",
     "output_type": "stream",
     "text": [
      "Using /raid/IGMSPEC_DB/IGMspec_DB_v02.hdf5 for the catalog file\n",
      "Using /raid/IGMSPEC_DB/IGMspec_DB_v02.hdf5 for the DB file\n",
      "Available surveys: [u'XQ-100']\n"
     ]
    }
   ],
   "source": [
    "igmsp = IgmSpec()"
   ]
  },
  {
   "cell_type": "code",
   "execution_count": 3,
   "metadata": {
    "collapsed": true
   },
   "outputs": [],
   "source": [
    "new_meta = Table(igmsp.idb.hdf['XQ-100/meta'].value)"
   ]
  },
  {
   "cell_type": "code",
   "execution_count": 4,
   "metadata": {
    "collapsed": false
   },
   "outputs": [
    {
     "data": {
      "text/html": [
       "&lt;Table length=300&gt;\n",
       "<table id=\"table4611461712\">\n",
       "<thead><tr><th>OBJ_NAME</th><th>FILE_NAME</th><th>Z_QSO</th></tr></thead>\n",
       "<thead><tr><th>str24</th><th>str1</th><th>float32</th></tr></thead>\n",
       "<tr><td>HB89 0000-263</td><td>-</td><td>4.12544</td></tr>\n",
       "<tr><td>HB89 0000-263</td><td>-</td><td>4.12544</td></tr>\n",
       "<tr><td>HB89 0000-263</td><td>-</td><td>4.12544</td></tr>\n",
       "<tr><td>BR J0006-6208</td><td>-</td><td>4.43995</td></tr>\n",
       "<tr><td>BR J0006-6208</td><td>-</td><td>4.43995</td></tr>\n",
       "<tr><td>BR J0006-6208</td><td>-</td><td>4.43995</td></tr>\n",
       "<tr><td>BR J0030-5159</td><td>-</td><td>4.17286</td></tr>\n",
       "<tr><td>BR J0030-5159</td><td>-</td><td>4.17286</td></tr>\n",
       "<tr><td>BR J0030-5159</td><td>-</td><td>4.17286</td></tr>\n",
       "<tr><td>PSS J0034+1639</td><td>-</td><td>4.29243</td></tr>\n",
       "<tr><td>...</td><td>...</td><td>...</td></tr>\n",
       "<tr><td>J2239536-055219</td><td>-</td><td>4.55656</td></tr>\n",
       "<tr><td>BR 2248-1242</td><td>-</td><td>4.15747</td></tr>\n",
       "<tr><td>BR 2248-1242</td><td>-</td><td>4.15747</td></tr>\n",
       "<tr><td>BR 2248-1242</td><td>-</td><td>4.15747</td></tr>\n",
       "<tr><td>PSS J2344+0342</td><td>-</td><td>4.24844</td></tr>\n",
       "<tr><td>PSS J2344+0342</td><td>-</td><td>4.24844</td></tr>\n",
       "<tr><td>PSS J2344+0342</td><td>-</td><td>4.24844</td></tr>\n",
       "<tr><td>BR J2349-3712</td><td>-</td><td>4.21923</td></tr>\n",
       "<tr><td>BR J2349-3712</td><td>-</td><td>4.21923</td></tr>\n",
       "<tr><td>BR J2349-3712</td><td>-</td><td>4.21923</td></tr>\n",
       "</table>"
      ],
      "text/plain": [
       "<Table length=300>\n",
       "    OBJ_NAME    FILE_NAME  Z_QSO \n",
       "     str24         str1   float32\n",
       "--------------- --------- -------\n",
       "  HB89 0000-263         - 4.12544\n",
       "  HB89 0000-263         - 4.12544\n",
       "  HB89 0000-263         - 4.12544\n",
       "  BR J0006-6208         - 4.43995\n",
       "  BR J0006-6208         - 4.43995\n",
       "  BR J0006-6208         - 4.43995\n",
       "  BR J0030-5159         - 4.17286\n",
       "  BR J0030-5159         - 4.17286\n",
       "  BR J0030-5159         - 4.17286\n",
       " PSS J0034+1639         - 4.29243\n",
       "            ...       ...     ...\n",
       "J2239536-055219         - 4.55656\n",
       "   BR 2248-1242         - 4.15747\n",
       "   BR 2248-1242         - 4.15747\n",
       "   BR 2248-1242         - 4.15747\n",
       " PSS J2344+0342         - 4.24844\n",
       " PSS J2344+0342         - 4.24844\n",
       " PSS J2344+0342         - 4.24844\n",
       "  BR J2349-3712         - 4.21923\n",
       "  BR J2349-3712         - 4.21923\n",
       "  BR J2349-3712         - 4.21923"
      ]
     },
     "execution_count": 4,
     "metadata": {},
     "output_type": "execute_result"
    }
   ],
   "source": [
    "new_meta[['OBJ_NAME','FILE_NAME','Z_QSO']]"
   ]
  },
  {
   "cell_type": "code",
   "execution_count": 5,
   "metadata": {
    "collapsed": false
   },
   "outputs": [
    {
     "data": {
      "text/plain": [
       "300"
      ]
     },
     "execution_count": 5,
     "metadata": {},
     "output_type": "execute_result"
    }
   ],
   "source": [
    "len(new_meta)"
   ]
  },
  {
   "cell_type": "code",
   "execution_count": 6,
   "metadata": {
    "collapsed": false,
    "scrolled": true
   },
   "outputs": [
    {
     "data": {
      "text/plain": [
       "['OBJ_NAME',\n",
       " 'RA',\n",
       " 'DEC',\n",
       " 'FILE_NAME',\n",
       " 'Z_QSO',\n",
       " 'ERR_ZQSO',\n",
       " 'N_OBS',\n",
       " 'MJD_OBS',\n",
       " 'SEEING_START',\n",
       " 'SEEING_END',\n",
       " 'SNR_1700',\n",
       " 'SNR_3000',\n",
       " 'SNR_3600',\n",
       " 'CALIB_FLAG',\n",
       " 'COMBINED_FLAG',\n",
       " 'COMBINED_SNR_17',\n",
       " 'COMBINED_SNR_30',\n",
       " 'COMBINED_SNR_36',\n",
       " 'HR_FLAG',\n",
       " 'JOHNSON_MAG',\n",
       " 'SDSS_PSFMAG',\n",
       " 'SDSS_ERR_PSFMAG',\n",
       " 'DR7Q_MATCHED',\n",
       " 'PLATE_DR7Q',\n",
       " 'MJD_DR7Q',\n",
       " 'FIBER_DR7Q',\n",
       " 'DR12Q_MATCHED',\n",
       " 'N_DR12Q',\n",
       " 'PLATE_DR12Q',\n",
       " 'MJD_DR12Q',\n",
       " 'FIBER_DR12Q',\n",
       " 'FIRST_MATCHED',\n",
       " 'FIRST_FLUX',\n",
       " 'FIRST_SNR',\n",
       " 'MATCHED_TMASS',\n",
       " 'TMASS_MAG',\n",
       " 'TMASS_ERR_MAG',\n",
       " 'TMASS_SNR',\n",
       " 'RD_FLAG',\n",
       " 'MATCHED_WISE',\n",
       " 'WISE_MAG',\n",
       " 'WISE_ERR_MAG',\n",
       " 'WISE_SNR',\n",
       " 'WISE_RCHI2',\n",
       " 'CC_FLAG',\n",
       " 'PH_QUAL',\n",
       " 'N_ABS',\n",
       " 'Z_ABS',\n",
       " 'NHI_ABS',\n",
       " 'ERR_NHI_ABS',\n",
       " 'ORIG_FILE',\n",
       " 'zem',\n",
       " 'sig_zem',\n",
       " 'flag_zem',\n",
       " 'DATE-OBS',\n",
       " 'EPOCH',\n",
       " 'IGM_ID',\n",
       " 'GRATING',\n",
       " 'TELESCOPE',\n",
       " 'INSTR',\n",
       " 'NPIX',\n",
       " 'WV_MIN',\n",
       " 'WV_MAX',\n",
       " 'R',\n",
       " 'SURVEY_ID',\n",
       " 'SPEC_FILE']"
      ]
     },
     "execution_count": 6,
     "metadata": {},
     "output_type": "execute_result"
    }
   ],
   "source": [
    "new_meta.keys()"
   ]
  },
  {
   "cell_type": "markdown",
   "metadata": {
    "collapsed": true
   },
   "source": [
    "## Continuum"
   ]
  },
  {
   "cell_type": "markdown",
   "metadata": {},
   "source": [
    "### Load example"
   ]
  },
  {
   "cell_type": "code",
   "execution_count": 7,
   "metadata": {
    "collapsed": true
   },
   "outputs": [],
   "source": [
    "exmpl = '/raid/Raw_IGMspec//XQ-100/ADP.2016-07-15T08:22:40.174.fits'"
   ]
  },
  {
   "cell_type": "code",
   "execution_count": 9,
   "metadata": {
    "collapsed": false
   },
   "outputs": [
    {
     "name": "stdout",
     "output_type": "stream",
     "text": [
      "Filename: /raid/Raw_IGMspec//XQ-100/ADP.2016-07-15T08:22:40.174.fits\n",
      "No.    Name         Type      Cards   Dimensions   Format\n",
      "0    PRIMARY     PrimaryHDU      45   ()              \n",
      "1    SPECTRUM    BinTableHDU     40   1R x 3C      [34086E, 34086E, 34086E]   \n"
     ]
    }
   ],
   "source": [
    "hdu = fits.open(exmpl)\n",
    "hdu.info()"
   ]
  },
  {
   "cell_type": "code",
   "execution_count": 15,
   "metadata": {
    "collapsed": true
   },
   "outputs": [],
   "source": [
    "all_spec = Table(hdu[1].data)"
   ]
  },
  {
   "cell_type": "code",
   "execution_count": 16,
   "metadata": {
    "collapsed": false
   },
   "outputs": [
    {
     "data": {
      "text/html": [
       "&lt;Table length=1&gt;\n",
       "<table id=\"table4659845712\">\n",
       "<thead><tr><th>WAVE [34086]</th><th>FLUX [34086]</th><th>ERR_FLUX [34086]</th></tr></thead>\n",
       "<thead><tr><th>float32</th><th>float32</th><th>float32</th></tr></thead>\n",
       "<tr><td>310.003 .. 1799.96</td><td>0.0 .. 6.51778e-17</td><td>0.0 .. 4.05254e-18</td></tr>\n",
       "</table>"
      ],
      "text/plain": [
       "<Table length=1>\n",
       "   WAVE [34086]       FLUX [34086]     ERR_FLUX [34086] \n",
       "     float32            float32            float32      \n",
       "------------------ ------------------ ------------------\n",
       "310.003 .. 1799.96 0.0 .. 6.51778e-17 0.0 .. 4.05254e-18"
      ]
     },
     "execution_count": 16,
     "metadata": {},
     "output_type": "execute_result"
    }
   ],
   "source": [
    "all_spec"
   ]
  },
  {
   "cell_type": "markdown",
   "metadata": {},
   "source": [
    "### Check"
   ]
  },
  {
   "cell_type": "code",
   "execution_count": 14,
   "metadata": {
    "collapsed": true
   },
   "outputs": [],
   "source": [
    "uvb_exmpl = '/raid/Raw_IGMspec//XQ-100/ADP.2016-07-15T08:22:40.178.fits'"
   ]
  },
  {
   "cell_type": "code",
   "execution_count": 17,
   "metadata": {
    "collapsed": true
   },
   "outputs": [],
   "source": [
    "uvb_spec = Table(fits.open(uvb_exmpl)[1].data)"
   ]
  },
  {
   "cell_type": "code",
   "execution_count": 18,
   "metadata": {
    "collapsed": false
   },
   "outputs": [
    {
     "data": {
      "text/html": [
       "&lt;Table length=1&gt;\n",
       "<table id=\"table4611465040\">\n",
       "<thead><tr><th>WAVE [8866]</th><th>FLUX [8866]</th><th>ERR_FLUX [8866]</th><th>CONTINUUM [8866]</th></tr></thead>\n",
       "<thead><tr><th>float32</th><th>float32</th><th>float32</th><th>float32</th></tr></thead>\n",
       "<tr><td>310.003 .. 560.019</td><td>0.0 .. 0.0</td><td>0.0 .. 0.0</td><td>3.98277e-16 .. 4.5528e-16</td></tr>\n",
       "</table>"
      ],
      "text/plain": [
       "<Table length=1>\n",
       "   WAVE [8866]     FLUX [8866] ERR_FLUX [8866]      CONTINUUM [8866]    \n",
       "     float32         float32       float32              float32         \n",
       "------------------ ----------- --------------- -------------------------\n",
       "310.003 .. 560.019  0.0 .. 0.0      0.0 .. 0.0 3.98277e-16 .. 4.5528e-16"
      ]
     },
     "execution_count": 18,
     "metadata": {},
     "output_type": "execute_result"
    }
   ],
   "source": [
    "uvb_spec"
   ]
  },
  {
   "cell_type": "code",
   "execution_count": 20,
   "metadata": {
    "collapsed": false
   },
   "outputs": [
    {
     "data": {
      "text/plain": [
       "(310.00299, 310.00299)"
      ]
     },
     "execution_count": 20,
     "metadata": {},
     "output_type": "execute_result"
    }
   ],
   "source": [
    "uvb_spec['WAVE'][0][0], all_spec['WAVE'][0][0]"
   ]
  },
  {
   "cell_type": "markdown",
   "metadata": {},
   "source": [
    "#### Plot"
   ]
  },
  {
   "cell_type": "code",
   "execution_count": 28,
   "metadata": {
    "collapsed": true
   },
   "outputs": [],
   "source": [
    "# Not done\n",
    "# Just realized that the CONTINUUM is in the individual files!"
   ]
  },
  {
   "cell_type": "markdown",
   "metadata": {
    "collapsed": true
   },
   "source": [
    "## Bad coord"
   ]
  },
  {
   "cell_type": "code",
   "execution_count": 5,
   "metadata": {
    "collapsed": false
   },
   "outputs": [
    {
     "data": {
      "text/plain": [
       "12"
      ]
     },
     "execution_count": 5,
     "metadata": {},
     "output_type": "execute_result"
    }
   ],
   "source": [
    "imt = np.argmin(np.abs(meta['RA']-21.0166))\n",
    "imt"
   ]
  },
  {
   "cell_type": "code",
   "execution_count": 6,
   "metadata": {
    "collapsed": false
   },
   "outputs": [
    {
     "data": {
      "text/html": [
       "&lt;Row index=12 masked=True&gt;\n",
       "<table id=\"table4646627984\">\n",
       "<thead><tr><th>OBJ_NAME</th><th>RA</th><th>DEC</th><th>FILE_NAME</th><th>Z_QSO</th><th>ERR_ZQSO</th><th>N_OBS</th><th>MJD_OBS [3]</th><th>SEEING_START [3]</th><th>SEEING_END [3]</th><th>SNR_1700 [3]</th><th>SNR_3000 [3]</th><th>SNR_3600 [3]</th><th>CALIB_FLAG [3]</th><th>COMBINED_FLAG</th><th>COMBINED_SNR_17</th><th>COMBINED_SNR_30</th><th>COMBINED_SNR_36</th><th>HR_FLAG</th><th>JOHNSON_MAG [3]</th><th>SDSS_PSFMAG [5]</th><th>SDSS_ERR_PSFMAG [5]</th><th>DR7Q_MATCHED</th><th>PLATE_DR7Q</th><th>MJD_DR7Q</th><th>FIBER_DR7Q</th><th>DR12Q_MATCHED</th><th>N_DR12Q</th><th>PLATE_DR12Q [2]</th><th>MJD_DR12Q [2]</th><th>FIBER_DR12Q [2]</th><th>FIRST_MATCHED</th><th>FIRST_FLUX</th><th>FIRST_SNR</th><th>MATCHED_TMASS</th><th>TMASS_MAG [3]</th><th>TMASS_ERR_MAG [3]</th><th>TMASS_SNR [3]</th><th>RD_FLAG</th><th>MATCHED_WISE</th><th>WISE_MAG [4]</th><th>WISE_ERR_MAG [4]</th><th>WISE_SNR [4]</th><th>WISE_RCHI2 [4]</th><th>CC_FLAG</th><th>PH_QUAL</th><th>N_ABS</th><th>Z_ABS [4]</th><th>NHI_ABS [4]</th><th>ERR_NHI_ABS [4]</th></tr></thead>\n",
       "<thead><tr><th>-</th><th>deg</th><th>deg</th><th>-</th><th>-</th><th>-</th><th>-</th><th>-</th><th>arcsec</th><th>arcsec</th><th>-</th><th>-</th><th>-</th><th>-</th><th>-</th><th>-</th><th>-</th><th>-</th><th>-</th><th>-</th><th>-</th><th>-</th><th>-</th><th>-</th><th>-</th><th>-</th><th>-</th><th>-</th><th>-</th><th>-</th><th>-</th><th>-</th><th>mJy</th><th>-</th><th>-</th><th>-</th><th>-</th><th>-</th><th>-</th><th>-</th><th>-</th><th>-</th><th>-</th><th>-</th><th>-</th><th>-</th><th>-</th><th>-</th><th>[cm-2]</th><th>[cm-2]</th></tr></thead>\n",
       "<thead><tr><th>str24</th><th>float64</th><th>float64</th><th>str1</th><th>float32</th><th>float32</th><th>int32</th><th>float32</th><th>float32</th><th>float32</th><th>float64</th><th>float64</th><th>float64</th><th>float64</th><th>int16</th><th>float64</th><th>float64</th><th>float64</th><th>int16</th><th>float32</th><th>float64</th><th>float64</th><th>int16</th><th>int32</th><th>int32</th><th>int32</th><th>int16</th><th>int32</th><th>int32</th><th>int32</th><th>int32</th><th>int32</th><th>float64</th><th>float64</th><th>int16</th><th>float64</th><th>float64</th><th>float64</th><th>str3</th><th>int16</th><th>float64</th><th>float64</th><th>float64</th><th>float64</th><th>str4</th><th>str3</th><th>int16</th><th>float64</th><th>float64</th><th>float64</th></tr></thead>\n",
       "<tr><td>SDSS J0124+0044</td><td>21.016571</td><td>0.74208</td><td>-</td><td>3.83678</td><td>0.00017194</td><td>1</td><td>56249.1 .. -1.0</td><td>1.06 .. -1.0</td><td>1.56 .. -1.0</td><td>34.2071990967 .. -1.0</td><td>40.9452018738 .. -1.0</td><td>48.195098877 .. -1.0</td><td>0.0 .. -1.0</td><td>0</td><td>-1.0</td><td>-1.0</td><td>-1.0</td><td>0</td><td>19.71 .. 17.9</td><td>23.2440376282 .. 17.8723087311</td><td>0.609581768513 .. 0.032485999167</td><td>1</td><td>399</td><td>51817</td><td>375</td><td>1</td><td>1</td><td>4229 .. -1</td><td>55501 .. -1</td><td>552 .. -1</td><td>0</td><td>0.0</td><td>0.0</td><td>1</td><td>16.7989997864 .. 15.7100000381</td><td>0.155000001192 .. 0.224000006914</td><td>7.59999990463 .. 4.69999980927</td><td>222</td><td>1</td><td>14.4409999847 .. 7.72900009155</td><td>0.0280000008643 .. 0.167999997735</td><td>38.7999992371 .. 6.5</td><td>1.17299997807 .. 0.79129999876</td><td>0000</td><td>BCD</td><td>1</td><td>3.0775001049 .. -1.0</td><td>20.2000007629 .. -1.0</td><td>0.10000000149 .. -1.0</td></tr>\n",
       "</table>"
      ],
      "text/plain": [
       "<Row index=12 masked=True>\n",
       "    OBJ_NAME        RA      DEC   FILE_NAME  Z_QSO   ERR_ZQSO  N_OBS   MJD_OBS [3]   SEEING_START [3] SEEING_END [3]      SNR_1700 [3]          SNR_3000 [3]         SNR_3600 [3]     CALIB_FLAG [3] COMBINED_FLAG COMBINED_SNR_17 COMBINED_SNR_30 COMBINED_SNR_36 HR_FLAG JOHNSON_MAG [3]        SDSS_PSFMAG [5]               SDSS_ERR_PSFMAG [5]        DR7Q_MATCHED PLATE_DR7Q MJD_DR7Q FIBER_DR7Q DR12Q_MATCHED N_DR12Q PLATE_DR12Q [2] MJD_DR12Q [2] FIBER_DR12Q [2] FIRST_MATCHED FIRST_FLUX FIRST_SNR MATCHED_TMASS         TMASS_MAG [3]                 TMASS_ERR_MAG [3]                 TMASS_SNR [3]          RD_FLAG MATCHED_WISE          WISE_MAG [4]                   WISE_ERR_MAG [4]             WISE_SNR [4]             WISE_RCHI2 [4]         CC_FLAG PH_QUAL N_ABS      Z_ABS [4]            NHI_ABS [4]         ERR_NHI_ABS [4]   \n",
       "       -           deg      deg       -        -        -        -          -             arcsec          arcsec               -                     -                    -                 -              -              -               -               -           -           -                      -                               -                      -           -         -         -            -          -           -              -              -              -          mJy         -           -                     -                               -                               -                   -         -                     -                                -                          -                         -                   -       -      -            -                   [cm-2]                [cm-2]       \n",
       "     str24       float64  float64    str1   float32  float32   int32     float32         float32         float32            float64               float64              float64           float64         int16         float64         float64         float64      int16      float32                float64                         float64                 int16       int32     int32     int32        int16      int32       int32          int32          int32          int32      float64    float64      int16                float64                         float64                         float64               str3     int16                float64                          float64                    float64                   float64               str4    str3  int16       float64               float64               float64       \n",
       "--------------- --------- ------- --------- ------- ---------- ----- --------------- ---------------- -------------- --------------------- --------------------- -------------------- -------------- ------------- --------------- --------------- --------------- ------- --------------- ------------------------------ -------------------------------- ------------ ---------- -------- ---------- ------------- ------- --------------- ------------- --------------- ------------- ---------- --------- ------------- ------------------------------ -------------------------------- ------------------------------ ------- ------------ ------------------------------ --------------------------------- -------------------- ------------------------------ ------- ------- ----- -------------------- --------------------- ---------------------\n",
       "SDSS J0124+0044 21.016571 0.74208         - 3.83678 0.00017194     1 56249.1 .. -1.0     1.06 .. -1.0   1.56 .. -1.0 34.2071990967 .. -1.0 40.9452018738 .. -1.0 48.195098877 .. -1.0    0.0 .. -1.0             0            -1.0            -1.0            -1.0       0   19.71 .. 17.9 23.2440376282 .. 17.8723087311 0.609581768513 .. 0.032485999167            1        399    51817        375             1       1      4229 .. -1   55501 .. -1       552 .. -1             0        0.0       0.0             1 16.7989997864 .. 15.7100000381 0.155000001192 .. 0.224000006914 7.59999990463 .. 4.69999980927     222            1 14.4409999847 .. 7.72900009155 0.0280000008643 .. 0.167999997735 38.7999992371 .. 6.5 1.17299997807 .. 0.79129999876    0000     BCD     1 3.0775001049 .. -1.0 20.2000007629 .. -1.0 0.10000000149 .. -1.0"
      ]
     },
     "execution_count": 6,
     "metadata": {},
     "output_type": "execute_result"
    }
   ],
   "source": [
    "meta[imt]"
   ]
  },
  {
   "cell_type": "markdown",
   "metadata": {
    "collapsed": true
   },
   "source": [
    "## Check coord"
   ]
  },
  {
   "cell_type": "code",
   "execution_count": 9,
   "metadata": {
    "collapsed": false
   },
   "outputs": [
    {
     "name": "stdout",
     "output_type": "stream",
     "text": [
      "Database is igmspec\n",
      "Created on 2017-Jan-31\n"
     ]
    }
   ],
   "source": [
    "igmsp = IgmSpec()"
   ]
  },
  {
   "cell_type": "code",
   "execution_count": 11,
   "metadata": {
    "collapsed": true
   },
   "outputs": [],
   "source": [
    "myers = Table(igmsp.hdf['quasars'].value)"
   ]
  },
  {
   "cell_type": "code",
   "execution_count": 13,
   "metadata": {
    "collapsed": true
   },
   "outputs": [],
   "source": [
    "myers_coord = SkyCoord(ra=myers['RA'], dec=myers['DEC'], unit='deg')"
   ]
  },
  {
   "cell_type": "code",
   "execution_count": 14,
   "metadata": {
    "collapsed": true
   },
   "outputs": [],
   "source": [
    "xq100_coord = SkyCoord(ra=meta['RA'], dec=meta['DEC'], unit='deg')"
   ]
  },
  {
   "cell_type": "code",
   "execution_count": 17,
   "metadata": {
    "collapsed": true
   },
   "outputs": [],
   "source": [
    "idx, d2d, _ = match_coordinates_sky(xq100_coord, myers_coord, nthneighbor=1)"
   ]
  },
  {
   "cell_type": "code",
   "execution_count": 18,
   "metadata": {
    "collapsed": false
   },
   "outputs": [
    {
     "data": {
      "text/latex": [
       "[$3.09813\\mathrm{{}^{\\prime\\prime}}$ $3.28671\\mathrm{{}^{\\prime\\prime}}$\n",
       " $2.44053\\mathrm{{}^{\\prime\\prime}}$ $2.78578\\mathrm{{}^{\\prime\\prime}}$\n",
       " $2.77268\\mathrm{{}^{\\prime\\prime}}$ $3.20849\\mathrm{{}^{\\prime\\prime}}$\n",
       " $2.97859\\mathrm{{}^{\\prime\\prime}}$ $1.24617\\mathrm{{}^{\\prime\\prime}}$\n",
       " $2.47228\\mathrm{{}^{\\prime\\prime}}$ $2.92454\\mathrm{{}^{\\prime\\prime}}$\n",
       " $2.67309\\mathrm{{}^{\\prime\\prime}}$ $0.289446\\mathrm{{}^{\\prime\\prime}}$\n",
       " $3.25171\\mathrm{{}^{\\prime\\prime}}$ $3.2565\\mathrm{{}^{\\prime\\prime}}$\n",
       " $2.73694\\mathrm{{}^{\\prime\\prime}}$ $2.57366\\mathrm{{}^{\\prime\\prime}}$\n",
       " $2.23325\\mathrm{{}^{\\prime\\prime}}$ $2.40651\\mathrm{{}^{\\prime\\prime}}$\n",
       " $1.93927\\mathrm{{}^{\\prime\\prime}}$ $3.32692\\mathrm{{}^{\\prime\\prime}}$\n",
       " $4.41502\\mathrm{{}^{\\prime\\prime}}$ $3.75625\\mathrm{{}^{\\prime\\prime}}$\n",
       " $3.20194\\mathrm{{}^{\\prime\\prime}}$ $2.10086\\mathrm{{}^{\\prime\\prime}}$\n",
       " $3.2342\\mathrm{{}^{\\prime\\prime}}$ $3.06934\\mathrm{{}^{\\prime\\prime}}$\n",
       " $3.82203\\mathrm{{}^{\\prime\\prime}}$ $1.21012\\mathrm{{}^{\\prime\\prime}}$\n",
       " $2.48228\\mathrm{{}^{\\prime\\prime}}$ $3.14989\\mathrm{{}^{\\prime\\prime}}$\n",
       " $2.90385\\mathrm{{}^{\\prime\\prime}}$ $2.74409\\mathrm{{}^{\\prime\\prime}}$\n",
       " $3.12676\\mathrm{{}^{\\prime\\prime}}$ $2.55215\\mathrm{{}^{\\prime\\prime}}$\n",
       " $1.60646\\mathrm{{}^{\\prime\\prime}}$ $2.58029\\mathrm{{}^{\\prime\\prime}}$\n",
       " $3.10086\\mathrm{{}^{\\prime\\prime}}$ $2.62779\\mathrm{{}^{\\prime\\prime}}$\n",
       " $1.72479\\mathrm{{}^{\\prime\\prime}}$ $2.3289\\mathrm{{}^{\\prime\\prime}}$\n",
       " $2.85676\\mathrm{{}^{\\prime\\prime}}$ $2.879\\mathrm{{}^{\\prime\\prime}}$\n",
       " $2.32329\\mathrm{{}^{\\prime\\prime}}$ $2.06639\\mathrm{{}^{\\prime\\prime}}$\n",
       " $2.85804\\mathrm{{}^{\\prime\\prime}}$ $2.97134\\mathrm{{}^{\\prime\\prime}}$\n",
       " $2.76794\\mathrm{{}^{\\prime\\prime}}$ $2.16747\\mathrm{{}^{\\prime\\prime}}$\n",
       " $2.92057\\mathrm{{}^{\\prime\\prime}}$ $2.6455\\mathrm{{}^{\\prime\\prime}}$\n",
       " $2.47005\\mathrm{{}^{\\prime\\prime}}$ $1.49176\\mathrm{{}^{\\prime\\prime}}$\n",
       " $2.20101\\mathrm{{}^{\\prime\\prime}}$ $2.70259\\mathrm{{}^{\\prime\\prime}}$\n",
       " $2.33659\\mathrm{{}^{\\prime\\prime}}$ $2.42099\\mathrm{{}^{\\prime\\prime}}$\n",
       " $2.57796\\mathrm{{}^{\\prime\\prime}}$ $2.4274\\mathrm{{}^{\\prime\\prime}}$\n",
       " $1.1944\\mathrm{{}^{\\prime\\prime}}$ $2.6977\\mathrm{{}^{\\prime\\prime}}$\n",
       " $2.09707\\mathrm{{}^{\\prime\\prime}}$ $3.00264\\mathrm{{}^{\\prime\\prime}}$\n",
       " $4.85181\\mathrm{{}^{\\prime\\prime}}$ $2.64372\\mathrm{{}^{\\prime\\prime}}$\n",
       " $2.67439\\mathrm{{}^{\\prime\\prime}}$ $2.33487\\mathrm{{}^{\\prime\\prime}}$\n",
       " $2.88979\\mathrm{{}^{\\prime\\prime}}$ $3.05419\\mathrm{{}^{\\prime\\prime}}$\n",
       " $2.48731\\mathrm{{}^{\\prime\\prime}}$ $2.04602\\mathrm{{}^{\\prime\\prime}}$\n",
       " $2.70778\\mathrm{{}^{\\prime\\prime}}$ $3.08415\\mathrm{{}^{\\prime\\prime}}$\n",
       " $2.45373\\mathrm{{}^{\\prime\\prime}}$ $2.25415\\mathrm{{}^{\\prime\\prime}}$\n",
       " $2.56839\\mathrm{{}^{\\prime\\prime}}$ $1.30725\\mathrm{{}^{\\prime\\prime}}$\n",
       " $2.23404\\mathrm{{}^{\\prime\\prime}}$ $2.60092\\mathrm{{}^{\\prime\\prime}}$\n",
       " $2.62581\\mathrm{{}^{\\prime\\prime}}$ $2.41408\\mathrm{{}^{\\prime\\prime}}$\n",
       " $3.02975\\mathrm{{}^{\\prime\\prime}}$ $2.1975\\mathrm{{}^{\\prime\\prime}}$\n",
       " $25.7584\\mathrm{{}^{\\prime\\prime}}$ $2.57646\\mathrm{{}^{\\prime\\prime}}$\n",
       " $2.66895\\mathrm{{}^{\\prime\\prime}}$ $2.55803\\mathrm{{}^{\\prime\\prime}}$\n",
       " $2.84209\\mathrm{{}^{\\prime\\prime}}$ $2.44611\\mathrm{{}^{\\prime\\prime}}$\n",
       " $2.7227\\mathrm{{}^{\\prime\\prime}}$ $2.92571\\mathrm{{}^{\\prime\\prime}}$\n",
       " $2.73659\\mathrm{{}^{\\prime\\prime}}$ $2.46866\\mathrm{{}^{\\prime\\prime}}$\n",
       " $1.6238\\mathrm{{}^{\\prime\\prime}}$ $2.3185\\mathrm{{}^{\\prime\\prime}}$\n",
       " $1.44942\\mathrm{{}^{\\prime\\prime}}$ $2.70954\\mathrm{{}^{\\prime\\prime}}$\n",
       " $2.39657\\mathrm{{}^{\\prime\\prime}}$ $2.60069\\mathrm{{}^{\\prime\\prime}}$\n",
       " $2.74923\\mathrm{{}^{\\prime\\prime}}$ $4.07205\\mathrm{{}^{\\prime\\prime}}$]"
      ],
      "text/plain": [
       "<Angle [  3.09813073,  3.28671308,  2.44052835,  2.78578211,  2.77268469,\n",
       "          3.20848829,  2.97859182,  1.24617459,  2.47228136,  2.92454423,\n",
       "          2.67308783,  0.28944596,  3.25170507,  3.25650151,  2.73694419,\n",
       "          2.57366215,  2.23325315,  2.40650629,  1.93927147,  3.32692429,\n",
       "          4.41501963,  3.75624509,  3.20194356,  2.1008594 ,  3.23419608,\n",
       "          3.06933501,  3.82202767,  1.21011887,  2.48227664,  3.14989067,\n",
       "          2.90384627,  2.74409143,  3.12675998,  2.55215062,  1.606457  ,\n",
       "          2.58028762,  3.10085557,  2.62779307,  1.72479333,  2.32889961,\n",
       "          2.85675556,  2.87900353,  2.32329494,  2.06638985,  2.85803859,\n",
       "          2.97133823,  2.76793544,  2.16746557,  2.92056843,  2.64549912,\n",
       "          2.47004697,  1.49176479,  2.20101306,  2.70258563,  2.33659296,\n",
       "          2.4209879 ,  2.5779553 ,  2.42739618,  1.1943978 ,  2.69770352,\n",
       "          2.09706801,  3.00263586,  4.85180809,  2.64372278,  2.67439007,\n",
       "          2.33486604,  2.88978654,  3.05419178,  2.48730876,  2.04602008,\n",
       "          2.70777759,  3.08414927,  2.45373062,  2.25415171,  2.56839021,\n",
       "          1.30724692,  2.23403556,  2.60091505,  2.62580788,  2.414082  ,\n",
       "          3.02974814,  2.19750332, 25.75839358,  2.57645634,  2.66894679,\n",
       "          2.55802772,  2.84208839,  2.44610883,  2.72269869,  2.92570997,\n",
       "          2.73658745,  2.46865663,  1.62380166,  2.31850307,  1.44941723,\n",
       "          2.70953816,  2.39656733,  2.60069314,  2.7492344 ,  4.07204885] arcsec>"
      ]
     },
     "execution_count": 18,
     "metadata": {},
     "output_type": "execute_result"
    }
   ],
   "source": [
    "d2d.to('arcsec')"
   ]
  },
  {
   "cell_type": "code",
   "execution_count": 22,
   "metadata": {
    "collapsed": false
   },
   "outputs": [
    {
     "data": {
      "text/plain": [
       "82"
      ]
     },
     "execution_count": 22,
     "metadata": {},
     "output_type": "execute_result"
    }
   ],
   "source": [
    "np.argmax(d2d.to('arcsec'))"
   ]
  },
  {
   "cell_type": "code",
   "execution_count": 23,
   "metadata": {
    "collapsed": false
   },
   "outputs": [
    {
     "data": {
      "text/html": [
       "&lt;Row index=82 masked=True&gt;\n",
       "<table id=\"table139626645738496\">\n",
       "<thead><tr><th>OBJ_NAME</th><th>RA</th><th>DEC</th><th>FILE_NAME</th><th>Z_QSO</th><th>ERR_ZQSO</th><th>N_OBS</th><th>MJD_OBS [3]</th><th>SEEING_START [3]</th><th>SEEING_END [3]</th><th>SNR_1700 [3]</th><th>SNR_3000 [3]</th><th>SNR_3600 [3]</th><th>CALIB_FLAG [3]</th><th>COMBINED_FLAG</th><th>COMBINED_SNR_17</th><th>COMBINED_SNR_30</th><th>COMBINED_SNR_36</th><th>HR_FLAG</th><th>JOHNSON_MAG [3]</th><th>SDSS_PSFMAG [5]</th><th>SDSS_ERR_PSFMAG [5]</th><th>DR7Q_MATCHED</th><th>PLATE_DR7Q</th><th>MJD_DR7Q</th><th>FIBER_DR7Q</th><th>DR12Q_MATCHED</th><th>N_DR12Q</th><th>PLATE_DR12Q [2]</th><th>MJD_DR12Q [2]</th><th>FIBER_DR12Q [2]</th><th>FIRST_MATCHED</th><th>FIRST_FLUX</th><th>FIRST_SNR</th><th>MATCHED_TMASS</th><th>TMASS_MAG [3]</th><th>TMASS_ERR_MAG [3]</th><th>TMASS_SNR [3]</th><th>RD_FLAG</th><th>MATCHED_WISE</th><th>WISE_MAG [4]</th><th>WISE_ERR_MAG [4]</th><th>WISE_SNR [4]</th><th>WISE_RCHI2 [4]</th><th>CC_FLAG</th><th>PH_QUAL</th><th>N_ABS</th><th>Z_ABS [4]</th><th>NHI_ABS [4]</th><th>ERR_NHI_ABS [4]</th></tr></thead>\n",
       "<thead><tr><th>-</th><th>deg</th><th>deg</th><th>-</th><th>-</th><th>-</th><th>-</th><th>-</th><th>arcsec</th><th>arcsec</th><th>-</th><th>-</th><th>-</th><th>-</th><th>-</th><th>-</th><th>-</th><th>-</th><th>-</th><th>-</th><th>-</th><th>-</th><th>-</th><th>-</th><th>-</th><th>-</th><th>-</th><th>-</th><th>-</th><th>-</th><th>-</th><th>-</th><th>mJy</th><th>-</th><th>-</th><th>-</th><th>-</th><th>-</th><th>-</th><th>-</th><th>-</th><th>-</th><th>-</th><th>-</th><th>-</th><th>-</th><th>-</th><th>-</th><th>[cm-2]</th><th>[cm-2]</th></tr></thead>\n",
       "<thead><tr><th>str24</th><th>float64</th><th>float64</th><th>str1</th><th>float32</th><th>float32</th><th>int32</th><th>float32</th><th>float32</th><th>float32</th><th>float64</th><th>float64</th><th>float64</th><th>float64</th><th>int16</th><th>float64</th><th>float64</th><th>float64</th><th>int16</th><th>float32</th><th>float64</th><th>float64</th><th>int16</th><th>int32</th><th>int32</th><th>int32</th><th>int16</th><th>int32</th><th>int32</th><th>int32</th><th>int32</th><th>int32</th><th>float64</th><th>float64</th><th>int16</th><th>float64</th><th>float64</th><th>float64</th><th>str3</th><th>int16</th><th>float64</th><th>float64</th><th>float64</th><th>float64</th><th>str4</th><th>str3</th><th>int16</th><th>float64</th><th>float64</th><th>float64</th></tr></thead>\n",
       "<tr><td>PKS B1418-064</td><td>215.283048</td><td>-6.73269</td><td>-</td><td>3.68846</td><td>0.00014785</td><td>1</td><td>56385.3 .. -1.0</td><td>0.76 .. -1.0</td><td>0.65 .. -1.0</td><td>39.6861991882 .. -1.0</td><td>16.7110004425 .. -1.0</td><td>44.9874000549 .. -1.0</td><td>4.0 .. -1.0</td><td>0</td><td>-1.0</td><td>-1.0</td><td>-1.0</td><td>1</td><td>20.4 .. 19.1</td><td>-1.0 .. -1.0</td><td>-1.0 .. -1.0</td><td>0</td><td>-1</td><td>-1</td><td>-1</td><td>0</td><td>0</td><td>-1 .. -1</td><td>-1 .. -1</td><td>-1 .. -1</td><td>1</td><td>380.029998779</td><td>2495.20514983</td><td>0</td><td>-1.0 .. -1.0</td><td>-1.0 .. -1.0</td><td>-1.0 .. -1.0</td><td>-</td><td>1</td><td>15.5909996033 .. 8.79199981689</td><td>0.0419999994338 .. 0.328999996185</td><td>25.6000003815 .. 3.29999995232</td><td>0.95039999485 .. 1.05099999905</td><td>0000</td><td>-</td><td>2</td><td>2.75250005722 .. -1.0</td><td>19.5 .. -1.0</td><td>0.10000000149 .. -1.0</td></tr>\n",
       "</table>"
      ],
      "text/plain": [
       "<Row index=82 masked=True>\n",
       "   OBJ_NAME       RA       DEC    FILE_NAME  Z_QSO   ERR_ZQSO  N_OBS   MJD_OBS [3]   SEEING_START [3] SEEING_END [3]      SNR_1700 [3]          SNR_3000 [3]          SNR_3600 [3]     CALIB_FLAG [3] COMBINED_FLAG COMBINED_SNR_17 COMBINED_SNR_30 COMBINED_SNR_36 HR_FLAG JOHNSON_MAG [3] SDSS_PSFMAG [5] SDSS_ERR_PSFMAG [5] DR7Q_MATCHED PLATE_DR7Q MJD_DR7Q FIBER_DR7Q DR12Q_MATCHED N_DR12Q PLATE_DR12Q [2] MJD_DR12Q [2] FIBER_DR12Q [2] FIRST_MATCHED   FIRST_FLUX    FIRST_SNR   MATCHED_TMASS TMASS_MAG [3] TMASS_ERR_MAG [3] TMASS_SNR [3] RD_FLAG MATCHED_WISE          WISE_MAG [4]                   WISE_ERR_MAG [4]                  WISE_SNR [4]                  WISE_RCHI2 [4]         CC_FLAG PH_QUAL N_ABS       Z_ABS [4]       NHI_ABS [4]     ERR_NHI_ABS [4]   \n",
       "      -          deg       deg        -        -        -        -          -             arcsec          arcsec               -                     -                     -                 -              -              -               -               -           -           -               -                 -               -           -         -         -            -          -           -              -              -              -            mJy            -             -             -               -               -          -         -                     -                                -                               -                              -                   -       -      -             -              [cm-2]            [cm-2]       \n",
       "    str24      float64   float64     str1   float32  float32   int32     float32         float32         float32            float64               float64               float64           float64         int16         float64         float64         float64      int16      float32         float64           float64          int16       int32     int32     int32        int16      int32       int32          int32          int32          int32        float64       float64        int16        float64         float64         float64      str3     int16                float64                          float64                         float64                        float64               str4    str3  int16        float64          float64           float64       \n",
       "------------- ---------- -------- --------- ------- ---------- ----- --------------- ---------------- -------------- --------------------- --------------------- --------------------- -------------- ------------- --------------- --------------- --------------- ------- --------------- --------------- ------------------- ------------ ---------- -------- ---------- ------------- ------- --------------- ------------- --------------- ------------- ------------- ------------- ------------- ------------- ----------------- ------------- ------- ------------ ------------------------------ --------------------------------- ------------------------------ ------------------------------ ------- ------- ----- --------------------- ------------ ---------------------\n",
       "PKS B1418-064 215.283048 -6.73269         - 3.68846 0.00014785     1 56385.3 .. -1.0     0.76 .. -1.0   0.65 .. -1.0 39.6861991882 .. -1.0 16.7110004425 .. -1.0 44.9874000549 .. -1.0    4.0 .. -1.0             0            -1.0            -1.0            -1.0       1    20.4 .. 19.1    -1.0 .. -1.0        -1.0 .. -1.0            0         -1       -1         -1             0       0        -1 .. -1      -1 .. -1        -1 .. -1             1 380.029998779 2495.20514983             0  -1.0 .. -1.0      -1.0 .. -1.0  -1.0 .. -1.0       -            1 15.5909996033 .. 8.79199981689 0.0419999994338 .. 0.328999996185 25.6000003815 .. 3.29999995232 0.95039999485 .. 1.05099999905    0000       -     2 2.75250005722 .. -1.0 19.5 .. -1.0 0.10000000149 .. -1.0"
      ]
     },
     "execution_count": 23,
     "metadata": {},
     "output_type": "execute_result"
    }
   ],
   "source": [
    "meta[82]"
   ]
  },
  {
   "cell_type": "code",
   "execution_count": 24,
   "metadata": {
    "collapsed": false
   },
   "outputs": [
    {
     "data": {
      "text/html": [
       "&lt;Row index=549539&gt;\n",
       "<table id=\"table139626645581496\">\n",
       "<thead><tr><th>SDSS_BOSS_SURVEY</th><th>SDSS_BOSS_PROGRAMNAME</th><th>SDSS_BOSS_CHUNK</th><th>SDSS_BOSS_PRIMTARGET</th><th>SDSS_BOSS_RUN2D</th><th>SDSS_BOSS_RUN1D</th><th>SDSS_BOSS_SPECPRIMARY</th><th>SDSS_BOSS_ZWARNING</th><th>SDSS_BOSS_SN_MEDIAN [5]</th><th>SDSS_BOSS_CLASS</th><th>SDSS_BOSS_PLUG_RA</th><th>SDSS_BOSS_PLUG_DEC</th><th>SDSS_BOSS_PLATE</th><th>SDSS_BOSS_TILE</th><th>SDSS_BOSS_FIBERID</th><th>SDSS_BOSS_MJD</th><th>SDSS_BOSS_Z</th><th>SDSS_BOSS_Z_ERR</th><th>SDSS_BOSS_RERUN</th><th>SDSS_BOSS_RUN</th><th>SDSS_BOSS_CAMCOL</th><th>SDSS_BOSS_FIELD</th><th>SDSS_BOSS_ID</th><th>SDSS_BOSS_OBJC_ROWC</th><th>SDSS_BOSS_OBJC_COLC</th><th>SDSS_BOSS_MODELFLUX [5]</th><th>SDSS_BOSS_MODELFLUX_IVAR [5]</th><th>SDSS_BOSS_PETROFLUX [5]</th><th>SDSS_BOSS_PETROFLUX_IVAR [5]</th><th>SDSS_BOSS_PSFFLUX [5]</th><th>SDSS_BOSS_PSFFLUX_IVAR [5]</th><th>SDSS_BOSS_EXTINCTION [5]</th><th>SDSS_BOSS_SCORE</th><th>SDSS_BOSS_NMGYPERCOUNT [5]</th><th>SDSS_BOSS_RESOLVE_STATUS</th><th>SDSS_BOSS_OBJC_TYPE</th><th>SDSS_BOSS_OBJC_FLAGS</th><th>SDSS_BOSS_OBJC_FLAGS2</th><th>SDSS_BOSS_COLC [5]</th><th>SDSS_BOSS_FLAGS [5]</th><th>SDSS_BOSS_FLAGS2 [5]</th><th>SDSS_BOSS_RA</th><th>SDSS_BOSS_DEC</th><th>MYERS_RA</th><th>MYERS_DEC</th><th>MYERS_ZBEST [19]</th><th>MYERS_SOURCEBIT</th><th>MYERS_SDSS_UFLG</th><th>MYERS_AGES_QSO</th><th>MYERS_AGES_CODE06</th><th>MYERS_KDE_ZPHOTLO</th><th>MYERS_KDE_ZPHOTHI</th><th>MYERS_KDE_ZPHOTPROB</th><th>MYERS_KDE_LOWZORUVX</th><th>MYERS_XDQSOZ_PEAKPROB</th><th>MYERS_XDQSOZ_PEAKFWHM</th><th>MYERS_XDQSOZ_NPEAKS</th><th>MYERS_YAPERMAG3</th><th>MYERS_JAPERMAG3</th><th>MYERS_HAPERMAG3</th><th>MYERS_KSAPERMAG3</th><th>MYERS_YAPERMAG3ERR</th><th>MYERS_JAPERMAG3ERR</th><th>MYERS_HAPERMAG3ERR</th><th>MYERS_KSAPERMAG3ERR</th><th>MYERS_ZPHOTMINJHK</th><th>MYERS_ZPHOTBESTJHK</th><th>MYERS_ZPHOTMAXJHK</th><th>MYERS_ZPHOTPROBJHK</th><th>MYERS_RA_sweep</th><th>MYERS_DEC_sweep</th><th>MYERS_RUN</th><th>MYERS_RERUN</th><th>MYERS_CAMCOL</th><th>MYERS_FIELD</th><th>MYERS_ID</th><th>MYERS_OBJC_TYPE</th><th>MYERS_OBJC_FLAGS</th><th>MYERS_OBJC_FLAGS2</th><th>MYERS_ROWC [5]</th><th>MYERS_COLC [5]</th><th>MYERS_FLAGS [5]</th><th>MYERS_FLAGS2 [5]</th><th>MYERS_PSF_FWHM [5]</th><th>MYERS_EXTINCTION [5]</th><th>MYERS_PSFFLUX [5]</th><th>MYERS_PSFFLUX_IVAR [5]</th><th>MYERS_CALIB_STATUS [5]</th><th>MYERS_RESOLVE_STATUS</th><th>MYERS_PSFFLUX_CLEAN [5]</th><th>MYERS_PSFFLUX_CLEAN_IVAR [5]</th><th>MYERS_PSF_CLEAN_NUSE [5]</th><th>MYERS_R15_CLASS</th><th>MYERS_R15_ZPHOT</th><th>MYERS_R15_ZPHOTPROB2</th><th>MYERS_P15_CLASSSDSS</th><th>MYERS_P15_CLASSBOSS</th><th>MYERS_P15_QSO_PROB_MAX_BIN</th><th>MYERS_P15_ADDED_PHOTOZ_PDF_MAX_BIN</th><th>MYERS_ZEM</th><th>MYERS_ZEM_SOURCE</th><th>RA</th><th>DEC</th><th>SOURCEBIT</th><th>ZEM</th><th>ZEM_SOURCE</th><th>SDSS_BOSS_MYERS_FLAG</th></tr></thead>\n",
       "<thead><tr><th>bytes6</th><th>bytes27</th><th>bytes16</th><th>int32</th><th>bytes6</th><th>bytes6</th><th>uint8</th><th>int32</th><th>float32</th><th>bytes6</th><th>float64</th><th>float64</th><th>int32</th><th>int32</th><th>int32</th><th>int32</th><th>float32</th><th>float32</th><th>bytes3</th><th>int16</th><th>uint8</th><th>int16</th><th>int16</th><th>float32</th><th>float32</th><th>float32</th><th>float32</th><th>float32</th><th>float32</th><th>float32</th><th>float32</th><th>float32</th><th>float32</th><th>float32</th><th>int32</th><th>int32</th><th>int32</th><th>int32</th><th>float32</th><th>int32</th><th>int32</th><th>float64</th><th>float64</th><th>float32</th><th>float32</th><th>float32</th><th>int32</th><th>int16</th><th>int16</th><th>int32</th><th>float32</th><th>float32</th><th>float32</th><th>int16</th><th>float32</th><th>float32</th><th>int16</th><th>float32</th><th>float32</th><th>float32</th><th>float32</th><th>float32</th><th>float32</th><th>float32</th><th>float32</th><th>float32</th><th>float32</th><th>float32</th><th>float32</th><th>float32</th><th>float32</th><th>int16</th><th>bytes3</th><th>uint8</th><th>int16</th><th>int16</th><th>int32</th><th>int32</th><th>int32</th><th>float32</th><th>float32</th><th>int32</th><th>int32</th><th>float32</th><th>float32</th><th>float32</th><th>float32</th><th>int32</th><th>int32</th><th>float32</th><th>float32</th><th>int16</th><th>bytes6</th><th>float32</th><th>float64</th><th>bytes6</th><th>bytes6</th><th>float64</th><th>float64</th><th>float32</th><th>bytes8</th><th>float64</th><th>float64</th><th>int64</th><th>float32</th><th>bytes14</th><th>bytes15</th></tr></thead>\n",
       "<tr><td></td><td></td><td></td><td>0</td><td></td><td></td><td>0</td><td>0</td><td>0.0 .. 0.0</td><td></td><td>0.0</td><td>0.0</td><td>0</td><td>0</td><td>0</td><td>0</td><td>0.0</td><td>0.0</td><td></td><td>0</td><td>0</td><td>0</td><td>0</td><td>0.0</td><td>0.0</td><td>0.0 .. 0.0</td><td>0.0 .. 0.0</td><td>0.0 .. 0.0</td><td>0.0 .. 0.0</td><td>0.0 .. 0.0</td><td>0.0 .. 0.0</td><td>0.0 .. 0.0</td><td>0.0</td><td>0.0 .. 0.0</td><td>0</td><td>0</td><td>0</td><td>0</td><td>0.0 .. 0.0</td><td>0 .. 0</td><td>0 .. 0</td><td>0.0</td><td>0.0</td><td>215.279</td><td>-6.72667</td><td>0.0 .. 0.0</td><td>131072</td><td>0</td><td>0</td><td>0</td><td>0.0</td><td>0.0</td><td>0.0</td><td>0</td><td>0.0</td><td>0.0</td><td>0</td><td>0.0</td><td>0.0</td><td>0.0</td><td>0.0</td><td>0.0</td><td>0.0</td><td>0.0</td><td>0.0</td><td>0.0</td><td>0.0</td><td>0.0</td><td>0.0</td><td>0.0</td><td>0.0</td><td>0</td><td></td><td>0</td><td>0</td><td>0</td><td>0</td><td>0</td><td>0</td><td>0.0 .. 0.0</td><td>0.0 .. 0.0</td><td>0 .. 0</td><td>0 .. 0</td><td>0.0 .. 0.0</td><td>0.0 .. 0.0</td><td>0.0 .. 0.0</td><td>0.0 .. 0.0</td><td>0 .. 0</td><td>0</td><td>0.0 .. 0.0</td><td>0.0 .. 0.0</td><td>0 .. 0</td><td></td><td>0.0</td><td>0.0</td><td></td><td></td><td>0.0</td><td>0.0</td><td>3.689</td><td>VCV</td><td>215.279159546</td><td>-6.7266664505</td><td>131072</td><td>3.689</td><td>VCV</td><td>MYERS_ONLY</td></tr>\n",
       "</table>"
      ],
      "text/plain": [
       "<Row index=549539>\n",
       "SDSS_BOSS_SURVEY SDSS_BOSS_PROGRAMNAME SDSS_BOSS_CHUNK SDSS_BOSS_PRIMTARGET SDSS_BOSS_RUN2D SDSS_BOSS_RUN1D SDSS_BOSS_SPECPRIMARY SDSS_BOSS_ZWARNING SDSS_BOSS_SN_MEDIAN [5] SDSS_BOSS_CLASS SDSS_BOSS_PLUG_RA SDSS_BOSS_PLUG_DEC SDSS_BOSS_PLATE SDSS_BOSS_TILE SDSS_BOSS_FIBERID SDSS_BOSS_MJD SDSS_BOSS_Z SDSS_BOSS_Z_ERR SDSS_BOSS_RERUN SDSS_BOSS_RUN SDSS_BOSS_CAMCOL SDSS_BOSS_FIELD SDSS_BOSS_ID SDSS_BOSS_OBJC_ROWC SDSS_BOSS_OBJC_COLC SDSS_BOSS_MODELFLUX [5] SDSS_BOSS_MODELFLUX_IVAR [5] SDSS_BOSS_PETROFLUX [5] SDSS_BOSS_PETROFLUX_IVAR [5] SDSS_BOSS_PSFFLUX [5] SDSS_BOSS_PSFFLUX_IVAR [5] SDSS_BOSS_EXTINCTION [5] SDSS_BOSS_SCORE SDSS_BOSS_NMGYPERCOUNT [5] SDSS_BOSS_RESOLVE_STATUS SDSS_BOSS_OBJC_TYPE SDSS_BOSS_OBJC_FLAGS SDSS_BOSS_OBJC_FLAGS2 SDSS_BOSS_COLC [5] SDSS_BOSS_FLAGS [5] SDSS_BOSS_FLAGS2 [5] SDSS_BOSS_RA SDSS_BOSS_DEC MYERS_RA MYERS_DEC MYERS_ZBEST [19] MYERS_SOURCEBIT MYERS_SDSS_UFLG MYERS_AGES_QSO MYERS_AGES_CODE06 MYERS_KDE_ZPHOTLO MYERS_KDE_ZPHOTHI MYERS_KDE_ZPHOTPROB MYERS_KDE_LOWZORUVX MYERS_XDQSOZ_PEAKPROB MYERS_XDQSOZ_PEAKFWHM MYERS_XDQSOZ_NPEAKS MYERS_YAPERMAG3 MYERS_JAPERMAG3 MYERS_HAPERMAG3 MYERS_KSAPERMAG3 MYERS_YAPERMAG3ERR MYERS_JAPERMAG3ERR MYERS_HAPERMAG3ERR MYERS_KSAPERMAG3ERR MYERS_ZPHOTMINJHK MYERS_ZPHOTBESTJHK MYERS_ZPHOTMAXJHK MYERS_ZPHOTPROBJHK MYERS_RA_sweep MYERS_DEC_sweep MYERS_RUN MYERS_RERUN MYERS_CAMCOL MYERS_FIELD MYERS_ID MYERS_OBJC_TYPE MYERS_OBJC_FLAGS MYERS_OBJC_FLAGS2 MYERS_ROWC [5] MYERS_COLC [5] MYERS_FLAGS [5] MYERS_FLAGS2 [5] MYERS_PSF_FWHM [5] MYERS_EXTINCTION [5] MYERS_PSFFLUX [5] MYERS_PSFFLUX_IVAR [5] MYERS_CALIB_STATUS [5] MYERS_RESOLVE_STATUS MYERS_PSFFLUX_CLEAN [5] MYERS_PSFFLUX_CLEAN_IVAR [5] MYERS_PSF_CLEAN_NUSE [5] MYERS_R15_CLASS MYERS_R15_ZPHOT MYERS_R15_ZPHOTPROB2 MYERS_P15_CLASSSDSS MYERS_P15_CLASSBOSS MYERS_P15_QSO_PROB_MAX_BIN MYERS_P15_ADDED_PHOTOZ_PDF_MAX_BIN MYERS_ZEM MYERS_ZEM_SOURCE       RA           DEC      SOURCEBIT   ZEM   ZEM_SOURCE SDSS_BOSS_MYERS_FLAG\n",
       "     bytes6             bytes27            bytes16            int32              bytes6          bytes6             uint8               int32                float32              bytes6          float64           float64            int32          int32            int32           int32       float32       float32          bytes3         int16          uint8            int16         int16           float32             float32               float32                   float32                    float32                   float32                   float32                 float32                   float32              float32              float32                    int32                  int32               int32                 int32              float32              int32               int32           float64       float64    float32   float32      float32           int32           int16          int16            int32            float32           float32            float32              int16               float32               float32               int16            float32         float32         float32         float32           float32            float32            float32             float32            float32           float32            float32           float32          float32         float32       int16      bytes3      uint8        int16     int16        int32           int32             int32          float32        float32          int32           int32            float32             float32             float32             float32                 int32                 int32                 float32                   float32                     int16                bytes6         float32           float64               bytes6              bytes6                float64                        float64                float32       bytes8         float64       float64      int64   float32  bytes14         bytes15       \n",
       "---------------- --------------------- --------------- -------------------- --------------- --------------- --------------------- ------------------ ----------------------- --------------- ----------------- ------------------ --------------- -------------- ----------------- ------------- ----------- --------------- --------------- ------------- ---------------- --------------- ------------ ------------------- ------------------- ----------------------- ---------------------------- ----------------------- ---------------------------- --------------------- -------------------------- ------------------------ --------------- -------------------------- ------------------------ ------------------- -------------------- --------------------- ------------------ ------------------- -------------------- ------------ ------------- -------- --------- ---------------- --------------- --------------- -------------- ----------------- ----------------- ----------------- ------------------- ------------------- --------------------- --------------------- ------------------- --------------- --------------- --------------- ---------------- ------------------ ------------------ ------------------ ------------------- ----------------- ------------------ ----------------- ------------------ -------------- --------------- --------- ----------- ------------ ----------- -------- --------------- ---------------- ----------------- -------------- -------------- --------------- ---------------- ------------------ -------------------- ----------------- ---------------------- ---------------------- -------------------- ----------------------- ---------------------------- ------------------------ --------------- --------------- -------------------- ------------------- ------------------- -------------------------- ---------------------------------- --------- ---------------- ------------- ------------- --------- ------- ---------- --------------------\n",
       "                                                                          0                                                     0                  0              0.0 .. 0.0                               0.0                0.0               0              0                 0             0         0.0             0.0                             0                0               0            0                 0.0                 0.0              0.0 .. 0.0                   0.0 .. 0.0              0.0 .. 0.0                   0.0 .. 0.0            0.0 .. 0.0                 0.0 .. 0.0               0.0 .. 0.0             0.0                 0.0 .. 0.0                        0                   0                    0                     0         0.0 .. 0.0              0 .. 0               0 .. 0          0.0           0.0  215.279  -6.72667       0.0 .. 0.0          131072               0              0                 0               0.0               0.0                 0.0                   0                   0.0                   0.0                   0             0.0             0.0             0.0              0.0                0.0                0.0                0.0                 0.0               0.0                0.0               0.0                0.0            0.0             0.0         0                        0           0        0               0                0                 0     0.0 .. 0.0     0.0 .. 0.0          0 .. 0           0 .. 0         0.0 .. 0.0           0.0 .. 0.0        0.0 .. 0.0             0.0 .. 0.0                 0 .. 0                    0              0.0 .. 0.0                   0.0 .. 0.0                   0 .. 0                             0.0                  0.0                                                                0.0                                0.0     3.689              VCV 215.279159546 -6.7266664505    131072   3.689        VCV           MYERS_ONLY"
      ]
     },
     "execution_count": 24,
     "metadata": {},
     "output_type": "execute_result"
    }
   ],
   "source": [
    "myers[idx[82]]"
   ]
  },
  {
   "cell_type": "code",
   "execution_count": 27,
   "metadata": {
    "collapsed": true
   },
   "outputs": [],
   "source": [
    "# Simbad gives 215.2823,-6.73232\n",
    "#  VCV must be wrong, I guess"
   ]
  },
  {
   "cell_type": "code",
   "execution_count": 26,
   "metadata": {
    "collapsed": false
   },
   "outputs": [
    {
     "data": {
      "text/html": [
       "&lt;Table length=100&gt;\n",
       "<table id=\"table139626644716624\" class=\"table-striped table-bordered table-condensed\">\n",
       "<thead><tr><th>SDSS_BOSS_SURVEY</th><th>SDSS_BOSS_PROGRAMNAME</th><th>SDSS_BOSS_CHUNK</th><th>SDSS_BOSS_PRIMTARGET</th><th>SDSS_BOSS_RUN2D</th><th>SDSS_BOSS_RUN1D</th><th>SDSS_BOSS_SPECPRIMARY</th><th>SDSS_BOSS_ZWARNING</th><th>SDSS_BOSS_SN_MEDIAN [5]</th><th>SDSS_BOSS_CLASS</th><th>SDSS_BOSS_PLUG_RA</th><th>SDSS_BOSS_PLUG_DEC</th><th>SDSS_BOSS_PLATE</th><th>SDSS_BOSS_TILE</th><th>SDSS_BOSS_FIBERID</th><th>SDSS_BOSS_MJD</th><th>SDSS_BOSS_Z</th><th>SDSS_BOSS_Z_ERR</th><th>SDSS_BOSS_RERUN</th><th>SDSS_BOSS_RUN</th><th>SDSS_BOSS_CAMCOL</th><th>SDSS_BOSS_FIELD</th><th>SDSS_BOSS_ID</th><th>SDSS_BOSS_OBJC_ROWC</th><th>SDSS_BOSS_OBJC_COLC</th><th>SDSS_BOSS_MODELFLUX [5]</th><th>SDSS_BOSS_MODELFLUX_IVAR [5]</th><th>SDSS_BOSS_PETROFLUX [5]</th><th>SDSS_BOSS_PETROFLUX_IVAR [5]</th><th>SDSS_BOSS_PSFFLUX [5]</th><th>SDSS_BOSS_PSFFLUX_IVAR [5]</th><th>SDSS_BOSS_EXTINCTION [5]</th><th>SDSS_BOSS_SCORE</th><th>SDSS_BOSS_NMGYPERCOUNT [5]</th><th>SDSS_BOSS_RESOLVE_STATUS</th><th>SDSS_BOSS_OBJC_TYPE</th><th>SDSS_BOSS_OBJC_FLAGS</th><th>SDSS_BOSS_OBJC_FLAGS2</th><th>SDSS_BOSS_COLC [5]</th><th>SDSS_BOSS_FLAGS [5]</th><th>SDSS_BOSS_FLAGS2 [5]</th><th>SDSS_BOSS_RA</th><th>SDSS_BOSS_DEC</th><th>MYERS_RA</th><th>MYERS_DEC</th><th>MYERS_ZBEST [19]</th><th>MYERS_SOURCEBIT</th><th>MYERS_SDSS_UFLG</th><th>MYERS_AGES_QSO</th><th>MYERS_AGES_CODE06</th><th>MYERS_KDE_ZPHOTLO</th><th>MYERS_KDE_ZPHOTHI</th><th>MYERS_KDE_ZPHOTPROB</th><th>MYERS_KDE_LOWZORUVX</th><th>MYERS_XDQSOZ_PEAKPROB</th><th>MYERS_XDQSOZ_PEAKFWHM</th><th>MYERS_XDQSOZ_NPEAKS</th><th>MYERS_YAPERMAG3</th><th>MYERS_JAPERMAG3</th><th>MYERS_HAPERMAG3</th><th>MYERS_KSAPERMAG3</th><th>MYERS_YAPERMAG3ERR</th><th>MYERS_JAPERMAG3ERR</th><th>MYERS_HAPERMAG3ERR</th><th>MYERS_KSAPERMAG3ERR</th><th>MYERS_ZPHOTMINJHK</th><th>MYERS_ZPHOTBESTJHK</th><th>MYERS_ZPHOTMAXJHK</th><th>MYERS_ZPHOTPROBJHK</th><th>MYERS_RA_sweep</th><th>MYERS_DEC_sweep</th><th>MYERS_RUN</th><th>MYERS_RERUN</th><th>MYERS_CAMCOL</th><th>MYERS_FIELD</th><th>MYERS_ID</th><th>MYERS_OBJC_TYPE</th><th>MYERS_OBJC_FLAGS</th><th>MYERS_OBJC_FLAGS2</th><th>MYERS_ROWC [5]</th><th>MYERS_COLC [5]</th><th>MYERS_FLAGS [5]</th><th>MYERS_FLAGS2 [5]</th><th>MYERS_PSF_FWHM [5]</th><th>MYERS_EXTINCTION [5]</th><th>MYERS_PSFFLUX [5]</th><th>MYERS_PSFFLUX_IVAR [5]</th><th>MYERS_CALIB_STATUS [5]</th><th>MYERS_RESOLVE_STATUS</th><th>MYERS_PSFFLUX_CLEAN [5]</th><th>MYERS_PSFFLUX_CLEAN_IVAR [5]</th><th>MYERS_PSF_CLEAN_NUSE [5]</th><th>MYERS_R15_CLASS</th><th>MYERS_R15_ZPHOT</th><th>MYERS_R15_ZPHOTPROB2</th><th>MYERS_P15_CLASSSDSS</th><th>MYERS_P15_CLASSBOSS</th><th>MYERS_P15_QSO_PROB_MAX_BIN</th><th>MYERS_P15_ADDED_PHOTOZ_PDF_MAX_BIN</th><th>MYERS_ZEM</th><th>MYERS_ZEM_SOURCE</th><th>RA</th><th>DEC</th><th>SOURCEBIT</th><th>ZEM</th><th>ZEM_SOURCE</th><th>SDSS_BOSS_MYERS_FLAG</th></tr></thead>\n",
       "<thead><tr><th>bytes6</th><th>bytes27</th><th>bytes16</th><th>int32</th><th>bytes6</th><th>bytes6</th><th>uint8</th><th>int32</th><th>float32</th><th>bytes6</th><th>float64</th><th>float64</th><th>int32</th><th>int32</th><th>int32</th><th>int32</th><th>float32</th><th>float32</th><th>bytes3</th><th>int16</th><th>uint8</th><th>int16</th><th>int16</th><th>float32</th><th>float32</th><th>float32</th><th>float32</th><th>float32</th><th>float32</th><th>float32</th><th>float32</th><th>float32</th><th>float32</th><th>float32</th><th>int32</th><th>int32</th><th>int32</th><th>int32</th><th>float32</th><th>int32</th><th>int32</th><th>float64</th><th>float64</th><th>float32</th><th>float32</th><th>float32</th><th>int32</th><th>int16</th><th>int16</th><th>int32</th><th>float32</th><th>float32</th><th>float32</th><th>int16</th><th>float32</th><th>float32</th><th>int16</th><th>float32</th><th>float32</th><th>float32</th><th>float32</th><th>float32</th><th>float32</th><th>float32</th><th>float32</th><th>float32</th><th>float32</th><th>float32</th><th>float32</th><th>float32</th><th>float32</th><th>int16</th><th>bytes3</th><th>uint8</th><th>int16</th><th>int16</th><th>int32</th><th>int32</th><th>int32</th><th>float32</th><th>float32</th><th>int32</th><th>int32</th><th>float32</th><th>float32</th><th>float32</th><th>float32</th><th>int32</th><th>int32</th><th>float32</th><th>float32</th><th>int16</th><th>bytes6</th><th>float32</th><th>float64</th><th>bytes6</th><th>bytes6</th><th>float64</th><th>float64</th><th>float32</th><th>bytes8</th><th>float64</th><th>float64</th><th>int64</th><th>float32</th><th>bytes14</th><th>bytes15</th></tr></thead>\n",
       "<tr><td></td><td></td><td></td><td>0</td><td></td><td></td><td>0</td><td>0</td><td>0.0 .. 0.0</td><td></td><td>0.0</td><td>0.0</td><td>0</td><td>0</td><td>0</td><td>0</td><td>0.0</td><td>0.0</td><td></td><td>0</td><td>0</td><td>0</td><td>0</td><td>0.0</td><td>0.0</td><td>0.0 .. 0.0</td><td>0.0 .. 0.0</td><td>0.0 .. 0.0</td><td>0.0 .. 0.0</td><td>0.0 .. 0.0</td><td>0.0 .. 0.0</td><td>0.0 .. 0.0</td><td>0.0</td><td>0.0 .. 0.0</td><td>0</td><td>0</td><td>0</td><td>0</td><td>0.0 .. 0.0</td><td>0 .. 0</td><td>0 .. 0</td><td>0.0</td><td>0.0</td><td>0.845833</td><td>-26.055</td><td>0.0 .. 0.0</td><td>131072</td><td>0</td><td>0</td><td>0</td><td>0.0</td><td>0.0</td><td>0.0</td><td>0</td><td>0.0</td><td>0.0</td><td>0</td><td>0.0</td><td>0.0</td><td>0.0</td><td>0.0</td><td>0.0</td><td>0.0</td><td>0.0</td><td>0.0</td><td>0.0</td><td>0.0</td><td>0.0</td><td>0.0</td><td>0.0</td><td>0.0</td><td>0</td><td></td><td>0</td><td>0</td><td>0</td><td>0</td><td>0</td><td>0</td><td>0.0 .. 0.0</td><td>0.0 .. 0.0</td><td>0 .. 0</td><td>0 .. 0</td><td>0.0 .. 0.0</td><td>0.0 .. 0.0</td><td>0.0 .. 0.0</td><td>0.0 .. 0.0</td><td>0 .. 0</td><td>0</td><td>0.0 .. 0.0</td><td>0.0 .. 0.0</td><td>0 .. 0</td><td></td><td>0.0</td><td>0.0</td><td></td><td></td><td>0.0</td><td>0.0</td><td>4.111</td><td>VCV</td><td>0.845833361149</td><td>-26.0550003052</td><td>131072</td><td>4.111</td><td>VCV</td><td>MYERS_ONLY</td></tr>\n",
       "<tr><td></td><td></td><td></td><td>0</td><td></td><td></td><td>0</td><td>0</td><td>0.0 .. 0.0</td><td></td><td>0.0</td><td>0.0</td><td>0</td><td>0</td><td>0</td><td>0</td><td>0.0</td><td>0.0</td><td></td><td>0</td><td>0</td><td>0</td><td>0</td><td>0.0</td><td>0.0</td><td>0.0 .. 0.0</td><td>0.0 .. 0.0</td><td>0.0 .. 0.0</td><td>0.0 .. 0.0</td><td>0.0 .. 0.0</td><td>0.0 .. 0.0</td><td>0.0 .. 0.0</td><td>0.0</td><td>0.0 .. 0.0</td><td>0</td><td>0</td><td>0</td><td>0</td><td>0.0 .. 0.0</td><td>0 .. 0</td><td>0 .. 0</td><td>0.0</td><td>0.0</td><td>1.71542</td><td>-62.1344</td><td>0.0 .. 0.0</td><td>131072</td><td>0</td><td>0</td><td>0</td><td>0.0</td><td>0.0</td><td>0.0</td><td>0</td><td>0.0</td><td>0.0</td><td>0</td><td>0.0</td><td>0.0</td><td>0.0</td><td>0.0</td><td>0.0</td><td>0.0</td><td>0.0</td><td>0.0</td><td>0.0</td><td>0.0</td><td>0.0</td><td>0.0</td><td>0.0</td><td>0.0</td><td>0</td><td></td><td>0</td><td>0</td><td>0</td><td>0</td><td>0</td><td>0</td><td>0.0 .. 0.0</td><td>0.0 .. 0.0</td><td>0 .. 0</td><td>0 .. 0</td><td>0.0 .. 0.0</td><td>0.0 .. 0.0</td><td>0.0 .. 0.0</td><td>0.0 .. 0.0</td><td>0 .. 0</td><td>0</td><td>0.0 .. 0.0</td><td>0.0 .. 0.0</td><td>0 .. 0</td><td></td><td>0.0</td><td>0.0</td><td></td><td></td><td>0.0</td><td>0.0</td><td>4.455</td><td>VCV</td><td>1.71541666985</td><td>-62.1344451904</td><td>131072</td><td>4.455</td><td>VCV</td><td>MYERS_ONLY</td></tr>\n",
       "<tr><td></td><td></td><td></td><td>0</td><td></td><td></td><td>0</td><td>0</td><td>0.0 .. 0.0</td><td></td><td>0.0</td><td>0.0</td><td>0</td><td>0</td><td>0</td><td>0</td><td>0.0</td><td>0.0</td><td></td><td>0</td><td>0</td><td>0</td><td>0</td><td>0.0</td><td>0.0</td><td>0.0 .. 0.0</td><td>0.0 .. 0.0</td><td>0.0 .. 0.0</td><td>0.0 .. 0.0</td><td>0.0 .. 0.0</td><td>0.0 .. 0.0</td><td>0.0 .. 0.0</td><td>0.0</td><td>0.0 .. 0.0</td><td>0</td><td>0</td><td>0</td><td>0</td><td>0.0 .. 0.0</td><td>0 .. 0</td><td>0 .. 0</td><td>0.0</td><td>0.0</td><td>7.64333</td><td>-51.4961</td><td>0.0 .. 0.0</td><td>131072</td><td>0</td><td>0</td><td>0</td><td>0.0</td><td>0.0</td><td>0.0</td><td>0</td><td>0.0</td><td>0.0</td><td>0</td><td>0.0</td><td>0.0</td><td>0.0</td><td>0.0</td><td>0.0</td><td>0.0</td><td>0.0</td><td>0.0</td><td>0.0</td><td>0.0</td><td>0.0</td><td>0.0</td><td>0.0</td><td>0.0</td><td>0</td><td></td><td>0</td><td>0</td><td>0</td><td>0</td><td>0</td><td>0</td><td>0.0 .. 0.0</td><td>0.0 .. 0.0</td><td>0 .. 0</td><td>0 .. 0</td><td>0.0 .. 0.0</td><td>0.0 .. 0.0</td><td>0.0 .. 0.0</td><td>0.0 .. 0.0</td><td>0 .. 0</td><td>0</td><td>0.0 .. 0.0</td><td>0.0 .. 0.0</td><td>0 .. 0</td><td></td><td>0.0</td><td>0.0</td><td></td><td></td><td>0.0</td><td>0.0</td><td>4.174</td><td>VCV</td><td>7.64333343506</td><td>-51.4961128235</td><td>131072</td><td>4.174</td><td>VCV</td><td>MYERS_ONLY</td></tr>\n",
       "<tr><td></td><td></td><td></td><td>0</td><td></td><td></td><td>0</td><td>0</td><td>0.0 .. 0.0</td><td></td><td>0.0</td><td>0.0</td><td>0</td><td>0</td><td>0</td><td>0</td><td>0.0</td><td>0.0</td><td></td><td>0</td><td>0</td><td>0</td><td>0</td><td>0.0</td><td>0.0</td><td>0.0 .. 0.0</td><td>0.0 .. 0.0</td><td>0.0 .. 0.0</td><td>0.0 .. 0.0</td><td>0.0 .. 0.0</td><td>0.0 .. 0.0</td><td>0.0 .. 0.0</td><td>0.0</td><td>0.0 .. 0.0</td><td>0</td><td>0</td><td>0</td><td>0</td><td>0.0 .. 0.0</td><td>0 .. 0</td><td>0 .. 0</td><td>0.0</td><td>0.0</td><td>8.72875</td><td>16.6553</td><td>0.0 .. 0.0</td><td>131072</td><td>0</td><td>0</td><td>0</td><td>0.0</td><td>0.0</td><td>0.0</td><td>0</td><td>0.0</td><td>0.0</td><td>0</td><td>0.0</td><td>0.0</td><td>0.0</td><td>0.0</td><td>0.0</td><td>0.0</td><td>0.0</td><td>0.0</td><td>0.0</td><td>0.0</td><td>0.0</td><td>0.0</td><td>0.0</td><td>0.0</td><td>0</td><td></td><td>0</td><td>0</td><td>0</td><td>0</td><td>0</td><td>0</td><td>0.0 .. 0.0</td><td>0.0 .. 0.0</td><td>0 .. 0</td><td>0 .. 0</td><td>0.0 .. 0.0</td><td>0.0 .. 0.0</td><td>0.0 .. 0.0</td><td>0.0 .. 0.0</td><td>0 .. 0</td><td>0</td><td>0.0 .. 0.0</td><td>0.0 .. 0.0</td><td>0 .. 0</td><td></td><td>0.0</td><td>0.0</td><td></td><td></td><td>0.0</td><td>0.0</td><td>4.293</td><td>VCV</td><td>8.72875022888</td><td>16.6552772522</td><td>131072</td><td>4.293</td><td>VCV</td><td>MYERS_ONLY</td></tr>\n",
       "<tr><td>sdss</td><td>legacy</td><td>chunk20</td><td>1</td><td>26</td><td></td><td>1</td><td>0</td><td>-0.119863 .. 6.06455</td><td>QSO</td><td>10.582274</td><td>-10.335972</td><td>656</td><td>448</td><td>269</td><td>52148</td><td>3.8637</td><td>0.00059626</td><td>301</td><td>1666</td><td>3</td><td>261</td><td>106</td><td>1114.49</td><td>391.069</td><td>0.247132 .. 39.0481</td><td>11.5327 .. 0.513925</td><td>-0.0436503 .. 39.865</td><td>3.5531 .. 0.142122</td><td>0.276367 .. 38.2526</td><td>12.0517 .. 0.422555</td><td>0.171263 .. 0.0491362</td><td>0.82515</td><td>0.0111788 .. 0.0418412</td><td>257</td><td>6</td><td>268435712</td><td>16</td><td>395.532 .. 390.264</td><td>142639361 .. 402685952</td><td>2097152 .. 64</td><td>10.5822843457</td><td>-10.3359840722</td><td>10.5823</td><td>-10.336</td><td>3.86727 .. 0.0</td><td>131585</td><td>0</td><td>0</td><td>0</td><td>3.25</td><td>4.48</td><td>0.834</td><td>0</td><td>0.0</td><td>0.0</td><td>0</td><td>0.0</td><td>0.0</td><td>0.0</td><td>0.0</td><td>0.0</td><td>0.0</td><td>0.0</td><td>0.0</td><td>0.0</td><td>0.0</td><td>0.0</td><td>0.0</td><td>10.5823</td><td>-10.336</td><td>1666</td><td>301</td><td>3</td><td>261</td><td>106</td><td>6</td><td>268435712</td><td>16</td><td>1122.19 .. 1121.12</td><td>395.532 .. 390.264</td><td>142639361 .. 402685952</td><td>2097152 .. 64</td><td>1.55262 .. 1.22453</td><td>0.171263 .. 0.0491362</td><td>0.276367 .. 38.2526</td><td>12.0517 .. 0.422555</td><td>1 .. 1</td><td>257</td><td>0.129678 .. 37.634</td><td>21.3529 .. 0.760038</td><td>2 .. 2</td><td>0.0</td><td>655873.0</td><td>0.0</td><td>0</td><td>0</td><td>3.25</td><td>4.48000001907</td><td>3.86727</td><td>SDSS-HW</td><td>10.582274</td><td>-10.335972</td><td>131585</td><td>3.86727</td><td>SDSS-HW</td><td>SDSS_BOSS_MYERS</td></tr>\n",
       "<tr><td></td><td></td><td></td><td>0</td><td></td><td></td><td>0</td><td>0</td><td>0.0 .. 0.0</td><td></td><td>0.0</td><td>0.0</td><td>0</td><td>0</td><td>0</td><td>0</td><td>0.0</td><td>0.0</td><td></td><td>0</td><td>0</td><td>0</td><td>0</td><td>0.0</td><td>0.0</td><td>0.0 .. 0.0</td><td>0.0 .. 0.0</td><td>0.0 .. 0.0</td><td>0.0 .. 0.0</td><td>0.0 .. 0.0</td><td>0.0 .. 0.0</td><td>0.0 .. 0.0</td><td>0.0</td><td>0.0 .. 0.0</td><td>0</td><td>0</td><td>0</td><td>0</td><td>0.0 .. 0.0</td><td>0 .. 0</td><td>0 .. 0</td><td>0.0</td><td>0.0</td><td>12.1442</td><td>-24.7017</td><td>0.0 .. 0.0</td><td>131072</td><td>0</td><td>0</td><td>0</td><td>0.0</td><td>0.0</td><td>0.0</td><td>0</td><td>0.0</td><td>0.0</td><td>0</td><td>0.0</td><td>0.0</td><td>0.0</td><td>0.0</td><td>0.0</td><td>0.0</td><td>0.0</td><td>0.0</td><td>0.0</td><td>0.0</td><td>0.0</td><td>0.0</td><td>0.0</td><td>0.0</td><td>0</td><td></td><td>0</td><td>0</td><td>0</td><td>0</td><td>0</td><td>0</td><td>0.0 .. 0.0</td><td>0.0 .. 0.0</td><td>0 .. 0</td><td>0 .. 0</td><td>0.0 .. 0.0</td><td>0.0 .. 0.0</td><td>0.0 .. 0.0</td><td>0.0 .. 0.0</td><td>0 .. 0</td><td>0</td><td>0.0 .. 0.0</td><td>0.0 .. 0.0</td><td>0 .. 0</td><td></td><td>0.0</td><td>0.0</td><td></td><td></td><td>0.0</td><td>0.0</td><td>4.15</td><td>VCV</td><td>12.1441669464</td><td>-24.7016658783</td><td>131072</td><td>4.15</td><td>VCV</td><td>MYERS_ONLY</td></tr>\n",
       "<tr><td></td><td></td><td></td><td>0</td><td></td><td></td><td>0</td><td>0</td><td>0.0 .. 0.0</td><td></td><td>0.0</td><td>0.0</td><td>0</td><td>0</td><td>0</td><td>0</td><td>0.0</td><td>0.0</td><td></td><td>0</td><td>0</td><td>0</td><td>0</td><td>0.0</td><td>0.0</td><td>0.0 .. 0.0</td><td>0.0 .. 0.0</td><td>0.0 .. 0.0</td><td>0.0 .. 0.0</td><td>0.0 .. 0.0</td><td>0.0 .. 0.0</td><td>0.0 .. 0.0</td><td>0.0</td><td>0.0 .. 0.0</td><td>0</td><td>0</td><td>0</td><td>0</td><td>0.0 .. 0.0</td><td>0 .. 0</td><td>0 .. 0</td><td>0.0</td><td>0.0</td><td>14.1046</td><td>-28.1425</td><td>0.0 .. 0.0</td><td>131072</td><td>0</td><td>0</td><td>0</td><td>0.0</td><td>0.0</td><td>0.0</td><td>0</td><td>0.0</td><td>0.0</td><td>0</td><td>0.0</td><td>0.0</td><td>0.0</td><td>0.0</td><td>0.0</td><td>0.0</td><td>0.0</td><td>0.0</td><td>0.0</td><td>0.0</td><td>0.0</td><td>0.0</td><td>0.0</td><td>0.0</td><td>0</td><td></td><td>0</td><td>0</td><td>0</td><td>0</td><td>0</td><td>0</td><td>0.0 .. 0.0</td><td>0.0 .. 0.0</td><td>0 .. 0</td><td>0 .. 0</td><td>0.0 .. 0.0</td><td>0.0 .. 0.0</td><td>0.0 .. 0.0</td><td>0.0 .. 0.0</td><td>0 .. 0</td><td>0</td><td>0.0 .. 0.0</td><td>0.0 .. 0.0</td><td>0 .. 0</td><td></td><td>0.0</td><td>0.0</td><td></td><td></td><td>0.0</td><td>0.0</td><td>3.616</td><td>VCV</td><td>14.1045837402</td><td>-28.1424999237</td><td>131072</td><td>3.616</td><td>VCV</td><td>MYERS_ONLY</td></tr>\n",
       "<tr><td></td><td></td><td></td><td>0</td><td></td><td></td><td>0</td><td>0</td><td>0.0 .. 0.0</td><td></td><td>0.0</td><td>0.0</td><td>0</td><td>0</td><td>0</td><td>0</td><td>0.0</td><td>0.0</td><td></td><td>0</td><td>0</td><td>0</td><td>0</td><td>0.0</td><td>0.0</td><td>0.0 .. 0.0</td><td>0.0 .. 0.0</td><td>0.0 .. 0.0</td><td>0.0 .. 0.0</td><td>0.0 .. 0.0</td><td>0.0 .. 0.0</td><td>0.0 .. 0.0</td><td>0.0</td><td>0.0 .. 0.0</td><td>0</td><td>0</td><td>0</td><td>0</td><td>0.0 .. 0.0</td><td>0 .. 0</td><td>0 .. 0</td><td>0.0</td><td>0.0</td><td>14.4921</td><td>-26.7206</td><td>0.0 .. 0.0</td><td>131072</td><td>0</td><td>0</td><td>0</td><td>0.0</td><td>0.0</td><td>0.0</td><td>0</td><td>0.0</td><td>0.0</td><td>0</td><td>0.0</td><td>0.0</td><td>0.0</td><td>0.0</td><td>0.0</td><td>0.0</td><td>0.0</td><td>0.0</td><td>0.0</td><td>0.0</td><td>0.0</td><td>0.0</td><td>0.0</td><td>0.0</td><td>0</td><td></td><td>0</td><td>0</td><td>0</td><td>0</td><td>0</td><td>0</td><td>0.0 .. 0.0</td><td>0.0 .. 0.0</td><td>0 .. 0</td><td>0 .. 0</td><td>0.0 .. 0.0</td><td>0.0 .. 0.0</td><td>0.0 .. 0.0</td><td>0.0 .. 0.0</td><td>0 .. 0</td><td>0</td><td>0.0 .. 0.0</td><td>0.0 .. 0.0</td><td>0 .. 0</td><td></td><td>0.0</td><td>0.0</td><td></td><td></td><td>0.0</td><td>0.0</td><td>3.662</td><td>VCV</td><td>14.4920835495</td><td>-26.7205562592</td><td>131072</td><td>3.662</td><td>VCV</td><td>MYERS_ONLY</td></tr>\n",
       "<tr><td></td><td></td><td></td><td>0</td><td></td><td></td><td>0</td><td>0</td><td>0.0 .. 0.0</td><td></td><td>0.0</td><td>0.0</td><td>0</td><td>0</td><td>0</td><td>0</td><td>0.0</td><td>0.0</td><td></td><td>0</td><td>0</td><td>0</td><td>0</td><td>0.0</td><td>0.0</td><td>0.0 .. 0.0</td><td>0.0 .. 0.0</td><td>0.0 .. 0.0</td><td>0.0 .. 0.0</td><td>0.0 .. 0.0</td><td>0.0 .. 0.0</td><td>0.0 .. 0.0</td><td>0.0</td><td>0.0 .. 0.0</td><td>0</td><td>0</td><td>0</td><td>0</td><td>0.0 .. 0.0</td><td>0 .. 0</td><td>0 .. 0</td><td>0.0</td><td>0.0</td><td>15.0513</td><td>-27.1481</td><td>0.0 .. 0.0</td><td>131072</td><td>0</td><td>0</td><td>0</td><td>0.0</td><td>0.0</td><td>0.0</td><td>0</td><td>0.0</td><td>0.0</td><td>0</td><td>0.0</td><td>0.0</td><td>0.0</td><td>0.0</td><td>0.0</td><td>0.0</td><td>0.0</td><td>0.0</td><td>0.0</td><td>0.0</td><td>0.0</td><td>0.0</td><td>0.0</td><td>0.0</td><td>0</td><td></td><td>0</td><td>0</td><td>0</td><td>0</td><td>0</td><td>0</td><td>0.0 .. 0.0</td><td>0.0 .. 0.0</td><td>0 .. 0</td><td>0 .. 0</td><td>0.0 .. 0.0</td><td>0.0 .. 0.0</td><td>0.0 .. 0.0</td><td>0.0 .. 0.0</td><td>0 .. 0</td><td>0</td><td>0.0 .. 0.0</td><td>0.0 .. 0.0</td><td>0 .. 0</td><td></td><td>0.0</td><td>0.0</td><td></td><td></td><td>0.0</td><td>0.0</td><td>3.52</td><td>VCV</td><td>15.0512504578</td><td>-27.1480560303</td><td>131072</td><td>3.52</td><td>VCV</td><td>MYERS_ONLY</td></tr>\n",
       "<tr><td></td><td></td><td></td><td>0</td><td></td><td></td><td>0</td><td>0</td><td>0.0 .. 0.0</td><td></td><td>0.0</td><td>0.0</td><td>0</td><td>0</td><td>0</td><td>0</td><td>0.0</td><td>0.0</td><td></td><td>0</td><td>0</td><td>0</td><td>0</td><td>0.0</td><td>0.0</td><td>0.0 .. 0.0</td><td>0.0 .. 0.0</td><td>0.0 .. 0.0</td><td>0.0 .. 0.0</td><td>0.0 .. 0.0</td><td>0.0 .. 0.0</td><td>0.0 .. 0.0</td><td>0.0</td><td>0.0 .. 0.0</td><td>0</td><td>0</td><td>0</td><td>0</td><td>0.0 .. 0.0</td><td>0 .. 0</td><td>0 .. 0</td><td>0.0</td><td>0.0</td><td>18.435</td><td>-28.055</td><td>0.0 .. 0.0</td><td>131072</td><td>0</td><td>0</td><td>0</td><td>0.0</td><td>0.0</td><td>0.0</td><td>0</td><td>0.0</td><td>0.0</td><td>0</td><td>0.0</td><td>0.0</td><td>0.0</td><td>0.0</td><td>0.0</td><td>0.0</td><td>0.0</td><td>0.0</td><td>0.0</td><td>0.0</td><td>0.0</td><td>0.0</td><td>0.0</td><td>0.0</td><td>0</td><td></td><td>0</td><td>0</td><td>0</td><td>0</td><td>0</td><td>0</td><td>0.0 .. 0.0</td><td>0.0 .. 0.0</td><td>0 .. 0</td><td>0 .. 0</td><td>0.0 .. 0.0</td><td>0.0 .. 0.0</td><td>0.0 .. 0.0</td><td>0.0 .. 0.0</td><td>0 .. 0</td><td>0</td><td>0.0 .. 0.0</td><td>0.0 .. 0.0</td><td>0 .. 0</td><td></td><td>0.0</td><td>0.0</td><td></td><td></td><td>0.0</td><td>0.0</td><td>4.3</td><td>VCV</td><td>18.4349994659</td><td>-28.0550003052</td><td>131072</td><td>4.3</td><td>VCV</td><td>MYERS_ONLY</td></tr>\n",
       "<tr><td>...</td><td>...</td><td>...</td><td>...</td><td>...</td><td>...</td><td>...</td><td>...</td><td>...</td><td>...</td><td>...</td><td>...</td><td>...</td><td>...</td><td>...</td><td>...</td><td>...</td><td>...</td><td>...</td><td>...</td><td>...</td><td>...</td><td>...</td><td>...</td><td>...</td><td>...</td><td>...</td><td>...</td><td>...</td><td>...</td><td>...</td><td>...</td><td>...</td><td>...</td><td>...</td><td>...</td><td>...</td><td>...</td><td>...</td><td>...</td><td>...</td><td>...</td><td>...</td><td>...</td><td>...</td><td>...</td><td>...</td><td>...</td><td>...</td><td>...</td><td>...</td><td>...</td><td>...</td><td>...</td><td>...</td><td>...</td><td>...</td><td>...</td><td>...</td><td>...</td><td>...</td><td>...</td><td>...</td><td>...</td><td>...</td><td>...</td><td>...</td><td>...</td><td>...</td><td>...</td><td>...</td><td>...</td><td>...</td><td>...</td><td>...</td><td>...</td><td>...</td><td>...</td><td>...</td><td>...</td><td>...</td><td>...</td><td>...</td><td>...</td><td>...</td><td>...</td><td>...</td><td>...</td><td>...</td><td>...</td><td>...</td><td>...</td><td>...</td><td>...</td><td>...</td><td>...</td><td>...</td><td>...</td><td>...</td><td>...</td><td>...</td><td>...</td><td>...</td><td>...</td><td>...</td><td>...</td><td>...</td></tr>\n",
       "<tr><td>sdss</td><td>legacy</td><td>chunk6</td><td>4</td><td>26</td><td></td><td>1</td><td>0</td><td>2.49474 .. 15.3113</td><td>QSO</td><td>245.32052</td><td>-0.71413447</td><td>346</td><td>143</td><td>6</td><td>51693</td><td>3.70998</td><td>0.000215171</td><td>301</td><td>752</td><td>2</td><td>680</td><td>507</td><td>374.554</td><td>1182.92</td><td>1.41384 .. 126.032</td><td>19.0845 .. 0.544162</td><td>1.25273 .. 118.64</td><td>6.67121 .. 0.29426</td><td>1.46819 .. 125.803</td><td>21.1939 .. 0.217641</td><td>0.50711 .. 0.145493</td><td>0.868691</td><td>0.0073992 .. 0.0312717</td><td>257</td><td>6</td><td>-1878917104</td><td>8217</td><td>1186.6 .. 1184.06</td><td>402817040 .. 402685968</td><td>64 .. 0</td><td>245.320509598</td><td>-0.714128842913</td><td>245.321</td><td>-0.714126</td><td>3.72731 .. 0.0</td><td>131073</td><td>0</td><td>0</td><td>0</td><td>0.0</td><td>0.0</td><td>0.0</td><td>0</td><td>0.0</td><td>0.0</td><td>0</td><td>0.0</td><td>0.0</td><td>0.0</td><td>0.0</td><td>0.0</td><td>0.0</td><td>0.0</td><td>0.0</td><td>0.0</td><td>0.0</td><td>0.0</td><td>0.0</td><td>245.321</td><td>-0.714129</td><td>752</td><td>301</td><td>2</td><td>680</td><td>507</td><td>6</td><td>-1878917104</td><td>8217</td><td>380.315 .. 382.854</td><td>1186.6 .. 1184.06</td><td>402817040 .. 402685968</td><td>64 .. 0</td><td>1.33058 .. 1.07738</td><td>0.50711 .. 0.145493</td><td>1.46819 .. 125.803</td><td>21.1939 .. 0.217641</td><td>1 .. 1</td><td>257</td><td>1.37647 .. 126.935</td><td>41.1092 .. 0.689375</td><td>4 .. 4</td><td>0.0</td><td>131073.0</td><td>0.0</td><td>0</td><td>0</td><td>0.0</td><td>0.0</td><td>3.72731</td><td>SDSS-HW</td><td>245.32052</td><td>-0.71413447</td><td>131073</td><td>3.72731</td><td>SDSS-HW</td><td>SDSS_BOSS_MYERS</td></tr>\n",
       "<tr><td>boss</td><td>boss</td><td>boss8</td><td>0</td><td>v5_7_0</td><td>v5_7_0</td><td>1</td><td>0</td><td>0.403469 .. 9.46236</td><td>QSO</td><td>248.33179</td><td>14.19502</td><td>4068</td><td>10388</td><td>726</td><td>55445</td><td>4.38404</td><td>0.000693566</td><td>301</td><td>4649</td><td>3</td><td>427</td><td>632</td><td>542.989</td><td>1188.59</td><td>0.155009 .. 43.9904</td><td>13.4949 .. 0.653047</td><td>0.601899 .. 40.8663</td><td>3.84357 .. 0.194622</td><td>0.153523 .. 44.0942</td><td>13.8669 .. 0.433137</td><td>0.269417 .. 0.0772972</td><td>0.871798</td><td>0.0103991 .. 0.0385231</td><td>257</td><td>6</td><td>268435712</td><td>0</td><td>1189.83 .. 1186.2</td><td>134251777 .. 402685952</td><td>2097152 .. 64</td><td>248.331789677</td><td>14.195018986</td><td>248.332</td><td>14.195</td><td>4.37535 .. 4.384</td><td>262785</td><td>1</td><td>0</td><td>0</td><td>3.39</td><td>4.64</td><td>0.836</td><td>0</td><td>0.0</td><td>0.0</td><td>0</td><td>0.0</td><td>0.0</td><td>0.0</td><td>0.0</td><td>0.0</td><td>0.0</td><td>0.0</td><td>0.0</td><td>0.0</td><td>0.0</td><td>0.0</td><td>0.0</td><td>248.332</td><td>14.195</td><td>4649</td><td>301</td><td>3</td><td>427</td><td>632</td><td>6</td><td>268435712</td><td>0</td><td>549.758 .. 550.241</td><td>1189.83 .. 1186.2</td><td>134251777 .. 402685952</td><td>2097152 .. 64</td><td>1.4185 .. 1.11295</td><td>0.269417 .. 0.0772972</td><td>0.153523 .. 44.0942</td><td>13.8669 .. 0.433137</td><td>1 .. 1</td><td>257</td><td>0.128283 .. 43.2251</td><td>22.0798 .. 0.946878</td><td>2 .. 2</td><td>0.0</td><td>787073.0</td><td>1.0</td><td>0</td><td>0</td><td>3.3900001049</td><td>4.63999986649</td><td>4.37535</td><td>SDSS-HW</td><td>248.33179</td><td>14.19502</td><td>262785</td><td>4.37535</td><td>SDSS-HW</td><td>SDSS_BOSS_MYERS</td></tr>\n",
       "<tr><td></td><td></td><td></td><td>0</td><td></td><td></td><td>0</td><td>0</td><td>0.0 .. 0.0</td><td></td><td>0.0</td><td>0.0</td><td>0</td><td>0</td><td>0</td><td>0</td><td>0.0</td><td>0.0</td><td></td><td>0</td><td>0</td><td>0</td><td>0</td><td>0.0</td><td>0.0</td><td>0.0 .. 0.0</td><td>0.0 .. 0.0</td><td>0.0 .. 0.0</td><td>0.0 .. 0.0</td><td>0.0 .. 0.0</td><td>0.0 .. 0.0</td><td>0.0 .. 0.0</td><td>0.0</td><td>0.0 .. 0.0</td><td>0</td><td>0</td><td>0</td><td>0</td><td>0.0 .. 0.0</td><td>0 .. 0</td><td>0 .. 0</td><td>0.0</td><td>0.0</td><td>254.684</td><td>-7.65472</td><td>0.0 .. 0.0</td><td>131072</td><td>0</td><td>0</td><td>0</td><td>0.0</td><td>0.0</td><td>0.0</td><td>0</td><td>0.0</td><td>0.0</td><td>0</td><td>0.0</td><td>0.0</td><td>0.0</td><td>0.0</td><td>0.0</td><td>0.0</td><td>0.0</td><td>0.0</td><td>0.0</td><td>0.0</td><td>0.0</td><td>0.0</td><td>0.0</td><td>0.0</td><td>0</td><td></td><td>0</td><td>0</td><td>0</td><td>0</td><td>0</td><td>0</td><td>0.0 .. 0.0</td><td>0.0 .. 0.0</td><td>0 .. 0</td><td>0 .. 0</td><td>0.0 .. 0.0</td><td>0.0 .. 0.0</td><td>0.0 .. 0.0</td><td>0.0 .. 0.0</td><td>0 .. 0</td><td>0</td><td>0.0 .. 0.0</td><td>0.0 .. 0.0</td><td>0 .. 0</td><td></td><td>0.0</td><td>0.0</td><td></td><td></td><td>0.0</td><td>0.0</td><td>3.742</td><td>VCV</td><td>254.683746338</td><td>-7.65472221375</td><td>131072</td><td>3.742</td><td>VCV</td><td>MYERS_ONLY</td></tr>\n",
       "<tr><td></td><td></td><td></td><td>0</td><td></td><td></td><td>0</td><td>0</td><td>0.0 .. 0.0</td><td></td><td>0.0</td><td>0.0</td><td>0</td><td>0</td><td>0</td><td>0</td><td>0.0</td><td>0.0</td><td></td><td>0</td><td>0</td><td>0</td><td>0</td><td>0.0</td><td>0.0</td><td>0.0 .. 0.0</td><td>0.0 .. 0.0</td><td>0.0 .. 0.0</td><td>0.0 .. 0.0</td><td>0.0 .. 0.0</td><td>0.0 .. 0.0</td><td>0.0 .. 0.0</td><td>0.0</td><td>0.0 .. 0.0</td><td>0</td><td>0</td><td>0</td><td>0</td><td>0.0 .. 0.0</td><td>0 .. 0</td><td>0 .. 0</td><td>0.0</td><td>0.0</td><td>260.846</td><td>22.7325</td><td>0.0 .. 0.0</td><td>131072</td><td>0</td><td>0</td><td>0</td><td>0.0</td><td>0.0</td><td>0.0</td><td>0</td><td>0.0</td><td>0.0</td><td>0</td><td>0.0</td><td>0.0</td><td>0.0</td><td>0.0</td><td>0.0</td><td>0.0</td><td>0.0</td><td>0.0</td><td>0.0</td><td>0.0</td><td>0.0</td><td>0.0</td><td>0.0</td><td>0.0</td><td>0</td><td></td><td>0</td><td>0</td><td>0</td><td>0</td><td>0</td><td>0</td><td>0.0 .. 0.0</td><td>0.0 .. 0.0</td><td>0 .. 0</td><td>0 .. 0</td><td>0.0 .. 0.0</td><td>0.0 .. 0.0</td><td>0.0 .. 0.0</td><td>0.0 .. 0.0</td><td>0 .. 0</td><td>0</td><td>0.0 .. 0.0</td><td>0.0 .. 0.0</td><td>0 .. 0</td><td></td><td>0.0</td><td>0.0</td><td></td><td></td><td>0.0</td><td>0.0</td><td>4.52</td><td>VCV</td><td>260.846252441</td><td>22.7325000763</td><td>131072</td><td>4.52</td><td>VCV</td><td>MYERS_ONLY</td></tr>\n",
       "<tr><td></td><td></td><td></td><td>0</td><td></td><td></td><td>0</td><td>0</td><td>0.0 .. 0.0</td><td></td><td>0.0</td><td>0.0</td><td>0</td><td>0</td><td>0</td><td>0</td><td>0.0</td><td>0.0</td><td></td><td>0</td><td>0</td><td>0</td><td>0</td><td>0.0</td><td>0.0</td><td>0.0 .. 0.0</td><td>0.0 .. 0.0</td><td>0.0 .. 0.0</td><td>0.0 .. 0.0</td><td>0.0 .. 0.0</td><td>0.0 .. 0.0</td><td>0.0 .. 0.0</td><td>0.0</td><td>0.0 .. 0.0</td><td>0</td><td>0</td><td>0</td><td>0</td><td>0.0 .. 0.0</td><td>0 .. 0</td><td>0 .. 0</td><td>0.0</td><td>0.0</td><td>333.864</td><td>-16.1925</td><td>0.0 .. 0.0</td><td>131072</td><td>0</td><td>0</td><td>0</td><td>0.0</td><td>0.0</td><td>0.0</td><td>0</td><td>0.0</td><td>0.0</td><td>0</td><td>0.0</td><td>0.0</td><td>0.0</td><td>0.0</td><td>0.0</td><td>0.0</td><td>0.0</td><td>0.0</td><td>0.0</td><td>0.0</td><td>0.0</td><td>0.0</td><td>0.0</td><td>0.0</td><td>0</td><td></td><td>0</td><td>0</td><td>0</td><td>0</td><td>0</td><td>0</td><td>0.0 .. 0.0</td><td>0.0 .. 0.0</td><td>0 .. 0</td><td>0 .. 0</td><td>0.0 .. 0.0</td><td>0.0 .. 0.0</td><td>0.0 .. 0.0</td><td>0.0 .. 0.0</td><td>0 .. 0</td><td>0</td><td>0.0 .. 0.0</td><td>0.0 .. 0.0</td><td>0 .. 0</td><td></td><td>0.0</td><td>0.0</td><td></td><td></td><td>0.0</td><td>0.0</td><td>3.99</td><td>VCV</td><td>333.863739014</td><td>-16.1924991608</td><td>131072</td><td>3.99</td><td>VCV</td><td>MYERS_ONLY</td></tr>\n",
       "<tr><td></td><td></td><td></td><td>0</td><td></td><td></td><td>0</td><td>0</td><td>0.0 .. 0.0</td><td></td><td>0.0</td><td>0.0</td><td>0</td><td>0</td><td>0</td><td>0</td><td>0.0</td><td>0.0</td><td></td><td>0</td><td>0</td><td>0</td><td>0</td><td>0.0</td><td>0.0</td><td>0.0 .. 0.0</td><td>0.0 .. 0.0</td><td>0.0 .. 0.0</td><td>0.0 .. 0.0</td><td>0.0 .. 0.0</td><td>0.0 .. 0.0</td><td>0.0 .. 0.0</td><td>0.0</td><td>0.0 .. 0.0</td><td>0</td><td>0</td><td>0</td><td>0</td><td>0.0 .. 0.0</td><td>0 .. 0</td><td>0 .. 0</td><td>0.0</td><td>0.0</td><td>334.217</td><td>-67.2456</td><td>0.0 .. 0.0</td><td>131072</td><td>0</td><td>0</td><td>0</td><td>0.0</td><td>0.0</td><td>0.0</td><td>0</td><td>0.0</td><td>0.0</td><td>0</td><td>0.0</td><td>0.0</td><td>0.0</td><td>0.0</td><td>0.0</td><td>0.0</td><td>0.0</td><td>0.0</td><td>0.0</td><td>0.0</td><td>0.0</td><td>0.0</td><td>0.0</td><td>0.0</td><td>0</td><td></td><td>0</td><td>0</td><td>0</td><td>0</td><td>0</td><td>0</td><td>0.0 .. 0.0</td><td>0.0 .. 0.0</td><td>0 .. 0</td><td>0 .. 0</td><td>0.0 .. 0.0</td><td>0.0 .. 0.0</td><td>0.0 .. 0.0</td><td>0.0 .. 0.0</td><td>0 .. 0</td><td>0</td><td>0.0 .. 0.0</td><td>0.0 .. 0.0</td><td>0 .. 0</td><td></td><td>0.0</td><td>0.0</td><td></td><td></td><td>0.0</td><td>0.0</td><td>4.469</td><td>VCV</td><td>334.216674805</td><td>-67.245552063</td><td>131072</td><td>4.469</td><td>VCV</td><td>MYERS_ONLY</td></tr>\n",
       "<tr><td></td><td></td><td></td><td>0</td><td></td><td></td><td>0</td><td>0</td><td>0.0 .. 0.0</td><td></td><td>0.0</td><td>0.0</td><td>0</td><td>0</td><td>0</td><td>0</td><td>0.0</td><td>0.0</td><td></td><td>0</td><td>0</td><td>0</td><td>0</td><td>0.0</td><td>0.0</td><td>0.0 .. 0.0</td><td>0.0 .. 0.0</td><td>0.0 .. 0.0</td><td>0.0 .. 0.0</td><td>0.0 .. 0.0</td><td>0.0 .. 0.0</td><td>0.0 .. 0.0</td><td>0.0</td><td>0.0 .. 0.0</td><td>0</td><td>0</td><td>0</td><td>0</td><td>0.0 .. 0.0</td><td>0 .. 0</td><td>0 .. 0</td><td>0.0</td><td>0.0</td><td>339.973</td><td>-5.87194</td><td>0.0 .. 0.0</td><td>131072</td><td>0</td><td>0</td><td>0</td><td>0.0</td><td>0.0</td><td>0.0</td><td>0</td><td>0.0</td><td>0.0</td><td>0</td><td>0.0</td><td>0.0</td><td>0.0</td><td>0.0</td><td>0.0</td><td>0.0</td><td>0.0</td><td>0.0</td><td>0.0</td><td>0.0</td><td>0.0</td><td>0.0</td><td>0.0</td><td>0.0</td><td>0</td><td></td><td>0</td><td>0</td><td>0</td><td>0</td><td>0</td><td>0</td><td>0.0 .. 0.0</td><td>0.0 .. 0.0</td><td>0 .. 0</td><td>0 .. 0</td><td>0.0 .. 0.0</td><td>0.0 .. 0.0</td><td>0.0 .. 0.0</td><td>0.0 .. 0.0</td><td>0 .. 0</td><td>0</td><td>0.0 .. 0.0</td><td>0.0 .. 0.0</td><td>0 .. 0</td><td></td><td>0.0</td><td>0.0</td><td></td><td></td><td>0.0</td><td>0.0</td><td>4.55</td><td>VCV</td><td>339.973327637</td><td>-5.87194442749</td><td>131072</td><td>4.55</td><td>VCV</td><td>MYERS_ONLY</td></tr>\n",
       "<tr><td></td><td></td><td></td><td>0</td><td></td><td></td><td>0</td><td>0</td><td>0.0 .. 0.0</td><td></td><td>0.0</td><td>0.0</td><td>0</td><td>0</td><td>0</td><td>0</td><td>0.0</td><td>0.0</td><td></td><td>0</td><td>0</td><td>0</td><td>0</td><td>0.0</td><td>0.0</td><td>0.0 .. 0.0</td><td>0.0 .. 0.0</td><td>0.0 .. 0.0</td><td>0.0 .. 0.0</td><td>0.0 .. 0.0</td><td>0.0 .. 0.0</td><td>0.0 .. 0.0</td><td>0.0</td><td>0.0 .. 0.0</td><td>0</td><td>0</td><td>0</td><td>0</td><td>0.0 .. 0.0</td><td>0 .. 0</td><td>0 .. 0</td><td>0.0</td><td>0.0</td><td>342.825</td><td>-12.4508</td><td>0.0 .. 0.0</td><td>131072</td><td>0</td><td>0</td><td>0</td><td>0.0</td><td>0.0</td><td>0.0</td><td>0</td><td>0.0</td><td>0.0</td><td>0</td><td>0.0</td><td>0.0</td><td>0.0</td><td>0.0</td><td>0.0</td><td>0.0</td><td>0.0</td><td>0.0</td><td>0.0</td><td>0.0</td><td>0.0</td><td>0.0</td><td>0.0</td><td>0.0</td><td>0</td><td></td><td>0</td><td>0</td><td>0</td><td>0</td><td>0</td><td>0</td><td>0.0 .. 0.0</td><td>0.0 .. 0.0</td><td>0 .. 0</td><td>0 .. 0</td><td>0.0 .. 0.0</td><td>0.0 .. 0.0</td><td>0.0 .. 0.0</td><td>0.0 .. 0.0</td><td>0 .. 0</td><td>0</td><td>0.0 .. 0.0</td><td>0.0 .. 0.0</td><td>0 .. 0</td><td></td><td>0.0</td><td>0.0</td><td></td><td></td><td>0.0</td><td>0.0</td><td>4.15</td><td>VCV</td><td>342.825408936</td><td>-12.4508333206</td><td>131072</td><td>4.15</td><td>VCV</td><td>MYERS_ONLY</td></tr>\n",
       "<tr><td></td><td></td><td></td><td>0</td><td></td><td></td><td>0</td><td>0</td><td>0.0 .. 0.0</td><td></td><td>0.0</td><td>0.0</td><td>0</td><td>0</td><td>0</td><td>0</td><td>0.0</td><td>0.0</td><td></td><td>0</td><td>0</td><td>0</td><td>0</td><td>0.0</td><td>0.0</td><td>0.0 .. 0.0</td><td>0.0 .. 0.0</td><td>0.0 .. 0.0</td><td>0.0 .. 0.0</td><td>0.0 .. 0.0</td><td>0.0 .. 0.0</td><td>0.0 .. 0.0</td><td>0.0</td><td>0.0 .. 0.0</td><td>0</td><td>0</td><td>0</td><td>0</td><td>0.0 .. 0.0</td><td>0 .. 0</td><td>0 .. 0</td><td>0.0</td><td>0.0</td><td>356.013</td><td>3.70722</td><td>0.0 .. 0.0</td><td>131072</td><td>0</td><td>0</td><td>0</td><td>0.0</td><td>0.0</td><td>0.0</td><td>0</td><td>0.0</td><td>0.0</td><td>0</td><td>0.0</td><td>0.0</td><td>0.0</td><td>0.0</td><td>0.0</td><td>0.0</td><td>0.0</td><td>0.0</td><td>0.0</td><td>0.0</td><td>0.0</td><td>0.0</td><td>0.0</td><td>0.0</td><td>0</td><td></td><td>0</td><td>0</td><td>0</td><td>0</td><td>0</td><td>0</td><td>0.0 .. 0.0</td><td>0.0 .. 0.0</td><td>0 .. 0</td><td>0 .. 0</td><td>0.0 .. 0.0</td><td>0.0 .. 0.0</td><td>0.0 .. 0.0</td><td>0.0 .. 0.0</td><td>0 .. 0</td><td>0</td><td>0.0 .. 0.0</td><td>0.0 .. 0.0</td><td>0 .. 0</td><td></td><td>0.0</td><td>0.0</td><td></td><td></td><td>0.0</td><td>0.0</td><td>4.239</td><td>VCV</td><td>356.013336182</td><td>3.70722222328</td><td>131072</td><td>4.239</td><td>VCV</td><td>MYERS_ONLY</td></tr>\n",
       "<tr><td></td><td></td><td></td><td>0</td><td></td><td></td><td>0</td><td>0</td><td>0.0 .. 0.0</td><td></td><td>0.0</td><td>0.0</td><td>0</td><td>0</td><td>0</td><td>0</td><td>0.0</td><td>0.0</td><td></td><td>0</td><td>0</td><td>0</td><td>0</td><td>0.0</td><td>0.0</td><td>0.0 .. 0.0</td><td>0.0 .. 0.0</td><td>0.0 .. 0.0</td><td>0.0 .. 0.0</td><td>0.0 .. 0.0</td><td>0.0 .. 0.0</td><td>0.0 .. 0.0</td><td>0.0</td><td>0.0 .. 0.0</td><td>0</td><td>0</td><td>0</td><td>0</td><td>0.0 .. 0.0</td><td>0 .. 0</td><td>0 .. 0</td><td>0.0</td><td>0.0</td><td>357.308</td><td>-37.2164</td><td>0.0 .. 0.0</td><td>131072</td><td>0</td><td>0</td><td>0</td><td>0.0</td><td>0.0</td><td>0.0</td><td>0</td><td>0.0</td><td>0.0</td><td>0</td><td>0.0</td><td>0.0</td><td>0.0</td><td>0.0</td><td>0.0</td><td>0.0</td><td>0.0</td><td>0.0</td><td>0.0</td><td>0.0</td><td>0.0</td><td>0.0</td><td>0.0</td><td>0.0</td><td>0</td><td></td><td>0</td><td>0</td><td>0</td><td>0</td><td>0</td><td>0</td><td>0.0 .. 0.0</td><td>0.0 .. 0.0</td><td>0 .. 0</td><td>0 .. 0</td><td>0.0 .. 0.0</td><td>0.0 .. 0.0</td><td>0.0 .. 0.0</td><td>0.0 .. 0.0</td><td>0 .. 0</td><td>0</td><td>0.0 .. 0.0</td><td>0.0 .. 0.0</td><td>0 .. 0</td><td></td><td>0.0</td><td>0.0</td><td></td><td></td><td>0.0</td><td>0.0</td><td>4.208</td><td>VCV</td><td>357.307922363</td><td>-37.2163887024</td><td>131072</td><td>4.208</td><td>VCV</td><td>MYERS_ONLY</td></tr>\n",
       "</table>"
      ],
      "text/plain": [
       "<Table length=100>\n",
       "SDSS_BOSS_SURVEY SDSS_BOSS_PROGRAMNAME ... ZEM_SOURCE SDSS_BOSS_MYERS_FLAG\n",
       "     bytes6             bytes27        ...  bytes14         bytes15       \n",
       "---------------- --------------------- ... ---------- --------------------\n",
       "                                       ...        VCV           MYERS_ONLY\n",
       "                                       ...        VCV           MYERS_ONLY\n",
       "                                       ...        VCV           MYERS_ONLY\n",
       "                                       ...        VCV           MYERS_ONLY\n",
       "            sdss                legacy ...    SDSS-HW      SDSS_BOSS_MYERS\n",
       "                                       ...        VCV           MYERS_ONLY\n",
       "                                       ...        VCV           MYERS_ONLY\n",
       "                                       ...        VCV           MYERS_ONLY\n",
       "                                       ...        VCV           MYERS_ONLY\n",
       "                                       ...        VCV           MYERS_ONLY\n",
       "             ...                   ... ...        ...                  ...\n",
       "            sdss                legacy ...    SDSS-HW      SDSS_BOSS_MYERS\n",
       "            boss                  boss ...    SDSS-HW      SDSS_BOSS_MYERS\n",
       "                                       ...        VCV           MYERS_ONLY\n",
       "                                       ...        VCV           MYERS_ONLY\n",
       "                                       ...        VCV           MYERS_ONLY\n",
       "                                       ...        VCV           MYERS_ONLY\n",
       "                                       ...        VCV           MYERS_ONLY\n",
       "                                       ...        VCV           MYERS_ONLY\n",
       "                                       ...        VCV           MYERS_ONLY\n",
       "                                       ...        VCV           MYERS_ONLY"
      ]
     },
     "execution_count": 26,
     "metadata": {},
     "output_type": "execute_result"
    }
   ],
   "source": [
    "myers[idx]"
   ]
  },
  {
   "cell_type": "code",
   "execution_count": 28,
   "metadata": {
    "collapsed": false
   },
   "outputs": [
    {
     "data": {
      "text/html": [
       "&lt;Row index=0 masked=True&gt;\n",
       "<table id=\"table139626645738496\">\n",
       "<thead><tr><th>OBJ_NAME</th><th>RA</th><th>DEC</th><th>FILE_NAME</th><th>Z_QSO</th><th>ERR_ZQSO</th><th>N_OBS</th><th>MJD_OBS [3]</th><th>SEEING_START [3]</th><th>SEEING_END [3]</th><th>SNR_1700 [3]</th><th>SNR_3000 [3]</th><th>SNR_3600 [3]</th><th>CALIB_FLAG [3]</th><th>COMBINED_FLAG</th><th>COMBINED_SNR_17</th><th>COMBINED_SNR_30</th><th>COMBINED_SNR_36</th><th>HR_FLAG</th><th>JOHNSON_MAG [3]</th><th>SDSS_PSFMAG [5]</th><th>SDSS_ERR_PSFMAG [5]</th><th>DR7Q_MATCHED</th><th>PLATE_DR7Q</th><th>MJD_DR7Q</th><th>FIBER_DR7Q</th><th>DR12Q_MATCHED</th><th>N_DR12Q</th><th>PLATE_DR12Q [2]</th><th>MJD_DR12Q [2]</th><th>FIBER_DR12Q [2]</th><th>FIRST_MATCHED</th><th>FIRST_FLUX</th><th>FIRST_SNR</th><th>MATCHED_TMASS</th><th>TMASS_MAG [3]</th><th>TMASS_ERR_MAG [3]</th><th>TMASS_SNR [3]</th><th>RD_FLAG</th><th>MATCHED_WISE</th><th>WISE_MAG [4]</th><th>WISE_ERR_MAG [4]</th><th>WISE_SNR [4]</th><th>WISE_RCHI2 [4]</th><th>CC_FLAG</th><th>PH_QUAL</th><th>N_ABS</th><th>Z_ABS [4]</th><th>NHI_ABS [4]</th><th>ERR_NHI_ABS [4]</th></tr></thead>\n",
       "<thead><tr><th>-</th><th>deg</th><th>deg</th><th>-</th><th>-</th><th>-</th><th>-</th><th>-</th><th>arcsec</th><th>arcsec</th><th>-</th><th>-</th><th>-</th><th>-</th><th>-</th><th>-</th><th>-</th><th>-</th><th>-</th><th>-</th><th>-</th><th>-</th><th>-</th><th>-</th><th>-</th><th>-</th><th>-</th><th>-</th><th>-</th><th>-</th><th>-</th><th>-</th><th>mJy</th><th>-</th><th>-</th><th>-</th><th>-</th><th>-</th><th>-</th><th>-</th><th>-</th><th>-</th><th>-</th><th>-</th><th>-</th><th>-</th><th>-</th><th>-</th><th>[cm-2]</th><th>[cm-2]</th></tr></thead>\n",
       "<thead><tr><th>str24</th><th>float64</th><th>float64</th><th>str1</th><th>float32</th><th>float32</th><th>int32</th><th>float32</th><th>float32</th><th>float32</th><th>float64</th><th>float64</th><th>float64</th><th>float64</th><th>int16</th><th>float64</th><th>float64</th><th>float64</th><th>int16</th><th>float32</th><th>float64</th><th>float64</th><th>int16</th><th>int32</th><th>int32</th><th>int32</th><th>int16</th><th>int32</th><th>int32</th><th>int32</th><th>int32</th><th>int32</th><th>float64</th><th>float64</th><th>int16</th><th>float64</th><th>float64</th><th>float64</th><th>str3</th><th>int16</th><th>float64</th><th>float64</th><th>float64</th><th>float64</th><th>str4</th><th>str3</th><th>int16</th><th>float64</th><th>float64</th><th>float64</th></tr></thead>\n",
       "<tr><td>HB89 0000-263</td><td>0.844985</td><td>-26.0554</td><td>-</td><td>4.12544</td><td>0.0002136</td><td>1</td><td>56219.1 .. -1.0</td><td>0.98 .. -1.0</td><td>1.45 .. -1.0</td><td>78.5073013306 .. -1.0</td><td>99.202003479 .. -1.0</td><td>-1.0 .. -1.0</td><td>0.0 .. -1.0</td><td>0</td><td>-1.0</td><td>-1.0</td><td>-1.0</td><td>1</td><td>18.0 .. -1.0</td><td>-1.0 .. -1.0</td><td>-1.0 .. -1.0</td><td>0</td><td>-1</td><td>-1</td><td>-1</td><td>0</td><td>0</td><td>-1 .. -1</td><td>-1 .. -1</td><td>-1 .. -1</td><td>-1</td><td>0.0</td><td>0.0</td><td>1</td><td>16.2700004578 .. 14.7779998779</td><td>0.11400000006 .. 0.107000000775</td><td>9.80000019073 .. 9.69999980927</td><td>222</td><td>1</td><td>13.9270000458 .. 7.47700023651</td><td>0.0280000008643 .. 0.134000003338</td><td>39.0 .. 8.10000038147</td><td>1.01900005341 .. 1.01800000668</td><td>0000</td><td>BCB</td><td>2</td><td>3.054500103 .. -1.0</td><td>20.2000007629 .. -1.0</td><td>0.10000000149 .. -1.0</td></tr>\n",
       "</table>"
      ],
      "text/plain": [
       "<Row index=0 masked=True>\n",
       "   OBJ_NAME      RA      DEC    FILE_NAME  Z_QSO   ERR_ZQSO N_OBS   MJD_OBS [3]   SEEING_START [3] SEEING_END [3]      SNR_1700 [3]         SNR_3000 [3]     SNR_3600 [3] CALIB_FLAG [3] COMBINED_FLAG COMBINED_SNR_17 COMBINED_SNR_30 COMBINED_SNR_36 HR_FLAG JOHNSON_MAG [3] SDSS_PSFMAG [5] SDSS_ERR_PSFMAG [5] DR7Q_MATCHED PLATE_DR7Q MJD_DR7Q FIBER_DR7Q DR12Q_MATCHED N_DR12Q PLATE_DR12Q [2] MJD_DR12Q [2] FIBER_DR12Q [2] FIRST_MATCHED FIRST_FLUX FIRST_SNR MATCHED_TMASS         TMASS_MAG [3]                 TMASS_ERR_MAG [3]                TMASS_SNR [3]          RD_FLAG MATCHED_WISE          WISE_MAG [4]                   WISE_ERR_MAG [4]              WISE_SNR [4]             WISE_RCHI2 [4]         CC_FLAG PH_QUAL N_ABS      Z_ABS [4]           NHI_ABS [4]         ERR_NHI_ABS [4]   \n",
       "      -         deg      deg        -        -        -       -          -             arcsec          arcsec               -                    -                -             -              -              -               -               -           -           -               -                 -               -           -         -         -            -          -           -              -              -              -          mJy         -           -                     -                               -                              -                   -         -                     -                                -                           -                         -                   -       -      -            -                  [cm-2]                [cm-2]       \n",
       "    str24     float64  float64     str1   float32  float32  int32     float32         float32         float32            float64              float64          float64       float64         int16         float64         float64         float64      int16      float32         float64           float64          int16       int32     int32     int32        int16      int32       int32          int32          int32          int32      float64    float64      int16                float64                         float64                        float64               str3     int16                float64                          float64                     float64                   float64               str4    str3  int16       float64              float64               float64       \n",
       "------------- -------- -------- --------- ------- --------- ----- --------------- ---------------- -------------- --------------------- -------------------- ------------ -------------- ------------- --------------- --------------- --------------- ------- --------------- --------------- ------------------- ------------ ---------- -------- ---------- ------------- ------- --------------- ------------- --------------- ------------- ---------- --------- ------------- ------------------------------ ------------------------------- ------------------------------ ------- ------------ ------------------------------ --------------------------------- --------------------- ------------------------------ ------- ------- ----- ------------------- --------------------- ---------------------\n",
       "HB89 0000-263 0.844985 -26.0554         - 4.12544 0.0002136     1 56219.1 .. -1.0     0.98 .. -1.0   1.45 .. -1.0 78.5073013306 .. -1.0 99.202003479 .. -1.0 -1.0 .. -1.0    0.0 .. -1.0             0            -1.0            -1.0            -1.0       1    18.0 .. -1.0    -1.0 .. -1.0        -1.0 .. -1.0            0         -1       -1         -1             0       0        -1 .. -1      -1 .. -1        -1 .. -1            -1        0.0       0.0             1 16.2700004578 .. 14.7779998779 0.11400000006 .. 0.107000000775 9.80000019073 .. 9.69999980927     222            1 13.9270000458 .. 7.47700023651 0.0280000008643 .. 0.134000003338 39.0 .. 8.10000038147 1.01900005341 .. 1.01800000668    0000     BCB     2 3.054500103 .. -1.0 20.2000007629 .. -1.0 0.10000000149 .. -1.0"
      ]
     },
     "execution_count": 28,
     "metadata": {},
     "output_type": "execute_result"
    }
   ],
   "source": [
    "meta[0]"
   ]
  },
  {
   "cell_type": "markdown",
   "metadata": {},
   "source": [
    "## Test"
   ]
  },
  {
   "cell_type": "code",
   "execution_count": 10,
   "metadata": {
    "collapsed": false
   },
   "outputs": [
    {
     "name": "stdout",
     "output_type": "stream",
     "text": [
      "Database is igmspec\n",
      "Created on 2017-Jan-31\n"
     ]
    },
    {
     "name": "stderr",
     "output_type": "stream",
     "text": [
      "WARNING: UnitsWarning: '-' did not parse as fits unit: Invalid character at col 0 [astropy.units.core]\n",
      "WARNING: UnitsWarning: '[cm-2]' did not parse as fits unit: Invalid character at col 0 [astropy.units.core]\n"
     ]
    },
    {
     "name": "stdout",
     "output_type": "stream",
     "text": [
      "XQ-100: Skipping merged spectrum file\n",
      "XQ-100: Skipping merged spectrum file\n",
      "XQ-100: Skipping merged spectrum file\n",
      "XQ-100: File /media/xavier/ExtraDrive2/Raw_IGMSpec/XQ-100/ADP.2016-07-15T08:22:40.619.fits not really in XQ100!\n",
      "XQ-100: Skipping merged spectrum file\n",
      "XQ-100: Skipping additional file: J1352+1303_1_vis.fits\n",
      "XQ-100: Skipping merged spectrum file\n",
      "XQ-100: Skipping additional file: J1401+0244_2_uvb.fits\n",
      "XQ-100: Skipping additional file: J0800+1920_2_nir.fits\n",
      "XQ-100: Skipping merged spectrum file\n",
      "XQ-100: File /media/xavier/ExtraDrive2/Raw_IGMSpec/XQ-100/ADP.2016-07-15T08:22:40.394.fits not really in XQ100!\n",
      "XQ-100: File /media/xavier/ExtraDrive2/Raw_IGMSpec/XQ-100/ADP.2016-07-15T08:22:40.556.fits not really in XQ100!\n",
      "XQ-100: Skipping merged spectrum file\n",
      "XQ-100: Skipping merged spectrum file\n",
      "XQ-100: Skipping additional file: J0755+1345_1_uvb.fits\n",
      "XQ-100: File /media/xavier/ExtraDrive2/Raw_IGMSpec/XQ-100/ADP.2016-07-15T08:22:40.506.fits not really in XQ100!\n",
      "XQ-100: Skipping additional file: J0800+1920_3_uvb.fits\n",
      "XQ-100: Skipping merged spectrum file\n",
      "XQ-100: Skipping merged spectrum file\n",
      "XQ-100: Skipping additional file: J0800+1920_1_vis.fits\n",
      "XQ-100: Skipping merged spectrum file\n",
      "XQ-100: Skipping merged spectrum file\n",
      "XQ-100: Skipping additional file: J2239-0552_2_uvb.fits\n",
      "XQ-100: Skipping additional file: J2344+0342_2_vis.fits\n",
      "XQ-100: Skipping additional file: J1517+0511_1_uvb.fits\n",
      "XQ-100: File /media/xavier/ExtraDrive2/Raw_IGMSpec/XQ-100/ADP.2016-07-15T08:22:40.403.fits not really in XQ100!\n",
      "XQ-100: File /media/xavier/ExtraDrive2/Raw_IGMSpec/XQ-100/ADP.2016-07-15T08:22:40.193.fits not really in XQ100!\n",
      "XQ-100: File /media/xavier/ExtraDrive2/Raw_IGMSpec/XQ-100/ADP.2016-07-15T08:22:40.287.fits not really in XQ100!\n",
      "XQ-100: File /media/xavier/ExtraDrive2/Raw_IGMSpec/XQ-100/ADP.2016-07-15T08:22:40.459.fits not really in XQ100!\n",
      "XQ-100: Skipping merged spectrum file\n",
      "XQ-100: Skipping additional file: J1517+0511_1_nir.fits\n",
      "XQ-100: Skipping merged spectrum file\n",
      "XQ-100: Skipping merged spectrum file\n",
      "XQ-100: Skipping additional file: J0755+1345_2_vis.fits\n",
      "XQ-100: Skipping merged spectrum file\n",
      "XQ-100: Skipping additional file: J2239-0552_2_vis.fits\n",
      "XQ-100: File /media/xavier/ExtraDrive2/Raw_IGMSpec/XQ-100/ADP.2016-07-15T08:22:40.413.fits not really in XQ100!\n",
      "XQ-100: File /media/xavier/ExtraDrive2/Raw_IGMSpec/XQ-100/ADP.2016-07-15T08:22:40.172.fits not really in XQ100!\n",
      "XQ-100: Skipping additional file: J1332+0052_2_uvb.fits\n",
      "XQ-100: File /media/xavier/ExtraDrive2/Raw_IGMSpec/XQ-100/ADP.2016-07-15T08:22:40.472.fits not really in XQ100!\n",
      "XQ-100: Skipping additional file: J0800+1920_1_uvb.fits\n",
      "XQ-100: Skipping additional file: J2344+0342_2_nir.fits\n",
      "XQ-100: Skipping merged spectrum file\n",
      "XQ-100: Skipping additional file: J0755+1345_1_nir.fits\n",
      "XQ-100: File /media/xavier/ExtraDrive2/Raw_IGMSpec/XQ-100/ADP.2016-07-15T08:22:40.369.fits not really in XQ100!\n",
      "XQ-100: File /media/xavier/ExtraDrive2/Raw_IGMSpec/XQ-100/ADP.2016-07-15T08:22:40.322.fits not really in XQ100!\n",
      "XQ-100: Skipping additional file: J2344+0342_1_uvb.fits\n",
      "XQ-100: File /media/xavier/ExtraDrive2/Raw_IGMSpec/XQ-100/ADP.2016-07-15T08:22:40.351.fits not really in XQ100!\n",
      "XQ-100: File /media/xavier/ExtraDrive2/Raw_IGMSpec/XQ-100/ADP.2016-07-15T08:22:40.477.fits not really in XQ100!\n",
      "XQ-100: File /media/xavier/ExtraDrive2/Raw_IGMSpec/XQ-100/ADP.2016-07-15T08:22:40.277.fits not really in XQ100!\n",
      "XQ-100: Skipping merged spectrum file\n",
      "XQ-100: Skipping additional file: J0755+1345_1_vis.fits\n",
      "XQ-100: Skipping merged spectrum file\n",
      "XQ-100: Skipping merged spectrum file\n",
      "XQ-100: Skipping additional file: J0800+1920_2_uvb.fits\n",
      "XQ-100: Skipping merged spectrum file\n",
      "XQ-100: Skipping additional file: J0755+1345_2_nir.fits\n",
      "XQ-100: Skipping merged spectrum file\n",
      "XQ-100: Skipping merged spectrum file\n",
      "XQ-100: Skipping merged spectrum file\n",
      "XQ-100: File /media/xavier/ExtraDrive2/Raw_IGMSpec/XQ-100/ADP.2016-07-15T08:22:40.305.fits not really in XQ100!\n",
      "XQ-100: Skipping merged spectrum file\n",
      "XQ-100: Skipping merged spectrum file\n",
      "XQ-100: Skipping merged spectrum file\n",
      "XQ-100: Skipping additional file: J2344+0342_1_nir.fits\n",
      "XQ-100: Skipping merged spectrum file\n",
      "XQ-100: Skipping merged spectrum file\n",
      "XQ-100: Skipping merged spectrum file\n",
      "XQ-100: File /media/xavier/ExtraDrive2/Raw_IGMSpec/XQ-100/ADP.2016-07-15T08:22:40.578.fits not really in XQ100!\n",
      "XQ-100: Skipping merged spectrum file\n",
      "XQ-100: Skipping merged spectrum file\n",
      "XQ-100: Skipping additional file: J2239-0552_3_uvb.fits\n",
      "XQ-100: File /media/xavier/ExtraDrive2/Raw_IGMSpec/XQ-100/ADP.2016-07-15T08:22:40.508.fits not really in XQ100!\n",
      "XQ-100: Skipping additional file: J1352+1303_2_vis.fits\n",
      "XQ-100: Skipping additional file: J2239-0552_3_vis.fits\n",
      "XQ-100: Skipping additional file: J0800+1920_2_vis.fits\n",
      "XQ-100: Skipping merged spectrum file\n",
      "XQ-100: File /media/xavier/ExtraDrive2/Raw_IGMSpec/XQ-100/ADP.2016-07-15T08:22:40.489.fits not really in XQ100!\n",
      "XQ-100: Skipping merged spectrum file\n",
      "XQ-100: Skipping merged spectrum file\n",
      "XQ-100: File /media/xavier/ExtraDrive2/Raw_IGMSpec/XQ-100/ADP.2016-07-15T08:22:40.441.fits not really in XQ100!\n",
      "XQ-100: Skipping merged spectrum file\n",
      "XQ-100: Skipping merged spectrum file\n",
      "XQ-100: Skipping merged spectrum file\n",
      "XQ-100: Skipping merged spectrum file\n",
      "XQ-100: Skipping additional file: J1352+1303_2_nir.fits\n",
      "XQ-100: Skipping merged spectrum file\n",
      "XQ-100: Skipping merged spectrum file\n",
      "XQ-100: File /media/xavier/ExtraDrive2/Raw_IGMSpec/XQ-100/ADP.2016-07-15T08:22:40.585.fits not really in XQ100!\n",
      "XQ-100: File /media/xavier/ExtraDrive2/Raw_IGMSpec/XQ-100/ADP.2016-07-15T08:22:40.607.fits not really in XQ100!\n",
      "XQ-100: File /media/xavier/ExtraDrive2/Raw_IGMSpec/XQ-100/ADP.2016-07-15T08:22:40.254.fits not really in XQ100!\n",
      "XQ-100: Skipping merged spectrum file\n",
      "XQ-100: File /media/xavier/ExtraDrive2/Raw_IGMSpec/XQ-100/ADP.2016-07-15T08:22:40.311.fits not really in XQ100!\n",
      "XQ-100: Skipping merged spectrum file\n",
      "XQ-100: Skipping merged spectrum file\n",
      "XQ-100: File /media/xavier/ExtraDrive2/Raw_IGMSpec/XQ-100/ADP.2016-07-15T08:22:40.309.fits not really in XQ100!\n",
      "XQ-100: Skipping merged spectrum file\n",
      "XQ-100: File /media/xavier/ExtraDrive2/Raw_IGMSpec/XQ-100/ADP.2016-07-15T08:22:40.345.fits not really in XQ100!\n",
      "XQ-100: Skipping merged spectrum file\n",
      "XQ-100: File /media/xavier/ExtraDrive2/Raw_IGMSpec/XQ-100/ADP.2016-07-15T08:22:40.275.fits not really in XQ100!\n",
      "XQ-100: Skipping merged spectrum file\n",
      "XQ-100: File /media/xavier/ExtraDrive2/Raw_IGMSpec/XQ-100/ADP.2016-07-15T08:22:40.342.fits not really in XQ100!\n",
      "XQ-100: Skipping merged spectrum file\n",
      "XQ-100: File /media/xavier/ExtraDrive2/Raw_IGMSpec/XQ-100/ADP.2016-07-15T08:22:40.210.fits not really in XQ100!\n",
      "XQ-100: Skipping additional file: J0800+1920_3_nir.fits\n",
      "XQ-100: File /media/xavier/ExtraDrive2/Raw_IGMSpec/XQ-100/ADP.2016-07-15T08:22:40.257.fits not really in XQ100!\n",
      "XQ-100: Skipping merged spectrum file\n",
      "XQ-100: Skipping merged spectrum file\n",
      "XQ-100: Skipping merged spectrum file\n",
      "XQ-100: Skipping merged spectrum file\n",
      "XQ-100: Skipping additional file: J1401+0244_1_uvb.fits\n",
      "XQ-100: File /media/xavier/ExtraDrive2/Raw_IGMSpec/XQ-100/ADP.2016-07-15T08:22:40.328.fits not really in XQ100!\n",
      "XQ-100: Skipping additional file: J1517+0511_2_uvb.fits\n",
      "XQ-100: Skipping merged spectrum file\n",
      "XQ-100: Skipping merged spectrum file\n",
      "XQ-100: Skipping additional file: J1401+0244_2_vis.fits\n",
      "XQ-100: Skipping merged spectrum file\n",
      "XQ-100: Skipping additional file: J0800+1920_1_nir.fits\n",
      "XQ-100: File /media/xavier/ExtraDrive2/Raw_IGMSpec/XQ-100/ADP.2016-07-15T08:22:40.260.fits not really in XQ100!\n",
      "XQ-100: Skipping additional file: J1401+0244_1_nir.fits\n",
      "XQ-100: Skipping merged spectrum file\n",
      "XQ-100: File /media/xavier/ExtraDrive2/Raw_IGMSpec/XQ-100/ADP.2016-07-15T08:22:40.316.fits not really in XQ100!\n",
      "XQ-100: Skipping additional file: J1332+0052_2_vis.fits\n",
      "XQ-100: Skipping additional file: J1332+0052_1_uvb.fits\n",
      "XQ-100: Skipping additional file: J1332+0052_1_vis.fits\n",
      "XQ-100: Skipping merged spectrum file\n",
      "XQ-100: Skipping merged spectrum file\n",
      "XQ-100: Skipping additional file: J2239-0552_2_nir.fits\n",
      "XQ-100: Skipping merged spectrum file\n",
      "XQ-100: Skipping additional file: J2239-0552_1_vis.fits\n",
      "XQ-100: Skipping merged spectrum file\n",
      "XQ-100: File /media/xavier/ExtraDrive2/Raw_IGMSpec/XQ-100/ADP.2016-07-15T08:22:40.567.fits not really in XQ100!\n",
      "XQ-100: Skipping merged spectrum file\n",
      "XQ-100: Skipping merged spectrum file\n",
      "XQ-100: Skipping merged spectrum file\n",
      "XQ-100: Skipping merged spectrum file\n",
      "XQ-100: Skipping additional file: J1332+0052_1_nir.fits\n",
      "XQ-100: Skipping merged spectrum file\n",
      "XQ-100: Skipping merged spectrum file\n",
      "XQ-100: Skipping additional file: J1517+0511_2_nir.fits\n",
      "XQ-100: File /media/xavier/ExtraDrive2/Raw_IGMSpec/XQ-100/ADP.2016-07-15T08:22:40.590.fits not really in XQ100!\n",
      "XQ-100: Skipping additional file: J2344+0342_2_uvb.fits\n",
      "XQ-100: File /media/xavier/ExtraDrive2/Raw_IGMSpec/XQ-100/ADP.2016-07-15T08:22:40.373.fits not really in XQ100!\n",
      "XQ-100: Skipping merged spectrum file\n",
      "XQ-100: Skipping merged spectrum file\n",
      "XQ-100: Skipping merged spectrum file\n",
      "XQ-100: Skipping merged spectrum file\n",
      "XQ-100: File /media/xavier/ExtraDrive2/Raw_IGMSpec/XQ-100/ADP.2016-07-15T08:22:40.518.fits not really in XQ100!\n",
      "XQ-100: Skipping merged spectrum file\n",
      "XQ-100: File /media/xavier/ExtraDrive2/Raw_IGMSpec/XQ-100/ADP.2016-07-15T08:22:40.293.fits not really in XQ100!\n",
      "XQ-100: Skipping additional file: J1352+1303_1_nir.fits\n",
      "XQ-100: Skipping additional file: J2239-0552_3_nir.fits\n",
      "XQ-100: File /media/xavier/ExtraDrive2/Raw_IGMSpec/XQ-100/ADP.2016-07-15T08:22:40.333.fits not really in XQ100!\n",
      "XQ-100: Skipping merged spectrum file\n",
      "XQ-100: Skipping merged spectrum file\n",
      "XQ-100: Skipping merged spectrum file\n",
      "XQ-100: File /media/xavier/ExtraDrive2/Raw_IGMSpec/XQ-100/ADP.2016-07-15T08:22:40.406.fits not really in XQ100!\n",
      "XQ-100: Skipping merged spectrum file\n",
      "XQ-100: Skipping additional file: J2344+0342_1_vis.fits\n",
      "XQ-100: Skipping merged spectrum file\n",
      "XQ-100: Skipping merged spectrum file\n",
      "XQ-100: Skipping additional file: J1401+0244_2_nir.fits\n",
      "XQ-100: Skipping merged spectrum file\n",
      "XQ-100: File /media/xavier/ExtraDrive2/Raw_IGMSpec/XQ-100/ADP.2016-07-15T08:22:40.433.fits not really in XQ100!\n",
      "XQ-100: Skipping merged spectrum file\n",
      "XQ-100: File /media/xavier/ExtraDrive2/Raw_IGMSpec/XQ-100/ADP.2016-07-15T08:22:40.388.fits not really in XQ100!\n",
      "XQ-100: File /media/xavier/ExtraDrive2/Raw_IGMSpec/XQ-100/ADP.2016-07-15T08:22:40.544.fits not really in XQ100!\n",
      "XQ-100: Skipping summary file\n",
      "XQ-100: Skipping additional file: J1332+0052_2_nir.fits\n",
      "XQ-100: Skipping additional file: J1517+0511_2_vis.fits\n",
      "XQ-100: File /media/xavier/ExtraDrive2/Raw_IGMSpec/XQ-100/ADP.2016-07-15T08:22:40.631.fits not really in XQ100!\n",
      "XQ-100: Skipping additional file: J2239-0552_1_uvb.fits\n",
      "XQ-100: Skipping merged spectrum file\n",
      "XQ-100: File /media/xavier/ExtraDrive2/Raw_IGMSpec/XQ-100/ADP.2016-07-15T08:22:40.448.fits not really in XQ100!\n",
      "XQ-100: Skipping merged spectrum file\n",
      "XQ-100: File /media/xavier/ExtraDrive2/Raw_IGMSpec/XQ-100/ADP.2016-07-15T08:22:40.424.fits not really in XQ100!\n",
      "XQ-100: Skipping additional file: J1517+0511_1_vis.fits\n",
      "XQ-100: Skipping merged spectrum file\n",
      "XQ-100: File /media/xavier/ExtraDrive2/Raw_IGMSpec/XQ-100/ADP.2016-07-15T08:22:40.561.fits not really in XQ100!\n",
      "XQ-100: Skipping additional file: J1352+1303_2_uvb.fits\n",
      "XQ-100: File /media/xavier/ExtraDrive2/Raw_IGMSpec/XQ-100/ADP.2016-07-15T08:22:40.621.fits not really in XQ100!\n",
      "XQ-100: Skipping merged spectrum file\n",
      "XQ-100: File /media/xavier/ExtraDrive2/Raw_IGMSpec/XQ-100/ADP.2016-07-15T08:22:40.279.fits not really in XQ100!\n",
      "XQ-100: Skipping merged spectrum file\n",
      "XQ-100: Skipping merged spectrum file\n",
      "XQ-100: Skipping additional file: J0755+1345_2_uvb.fits\n",
      "XQ-100: Skipping additional file: J2239-0552_1_nir.fits\n",
      "XQ-100: Skipping merged spectrum file\n",
      "XQ-100: Skipping additional file: J1401+0244_1_vis.fits\n",
      "XQ-100: Skipping merged spectrum file\n",
      "XQ-100: Skipping merged spectrum file\n",
      "XQ-100: Skipping merged spectrum file\n",
      "XQ-100: Skipping merged spectrum file\n",
      "XQ-100: File /media/xavier/ExtraDrive2/Raw_IGMSpec/XQ-100/ADP.2016-07-15T08:22:40.188.fits not really in XQ100!\n",
      "XQ-100: Skipping merged spectrum file\n",
      "XQ-100: File /media/xavier/ExtraDrive2/Raw_IGMSpec/XQ-100/ADP.2016-07-15T08:22:40.649.fits not really in XQ100!\n",
      "XQ-100: File /media/xavier/ExtraDrive2/Raw_IGMSpec/XQ-100/ADP.2016-07-15T08:22:40.422.fits not really in XQ100!\n",
      "XQ-100: Skipping merged spectrum file\n",
      "XQ-100: Skipping merged spectrum file\n",
      "XQ-100: File /media/xavier/ExtraDrive2/Raw_IGMSpec/XQ-100/ADP.2016-07-15T08:22:40.527.fits not really in XQ100!\n",
      "XQ-100: Skipping additional file: J0800+1920_3_vis.fits\n",
      "XQ-100: Skipping merged spectrum file\n",
      "XQ-100: Skipping additional file: J1352+1303_1_uvb.fits\n",
      "XQ-100: Skipping merged spectrum file\n",
      "XQ-100: Skipping merged spectrum file\n",
      "XQ-100: File /media/xavier/ExtraDrive2/Raw_IGMSpec/XQ-100/ADP.2016-07-15T08:22:40.243.fits not really in XQ100!\n",
      "XQ-100: File /media/xavier/ExtraDrive2/Raw_IGMSpec/XQ-100/ADP.2016-07-15T08:22:40.605.fits not really in XQ100!\n",
      "XQ-100: Skipping merged spectrum file\n",
      "XQ-100: Skipping merged spectrum file\n",
      "XQ-100: File /media/xavier/ExtraDrive2/Raw_IGMSpec/XQ-100/ADP.2016-07-15T08:22:40.271.fits not really in XQ100!\n",
      "XQ-100: Skipping merged spectrum file\n",
      "XQ-100: Skipping merged spectrum file\n"
     ]
    },
    {
     "name": "stderr",
     "output_type": "stream",
     "text": [
      "/home/xavier/.pyenv/versions/anaconda3-4.4.0/lib/python3.6/site-packages/astropy/table/column.py:1096: MaskedArrayFutureWarning: setting an item on a masked array which has a shared mask will not copy the mask and also change the original mask array in the future.\n",
      "Check the NumPy 1.11 release notes for more information.\n",
      "  ma.MaskedArray.__setitem__(self, index, value)\n"
     ]
    }
   ],
   "source": [
    "reload(iixq)\n",
    "meta = iixq.grab_meta()"
   ]
  },
  {
   "cell_type": "markdown",
   "metadata": {
    "collapsed": true
   },
   "source": [
    "## Compare XQ-100 vs. 2QZ"
   ]
  },
  {
   "cell_type": "code",
   "execution_count": 3,
   "metadata": {
    "collapsed": true
   },
   "outputs": [],
   "source": [
    "from specdb import specdb as ssdb"
   ]
  },
  {
   "cell_type": "code",
   "execution_count": 6,
   "metadata": {
    "collapsed": false
   },
   "outputs": [
    {
     "name": "stdout",
     "output_type": "stream",
     "text": [
      "> /home/xavier/local/Python/specdb/specdb/specdb.py(492)grab_dbfile()\n",
      "-> db_file = fils[-1]  # Should grab the latest\n",
      "(Pdb) c\n",
      "Loading igmspec from /data/spec_DB/IGMspec_DB_v02.1.hdf5\n",
      "Database is igmspec\n",
      "Created on 2017-Sep-18\n"
     ]
    }
   ],
   "source": [
    "reload(ssdb)\n",
    "igmsp = ssdb.IgmSpec()"
   ]
  },
  {
   "cell_type": "code",
   "execution_count": 9,
   "metadata": {
    "collapsed": false
   },
   "outputs": [],
   "source": [
    "xq_meta = igmsp['XQ-100'].meta\n",
    "tqz_meta = igmsp['2QZ'].meta"
   ]
  },
  {
   "cell_type": "code",
   "execution_count": 10,
   "metadata": {
    "collapsed": true
   },
   "outputs": [],
   "source": [
    "xq_coords = SkyCoord(ra=xq_meta['RA_GROUP'], dec=xq_meta['DEC_GROUP'], unit='deg')\n",
    "tqz_coords = SkyCoord(ra=tqz_meta['RA_GROUP'], dec=tqz_meta['DEC_GROUP'], unit='deg')"
   ]
  },
  {
   "cell_type": "code",
   "execution_count": 12,
   "metadata": {
    "collapsed": false
   },
   "outputs": [],
   "source": [
    "idx, d2d, _ = match_coordinates_sky(xq_coords, tqz_coords, nthneighbor=1)"
   ]
  },
  {
   "cell_type": "code",
   "execution_count": 15,
   "metadata": {
    "collapsed": false
   },
   "outputs": [],
   "source": [
    "close_ish = (d2d < 10*u.arcsec) * (d2d > 2*u.arcsec)"
   ]
  },
  {
   "cell_type": "code",
   "execution_count": 16,
   "metadata": {
    "collapsed": false
   },
   "outputs": [
    {
     "data": {
      "text/plain": [
       "0"
      ]
     },
     "execution_count": 16,
     "metadata": {},
     "output_type": "execute_result"
    }
   ],
   "source": [
    "np.sum(close_ish)"
   ]
  },
  {
   "cell_type": "code",
   "execution_count": 17,
   "metadata": {
    "collapsed": true
   },
   "outputs": [],
   "source": [
    "# Phew!"
   ]
  },
  {
   "cell_type": "code",
   "execution_count": 18,
   "metadata": {
    "collapsed": false
   },
   "outputs": [
    {
     "data": {
      "text/plain": [
       "0"
      ]
     },
     "execution_count": 18,
     "metadata": {},
     "output_type": "execute_result"
    }
   ],
   "source": [
    "np.sum(d2d < 2*u.arcsec)"
   ]
  },
  {
   "cell_type": "code",
   "execution_count": 20,
   "metadata": {
    "collapsed": true
   },
   "outputs": [],
   "source": [
    "# A bit worrisome..  But probably ok"
   ]
  },
  {
   "cell_type": "markdown",
   "metadata": {},
   "source": [
    "## Testing catalog bug"
   ]
  },
  {
   "cell_type": "code",
   "execution_count": 22,
   "metadata": {
    "collapsed": false
   },
   "outputs": [
    {
     "data": {
      "text/plain": [
       "array([382443, 382443, 382443, 382444, 382444, 382444, 382445, 382445,\n",
       "       382445, 382419, 382419, 382419, 303581, 303581, 303581, 382446,\n",
       "       382446, 382446, 382447, 382447, 382447, 382448, 382448, 382448,\n",
       "       382449, 382449, 382449, 382450, 382450, 382450, 382451, 382451,\n",
       "       382451, 382452, 382452, 382452,  22001,  22001,  22001, 382453,\n",
       "       382453, 382453,  24295,  24295,  24295, 382454, 382454, 382454,\n",
       "        28997,  28997,  28997, 382455, 382455, 382455,  33385,  33385,\n",
       "        33385, 382456, 382456, 382456, 382457, 382457, 382457, 382458,\n",
       "       382458, 382458, 382459, 382459, 382459,  40515,  40515,  40515,\n",
       "       382460, 382460, 382460, 382461, 382461, 382461, 382462, 382462,\n",
       "       382462, 382463, 382463, 382463, 382425, 382425, 382425, 382464,\n",
       "       382464, 382464, 382465, 382465, 382465, 382466, 382466, 382466,\n",
       "       382467, 382467, 382467,  43559,  43559,  43559,  45388,  45388,\n",
       "        45388,  46648,  46648,  46648,  53066,  53066,  53066,  58788,\n",
       "        58788,  58788,  59480,  59480,  59480,  61274,  61274,  61274,\n",
       "        78169,  78169,  78169,  84559,  84559,  84559,  85146,  85146,\n",
       "        85146, 382468, 382468, 382468,  95134,  95134,  95134, 101975,\n",
       "       101975, 101975, 104113, 104113, 104113, 105252, 105252, 105252,\n",
       "       107352, 107352, 107352, 110988, 110988, 110988, 112154, 112154,\n",
       "       112154, 382469, 382469, 382469, 113495, 113495, 113495, 113516,\n",
       "       113516, 113516, 115941, 115941, 115941, 121059, 121059, 121059,\n",
       "       335263, 335263, 335263, 122632, 122632, 122632, 382470, 382470,\n",
       "       382470, 125975, 125975, 125975, 128451, 128451, 128451, 337167,\n",
       "       337167, 337167, 382394, 382394, 382394, 132073, 132073, 132073,\n",
       "       136367, 136367, 136367, 136495, 136495, 136495, 140609, 140609,\n",
       "       140609, 152888, 152888, 152888, 153053, 153053, 153053, 173968,\n",
       "       173968, 173968, 174575, 174575, 174575, 181284, 181284, 181284,\n",
       "       184899, 184899, 184899, 382471, 382471, 382471, 189978, 189978,\n",
       "       189978, 382472, 382472, 382472, 193735, 193735, 193735, 194236,\n",
       "       194236, 194236, 196012, 196012, 196012, 203092, 203092, 203092,\n",
       "       206941, 206941, 206941, 213134, 213134, 213134, 382473, 382473,\n",
       "       382473, 224412, 224412, 224412, 225394, 225394, 225394, 232157,\n",
       "       232157, 232157, 237407, 237407, 237407, 239770, 239770, 239770,\n",
       "       245967, 245967, 245967, 249402, 249402, 249402, 373425, 373425,\n",
       "       373425, 260101, 260101, 260101, 382474, 382474, 382474, 382432,\n",
       "       382432, 382432, 382475, 382475, 382475, 382476, 382476, 382476,\n",
       "       382477, 382477, 382477, 382478, 382478, 382478, 382479, 382479,\n",
       "       382479, 382480, 382480, 382480])"
      ]
     },
     "execution_count": 22,
     "metadata": {},
     "output_type": "execute_result"
    }
   ],
   "source": [
    "xq_meta['IGM_ID'].data"
   ]
  },
  {
   "cell_type": "code",
   "execution_count": null,
   "metadata": {
    "collapsed": true
   },
   "outputs": [],
   "source": []
  }
 ],
 "metadata": {
  "kernelspec": {
   "display_name": "Python 3",
   "language": "python",
   "name": "python3"
  },
  "language_info": {
   "codemirror_mode": {
    "name": "ipython",
    "version": 3
   },
   "file_extension": ".py",
   "mimetype": "text/x-python",
   "name": "python",
   "nbconvert_exporter": "python",
   "pygments_lexer": "ipython3",
   "version": "3.6.2"
  }
 },
 "nbformat": 4,
 "nbformat_minor": 1
}
