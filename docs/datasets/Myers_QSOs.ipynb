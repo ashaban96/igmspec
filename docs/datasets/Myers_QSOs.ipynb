{
 "cells": [
  {
   "cell_type": "markdown",
   "metadata": {},
   "source": [
    "# Ingesting of Myers' QSO catalog (v1.1)"
   ]
  },
  {
   "cell_type": "code",
   "execution_count": 6,
   "metadata": {
    "collapsed": true
   },
   "outputs": [],
   "source": [
    "# imports\n",
    "from igmspec.ingest import myers as imy"
   ]
  },
  {
   "cell_type": "markdown",
   "metadata": {},
   "source": [
    "## Grabbing the catalog\n",
    "\n",
    "http://faraday.uwyo.edu/~admyers/scratch/forjoe/GTR-ADM-QSO-master-wvcv.fits.gz\n",
    "    \n",
    "    by JXP on 5 August 2016\n",
    "    continuing on 13 Aug 2016"
   ]
  },
  {
   "cell_type": "markdown",
   "metadata": {},
   "source": [
    "## Inspect"
   ]
  },
  {
   "cell_type": "code",
   "execution_count": 1,
   "metadata": {
    "collapsed": true
   },
   "outputs": [],
   "source": [
    "ADM_file = os.getenv('RAW_IGMSPEC')+'/Myers/GTR-ADM-QSO-master-wvcv.fits.gz'\n",
    "ADM_qso = Table.read(ADM_file)"
   ]
  },
  {
   "cell_type": "code",
   "execution_count": 2,
   "metadata": {
    "collapsed": false
   },
   "outputs": [
    {
     "data": {
      "text/html": [
       "&lt;Table length=5&gt;\n",
       "<table id=\"table4553456656\">\n",
       "<thead><tr><th>RA</th><th>DEC</th><th>ZBEST [19]</th><th>SOURCEBIT</th><th>SDSS_UFLG</th><th>AGES_QSO</th><th>AGES_CODE06</th><th>KDE_ZPHOTLO</th><th>KDE_ZPHOTHI</th><th>KDE_ZPHOTPROB</th><th>KDE_LOWZORUVX</th><th>XDQSOZ_PEAKPROB</th><th>XDQSOZ_PEAKFWHM</th><th>XDQSOZ_NPEAKS</th><th>YAPERMAG3</th><th>JAPERMAG3</th><th>HAPERMAG3</th><th>KSAPERMAG3</th><th>YAPERMAG3ERR</th><th>JAPERMAG3ERR</th><th>HAPERMAG3ERR</th><th>KSAPERMAG3ERR</th><th>ZPHOTMINJHK</th><th>ZPHOTBESTJHK</th><th>ZPHOTMAXJHK</th><th>ZPHOTPROBJHK</th></tr></thead>\n",
       "<thead><tr><th>float32</th><th>float32</th><th>float32</th><th>int32</th><th>int16</th><th>int16</th><th>int32</th><th>float32</th><th>float32</th><th>float32</th><th>int16</th><th>float32</th><th>float32</th><th>int16</th><th>float32</th><th>float32</th><th>float32</th><th>float32</th><th>float32</th><th>float32</th><th>float32</th><th>float32</th><th>float32</th><th>float32</th><th>float32</th><th>float32</th></tr></thead>\n",
       "<tr><td>0.027228</td><td>0.515341</td><td>1.82383 .. 0.0</td><td>34305</td><td>0</td><td>0</td><td>0</td><td>1.62</td><td>2.11</td><td>0.719</td><td>1</td><td>0.983058</td><td>0.1924</td><td>1</td><td>-9.99999e+08</td><td>19.1973</td><td>18.8874</td><td>18.3277</td><td>-9.99999e+08</td><td>0.0942081</td><td>0.187276</td><td>0.172265</td><td>1.45</td><td>1.825</td><td>1.95</td><td>0.998998</td></tr>\n",
       "<tr><td>0.0339</td><td>0.276301</td><td>1.83638 .. 0.0</td><td>33281</td><td>0</td><td>0</td><td>0</td><td>1.76</td><td>2.14</td><td>0.946</td><td>1</td><td>0.0</td><td>0.0</td><td>0</td><td>-9.99999e+08</td><td>18.3689</td><td>17.716</td><td>17.1701</td><td>-9.99999e+08</td><td>0.0459005</td><td>0.0655821</td><td>0.0615399</td><td>1.7</td><td>1.875</td><td>1.95</td><td>0.996776</td></tr>\n",
       "<tr><td>0.038604</td><td>15.2985</td><td>1.19748 .. 0.0</td><td>139777</td><td>1</td><td>0</td><td>0</td><td>1.1</td><td>1.53</td><td>0.912</td><td>1</td><td>0.0</td><td>0.0</td><td>0</td><td>0.0</td><td>0.0</td><td>0.0</td><td>0.0</td><td>0.0</td><td>0.0</td><td>0.0</td><td>0.0</td><td>0.0</td><td>0.0</td><td>0.0</td><td>0.0</td></tr>\n",
       "<tr><td>0.039089</td><td>13.9384</td><td>2.2342 .. 2.239</td><td>403073</td><td>1</td><td>0</td><td>0</td><td>0.93</td><td>1.44</td><td>0.634</td><td>1</td><td>0.827387</td><td>0.1976</td><td>3</td><td>0.0</td><td>0.0</td><td>0.0</td><td>0.0</td><td>0.0</td><td>0.0</td><td>0.0</td><td>0.0</td><td>0.0</td><td>0.0</td><td>0.0</td><td>0.0</td></tr>\n",
       "<tr><td>0.039271</td><td>-10.4644</td><td>1.85301 .. 0.0</td><td>132609</td><td>0</td><td>0</td><td>0</td><td>1.45</td><td>2.06</td><td>0.739</td><td>1</td><td>0.939097</td><td>0.3484</td><td>2</td><td>0.0</td><td>0.0</td><td>0.0</td><td>0.0</td><td>0.0</td><td>0.0</td><td>0.0</td><td>0.0</td><td>0.0</td><td>0.0</td><td>0.0</td><td>0.0</td></tr>\n",
       "</table>"
      ],
      "text/plain": [
       "<Table length=5>\n",
       "   RA      DEC       ZBEST [19]   ... ZPHOTBESTJHK ZPHOTMAXJHK ZPHOTPROBJHK\n",
       "float32  float32      float32     ...   float32      float32     float32   \n",
       "-------- -------- --------------- ... ------------ ----------- ------------\n",
       "0.027228 0.515341  1.82383 .. 0.0 ...        1.825        1.95     0.998998\n",
       "  0.0339 0.276301  1.83638 .. 0.0 ...        1.875        1.95     0.996776\n",
       "0.038604  15.2985  1.19748 .. 0.0 ...          0.0         0.0          0.0\n",
       "0.039089  13.9384 2.2342 .. 2.239 ...          0.0         0.0          0.0\n",
       "0.039271 -10.4644  1.85301 .. 0.0 ...          0.0         0.0          0.0"
      ]
     },
     "execution_count": 2,
     "metadata": {},
     "output_type": "execute_result"
    }
   ],
   "source": [
    "ADM_qso[0:5]"
   ]
  },
  {
   "cell_type": "code",
   "execution_count": 3,
   "metadata": {
    "collapsed": false
   },
   "outputs": [],
   "source": [
    "hdu = fits.open(ADM_file)"
   ]
  },
  {
   "cell_type": "code",
   "execution_count": 4,
   "metadata": {
    "collapsed": false
   },
   "outputs": [
    {
     "data": {
      "text/plain": [
       "SIMPLE  =                    T /Dummy Created by MWRFITS v1.8                   \n",
       "BITPIX  =                    8 /Dummy primary header created by MWRFITS         \n",
       "NAXIS   =                    0 /No data is associated with this header          \n",
       "EXTEND  =                    T /Extensions may (will!) be present               "
      ]
     },
     "execution_count": 4,
     "metadata": {},
     "output_type": "execute_result"
    }
   ],
   "source": [
    "head0 = hdu[0].header\n",
    "head0"
   ]
  },
  {
   "cell_type": "code",
   "execution_count": 5,
   "metadata": {
    "collapsed": false
   },
   "outputs": [
    {
     "data": {
      "text/plain": [
       "'Sat Oct 10 07:10:38 2015'"
      ]
     },
     "execution_count": 5,
     "metadata": {},
     "output_type": "execute_result"
    }
   ],
   "source": [
    "head1 = hdu[1].header\n",
    "head1['DATE']"
   ]
  },
  {
   "cell_type": "markdown",
   "metadata": {},
   "source": [
    "## Igmspec"
   ]
  },
  {
   "cell_type": "markdown",
   "metadata": {},
   "source": [
    "### Load"
   ]
  },
  {
   "cell_type": "code",
   "execution_count": 20,
   "metadata": {
    "collapsed": true
   },
   "outputs": [],
   "source": [
    "reload(imy)\n",
    "ADM_qso, data = imy.load()"
   ]
  },
  {
   "cell_type": "markdown",
   "metadata": {},
   "source": [
    "### Redshifts"
   ]
  },
  {
   "cell_type": "code",
   "execution_count": 21,
   "metadata": {
    "collapsed": true
   },
   "outputs": [],
   "source": [
    "imy.zbest_myers(ADM_qso)"
   ]
  },
  {
   "cell_type": "markdown",
   "metadata": {},
   "source": [
    "#### Check"
   ]
  },
  {
   "cell_type": "code",
   "execution_count": 15,
   "metadata": {
    "collapsed": true
   },
   "outputs": [],
   "source": [
    "myers_binary = [2**0, 2**7, 2**1, 2**2, 2**3, 2**4, 2**5, 2**6, 2**8, 2**11,\n",
    "                      2**12, 2**13, 2**14, 2**16, 2**17, 2**18]"
   ]
  },
  {
   "cell_type": "code",
   "execution_count": 22,
   "metadata": {
    "collapsed": false
   },
   "outputs": [
    {
     "data": {
      "text/plain": [
       "105986"
      ]
     },
     "execution_count": 22,
     "metadata": {},
     "output_type": "execute_result"
    }
   ],
   "source": [
    "tqz = np.where(ADM_qso['ZEM_SOURCE'] == '2QZ')[0]\n",
    "tqz[0]"
   ]
  },
  {
   "cell_type": "code",
   "execution_count": 23,
   "metadata": {
    "collapsed": false
   },
   "outputs": [
    {
     "data": {
      "text/plain": [
       "array([ 0.        ,  1.14339995,  0.        ,  0.        ,  0.        ,\n",
       "        0.        ,  0.        ,  0.        ,  0.        ,  0.        ,\n",
       "        0.        ,  0.        ,  0.        ,  0.        ,  0.        ,\n",
       "        0.        ,  0.        ,  1.14300001,  0.        ], dtype=float32)"
      ]
     },
     "execution_count": 23,
     "metadata": {},
     "output_type": "execute_result"
    }
   ],
   "source": [
    "ADM_qso[105986]['ZBEST']"
   ]
  },
  {
   "cell_type": "code",
   "execution_count": 24,
   "metadata": {
    "collapsed": false
   },
   "outputs": [
    {
     "data": {
      "text/plain": [
       "array([     0,      0,      2,      0,      0,      0,      0,      0,\n",
       "            0,      0,      0,      0,      0,      0, 131072,      0])"
      ]
     },
     "execution_count": 24,
     "metadata": {},
     "output_type": "execute_result"
    }
   ],
   "source": [
    "ADM_qso[105986]['SOURCEBIT'] & myers_binary"
   ]
  },
  {
   "cell_type": "code",
   "execution_count": 27,
   "metadata": {
    "collapsed": false
   },
   "outputs": [
    {
     "data": {
      "text/plain": [
       "1.1434"
      ]
     },
     "execution_count": 27,
     "metadata": {},
     "output_type": "execute_result"
    }
   ],
   "source": [
    "ADM_qso[105986]['ZEM']"
   ]
  },
  {
   "cell_type": "markdown",
   "metadata": {},
   "source": [
    "### Cut"
   ]
  },
  {
   "cell_type": "code",
   "execution_count": 28,
   "metadata": {
    "collapsed": true
   },
   "outputs": [],
   "source": [
    "# Cut down\n",
    "ztrim = (ADM_qso['ZEM'] >= 0.1) & (ADM_qso['ZEM'] <= 7.0)\n",
    "coordtrim = (ADM_qso['RA'] >= 0.0) & (ADM_qso['RA'] <= 360.0) & (np.abs(\n",
    "        ADM_qso['DEC']) <= 90.0)\n",
    "keep = ztrim & coordtrim\n",
    "#ADM_qso = ADM_qso[keep]"
   ]
  },
  {
   "cell_type": "code",
   "execution_count": 30,
   "metadata": {
    "collapsed": false
   },
   "outputs": [
    {
     "data": {
      "text/plain": [
       "513996"
      ]
     },
     "execution_count": 30,
     "metadata": {},
     "output_type": "execute_result"
    }
   ],
   "source": [
    "np.sum(keep)"
   ]
  },
  {
   "cell_type": "code",
   "execution_count": null,
   "metadata": {
    "collapsed": true
   },
   "outputs": [],
   "source": []
  }
 ],
 "metadata": {
  "kernelspec": {
   "display_name": "Python 2",
   "language": "python",
   "name": "python2"
  },
  "language_info": {
   "codemirror_mode": {
    "name": "ipython",
    "version": 2
   },
   "file_extension": ".py",
   "mimetype": "text/x-python",
   "name": "python",
   "nbconvert_exporter": "python",
   "pygments_lexer": "ipython2",
   "version": "2.7.11"
  }
 },
 "nbformat": 4,
 "nbformat_minor": 0
}
