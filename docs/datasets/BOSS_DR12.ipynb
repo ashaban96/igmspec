{
 "cells": [
  {
   "cell_type": "markdown",
   "metadata": {},
   "source": [
    "# BOSS DR12 Notes (v1.3)"
   ]
  },
  {
   "cell_type": "code",
   "execution_count": 2,
   "metadata": {
    "collapsed": false
   },
   "outputs": [],
   "source": [
    "# imports\n",
    "import os\n",
    "import h5py\n",
    "\n",
    "from astropy.table import Table, vstack\n",
    "\n",
    "from linetools.spectra import io as lsio"
   ]
  },
  {
   "cell_type": "code",
   "execution_count": 3,
   "metadata": {
    "collapsed": false
   },
   "outputs": [],
   "source": [
    "dpath = os.getenv('RAW_IGMSPEC')+'/BOSS/'"
   ]
  },
  {
   "cell_type": "markdown",
   "metadata": {},
   "source": [
    "## QSOs\n",
    "\n",
    "Grabbing catalogs from http://www.sdss.org/dr12/algorithms/boss-dr12-quasar-catalog/"
   ]
  },
  {
   "cell_type": "markdown",
   "metadata": {},
   "source": [
    "### DR12 Quasar Catalog\n",
    "\n",
    "Main catalog from BOSS (Paris et al. 2015)\n",
    "\n",
    "See https://data.sdss.org/datamodel/files/BOSS_QSO/DR12Q/DR12Q.html\n",
    "for the data model.\n",
    "\n",
    "Downloaded DR12Q.fits (513 MB): SDSS-DR12Q (Main catalog, fits format)\n",
    "on 14 June 2016"
   ]
  },
  {
   "cell_type": "code",
   "execution_count": 4,
   "metadata": {
    "collapsed": false
   },
   "outputs": [
    {
     "name": "stdout",
     "output_type": "stream",
     "text": [
      "Filename: /u/xavier/Raw_IGMspec/BOSS/DR12Q.fits.gz\n",
      "No.    Name         Type      Cards   Dimensions   Format\n",
      "0    PRIMARY     PrimaryHDU      16   (19442,)     uint8   \n",
      "1    DR12Q.fits  BinTableHDU    644   297301R x 158C   [18A, D, D, J, J, J, J, D, E, E, J, D, D, D, D, D, D, I, K, K, K, K, J, 32J, 32J, 32J, J, J, J, J, I, D, D, 32D, D, D, D, D, D, D, D, D, D, D, D, D, D, D, D, D, D, D, D, D, D, I, D, D, D, D, D, J, D, D, J, D, D, D, D, D, I, J, 3A, I, I, 19A, 5E, 5E, 5E, 5E, 5D, D, D, 5E, 5E, D, I, D, D, D, D, D, D, I, D, D, D, D, D, D, D, D, D, D, D, D, I, D, I, D, D, D, D, D, D, D, J, D, D, D, J, D, D, D, J, D, D, D, D, D, D, D, D, D, D, D, D, D, D, D, D, D, 4A, 4A, D, I, E, E, E, E, E, E, E, E, I, D, D, D]   \n"
     ]
    }
   ],
   "source": [
    "boss_file = dpath + 'DR12Q.fits.gz'\n",
    "boss_hdu = fits.open(boss_file)\n",
    "boss_hdu.info()"
   ]
  },
  {
   "cell_type": "code",
   "execution_count": 5,
   "metadata": {
    "collapsed": false
   },
   "outputs": [
    {
     "data": {
      "text/plain": [
       "SIMPLE  =                    T / Standard FITS format                           \n",
       "BITPIX  =                    8 / Character data                                 \n",
       "NAXIS   =                    1 / Text string                                    \n",
       "NAXIS1  =                19442 / Number of characters                           \n",
       "VOTMETA =                    T / Table metadata in VOTable format               \n",
       "EXTEND  =                    T / There are standard extensions                  \n",
       "COMMENT                                                                         \n",
       "COMMENT The data in this primary HDU consists of bytes which                    \n",
       "COMMENT comprise a VOTABLE document.                                            \n",
       "COMMENT The VOTable describes the metadata of the table contained               \n",
       "COMMENT in the following BINTABLE extension.                                    \n",
       "COMMENT Such a BINTABLE extension can be used on its own as a perfectly         \n",
       "COMMENT good table, but the information from this HDU may provide some          \n",
       "COMMENT useful additional metadata.                                             \n",
       "COMMENT There is one following BINTABLE.                                        \n",
       "NTABLE  =                    1 / Number of following BINTABLE HDUs              "
      ]
     },
     "execution_count": 5,
     "metadata": {},
     "output_type": "execute_result"
    }
   ],
   "source": [
    "boss_head0 = boss_hdu[0].header\n",
    "boss_head0"
   ]
  },
  {
   "cell_type": "code",
   "execution_count": 6,
   "metadata": {
    "collapsed": false
   },
   "outputs": [
    {
     "data": {
      "text/html": [
       "&lt;Table length=5&gt;\n",
       "<table id=\"table4605719824\">\n",
       "<thead><tr><th>SDSS_NAME</th><th>RA</th><th>DEC</th><th>THING_ID</th><th>PLATE</th><th>MJD</th><th>FIBERID</th><th>Z_VI</th><th>Z_PIPE</th><th>ERR_ZPIPE</th><th>ZWARNING</th><th>Z_PCA</th><th>ERR_ZPCA</th><th>PCA_QUAL</th><th>Z_CIV</th><th>Z_CIII</th><th>Z_MGII</th><th>SDSS_MORPHO</th><th>BOSS_TARGET1</th><th>ANCILLARY_TARGET1</th><th>ANCILLARY_TARGET2</th><th>EBOSS_TARGET0</th><th>NSPEC_BOSS</th><th>PLATE_DUPLICATE [32]</th><th>MJD_DUPLICATE [32]</th><th>FIBERID_DUPLICATE [32]</th><th>SDSS_DR7</th><th>PLATE_DR7</th><th>MJD_DR7</th><th>FIBERID_DR7</th><th>UNIFORM</th><th>ALPHA_NU</th><th>SNR_SPEC</th><th>SNR_DUPLICATE [32]</th><th>SNR_1700</th><th>SNR_3000</th><th>SNR_5150</th><th>FWHM_CIV</th><th>BHWHM_CIV</th><th>RHWHM_CIV</th><th>AMP_CIV</th><th>REWE_CIV</th><th>ERR_REWE_CIV</th><th>FWHM_CIII</th><th>BHWHM_CIII</th><th>RHWHM_CIII</th><th>AMP_CIII</th><th>REWE_CIII</th><th>ERR_REWE_CIII</th><th>FWHM_MGII</th><th>BHWHM_MGII</th><th>RHWHM_MGII</th><th>AMP_MGII</th><th>REWE_MGII</th><th>ERR_REWE_MGII</th><th>BAL_FLAG_VI</th><th>BI_CIV</th><th>ERR_BI_CIV</th><th>AI_CIV</th><th>ERR_AI_CIV</th><th>CHI2TROUGH</th><th>NCIV_2000</th><th>VMIN_CIV_2000</th><th>VMAX_CIV_2000</th><th>NCIV_450</th><th>VMIN_CIV_450</th><th>VMAX_CIV_450</th><th>REW_SIIV</th><th>REW_CIV</th><th>REW_ALIII</th><th>RUN_NUMBER</th><th>PHOTO_MJD</th><th>RERUN_NUMBER</th><th>COL_NUMBER</th><th>FIELD_NUMBER</th><th>OBJ_ID</th><th>PSFFLUX [5]</th><th>IVAR_PSFFLUX [5]</th><th>PSFMAG [5]</th><th>ERR_PSFMAG [5]</th><th>TARGET_FLUX [5]</th><th>MI</th><th>DGMI</th><th>EXTINCTION [5]</th><th>EXTINCTION_RECAL [5]</th><th>HI_GAL</th><th>VAR_MATCHED</th><th>VAR_CHI2</th><th>VAR_A</th><th>VAR_GAMMA</th><th>RASS_COUNTS</th><th>RASS_COUNTS_SNR</th><th>SDSS2ROSAT_SEP</th><th>N_DETECTION_XMM</th><th>FLUX02_12KEV_SGL</th><th>ERR_FLUX02_12KEV_SGL</th><th>FLUX02_2KEV</th><th>ERR_FLUX02_2KEV</th><th>FLUX2_12KEV</th><th>ERR_FLUX2_12KEV</th><th>FLUX02_12KEV</th><th>ERR_FLUX02_12KEV</th><th>LUM02_2KEV_SGL</th><th>LUM05_2KEV</th><th>LUM2_12KEV</th><th>LUM02_2KEV</th><th>LUMX2_10_UPPER</th><th>SDSS2XMM_SEP</th><th>GALEX_MATCHED</th><th>FUV</th><th>FUV_IVAR</th><th>NUV</th><th>NUV_IVAR</th><th>JMAG</th><th>ERR_JMAG</th><th>JSNR</th><th>JRDFLAG</th><th>HMAG</th><th>ERR_HMAG</th><th>HSNR</th><th>HRDFLAG</th><th>KMAG</th><th>ERR_KMAG</th><th>KSNR</th><th>KRDFLAG</th><th>SDSS2MASS_SEP</th><th>W1MAG</th><th>ERR_W1MAG</th><th>W1SNR</th><th>W1CHI2</th><th>W2MAG</th><th>ERR_W2MAG</th><th>W2SNR</th><th>W2CHI2</th><th>W3MAG</th><th>ERR_W3MAG</th><th>W3SNR</th><th>W3CHI2</th><th>W4MAG</th><th>ERR_W4MAG</th><th>W4SNR</th><th>W4CHI2</th><th>CC_FLAGS</th><th>PH_FLAG</th><th>SDSS2WISE_SEP</th><th>UKIDSS_MATCHED</th><th>YFLUX</th><th>YFLUX_ERR</th><th>JFLUX</th><th>JFLUX_ERR</th><th>HFLUX</th><th>HFLUX_ERR</th><th>KFLUX</th><th>KFLUX_ERR</th><th>FIRST_MATCHED</th><th>FIRST_FLUX</th><th>FIRST_SNR</th><th>SDSS2FIRST_SEP</th></tr></thead>\n",
       "<thead><tr><th>str18</th><th>float64</th><th>float64</th><th>int32</th><th>int32</th><th>int32</th><th>int32</th><th>float64</th><th>float32</th><th>float32</th><th>int32</th><th>float64</th><th>float64</th><th>float64</th><th>float64</th><th>float64</th><th>float64</th><th>int16</th><th>int64</th><th>int64</th><th>int64</th><th>int64</th><th>int32</th><th>int32</th><th>int32</th><th>int32</th><th>int32</th><th>int32</th><th>int32</th><th>int32</th><th>int16</th><th>float64</th><th>float64</th><th>float64</th><th>float64</th><th>float64</th><th>float64</th><th>float64</th><th>float64</th><th>float64</th><th>float64</th><th>float64</th><th>float64</th><th>float64</th><th>float64</th><th>float64</th><th>float64</th><th>float64</th><th>float64</th><th>float64</th><th>float64</th><th>float64</th><th>float64</th><th>float64</th><th>float64</th><th>int16</th><th>float64</th><th>float64</th><th>float64</th><th>float64</th><th>float64</th><th>int32</th><th>float64</th><th>float64</th><th>int32</th><th>float64</th><th>float64</th><th>float64</th><th>float64</th><th>float64</th><th>int16</th><th>int32</th><th>str3</th><th>int16</th><th>int16</th><th>str19</th><th>float32</th><th>float32</th><th>float32</th><th>float32</th><th>float64</th><th>float64</th><th>float64</th><th>float32</th><th>float32</th><th>float64</th><th>int16</th><th>float64</th><th>float64</th><th>float64</th><th>float64</th><th>float64</th><th>float64</th><th>int16</th><th>float64</th><th>float64</th><th>float64</th><th>float64</th><th>float64</th><th>float64</th><th>float64</th><th>float64</th><th>float64</th><th>float64</th><th>float64</th><th>float64</th><th>int16</th><th>float64</th><th>int16</th><th>float64</th><th>float64</th><th>float64</th><th>float64</th><th>float64</th><th>float64</th><th>float64</th><th>int32</th><th>float64</th><th>float64</th><th>float64</th><th>int32</th><th>float64</th><th>float64</th><th>float64</th><th>int32</th><th>float64</th><th>float64</th><th>float64</th><th>float64</th><th>float64</th><th>float64</th><th>float64</th><th>float64</th><th>float64</th><th>float64</th><th>float64</th><th>float64</th><th>float64</th><th>float64</th><th>float64</th><th>float64</th><th>float64</th><th>str4</th><th>str4</th><th>float64</th><th>int16</th><th>float32</th><th>float32</th><th>float32</th><th>float32</th><th>float32</th><th>float32</th><th>float32</th><th>float32</th><th>int16</th><th>float64</th><th>float64</th><th>float64</th></tr></thead>\n",
       "<tr><td>000000.45+174625.4</td><td>0.00189828518376</td><td>17.7737391299</td><td>268514930</td><td>6173</td><td>56238</td><td>528</td><td>2.30909729004</td><td>2.3091</td><td>0.000943339</td><td>0</td><td>2.30763868197</td><td>-1.0</td><td>0.346182279084</td><td>2.31230791362</td><td>2.30638494927</td><td>2.3046866469</td><td>0</td><td>2199023796224</td><td>0</td><td>0</td><td>0</td><td>0</td><td>-1 .. -1</td><td>-1 .. -1</td><td>-1 .. -1</td><td>0</td><td>-1</td><td>-1</td><td>-1</td><td>0</td><td>0.537336213179</td><td>0.779484925454</td><td>-1.0 .. -1.0</td><td>0.58568293642</td><td>0.915501904005</td><td>-1.0</td><td>4278.7900341</td><td>1595.2886496</td><td>2683.5013845</td><td>2.15328741853</td><td>44.0028643812</td><td>1.40097166147</td><td>3575.00108901</td><td>1554.12165803</td><td>2020.87943097</td><td>0.706666936497</td><td>38.4285671721</td><td>15.8517240349</td><td>7996.40388327</td><td>4579.19012749</td><td>3417.21375578</td><td>0.223279535625</td><td>69.3860000703</td><td>17.8808108042</td><td>0</td><td>0.0</td><td>0.0</td><td>0.0</td><td>0.0</td><td>0.0</td><td>0</td><td>0.0</td><td>0.0</td><td>0</td><td>0.0</td><td>0.0</td><td>0.0</td><td>0.0</td><td>0.0</td><td>7713</td><td>54741</td><td>301</td><td>4</td><td>231</td><td>1237678601842131080</td><td>1.03848 .. 2.65843</td><td>12.3597 .. 0.852828</td><td>22.4398 .. 21.3627</td><td>0.287135 .. 0.386405</td><td>1.03847694397 .. 2.65843176842</td><td>-23.882931269</td><td>-0.0820910409093</td><td>0.146195 .. 0.0419442</td><td>0.113614 .. 0.0338511</td><td>21.9297126138</td><td>0</td><td>0.0</td><td>0.0</td><td>0.0</td><td>0.0</td><td>0.0</td><td>0.0</td><td>0</td><td>0.0</td><td>0.0</td><td>0.0</td><td>0.0</td><td>0.0</td><td>0.0</td><td>0.0</td><td>0.0</td><td>0.0</td><td>0.0</td><td>0.0</td><td>0.0</td><td>0</td><td>0.0</td><td>1</td><td>0.302318871021</td><td>8.78557314038</td><td>0.727564871311</td><td>4.53735896492</td><td>0.0</td><td>0.0</td><td>0.0</td><td>0</td><td>0.0</td><td>0.0</td><td>0.0</td><td>0</td><td>0.0</td><td>0.0</td><td>0.0</td><td>0</td><td>0.0</td><td>0.0</td><td>0.0</td><td>0.0</td><td>0.0</td><td>0.0</td><td>0.0</td><td>0.0</td><td>0.0</td><td>0.0</td><td>0.0</td><td>0.0</td><td>0.0</td><td>0.0</td><td>0.0</td><td>0.0</td><td>0.0</td><td></td><td></td><td>0.0</td><td>0</td><td>0.0</td><td>0.0</td><td>0.0</td><td>0.0</td><td>0.0</td><td>0.0</td><td>0.0</td><td>0.0</td><td>-1</td><td>0.0</td><td>0.0</td><td>0.0</td></tr>\n",
       "<tr><td>000000.66+145828.8</td><td>0.00275643009297</td><td>14.9746754937</td><td>245101352</td><td>6177</td><td>56268</td><td>595</td><td>2.49794077873</td><td>2.49794</td><td>0.00087528</td><td>0</td><td>2.5158747041</td><td>0.00152614617889</td><td>0.0637837702159</td><td>2.49650563784</td><td>2.48943398984</td><td>-1.0</td><td>0</td><td>2199023255552</td><td>0</td><td>0</td><td>0</td><td>1</td><td>6172 .. -1</td><td>56269 .. -1</td><td>366 .. -1</td><td>0</td><td>-1</td><td>-1</td><td>-1</td><td>0</td><td>-1.02687764161</td><td>3.50091459041</td><td>3.17286659113 .. -1.0</td><td>2.83518425232</td><td>1.00020946838</td><td>-1.0</td><td>5336.1138803</td><td>2014.51203621</td><td>3321.60184409</td><td>3.35973519002</td><td>23.5146308167</td><td>0.61035250618</td><td>9292.63026767</td><td>4320.17455664</td><td>4972.45571103</td><td>1.94089573578</td><td>24.2927232211</td><td>1.93123733219</td><td>-1.0</td><td>-1.0</td><td>-1.0</td><td>-1.0</td><td>-1.0</td><td>-1.0</td><td>0</td><td>0.0</td><td>0.0</td><td>0.0</td><td>0.0</td><td>0.0</td><td>0</td><td>0.0</td><td>0.0</td><td>0</td><td>0.0</td><td>0.0</td><td>0.0</td><td>0.0</td><td>0.0</td><td>2566</td><td>52170</td><td>301</td><td>4</td><td>309</td><td>1237656495650570598</td><td>1.65166 .. 5.42985</td><td>15.6463 .. 0.836171</td><td>21.9475 .. 20.6434</td><td>0.16385 .. 0.210973</td><td>-1.0 .. -1.0</td><td>-25.2306891586</td><td>0.348158091307</td><td>0.198727 .. 0.057016</td><td>0.113059 .. 0.0336857</td><td>21.9413001969</td><td>3</td><td>3.38717365265</td><td>0.0859531164169</td><td>0.117734603584</td><td>0.0</td><td>0.0</td><td>0.0</td><td>0</td><td>0.0</td><td>0.0</td><td>0.0</td><td>0.0</td><td>0.0</td><td>0.0</td><td>0.0</td><td>0.0</td><td>0.0</td><td>0.0</td><td>0.0</td><td>0.0</td><td>0</td><td>0.0</td><td>1</td><td>0.0463186129928</td><td>701.104283731</td><td>0.0525297634304</td><td>384.750962198</td><td>0.0</td><td>0.0</td><td>0.0</td><td>0</td><td>0.0</td><td>0.0</td><td>0.0</td><td>0</td><td>0.0</td><td>0.0</td><td>0.0</td><td>0</td><td>0.0</td><td>0.0</td><td>0.0</td><td>0.0</td><td>0.0</td><td>0.0</td><td>0.0</td><td>0.0</td><td>0.0</td><td>0.0</td><td>0.0</td><td>0.0</td><td>0.0</td><td>0.0</td><td>0.0</td><td>0.0</td><td>0.0</td><td></td><td></td><td>0.0</td><td>1</td><td>1.86038e-31</td><td>3.14768e-32</td><td>2.31095e-31</td><td>4.56533e-32</td><td>2.35531e-31</td><td>5.97048e-32</td><td>2.42715e-31</td><td>6.52172e-32</td><td>0</td><td>0.0</td><td>0.0</td><td>0.0</td></tr>\n",
       "<tr><td>000000.97+044947.2</td><td>0.00405238853989</td><td>4.82978057467</td><td>154279486</td><td>4415</td><td>55831</td><td>464</td><td>1.61884605885</td><td>1.61885</td><td>0.000585458</td><td>0</td><td>1.62861043214</td><td>0.000518233828123</td><td>0.0515782360318</td><td>-1.0</td><td>1.62392937561</td><td>1.62986379892</td><td>0</td><td>2199023910912</td><td>0</td><td>0</td><td>0</td><td>0</td><td>-1 .. -1</td><td>-1 .. -1</td><td>-1 .. -1</td><td>0</td><td>-1</td><td>-1</td><td>-1</td><td>0</td><td>-0.281249716967</td><td>7.11018367836</td><td>-1.0 .. -1.0</td><td>1.26814974223</td><td>13.8079141452</td><td>-1.0</td><td>-1.0</td><td>-1.0</td><td>-1.0</td><td>-1.0</td><td>-1.0</td><td>-1.0</td><td>5863.20521905</td><td>1992.14674007</td><td>3871.05847897</td><td>4.39195264612</td><td>26.8087449013</td><td>1.08748973709</td><td>2443.60056629</td><td>1249.45778705</td><td>1194.14277924</td><td>5.28947926376</td><td>34.7988813362</td><td>1.12838363307</td><td>0</td><td>0.0</td><td>0.0</td><td>0.0</td><td>0.0</td><td>0.0</td><td>0</td><td>0.0</td><td>0.0</td><td>0</td><td>0.0</td><td>0.0</td><td>0.0</td><td>0.0</td><td>0.0</td><td>7754</td><td>54764</td><td>301</td><td>3</td><td>314</td><td>1237678777404358776</td><td>6.64573 .. 19.9043</td><td>7.15662 .. 0.524856</td><td>20.4432 .. 19.2511</td><td>0.0610158 .. 0.0750861</td><td>-1.0 .. -1.0</td><td>-25.6002618809</td><td>0.259628534317</td><td>0.169289 .. 0.0485699</td><td>0.0706297 .. 0.0210439</td><td>21.984099559</td><td>3</td><td>3.0460691452</td><td>0.00874528381974</td><td>1.38586497307</td><td>0.0</td><td>0.0</td><td>0.0</td><td>0</td><td>0.0</td><td>0.0</td><td>0.0</td><td>0.0</td><td>0.0</td><td>0.0</td><td>0.0</td><td>0.0</td><td>0.0</td><td>0.0</td><td>0.0</td><td>0.0</td><td>0</td><td>0.0</td><td>1</td><td>0.349308043718</td><td>22.5872342774</td><td>1.57329285145</td><td>13.871135159</td><td>0.0</td><td>0.0</td><td>0.0</td><td>0</td><td>0.0</td><td>0.0</td><td>0.0</td><td>0</td><td>0.0</td><td>0.0</td><td>0.0</td><td>0</td><td>0.0</td><td>15.503</td><td>0.0439999997616</td><td>24.5</td><td>0.9052</td><td>13.987</td><td>0.0439999997616</td><td>24.5</td><td>0.913</td><td>10.764</td><td>0.112000003457</td><td>9.7</td><td>0.9418</td><td>8.056</td><td>0.204999998212</td><td>5.3</td><td>0.0</td><td>0000</td><td>AABB</td><td>0.2685124497</td><td>1</td><td>5.52544e-31</td><td>3.59559e-32</td><td>6.5975e-31</td><td>4.15465e-32</td><td>9.03816e-31</td><td>4.42033e-32</td><td>8.56743e-31</td><td>5.17877e-32</td><td>0</td><td>0.0</td><td>0.0</td><td>0.0</td></tr>\n",
       "<tr><td>000001.27-020159.7</td><td>0.00531697386447</td><td>-2.03327328857</td><td>62145359</td><td>4354</td><td>55810</td><td>678</td><td>1.36035752296</td><td>1.36036</td><td>0.000446798</td><td>0</td><td>1.3620117334</td><td>0.000387699697741</td><td>0.067487221695</td><td>-1.0</td><td>1.36947900576</td><td>1.36228359848</td><td>0</td><td>262144</td><td>0</td><td>0</td><td>0</td><td>0</td><td>-1 .. -1</td><td>-1 .. -1</td><td>-1 .. -1</td><td>0</td><td>-1</td><td>-1</td><td>-1</td><td>0</td><td>-1.39326160087</td><td>6.19811995326</td><td>-1.0 .. -1.0</td><td>4.66697206438</td><td>8.58575755825</td><td>-1.0</td><td>-1.0</td><td>-1.0</td><td>-1.0</td><td>-1.0</td><td>-1.0</td><td>-1.0</td><td>4531.63708015</td><td>1976.86675452</td><td>2554.77032563</td><td>3.89217044527</td><td>17.4573695777</td><td>0.607354358226</td><td>3824.89894905</td><td>1722.62402033</td><td>2102.27492872</td><td>7.30968073084</td><td>46.7586890329</td><td>0.689398949182</td><td>0</td><td>0.0</td><td>0.0</td><td>0.0</td><td>0.0</td><td>0.0</td><td>0</td><td>0.0</td><td>0.0</td><td>0</td><td>0.0</td><td>0.0</td><td>0.0</td><td>0.0</td><td>0.0</td><td>7907</td><td>54847</td><td>301</td><td>5</td><td>72</td><td>1237679435592237166</td><td>5.76685 .. 29.0579</td><td>10.6877 .. 1.00457</td><td>20.597 .. 18.8411</td><td>0.0575218 .. 0.0372313</td><td>5.32644176483 .. 29.2693309784</td><td>-25.652609646</td><td>0.69809705019</td><td>0.196977 .. 0.0565138</td><td>0.0771557 .. 0.0229884</td><td>22.0697143353</td><td>0</td><td>0.0</td><td>0.0</td><td>0.0</td><td>0.0</td><td>0.0</td><td>0.0</td><td>0</td><td>0.0</td><td>0.0</td><td>0.0</td><td>0.0</td><td>0.0</td><td>0.0</td><td>0.0</td><td>0.0</td><td>0.0</td><td>0.0</td><td>0.0</td><td>0.0</td><td>0</td><td>0.0</td><td>1</td><td>0.0</td><td>0.0</td><td>0.0</td><td>0.0</td><td>0.0</td><td>0.0</td><td>0.0</td><td>0</td><td>0.0</td><td>0.0</td><td>0.0</td><td>0</td><td>0.0</td><td>0.0</td><td>0.0</td><td>0</td><td>0.0</td><td>14.888</td><td>0.0340000018477</td><td>32.0</td><td>1.105</td><td>13.519</td><td>0.035000000149</td><td>31.3</td><td>0.9211</td><td>10.444</td><td>0.0879999995232</td><td>12.3</td><td>0.9571</td><td>8.145</td><td>0.259000003338</td><td>4.2</td><td>0.0</td><td>0000</td><td>AAAB</td><td>0.0921563131389</td><td>0</td><td>0.0</td><td>0.0</td><td>0.0</td><td>0.0</td><td>0.0</td><td>0.0</td><td>0.0</td><td>0.0</td><td>1</td><td>1.25999999046</td><td>7.04838902393</td><td>0.571058551544</td></tr>\n",
       "<tr><td>000001.37-011930.0</td><td>0.00574621499496</td><td>-1.32500879187</td><td>66692618</td><td>4354</td><td>55810</td><td>646</td><td>2.328</td><td>2.33265</td><td>0.000195919</td><td>0</td><td>2.33456479681</td><td>0.000783532473742</td><td>0.058201189098</td><td>2.33222960501</td><td>2.33543504867</td><td>2.32301056885</td><td>0</td><td>16492675088384</td><td>0</td><td>0</td><td>0</td><td>0</td><td>-1 .. -1</td><td>-1 .. -1</td><td>-1 .. -1</td><td>0</td><td>-1</td><td>-1</td><td>-1</td><td>1</td><td>-0.802773699467</td><td>8.25765994227</td><td>-1.0 .. -1.0</td><td>9.81237592517</td><td>1.86024098217</td><td>-1.0</td><td>3370.41645343</td><td>1261.09690868</td><td>2109.31954474</td><td>13.3699896223</td><td>38.2695338052</td><td>1.4695270759</td><td>2542.7639249</td><td>1280.2187011</td><td>1262.5452238</td><td>4.71637626275</td><td>24.20951005</td><td>1.61833256374</td><td>4449.89001366</td><td>2659.60236737</td><td>1790.28764629</td><td>0.821396719479</td><td>15.3583995907</td><td>1.55066668035</td><td>0</td><td>0.0</td><td>0.0</td><td>0.0</td><td>0.0</td><td>0.0</td><td>0</td><td>0.0</td><td>0.0</td><td>0</td><td>0.0</td><td>0.0</td><td>0.0</td><td>0.0</td><td>0.0</td><td>7778</td><td>54769</td><td>301</td><td>6</td><td>317</td><td>1237678882094383164</td><td>5.31167 .. 11.0535</td><td>7.51421 .. 0.887166</td><td>20.6862 .. 19.8864</td><td>0.0744644 .. 0.103363</td><td>5.21554374695 .. 11.9897375107</td><td>-25.7973009383</td><td>-0.0126702487469</td><td>0.226728 .. 0.0650497</td><td>0.0805806 .. 0.0240088</td><td>22.0697143353</td><td>0</td><td>0.0</td><td>0.0</td><td>0.0</td><td>0.0</td><td>0.0</td><td>0.0</td><td>0</td><td>0.0</td><td>0.0</td><td>0.0</td><td>0.0</td><td>0.0</td><td>0.0</td><td>0.0</td><td>0.0</td><td>0.0</td><td>0.0</td><td>0.0</td><td>0.0</td><td>0</td><td>0.0</td><td>1</td><td>0.0929132923484</td><td>44.9880867706</td><td>0.22756947577</td><td>2.51742246388</td><td>0.0</td><td>0.0</td><td>0.0</td><td>0</td><td>0.0</td><td>0.0</td><td>0.0</td><td>0</td><td>0.0</td><td>0.0</td><td>0.0</td><td>0</td><td>0.0</td><td>16.72</td><td>0.103000000119</td><td>10.6</td><td>1.038</td><td>15.929</td><td>0.166999995708</td><td>6.5</td><td>0.9004</td><td>11.903</td><td>0.284999996424</td><td>3.8</td><td>0.9703</td><td>8.981</td><td>-999.999023438</td><td>-0.8</td><td>0.0</td><td>0000</td><td>ABBU</td><td>0.450937991337</td><td>0</td><td>0.0</td><td>0.0</td><td>0.0</td><td>0.0</td><td>0.0</td><td>0.0</td><td>0.0</td><td>0.0</td><td>0</td><td>0.0</td><td>0.0</td><td>0.0</td></tr>\n",
       "</table>"
      ],
      "text/plain": [
       "<Table length=5>\n",
       "    SDSS_NAME             RA        ...   FIRST_SNR   SDSS2FIRST_SEP\n",
       "      str18            float64      ...    float64       float64    \n",
       "------------------ ---------------- ... ------------- --------------\n",
       "000000.45+174625.4 0.00189828518376 ...           0.0            0.0\n",
       "000000.66+145828.8 0.00275643009297 ...           0.0            0.0\n",
       "000000.97+044947.2 0.00405238853989 ...           0.0            0.0\n",
       "000001.27-020159.7 0.00531697386447 ... 7.04838902393 0.571058551544\n",
       "000001.37-011930.0 0.00574621499496 ...           0.0            0.0"
      ]
     },
     "execution_count": 6,
     "metadata": {},
     "output_type": "execute_result"
    }
   ],
   "source": [
    "boss_dr12 = Table(boss_hdu[1].data)\n",
    "boss_dr12[0:5]"
   ]
  },
  {
   "cell_type": "markdown",
   "metadata": {},
   "source": [
    "#### Cut bad z (Z_VI only)"
   ]
  },
  {
   "cell_type": "code",
   "execution_count": 26,
   "metadata": {
    "collapsed": false
   },
   "outputs": [
    {
     "data": {
      "text/plain": [
       "297301"
      ]
     },
     "execution_count": 26,
     "metadata": {},
     "output_type": "execute_result"
    }
   ],
   "source": [
    "gd = np.any([boss_dr12['Z_PIPE'] > 0., boss_dr12['Z_PCA'] > 0.],axis=0) # CUTS Z_VI\n",
    "gd.size"
   ]
  },
  {
   "cell_type": "code",
   "execution_count": 27,
   "metadata": {
    "collapsed": false
   },
   "outputs": [
    {
     "data": {
      "text/plain": [
       "(297256, 297301)"
      ]
     },
     "execution_count": 27,
     "metadata": {},
     "output_type": "execute_result"
    }
   ],
   "source": [
    "np.sum(gd), len(boss_dr12)"
   ]
  },
  {
   "cell_type": "markdown",
   "metadata": {
    "collapsed": true
   },
   "source": [
    "### Serendipitous QSOs\n",
    "\n",
    "http://data.sdss3.org/sas/dr12/boss/qso/DR12Q/DR12Q_sup.fits\n",
    "\n",
    "As described here https://data.sdss.org/datamodel/files/BOSS_QSO/DR12Q/DR12Q_sup.html"
   ]
  },
  {
   "cell_type": "code",
   "execution_count": 16,
   "metadata": {
    "collapsed": false
   },
   "outputs": [],
   "source": [
    "# Read\n",
    "boss_sup = Table.read(os.getenv('RAW_IGMSPEC')+'/BOSS/DR12Q_sup.fits.gz')"
   ]
  },
  {
   "cell_type": "code",
   "execution_count": 17,
   "metadata": {
    "collapsed": false
   },
   "outputs": [
    {
     "data": {
      "text/html": [
       "&lt;Table length=5&gt;\n",
       "<table id=\"table5409033360\">\n",
       "<thead><tr><th>SDSS_NAME</th><th>RA</th><th>DEC</th><th>THING_ID</th><th>PLATE</th><th>MJD</th><th>FIBERID</th><th>Z_VI</th><th>Z_PIPE</th><th>ERR_ZPIPE</th><th>ZWARNING</th><th>SDSS_MORPHO</th><th>BOSS_TARGET1</th><th>ANCILLARY_TARGET1</th><th>ANCILLARY_TARGET2</th><th>EBOSS_TARGET0</th><th>BAL_FLAG_VI</th><th>OBJ_ID</th><th>PSFFLUX [5]</th><th>IVAR_PSFFLUX [5]</th><th>PSFMAG [5]</th><th>ERR_PSFMAG [5]</th><th>EXTINCTION [5]</th></tr></thead>\n",
       "<thead><tr><th>-</th><th>deg</th><th>deg</th><th>-</th><th>-</th><th>-</th><th>-</th><th>-</th><th>-</th><th>-</th><th>-</th><th>-</th><th>-</th><th>-</th><th>-</th><th>-</th><th>-</th><th>-</th><th>nanomaggies</th><th>-</th><th>-</th><th>-</th><th>-</th></tr></thead>\n",
       "<thead><tr><th>str18</th><th>float64</th><th>float64</th><th>int32</th><th>int32</th><th>int32</th><th>int32</th><th>float64</th><th>float32</th><th>float32</th><th>int32</th><th>int16</th><th>int64</th><th>int64</th><th>int64</th><th>int64</th><th>int32</th><th>str19</th><th>float32</th><th>float32</th><th>float32</th><th>float32</th><th>float32</th></tr></thead>\n",
       "<tr><td>000000.47-002703.9</td><td>0.00197831659392</td><td>-0.451088294717</td><td>85874308</td><td>4216</td><td>55477</td><td>310</td><td>0.25</td><td>0.249952</td><td>4.4377e-05</td><td>0</td><td>1</td><td>0</td><td>68719476736</td><td>0</td><td>0</td><td>0</td><td>1237657190368346361</td><td>2.10464 .. 11.4228</td><td>15.7601 .. 1.51615</td><td>18.7152 .. 17.2756</td><td>0.128812 .. 0.0765538</td><td>0.212343 .. 0.0609224</td></tr>\n",
       "<tr><td>000037.70+160359.5</td><td>0.157114829154</td><td>16.0665528971</td><td>254597890</td><td>6139</td><td>56192</td><td>996</td><td>0.458565</td><td>0.458563</td><td>3.89529e-05</td><td>0</td><td>1</td><td>134</td><td>0</td><td>0</td><td>0</td><td>0</td><td>1237652944786030861</td><td>1.70663 .. 17.5837</td><td>15.5332 .. 0.808693</td><td>23.9659 .. 20.4371</td><td>0.159289 .. 0.068421</td><td>0.194462 .. 0.0557924</td></tr>\n",
       "<tr><td>000051.26-001411.0</td><td>0.213592530117</td><td>-0.236398018053</td><td>87838293</td><td>4216</td><td>55477</td><td>240</td><td>0.888</td><td>0.887201</td><td>0.000178878</td><td>0</td><td>1</td><td>0</td><td>68719476736</td><td>0</td><td>0</td><td>0</td><td>1237663783660618188</td><td>0.694035 .. 4.16114</td><td>31.5436 .. 2.58294</td><td>24.4937 .. 19.5473</td><td>0.25831 .. 0.152964</td><td>0.172871 .. 0.0495976</td></tr>\n",
       "<tr><td>000101.03+302622.1</td><td>0.254321250536</td><td>30.4394761313</td><td>373031013</td><td>7134</td><td>56566</td><td>611</td><td>0.499544</td><td>0.499543</td><td>3.37542e-05</td><td>0</td><td>1</td><td>134</td><td>0</td><td>0</td><td>0</td><td>0</td><td>1237663234451571295</td><td>1.78457 .. 11.853</td><td>27.3271 .. 1.46998</td><td>24.0116 .. 20.0178</td><td>0.114978 .. 0.0749689</td><td>0.260662 .. 0.0747855</td></tr>\n",
       "<tr><td>000107.52+002625.6</td><td>0.281357161915</td><td>0.440462315429</td><td>107727460</td><td>4216</td><td>55477</td><td>804</td><td>0.517</td><td>0.516782</td><td>8.93751e-05</td><td>0</td><td>1</td><td>0</td><td>68719476736</td><td>0</td><td>0</td><td>0</td><td>1237663277927891418</td><td>0.87537 .. 6.88808</td><td>28.6253 .. 1.71888</td><td>24.9493 .. 20.4644</td><td>0.220803 .. 0.117545</td><td>0.140934 .. 0.0404347</td></tr>\n",
       "</table>"
      ],
      "text/plain": [
       "<Table length=5>\n",
       "    SDSS_NAME             RA        ...     EXTINCTION [5]   \n",
       "        -                deg        ...           -          \n",
       "      str18            float64      ...        float32       \n",
       "------------------ ---------------- ... ---------------------\n",
       "000000.47-002703.9 0.00197831659392 ... 0.212343 .. 0.0609224\n",
       "000037.70+160359.5   0.157114829154 ... 0.194462 .. 0.0557924\n",
       "000051.26-001411.0   0.213592530117 ... 0.172871 .. 0.0495976\n",
       "000101.03+302622.1   0.254321250536 ... 0.260662 .. 0.0747855\n",
       "000107.52+002625.6   0.281357161915 ... 0.140934 .. 0.0404347"
      ]
     },
     "execution_count": 17,
     "metadata": {},
     "output_type": "execute_result"
    }
   ],
   "source": [
    "boss_sup[0:5]"
   ]
  },
  {
   "cell_type": "markdown",
   "metadata": {},
   "source": [
    "#### Are these new?"
   ]
  },
  {
   "cell_type": "code",
   "execution_count": 19,
   "metadata": {
    "collapsed": false
   },
   "outputs": [
    {
     "data": {
      "text/plain": [
       "0"
      ]
     },
     "execution_count": 19,
     "metadata": {},
     "output_type": "execute_result"
    }
   ],
   "source": [
    "mt = (boss_dr12['PLATE'] == 7134) & (boss_dr12['FIBERID'] == 611)\n",
    "np.sum(mt)"
   ]
  },
  {
   "cell_type": "markdown",
   "metadata": {},
   "source": [
    "#### Grab the spectra"
   ]
  },
  {
   "cell_type": "code",
   "execution_count": 7,
   "metadata": {
    "collapsed": false
   },
   "outputs": [],
   "source": [
    "# List for bulk download\n",
    "pmf = boss_sup[['PLATE','MJD','FIBERID']]\n",
    "pmf.write('pmf_12sup.ascii', format='ascii')\n",
    "#  Had to then strip the first line"
   ]
  },
  {
   "cell_type": "markdown",
   "metadata": {},
   "source": [
    "#### wget\n",
    "\n",
    "Used this website:  http://dr12.sdss3.org/bulkSpectra\n",
    "\n",
    "    wget -i boss_12sup.wget"
   ]
  },
  {
   "cell_type": "markdown",
   "metadata": {
    "collapsed": true
   },
   "source": [
    "### Bad QSOs\n",
    "\n",
    "http://data.sdss3.org/sas/dr12/boss/qso/DR12Q/DR12Q_supbad.fits\n",
    "\n",
    "As described here https://data.sdss.org/datamodel/files/BOSS_QSO/DR12Q/DR12Q_sup.html"
   ]
  },
  {
   "cell_type": "code",
   "execution_count": 1,
   "metadata": {
    "collapsed": false
   },
   "outputs": [
    {
     "name": "stderr",
     "output_type": "stream",
     "text": [
      "WARNING: UnitsWarning: '-' did not parse as fits unit: Invalid character at col 0 [astropy.units.core]\n",
      "WARNING: UnitsWarning: 'nanomaggies' did not parse as fits unit: At col 0, Unit 'nanomaggies' not supported by the FITS standard.  [astropy.units.core]\n"
     ]
    }
   ],
   "source": [
    "# Read\n",
    "boss_supbad = Table.read(os.getenv('RAW_IGMSPEC')+'/BOSS/DR12Q_supbad.fits.gz')"
   ]
  },
  {
   "cell_type": "code",
   "execution_count": 10,
   "metadata": {
    "collapsed": false
   },
   "outputs": [
    {
     "data": {
      "text/html": [
       "&lt;Table length=5&gt;\n",
       "<table id=\"table4701281616\">\n",
       "<thead><tr><th>SDSS_NAME</th><th>RA</th><th>DEC</th><th>THING_ID</th><th>PLATE</th><th>MJD</th><th>FIBERID</th><th>Z_VI</th><th>Z_PIPE</th><th>ERR_ZPIPE</th><th>ZWARNING</th><th>SDSS_MORPHO</th><th>BOSS_TARGET1</th><th>ANCILLARY_TARGET1</th><th>ANCILLARY_TARGET2</th><th>EBOSS_TARGET0</th><th>BAL_FLAG_VI</th><th>OBJ_ID</th><th>PSFFLUX [5]</th><th>IVAR_PSFFLUX [5]</th><th>PSFMAG [5]</th><th>ERR_PSFMAG [5]</th><th>EXTINCTION [5]</th></tr></thead>\n",
       "<thead><tr><th>-</th><th>deg</th><th>deg</th><th>-</th><th>-</th><th>-</th><th>-</th><th>-</th><th>-</th><th>-</th><th>-</th><th>-</th><th>-</th><th>-</th><th>-</th><th>-</th><th>-</th><th>-</th><th>nanomaggies</th><th>-</th><th>-</th><th>-</th><th>-</th></tr></thead>\n",
       "<thead><tr><th>str18</th><th>float64</th><th>float64</th><th>int32</th><th>int32</th><th>int32</th><th>int32</th><th>float64</th><th>float64</th><th>float64</th><th>int32</th><th>int32</th><th>int64</th><th>int64</th><th>int64</th><th>int64</th><th>int32</th><th>str1</th><th>float64</th><th>float64</th><th>float64</th><th>float64</th><th>float64</th></tr></thead>\n",
       "<tr><td>000007.58+002943.2</td><td>0.0316202501735</td><td>0.495352427337</td><td>107544857</td><td>3579</td><td>55156</td><td>526</td><td>2.254</td><td>-1.0</td><td>-1.0</td><td>-1</td><td>-1</td><td>212992</td><td>0</td><td>8</td><td>0</td><td>0</td><td>-</td><td>4.642229 .. 10.624799</td><td>14.9521355341 .. 1.21605179476</td><td>20.8331835993 .. 19.934198193</td><td>0.0588600934875 .. 0.088924470481</td><td>-1.0 .. -1.0</td></tr>\n",
       "<tr><td>000031.86+010305.2</td><td>0.13278002</td><td>1.051468</td><td>122289751</td><td>3579</td><td>55156</td><td>548</td><td>1.093</td><td>-1.0</td><td>-1.0</td><td>-1</td><td>-1</td><td>219136</td><td>0</td><td>0</td><td>0</td><td>0</td><td>-</td><td>7.5559435 .. 15.909699</td><td>5.2021329217 .. 0.384375227386</td><td>20.3042782455 .. 19.495845092</td><td>0.0612405683737 .. 0.104844818233</td><td>-1.0 .. -1.0</td></tr>\n",
       "<tr><td>000046.69+010951.2</td><td>0.19454298</td><td>1.1642317</td><td>122100129</td><td>3579</td><td>55156</td><td>546</td><td>4.248</td><td>-1.0</td><td>-1.0</td><td>-1</td><td>-1</td><td>197632</td><td>536870912</td><td>0</td><td>0</td><td>0</td><td>-</td><td>0.2220063 .. 2.2459931</td><td>19.3163281686 .. 1.39079065695</td><td>24.1340867529 .. 21.6214789557</td><td>0.765997462035 .. 0.347758989747</td><td>-1.0 .. -1.0</td></tr>\n",
       "<tr><td>000058.35+002528.2</td><td>0.24312808729</td><td>0.424511482186</td><td>107540212</td><td>3579</td><td>55156</td><td>566</td><td>0.864</td><td>-1.0</td><td>-1.0</td><td>-1</td><td>-1</td><td>217088</td><td>0</td><td>0</td><td>0</td><td>0</td><td>-</td><td>2.4312067 .. 6.6052165</td><td>21.9473847961 .. 1.70871590958</td><td>21.5354452902 .. 20.4502823572</td><td>0.0913710645505 .. 0.11898391364</td><td>-1.0 .. -1.0</td></tr>\n",
       "<tr><td>000119.36+010524.7</td><td>0.330699829376</td><td>1.09021810727</td><td>122099513</td><td>3579</td><td>55156</td><td>588</td><td>2.305</td><td>-1.0</td><td>-1.0</td><td>-1</td><td>-1</td><td>20480</td><td>68719476736</td><td>0</td><td>0</td><td>0</td><td>-</td><td>2.0136375 .. 5.677794</td><td>16.4324544832 .. 0.661345103074</td><td>21.7400467738 .. 20.6145509212</td><td>0.125474441775 .. 0.212846317686</td><td>-1.0 .. -1.0</td></tr>\n",
       "</table>"
      ],
      "text/plain": [
       "<Table length=5>\n",
       "    SDSS_NAME             RA       ... EXTINCTION [5]\n",
       "        -                deg       ...       -       \n",
       "      str18            float64     ...    float64    \n",
       "------------------ --------------- ... --------------\n",
       "000007.58+002943.2 0.0316202501735 ...   -1.0 .. -1.0\n",
       "000031.86+010305.2      0.13278002 ...   -1.0 .. -1.0\n",
       "000046.69+010951.2      0.19454298 ...   -1.0 .. -1.0\n",
       "000058.35+002528.2   0.24312808729 ...   -1.0 .. -1.0\n",
       "000119.36+010524.7  0.330699829376 ...   -1.0 .. -1.0"
      ]
     },
     "execution_count": 10,
     "metadata": {},
     "output_type": "execute_result"
    }
   ],
   "source": [
    "boss_supbad[0:5]"
   ]
  },
  {
   "cell_type": "markdown",
   "metadata": {},
   "source": [
    "#### Are these new?"
   ]
  },
  {
   "cell_type": "code",
   "execution_count": 11,
   "metadata": {
    "collapsed": false
   },
   "outputs": [
    {
     "data": {
      "text/plain": [
       "0"
      ]
     },
     "execution_count": 11,
     "metadata": {},
     "output_type": "execute_result"
    }
   ],
   "source": [
    "mt = (boss_dr12['PLATE'] == 3579) & (boss_dr12['FIBERID'] == 526)\n",
    "np.sum(mt)"
   ]
  },
  {
   "cell_type": "markdown",
   "metadata": {},
   "source": [
    "#### Grab the spectra\n",
    "\n",
    "Grabbed from the website directly:\n",
    "    \n",
    "http://data.sdss3.org/sas/dr12/boss/qso/DR12Q/spec_supbad.tar.gz"
   ]
  },
  {
   "cell_type": "markdown",
   "metadata": {},
   "source": [
    "## Stack"
   ]
  },
  {
   "cell_type": "code",
   "execution_count": 18,
   "metadata": {
    "collapsed": false
   },
   "outputs": [
    {
     "name": "stderr",
     "output_type": "stream",
     "text": [
      "WARNING: MergeConflictWarning: Cannot merge meta key 'EXTNAME' types <type 'str'> and <type 'str'>, choosing EXTNAME='DR12Q_supbad_v2_6.fits' [astropy.utils.metadata]\n",
      "WARNING: MergeConflictWarning: Cannot merge meta key 'DATE-HDU' types <type 'str'> and <type 'str'>, choosing DATE-HDU='2014-10-28T20:22:26' [astropy.utils.metadata]\n"
     ]
    }
   ],
   "source": [
    "boss_meta = vstack([boss_dr12, boss_sup, boss_supbad], join_type='outer')"
   ]
  },
  {
   "cell_type": "code",
   "execution_count": 20,
   "metadata": {
    "collapsed": false
   },
   "outputs": [
    {
     "data": {
      "text/html": [
       "&lt;Table masked=True length=10&gt;\n",
       "<table id=\"table7445368720\">\n",
       "<thead><tr><th>SDSS_NAME</th><th>RA</th><th>DEC</th><th>THING_ID</th><th>PLATE</th><th>MJD</th><th>FIBERID</th><th>Z_VI</th><th>Z_PIPE</th><th>ERR_ZPIPE</th><th>ZWARNING</th><th>Z_PCA</th><th>ERR_ZPCA</th><th>PCA_QUAL</th><th>Z_CIV</th><th>Z_CIII</th><th>Z_MGII</th><th>SDSS_MORPHO</th><th>BOSS_TARGET1</th><th>ANCILLARY_TARGET1</th><th>ANCILLARY_TARGET2</th><th>EBOSS_TARGET0</th><th>NSPEC_BOSS</th><th>PLATE_DUPLICATE [32]</th><th>MJD_DUPLICATE [32]</th><th>FIBERID_DUPLICATE [32]</th><th>SDSS_DR7</th><th>PLATE_DR7</th><th>MJD_DR7</th><th>FIBERID_DR7</th><th>UNIFORM</th><th>ALPHA_NU</th><th>SNR_SPEC</th><th>SNR_DUPLICATE [32]</th><th>SNR_1700</th><th>SNR_3000</th><th>SNR_5150</th><th>FWHM_CIV</th><th>BHWHM_CIV</th><th>RHWHM_CIV</th><th>AMP_CIV</th><th>REWE_CIV</th><th>ERR_REWE_CIV</th><th>FWHM_CIII</th><th>BHWHM_CIII</th><th>RHWHM_CIII</th><th>AMP_CIII</th><th>REWE_CIII</th><th>ERR_REWE_CIII</th><th>FWHM_MGII</th><th>BHWHM_MGII</th><th>RHWHM_MGII</th><th>AMP_MGII</th><th>REWE_MGII</th><th>ERR_REWE_MGII</th><th>BAL_FLAG_VI</th><th>BI_CIV</th><th>ERR_BI_CIV</th><th>AI_CIV</th><th>ERR_AI_CIV</th><th>CHI2TROUGH</th><th>NCIV_2000</th><th>VMIN_CIV_2000</th><th>VMAX_CIV_2000</th><th>NCIV_450</th><th>VMIN_CIV_450</th><th>VMAX_CIV_450</th><th>REW_SIIV</th><th>REW_CIV</th><th>REW_ALIII</th><th>RUN_NUMBER</th><th>PHOTO_MJD</th><th>RERUN_NUMBER</th><th>COL_NUMBER</th><th>FIELD_NUMBER</th><th>OBJ_ID</th><th>PSFFLUX [5]</th><th>IVAR_PSFFLUX [5]</th><th>PSFMAG [5]</th><th>ERR_PSFMAG [5]</th><th>TARGET_FLUX [5]</th><th>MI</th><th>DGMI</th><th>EXTINCTION [5]</th><th>EXTINCTION_RECAL [5]</th><th>HI_GAL</th><th>VAR_MATCHED</th><th>VAR_CHI2</th><th>VAR_A</th><th>VAR_GAMMA</th><th>RASS_COUNTS</th><th>RASS_COUNTS_SNR</th><th>SDSS2ROSAT_SEP</th><th>N_DETECTION_XMM</th><th>FLUX02_12KEV_SGL</th><th>ERR_FLUX02_12KEV_SGL</th><th>FLUX02_2KEV</th><th>ERR_FLUX02_2KEV</th><th>FLUX2_12KEV</th><th>ERR_FLUX2_12KEV</th><th>FLUX02_12KEV</th><th>ERR_FLUX02_12KEV</th><th>LUM02_2KEV_SGL</th><th>LUM05_2KEV</th><th>LUM2_12KEV</th><th>LUM02_2KEV</th><th>LUMX2_10_UPPER</th><th>SDSS2XMM_SEP</th><th>GALEX_MATCHED</th><th>FUV</th><th>FUV_IVAR</th><th>NUV</th><th>NUV_IVAR</th><th>JMAG</th><th>ERR_JMAG</th><th>JSNR</th><th>JRDFLAG</th><th>HMAG</th><th>ERR_HMAG</th><th>HSNR</th><th>HRDFLAG</th><th>KMAG</th><th>ERR_KMAG</th><th>KSNR</th><th>KRDFLAG</th><th>SDSS2MASS_SEP</th><th>W1MAG</th><th>ERR_W1MAG</th><th>W1SNR</th><th>W1CHI2</th><th>W2MAG</th><th>ERR_W2MAG</th><th>W2SNR</th><th>W2CHI2</th><th>W3MAG</th><th>ERR_W3MAG</th><th>W3SNR</th><th>W3CHI2</th><th>W4MAG</th><th>ERR_W4MAG</th><th>W4SNR</th><th>W4CHI2</th><th>CC_FLAGS</th><th>PH_FLAG</th><th>SDSS2WISE_SEP</th><th>UKIDSS_MATCHED</th><th>YFLUX</th><th>YFLUX_ERR</th><th>JFLUX</th><th>JFLUX_ERR</th><th>HFLUX</th><th>HFLUX_ERR</th><th>KFLUX</th><th>KFLUX_ERR</th><th>FIRST_MATCHED</th><th>FIRST_FLUX</th><th>FIRST_SNR</th><th>SDSS2FIRST_SEP</th></tr></thead>\n",
       "<thead><tr><th>-</th><th>deg</th><th>deg</th><th>-</th><th>-</th><th>-</th><th>-</th><th>-</th><th>-</th><th>-</th><th>-</th><th></th><th></th><th></th><th></th><th></th><th></th><th>-</th><th>-</th><th>-</th><th>-</th><th>-</th><th></th><th></th><th></th><th></th><th></th><th></th><th></th><th></th><th></th><th></th><th></th><th></th><th></th><th></th><th></th><th></th><th></th><th></th><th></th><th></th><th></th><th></th><th></th><th></th><th></th><th></th><th></th><th></th><th></th><th></th><th></th><th></th><th></th><th>-</th><th></th><th></th><th></th><th></th><th></th><th></th><th></th><th></th><th></th><th></th><th></th><th></th><th></th><th></th><th></th><th></th><th></th><th></th><th></th><th>-</th><th>nanomaggies</th><th>-</th><th>-</th><th>-</th><th></th><th></th><th></th><th>-</th><th></th><th></th><th></th><th></th><th></th><th></th><th></th><th></th><th></th><th></th><th></th><th></th><th></th><th></th><th></th><th></th><th></th><th></th><th></th><th></th><th></th><th></th><th></th><th></th><th></th><th></th><th></th><th></th><th></th><th></th><th></th><th></th><th></th><th></th><th></th><th></th><th></th><th></th><th></th><th></th><th></th><th></th><th></th><th></th><th></th><th></th><th></th><th></th><th></th><th></th><th></th><th></th><th></th><th></th><th></th><th></th><th></th><th></th><th></th><th></th><th></th><th></th><th></th><th></th><th></th><th></th><th></th><th></th><th></th><th></th><th></th><th></th><th></th><th></th></tr></thead>\n",
       "<thead><tr><th>str18</th><th>float64</th><th>float64</th><th>int32</th><th>int32</th><th>int32</th><th>int32</th><th>float64</th><th>float64</th><th>float64</th><th>int32</th><th>float64</th><th>float64</th><th>float64</th><th>float64</th><th>float64</th><th>float64</th><th>int32</th><th>int64</th><th>int64</th><th>int64</th><th>int64</th><th>int32</th><th>int32</th><th>int32</th><th>int32</th><th>int32</th><th>int32</th><th>int32</th><th>int32</th><th>int16</th><th>float64</th><th>float64</th><th>float64</th><th>float64</th><th>float64</th><th>float64</th><th>float64</th><th>float64</th><th>float64</th><th>float64</th><th>float64</th><th>float64</th><th>float64</th><th>float64</th><th>float64</th><th>float64</th><th>float64</th><th>float64</th><th>float64</th><th>float64</th><th>float64</th><th>float64</th><th>float64</th><th>float64</th><th>int32</th><th>float64</th><th>float64</th><th>float64</th><th>float64</th><th>float64</th><th>int32</th><th>float64</th><th>float64</th><th>int32</th><th>float64</th><th>float64</th><th>float64</th><th>float64</th><th>float64</th><th>int16</th><th>int32</th><th>str3</th><th>int16</th><th>int16</th><th>str19</th><th>float64</th><th>float64</th><th>float64</th><th>float64</th><th>float64</th><th>float64</th><th>float64</th><th>float64</th><th>float32</th><th>float64</th><th>int16</th><th>float64</th><th>float64</th><th>float64</th><th>float64</th><th>float64</th><th>float64</th><th>int16</th><th>float64</th><th>float64</th><th>float64</th><th>float64</th><th>float64</th><th>float64</th><th>float64</th><th>float64</th><th>float64</th><th>float64</th><th>float64</th><th>float64</th><th>int16</th><th>float64</th><th>int16</th><th>float64</th><th>float64</th><th>float64</th><th>float64</th><th>float64</th><th>float64</th><th>float64</th><th>int32</th><th>float64</th><th>float64</th><th>float64</th><th>int32</th><th>float64</th><th>float64</th><th>float64</th><th>int32</th><th>float64</th><th>float64</th><th>float64</th><th>float64</th><th>float64</th><th>float64</th><th>float64</th><th>float64</th><th>float64</th><th>float64</th><th>float64</th><th>float64</th><th>float64</th><th>float64</th><th>float64</th><th>float64</th><th>float64</th><th>str4</th><th>str4</th><th>float64</th><th>int16</th><th>float32</th><th>float32</th><th>float32</th><th>float32</th><th>float32</th><th>float32</th><th>float32</th><th>float32</th><th>int16</th><th>float64</th><th>float64</th><th>float64</th></tr></thead>\n",
       "<tr><td>230347.27+011011.7</td><td>345.94698</td><td>1.169929</td><td>123067307</td><td>3564</td><td>55146</td><td>708</td><td>1.133</td><td>-1.0</td><td>-1.0</td><td>-1</td><td>--</td><td>--</td><td>--</td><td>--</td><td>--</td><td>--</td><td>-1</td><td>5120</td><td>0</td><td>0</td><td>0</td><td>--</td><td>-- .. --</td><td>-- .. --</td><td>-- .. --</td><td>--</td><td>--</td><td>--</td><td>--</td><td>--</td><td>--</td><td>--</td><td>-- .. --</td><td>--</td><td>--</td><td>--</td><td>--</td><td>--</td><td>--</td><td>--</td><td>--</td><td>--</td><td>--</td><td>--</td><td>--</td><td>--</td><td>--</td><td>--</td><td>--</td><td>--</td><td>--</td><td>--</td><td>--</td><td>--</td><td>0</td><td>--</td><td>--</td><td>--</td><td>--</td><td>--</td><td>--</td><td>--</td><td>--</td><td>--</td><td>--</td><td>--</td><td>--</td><td>--</td><td>--</td><td>--</td><td>--</td><td>--</td><td>--</td><td>--</td><td>-</td><td>8.683229 .. 11.941104</td><td>8.80785300705 .. 1.7332649897</td><td>20.1532968633 .. 19.807388798</td><td>0.0413347074024 .. 0.0669556770567</td><td>-- .. --</td><td>--</td><td>--</td><td>-1.0 .. -1.0</td><td>-- .. --</td><td>--</td><td>--</td><td>--</td><td>--</td><td>--</td><td>--</td><td>--</td><td>--</td><td>--</td><td>--</td><td>--</td><td>--</td><td>--</td><td>--</td><td>--</td><td>--</td><td>--</td><td>--</td><td>--</td><td>--</td><td>--</td><td>--</td><td>--</td><td>--</td><td>--</td><td>--</td><td>--</td><td>--</td><td>--</td><td>--</td><td>--</td><td>--</td><td>--</td><td>--</td><td>--</td><td>--</td><td>--</td><td>--</td><td>--</td><td>--</td><td>--</td><td>--</td><td>--</td><td>--</td><td>--</td><td>--</td><td>--</td><td>--</td><td>--</td><td>--</td><td>--</td><td>--</td><td>--</td><td>--</td><td>--</td><td>--</td><td>--</td><td>--</td><td>--</td><td>--</td><td>--</td><td>--</td><td>--</td><td>--</td><td>--</td><td>--</td><td>--</td><td>--</td><td>--</td><td>--</td><td>--</td><td>--</td><td>--</td></tr>\n",
       "<tr><td>230400.66+004357.9</td><td>346.002777736</td><td>0.732774210243</td><td>112426843</td><td>3564</td><td>55146</td><td>720</td><td>0.754</td><td>-1.0</td><td>-1.0</td><td>-1</td><td>--</td><td>--</td><td>--</td><td>--</td><td>--</td><td>--</td><td>-1</td><td>137216</td><td>0</td><td>0</td><td>0</td><td>--</td><td>-- .. --</td><td>-- .. --</td><td>-- .. --</td><td>--</td><td>--</td><td>--</td><td>--</td><td>--</td><td>--</td><td>--</td><td>-- .. --</td><td>--</td><td>--</td><td>--</td><td>--</td><td>--</td><td>--</td><td>--</td><td>--</td><td>--</td><td>--</td><td>--</td><td>--</td><td>--</td><td>--</td><td>--</td><td>--</td><td>--</td><td>--</td><td>--</td><td>--</td><td>--</td><td>0</td><td>--</td><td>--</td><td>--</td><td>--</td><td>--</td><td>--</td><td>--</td><td>--</td><td>--</td><td>--</td><td>--</td><td>--</td><td>--</td><td>--</td><td>--</td><td>--</td><td>--</td><td>--</td><td>--</td><td>-</td><td>2.5841134 .. 8.967807</td><td>16.2568670805 .. 1.40317289619</td><td>21.4692210797 .. 20.1182843674</td><td>0.0995042208842 .. 0.0976787882898</td><td>-- .. --</td><td>--</td><td>--</td><td>-1.0 .. -1.0</td><td>-- .. --</td><td>--</td><td>--</td><td>--</td><td>--</td><td>--</td><td>--</td><td>--</td><td>--</td><td>--</td><td>--</td><td>--</td><td>--</td><td>--</td><td>--</td><td>--</td><td>--</td><td>--</td><td>--</td><td>--</td><td>--</td><td>--</td><td>--</td><td>--</td><td>--</td><td>--</td><td>--</td><td>--</td><td>--</td><td>--</td><td>--</td><td>--</td><td>--</td><td>--</td><td>--</td><td>--</td><td>--</td><td>--</td><td>--</td><td>--</td><td>--</td><td>--</td><td>--</td><td>--</td><td>--</td><td>--</td><td>--</td><td>--</td><td>--</td><td>--</td><td>--</td><td>--</td><td>--</td><td>--</td><td>--</td><td>--</td><td>--</td><td>--</td><td>--</td><td>--</td><td>--</td><td>--</td><td>--</td><td>--</td><td>--</td><td>--</td><td>--</td><td>--</td><td>--</td><td>--</td><td>--</td><td>--</td><td>--</td><td>--</td></tr>\n",
       "<tr><td>230418.88+010031.5</td><td>346.078673317</td><td>1.00875530687</td><td>117023495</td><td>3564</td><td>55146</td><td>758</td><td>1.085</td><td>-1.0</td><td>-1.0</td><td>-1</td><td>--</td><td>--</td><td>--</td><td>--</td><td>--</td><td>--</td><td>-1</td><td>214016</td><td>0</td><td>0</td><td>0</td><td>--</td><td>-- .. --</td><td>-- .. --</td><td>-- .. --</td><td>--</td><td>--</td><td>--</td><td>--</td><td>--</td><td>--</td><td>--</td><td>-- .. --</td><td>--</td><td>--</td><td>--</td><td>--</td><td>--</td><td>--</td><td>--</td><td>--</td><td>--</td><td>--</td><td>--</td><td>--</td><td>--</td><td>--</td><td>--</td><td>--</td><td>--</td><td>--</td><td>--</td><td>--</td><td>--</td><td>0</td><td>--</td><td>--</td><td>--</td><td>--</td><td>--</td><td>--</td><td>--</td><td>--</td><td>--</td><td>--</td><td>--</td><td>--</td><td>--</td><td>--</td><td>--</td><td>--</td><td>--</td><td>--</td><td>--</td><td>-</td><td>2.8848875 .. 10.61381</td><td>17.7033431581 .. 0.961168215845</td><td>21.3496777952 .. 19.9353217276</td><td>0.0859535236572 .. 0.0996266724508</td><td>-- .. --</td><td>--</td><td>--</td><td>-1.0 .. -1.0</td><td>-- .. --</td><td>--</td><td>--</td><td>--</td><td>--</td><td>--</td><td>--</td><td>--</td><td>--</td><td>--</td><td>--</td><td>--</td><td>--</td><td>--</td><td>--</td><td>--</td><td>--</td><td>--</td><td>--</td><td>--</td><td>--</td><td>--</td><td>--</td><td>--</td><td>--</td><td>--</td><td>--</td><td>--</td><td>--</td><td>--</td><td>--</td><td>--</td><td>--</td><td>--</td><td>--</td><td>--</td><td>--</td><td>--</td><td>--</td><td>--</td><td>--</td><td>--</td><td>--</td><td>--</td><td>--</td><td>--</td><td>--</td><td>--</td><td>--</td><td>--</td><td>--</td><td>--</td><td>--</td><td>--</td><td>--</td><td>--</td><td>--</td><td>--</td><td>--</td><td>--</td><td>--</td><td>--</td><td>--</td><td>--</td><td>--</td><td>--</td><td>--</td><td>--</td><td>--</td><td>--</td><td>--</td><td>--</td><td>--</td><td>--</td></tr>\n",
       "<tr><td>230430.76+002639.9</td><td>346.128204179</td><td>0.444441228138</td><td>107888217</td><td>3564</td><td>55146</td><td>762</td><td>0.881</td><td>-1.0</td><td>-1.0</td><td>-1</td><td>--</td><td>--</td><td>--</td><td>--</td><td>--</td><td>--</td><td>-1</td><td>219136</td><td>0</td><td>0</td><td>0</td><td>--</td><td>-- .. --</td><td>-- .. --</td><td>-- .. --</td><td>--</td><td>--</td><td>--</td><td>--</td><td>--</td><td>--</td><td>--</td><td>-- .. --</td><td>--</td><td>--</td><td>--</td><td>--</td><td>--</td><td>--</td><td>--</td><td>--</td><td>--</td><td>--</td><td>--</td><td>--</td><td>--</td><td>--</td><td>--</td><td>--</td><td>--</td><td>--</td><td>--</td><td>--</td><td>--</td><td>0</td><td>--</td><td>--</td><td>--</td><td>--</td><td>--</td><td>--</td><td>--</td><td>--</td><td>--</td><td>--</td><td>--</td><td>--</td><td>--</td><td>--</td><td>--</td><td>--</td><td>--</td><td>--</td><td>--</td><td>-</td><td>2.8017366 .. 6.183736</td><td>23.5941683202 .. 1.65992482815</td><td>21.3814317413 .. 20.5218726497</td><td>0.076985101214 .. 0.128380788528</td><td>-- .. --</td><td>--</td><td>--</td><td>-1.0 .. -1.0</td><td>-- .. --</td><td>--</td><td>--</td><td>--</td><td>--</td><td>--</td><td>--</td><td>--</td><td>--</td><td>--</td><td>--</td><td>--</td><td>--</td><td>--</td><td>--</td><td>--</td><td>--</td><td>--</td><td>--</td><td>--</td><td>--</td><td>--</td><td>--</td><td>--</td><td>--</td><td>--</td><td>--</td><td>--</td><td>--</td><td>--</td><td>--</td><td>--</td><td>--</td><td>--</td><td>--</td><td>--</td><td>--</td><td>--</td><td>--</td><td>--</td><td>--</td><td>--</td><td>--</td><td>--</td><td>--</td><td>--</td><td>--</td><td>--</td><td>--</td><td>--</td><td>--</td><td>--</td><td>--</td><td>--</td><td>--</td><td>--</td><td>--</td><td>--</td><td>--</td><td>--</td><td>--</td><td>--</td><td>--</td><td>--</td><td>--</td><td>--</td><td>--</td><td>--</td><td>--</td><td>--</td><td>--</td><td>--</td><td>--</td><td>--</td></tr>\n",
       "<tr><td>230512.31+011127.4</td><td>346.301302875</td><td>1.19096111962</td><td>123096028</td><td>3564</td><td>55146</td><td>788</td><td>2.177</td><td>-1.0</td><td>-1.0</td><td>-1</td><td>--</td><td>--</td><td>--</td><td>--</td><td>--</td><td>--</td><td>-1</td><td>151552</td><td>0</td><td>0</td><td>0</td><td>--</td><td>-- .. --</td><td>-- .. --</td><td>-- .. --</td><td>--</td><td>--</td><td>--</td><td>--</td><td>--</td><td>--</td><td>--</td><td>-- .. --</td><td>--</td><td>--</td><td>--</td><td>--</td><td>--</td><td>--</td><td>--</td><td>--</td><td>--</td><td>--</td><td>--</td><td>--</td><td>--</td><td>--</td><td>--</td><td>--</td><td>--</td><td>--</td><td>--</td><td>--</td><td>--</td><td>0</td><td>--</td><td>--</td><td>--</td><td>--</td><td>--</td><td>--</td><td>--</td><td>--</td><td>--</td><td>--</td><td>--</td><td>--</td><td>--</td><td>--</td><td>--</td><td>--</td><td>--</td><td>--</td><td>--</td><td>-</td><td>2.6791377 .. 7.47316</td><td>16.1923604984 .. 1.71243779052</td><td>21.4300124108 .. 20.3162392986</td><td>0.0963096695282 .. 0.10570606694</td><td>-- .. --</td><td>--</td><td>--</td><td>-1.0 .. -1.0</td><td>-- .. --</td><td>--</td><td>--</td><td>--</td><td>--</td><td>--</td><td>--</td><td>--</td><td>--</td><td>--</td><td>--</td><td>--</td><td>--</td><td>--</td><td>--</td><td>--</td><td>--</td><td>--</td><td>--</td><td>--</td><td>--</td><td>--</td><td>--</td><td>--</td><td>--</td><td>--</td><td>--</td><td>--</td><td>--</td><td>--</td><td>--</td><td>--</td><td>--</td><td>--</td><td>--</td><td>--</td><td>--</td><td>--</td><td>--</td><td>--</td><td>--</td><td>--</td><td>--</td><td>--</td><td>--</td><td>--</td><td>--</td><td>--</td><td>--</td><td>--</td><td>--</td><td>--</td><td>--</td><td>--</td><td>--</td><td>--</td><td>--</td><td>--</td><td>--</td><td>--</td><td>--</td><td>--</td><td>--</td><td>--</td><td>--</td><td>--</td><td>--</td><td>--</td><td>--</td><td>--</td><td>--</td><td>--</td><td>--</td><td>--</td></tr>\n",
       "<tr><td>230632.06+004611.7</td><td>346.63359</td><td>0.76994402</td><td>112437454</td><td>3564</td><td>55146</td><td>878</td><td>0.571</td><td>-1.0</td><td>-1.0</td><td>-1</td><td>--</td><td>--</td><td>--</td><td>--</td><td>--</td><td>--</td><td>-1</td><td>198656</td><td>0</td><td>0</td><td>0</td><td>--</td><td>-- .. --</td><td>-- .. --</td><td>-- .. --</td><td>--</td><td>--</td><td>--</td><td>--</td><td>--</td><td>--</td><td>--</td><td>-- .. --</td><td>--</td><td>--</td><td>--</td><td>--</td><td>--</td><td>--</td><td>--</td><td>--</td><td>--</td><td>--</td><td>--</td><td>--</td><td>--</td><td>--</td><td>--</td><td>--</td><td>--</td><td>--</td><td>--</td><td>--</td><td>--</td><td>0</td><td>--</td><td>--</td><td>--</td><td>--</td><td>--</td><td>--</td><td>--</td><td>--</td><td>--</td><td>--</td><td>--</td><td>--</td><td>--</td><td>--</td><td>--</td><td>--</td><td>--</td><td>--</td><td>--</td><td>-</td><td>11.915462 .. 20.222652</td><td>7.50866994735 .. 1.07067822317</td><td>19.8097227851 .. 19.235404729</td><td>0.0327540232955 .. 0.0506850959586</td><td>-- .. --</td><td>--</td><td>--</td><td>-1.0 .. -1.0</td><td>-- .. --</td><td>--</td><td>--</td><td>--</td><td>--</td><td>--</td><td>--</td><td>--</td><td>--</td><td>--</td><td>--</td><td>--</td><td>--</td><td>--</td><td>--</td><td>--</td><td>--</td><td>--</td><td>--</td><td>--</td><td>--</td><td>--</td><td>--</td><td>--</td><td>--</td><td>--</td><td>--</td><td>--</td><td>--</td><td>--</td><td>--</td><td>--</td><td>--</td><td>--</td><td>--</td><td>--</td><td>--</td><td>--</td><td>--</td><td>--</td><td>--</td><td>--</td><td>--</td><td>--</td><td>--</td><td>--</td><td>--</td><td>--</td><td>--</td><td>--</td><td>--</td><td>--</td><td>--</td><td>--</td><td>--</td><td>--</td><td>--</td><td>--</td><td>--</td><td>--</td><td>--</td><td>--</td><td>--</td><td>--</td><td>--</td><td>--</td><td>--</td><td>--</td><td>--</td><td>--</td><td>--</td><td>--</td><td>--</td><td>--</td></tr>\n",
       "<tr><td>230649.36+010400.8</td><td>346.70567</td><td>1.066916</td><td>121300400</td><td>3564</td><td>55146</td><td>872</td><td>1.23</td><td>-1.0</td><td>-1.0</td><td>-1</td><td>--</td><td>--</td><td>--</td><td>--</td><td>--</td><td>--</td><td>-1</td><td>20480</td><td>0</td><td>0</td><td>0</td><td>--</td><td>-- .. --</td><td>-- .. --</td><td>-- .. --</td><td>--</td><td>--</td><td>--</td><td>--</td><td>--</td><td>--</td><td>--</td><td>-- .. --</td><td>--</td><td>--</td><td>--</td><td>--</td><td>--</td><td>--</td><td>--</td><td>--</td><td>--</td><td>--</td><td>--</td><td>--</td><td>--</td><td>--</td><td>--</td><td>--</td><td>--</td><td>--</td><td>--</td><td>--</td><td>--</td><td>0</td><td>--</td><td>--</td><td>--</td><td>--</td><td>--</td><td>--</td><td>--</td><td>--</td><td>--</td><td>--</td><td>--</td><td>--</td><td>--</td><td>--</td><td>--</td><td>--</td><td>--</td><td>--</td><td>--</td><td>-</td><td>21.713095 .. 40.89976</td><td>3.27599264877 .. 0.617755242802</td><td>19.1581956687 .. 18.4706981011</td><td>0.0272811996246 .. 0.0332603103276</td><td>-- .. --</td><td>--</td><td>--</td><td>-1.0 .. -1.0</td><td>-- .. --</td><td>--</td><td>--</td><td>--</td><td>--</td><td>--</td><td>--</td><td>--</td><td>--</td><td>--</td><td>--</td><td>--</td><td>--</td><td>--</td><td>--</td><td>--</td><td>--</td><td>--</td><td>--</td><td>--</td><td>--</td><td>--</td><td>--</td><td>--</td><td>--</td><td>--</td><td>--</td><td>--</td><td>--</td><td>--</td><td>--</td><td>--</td><td>--</td><td>--</td><td>--</td><td>--</td><td>--</td><td>--</td><td>--</td><td>--</td><td>--</td><td>--</td><td>--</td><td>--</td><td>--</td><td>--</td><td>--</td><td>--</td><td>--</td><td>--</td><td>--</td><td>--</td><td>--</td><td>--</td><td>--</td><td>--</td><td>--</td><td>--</td><td>--</td><td>--</td><td>--</td><td>--</td><td>--</td><td>--</td><td>--</td><td>--</td><td>--</td><td>--</td><td>--</td><td>--</td><td>--</td><td>--</td><td>--</td><td>--</td></tr>\n",
       "<tr><td>230739.58+005508.2</td><td>346.914955986</td><td>0.918963169628</td><td>117008423</td><td>3564</td><td>55146</td><td>954</td><td>2.175</td><td>-1.0</td><td>-1.0</td><td>-1</td><td>--</td><td>--</td><td>--</td><td>--</td><td>--</td><td>--</td><td>-1</td><td>67584</td><td>0</td><td>0</td><td>0</td><td>--</td><td>-- .. --</td><td>-- .. --</td><td>-- .. --</td><td>--</td><td>--</td><td>--</td><td>--</td><td>--</td><td>--</td><td>--</td><td>-- .. --</td><td>--</td><td>--</td><td>--</td><td>--</td><td>--</td><td>--</td><td>--</td><td>--</td><td>--</td><td>--</td><td>--</td><td>--</td><td>--</td><td>--</td><td>--</td><td>--</td><td>--</td><td>--</td><td>--</td><td>--</td><td>--</td><td>1</td><td>--</td><td>--</td><td>--</td><td>--</td><td>--</td><td>--</td><td>--</td><td>--</td><td>--</td><td>--</td><td>--</td><td>--</td><td>--</td><td>--</td><td>--</td><td>--</td><td>--</td><td>--</td><td>--</td><td>-</td><td>2.8842034 .. 20.084888</td><td>16.5503410957 .. 0.917213042069</td><td>21.3499352888 .. 19.2428264642</td><td>0.0888001877071 .. 0.0550260213407</td><td>-- .. --</td><td>--</td><td>--</td><td>-1.0 .. -1.0</td><td>-- .. --</td><td>--</td><td>--</td><td>--</td><td>--</td><td>--</td><td>--</td><td>--</td><td>--</td><td>--</td><td>--</td><td>--</td><td>--</td><td>--</td><td>--</td><td>--</td><td>--</td><td>--</td><td>--</td><td>--</td><td>--</td><td>--</td><td>--</td><td>--</td><td>--</td><td>--</td><td>--</td><td>--</td><td>--</td><td>--</td><td>--</td><td>--</td><td>--</td><td>--</td><td>--</td><td>--</td><td>--</td><td>--</td><td>--</td><td>--</td><td>--</td><td>--</td><td>--</td><td>--</td><td>--</td><td>--</td><td>--</td><td>--</td><td>--</td><td>--</td><td>--</td><td>--</td><td>--</td><td>--</td><td>--</td><td>--</td><td>--</td><td>--</td><td>--</td><td>--</td><td>--</td><td>--</td><td>--</td><td>--</td><td>--</td><td>--</td><td>--</td><td>--</td><td>--</td><td>--</td><td>--</td><td>--</td><td>--</td><td>--</td></tr>\n",
       "<tr><td>235814.49+000615.0</td><td>359.560376993</td><td>0.104167978374</td><td>96665251</td><td>3579</td><td>55156</td><td>514</td><td>2.464</td><td>-1.0</td><td>-1.0</td><td>-1</td><td>--</td><td>--</td><td>--</td><td>--</td><td>--</td><td>--</td><td>-1</td><td>151552</td><td>0</td><td>0</td><td>0</td><td>--</td><td>-- .. --</td><td>-- .. --</td><td>-- .. --</td><td>--</td><td>--</td><td>--</td><td>--</td><td>--</td><td>--</td><td>--</td><td>-- .. --</td><td>--</td><td>--</td><td>--</td><td>--</td><td>--</td><td>--</td><td>--</td><td>--</td><td>--</td><td>--</td><td>--</td><td>--</td><td>--</td><td>--</td><td>--</td><td>--</td><td>--</td><td>--</td><td>--</td><td>--</td><td>--</td><td>0</td><td>--</td><td>--</td><td>--</td><td>--</td><td>--</td><td>--</td><td>--</td><td>--</td><td>--</td><td>--</td><td>--</td><td>--</td><td>--</td><td>--</td><td>--</td><td>--</td><td>--</td><td>--</td><td>--</td><td>-</td><td>1.3839571 .. 3.7476451</td><td>29.8771887071 .. 1.86487202777</td><td>22.1471934299 .. 21.0656038582</td><td>0.134800885816 .. 0.193780050211</td><td>-- .. --</td><td>--</td><td>--</td><td>-1.0 .. -1.0</td><td>-- .. --</td><td>--</td><td>--</td><td>--</td><td>--</td><td>--</td><td>--</td><td>--</td><td>--</td><td>--</td><td>--</td><td>--</td><td>--</td><td>--</td><td>--</td><td>--</td><td>--</td><td>--</td><td>--</td><td>--</td><td>--</td><td>--</td><td>--</td><td>--</td><td>--</td><td>--</td><td>--</td><td>--</td><td>--</td><td>--</td><td>--</td><td>--</td><td>--</td><td>--</td><td>--</td><td>--</td><td>--</td><td>--</td><td>--</td><td>--</td><td>--</td><td>--</td><td>--</td><td>--</td><td>--</td><td>--</td><td>--</td><td>--</td><td>--</td><td>--</td><td>--</td><td>--</td><td>--</td><td>--</td><td>--</td><td>--</td><td>--</td><td>--</td><td>--</td><td>--</td><td>--</td><td>--</td><td>--</td><td>--</td><td>--</td><td>--</td><td>--</td><td>--</td><td>--</td><td>--</td><td>--</td><td>--</td><td>--</td><td>--</td></tr>\n",
       "<tr><td>235948.09+001229.5</td><td>359.950393564</td><td>0.208213386828</td><td>96839997</td><td>3579</td><td>55156</td><td>534</td><td>2.058</td><td>-1.0</td><td>-1.0</td><td>-1</td><td>--</td><td>--</td><td>--</td><td>--</td><td>--</td><td>--</td><td>-1</td><td>218112</td><td>0</td><td>0</td><td>0</td><td>--</td><td>-- .. --</td><td>-- .. --</td><td>-- .. --</td><td>--</td><td>--</td><td>--</td><td>--</td><td>--</td><td>--</td><td>--</td><td>-- .. --</td><td>--</td><td>--</td><td>--</td><td>--</td><td>--</td><td>--</td><td>--</td><td>--</td><td>--</td><td>--</td><td>--</td><td>--</td><td>--</td><td>--</td><td>--</td><td>--</td><td>--</td><td>--</td><td>--</td><td>--</td><td>--</td><td>0</td><td>--</td><td>--</td><td>--</td><td>--</td><td>--</td><td>--</td><td>--</td><td>--</td><td>--</td><td>--</td><td>--</td><td>--</td><td>--</td><td>--</td><td>--</td><td>--</td><td>--</td><td>--</td><td>--</td><td>-</td><td>10.828461 .. 19.072935</td><td>2.11206294195 .. 1.20174252051</td><td>19.9135831582 .. 19.2989561782</td><td>0.0668894441314 .. 0.0507243752345</td><td>-- .. --</td><td>--</td><td>--</td><td>-1.0 .. -1.0</td><td>-- .. --</td><td>--</td><td>--</td><td>--</td><td>--</td><td>--</td><td>--</td><td>--</td><td>--</td><td>--</td><td>--</td><td>--</td><td>--</td><td>--</td><td>--</td><td>--</td><td>--</td><td>--</td><td>--</td><td>--</td><td>--</td><td>--</td><td>--</td><td>--</td><td>--</td><td>--</td><td>--</td><td>--</td><td>--</td><td>--</td><td>--</td><td>--</td><td>--</td><td>--</td><td>--</td><td>--</td><td>--</td><td>--</td><td>--</td><td>--</td><td>--</td><td>--</td><td>--</td><td>--</td><td>--</td><td>--</td><td>--</td><td>--</td><td>--</td><td>--</td><td>--</td><td>--</td><td>--</td><td>--</td><td>--</td><td>--</td><td>--</td><td>--</td><td>--</td><td>--</td><td>--</td><td>--</td><td>--</td><td>--</td><td>--</td><td>--</td><td>--</td><td>--</td><td>--</td><td>--</td><td>--</td><td>--</td><td>--</td><td>--</td></tr>\n",
       "</table>"
      ],
      "text/plain": [
       "<Table masked=True length=10>\n",
       "    SDSS_NAME            RA           DEC       ... FIRST_SNR SDSS2FIRST_SEP\n",
       "        -               deg           deg       ...                         \n",
       "      str18           float64       float64     ...  float64     float64    \n",
       "------------------ ------------- -------------- ... --------- --------------\n",
       "230347.27+011011.7     345.94698       1.169929 ...        --             --\n",
       "230400.66+004357.9 346.002777736 0.732774210243 ...        --             --\n",
       "230418.88+010031.5 346.078673317  1.00875530687 ...        --             --\n",
       "230430.76+002639.9 346.128204179 0.444441228138 ...        --             --\n",
       "230512.31+011127.4 346.301302875  1.19096111962 ...        --             --\n",
       "230632.06+004611.7     346.63359     0.76994402 ...        --             --\n",
       "230649.36+010400.8     346.70567       1.066916 ...        --             --\n",
       "230739.58+005508.2 346.914955986 0.918963169628 ...        --             --\n",
       "235814.49+000615.0 359.560376993 0.104167978374 ...        --             --\n",
       "235948.09+001229.5 359.950393564 0.208213386828 ...        --             --"
      ]
     },
     "execution_count": 20,
     "metadata": {},
     "output_type": "execute_result"
    }
   ],
   "source": [
    "boss_meta[-10:]"
   ]
  },
  {
   "cell_type": "markdown",
   "metadata": {},
   "source": [
    "## DR12 spectra"
   ]
  },
  {
   "cell_type": "code",
   "execution_count": 21,
   "metadata": {
    "collapsed": false
   },
   "outputs": [
    {
     "ename": "KeyboardInterrupt",
     "evalue": "",
     "output_type": "error",
     "traceback": [
      "\u001b[0;31m---------------------------------------------------------------------------\u001b[0m",
      "\u001b[0;31mKeyboardInterrupt\u001b[0m                         Traceback (most recent call last)",
      "\u001b[0;32m<ipython-input-21-ae9ca68911bf>\u001b[0m in \u001b[0;36m<module>\u001b[0;34m()\u001b[0m\n\u001b[0;32m----> 1\u001b[0;31m \u001b[0mhdu\u001b[0m \u001b[0;34m=\u001b[0m \u001b[0mfits\u001b[0m\u001b[0;34m.\u001b[0m\u001b[0mopen\u001b[0m\u001b[0;34m(\u001b[0m\u001b[0mos\u001b[0m\u001b[0;34m.\u001b[0m\u001b[0mgetenv\u001b[0m\u001b[0;34m(\u001b[0m\u001b[0;34m'RAW_IGMSPEC'\u001b[0m\u001b[0;34m)\u001b[0m\u001b[0;34m+\u001b[0m\u001b[0;34m'/BOSS/DR12_ALLQSO_SPEC_106_flux_nointerp.fits.gz'\u001b[0m\u001b[0;34m)\u001b[0m\u001b[0;34m\u001b[0m\u001b[0m\n\u001b[0m",
      "\u001b[0;32m/Users/xavier/anaconda/lib/python2.7/site-packages/astropy/io/fits/hdu/hdulist.pyc\u001b[0m in \u001b[0;36mfitsopen\u001b[0;34m(name, mode, memmap, save_backup, cache, **kwargs)\u001b[0m\n\u001b[1;32m    136\u001b[0m         \u001b[0;32mraise\u001b[0m \u001b[0mValueError\u001b[0m\u001b[0;34m(\u001b[0m\u001b[0;34m'Empty filename: %s'\u001b[0m \u001b[0;34m%\u001b[0m \u001b[0mrepr\u001b[0m\u001b[0;34m(\u001b[0m\u001b[0mname\u001b[0m\u001b[0;34m)\u001b[0m\u001b[0;34m)\u001b[0m\u001b[0;34m\u001b[0m\u001b[0m\n\u001b[1;32m    137\u001b[0m \u001b[0;34m\u001b[0m\u001b[0m\n\u001b[0;32m--> 138\u001b[0;31m     \u001b[0;32mreturn\u001b[0m \u001b[0mHDUList\u001b[0m\u001b[0;34m.\u001b[0m\u001b[0mfromfile\u001b[0m\u001b[0;34m(\u001b[0m\u001b[0mname\u001b[0m\u001b[0;34m,\u001b[0m \u001b[0mmode\u001b[0m\u001b[0;34m,\u001b[0m \u001b[0mmemmap\u001b[0m\u001b[0;34m,\u001b[0m \u001b[0msave_backup\u001b[0m\u001b[0;34m,\u001b[0m \u001b[0mcache\u001b[0m\u001b[0;34m,\u001b[0m \u001b[0;34m**\u001b[0m\u001b[0mkwargs\u001b[0m\u001b[0;34m)\u001b[0m\u001b[0;34m\u001b[0m\u001b[0m\n\u001b[0m\u001b[1;32m    139\u001b[0m \u001b[0;34m\u001b[0m\u001b[0m\n\u001b[1;32m    140\u001b[0m \u001b[0;34m\u001b[0m\u001b[0m\n",
      "\u001b[0;32m/Users/xavier/anaconda/lib/python2.7/site-packages/astropy/io/fits/hdu/hdulist.pyc\u001b[0m in \u001b[0;36mfromfile\u001b[0;34m(cls, fileobj, mode, memmap, save_backup, cache, **kwargs)\u001b[0m\n\u001b[1;32m    278\u001b[0m \u001b[0;34m\u001b[0m\u001b[0m\n\u001b[1;32m    279\u001b[0m         return cls._readfrom(fileobj=fileobj, mode=mode, memmap=memmap,\n\u001b[0;32m--> 280\u001b[0;31m                              save_backup=save_backup, cache=cache, **kwargs)\n\u001b[0m\u001b[1;32m    281\u001b[0m \u001b[0;34m\u001b[0m\u001b[0m\n\u001b[1;32m    282\u001b[0m     \u001b[0;34m@\u001b[0m\u001b[0mclassmethod\u001b[0m\u001b[0;34m\u001b[0m\u001b[0m\n",
      "\u001b[0;32m/Users/xavier/anaconda/lib/python2.7/site-packages/astropy/io/fits/hdu/hdulist.pyc\u001b[0m in \u001b[0;36m_readfrom\u001b[0;34m(cls, fileobj, data, mode, memmap, save_backup, cache, **kwargs)\u001b[0m\n\u001b[1;32m    836\u001b[0m \u001b[0;34m\u001b[0m\u001b[0m\n\u001b[1;32m    837\u001b[0m                         \u001b[0;32mtry\u001b[0m\u001b[0;34m:\u001b[0m\u001b[0;34m\u001b[0m\u001b[0m\n\u001b[0;32m--> 838\u001b[0;31m                             \u001b[0mhdu\u001b[0m \u001b[0;34m=\u001b[0m \u001b[0m_BaseHDU\u001b[0m\u001b[0;34m.\u001b[0m\u001b[0mreadfrom\u001b[0m\u001b[0;34m(\u001b[0m\u001b[0mffo\u001b[0m\u001b[0;34m,\u001b[0m \u001b[0;34m**\u001b[0m\u001b[0mkwargs\u001b[0m\u001b[0;34m)\u001b[0m\u001b[0;34m\u001b[0m\u001b[0m\n\u001b[0m\u001b[1;32m    839\u001b[0m                         \u001b[0;32mexcept\u001b[0m \u001b[0mEOFError\u001b[0m\u001b[0;34m:\u001b[0m\u001b[0;34m\u001b[0m\u001b[0m\n\u001b[1;32m    840\u001b[0m                             \u001b[0;32mbreak\u001b[0m\u001b[0;34m\u001b[0m\u001b[0m\n",
      "\u001b[0;32m/Users/xavier/anaconda/lib/python2.7/site-packages/astropy/io/fits/hdu/base.pyc\u001b[0m in \u001b[0;36mreadfrom\u001b[0;34m(cls, fileobj, checksum, ignore_missing_end, **kwargs)\u001b[0m\n\u001b[1;32m    421\u001b[0m         hdu = cls._readfrom_internal(fileobj, checksum=checksum,\n\u001b[1;32m    422\u001b[0m                                      \u001b[0mignore_missing_end\u001b[0m\u001b[0;34m=\u001b[0m\u001b[0mignore_missing_end\u001b[0m\u001b[0;34m,\u001b[0m\u001b[0;34m\u001b[0m\u001b[0m\n\u001b[0;32m--> 423\u001b[0;31m                                      **kwargs)\n\u001b[0m\u001b[1;32m    424\u001b[0m \u001b[0;34m\u001b[0m\u001b[0m\n\u001b[1;32m    425\u001b[0m         \u001b[0;31m# If the checksum had to be checked the data may have already been read\u001b[0m\u001b[0;34m\u001b[0m\u001b[0;34m\u001b[0m\u001b[0m\n",
      "\u001b[0;32m/Users/xavier/anaconda/lib/python2.7/site-packages/astropy/io/fits/hdu/base.pyc\u001b[0m in \u001b[0;36m_readfrom_internal\u001b[0;34m(cls, data, header, checksum, ignore_missing_end, **kwargs)\u001b[0m\n\u001b[1;32m    481\u001b[0m             \u001b[0;32mif\u001b[0m \u001b[0mheader\u001b[0m \u001b[0;32mis\u001b[0m \u001b[0mNone\u001b[0m\u001b[0;34m:\u001b[0m\u001b[0;34m\u001b[0m\u001b[0m\n\u001b[1;32m    482\u001b[0m                 \u001b[0mheader_offset\u001b[0m \u001b[0;34m=\u001b[0m \u001b[0mdata\u001b[0m\u001b[0;34m.\u001b[0m\u001b[0mtell\u001b[0m\u001b[0;34m(\u001b[0m\u001b[0;34m)\u001b[0m\u001b[0;34m\u001b[0m\u001b[0m\n\u001b[0;32m--> 483\u001b[0;31m                 \u001b[0mheader\u001b[0m \u001b[0;34m=\u001b[0m \u001b[0mHeader\u001b[0m\u001b[0;34m.\u001b[0m\u001b[0mfromfile\u001b[0m\u001b[0;34m(\u001b[0m\u001b[0mdata\u001b[0m\u001b[0;34m,\u001b[0m \u001b[0mendcard\u001b[0m\u001b[0;34m=\u001b[0m\u001b[0;32mnot\u001b[0m \u001b[0mignore_missing_end\u001b[0m\u001b[0;34m)\u001b[0m\u001b[0;34m\u001b[0m\u001b[0m\n\u001b[0m\u001b[1;32m    484\u001b[0m             \u001b[0mhdu_fileobj\u001b[0m \u001b[0;34m=\u001b[0m \u001b[0mdata\u001b[0m\u001b[0;34m\u001b[0m\u001b[0m\n\u001b[1;32m    485\u001b[0m             \u001b[0mdata_offset\u001b[0m \u001b[0;34m=\u001b[0m \u001b[0mdata\u001b[0m\u001b[0;34m.\u001b[0m\u001b[0mtell\u001b[0m\u001b[0;34m(\u001b[0m\u001b[0;34m)\u001b[0m  \u001b[0;31m# *after* reading the header\u001b[0m\u001b[0;34m\u001b[0m\u001b[0m\n",
      "\u001b[0;32m/Users/xavier/anaconda/lib/python2.7/site-packages/astropy/io/fits/header.pyc\u001b[0m in \u001b[0;36mfromfile\u001b[0;34m(cls, fileobj, sep, endcard, padding)\u001b[0m\n\u001b[1;32m    458\u001b[0m \u001b[0;34m\u001b[0m\u001b[0m\n\u001b[1;32m    459\u001b[0m             return cls._from_blocks(block_iter, is_binary, sep, endcard,\n\u001b[0;32m--> 460\u001b[0;31m                                     padding)[1]\n\u001b[0m\u001b[1;32m    461\u001b[0m         \u001b[0;32mfinally\u001b[0m\u001b[0;34m:\u001b[0m\u001b[0;34m\u001b[0m\u001b[0m\n\u001b[1;32m    462\u001b[0m             \u001b[0;32mif\u001b[0m \u001b[0mclose_file\u001b[0m\u001b[0;34m:\u001b[0m\u001b[0;34m\u001b[0m\u001b[0m\n",
      "\u001b[0;32m/Users/xavier/anaconda/lib/python2.7/site-packages/astropy/io/fits/header.pyc\u001b[0m in \u001b[0;36m_from_blocks\u001b[0;34m(cls, block_iter, is_binary, sep, endcard, padding)\u001b[0m\n\u001b[1;32m    504\u001b[0m         \u001b[0;32mwhile\u001b[0m \u001b[0mTrue\u001b[0m\u001b[0;34m:\u001b[0m\u001b[0;34m\u001b[0m\u001b[0m\n\u001b[1;32m    505\u001b[0m             \u001b[0;31m# find the END card\u001b[0m\u001b[0;34m\u001b[0m\u001b[0;34m\u001b[0m\u001b[0m\n\u001b[0;32m--> 506\u001b[0;31m             \u001b[0mend_found\u001b[0m\u001b[0;34m,\u001b[0m \u001b[0mblock\u001b[0m \u001b[0;34m=\u001b[0m \u001b[0mcls\u001b[0m\u001b[0;34m.\u001b[0m\u001b[0m_find_end_card\u001b[0m\u001b[0;34m(\u001b[0m\u001b[0mblock\u001b[0m\u001b[0;34m,\u001b[0m \u001b[0mclen\u001b[0m\u001b[0;34m)\u001b[0m\u001b[0;34m\u001b[0m\u001b[0m\n\u001b[0m\u001b[1;32m    507\u001b[0m \u001b[0;34m\u001b[0m\u001b[0m\n\u001b[1;32m    508\u001b[0m             \u001b[0mread_blocks\u001b[0m\u001b[0;34m.\u001b[0m\u001b[0mappend\u001b[0m\u001b[0;34m(\u001b[0m\u001b[0mdecode_ascii\u001b[0m\u001b[0;34m(\u001b[0m\u001b[0mblock\u001b[0m\u001b[0;34m)\u001b[0m\u001b[0;34m)\u001b[0m\u001b[0;34m\u001b[0m\u001b[0m\n",
      "\u001b[0;32m/Users/xavier/anaconda/lib/python2.7/site-packages/astropy/io/fits/header.pyc\u001b[0m in \u001b[0;36m_find_end_card\u001b[0;34m(cls, block, card_len)\u001b[0m\n\u001b[1;32m    571\u001b[0m         \"\"\"\n\u001b[1;32m    572\u001b[0m \u001b[0;34m\u001b[0m\u001b[0m\n\u001b[0;32m--> 573\u001b[0;31m         \u001b[0;32mfor\u001b[0m \u001b[0mmo\u001b[0m \u001b[0;32min\u001b[0m \u001b[0mHEADER_END_RE\u001b[0m\u001b[0;34m.\u001b[0m\u001b[0mfinditer\u001b[0m\u001b[0;34m(\u001b[0m\u001b[0mblock\u001b[0m\u001b[0;34m)\u001b[0m\u001b[0;34m:\u001b[0m\u001b[0;34m\u001b[0m\u001b[0m\n\u001b[0m\u001b[1;32m    574\u001b[0m             \u001b[0;31m# Ensure the END card was found, and it started on the\u001b[0m\u001b[0;34m\u001b[0m\u001b[0;34m\u001b[0m\u001b[0m\n\u001b[1;32m    575\u001b[0m             \u001b[0;31m# boundary of a new card (see ticket #142)\u001b[0m\u001b[0;34m\u001b[0m\u001b[0;34m\u001b[0m\u001b[0m\n",
      "\u001b[0;31mKeyboardInterrupt\u001b[0m: "
     ]
    }
   ],
   "source": [
    "hdu = fits.open(os.getenv('RAW_IGMSPEC')+'/BOSS/DR12_ALLQSO_SPEC_106_flux_nointerp.fits.gz')"
   ]
  },
  {
   "cell_type": "code",
   "execution_count": null,
   "metadata": {
    "collapsed": true
   },
   "outputs": [],
   "source": [
    "hdu.info()"
   ]
  },
  {
   "cell_type": "markdown",
   "metadata": {
    "collapsed": true
   },
   "source": [
    "## KG file"
   ]
  },
  {
   "cell_type": "code",
   "execution_count": 1,
   "metadata": {
    "collapsed": true
   },
   "outputs": [],
   "source": [
    "kg_file = os.getenv('RAW_IGMSPEC')+'/BOSS/BOSSLyaDR12_spectra_v1.0/6981/speclya-6981-56443-0988.fits.gz'"
   ]
  },
  {
   "cell_type": "code",
   "execution_count": 2,
   "metadata": {
    "collapsed": true
   },
   "outputs": [],
   "source": [
    "hdu = fits.open(kg_file)"
   ]
  },
  {
   "cell_type": "code",
   "execution_count": 3,
   "metadata": {
    "collapsed": false
   },
   "outputs": [
    {
     "name": "stdout",
     "output_type": "stream",
     "text": [
      "Filename: /raid/Raw_IGMspec//BOSS/BOSSLyaDR12_spectra_v1.0/6981/speclya-6981-56443-0988.fits.gz\n",
      "No.    Name         Type      Cards   Dimensions   Format\n",
      "0    PRIMARY     PrimaryHDU     121   ()              \n",
      "1    COADD       BinTableHDU     49   4573R x 12C   [E, E, E, J, J, E, E, E, J, E, E, E]   \n",
      "2    SPALL       BinTableHDU    483   1R x 232C    [27A, 14A, 4A, E, E, J, J, E, J, E, E, E, K, K, K, K, K, B, B, J, I, 5E, 5E, J, J, J, J, 6A, 6A, 16A, D, D, 6A, 21A, E, E, E, J, E, 24A, 10J, J, 10E, E, E, E, E, E, E, J, E, E, E, J, 5E, E, E, 10E, 10E, 10E, 5E, 5E, 5E, 5E, 5E, J, J, E, E, E, E, E, E, 16A, 9A, 12A, E, E, E, E, E, E, E, E, J, E, E, J, J, 6A, 21A, E, 35E, K, 19A, 19A, 19A, B, B, B, I, 3A, B, I, I, I, I, J, E, J, J, E, E, E, E, E, E, E, E, 5E, 5E, 5E, 5E, 5E, 5E, 5E, 5E, 5E, 5E, 5E, 5E, 5E, 5E, 5E, 5E, 5E, 5E, 5E, 5E, 5E, 5E, 5E, 5E, 5E, 5E, 5E, 5E, 5E, 5E, 5E, 5E, 5E, 5E, 5E, 5J, 5J, 5J, 5E, 5J, 75E, 75E, 5E, 5E, 5E, 5J, 5E, D, D, D, D, D, D, D, D, D, 5E, 5E, 5E, 5E, 5E, 5E, 5E, 5E, 5E, 5E, 5E, 5E, 5E, 5E, 5E, 5E, 5E, 5E, 5E, 5E, 5E, 5E, 5E, 5E, 5E, 5E, 5E, 5E, 5E, 5E, 5E, 5E, 5E, 5E, 5E, 5E, 5E, 5E, 5E, 5E, 5E, 5E, 40E, 40E, 5J, 5J, 5E, 5E, 5D, J, J, J, J, J, J, J, E]   \n",
      "3    SPZLINE     BinTableHDU     57   31R x 19C    [J, J, J, 13A, D, E, E, E, E, E, E, E, E, E, E, J, J, E, E]   \n",
      "4    DLA_LIST    BinTableHDU     22   1R x 2C      [E, E]   \n"
     ]
    }
   ],
   "source": [
    "hdu.info()"
   ]
  },
  {
   "cell_type": "code",
   "execution_count": 4,
   "metadata": {
    "collapsed": true
   },
   "outputs": [],
   "source": [
    "tbl1 = Table(hdu[1].data)"
   ]
  },
  {
   "cell_type": "code",
   "execution_count": 5,
   "metadata": {
    "collapsed": false
   },
   "outputs": [
    {
     "data": {
      "text/html": [
       "&lt;Table length=4573&gt;\n",
       "<table id=\"table4572506704\">\n",
       "<thead><tr><th>FLUX</th><th>LOGLAM</th><th>IVAR</th><th>AND_MASK</th><th>OR_MASK</th><th>WDISP</th><th>SKY</th><th>MODEL</th><th>MASK_COMB</th><th>DLA_CORR</th><th>NOISE_CORR</th><th>CONT</th></tr></thead>\n",
       "<thead><tr><th>float32</th><th>float32</th><th>float32</th><th>int32</th><th>int32</th><th>float32</th><th>float32</th><th>float32</th><th>int32</th><th>float32</th><th>float32</th><th>float32</th></tr></thead>\n",
       "<tr><td>-0.294479</td><td>3.558</td><td>0.0357123</td><td>0</td><td>0</td><td>1.66066</td><td>3.57509</td><td>2.86019</td><td>0</td><td>1.0</td><td>1.0</td><td>2.18591</td></tr>\n",
       "<tr><td>-1.67659</td><td>3.5581</td><td>0.0367515</td><td>0</td><td>0</td><td>1.66048</td><td>4.65237</td><td>2.72961</td><td>0</td><td>1.0</td><td>1.0</td><td>2.18358</td></tr>\n",
       "<tr><td>7.52545</td><td>3.5582</td><td>0.041008</td><td>0</td><td>0</td><td>1.66031</td><td>5.30107</td><td>2.74509</td><td>0</td><td>1.0</td><td>1.0</td><td>2.18217</td></tr>\n",
       "<tr><td>-4.92432</td><td>3.5583</td><td>0.0475623</td><td>0</td><td>0</td><td>1.66013</td><td>5.70066</td><td>2.9051</td><td>0</td><td>1.0</td><td>1.0</td><td>2.18105</td></tr>\n",
       "<tr><td>2.78489</td><td>3.5584</td><td>0.0547794</td><td>0</td><td>0</td><td>1.65995</td><td>5.82691</td><td>3.10513</td><td>0</td><td>1.0</td><td>1.0</td><td>2.17984</td></tr>\n",
       "<tr><td>0.645774</td><td>3.5585</td><td>0.0535421</td><td>0</td><td>0</td><td>1.65977</td><td>5.85475</td><td>3.20858</td><td>0</td><td>1.0</td><td>1.0</td><td>2.17859</td></tr>\n",
       "<tr><td>4.26268</td><td>3.5586</td><td>0.0609553</td><td>0</td><td>0</td><td>1.65959</td><td>5.38368</td><td>3.13573</td><td>0</td><td>1.0</td><td>1.0</td><td>2.1767</td></tr>\n",
       "<tr><td>7.56473</td><td>3.5587</td><td>0.0644704</td><td>0</td><td>0</td><td>1.65941</td><td>5.30146</td><td>3.05986</td><td>0</td><td>1.0</td><td>1.0</td><td>2.17463</td></tr>\n",
       "<tr><td>-7.90701</td><td>3.5588</td><td>0.0773656</td><td>0</td><td>0</td><td>1.65923</td><td>5.1609</td><td>3.04018</td><td>0</td><td>1.0</td><td>1.0</td><td>2.17295</td></tr>\n",
       "<tr><td>4.41622</td><td>3.5589</td><td>0.0740903</td><td>0</td><td>0</td><td>1.65905</td><td>4.86207</td><td>3.04373</td><td>0</td><td>1.0</td><td>1.0</td><td>2.17134</td></tr>\n",
       "<tr><td>...</td><td>...</td><td>...</td><td>...</td><td>...</td><td>...</td><td>...</td><td>...</td><td>...</td><td>...</td><td>...</td><td>...</td></tr>\n",
       "<tr><td>0.964626</td><td>4.0143</td><td>0.139246</td><td>0</td><td>0</td><td>0.775756</td><td>2.36489</td><td>0.91325</td><td>0</td><td>1.0</td><td>1.0</td><td>0.0</td></tr>\n",
       "<tr><td>4.70043</td><td>4.0144</td><td>0.0977304</td><td>0</td><td>0</td><td>0.776321</td><td>2.4629</td><td>0.852872</td><td>0</td><td>1.0</td><td>1.0</td><td>0.0</td></tr>\n",
       "<tr><td>2.84456</td><td>4.0145</td><td>0.11598</td><td>0</td><td>0</td><td>0.776889</td><td>5.13939</td><td>0.776967</td><td>0</td><td>1.0</td><td>1.0</td><td>0.0</td></tr>\n",
       "<tr><td>0.0538563</td><td>4.0146</td><td>0.0854379</td><td>0</td><td>0</td><td>0.777459</td><td>13.7475</td><td>0.829695</td><td>0</td><td>1.0</td><td>1.0</td><td>0.0</td></tr>\n",
       "<tr><td>7.83924</td><td>4.0147</td><td>0.0830807</td><td>0</td><td>0</td><td>0.77803</td><td>12.3927</td><td>0.772205</td><td>4</td><td>1.0</td><td>1.0</td><td>0.0</td></tr>\n",
       "<tr><td>1.2464</td><td>4.0148</td><td>0.0807676</td><td>0</td><td>8388608</td><td>0.778603</td><td>23.0938</td><td>0.81816</td><td>4</td><td>1.0</td><td>1.0</td><td>0.0</td></tr>\n",
       "<tr><td>-0.160277</td><td>4.0149</td><td>0.0367136</td><td>0</td><td>8388608</td><td>0.779175</td><td>77.228</td><td>0.960251</td><td>4</td><td>1.0</td><td>1.0</td><td>0.0</td></tr>\n",
       "<tr><td>-6.52936</td><td>4.015</td><td>0.0379142</td><td>0</td><td>8388608</td><td>0.779761</td><td>60.5575</td><td>0.944386</td><td>4</td><td>1.0</td><td>1.0</td><td>0.0</td></tr>\n",
       "<tr><td>-2.51877</td><td>4.0151</td><td>0.0815495</td><td>0</td><td>0</td><td>0.780345</td><td>18.4151</td><td>0.84692</td><td>4</td><td>1.0</td><td>1.0</td><td>0.0</td></tr>\n",
       "<tr><td>7.41593</td><td>4.0152</td><td>0.0681115</td><td>0</td><td>0</td><td>0.780924</td><td>21.2173</td><td>0.964207</td><td>0</td><td>1.0</td><td>1.0</td><td>0.0</td></tr>\n",
       "</table>"
      ],
      "text/plain": [
       "<Table length=4573>\n",
       "   FLUX    LOGLAM    IVAR   AND_MASK ... MASK_COMB DLA_CORR NOISE_CORR   CONT \n",
       " float32  float32  float32   int32   ...   int32   float32   float32   float32\n",
       "--------- ------- --------- -------- ... --------- -------- ---------- -------\n",
       "-0.294479   3.558 0.0357123        0 ...         0      1.0        1.0 2.18591\n",
       " -1.67659  3.5581 0.0367515        0 ...         0      1.0        1.0 2.18358\n",
       "  7.52545  3.5582  0.041008        0 ...         0      1.0        1.0 2.18217\n",
       " -4.92432  3.5583 0.0475623        0 ...         0      1.0        1.0 2.18105\n",
       "  2.78489  3.5584 0.0547794        0 ...         0      1.0        1.0 2.17984\n",
       " 0.645774  3.5585 0.0535421        0 ...         0      1.0        1.0 2.17859\n",
       "  4.26268  3.5586 0.0609553        0 ...         0      1.0        1.0  2.1767\n",
       "  7.56473  3.5587 0.0644704        0 ...         0      1.0        1.0 2.17463\n",
       " -7.90701  3.5588 0.0773656        0 ...         0      1.0        1.0 2.17295\n",
       "  4.41622  3.5589 0.0740903        0 ...         0      1.0        1.0 2.17134\n",
       "      ...     ...       ...      ... ...       ...      ...        ...     ...\n",
       " 0.964626  4.0143  0.139246        0 ...         0      1.0        1.0     0.0\n",
       "  4.70043  4.0144 0.0977304        0 ...         0      1.0        1.0     0.0\n",
       "  2.84456  4.0145   0.11598        0 ...         0      1.0        1.0     0.0\n",
       "0.0538563  4.0146 0.0854379        0 ...         0      1.0        1.0     0.0\n",
       "  7.83924  4.0147 0.0830807        0 ...         4      1.0        1.0     0.0\n",
       "   1.2464  4.0148 0.0807676        0 ...         4      1.0        1.0     0.0\n",
       "-0.160277  4.0149 0.0367136        0 ...         4      1.0        1.0     0.0\n",
       " -6.52936   4.015 0.0379142        0 ...         4      1.0        1.0     0.0\n",
       " -2.51877  4.0151 0.0815495        0 ...         4      1.0        1.0     0.0\n",
       "  7.41593  4.0152 0.0681115        0 ...         0      1.0        1.0     0.0"
      ]
     },
     "execution_count": 5,
     "metadata": {},
     "output_type": "execute_result"
    }
   ],
   "source": [
    "tbl1"
   ]
  },
  {
   "cell_type": "code",
   "execution_count": 8,
   "metadata": {
    "collapsed": true
   },
   "outputs": [],
   "source": [
    "%matplotlib notebook"
   ]
  },
  {
   "cell_type": "code",
   "execution_count": 10,
   "metadata": {
    "collapsed": false
   },
   "outputs": [
    {
     "data": {
      "application/javascript": [
       "/* Put everything inside the global mpl namespace */\n",
       "window.mpl = {};\n",
       "\n",
       "mpl.get_websocket_type = function() {\n",
       "    if (typeof(WebSocket) !== 'undefined') {\n",
       "        return WebSocket;\n",
       "    } else if (typeof(MozWebSocket) !== 'undefined') {\n",
       "        return MozWebSocket;\n",
       "    } else {\n",
       "        alert('Your browser does not have WebSocket support.' +\n",
       "              'Please try Chrome, Safari or Firefox ≥ 6. ' +\n",
       "              'Firefox 4 and 5 are also supported but you ' +\n",
       "              'have to enable WebSockets in about:config.');\n",
       "    };\n",
       "}\n",
       "\n",
       "mpl.figure = function(figure_id, websocket, ondownload, parent_element) {\n",
       "    this.id = figure_id;\n",
       "\n",
       "    this.ws = websocket;\n",
       "\n",
       "    this.supports_binary = (this.ws.binaryType != undefined);\n",
       "\n",
       "    if (!this.supports_binary) {\n",
       "        var warnings = document.getElementById(\"mpl-warnings\");\n",
       "        if (warnings) {\n",
       "            warnings.style.display = 'block';\n",
       "            warnings.textContent = (\n",
       "                \"This browser does not support binary websocket messages. \" +\n",
       "                    \"Performance may be slow.\");\n",
       "        }\n",
       "    }\n",
       "\n",
       "    this.imageObj = new Image();\n",
       "\n",
       "    this.context = undefined;\n",
       "    this.message = undefined;\n",
       "    this.canvas = undefined;\n",
       "    this.rubberband_canvas = undefined;\n",
       "    this.rubberband_context = undefined;\n",
       "    this.format_dropdown = undefined;\n",
       "\n",
       "    this.image_mode = 'full';\n",
       "\n",
       "    this.root = $('<div/>');\n",
       "    this._root_extra_style(this.root)\n",
       "    this.root.attr('style', 'display: inline-block');\n",
       "\n",
       "    $(parent_element).append(this.root);\n",
       "\n",
       "    this._init_header(this);\n",
       "    this._init_canvas(this);\n",
       "    this._init_toolbar(this);\n",
       "\n",
       "    var fig = this;\n",
       "\n",
       "    this.waiting = false;\n",
       "\n",
       "    this.ws.onopen =  function () {\n",
       "            fig.send_message(\"supports_binary\", {value: fig.supports_binary});\n",
       "            fig.send_message(\"send_image_mode\", {});\n",
       "            fig.send_message(\"refresh\", {});\n",
       "        }\n",
       "\n",
       "    this.imageObj.onload = function() {\n",
       "            if (fig.image_mode == 'full') {\n",
       "                // Full images could contain transparency (where diff images\n",
       "                // almost always do), so we need to clear the canvas so that\n",
       "                // there is no ghosting.\n",
       "                fig.context.clearRect(0, 0, fig.canvas.width, fig.canvas.height);\n",
       "            }\n",
       "            fig.context.drawImage(fig.imageObj, 0, 0);\n",
       "        };\n",
       "\n",
       "    this.imageObj.onunload = function() {\n",
       "        this.ws.close();\n",
       "    }\n",
       "\n",
       "    this.ws.onmessage = this._make_on_message_function(this);\n",
       "\n",
       "    this.ondownload = ondownload;\n",
       "}\n",
       "\n",
       "mpl.figure.prototype._init_header = function() {\n",
       "    var titlebar = $(\n",
       "        '<div class=\"ui-dialog-titlebar ui-widget-header ui-corner-all ' +\n",
       "        'ui-helper-clearfix\"/>');\n",
       "    var titletext = $(\n",
       "        '<div class=\"ui-dialog-title\" style=\"width: 100%; ' +\n",
       "        'text-align: center; padding: 3px;\"/>');\n",
       "    titlebar.append(titletext)\n",
       "    this.root.append(titlebar);\n",
       "    this.header = titletext[0];\n",
       "}\n",
       "\n",
       "\n",
       "\n",
       "mpl.figure.prototype._canvas_extra_style = function(canvas_div) {\n",
       "\n",
       "}\n",
       "\n",
       "\n",
       "mpl.figure.prototype._root_extra_style = function(canvas_div) {\n",
       "\n",
       "}\n",
       "\n",
       "mpl.figure.prototype._init_canvas = function() {\n",
       "    var fig = this;\n",
       "\n",
       "    var canvas_div = $('<div/>');\n",
       "\n",
       "    canvas_div.attr('style', 'position: relative; clear: both; outline: 0');\n",
       "\n",
       "    function canvas_keyboard_event(event) {\n",
       "        return fig.key_event(event, event['data']);\n",
       "    }\n",
       "\n",
       "    canvas_div.keydown('key_press', canvas_keyboard_event);\n",
       "    canvas_div.keyup('key_release', canvas_keyboard_event);\n",
       "    this.canvas_div = canvas_div\n",
       "    this._canvas_extra_style(canvas_div)\n",
       "    this.root.append(canvas_div);\n",
       "\n",
       "    var canvas = $('<canvas/>');\n",
       "    canvas.addClass('mpl-canvas');\n",
       "    canvas.attr('style', \"left: 0; top: 0; z-index: 0; outline: 0\")\n",
       "\n",
       "    this.canvas = canvas[0];\n",
       "    this.context = canvas[0].getContext(\"2d\");\n",
       "\n",
       "    var rubberband = $('<canvas/>');\n",
       "    rubberband.attr('style', \"position: absolute; left: 0; top: 0; z-index: 1;\")\n",
       "\n",
       "    var pass_mouse_events = true;\n",
       "\n",
       "    canvas_div.resizable({\n",
       "        start: function(event, ui) {\n",
       "            pass_mouse_events = false;\n",
       "        },\n",
       "        resize: function(event, ui) {\n",
       "            fig.request_resize(ui.size.width, ui.size.height);\n",
       "        },\n",
       "        stop: function(event, ui) {\n",
       "            pass_mouse_events = true;\n",
       "            fig.request_resize(ui.size.width, ui.size.height);\n",
       "        },\n",
       "    });\n",
       "\n",
       "    function mouse_event_fn(event) {\n",
       "        if (pass_mouse_events)\n",
       "            return fig.mouse_event(event, event['data']);\n",
       "    }\n",
       "\n",
       "    rubberband.mousedown('button_press', mouse_event_fn);\n",
       "    rubberband.mouseup('button_release', mouse_event_fn);\n",
       "    // Throttle sequential mouse events to 1 every 20ms.\n",
       "    rubberband.mousemove('motion_notify', mouse_event_fn);\n",
       "\n",
       "    rubberband.mouseenter('figure_enter', mouse_event_fn);\n",
       "    rubberband.mouseleave('figure_leave', mouse_event_fn);\n",
       "\n",
       "    canvas_div.on(\"wheel\", function (event) {\n",
       "        event = event.originalEvent;\n",
       "        event['data'] = 'scroll'\n",
       "        if (event.deltaY < 0) {\n",
       "            event.step = 1;\n",
       "        } else {\n",
       "            event.step = -1;\n",
       "        }\n",
       "        mouse_event_fn(event);\n",
       "    });\n",
       "\n",
       "    canvas_div.append(canvas);\n",
       "    canvas_div.append(rubberband);\n",
       "\n",
       "    this.rubberband = rubberband;\n",
       "    this.rubberband_canvas = rubberband[0];\n",
       "    this.rubberband_context = rubberband[0].getContext(\"2d\");\n",
       "    this.rubberband_context.strokeStyle = \"#000000\";\n",
       "\n",
       "    this._resize_canvas = function(width, height) {\n",
       "        // Keep the size of the canvas, canvas container, and rubber band\n",
       "        // canvas in synch.\n",
       "        canvas_div.css('width', width)\n",
       "        canvas_div.css('height', height)\n",
       "\n",
       "        canvas.attr('width', width);\n",
       "        canvas.attr('height', height);\n",
       "\n",
       "        rubberband.attr('width', width);\n",
       "        rubberband.attr('height', height);\n",
       "    }\n",
       "\n",
       "    // Set the figure to an initial 600x600px, this will subsequently be updated\n",
       "    // upon first draw.\n",
       "    this._resize_canvas(600, 600);\n",
       "\n",
       "    // Disable right mouse context menu.\n",
       "    $(this.rubberband_canvas).bind(\"contextmenu\",function(e){\n",
       "        return false;\n",
       "    });\n",
       "\n",
       "    function set_focus () {\n",
       "        canvas.focus();\n",
       "        canvas_div.focus();\n",
       "    }\n",
       "\n",
       "    window.setTimeout(set_focus, 100);\n",
       "}\n",
       "\n",
       "mpl.figure.prototype._init_toolbar = function() {\n",
       "    var fig = this;\n",
       "\n",
       "    var nav_element = $('<div/>')\n",
       "    nav_element.attr('style', 'width: 100%');\n",
       "    this.root.append(nav_element);\n",
       "\n",
       "    // Define a callback function for later on.\n",
       "    function toolbar_event(event) {\n",
       "        return fig.toolbar_button_onclick(event['data']);\n",
       "    }\n",
       "    function toolbar_mouse_event(event) {\n",
       "        return fig.toolbar_button_onmouseover(event['data']);\n",
       "    }\n",
       "\n",
       "    for(var toolbar_ind in mpl.toolbar_items) {\n",
       "        var name = mpl.toolbar_items[toolbar_ind][0];\n",
       "        var tooltip = mpl.toolbar_items[toolbar_ind][1];\n",
       "        var image = mpl.toolbar_items[toolbar_ind][2];\n",
       "        var method_name = mpl.toolbar_items[toolbar_ind][3];\n",
       "\n",
       "        if (!name) {\n",
       "            // put a spacer in here.\n",
       "            continue;\n",
       "        }\n",
       "        var button = $('<button/>');\n",
       "        button.addClass('ui-button ui-widget ui-state-default ui-corner-all ' +\n",
       "                        'ui-button-icon-only');\n",
       "        button.attr('role', 'button');\n",
       "        button.attr('aria-disabled', 'false');\n",
       "        button.click(method_name, toolbar_event);\n",
       "        button.mouseover(tooltip, toolbar_mouse_event);\n",
       "\n",
       "        var icon_img = $('<span/>');\n",
       "        icon_img.addClass('ui-button-icon-primary ui-icon');\n",
       "        icon_img.addClass(image);\n",
       "        icon_img.addClass('ui-corner-all');\n",
       "\n",
       "        var tooltip_span = $('<span/>');\n",
       "        tooltip_span.addClass('ui-button-text');\n",
       "        tooltip_span.html(tooltip);\n",
       "\n",
       "        button.append(icon_img);\n",
       "        button.append(tooltip_span);\n",
       "\n",
       "        nav_element.append(button);\n",
       "    }\n",
       "\n",
       "    var fmt_picker_span = $('<span/>');\n",
       "\n",
       "    var fmt_picker = $('<select/>');\n",
       "    fmt_picker.addClass('mpl-toolbar-option ui-widget ui-widget-content');\n",
       "    fmt_picker_span.append(fmt_picker);\n",
       "    nav_element.append(fmt_picker_span);\n",
       "    this.format_dropdown = fmt_picker[0];\n",
       "\n",
       "    for (var ind in mpl.extensions) {\n",
       "        var fmt = mpl.extensions[ind];\n",
       "        var option = $(\n",
       "            '<option/>', {selected: fmt === mpl.default_extension}).html(fmt);\n",
       "        fmt_picker.append(option)\n",
       "    }\n",
       "\n",
       "    // Add hover states to the ui-buttons\n",
       "    $( \".ui-button\" ).hover(\n",
       "        function() { $(this).addClass(\"ui-state-hover\");},\n",
       "        function() { $(this).removeClass(\"ui-state-hover\");}\n",
       "    );\n",
       "\n",
       "    var status_bar = $('<span class=\"mpl-message\"/>');\n",
       "    nav_element.append(status_bar);\n",
       "    this.message = status_bar[0];\n",
       "}\n",
       "\n",
       "mpl.figure.prototype.request_resize = function(x_pixels, y_pixels) {\n",
       "    // Request matplotlib to resize the figure. Matplotlib will then trigger a resize in the client,\n",
       "    // which will in turn request a refresh of the image.\n",
       "    this.send_message('resize', {'width': x_pixels, 'height': y_pixels});\n",
       "}\n",
       "\n",
       "mpl.figure.prototype.send_message = function(type, properties) {\n",
       "    properties['type'] = type;\n",
       "    properties['figure_id'] = this.id;\n",
       "    this.ws.send(JSON.stringify(properties));\n",
       "}\n",
       "\n",
       "mpl.figure.prototype.send_draw_message = function() {\n",
       "    if (!this.waiting) {\n",
       "        this.waiting = true;\n",
       "        this.ws.send(JSON.stringify({type: \"draw\", figure_id: this.id}));\n",
       "    }\n",
       "}\n",
       "\n",
       "\n",
       "mpl.figure.prototype.handle_save = function(fig, msg) {\n",
       "    var format_dropdown = fig.format_dropdown;\n",
       "    var format = format_dropdown.options[format_dropdown.selectedIndex].value;\n",
       "    fig.ondownload(fig, format);\n",
       "}\n",
       "\n",
       "\n",
       "mpl.figure.prototype.handle_resize = function(fig, msg) {\n",
       "    var size = msg['size'];\n",
       "    if (size[0] != fig.canvas.width || size[1] != fig.canvas.height) {\n",
       "        fig._resize_canvas(size[0], size[1]);\n",
       "        fig.send_message(\"refresh\", {});\n",
       "    };\n",
       "}\n",
       "\n",
       "mpl.figure.prototype.handle_rubberband = function(fig, msg) {\n",
       "    var x0 = msg['x0'];\n",
       "    var y0 = fig.canvas.height - msg['y0'];\n",
       "    var x1 = msg['x1'];\n",
       "    var y1 = fig.canvas.height - msg['y1'];\n",
       "    x0 = Math.floor(x0) + 0.5;\n",
       "    y0 = Math.floor(y0) + 0.5;\n",
       "    x1 = Math.floor(x1) + 0.5;\n",
       "    y1 = Math.floor(y1) + 0.5;\n",
       "    var min_x = Math.min(x0, x1);\n",
       "    var min_y = Math.min(y0, y1);\n",
       "    var width = Math.abs(x1 - x0);\n",
       "    var height = Math.abs(y1 - y0);\n",
       "\n",
       "    fig.rubberband_context.clearRect(\n",
       "        0, 0, fig.canvas.width, fig.canvas.height);\n",
       "\n",
       "    fig.rubberband_context.strokeRect(min_x, min_y, width, height);\n",
       "}\n",
       "\n",
       "mpl.figure.prototype.handle_figure_label = function(fig, msg) {\n",
       "    // Updates the figure title.\n",
       "    fig.header.textContent = msg['label'];\n",
       "}\n",
       "\n",
       "mpl.figure.prototype.handle_cursor = function(fig, msg) {\n",
       "    var cursor = msg['cursor'];\n",
       "    switch(cursor)\n",
       "    {\n",
       "    case 0:\n",
       "        cursor = 'pointer';\n",
       "        break;\n",
       "    case 1:\n",
       "        cursor = 'default';\n",
       "        break;\n",
       "    case 2:\n",
       "        cursor = 'crosshair';\n",
       "        break;\n",
       "    case 3:\n",
       "        cursor = 'move';\n",
       "        break;\n",
       "    }\n",
       "    fig.rubberband_canvas.style.cursor = cursor;\n",
       "}\n",
       "\n",
       "mpl.figure.prototype.handle_message = function(fig, msg) {\n",
       "    fig.message.textContent = msg['message'];\n",
       "}\n",
       "\n",
       "mpl.figure.prototype.handle_draw = function(fig, msg) {\n",
       "    // Request the server to send over a new figure.\n",
       "    fig.send_draw_message();\n",
       "}\n",
       "\n",
       "mpl.figure.prototype.handle_image_mode = function(fig, msg) {\n",
       "    fig.image_mode = msg['mode'];\n",
       "}\n",
       "\n",
       "mpl.figure.prototype.updated_canvas_event = function() {\n",
       "    // Called whenever the canvas gets updated.\n",
       "    this.send_message(\"ack\", {});\n",
       "}\n",
       "\n",
       "// A function to construct a web socket function for onmessage handling.\n",
       "// Called in the figure constructor.\n",
       "mpl.figure.prototype._make_on_message_function = function(fig) {\n",
       "    return function socket_on_message(evt) {\n",
       "        if (evt.data instanceof Blob) {\n",
       "            /* FIXME: We get \"Resource interpreted as Image but\n",
       "             * transferred with MIME type text/plain:\" errors on\n",
       "             * Chrome.  But how to set the MIME type?  It doesn't seem\n",
       "             * to be part of the websocket stream */\n",
       "            evt.data.type = \"image/png\";\n",
       "\n",
       "            /* Free the memory for the previous frames */\n",
       "            if (fig.imageObj.src) {\n",
       "                (window.URL || window.webkitURL).revokeObjectURL(\n",
       "                    fig.imageObj.src);\n",
       "            }\n",
       "\n",
       "            fig.imageObj.src = (window.URL || window.webkitURL).createObjectURL(\n",
       "                evt.data);\n",
       "            fig.updated_canvas_event();\n",
       "            fig.waiting = false;\n",
       "            return;\n",
       "        }\n",
       "        else if (typeof evt.data === 'string' && evt.data.slice(0, 21) == \"data:image/png;base64\") {\n",
       "            fig.imageObj.src = evt.data;\n",
       "            fig.updated_canvas_event();\n",
       "            fig.waiting = false;\n",
       "            return;\n",
       "        }\n",
       "\n",
       "        var msg = JSON.parse(evt.data);\n",
       "        var msg_type = msg['type'];\n",
       "\n",
       "        // Call the  \"handle_{type}\" callback, which takes\n",
       "        // the figure and JSON message as its only arguments.\n",
       "        try {\n",
       "            var callback = fig[\"handle_\" + msg_type];\n",
       "        } catch (e) {\n",
       "            console.log(\"No handler for the '\" + msg_type + \"' message type: \", msg);\n",
       "            return;\n",
       "        }\n",
       "\n",
       "        if (callback) {\n",
       "            try {\n",
       "                // console.log(\"Handling '\" + msg_type + \"' message: \", msg);\n",
       "                callback(fig, msg);\n",
       "            } catch (e) {\n",
       "                console.log(\"Exception inside the 'handler_\" + msg_type + \"' callback:\", e, e.stack, msg);\n",
       "            }\n",
       "        }\n",
       "    };\n",
       "}\n",
       "\n",
       "// from http://stackoverflow.com/questions/1114465/getting-mouse-location-in-canvas\n",
       "mpl.findpos = function(e) {\n",
       "    //this section is from http://www.quirksmode.org/js/events_properties.html\n",
       "    var targ;\n",
       "    if (!e)\n",
       "        e = window.event;\n",
       "    if (e.target)\n",
       "        targ = e.target;\n",
       "    else if (e.srcElement)\n",
       "        targ = e.srcElement;\n",
       "    if (targ.nodeType == 3) // defeat Safari bug\n",
       "        targ = targ.parentNode;\n",
       "\n",
       "    // jQuery normalizes the pageX and pageY\n",
       "    // pageX,Y are the mouse positions relative to the document\n",
       "    // offset() returns the position of the element relative to the document\n",
       "    var x = e.pageX - $(targ).offset().left;\n",
       "    var y = e.pageY - $(targ).offset().top;\n",
       "\n",
       "    return {\"x\": x, \"y\": y};\n",
       "};\n",
       "\n",
       "/*\n",
       " * return a copy of an object with only non-object keys\n",
       " * we need this to avoid circular references\n",
       " * http://stackoverflow.com/a/24161582/3208463\n",
       " */\n",
       "function simpleKeys (original) {\n",
       "  return Object.keys(original).reduce(function (obj, key) {\n",
       "    if (typeof original[key] !== 'object')\n",
       "        obj[key] = original[key]\n",
       "    return obj;\n",
       "  }, {});\n",
       "}\n",
       "\n",
       "mpl.figure.prototype.mouse_event = function(event, name) {\n",
       "    var canvas_pos = mpl.findpos(event)\n",
       "\n",
       "    if (name === 'button_press')\n",
       "    {\n",
       "        this.canvas.focus();\n",
       "        this.canvas_div.focus();\n",
       "    }\n",
       "\n",
       "    var x = canvas_pos.x;\n",
       "    var y = canvas_pos.y;\n",
       "\n",
       "    this.send_message(name, {x: x, y: y, button: event.button,\n",
       "                             step: event.step,\n",
       "                             guiEvent: simpleKeys(event)});\n",
       "\n",
       "    /* This prevents the web browser from automatically changing to\n",
       "     * the text insertion cursor when the button is pressed.  We want\n",
       "     * to control all of the cursor setting manually through the\n",
       "     * 'cursor' event from matplotlib */\n",
       "    event.preventDefault();\n",
       "    return false;\n",
       "}\n",
       "\n",
       "mpl.figure.prototype._key_event_extra = function(event, name) {\n",
       "    // Handle any extra behaviour associated with a key event\n",
       "}\n",
       "\n",
       "mpl.figure.prototype.key_event = function(event, name) {\n",
       "\n",
       "    // Prevent repeat events\n",
       "    if (name == 'key_press')\n",
       "    {\n",
       "        if (event.which === this._key)\n",
       "            return;\n",
       "        else\n",
       "            this._key = event.which;\n",
       "    }\n",
       "    if (name == 'key_release')\n",
       "        this._key = null;\n",
       "\n",
       "    var value = '';\n",
       "    if (event.ctrlKey && event.which != 17)\n",
       "        value += \"ctrl+\";\n",
       "    if (event.altKey && event.which != 18)\n",
       "        value += \"alt+\";\n",
       "    if (event.shiftKey && event.which != 16)\n",
       "        value += \"shift+\";\n",
       "\n",
       "    value += 'k';\n",
       "    value += event.which.toString();\n",
       "\n",
       "    this._key_event_extra(event, name);\n",
       "\n",
       "    this.send_message(name, {key: value,\n",
       "                             guiEvent: simpleKeys(event)});\n",
       "    return false;\n",
       "}\n",
       "\n",
       "mpl.figure.prototype.toolbar_button_onclick = function(name) {\n",
       "    if (name == 'download') {\n",
       "        this.handle_save(this, null);\n",
       "    } else {\n",
       "        this.send_message(\"toolbar_button\", {name: name});\n",
       "    }\n",
       "};\n",
       "\n",
       "mpl.figure.prototype.toolbar_button_onmouseover = function(tooltip) {\n",
       "    this.message.textContent = tooltip;\n",
       "};\n",
       "mpl.toolbar_items = [[\"Home\", \"Reset original view\", \"fa fa-home icon-home\", \"home\"], [\"Back\", \"Back to  previous view\", \"fa fa-arrow-left icon-arrow-left\", \"back\"], [\"Forward\", \"Forward to next view\", \"fa fa-arrow-right icon-arrow-right\", \"forward\"], [\"\", \"\", \"\", \"\"], [\"Pan\", \"Pan axes with left mouse, zoom with right\", \"fa fa-arrows icon-move\", \"pan\"], [\"Zoom\", \"Zoom to rectangle\", \"fa fa-square-o icon-check-empty\", \"zoom\"], [\"\", \"\", \"\", \"\"], [\"Download\", \"Download plot\", \"fa fa-floppy-o icon-save\", \"download\"]];\n",
       "\n",
       "mpl.extensions = [\"eps\", \"jpeg\", \"pdf\", \"png\", \"ps\", \"raw\", \"svg\", \"tif\"];\n",
       "\n",
       "mpl.default_extension = \"png\";var comm_websocket_adapter = function(comm) {\n",
       "    // Create a \"websocket\"-like object which calls the given IPython comm\n",
       "    // object with the appropriate methods. Currently this is a non binary\n",
       "    // socket, so there is still some room for performance tuning.\n",
       "    var ws = {};\n",
       "\n",
       "    ws.close = function() {\n",
       "        comm.close()\n",
       "    };\n",
       "    ws.send = function(m) {\n",
       "        //console.log('sending', m);\n",
       "        comm.send(m);\n",
       "    };\n",
       "    // Register the callback with on_msg.\n",
       "    comm.on_msg(function(msg) {\n",
       "        //console.log('receiving', msg['content']['data'], msg);\n",
       "        // Pass the mpl event to the overriden (by mpl) onmessage function.\n",
       "        ws.onmessage(msg['content']['data'])\n",
       "    });\n",
       "    return ws;\n",
       "}\n",
       "\n",
       "mpl.mpl_figure_comm = function(comm, msg) {\n",
       "    // This is the function which gets called when the mpl process\n",
       "    // starts-up an IPython Comm through the \"matplotlib\" channel.\n",
       "\n",
       "    var id = msg.content.data.id;\n",
       "    // Get hold of the div created by the display call when the Comm\n",
       "    // socket was opened in Python.\n",
       "    var element = $(\"#\" + id);\n",
       "    var ws_proxy = comm_websocket_adapter(comm)\n",
       "\n",
       "    function ondownload(figure, format) {\n",
       "        window.open(figure.imageObj.src);\n",
       "    }\n",
       "\n",
       "    var fig = new mpl.figure(id, ws_proxy,\n",
       "                           ondownload,\n",
       "                           element.get(0));\n",
       "\n",
       "    // Call onopen now - mpl needs it, as it is assuming we've passed it a real\n",
       "    // web socket which is closed, not our websocket->open comm proxy.\n",
       "    ws_proxy.onopen();\n",
       "\n",
       "    fig.parent_element = element.get(0);\n",
       "    fig.cell_info = mpl.find_output_cell(\"<div id='\" + id + \"'></div>\");\n",
       "    if (!fig.cell_info) {\n",
       "        console.error(\"Failed to find cell for figure\", id, fig);\n",
       "        return;\n",
       "    }\n",
       "\n",
       "    var output_index = fig.cell_info[2]\n",
       "    var cell = fig.cell_info[0];\n",
       "\n",
       "};\n",
       "\n",
       "mpl.figure.prototype.handle_close = function(fig, msg) {\n",
       "    fig.root.unbind('remove')\n",
       "\n",
       "    // Update the output cell to use the data from the current canvas.\n",
       "    fig.push_to_output();\n",
       "    var dataURL = fig.canvas.toDataURL();\n",
       "    // Re-enable the keyboard manager in IPython - without this line, in FF,\n",
       "    // the notebook keyboard shortcuts fail.\n",
       "    IPython.keyboard_manager.enable()\n",
       "    $(fig.parent_element).html('<img src=\"' + dataURL + '\">');\n",
       "    fig.close_ws(fig, msg);\n",
       "}\n",
       "\n",
       "mpl.figure.prototype.close_ws = function(fig, msg){\n",
       "    fig.send_message('closing', msg);\n",
       "    // fig.ws.close()\n",
       "}\n",
       "\n",
       "mpl.figure.prototype.push_to_output = function(remove_interactive) {\n",
       "    // Turn the data on the canvas into data in the output cell.\n",
       "    var dataURL = this.canvas.toDataURL();\n",
       "    this.cell_info[1]['text/html'] = '<img src=\"' + dataURL + '\">';\n",
       "}\n",
       "\n",
       "mpl.figure.prototype.updated_canvas_event = function() {\n",
       "    // Tell IPython that the notebook contents must change.\n",
       "    IPython.notebook.set_dirty(true);\n",
       "    this.send_message(\"ack\", {});\n",
       "    var fig = this;\n",
       "    // Wait a second, then push the new image to the DOM so\n",
       "    // that it is saved nicely (might be nice to debounce this).\n",
       "    setTimeout(function () { fig.push_to_output() }, 1000);\n",
       "}\n",
       "\n",
       "mpl.figure.prototype._init_toolbar = function() {\n",
       "    var fig = this;\n",
       "\n",
       "    var nav_element = $('<div/>')\n",
       "    nav_element.attr('style', 'width: 100%');\n",
       "    this.root.append(nav_element);\n",
       "\n",
       "    // Define a callback function for later on.\n",
       "    function toolbar_event(event) {\n",
       "        return fig.toolbar_button_onclick(event['data']);\n",
       "    }\n",
       "    function toolbar_mouse_event(event) {\n",
       "        return fig.toolbar_button_onmouseover(event['data']);\n",
       "    }\n",
       "\n",
       "    for(var toolbar_ind in mpl.toolbar_items){\n",
       "        var name = mpl.toolbar_items[toolbar_ind][0];\n",
       "        var tooltip = mpl.toolbar_items[toolbar_ind][1];\n",
       "        var image = mpl.toolbar_items[toolbar_ind][2];\n",
       "        var method_name = mpl.toolbar_items[toolbar_ind][3];\n",
       "\n",
       "        if (!name) { continue; };\n",
       "\n",
       "        var button = $('<button class=\"btn btn-default\" href=\"#\" title=\"' + name + '\"><i class=\"fa ' + image + ' fa-lg\"></i></button>');\n",
       "        button.click(method_name, toolbar_event);\n",
       "        button.mouseover(tooltip, toolbar_mouse_event);\n",
       "        nav_element.append(button);\n",
       "    }\n",
       "\n",
       "    // Add the status bar.\n",
       "    var status_bar = $('<span class=\"mpl-message\" style=\"text-align:right; float: right;\"/>');\n",
       "    nav_element.append(status_bar);\n",
       "    this.message = status_bar[0];\n",
       "\n",
       "    // Add the close button to the window.\n",
       "    var buttongrp = $('<div class=\"btn-group inline pull-right\"></div>');\n",
       "    var button = $('<button class=\"btn btn-mini btn-primary\" href=\"#\" title=\"Stop Interaction\"><i class=\"fa fa-power-off icon-remove icon-large\"></i></button>');\n",
       "    button.click(function (evt) { fig.handle_close(fig, {}); } );\n",
       "    button.mouseover('Stop Interaction', toolbar_mouse_event);\n",
       "    buttongrp.append(button);\n",
       "    var titlebar = this.root.find($('.ui-dialog-titlebar'));\n",
       "    titlebar.prepend(buttongrp);\n",
       "}\n",
       "\n",
       "mpl.figure.prototype._root_extra_style = function(el){\n",
       "    var fig = this\n",
       "    el.on(\"remove\", function(){\n",
       "\tfig.close_ws(fig, {});\n",
       "    });\n",
       "}\n",
       "\n",
       "mpl.figure.prototype._canvas_extra_style = function(el){\n",
       "    // this is important to make the div 'focusable\n",
       "    el.attr('tabindex', 0)\n",
       "    // reach out to IPython and tell the keyboard manager to turn it's self\n",
       "    // off when our div gets focus\n",
       "\n",
       "    // location in version 3\n",
       "    if (IPython.notebook.keyboard_manager) {\n",
       "        IPython.notebook.keyboard_manager.register_events(el);\n",
       "    }\n",
       "    else {\n",
       "        // location in version 2\n",
       "        IPython.keyboard_manager.register_events(el);\n",
       "    }\n",
       "\n",
       "}\n",
       "\n",
       "mpl.figure.prototype._key_event_extra = function(event, name) {\n",
       "    var manager = IPython.notebook.keyboard_manager;\n",
       "    if (!manager)\n",
       "        manager = IPython.keyboard_manager;\n",
       "\n",
       "    // Check for shift+enter\n",
       "    if (event.shiftKey && event.which == 13) {\n",
       "        this.canvas_div.blur();\n",
       "        event.shiftKey = false;\n",
       "        // Send a \"J\" for go to next cell\n",
       "        event.which = 74;\n",
       "        event.keyCode = 74;\n",
       "        manager.command_mode();\n",
       "        manager.handle_keydown(event);\n",
       "    }\n",
       "}\n",
       "\n",
       "mpl.figure.prototype.handle_save = function(fig, msg) {\n",
       "    fig.ondownload(fig, null);\n",
       "}\n",
       "\n",
       "\n",
       "mpl.find_output_cell = function(html_output) {\n",
       "    // Return the cell and output element which can be found *uniquely* in the notebook.\n",
       "    // Note - this is a bit hacky, but it is done because the \"notebook_saving.Notebook\"\n",
       "    // IPython event is triggered only after the cells have been serialised, which for\n",
       "    // our purposes (turning an active figure into a static one), is too late.\n",
       "    var cells = IPython.notebook.get_cells();\n",
       "    var ncells = cells.length;\n",
       "    for (var i=0; i<ncells; i++) {\n",
       "        var cell = cells[i];\n",
       "        if (cell.cell_type === 'code'){\n",
       "            for (var j=0; j<cell.output_area.outputs.length; j++) {\n",
       "                var data = cell.output_area.outputs[j];\n",
       "                if (data.data) {\n",
       "                    // IPython >= 3 moved mimebundle to data attribute of output\n",
       "                    data = data.data;\n",
       "                }\n",
       "                if (data['text/html'] == html_output) {\n",
       "                    return [cell, data, j];\n",
       "                }\n",
       "            }\n",
       "        }\n",
       "    }\n",
       "}\n",
       "\n",
       "// Register the function which deals with the matplotlib target/channel.\n",
       "// The kernel may be null if the page has been refreshed.\n",
       "if (IPython.notebook.kernel != null) {\n",
       "    IPython.notebook.kernel.comm_manager.register_target('matplotlib', mpl.mpl_figure_comm);\n",
       "}\n"
      ],
      "text/plain": [
       "<IPython.core.display.Javascript object>"
      ]
     },
     "metadata": {},
     "output_type": "display_data"
    },
    {
     "data": {
      "text/html": [
       "<img src=\"data:image/png;base64,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\">"
      ],
      "text/plain": [
       "<IPython.core.display.HTML object>"
      ]
     },
     "metadata": {},
     "output_type": "display_data"
    }
   ],
   "source": [
    "xdb.xplot(10**tbl1['LOGLAM'], tbl1['FLUX'], tbl1['CONT'])"
   ]
  },
  {
   "cell_type": "code",
   "execution_count": 11,
   "metadata": {
    "collapsed": true
   },
   "outputs": [],
   "source": [
    "tmp= hdu[1].data"
   ]
  },
  {
   "cell_type": "code",
   "execution_count": 12,
   "metadata": {
    "collapsed": false
   },
   "outputs": [
    {
     "data": {
      "text/plain": [
       "array([-0.29447865, -1.67659271,  7.52545166, ..., -6.52935886,\n",
       "       -2.51877236,  7.41593266], dtype=float32)"
      ]
     },
     "execution_count": 12,
     "metadata": {},
     "output_type": "execute_result"
    }
   ],
   "source": [
    "tmp['FLUX']"
   ]
  },
  {
   "cell_type": "markdown",
   "metadata": {
    "collapsed": true
   },
   "source": [
    "## Debug"
   ]
  },
  {
   "cell_type": "code",
   "execution_count": 6,
   "metadata": {
    "collapsed": false
   },
   "outputs": [],
   "source": [
    "boss_file = dpath + 'DR12Q.fits.gz'\n",
    "boss_hdu = fits.open(boss_file)"
   ]
  },
  {
   "cell_type": "code",
   "execution_count": 8,
   "metadata": {
    "collapsed": false
   },
   "outputs": [
    {
     "data": {
      "text/html": [
       "&lt;Table length=5&gt;\n",
       "<table id=\"table4576732944\">\n",
       "<thead><tr><th>SDSS_NAME</th><th>RA</th><th>DEC</th><th>THING_ID</th><th>PLATE</th><th>MJD</th><th>FIBERID</th><th>Z_VI</th><th>Z_PIPE</th><th>ERR_ZPIPE</th><th>ZWARNING</th><th>Z_PCA</th><th>ERR_ZPCA</th><th>PCA_QUAL</th><th>Z_CIV</th><th>Z_CIII</th><th>Z_MGII</th><th>SDSS_MORPHO</th><th>BOSS_TARGET1</th><th>ANCILLARY_TARGET1</th><th>ANCILLARY_TARGET2</th><th>EBOSS_TARGET0</th><th>NSPEC_BOSS</th><th>PLATE_DUPLICATE [32]</th><th>MJD_DUPLICATE [32]</th><th>FIBERID_DUPLICATE [32]</th><th>SDSS_DR7</th><th>PLATE_DR7</th><th>MJD_DR7</th><th>FIBERID_DR7</th><th>UNIFORM</th><th>ALPHA_NU</th><th>SNR_SPEC</th><th>SNR_DUPLICATE [32]</th><th>SNR_1700</th><th>SNR_3000</th><th>SNR_5150</th><th>FWHM_CIV</th><th>BHWHM_CIV</th><th>RHWHM_CIV</th><th>AMP_CIV</th><th>REWE_CIV</th><th>ERR_REWE_CIV</th><th>FWHM_CIII</th><th>BHWHM_CIII</th><th>RHWHM_CIII</th><th>AMP_CIII</th><th>REWE_CIII</th><th>ERR_REWE_CIII</th><th>FWHM_MGII</th><th>BHWHM_MGII</th><th>RHWHM_MGII</th><th>AMP_MGII</th><th>REWE_MGII</th><th>ERR_REWE_MGII</th><th>BAL_FLAG_VI</th><th>BI_CIV</th><th>ERR_BI_CIV</th><th>AI_CIV</th><th>ERR_AI_CIV</th><th>CHI2TROUGH</th><th>NCIV_2000</th><th>VMIN_CIV_2000</th><th>VMAX_CIV_2000</th><th>NCIV_450</th><th>VMIN_CIV_450</th><th>VMAX_CIV_450</th><th>REW_SIIV</th><th>REW_CIV</th><th>REW_ALIII</th><th>RUN_NUMBER</th><th>PHOTO_MJD</th><th>RERUN_NUMBER</th><th>COL_NUMBER</th><th>FIELD_NUMBER</th><th>OBJ_ID</th><th>PSFFLUX [5]</th><th>IVAR_PSFFLUX [5]</th><th>PSFMAG [5]</th><th>ERR_PSFMAG [5]</th><th>TARGET_FLUX [5]</th><th>MI</th><th>DGMI</th><th>EXTINCTION [5]</th><th>EXTINCTION_RECAL [5]</th><th>HI_GAL</th><th>VAR_MATCHED</th><th>VAR_CHI2</th><th>VAR_A</th><th>VAR_GAMMA</th><th>RASS_COUNTS</th><th>RASS_COUNTS_SNR</th><th>SDSS2ROSAT_SEP</th><th>N_DETECTION_XMM</th><th>FLUX02_12KEV_SGL</th><th>ERR_FLUX02_12KEV_SGL</th><th>FLUX02_2KEV</th><th>ERR_FLUX02_2KEV</th><th>FLUX2_12KEV</th><th>ERR_FLUX2_12KEV</th><th>FLUX02_12KEV</th><th>ERR_FLUX02_12KEV</th><th>LUM02_2KEV_SGL</th><th>LUM05_2KEV</th><th>LUM2_12KEV</th><th>LUM02_2KEV</th><th>LUMX2_10_UPPER</th><th>SDSS2XMM_SEP</th><th>GALEX_MATCHED</th><th>FUV</th><th>FUV_IVAR</th><th>NUV</th><th>NUV_IVAR</th><th>JMAG</th><th>ERR_JMAG</th><th>JSNR</th><th>JRDFLAG</th><th>HMAG</th><th>ERR_HMAG</th><th>HSNR</th><th>HRDFLAG</th><th>KMAG</th><th>ERR_KMAG</th><th>KSNR</th><th>KRDFLAG</th><th>SDSS2MASS_SEP</th><th>W1MAG</th><th>ERR_W1MAG</th><th>W1SNR</th><th>W1CHI2</th><th>W2MAG</th><th>ERR_W2MAG</th><th>W2SNR</th><th>W2CHI2</th><th>W3MAG</th><th>ERR_W3MAG</th><th>W3SNR</th><th>W3CHI2</th><th>W4MAG</th><th>ERR_W4MAG</th><th>W4SNR</th><th>W4CHI2</th><th>CC_FLAGS</th><th>PH_FLAG</th><th>SDSS2WISE_SEP</th><th>UKIDSS_MATCHED</th><th>YFLUX</th><th>YFLUX_ERR</th><th>JFLUX</th><th>JFLUX_ERR</th><th>HFLUX</th><th>HFLUX_ERR</th><th>KFLUX</th><th>KFLUX_ERR</th><th>FIRST_MATCHED</th><th>FIRST_FLUX</th><th>FIRST_SNR</th><th>SDSS2FIRST_SEP</th></tr></thead>\n",
       "<thead><tr><th>str18</th><th>float64</th><th>float64</th><th>int32</th><th>int32</th><th>int32</th><th>int32</th><th>float64</th><th>float32</th><th>float32</th><th>int32</th><th>float64</th><th>float64</th><th>float64</th><th>float64</th><th>float64</th><th>float64</th><th>int16</th><th>int64</th><th>int64</th><th>int64</th><th>int64</th><th>int32</th><th>int32</th><th>int32</th><th>int32</th><th>int32</th><th>int32</th><th>int32</th><th>int32</th><th>int16</th><th>float64</th><th>float64</th><th>float64</th><th>float64</th><th>float64</th><th>float64</th><th>float64</th><th>float64</th><th>float64</th><th>float64</th><th>float64</th><th>float64</th><th>float64</th><th>float64</th><th>float64</th><th>float64</th><th>float64</th><th>float64</th><th>float64</th><th>float64</th><th>float64</th><th>float64</th><th>float64</th><th>float64</th><th>int16</th><th>float64</th><th>float64</th><th>float64</th><th>float64</th><th>float64</th><th>int32</th><th>float64</th><th>float64</th><th>int32</th><th>float64</th><th>float64</th><th>float64</th><th>float64</th><th>float64</th><th>int16</th><th>int32</th><th>str3</th><th>int16</th><th>int16</th><th>str19</th><th>float32</th><th>float32</th><th>float32</th><th>float32</th><th>float64</th><th>float64</th><th>float64</th><th>float32</th><th>float32</th><th>float64</th><th>int16</th><th>float64</th><th>float64</th><th>float64</th><th>float64</th><th>float64</th><th>float64</th><th>int16</th><th>float64</th><th>float64</th><th>float64</th><th>float64</th><th>float64</th><th>float64</th><th>float64</th><th>float64</th><th>float64</th><th>float64</th><th>float64</th><th>float64</th><th>int16</th><th>float64</th><th>int16</th><th>float64</th><th>float64</th><th>float64</th><th>float64</th><th>float64</th><th>float64</th><th>float64</th><th>int32</th><th>float64</th><th>float64</th><th>float64</th><th>int32</th><th>float64</th><th>float64</th><th>float64</th><th>int32</th><th>float64</th><th>float64</th><th>float64</th><th>float64</th><th>float64</th><th>float64</th><th>float64</th><th>float64</th><th>float64</th><th>float64</th><th>float64</th><th>float64</th><th>float64</th><th>float64</th><th>float64</th><th>float64</th><th>float64</th><th>str4</th><th>str4</th><th>float64</th><th>int16</th><th>float32</th><th>float32</th><th>float32</th><th>float32</th><th>float32</th><th>float32</th><th>float32</th><th>float32</th><th>int16</th><th>float64</th><th>float64</th><th>float64</th></tr></thead>\n",
       "<tr><td>000000.45+174625.4</td><td>0.00189828518376</td><td>17.7737391299</td><td>268514930</td><td>6173</td><td>56238</td><td>528</td><td>2.30909729004</td><td>2.3091</td><td>0.000943339</td><td>0</td><td>2.30763868197</td><td>-1.0</td><td>0.346182279084</td><td>2.31230791362</td><td>2.30638494927</td><td>2.3046866469</td><td>0</td><td>2199023796224</td><td>0</td><td>0</td><td>0</td><td>0</td><td>-1 .. -1</td><td>-1 .. -1</td><td>-1 .. -1</td><td>0</td><td>-1</td><td>-1</td><td>-1</td><td>0</td><td>0.537336213179</td><td>0.779484925454</td><td>-1.0 .. -1.0</td><td>0.58568293642</td><td>0.915501904005</td><td>-1.0</td><td>4278.7900341</td><td>1595.2886496</td><td>2683.5013845</td><td>2.15328741853</td><td>44.0028643812</td><td>1.40097166147</td><td>3575.00108901</td><td>1554.12165803</td><td>2020.87943097</td><td>0.706666936497</td><td>38.4285671721</td><td>15.8517240349</td><td>7996.40388327</td><td>4579.19012749</td><td>3417.21375578</td><td>0.223279535625</td><td>69.3860000703</td><td>17.8808108042</td><td>0</td><td>0.0</td><td>0.0</td><td>0.0</td><td>0.0</td><td>0.0</td><td>0</td><td>0.0</td><td>0.0</td><td>0</td><td>0.0</td><td>0.0</td><td>0.0</td><td>0.0</td><td>0.0</td><td>7713</td><td>54741</td><td>301</td><td>4</td><td>231</td><td>1237678601842131080</td><td>1.03848 .. 2.65843</td><td>12.3597 .. 0.852828</td><td>22.4398 .. 21.3627</td><td>0.287135 .. 0.386405</td><td>1.03847694397 .. 2.65843176842</td><td>-23.882931269</td><td>-0.0820910409093</td><td>0.146195 .. 0.0419442</td><td>0.113614 .. 0.0338511</td><td>21.9297126138</td><td>0</td><td>0.0</td><td>0.0</td><td>0.0</td><td>0.0</td><td>0.0</td><td>0.0</td><td>0</td><td>0.0</td><td>0.0</td><td>0.0</td><td>0.0</td><td>0.0</td><td>0.0</td><td>0.0</td><td>0.0</td><td>0.0</td><td>0.0</td><td>0.0</td><td>0.0</td><td>0</td><td>0.0</td><td>1</td><td>0.302318871021</td><td>8.78557314038</td><td>0.727564871311</td><td>4.53735896492</td><td>0.0</td><td>0.0</td><td>0.0</td><td>0</td><td>0.0</td><td>0.0</td><td>0.0</td><td>0</td><td>0.0</td><td>0.0</td><td>0.0</td><td>0</td><td>0.0</td><td>0.0</td><td>0.0</td><td>0.0</td><td>0.0</td><td>0.0</td><td>0.0</td><td>0.0</td><td>0.0</td><td>0.0</td><td>0.0</td><td>0.0</td><td>0.0</td><td>0.0</td><td>0.0</td><td>0.0</td><td>0.0</td><td></td><td></td><td>0.0</td><td>0</td><td>0.0</td><td>0.0</td><td>0.0</td><td>0.0</td><td>0.0</td><td>0.0</td><td>0.0</td><td>0.0</td><td>-1</td><td>0.0</td><td>0.0</td><td>0.0</td></tr>\n",
       "<tr><td>000000.66+145828.8</td><td>0.00275643009297</td><td>14.9746754937</td><td>245101352</td><td>6177</td><td>56268</td><td>595</td><td>2.49794077873</td><td>2.49794</td><td>0.00087528</td><td>0</td><td>2.5158747041</td><td>0.00152614617889</td><td>0.0637837702159</td><td>2.49650563784</td><td>2.48943398984</td><td>-1.0</td><td>0</td><td>2199023255552</td><td>0</td><td>0</td><td>0</td><td>1</td><td>6172 .. -1</td><td>56269 .. -1</td><td>366 .. -1</td><td>0</td><td>-1</td><td>-1</td><td>-1</td><td>0</td><td>-1.02687764161</td><td>3.50091459041</td><td>3.17286659113 .. -1.0</td><td>2.83518425232</td><td>1.00020946838</td><td>-1.0</td><td>5336.1138803</td><td>2014.51203621</td><td>3321.60184409</td><td>3.35973519002</td><td>23.5146308167</td><td>0.61035250618</td><td>9292.63026767</td><td>4320.17455664</td><td>4972.45571103</td><td>1.94089573578</td><td>24.2927232211</td><td>1.93123733219</td><td>-1.0</td><td>-1.0</td><td>-1.0</td><td>-1.0</td><td>-1.0</td><td>-1.0</td><td>0</td><td>0.0</td><td>0.0</td><td>0.0</td><td>0.0</td><td>0.0</td><td>0</td><td>0.0</td><td>0.0</td><td>0</td><td>0.0</td><td>0.0</td><td>0.0</td><td>0.0</td><td>0.0</td><td>2566</td><td>52170</td><td>301</td><td>4</td><td>309</td><td>1237656495650570598</td><td>1.65166 .. 5.42985</td><td>15.6463 .. 0.836171</td><td>21.9475 .. 20.6434</td><td>0.16385 .. 0.210973</td><td>-1.0 .. -1.0</td><td>-25.2306891586</td><td>0.348158091307</td><td>0.198727 .. 0.057016</td><td>0.113059 .. 0.0336857</td><td>21.9413001969</td><td>3</td><td>3.38717365265</td><td>0.0859531164169</td><td>0.117734603584</td><td>0.0</td><td>0.0</td><td>0.0</td><td>0</td><td>0.0</td><td>0.0</td><td>0.0</td><td>0.0</td><td>0.0</td><td>0.0</td><td>0.0</td><td>0.0</td><td>0.0</td><td>0.0</td><td>0.0</td><td>0.0</td><td>0</td><td>0.0</td><td>1</td><td>0.0463186129928</td><td>701.104283731</td><td>0.0525297634304</td><td>384.750962198</td><td>0.0</td><td>0.0</td><td>0.0</td><td>0</td><td>0.0</td><td>0.0</td><td>0.0</td><td>0</td><td>0.0</td><td>0.0</td><td>0.0</td><td>0</td><td>0.0</td><td>0.0</td><td>0.0</td><td>0.0</td><td>0.0</td><td>0.0</td><td>0.0</td><td>0.0</td><td>0.0</td><td>0.0</td><td>0.0</td><td>0.0</td><td>0.0</td><td>0.0</td><td>0.0</td><td>0.0</td><td>0.0</td><td></td><td></td><td>0.0</td><td>1</td><td>1.86038e-31</td><td>3.14768e-32</td><td>2.31095e-31</td><td>4.56533e-32</td><td>2.35531e-31</td><td>5.97048e-32</td><td>2.42715e-31</td><td>6.52172e-32</td><td>0</td><td>0.0</td><td>0.0</td><td>0.0</td></tr>\n",
       "<tr><td>000000.97+044947.2</td><td>0.00405238853989</td><td>4.82978057467</td><td>154279486</td><td>4415</td><td>55831</td><td>464</td><td>1.61884605885</td><td>1.61885</td><td>0.000585458</td><td>0</td><td>1.62861043214</td><td>0.000518233828123</td><td>0.0515782360318</td><td>-1.0</td><td>1.62392937561</td><td>1.62986379892</td><td>0</td><td>2199023910912</td><td>0</td><td>0</td><td>0</td><td>0</td><td>-1 .. -1</td><td>-1 .. -1</td><td>-1 .. -1</td><td>0</td><td>-1</td><td>-1</td><td>-1</td><td>0</td><td>-0.281249716967</td><td>7.11018367836</td><td>-1.0 .. -1.0</td><td>1.26814974223</td><td>13.8079141452</td><td>-1.0</td><td>-1.0</td><td>-1.0</td><td>-1.0</td><td>-1.0</td><td>-1.0</td><td>-1.0</td><td>5863.20521905</td><td>1992.14674007</td><td>3871.05847897</td><td>4.39195264612</td><td>26.8087449013</td><td>1.08748973709</td><td>2443.60056629</td><td>1249.45778705</td><td>1194.14277924</td><td>5.28947926376</td><td>34.7988813362</td><td>1.12838363307</td><td>0</td><td>0.0</td><td>0.0</td><td>0.0</td><td>0.0</td><td>0.0</td><td>0</td><td>0.0</td><td>0.0</td><td>0</td><td>0.0</td><td>0.0</td><td>0.0</td><td>0.0</td><td>0.0</td><td>7754</td><td>54764</td><td>301</td><td>3</td><td>314</td><td>1237678777404358776</td><td>6.64573 .. 19.9043</td><td>7.15662 .. 0.524856</td><td>20.4432 .. 19.2511</td><td>0.0610158 .. 0.0750861</td><td>-1.0 .. -1.0</td><td>-25.6002618809</td><td>0.259628534317</td><td>0.169289 .. 0.0485699</td><td>0.0706297 .. 0.0210439</td><td>21.984099559</td><td>3</td><td>3.0460691452</td><td>0.00874528381974</td><td>1.38586497307</td><td>0.0</td><td>0.0</td><td>0.0</td><td>0</td><td>0.0</td><td>0.0</td><td>0.0</td><td>0.0</td><td>0.0</td><td>0.0</td><td>0.0</td><td>0.0</td><td>0.0</td><td>0.0</td><td>0.0</td><td>0.0</td><td>0</td><td>0.0</td><td>1</td><td>0.349308043718</td><td>22.5872342774</td><td>1.57329285145</td><td>13.871135159</td><td>0.0</td><td>0.0</td><td>0.0</td><td>0</td><td>0.0</td><td>0.0</td><td>0.0</td><td>0</td><td>0.0</td><td>0.0</td><td>0.0</td><td>0</td><td>0.0</td><td>15.503</td><td>0.0439999997616</td><td>24.5</td><td>0.9052</td><td>13.987</td><td>0.0439999997616</td><td>24.5</td><td>0.913</td><td>10.764</td><td>0.112000003457</td><td>9.7</td><td>0.9418</td><td>8.056</td><td>0.204999998212</td><td>5.3</td><td>0.0</td><td>0000</td><td>AABB</td><td>0.2685124497</td><td>1</td><td>5.52544e-31</td><td>3.59559e-32</td><td>6.5975e-31</td><td>4.15465e-32</td><td>9.03816e-31</td><td>4.42033e-32</td><td>8.56743e-31</td><td>5.17877e-32</td><td>0</td><td>0.0</td><td>0.0</td><td>0.0</td></tr>\n",
       "<tr><td>000001.27-020159.7</td><td>0.00531697386447</td><td>-2.03327328857</td><td>62145359</td><td>4354</td><td>55810</td><td>678</td><td>1.36035752296</td><td>1.36036</td><td>0.000446798</td><td>0</td><td>1.3620117334</td><td>0.000387699697741</td><td>0.067487221695</td><td>-1.0</td><td>1.36947900576</td><td>1.36228359848</td><td>0</td><td>262144</td><td>0</td><td>0</td><td>0</td><td>0</td><td>-1 .. -1</td><td>-1 .. -1</td><td>-1 .. -1</td><td>0</td><td>-1</td><td>-1</td><td>-1</td><td>0</td><td>-1.39326160087</td><td>6.19811995326</td><td>-1.0 .. -1.0</td><td>4.66697206438</td><td>8.58575755825</td><td>-1.0</td><td>-1.0</td><td>-1.0</td><td>-1.0</td><td>-1.0</td><td>-1.0</td><td>-1.0</td><td>4531.63708015</td><td>1976.86675452</td><td>2554.77032563</td><td>3.89217044527</td><td>17.4573695777</td><td>0.607354358226</td><td>3824.89894905</td><td>1722.62402033</td><td>2102.27492872</td><td>7.30968073084</td><td>46.7586890329</td><td>0.689398949182</td><td>0</td><td>0.0</td><td>0.0</td><td>0.0</td><td>0.0</td><td>0.0</td><td>0</td><td>0.0</td><td>0.0</td><td>0</td><td>0.0</td><td>0.0</td><td>0.0</td><td>0.0</td><td>0.0</td><td>7907</td><td>54847</td><td>301</td><td>5</td><td>72</td><td>1237679435592237166</td><td>5.76685 .. 29.0579</td><td>10.6877 .. 1.00457</td><td>20.597 .. 18.8411</td><td>0.0575218 .. 0.0372313</td><td>5.32644176483 .. 29.2693309784</td><td>-25.652609646</td><td>0.69809705019</td><td>0.196977 .. 0.0565138</td><td>0.0771557 .. 0.0229884</td><td>22.0697143353</td><td>0</td><td>0.0</td><td>0.0</td><td>0.0</td><td>0.0</td><td>0.0</td><td>0.0</td><td>0</td><td>0.0</td><td>0.0</td><td>0.0</td><td>0.0</td><td>0.0</td><td>0.0</td><td>0.0</td><td>0.0</td><td>0.0</td><td>0.0</td><td>0.0</td><td>0.0</td><td>0</td><td>0.0</td><td>1</td><td>0.0</td><td>0.0</td><td>0.0</td><td>0.0</td><td>0.0</td><td>0.0</td><td>0.0</td><td>0</td><td>0.0</td><td>0.0</td><td>0.0</td><td>0</td><td>0.0</td><td>0.0</td><td>0.0</td><td>0</td><td>0.0</td><td>14.888</td><td>0.0340000018477</td><td>32.0</td><td>1.105</td><td>13.519</td><td>0.035000000149</td><td>31.3</td><td>0.9211</td><td>10.444</td><td>0.0879999995232</td><td>12.3</td><td>0.9571</td><td>8.145</td><td>0.259000003338</td><td>4.2</td><td>0.0</td><td>0000</td><td>AAAB</td><td>0.0921563131389</td><td>0</td><td>0.0</td><td>0.0</td><td>0.0</td><td>0.0</td><td>0.0</td><td>0.0</td><td>0.0</td><td>0.0</td><td>1</td><td>1.25999999046</td><td>7.04838902393</td><td>0.571058551544</td></tr>\n",
       "<tr><td>000001.37-011930.0</td><td>0.00574621499496</td><td>-1.32500879187</td><td>66692618</td><td>4354</td><td>55810</td><td>646</td><td>2.328</td><td>2.33265</td><td>0.000195919</td><td>0</td><td>2.33456479681</td><td>0.000783532473742</td><td>0.058201189098</td><td>2.33222960501</td><td>2.33543504867</td><td>2.32301056885</td><td>0</td><td>16492675088384</td><td>0</td><td>0</td><td>0</td><td>0</td><td>-1 .. -1</td><td>-1 .. -1</td><td>-1 .. -1</td><td>0</td><td>-1</td><td>-1</td><td>-1</td><td>1</td><td>-0.802773699467</td><td>8.25765994227</td><td>-1.0 .. -1.0</td><td>9.81237592517</td><td>1.86024098217</td><td>-1.0</td><td>3370.41645343</td><td>1261.09690868</td><td>2109.31954474</td><td>13.3699896223</td><td>38.2695338052</td><td>1.4695270759</td><td>2542.7639249</td><td>1280.2187011</td><td>1262.5452238</td><td>4.71637626275</td><td>24.20951005</td><td>1.61833256374</td><td>4449.89001366</td><td>2659.60236737</td><td>1790.28764629</td><td>0.821396719479</td><td>15.3583995907</td><td>1.55066668035</td><td>0</td><td>0.0</td><td>0.0</td><td>0.0</td><td>0.0</td><td>0.0</td><td>0</td><td>0.0</td><td>0.0</td><td>0</td><td>0.0</td><td>0.0</td><td>0.0</td><td>0.0</td><td>0.0</td><td>7778</td><td>54769</td><td>301</td><td>6</td><td>317</td><td>1237678882094383164</td><td>5.31167 .. 11.0535</td><td>7.51421 .. 0.887166</td><td>20.6862 .. 19.8864</td><td>0.0744644 .. 0.103363</td><td>5.21554374695 .. 11.9897375107</td><td>-25.7973009383</td><td>-0.0126702487469</td><td>0.226728 .. 0.0650497</td><td>0.0805806 .. 0.0240088</td><td>22.0697143353</td><td>0</td><td>0.0</td><td>0.0</td><td>0.0</td><td>0.0</td><td>0.0</td><td>0.0</td><td>0</td><td>0.0</td><td>0.0</td><td>0.0</td><td>0.0</td><td>0.0</td><td>0.0</td><td>0.0</td><td>0.0</td><td>0.0</td><td>0.0</td><td>0.0</td><td>0.0</td><td>0</td><td>0.0</td><td>1</td><td>0.0929132923484</td><td>44.9880867706</td><td>0.22756947577</td><td>2.51742246388</td><td>0.0</td><td>0.0</td><td>0.0</td><td>0</td><td>0.0</td><td>0.0</td><td>0.0</td><td>0</td><td>0.0</td><td>0.0</td><td>0.0</td><td>0</td><td>0.0</td><td>16.72</td><td>0.103000000119</td><td>10.6</td><td>1.038</td><td>15.929</td><td>0.166999995708</td><td>6.5</td><td>0.9004</td><td>11.903</td><td>0.284999996424</td><td>3.8</td><td>0.9703</td><td>8.981</td><td>-999.999023438</td><td>-0.8</td><td>0.0</td><td>0000</td><td>ABBU</td><td>0.450937991337</td><td>0</td><td>0.0</td><td>0.0</td><td>0.0</td><td>0.0</td><td>0.0</td><td>0.0</td><td>0.0</td><td>0.0</td><td>0</td><td>0.0</td><td>0.0</td><td>0.0</td></tr>\n",
       "</table>"
      ],
      "text/plain": [
       "<Table length=5>\n",
       "    SDSS_NAME             RA        ...   FIRST_SNR   SDSS2FIRST_SEP\n",
       "      str18            float64      ...    float64       float64    \n",
       "------------------ ---------------- ... ------------- --------------\n",
       "000000.45+174625.4 0.00189828518376 ...           0.0            0.0\n",
       "000000.66+145828.8 0.00275643009297 ...           0.0            0.0\n",
       "000000.97+044947.2 0.00405238853989 ...           0.0            0.0\n",
       "000001.27-020159.7 0.00531697386447 ... 7.04838902393 0.571058551544\n",
       "000001.37-011930.0 0.00574621499496 ...           0.0            0.0"
      ]
     },
     "execution_count": 8,
     "metadata": {},
     "output_type": "execute_result"
    }
   ],
   "source": [
    "boss_dr12 = Table(boss_hdu[1].data)\n",
    "boss_dr12[0:5]"
   ]
  },
  {
   "cell_type": "markdown",
   "metadata": {},
   "source": [
    "### No non-zero fluxes for 6178, 281"
   ]
  },
  {
   "cell_type": "code",
   "execution_count": 11,
   "metadata": {
    "collapsed": false
   },
   "outputs": [
    {
     "data": {
      "text/plain": [
       "array([3248])"
      ]
     },
     "execution_count": 11,
     "metadata": {},
     "output_type": "execute_result"
    }
   ],
   "source": [
    "mt = np.where((boss_dr12['PLATE']==6178) & (boss_dr12['FIBERID']==281))[0]\n",
    "mt"
   ]
  },
  {
   "cell_type": "code",
   "execution_count": 12,
   "metadata": {
    "collapsed": false
   },
   "outputs": [
    {
     "data": {
      "text/html": [
       "&lt;Row index=3248&gt;\n",
       "<table id=\"table4578112336\">\n",
       "<thead><tr><th>SDSS_NAME</th><th>RA</th><th>DEC</th><th>THING_ID</th><th>PLATE</th><th>MJD</th><th>FIBERID</th><th>Z_VI</th><th>Z_PIPE</th><th>ERR_ZPIPE</th><th>ZWARNING</th><th>Z_PCA</th><th>ERR_ZPCA</th><th>PCA_QUAL</th><th>Z_CIV</th><th>Z_CIII</th><th>Z_MGII</th><th>SDSS_MORPHO</th><th>BOSS_TARGET1</th><th>ANCILLARY_TARGET1</th><th>ANCILLARY_TARGET2</th><th>EBOSS_TARGET0</th><th>NSPEC_BOSS</th><th>PLATE_DUPLICATE [32]</th><th>MJD_DUPLICATE [32]</th><th>FIBERID_DUPLICATE [32]</th><th>SDSS_DR7</th><th>PLATE_DR7</th><th>MJD_DR7</th><th>FIBERID_DR7</th><th>UNIFORM</th><th>ALPHA_NU</th><th>SNR_SPEC</th><th>SNR_DUPLICATE [32]</th><th>SNR_1700</th><th>SNR_3000</th><th>SNR_5150</th><th>FWHM_CIV</th><th>BHWHM_CIV</th><th>RHWHM_CIV</th><th>AMP_CIV</th><th>REWE_CIV</th><th>ERR_REWE_CIV</th><th>FWHM_CIII</th><th>BHWHM_CIII</th><th>RHWHM_CIII</th><th>AMP_CIII</th><th>REWE_CIII</th><th>ERR_REWE_CIII</th><th>FWHM_MGII</th><th>BHWHM_MGII</th><th>RHWHM_MGII</th><th>AMP_MGII</th><th>REWE_MGII</th><th>ERR_REWE_MGII</th><th>BAL_FLAG_VI</th><th>BI_CIV</th><th>ERR_BI_CIV</th><th>AI_CIV</th><th>ERR_AI_CIV</th><th>CHI2TROUGH</th><th>NCIV_2000</th><th>VMIN_CIV_2000</th><th>VMAX_CIV_2000</th><th>NCIV_450</th><th>VMIN_CIV_450</th><th>VMAX_CIV_450</th><th>REW_SIIV</th><th>REW_CIV</th><th>REW_ALIII</th><th>RUN_NUMBER</th><th>PHOTO_MJD</th><th>RERUN_NUMBER</th><th>COL_NUMBER</th><th>FIELD_NUMBER</th><th>OBJ_ID</th><th>PSFFLUX [5]</th><th>IVAR_PSFFLUX [5]</th><th>PSFMAG [5]</th><th>ERR_PSFMAG [5]</th><th>TARGET_FLUX [5]</th><th>MI</th><th>DGMI</th><th>EXTINCTION [5]</th><th>EXTINCTION_RECAL [5]</th><th>HI_GAL</th><th>VAR_MATCHED</th><th>VAR_CHI2</th><th>VAR_A</th><th>VAR_GAMMA</th><th>RASS_COUNTS</th><th>RASS_COUNTS_SNR</th><th>SDSS2ROSAT_SEP</th><th>N_DETECTION_XMM</th><th>FLUX02_12KEV_SGL</th><th>ERR_FLUX02_12KEV_SGL</th><th>FLUX02_2KEV</th><th>ERR_FLUX02_2KEV</th><th>FLUX2_12KEV</th><th>ERR_FLUX2_12KEV</th><th>FLUX02_12KEV</th><th>ERR_FLUX02_12KEV</th><th>LUM02_2KEV_SGL</th><th>LUM05_2KEV</th><th>LUM2_12KEV</th><th>LUM02_2KEV</th><th>LUMX2_10_UPPER</th><th>SDSS2XMM_SEP</th><th>GALEX_MATCHED</th><th>FUV</th><th>FUV_IVAR</th><th>NUV</th><th>NUV_IVAR</th><th>JMAG</th><th>ERR_JMAG</th><th>JSNR</th><th>JRDFLAG</th><th>HMAG</th><th>ERR_HMAG</th><th>HSNR</th><th>HRDFLAG</th><th>KMAG</th><th>ERR_KMAG</th><th>KSNR</th><th>KRDFLAG</th><th>SDSS2MASS_SEP</th><th>W1MAG</th><th>ERR_W1MAG</th><th>W1SNR</th><th>W1CHI2</th><th>W2MAG</th><th>ERR_W2MAG</th><th>W2SNR</th><th>W2CHI2</th><th>W3MAG</th><th>ERR_W3MAG</th><th>W3SNR</th><th>W3CHI2</th><th>W4MAG</th><th>ERR_W4MAG</th><th>W4SNR</th><th>W4CHI2</th><th>CC_FLAGS</th><th>PH_FLAG</th><th>SDSS2WISE_SEP</th><th>UKIDSS_MATCHED</th><th>YFLUX</th><th>YFLUX_ERR</th><th>JFLUX</th><th>JFLUX_ERR</th><th>HFLUX</th><th>HFLUX_ERR</th><th>KFLUX</th><th>KFLUX_ERR</th><th>FIRST_MATCHED</th><th>FIRST_FLUX</th><th>FIRST_SNR</th><th>SDSS2FIRST_SEP</th></tr></thead>\n",
       "<thead><tr><th>str18</th><th>float64</th><th>float64</th><th>int32</th><th>int32</th><th>int32</th><th>int32</th><th>float64</th><th>float32</th><th>float32</th><th>int32</th><th>float64</th><th>float64</th><th>float64</th><th>float64</th><th>float64</th><th>float64</th><th>int16</th><th>int64</th><th>int64</th><th>int64</th><th>int64</th><th>int32</th><th>int32</th><th>int32</th><th>int32</th><th>int32</th><th>int32</th><th>int32</th><th>int32</th><th>int16</th><th>float64</th><th>float64</th><th>float64</th><th>float64</th><th>float64</th><th>float64</th><th>float64</th><th>float64</th><th>float64</th><th>float64</th><th>float64</th><th>float64</th><th>float64</th><th>float64</th><th>float64</th><th>float64</th><th>float64</th><th>float64</th><th>float64</th><th>float64</th><th>float64</th><th>float64</th><th>float64</th><th>float64</th><th>int16</th><th>float64</th><th>float64</th><th>float64</th><th>float64</th><th>float64</th><th>int32</th><th>float64</th><th>float64</th><th>int32</th><th>float64</th><th>float64</th><th>float64</th><th>float64</th><th>float64</th><th>int16</th><th>int32</th><th>str3</th><th>int16</th><th>int16</th><th>str19</th><th>float32</th><th>float32</th><th>float32</th><th>float32</th><th>float64</th><th>float64</th><th>float64</th><th>float32</th><th>float32</th><th>float64</th><th>int16</th><th>float64</th><th>float64</th><th>float64</th><th>float64</th><th>float64</th><th>float64</th><th>int16</th><th>float64</th><th>float64</th><th>float64</th><th>float64</th><th>float64</th><th>float64</th><th>float64</th><th>float64</th><th>float64</th><th>float64</th><th>float64</th><th>float64</th><th>int16</th><th>float64</th><th>int16</th><th>float64</th><th>float64</th><th>float64</th><th>float64</th><th>float64</th><th>float64</th><th>float64</th><th>int32</th><th>float64</th><th>float64</th><th>float64</th><th>int32</th><th>float64</th><th>float64</th><th>float64</th><th>int32</th><th>float64</th><th>float64</th><th>float64</th><th>float64</th><th>float64</th><th>float64</th><th>float64</th><th>float64</th><th>float64</th><th>float64</th><th>float64</th><th>float64</th><th>float64</th><th>float64</th><th>float64</th><th>float64</th><th>float64</th><th>str4</th><th>str4</th><th>float64</th><th>int16</th><th>float32</th><th>float32</th><th>float32</th><th>float32</th><th>float32</th><th>float32</th><th>float32</th><th>float32</th><th>int16</th><th>float64</th><th>float64</th><th>float64</th></tr></thead>\n",
       "<tr><td>001115.23+144601.8</td><td>2.81348678941</td><td>14.7671681257</td><td>241707462</td><td>6178</td><td>56213</td><td>281</td><td>4.96432256699</td><td>4.96432</td><td>0.000358928</td><td>0</td><td>4.98618008401</td><td>0.0029425848199</td><td>0.049600861933</td><td>4.91878721837</td><td>-1.0</td><td>-1.0</td><td>0</td><td>4096</td><td>0</td><td>0</td><td>0</td><td>0</td><td>-1 .. -1</td><td>-1 .. -1</td><td>-1 .. -1</td><td>1</td><td>751</td><td>52251</td><td>39</td><td>0</td><td>500.0</td><td>3.7812713118</td><td>-1.0 .. -1.0</td><td>1.71010944631</td><td>-1.0</td><td>-1.0</td><td>5709.26041358</td><td>2919.80952949</td><td>2789.45088409</td><td>1.98865993315</td><td>3.54861141621</td><td>3.96743936922</td><td>-1.0</td><td>-1.0</td><td>-1.0</td><td>-1.0</td><td>-1.0</td><td>-1.0</td><td>-1.0</td><td>-1.0</td><td>-1.0</td><td>-1.0</td><td>-1.0</td><td>-1.0</td><td>0</td><td>0.0</td><td>0.0</td><td>0.0</td><td>0.0</td><td>0.0</td><td>0</td><td>0.0</td><td>0.0</td><td>0</td><td>0.0</td><td>0.0</td><td>0.0</td><td>0.0</td><td>0.0</td><td>2566</td><td>52170</td><td>301</td><td>3</td><td>327</td><td>1237656495114879258</td><td>0.100094 .. 57.3163</td><td>20.4242 .. 0.547341</td><td>24.2544 .. 18.1041</td><td>0.80794 .. 0.025596</td><td>0.100094385445 .. 57.3163299561</td><td>-29.240404458</td><td>-1.07065343857</td><td>0.272307 .. 0.0781264</td><td>0.109449 .. 0.0326101</td><td>21.9549898177</td><td>0</td><td>0.0</td><td>0.0</td><td>0.0</td><td>0.0</td><td>0.0</td><td>0.0</td><td>1</td><td>3.22689005508e-13</td><td>9.51328029346e-15</td><td>1.277183e-13</td><td>2.2887408326e-15</td><td>1.959233e-13</td><td>8.56356984094e-14</td><td>3.22689005508e-13</td><td>9.51328029346e-15</td><td>8.6782791078e+46</td><td>5.26908901363e+46</td><td>8.6782791078e+46</td><td>3.43480885824e+46</td><td>-32768</td><td>0.108192579693</td><td>1</td><td>0.0</td><td>0.0</td><td>0.0</td><td>0.0</td><td>0.0</td><td>0.0</td><td>0.0</td><td>0</td><td>0.0</td><td>0.0</td><td>0.0</td><td>0</td><td>0.0</td><td>0.0</td><td>0.0</td><td>0</td><td>0.0</td><td>15.286</td><td>0.0390000008047</td><td>27.6</td><td>1.325</td><td>14.689</td><td>0.0590000003576</td><td>18.4</td><td>1.049</td><td>11.522</td><td>0.206000000238</td><td>5.3</td><td>0.9391</td><td>9.004</td><td>0.490999996662</td><td>2.2</td><td>0.0</td><td>0000</td><td>AABC</td><td>0.270964029381</td><td>1</td><td>1.89722e-30</td><td>3.4975e-32</td><td>2.01354e-30</td><td>4.37365e-32</td><td>2.31699e-30</td><td>6.55906e-32</td><td>2.28887e-30</td><td>6.55682e-32</td><td>1</td><td>23.9599990845</td><td>162.311991146</td><td>0.252670383565</td></tr>\n",
       "</table>"
      ],
      "text/plain": [
       "<Row index=3248>\n",
       "    SDSS_NAME            RA           DEC       THING_ID PLATE  MJD  FIBERID      Z_VI      Z_PIPE  ERR_ZPIPE  ZWARNING     Z_PCA         ERR_ZPCA       PCA_QUAL        Z_CIV      Z_CIII  Z_MGII SDSS_MORPHO BOSS_TARGET1 ANCILLARY_TARGET1 ANCILLARY_TARGET2 EBOSS_TARGET0 NSPEC_BOSS PLATE_DUPLICATE [32] MJD_DUPLICATE [32] FIBERID_DUPLICATE [32] SDSS_DR7 PLATE_DR7 MJD_DR7 FIBERID_DR7 UNIFORM ALPHA_NU   SNR_SPEC   SNR_DUPLICATE [32]    SNR_1700   SNR_3000 SNR_5150    FWHM_CIV     BHWHM_CIV     RHWHM_CIV      AMP_CIV       REWE_CIV    ERR_REWE_CIV FWHM_CIII BHWHM_CIII RHWHM_CIII AMP_CIII REWE_CIII ERR_REWE_CIII FWHM_MGII BHWHM_MGII RHWHM_MGII AMP_MGII REWE_MGII ERR_REWE_MGII BAL_FLAG_VI  BI_CIV ERR_BI_CIV  AI_CIV ERR_AI_CIV CHI2TROUGH NCIV_2000 VMIN_CIV_2000 VMAX_CIV_2000 NCIV_450 VMIN_CIV_450 VMAX_CIV_450 REW_SIIV REW_CIV REW_ALIII RUN_NUMBER PHOTO_MJD RERUN_NUMBER COL_NUMBER FIELD_NUMBER        OBJ_ID           PSFFLUX [5]       IVAR_PSFFLUX [5]      PSFMAG [5]        ERR_PSFMAG [5]           TARGET_FLUX [5]               MI           DGMI          EXTINCTION [5]     EXTINCTION_RECAL [5]     HI_GAL    VAR_MATCHED VAR_CHI2  VAR_A  VAR_GAMMA RASS_COUNTS RASS_COUNTS_SNR SDSS2ROSAT_SEP N_DETECTION_XMM  FLUX02_12KEV_SGL ERR_FLUX02_12KEV_SGL FLUX02_2KEV  ERR_FLUX02_2KEV  FLUX2_12KEV   ERR_FLUX2_12KEV     FLUX02_12KEV    ERR_FLUX02_12KEV  LUM02_2KEV_SGL      LUM05_2KEV       LUM2_12KEV        LUM02_2KEV    LUMX2_10_UPPER  SDSS2XMM_SEP  GALEX_MATCHED   FUV   FUV_IVAR   NUV   NUV_IVAR   JMAG  ERR_JMAG   JSNR  JRDFLAG   HMAG  ERR_HMAG   HSNR  HRDFLAG   KMAG  ERR_KMAG   KSNR  KRDFLAG SDSS2MASS_SEP  W1MAG     ERR_W1MAG     W1SNR   W1CHI2  W2MAG     ERR_W2MAG     W2SNR   W2CHI2  W3MAG    ERR_W3MAG     W3SNR   W3CHI2  W4MAG    ERR_W4MAG     W4SNR   W4CHI2 CC_FLAGS PH_FLAG SDSS2WISE_SEP  UKIDSS_MATCHED    YFLUX    YFLUX_ERR     JFLUX     JFLUX_ERR     HFLUX     HFLUX_ERR     KFLUX     KFLUX_ERR  FIRST_MATCHED   FIRST_FLUX    FIRST_SNR   SDSS2FIRST_SEP\n",
       "      str18           float64       float64      int32   int32 int32  int32     float64    float32   float32    int32      float64        float64        float64        float64    float64 float64    int16       int64           int64             int64           int64       int32           int32               int32                int32           int32     int32    int32     int32     int16  float64    float64         float64          float64    float64  float64     float64       float64       float64       float64       float64       float64     float64   float64    float64   float64   float64     float64     float64   float64    float64   float64   float64     float64       int16    float64  float64   float64  float64    float64     int32      float64       float64     int32     float64      float64    float64  float64  float64    int16      int32       str3       int16       int16            str19              float32             float32            float32             float32                   float64                float64       float64            float32               float32           float64       int16    float64  float64  float64    float64       float64        float64          int16           float64            float64          float64        float64        float64         float64           float64           float64          float64           float64          float64           float64          int16         float64         int16     float64 float64  float64 float64  float64 float64  float64  int32  float64 float64  float64  int32  float64 float64  float64  int32     float64    float64     float64     float64 float64 float64     float64     float64 float64 float64    float64     float64 float64 float64    float64     float64 float64   str4     str4     float64         int16        float32    float32     float32     float32     float32     float32     float32     float32       int16        float64       float64       float64    \n",
       "------------------ ------------- ------------- --------- ----- ----- ------- ------------- ------- ----------- -------- ------------- --------------- -------------- ------------- ------- ------- ----------- ------------ ----------------- ----------------- ------------- ---------- -------------------- ------------------ ---------------------- -------- --------- ------- ----------- ------- -------- ------------ ------------------ ------------- -------- -------- ------------- ------------- ------------- ------------- ------------- ------------- --------- ---------- ---------- -------- --------- ------------- --------- ---------- ---------- -------- --------- ------------- ----------- ------- ---------- ------- ---------- ---------- --------- ------------- ------------- -------- ------------ ------------ -------- ------- --------- ---------- --------- ------------ ---------- ------------ ------------------- ------------------- ------------------- ------------------ ------------------- ------------------------------- ------------- -------------- --------------------- --------------------- ------------- ----------- -------- ------- --------- ----------- --------------- -------------- --------------- ----------------- -------------------- ------------ ---------------- ------------ ----------------- ----------------- ----------------- ---------------- ----------------- ---------------- ----------------- -------------- -------------- ------------- ------- -------- ------- -------- ------- -------- ------- ------- ------- -------- ------- ------- ------- -------- ------- ------- ------------- ------- --------------- ------- ------- ------- --------------- ------- ------- ------- -------------- ------- ------- ------- -------------- ------- ------- -------- ------- -------------- -------------- ----------- ---------- ----------- ----------- ----------- ----------- ----------- ----------- ------------- ------------- ------------- --------------\n",
       "001115.23+144601.8 2.81348678941 14.7671681257 241707462  6178 56213     281 4.96432256699 4.96432 0.000358928        0 4.98618008401 0.0029425848199 0.049600861933 4.91878721837    -1.0    -1.0           0         4096                 0                 0             0          0             -1 .. -1           -1 .. -1               -1 .. -1        1       751   52251          39       0    500.0 3.7812713118       -1.0 .. -1.0 1.71010944631     -1.0     -1.0 5709.26041358 2919.80952949 2789.45088409 1.98865993315 3.54861141621 3.96743936922      -1.0       -1.0       -1.0     -1.0      -1.0          -1.0      -1.0       -1.0       -1.0     -1.0      -1.0          -1.0           0     0.0        0.0     0.0        0.0        0.0         0           0.0           0.0        0          0.0          0.0      0.0     0.0       0.0       2566     52170          301          3          327 1237656495114879258 0.100094 .. 57.3163 20.4242 .. 0.547341 24.2544 .. 18.1041 0.80794 .. 0.025596 0.100094385445 .. 57.3163299561 -29.240404458 -1.07065343857 0.272307 .. 0.0781264 0.109449 .. 0.0326101 21.9549898177           0      0.0     0.0       0.0         0.0             0.0            0.0               1 3.22689005508e-13    9.51328029346e-15 1.277183e-13 2.2887408326e-15 1.959233e-13 8.56356984094e-14 3.22689005508e-13 9.51328029346e-15 8.6782791078e+46 5.26908901363e+46 8.6782791078e+46 3.43480885824e+46         -32768 0.108192579693             1     0.0      0.0     0.0      0.0     0.0      0.0     0.0       0     0.0      0.0     0.0       0     0.0      0.0     0.0       0           0.0  15.286 0.0390000008047    27.6   1.325  14.689 0.0590000003576    18.4   1.049  11.522 0.206000000238     5.3  0.9391   9.004 0.490999996662     2.2     0.0     0000    AABC 0.270964029381              1 1.89722e-30 3.4975e-32 2.01354e-30 4.37365e-32 2.31699e-30 6.55906e-32 2.28887e-30 6.55682e-32             1 23.9599990845 162.311991146 0.252670383565"
      ]
     },
     "execution_count": 12,
     "metadata": {},
     "output_type": "execute_result"
    }
   ],
   "source": [
    "boss_dr12[mt[0]]"
   ]
  },
  {
   "cell_type": "markdown",
   "metadata": {},
   "source": [
    "#### Looks fine on the web page;  z=4.964 QSO"
   ]
  },
  {
   "cell_type": "markdown",
   "metadata": {},
   "source": [
    "#### Examining in IDL\n",
    "    fx = mrdfits('DR12_ALLQSO_SPEC_106_flux_nointerp.fits',1)\n",
    "    mt = where(fx.plate EQ 6178 and fx.fiber EQ 281)"
   ]
  },
  {
   "cell_type": "markdown",
   "metadata": {},
   "source": [
    "### No continuum for 4403, 0848"
   ]
  },
  {
   "cell_type": "code",
   "execution_count": 14,
   "metadata": {
    "collapsed": false
   },
   "outputs": [
    {
     "data": {
      "text/plain": [
       "array([28885])"
      ]
     },
     "execution_count": 14,
     "metadata": {},
     "output_type": "execute_result"
    }
   ],
   "source": [
    "mt = np.where((boss_dr12['PLATE']==4403) & (boss_dr12['FIBERID']==848))[0]\n",
    "mt"
   ]
  },
  {
   "cell_type": "code",
   "execution_count": 15,
   "metadata": {
    "collapsed": false
   },
   "outputs": [
    {
     "data": {
      "text/html": [
       "&lt;Row index=28885&gt;\n",
       "<table id=\"table4578112336\">\n",
       "<thead><tr><th>SDSS_NAME</th><th>RA</th><th>DEC</th><th>THING_ID</th><th>PLATE</th><th>MJD</th><th>FIBERID</th><th>Z_VI</th><th>Z_PIPE</th><th>ERR_ZPIPE</th><th>ZWARNING</th><th>Z_PCA</th><th>ERR_ZPCA</th><th>PCA_QUAL</th><th>Z_CIV</th><th>Z_CIII</th><th>Z_MGII</th><th>SDSS_MORPHO</th><th>BOSS_TARGET1</th><th>ANCILLARY_TARGET1</th><th>ANCILLARY_TARGET2</th><th>EBOSS_TARGET0</th><th>NSPEC_BOSS</th><th>PLATE_DUPLICATE [32]</th><th>MJD_DUPLICATE [32]</th><th>FIBERID_DUPLICATE [32]</th><th>SDSS_DR7</th><th>PLATE_DR7</th><th>MJD_DR7</th><th>FIBERID_DR7</th><th>UNIFORM</th><th>ALPHA_NU</th><th>SNR_SPEC</th><th>SNR_DUPLICATE [32]</th><th>SNR_1700</th><th>SNR_3000</th><th>SNR_5150</th><th>FWHM_CIV</th><th>BHWHM_CIV</th><th>RHWHM_CIV</th><th>AMP_CIV</th><th>REWE_CIV</th><th>ERR_REWE_CIV</th><th>FWHM_CIII</th><th>BHWHM_CIII</th><th>RHWHM_CIII</th><th>AMP_CIII</th><th>REWE_CIII</th><th>ERR_REWE_CIII</th><th>FWHM_MGII</th><th>BHWHM_MGII</th><th>RHWHM_MGII</th><th>AMP_MGII</th><th>REWE_MGII</th><th>ERR_REWE_MGII</th><th>BAL_FLAG_VI</th><th>BI_CIV</th><th>ERR_BI_CIV</th><th>AI_CIV</th><th>ERR_AI_CIV</th><th>CHI2TROUGH</th><th>NCIV_2000</th><th>VMIN_CIV_2000</th><th>VMAX_CIV_2000</th><th>NCIV_450</th><th>VMIN_CIV_450</th><th>VMAX_CIV_450</th><th>REW_SIIV</th><th>REW_CIV</th><th>REW_ALIII</th><th>RUN_NUMBER</th><th>PHOTO_MJD</th><th>RERUN_NUMBER</th><th>COL_NUMBER</th><th>FIELD_NUMBER</th><th>OBJ_ID</th><th>PSFFLUX [5]</th><th>IVAR_PSFFLUX [5]</th><th>PSFMAG [5]</th><th>ERR_PSFMAG [5]</th><th>TARGET_FLUX [5]</th><th>MI</th><th>DGMI</th><th>EXTINCTION [5]</th><th>EXTINCTION_RECAL [5]</th><th>HI_GAL</th><th>VAR_MATCHED</th><th>VAR_CHI2</th><th>VAR_A</th><th>VAR_GAMMA</th><th>RASS_COUNTS</th><th>RASS_COUNTS_SNR</th><th>SDSS2ROSAT_SEP</th><th>N_DETECTION_XMM</th><th>FLUX02_12KEV_SGL</th><th>ERR_FLUX02_12KEV_SGL</th><th>FLUX02_2KEV</th><th>ERR_FLUX02_2KEV</th><th>FLUX2_12KEV</th><th>ERR_FLUX2_12KEV</th><th>FLUX02_12KEV</th><th>ERR_FLUX02_12KEV</th><th>LUM02_2KEV_SGL</th><th>LUM05_2KEV</th><th>LUM2_12KEV</th><th>LUM02_2KEV</th><th>LUMX2_10_UPPER</th><th>SDSS2XMM_SEP</th><th>GALEX_MATCHED</th><th>FUV</th><th>FUV_IVAR</th><th>NUV</th><th>NUV_IVAR</th><th>JMAG</th><th>ERR_JMAG</th><th>JSNR</th><th>JRDFLAG</th><th>HMAG</th><th>ERR_HMAG</th><th>HSNR</th><th>HRDFLAG</th><th>KMAG</th><th>ERR_KMAG</th><th>KSNR</th><th>KRDFLAG</th><th>SDSS2MASS_SEP</th><th>W1MAG</th><th>ERR_W1MAG</th><th>W1SNR</th><th>W1CHI2</th><th>W2MAG</th><th>ERR_W2MAG</th><th>W2SNR</th><th>W2CHI2</th><th>W3MAG</th><th>ERR_W3MAG</th><th>W3SNR</th><th>W3CHI2</th><th>W4MAG</th><th>ERR_W4MAG</th><th>W4SNR</th><th>W4CHI2</th><th>CC_FLAGS</th><th>PH_FLAG</th><th>SDSS2WISE_SEP</th><th>UKIDSS_MATCHED</th><th>YFLUX</th><th>YFLUX_ERR</th><th>JFLUX</th><th>JFLUX_ERR</th><th>HFLUX</th><th>HFLUX_ERR</th><th>KFLUX</th><th>KFLUX_ERR</th><th>FIRST_MATCHED</th><th>FIRST_FLUX</th><th>FIRST_SNR</th><th>SDSS2FIRST_SEP</th></tr></thead>\n",
       "<thead><tr><th>str18</th><th>float64</th><th>float64</th><th>int32</th><th>int32</th><th>int32</th><th>int32</th><th>float64</th><th>float32</th><th>float32</th><th>int32</th><th>float64</th><th>float64</th><th>float64</th><th>float64</th><th>float64</th><th>float64</th><th>int16</th><th>int64</th><th>int64</th><th>int64</th><th>int64</th><th>int32</th><th>int32</th><th>int32</th><th>int32</th><th>int32</th><th>int32</th><th>int32</th><th>int32</th><th>int16</th><th>float64</th><th>float64</th><th>float64</th><th>float64</th><th>float64</th><th>float64</th><th>float64</th><th>float64</th><th>float64</th><th>float64</th><th>float64</th><th>float64</th><th>float64</th><th>float64</th><th>float64</th><th>float64</th><th>float64</th><th>float64</th><th>float64</th><th>float64</th><th>float64</th><th>float64</th><th>float64</th><th>float64</th><th>int16</th><th>float64</th><th>float64</th><th>float64</th><th>float64</th><th>float64</th><th>int32</th><th>float64</th><th>float64</th><th>int32</th><th>float64</th><th>float64</th><th>float64</th><th>float64</th><th>float64</th><th>int16</th><th>int32</th><th>str3</th><th>int16</th><th>int16</th><th>str19</th><th>float32</th><th>float32</th><th>float32</th><th>float32</th><th>float64</th><th>float64</th><th>float64</th><th>float32</th><th>float32</th><th>float64</th><th>int16</th><th>float64</th><th>float64</th><th>float64</th><th>float64</th><th>float64</th><th>float64</th><th>int16</th><th>float64</th><th>float64</th><th>float64</th><th>float64</th><th>float64</th><th>float64</th><th>float64</th><th>float64</th><th>float64</th><th>float64</th><th>float64</th><th>float64</th><th>int16</th><th>float64</th><th>int16</th><th>float64</th><th>float64</th><th>float64</th><th>float64</th><th>float64</th><th>float64</th><th>float64</th><th>int32</th><th>float64</th><th>float64</th><th>float64</th><th>int32</th><th>float64</th><th>float64</th><th>float64</th><th>int32</th><th>float64</th><th>float64</th><th>float64</th><th>float64</th><th>float64</th><th>float64</th><th>float64</th><th>float64</th><th>float64</th><th>float64</th><th>float64</th><th>float64</th><th>float64</th><th>float64</th><th>float64</th><th>float64</th><th>float64</th><th>str4</th><th>str4</th><th>float64</th><th>int16</th><th>float32</th><th>float32</th><th>float32</th><th>float32</th><th>float32</th><th>float32</th><th>float32</th><th>float32</th><th>int16</th><th>float64</th><th>float64</th><th>float64</th></tr></thead>\n",
       "<tr><td>015303.65+063027.2</td><td>28.2652349991</td><td>6.50756261131</td><td>169873473</td><td>4403</td><td>55536</td><td>848</td><td>2.51666498184</td><td>2.51666</td><td>0.000363433</td><td>0</td><td>2.50995565979</td><td>0.000791652557205</td><td>0.121793631558</td><td>2.51343318305</td><td>2.51200554124</td><td>-1.0</td><td>0</td><td>16492674564096</td><td>0</td><td>0</td><td>0</td><td>0</td><td>-1 .. -1</td><td>-1 .. -1</td><td>-1 .. -1</td><td>0</td><td>-1</td><td>-1</td><td>-1</td><td>1</td><td>-0.602274933928</td><td>37.3127077439</td><td>-1.0 .. -1.0</td><td>36.8344391436</td><td>0.998600308035</td><td>-1.0</td><td>2716.61671023</td><td>1550.93074634</td><td>1165.68596389</td><td>5.92788176733</td><td>37.2684244751</td><td>1.56120636639</td><td>2886.7173085</td><td>1451.27577464</td><td>1435.44153387</td><td>2.19716859306</td><td>23.6776814208</td><td>4.10517507042</td><td>-1.0</td><td>-1.0</td><td>-1.0</td><td>-1.0</td><td>-1.0</td><td>-1.0</td><td>0</td><td>0.0</td><td>0.0</td><td>0.0</td><td>0.0</td><td>0.0</td><td>0</td><td>0.0</td><td>0.0</td><td>0</td><td>0.0</td><td>0.0</td><td>0.0</td><td>0.0</td><td>0.0</td><td>5065</td><td>53353</td><td>301</td><td>3</td><td>62</td><td>1237667228220785117</td><td>1.12776 .. 3.22739</td><td>22.1526 .. 1.11203</td><td>22.3531 .. 21.1748</td><td>0.198521 .. 0.289981</td><td>1.07475423813 .. 3.32800769806</td><td>-24.6468625902</td><td>0.0729340538383</td><td>0.333949 .. 0.0958121</td><td>0.053882 .. 0.016054</td><td>21.9607442066</td><td>6</td><td>1.65636837482</td><td>0.0906365811825</td><td>-0.0690748766065</td><td>0.0</td><td>0.0</td><td>0.0</td><td>0</td><td>0.0</td><td>0.0</td><td>0.0</td><td>0.0</td><td>0.0</td><td>0.0</td><td>0.0</td><td>0.0</td><td>0.0</td><td>0.0</td><td>0.0</td><td>0.0</td><td>0</td><td>0.0</td><td>1</td><td>0.0</td><td>0.0</td><td>0.0</td><td>0.0</td><td>0.0</td><td>0.0</td><td>0.0</td><td>0</td><td>0.0</td><td>0.0</td><td>0.0</td><td>0</td><td>0.0</td><td>0.0</td><td>0.0</td><td>0</td><td>0.0</td><td>0.0</td><td>0.0</td><td>0.0</td><td>0.0</td><td>0.0</td><td>0.0</td><td>0.0</td><td>0.0</td><td>0.0</td><td>0.0</td><td>0.0</td><td>0.0</td><td>0.0</td><td>0.0</td><td>0.0</td><td>0.0</td><td></td><td></td><td>0.0</td><td>1</td><td>4.04862e-32</td><td>3.41356e-32</td><td>6.3501e-32</td><td>5.90812e-32</td><td>1.24759e-31</td><td>5.52526e-32</td><td>1.51152e-31</td><td>6.08412e-32</td><td>0</td><td>0.0</td><td>0.0</td><td>0.0</td></tr>\n",
       "</table>"
      ],
      "text/plain": [
       "<Row index=28885>\n",
       "    SDSS_NAME            RA           DEC       THING_ID PLATE  MJD  FIBERID      Z_VI      Z_PIPE  ERR_ZPIPE  ZWARNING     Z_PCA          ERR_ZPCA        PCA_QUAL        Z_CIV         Z_CIII     Z_MGII SDSS_MORPHO  BOSS_TARGET1  ANCILLARY_TARGET1 ANCILLARY_TARGET2 EBOSS_TARGET0 NSPEC_BOSS PLATE_DUPLICATE [32] MJD_DUPLICATE [32] FIBERID_DUPLICATE [32] SDSS_DR7 PLATE_DR7 MJD_DR7 FIBERID_DR7 UNIFORM     ALPHA_NU       SNR_SPEC   SNR_DUPLICATE [32]    SNR_1700      SNR_3000    SNR_5150    FWHM_CIV     BHWHM_CIV     RHWHM_CIV      AMP_CIV       REWE_CIV    ERR_REWE_CIV  FWHM_CIII     BHWHM_CIII    RHWHM_CIII     AMP_CIII     REWE_CIII   ERR_REWE_CIII FWHM_MGII BHWHM_MGII RHWHM_MGII AMP_MGII REWE_MGII ERR_REWE_MGII BAL_FLAG_VI  BI_CIV ERR_BI_CIV  AI_CIV ERR_AI_CIV CHI2TROUGH NCIV_2000 VMIN_CIV_2000 VMAX_CIV_2000 NCIV_450 VMIN_CIV_450 VMAX_CIV_450 REW_SIIV REW_CIV REW_ALIII RUN_NUMBER PHOTO_MJD RERUN_NUMBER COL_NUMBER FIELD_NUMBER        OBJ_ID          PSFFLUX [5]      IVAR_PSFFLUX [5]      PSFMAG [5]        ERR_PSFMAG [5]           TARGET_FLUX [5]               MI             DGMI          EXTINCTION [5]    EXTINCTION_RECAL [5]     HI_GAL    VAR_MATCHED    VAR_CHI2        VAR_A         VAR_GAMMA     RASS_COUNTS RASS_COUNTS_SNR SDSS2ROSAT_SEP N_DETECTION_XMM FLUX02_12KEV_SGL ERR_FLUX02_12KEV_SGL FLUX02_2KEV ERR_FLUX02_2KEV FLUX2_12KEV ERR_FLUX2_12KEV FLUX02_12KEV ERR_FLUX02_12KEV LUM02_2KEV_SGL LUM05_2KEV LUM2_12KEV LUM02_2KEV LUMX2_10_UPPER SDSS2XMM_SEP GALEX_MATCHED   FUV   FUV_IVAR   NUV   NUV_IVAR   JMAG  ERR_JMAG   JSNR  JRDFLAG   HMAG  ERR_HMAG   HSNR  HRDFLAG   KMAG  ERR_KMAG   KSNR  KRDFLAG SDSS2MASS_SEP  W1MAG  ERR_W1MAG  W1SNR   W1CHI2  W2MAG  ERR_W2MAG  W2SNR   W2CHI2  W3MAG  ERR_W3MAG  W3SNR   W3CHI2  W4MAG  ERR_W4MAG  W4SNR   W4CHI2 CC_FLAGS PH_FLAG SDSS2WISE_SEP UKIDSS_MATCHED    YFLUX     YFLUX_ERR    JFLUX     JFLUX_ERR     HFLUX     HFLUX_ERR     KFLUX     KFLUX_ERR  FIRST_MATCHED FIRST_FLUX FIRST_SNR SDSS2FIRST_SEP\n",
       "      str18           float64       float64      int32   int32 int32  int32     float64    float32   float32    int32      float64         float64         float64        float64       float64    float64    int16        int64            int64             int64           int64       int32           int32               int32                int32           int32     int32    int32     int32     int16      float64        float64         float64          float64       float64     float64     float64       float64       float64       float64       float64       float64      float64       float64       float64       float64       float64       float64     float64   float64    float64   float64   float64     float64       int16    float64  float64   float64  float64    float64     int32      float64       float64     int32     float64      float64    float64  float64  float64    int16      int32       str3       int16       int16            str19             float32            float32            float32             float32                   float64                float64         float64            float32              float32           float64       int16       float64        float64         float64        float64       float64        float64          int16          float64            float64          float64       float64       float64       float64       float64        float64         float64      float64    float64    float64       int16        float64        int16     float64 float64  float64 float64  float64 float64  float64  int32  float64 float64  float64  int32  float64 float64  float64  int32     float64    float64  float64  float64 float64 float64  float64  float64 float64 float64  float64  float64 float64 float64  float64  float64 float64   str4     str4     float64        int16        float32     float32    float32     float32     float32     float32     float32     float32       int16      float64    float64     float64    \n",
       "------------------ ------------- ------------- --------- ----- ----- ------- ------------- ------- ----------- -------- ------------- ----------------- -------------- ------------- ------------- ------- ----------- -------------- ----------------- ----------------- ------------- ---------- -------------------- ------------------ ---------------------- -------- --------- ------- ----------- ------- --------------- ------------- ------------------ ------------- -------------- -------- ------------- ------------- ------------- ------------- ------------- ------------- ------------ ------------- ------------- ------------- ------------- ------------- --------- ---------- ---------- -------- --------- ------------- ----------- ------- ---------- ------- ---------- ---------- --------- ------------- ------------- -------- ------------ ------------ -------- ------- --------- ---------- --------- ------------ ---------- ------------ ------------------- ------------------ ------------------ ------------------ -------------------- ------------------------------ -------------- --------------- --------------------- -------------------- ------------- ----------- ------------- --------------- ---------------- ----------- --------------- -------------- --------------- ---------------- -------------------- ----------- --------------- ----------- --------------- ------------ ---------------- -------------- ---------- ---------- ---------- -------------- ------------ ------------- ------- -------- ------- -------- ------- -------- ------- ------- ------- -------- ------- ------- ------- -------- ------- ------- ------------- ------- --------- ------- ------- ------- --------- ------- ------- ------- --------- ------- ------- ------- --------- ------- ------- -------- ------- ------------- -------------- ----------- ----------- ---------- ----------- ----------- ----------- ----------- ----------- ------------- ---------- --------- --------------\n",
       "015303.65+063027.2 28.2652349991 6.50756261131 169873473  4403 55536     848 2.51666498184 2.51666 0.000363433        0 2.50995565979 0.000791652557205 0.121793631558 2.51343318305 2.51200554124    -1.0           0 16492674564096                 0                 0             0          0             -1 .. -1           -1 .. -1               -1 .. -1        0        -1      -1          -1       1 -0.602274933928 37.3127077439       -1.0 .. -1.0 36.8344391436 0.998600308035     -1.0 2716.61671023 1550.93074634 1165.68596389 5.92788176733 37.2684244751 1.56120636639 2886.7173085 1451.27577464 1435.44153387 2.19716859306 23.6776814208 4.10517507042      -1.0       -1.0       -1.0     -1.0      -1.0          -1.0           0     0.0        0.0     0.0        0.0        0.0         0           0.0           0.0        0          0.0          0.0      0.0     0.0       0.0       5065     53353          301          3           62 1237667228220785117 1.12776 .. 3.22739 22.1526 .. 1.11203 22.3531 .. 21.1748 0.198521 .. 0.289981 1.07475423813 .. 3.32800769806 -24.6468625902 0.0729340538383 0.333949 .. 0.0958121 0.053882 .. 0.016054 21.9607442066           6 1.65636837482 0.0906365811825 -0.0690748766065         0.0             0.0            0.0               0              0.0                  0.0         0.0             0.0         0.0             0.0          0.0              0.0            0.0        0.0        0.0        0.0              0          0.0             1     0.0      0.0     0.0      0.0     0.0      0.0     0.0       0     0.0      0.0     0.0       0     0.0      0.0     0.0       0           0.0     0.0       0.0     0.0     0.0     0.0       0.0     0.0     0.0     0.0       0.0     0.0     0.0     0.0       0.0     0.0     0.0                            0.0              1 4.04862e-32 3.41356e-32 6.3501e-32 5.90812e-32 1.24759e-31 5.52526e-32 1.51152e-31 6.08412e-32             0        0.0       0.0            0.0"
      ]
     },
     "execution_count": 15,
     "metadata": {},
     "output_type": "execute_result"
    }
   ],
   "source": [
    "boss_dr12[mt[0]]"
   ]
  },
  {
   "cell_type": "code",
   "execution_count": 19,
   "metadata": {
    "collapsed": false
   },
   "outputs": [
    {
     "name": "stdout",
     "output_type": "stream",
     "text": [
      "Filename: /raid/Raw_IGMspec//BOSS/DR12Q/spec-4403-55536-0848.fits.gz\n",
      "No.    Name         Type      Cards   Dimensions   Format\n",
      "0    PRIMARY     PrimaryHDU       5   (4607,)      float32   \n",
      "1                ImageHDU         6   (4607,)      float32   \n",
      "2                ImageHDU         6   (4607,)      float32   \n",
      "3                ImageHDU         6   (4607,)      float32   \n"
     ]
    }
   ],
   "source": [
    "hdu = fits.open('/raid/Raw_IGMspec//BOSS/DR12Q/spec-4403-55536-0848.fits.gz')\n",
    "hdu.info()"
   ]
  },
  {
   "cell_type": "code",
   "execution_count": 21,
   "metadata": {
    "collapsed": false
   },
   "outputs": [
    {
     "data": {
      "text/plain": [
       "array([ nan,  nan,  nan, ...,  nan,  nan,  nan], dtype=float32)"
      ]
     },
     "execution_count": 21,
     "metadata": {},
     "output_type": "execute_result"
    }
   ],
   "source": [
    "hdu[3].data"
   ]
  },
  {
   "cell_type": "code",
   "execution_count": 23,
   "metadata": {
    "collapsed": true
   },
   "outputs": [],
   "source": [
    "spec = lsio.readspec('/raid/Raw_IGMspec//BOSS/DR12Q/spec-4403-55536-0848.fits.gz')"
   ]
  },
  {
   "cell_type": "code",
   "execution_count": 24,
   "metadata": {
    "collapsed": false
   },
   "outputs": [
    {
     "name": "stderr",
     "output_type": "stream",
     "text": [
      "/Users/xavier/local/Python/linetools/linetools/spectra/xspectrum1d.py:422: UserWarning: This spectrum does not contain an input continuum array\n",
      "  warnings.warn(\"This spectrum does not contain an input continuum array\")\n"
     ]
    },
    {
     "data": {
      "text/plain": [
       "nan"
      ]
     },
     "execution_count": 24,
     "metadata": {},
     "output_type": "execute_result"
    }
   ],
   "source": [
    "spec.co"
   ]
  },
  {
   "cell_type": "markdown",
   "metadata": {},
   "source": [
    "### Another problem child -- 4217-55478-0850"
   ]
  },
  {
   "cell_type": "code",
   "execution_count": 21,
   "metadata": {
    "collapsed": false
   },
   "outputs": [
    {
     "data": {
      "text/html": [
       "&lt;Row index=2249&gt;\n",
       "<table id=\"table4605985104\">\n",
       "<thead><tr><th>SDSS_NAME</th><th>RA</th><th>DEC</th><th>THING_ID</th><th>PLATE</th><th>MJD</th><th>FIBERID</th><th>Z_VI</th><th>Z_PIPE</th><th>ERR_ZPIPE</th><th>ZWARNING</th><th>Z_PCA</th><th>ERR_ZPCA</th><th>PCA_QUAL</th><th>Z_CIV</th><th>Z_CIII</th><th>Z_MGII</th><th>SDSS_MORPHO</th><th>BOSS_TARGET1</th><th>ANCILLARY_TARGET1</th><th>ANCILLARY_TARGET2</th><th>EBOSS_TARGET0</th><th>NSPEC_BOSS</th><th>PLATE_DUPLICATE [32]</th><th>MJD_DUPLICATE [32]</th><th>FIBERID_DUPLICATE [32]</th><th>SDSS_DR7</th><th>PLATE_DR7</th><th>MJD_DR7</th><th>FIBERID_DR7</th><th>UNIFORM</th><th>ALPHA_NU</th><th>SNR_SPEC</th><th>SNR_DUPLICATE [32]</th><th>SNR_1700</th><th>SNR_3000</th><th>SNR_5150</th><th>FWHM_CIV</th><th>BHWHM_CIV</th><th>RHWHM_CIV</th><th>AMP_CIV</th><th>REWE_CIV</th><th>ERR_REWE_CIV</th><th>FWHM_CIII</th><th>BHWHM_CIII</th><th>RHWHM_CIII</th><th>AMP_CIII</th><th>REWE_CIII</th><th>ERR_REWE_CIII</th><th>FWHM_MGII</th><th>BHWHM_MGII</th><th>RHWHM_MGII</th><th>AMP_MGII</th><th>REWE_MGII</th><th>ERR_REWE_MGII</th><th>BAL_FLAG_VI</th><th>BI_CIV</th><th>ERR_BI_CIV</th><th>AI_CIV</th><th>ERR_AI_CIV</th><th>CHI2TROUGH</th><th>NCIV_2000</th><th>VMIN_CIV_2000</th><th>VMAX_CIV_2000</th><th>NCIV_450</th><th>VMIN_CIV_450</th><th>VMAX_CIV_450</th><th>REW_SIIV</th><th>REW_CIV</th><th>REW_ALIII</th><th>RUN_NUMBER</th><th>PHOTO_MJD</th><th>RERUN_NUMBER</th><th>COL_NUMBER</th><th>FIELD_NUMBER</th><th>OBJ_ID</th><th>PSFFLUX [5]</th><th>IVAR_PSFFLUX [5]</th><th>PSFMAG [5]</th><th>ERR_PSFMAG [5]</th><th>TARGET_FLUX [5]</th><th>MI</th><th>DGMI</th><th>EXTINCTION [5]</th><th>EXTINCTION_RECAL [5]</th><th>HI_GAL</th><th>VAR_MATCHED</th><th>VAR_CHI2</th><th>VAR_A</th><th>VAR_GAMMA</th><th>RASS_COUNTS</th><th>RASS_COUNTS_SNR</th><th>SDSS2ROSAT_SEP</th><th>N_DETECTION_XMM</th><th>FLUX02_12KEV_SGL</th><th>ERR_FLUX02_12KEV_SGL</th><th>FLUX02_2KEV</th><th>ERR_FLUX02_2KEV</th><th>FLUX2_12KEV</th><th>ERR_FLUX2_12KEV</th><th>FLUX02_12KEV</th><th>ERR_FLUX02_12KEV</th><th>LUM02_2KEV_SGL</th><th>LUM05_2KEV</th><th>LUM2_12KEV</th><th>LUM02_2KEV</th><th>LUMX2_10_UPPER</th><th>SDSS2XMM_SEP</th><th>GALEX_MATCHED</th><th>FUV</th><th>FUV_IVAR</th><th>NUV</th><th>NUV_IVAR</th><th>JMAG</th><th>ERR_JMAG</th><th>JSNR</th><th>JRDFLAG</th><th>HMAG</th><th>ERR_HMAG</th><th>HSNR</th><th>HRDFLAG</th><th>KMAG</th><th>ERR_KMAG</th><th>KSNR</th><th>KRDFLAG</th><th>SDSS2MASS_SEP</th><th>W1MAG</th><th>ERR_W1MAG</th><th>W1SNR</th><th>W1CHI2</th><th>W2MAG</th><th>ERR_W2MAG</th><th>W2SNR</th><th>W2CHI2</th><th>W3MAG</th><th>ERR_W3MAG</th><th>W3SNR</th><th>W3CHI2</th><th>W4MAG</th><th>ERR_W4MAG</th><th>W4SNR</th><th>W4CHI2</th><th>CC_FLAGS</th><th>PH_FLAG</th><th>SDSS2WISE_SEP</th><th>UKIDSS_MATCHED</th><th>YFLUX</th><th>YFLUX_ERR</th><th>JFLUX</th><th>JFLUX_ERR</th><th>HFLUX</th><th>HFLUX_ERR</th><th>KFLUX</th><th>KFLUX_ERR</th><th>FIRST_MATCHED</th><th>FIRST_FLUX</th><th>FIRST_SNR</th><th>SDSS2FIRST_SEP</th></tr></thead>\n",
       "<thead><tr><th>str18</th><th>float64</th><th>float64</th><th>int32</th><th>int32</th><th>int32</th><th>int32</th><th>float64</th><th>float32</th><th>float32</th><th>int32</th><th>float64</th><th>float64</th><th>float64</th><th>float64</th><th>float64</th><th>float64</th><th>int16</th><th>int64</th><th>int64</th><th>int64</th><th>int64</th><th>int32</th><th>int32</th><th>int32</th><th>int32</th><th>int32</th><th>int32</th><th>int32</th><th>int32</th><th>int16</th><th>float64</th><th>float64</th><th>float64</th><th>float64</th><th>float64</th><th>float64</th><th>float64</th><th>float64</th><th>float64</th><th>float64</th><th>float64</th><th>float64</th><th>float64</th><th>float64</th><th>float64</th><th>float64</th><th>float64</th><th>float64</th><th>float64</th><th>float64</th><th>float64</th><th>float64</th><th>float64</th><th>float64</th><th>int16</th><th>float64</th><th>float64</th><th>float64</th><th>float64</th><th>float64</th><th>int32</th><th>float64</th><th>float64</th><th>int32</th><th>float64</th><th>float64</th><th>float64</th><th>float64</th><th>float64</th><th>int16</th><th>int32</th><th>str3</th><th>int16</th><th>int16</th><th>str19</th><th>float32</th><th>float32</th><th>float32</th><th>float32</th><th>float64</th><th>float64</th><th>float64</th><th>float32</th><th>float32</th><th>float64</th><th>int16</th><th>float64</th><th>float64</th><th>float64</th><th>float64</th><th>float64</th><th>float64</th><th>int16</th><th>float64</th><th>float64</th><th>float64</th><th>float64</th><th>float64</th><th>float64</th><th>float64</th><th>float64</th><th>float64</th><th>float64</th><th>float64</th><th>float64</th><th>int16</th><th>float64</th><th>int16</th><th>float64</th><th>float64</th><th>float64</th><th>float64</th><th>float64</th><th>float64</th><th>float64</th><th>int32</th><th>float64</th><th>float64</th><th>float64</th><th>int32</th><th>float64</th><th>float64</th><th>float64</th><th>int32</th><th>float64</th><th>float64</th><th>float64</th><th>float64</th><th>float64</th><th>float64</th><th>float64</th><th>float64</th><th>float64</th><th>float64</th><th>float64</th><th>float64</th><th>float64</th><th>float64</th><th>float64</th><th>float64</th><th>float64</th><th>str4</th><th>str4</th><th>float64</th><th>int16</th><th>float32</th><th>float32</th><th>float32</th><th>float32</th><th>float32</th><th>float32</th><th>float32</th><th>float32</th><th>int16</th><th>float64</th><th>float64</th><th>float64</th></tr></thead>\n",
       "<tr><td>000746.92+001543.0</td><td>1.94551997625</td><td>0.261949066486</td><td>102736022</td><td>4217</td><td>55478</td><td>850</td><td>2.479</td><td>0.0</td><td>0.0</td><td>646</td><td>-1.0</td><td>-1.0</td><td>-1.0</td><td>-1.0</td><td>-1.0</td><td>-1.0</td><td>0</td><td>4096</td><td>0</td><td>8</td><td>0</td><td>0</td><td>-1 .. -1</td><td>-1 .. -1</td><td>-1 .. -1</td><td>0</td><td>-1</td><td>-1</td><td>-1</td><td>0</td><td>500.0</td><td>18.0162274611</td><td>-1.0 .. -1.0</td><td>17.5962007757</td><td>0.998584490539</td><td>-1.0</td><td>-1.0</td><td>-1.0</td><td>-1.0</td><td>-1.0</td><td>-1.0</td><td>-1.0</td><td>-1.0</td><td>-1.0</td><td>-1.0</td><td>-1.0</td><td>-1.0</td><td>-1.0</td><td>-1.0</td><td>-1.0</td><td>-1.0</td><td>-1.0</td><td>-1.0</td><td>-1.0</td><td>0</td><td>-1.0</td><td>-1.0</td><td>0.0</td><td>0.0</td><td>0.0</td><td>0</td><td>0.0</td><td>0.0</td><td>0</td><td>0.0</td><td>0.0</td><td>-1.0</td><td>-1.0</td><td>-1.0</td><td>4207</td><td>52936</td><td>301</td><td>4</td><td>384</td><td>1237663543696818545</td><td>2.80416 .. 19.4646</td><td>15.693 .. 0.877697</td><td>21.3778 .. 19.2753</td><td>0.0972556 .. 0.0593684</td><td>2.64135813713 .. 19.4970245361</td><td>-26.4513873161</td><td>0.582347258925</td><td>0.363024 .. 0.104154</td><td>0.155831 .. 0.0464295</td><td>21.984099559</td><td>73</td><td>8.08155155182</td><td>0.0897826775908</td><td>0.286785572767</td><td>0.0</td><td>0.0</td><td>0.0</td><td>0</td><td>0.0</td><td>0.0</td><td>0.0</td><td>0.0</td><td>0.0</td><td>0.0</td><td>0.0</td><td>0.0</td><td>0.0</td><td>0.0</td><td>0.0</td><td>0.0</td><td>0</td><td>0.0</td><td>1</td><td>0.0772501602769</td><td>581.847663671</td><td>-6.0397269408e-05</td><td>451.712492012</td><td>0.0</td><td>0.0</td><td>0.0</td><td>0</td><td>0.0</td><td>0.0</td><td>0.0</td><td>0</td><td>0.0</td><td>0.0</td><td>0.0</td><td>0</td><td>0.0</td><td>15.96</td><td>0.0570000000298</td><td>19.1</td><td>0.9239</td><td>14.648</td><td>0.0670000016689</td><td>16.2</td><td>0.9181</td><td>10.95</td><td>0.153999999166</td><td>7.0</td><td>0.9533</td><td>7.782</td><td>-999.999023438</td><td>1.8</td><td>0.0</td><td>0000</td><td>AABU</td><td>0.031193482165</td><td>1</td><td>6.95101e-31</td><td>3.60068e-32</td><td>7.94083e-31</td><td>5.25819e-32</td><td>0.0</td><td>nan</td><td>0.0</td><td>nan</td><td>0</td><td>0.0</td><td>0.0</td><td>0.0</td></tr>\n",
       "</table>"
      ],
      "text/plain": [
       "<Row index=2249>\n",
       "    SDSS_NAME            RA           DEC        THING_ID PLATE  MJD  FIBERID   Z_VI   Z_PIPE ERR_ZPIPE ZWARNING  Z_PCA  ERR_ZPCA PCA_QUAL  Z_CIV   Z_CIII  Z_MGII SDSS_MORPHO BOSS_TARGET1 ANCILLARY_TARGET1 ANCILLARY_TARGET2 EBOSS_TARGET0 NSPEC_BOSS PLATE_DUPLICATE [32] MJD_DUPLICATE [32] FIBERID_DUPLICATE [32] SDSS_DR7 PLATE_DR7 MJD_DR7 FIBERID_DR7 UNIFORM ALPHA_NU    SNR_SPEC   SNR_DUPLICATE [32]    SNR_1700      SNR_3000    SNR_5150 FWHM_CIV BHWHM_CIV RHWHM_CIV AMP_CIV REWE_CIV ERR_REWE_CIV FWHM_CIII BHWHM_CIII RHWHM_CIII AMP_CIII REWE_CIII ERR_REWE_CIII FWHM_MGII BHWHM_MGII RHWHM_MGII AMP_MGII REWE_MGII ERR_REWE_MGII BAL_FLAG_VI  BI_CIV ERR_BI_CIV  AI_CIV ERR_AI_CIV CHI2TROUGH NCIV_2000 VMIN_CIV_2000 VMAX_CIV_2000 NCIV_450 VMIN_CIV_450 VMAX_CIV_450 REW_SIIV REW_CIV REW_ALIII RUN_NUMBER PHOTO_MJD RERUN_NUMBER COL_NUMBER FIELD_NUMBER        OBJ_ID          PSFFLUX [5]      IVAR_PSFFLUX [5]      PSFMAG [5]         ERR_PSFMAG [5]            TARGET_FLUX [5]               MI            DGMI         EXTINCTION [5]     EXTINCTION_RECAL [5]    HI_GAL    VAR_MATCHED    VAR_CHI2        VAR_A        VAR_GAMMA    RASS_COUNTS RASS_COUNTS_SNR SDSS2ROSAT_SEP N_DETECTION_XMM FLUX02_12KEV_SGL ERR_FLUX02_12KEV_SGL FLUX02_2KEV ERR_FLUX02_2KEV FLUX2_12KEV ERR_FLUX2_12KEV FLUX02_12KEV ERR_FLUX02_12KEV LUM02_2KEV_SGL LUM05_2KEV LUM2_12KEV LUM02_2KEV LUMX2_10_UPPER SDSS2XMM_SEP GALEX_MATCHED       FUV          FUV_IVAR          NUV           NUV_IVAR     JMAG  ERR_JMAG   JSNR  JRDFLAG   HMAG  ERR_HMAG   HSNR  HRDFLAG   KMAG  ERR_KMAG   KSNR  KRDFLAG SDSS2MASS_SEP  W1MAG     ERR_W1MAG     W1SNR   W1CHI2  W2MAG     ERR_W2MAG     W2SNR   W2CHI2  W3MAG    ERR_W3MAG     W3SNR   W3CHI2  W4MAG    ERR_W4MAG     W4SNR   W4CHI2 CC_FLAGS PH_FLAG SDSS2WISE_SEP  UKIDSS_MATCHED    YFLUX     YFLUX_ERR     JFLUX     JFLUX_ERR   HFLUX  HFLUX_ERR  KFLUX  KFLUX_ERR FIRST_MATCHED FIRST_FLUX FIRST_SNR SDSS2FIRST_SEP\n",
       "      str18           float64       float64       int32   int32 int32  int32  float64 float32  float32   int32   float64 float64  float64  float64 float64 float64    int16       int64           int64             int64           int64       int32           int32               int32                int32           int32     int32    int32     int32     int16  float64     float64         float64          float64       float64     float64  float64   float64   float64  float64 float64    float64     float64   float64    float64   float64   float64     float64     float64   float64    float64   float64   float64     float64       int16    float64  float64   float64  float64    float64     int32      float64       float64     int32     float64      float64    float64  float64  float64    int16      int32       str3       int16       int16            str19             float32            float32            float32              float32                    float64                float64        float64           float32               float32          float64       int16       float64        float64        float64       float64       float64        float64          int16          float64            float64          float64       float64       float64       float64       float64        float64         float64      float64    float64    float64       int16        float64        int16         float64        float64         float64         float64    float64 float64  float64  int32  float64 float64  float64  int32  float64 float64  float64  int32     float64    float64     float64     float64 float64 float64     float64     float64 float64 float64    float64     float64 float64 float64    float64     float64 float64   str4     str4     float64         int16        float32     float32     float32     float32   float32  float32  float32  float32      int16      float64    float64     float64    \n",
       "------------------ ------------- -------------- --------- ----- ----- ------- ------- ------- --------- -------- ------- -------- -------- ------- ------- ------- ----------- ------------ ----------------- ----------------- ------------- ---------- -------------------- ------------------ ---------------------- -------- --------- ------- ----------- ------- -------- ------------- ------------------ ------------- -------------- -------- -------- --------- --------- ------- -------- ------------ --------- ---------- ---------- -------- --------- ------------- --------- ---------- ---------- -------- --------- ------------- ----------- ------- ---------- ------- ---------- ---------- --------- ------------- ------------- -------- ------------ ------------ -------- ------- --------- ---------- --------- ------------ ---------- ------------ ------------------- ------------------ ------------------ ------------------ ---------------------- ------------------------------ -------------- -------------- -------------------- --------------------- ------------ ----------- ------------- --------------- -------------- ----------- --------------- -------------- --------------- ---------------- -------------------- ----------- --------------- ----------- --------------- ------------ ---------------- -------------- ---------- ---------- ---------- -------------- ------------ ------------- --------------- ------------- ----------------- ------------- ------- -------- ------- ------- ------- -------- ------- ------- ------- -------- ------- ------- ------------- ------- --------------- ------- ------- ------- --------------- ------- ------- ------- -------------- ------- ------- ------- -------------- ------- ------- -------- ------- -------------- -------------- ----------- ----------- ----------- ----------- ------- --------- ------- --------- ------------- ---------- --------- --------------\n",
       "000746.92+001543.0 1.94551997625 0.261949066486 102736022  4217 55478     850   2.479     0.0       0.0      646    -1.0     -1.0     -1.0    -1.0    -1.0    -1.0           0         4096                 0                 8             0          0             -1 .. -1           -1 .. -1               -1 .. -1        0        -1      -1          -1       0    500.0 18.0162274611       -1.0 .. -1.0 17.5962007757 0.998584490539     -1.0     -1.0      -1.0      -1.0    -1.0     -1.0         -1.0      -1.0       -1.0       -1.0     -1.0      -1.0          -1.0      -1.0       -1.0       -1.0     -1.0      -1.0          -1.0           0    -1.0       -1.0     0.0        0.0        0.0         0           0.0           0.0        0          0.0          0.0     -1.0    -1.0      -1.0       4207     52936          301          4          384 1237663543696818545 2.80416 .. 19.4646 15.693 .. 0.877697 21.3778 .. 19.2753 0.0972556 .. 0.0593684 2.64135813713 .. 19.4970245361 -26.4513873161 0.582347258925 0.363024 .. 0.104154 0.155831 .. 0.0464295 21.984099559          73 8.08155155182 0.0897826775908 0.286785572767         0.0             0.0            0.0               0              0.0                  0.0         0.0             0.0         0.0             0.0          0.0              0.0            0.0        0.0        0.0        0.0              0          0.0             1 0.0772501602769 581.847663671 -6.0397269408e-05 451.712492012     0.0      0.0     0.0       0     0.0      0.0     0.0       0     0.0      0.0     0.0       0           0.0   15.96 0.0570000000298    19.1  0.9239  14.648 0.0670000016689    16.2  0.9181   10.95 0.153999999166     7.0  0.9533   7.782 -999.999023438     1.8     0.0     0000    AABU 0.031193482165              1 6.95101e-31 3.60068e-32 7.94083e-31 5.25819e-32     0.0       nan     0.0       nan             0        0.0       0.0            0.0"
      ]
     },
     "execution_count": 21,
     "metadata": {},
     "output_type": "execute_result"
    }
   ],
   "source": [
    "mt = np.where((boss_dr12['PLATE']==4217) & (boss_dr12['FIBERID']==850))[0]\n",
    "boss_dr12[mt[0]]"
   ]
  },
  {
   "cell_type": "markdown",
   "metadata": {},
   "source": [
    "#### Bad Z_PIPE, ok Z_VI"
   ]
  },
  {
   "cell_type": "code",
   "execution_count": null,
   "metadata": {
    "collapsed": true
   },
   "outputs": [],
   "source": []
  },
  {
   "cell_type": "markdown",
   "metadata": {
    "collapsed": true
   },
   "source": [
    "## Missing $z>4.8$ in Zhu files\n",
    "    He wasn't comfortable getting continua for these"
   ]
  },
  {
   "cell_type": "code",
   "execution_count": 19,
   "metadata": {
    "collapsed": true
   },
   "outputs": [],
   "source": [
    "hiz = boss_dr12['Z_PIPE'] > 4.7\n",
    "hiz2 = boss_dr12['Z_PCA'] > 4.7"
   ]
  },
  {
   "cell_type": "code",
   "execution_count": 20,
   "metadata": {
    "collapsed": false
   },
   "outputs": [
    {
     "data": {
      "text/plain": [
       "(795, 236)"
      ]
     },
     "execution_count": 20,
     "metadata": {},
     "output_type": "execute_result"
    }
   ],
   "source": [
    "np.sum(hiz),  np.sum(hiz2)"
   ]
  },
  {
   "cell_type": "code",
   "execution_count": 15,
   "metadata": {
    "collapsed": false
   },
   "outputs": [
    {
     "data": {
      "text/plain": [
       "(1739, 2257)"
      ]
     },
     "execution_count": 15,
     "metadata": {},
     "output_type": "execute_result"
    }
   ],
   "source": [
    "np.where(hiz)[0][0],np.where(hiz2)[0][0]"
   ]
  },
  {
   "cell_type": "markdown",
   "metadata": {},
   "source": [
    "### Grab the spectra"
   ]
  },
  {
   "cell_type": "code",
   "execution_count": 10,
   "metadata": {
    "collapsed": true
   },
   "outputs": [],
   "source": [
    "# List for bulk download\n",
    "pmf = boss_dr12[['PLATE','MJD','FIBERID']][hiz]\n",
    "pmf.write(os.getenv('RAW_IGMSPEC')+'/BOSS/pmf_12hiz.ascii', format='ascii')\n",
    "#  Had to then strip the first line"
   ]
  },
  {
   "cell_type": "markdown",
   "metadata": {},
   "source": [
    "#### wget\n",
    "\n",
    "Used this website:  http://dr12.sdss3.org/bulkSpectra\n",
    "\n",
    "    Used firefox for copy/paste (Chrome failed)\n",
    "\n",
    "Then:\n",
    "\n",
    "    cd hiz\n",
    "    wget -i ../boss_12hiz.wget"
   ]
  },
  {
   "cell_type": "code",
   "execution_count": null,
   "metadata": {
    "collapsed": true
   },
   "outputs": [],
   "source": []
  }
 ],
 "metadata": {
  "kernelspec": {
   "display_name": "Python 2",
   "language": "python",
   "name": "python2"
  },
  "language_info": {
   "codemirror_mode": {
    "name": "ipython",
    "version": 2
   },
   "file_extension": ".py",
   "mimetype": "text/x-python",
   "name": "python",
   "nbconvert_exporter": "python",
   "pygments_lexer": "ipython2",
   "version": "2.7.11"
  }
 },
 "nbformat": 4,
 "nbformat_minor": 0
}
