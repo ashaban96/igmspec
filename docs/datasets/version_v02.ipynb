{
 "cells": [
  {
   "cell_type": "markdown",
   "metadata": {},
   "source": [
    "# Final notes on Version v02"
   ]
  },
  {
   "cell_type": "code",
   "execution_count": 1,
   "metadata": {
    "collapsed": true
   },
   "outputs": [],
   "source": [
    "# imports\n",
    "import pdb\n",
    "from specdb.specdb import IgmSpec\n",
    "\n",
    "from astropy import units as u\n",
    "from astropy.coordinates import match_coordinates_sky, SkyCoord\n",
    "\n",
    "#from xastropy.obs import radec as xra"
   ]
  },
  {
   "cell_type": "markdown",
   "metadata": {},
   "source": [
    "## Load"
   ]
  },
  {
   "cell_type": "code",
   "execution_count": 2,
   "metadata": {
    "collapsed": false
   },
   "outputs": [
    {
     "name": "stdout",
     "output_type": "stream",
     "text": [
      "Using /raid/IGMSPEC_DB/IGMspec_DB_v02.hdf5 for the catalog file\n",
      "Using /raid/IGMSPEC_DB/IGMspec_DB_v02.hdf5 for the DB file\n",
      "Available surveys: [u'BOSS_DR12', u'HSTQSO', u'SDSS_DR7', u'KODIAQ_DR1', u'HD-LLS_DR1', u'2QZ', u'ESI_DLA', u'HDLA100', u'GGG', u'COS-Halos', u'HST_z2', u'COS-Dwarfs', u'XQ-100']\n",
      "Database is igmspec\n",
      "Created on 2016-Oct-09\n"
     ]
    }
   ],
   "source": [
    "igmsp = IgmSpec()"
   ]
  },
  {
   "cell_type": "markdown",
   "metadata": {},
   "source": [
    "## Pairs"
   ]
  },
  {
   "cell_type": "code",
   "execution_count": 3,
   "metadata": {
    "collapsed": true
   },
   "outputs": [],
   "source": [
    "pair_sep=10*u.arcsec"
   ]
  },
  {
   "cell_type": "code",
   "execution_count": 4,
   "metadata": {
    "collapsed": true
   },
   "outputs": [],
   "source": [
    "def chk_for_pairs(maindb, pair_sep=10*u.arcsec):\n",
    "    \"\"\" Generate new IGM_IDs for an input DB\n",
    "\n",
    "    Parameters\n",
    "    ----------\n",
    "    maindb : Table\n",
    "\n",
    "    Return\n",
    "    ------\n",
    "    result : bool\n",
    "      * True = pass\n",
    "      * False = fail\n",
    "    \"\"\"\n",
    "    c_main = SkyCoord(ra=maindb['RA'], dec=maindb['DEC'], unit='deg')\n",
    "    # Find candidate dups\n",
    "    idx, d2d, d3d = match_coordinates_sky(c_main, c_main, nthneighbor=2)\n",
    "    cand_pairs = np.where(d2d < pair_sep)[0]\n",
    "    # Finish\n",
    "    print(\"There are {:d} potential pairs with separation theta<{:g}\".format(len(cand_pairs)/2,pair_sep))\n",
    "    return cand_pairs"
   ]
  },
  {
   "cell_type": "code",
   "execution_count": 5,
   "metadata": {
    "collapsed": false
   },
   "outputs": [
    {
     "name": "stdout",
     "output_type": "stream",
     "text": [
      "There are 185 potential pairs with separation theta<10 arcsec\n"
     ]
    }
   ],
   "source": [
    "cpairs = chk_for_pairs(igmsp.qcat.cat)"
   ]
  },
  {
   "cell_type": "markdown",
   "metadata": {},
   "source": [
    "### Print a list"
   ]
  },
  {
   "cell_type": "code",
   "execution_count": 9,
   "metadata": {
    "collapsed": true
   },
   "outputs": [],
   "source": [
    "c_main = SkyCoord(ra=igmsp.qcat.cat['RA'], dec=igmsp.qcat.cat['DEC'], unit='deg')"
   ]
  },
  {
   "cell_type": "code",
   "execution_count": 12,
   "metadata": {
    "collapsed": false
   },
   "outputs": [
    {
     "name": "stdout",
     "output_type": "stream",
     "text": [
      "qq = 30\n",
      "   RA      DEC    IGM_ID  zem   flag_survey\n",
      "-------- -------- ------ ------ -----------\n",
      " 32.4359   5.2871  32570  4.141       133.0\n",
      " 32.4355   5.2881 382423  4.170         8.0\n",
      "[u'0arcsec' u'3.9306arcsec']\n",
      "> <ipython-input-12-0f8c1c474fbb>(2)<module>()\n",
      "-> for qq, cpair in enumerate(cpairs):\n",
      "(Pdb) c\n",
      "qq = 31\n",
      "   RA      DEC    IGM_ID  zem   flag_survey\n",
      "-------- -------- ------ ------ -----------\n",
      " 32.4613  -0.0851  32589  2.858        15.0\n",
      " 32.4629  -0.0869 382424  2.860         8.0\n",
      "[u'0arcsec' u'8.72939arcsec']\n",
      "> <ipython-input-12-0f8c1c474fbb>(2)<module>()\n",
      "-> for qq, cpair in enumerate(cpairs):\n",
      "(Pdb) c\n",
      "qq = 203\n",
      "   RA      DEC    IGM_ID  zem   flag_survey\n",
      "-------- -------- ------ ------ -----------\n",
      "216.9947  -1.3601 218288  2.354         1.0\n",
      "216.9954  -1.3584 218290  2.278       257.0\n",
      "[u'0arcsec' u'6.2357arcsec']\n",
      "> <ipython-input-12-0f8c1c474fbb>(2)<module>()\n",
      "-> for qq, cpair in enumerate(cpairs):\n",
      "(Pdb) c\n",
      "qq = 324\n",
      "   RA      DEC    IGM_ID  zem   flag_survey\n",
      "-------- -------- ------ ------ -----------\n",
      "188.0001  -2.4013 347140  1.043      4098.0\n",
      "188.0004  -2.4021 382644  1.038      4096.0\n",
      "[u'0arcsec' u'3.0154arcsec']\n",
      "> <ipython-input-12-0f8c1c474fbb>(2)<module>()\n",
      "-> for qq, cpair in enumerate(cpairs):\n",
      "(Pdb) c\n",
      "qq = 349\n",
      "   RA      DEC    IGM_ID  zem   flag_survey\n",
      "-------- -------- ------ ------ -----------\n",
      " 17.5677  -2.3147 382485  0.956      4096.0\n",
      " 17.5677  -2.3142 382486  0.956      4096.0\n",
      "[u'0arcsec' u'1.7784arcsec']\n",
      "> <ipython-input-12-0f8c1c474fbb>(2)<module>()\n",
      "-> for qq, cpair in enumerate(cpairs):\n",
      "(Pdb) c\n",
      "qq = 351\n",
      "   RA      DEC    IGM_ID  zem   flag_survey\n",
      "-------- -------- ------ ------ -----------\n",
      " 70.3221 -43.2288 382560  0.593      4096.0\n",
      " 70.3201 -43.2288 382561  0.593      4096.0\n",
      " 70.3222 -43.2293 382562  0.593      4096.0\n",
      "[u'0arcsec' u'5.2475arcsec' u'1.68633arcsec']\n",
      "> <ipython-input-12-0f8c1c474fbb>(2)<module>()\n",
      "-> for qq, cpair in enumerate(cpairs):\n",
      "(Pdb) c\n",
      "qq = 354\n",
      "   RA      DEC    IGM_ID  zem   flag_survey\n",
      "-------- -------- ------ ------ -----------\n",
      "166.6396 -18.3567 382616  2.303      4096.0\n",
      "166.6400 -18.3572 382617  2.303      4096.0\n",
      "[u'0arcsec' u'2.44421arcsec']\n",
      "> <ipython-input-12-0f8c1c474fbb>(2)<module>()\n",
      "-> for qq, cpair in enumerate(cpairs):\n",
      "(Pdb) c\n",
      "qq = 359\n",
      "   RA      DEC    IGM_ID  zem   flag_survey\n",
      "-------- -------- ------ ------ -----------\n",
      "  9.9763 -27.4229 384354  1.310       256.0\n",
      "  9.9783 -27.4222 384356  1.260       256.0\n",
      "[u'7.18394arcsec' u'0arcsec']\n",
      "> <ipython-input-12-0f8c1c474fbb>(2)<module>()\n",
      "-> for qq, cpair in enumerate(cpairs):\n",
      "(Pdb) c\n",
      "qq = 366\n",
      "   RA      DEC    IGM_ID  zem   flag_survey\n",
      "-------- -------- ------ ------ -----------\n",
      "341.6578 -29.4963 400358  0.860       256.0\n",
      "341.6605 -29.4954 400360  0.863       256.0\n",
      "[u'0arcsec' u'9.02101arcsec']\n",
      "> <ipython-input-12-0f8c1c474fbb>(2)<module>()\n",
      "-> for qq, cpair in enumerate(cpairs):\n",
      "(Pdb) c\n"
     ]
    }
   ],
   "source": [
    "flg_cp = np.array([False]*len(igmsp.qcat.cat))\n",
    "for qq, cpair in enumerate(cpairs):\n",
    "    # Skip those already done\n",
    "    if flg_cp[cpair]:\n",
    "        continue\n",
    "    # Find the matches\n",
    "    sep = c_main[cpair].separation(c_main)\n",
    "    pairs = sep < pair_sep\n",
    "    flg_cp[pairs] = True\n",
    "    # Skip pairs with very different zem\n",
    "    if np.sum(pairs) == 2:\n",
    "        zem = igmsp.qcat.cat['zem'][pairs]\n",
    "        if np.abs(zem[0]-zem[1]) > 0.1:\n",
    "            continue\n",
    "        # Both BOSS?\n",
    "        if (igmsp.qcat.cat['flag_survey'][pairs][0] == 1.) & (\n",
    "            igmsp.qcat.cat['flag_survey'][pairs][1] == 1.):\n",
    "            continue\n",
    "    # Skip table?\n",
    "    if np.min(np.abs(igmsp.qcat.cat['RA'][pairs][0]-stbl['RA'])) < 1e-4:\n",
    "        continue\n",
    "    # XQ-100?\n",
    "    if igmsp.qcat.cat['flag_survey'][pairs][1] == 64.:\n",
    "        print(\"Skipping XQ-100\")\n",
    "        pdb.set_trace()\n",
    "        continue\n",
    "    # Print\n",
    "    print('qq = {:d}'.format(qq))\n",
    "    print(igmsp.qcat.cat[['RA','DEC','IGM_ID','zem','flag_survey']][pairs])\n",
    "    print(sep.to('arcsec')[pairs])\n",
    "    pdb.set_trace()"
   ]
  },
  {
   "cell_type": "code",
   "execution_count": null,
   "metadata": {
    "collapsed": true
   },
   "outputs": [],
   "source": [
    "tdF_bad = [[181.7848,  -0.9993],\n",
    "      ]"
   ]
  },
  {
   "cell_type": "code",
   "execution_count": 6,
   "metadata": {
    "collapsed": false
   },
   "outputs": [],
   "source": [
    "skip = [[10.9697,   4.4073],\n",
    "        [15.3189,   2.0326],\n",
    "        [23.7452,  24.5140],\n",
    "        [28.4283,  20.9148],\n",
    "        [35.1739,   1.1985],\n",
    "        [40.0218,  -0.6527],\n",
    "        [41.2998,  -1.2216],\n",
    "        [41.9780,   0.6380],\n",
    "        [123.3026,  54.2806],\n",
    "        [126.6732,  45.7450],\n",
    "        [131.5022,   7.0747],\n",
    "        [150.3681,  50.4663],\n",
    "        [150.3362,  55.8989],  # FOS lens\n",
    "        [158.2551,  47.2532],\n",
    "        [164.0395,  55.2669],\n",
    "        [170.1281,  54.7426],\n",
    "        [176.7206,  16.7400],\n",
    "        [188.5052,   6.5367],\n",
    "        [190.7380,  25.7174],\n",
    "        [193.7286,   8.7812],\n",
    "        [196.9841,   4.3710],\n",
    "        [198.7737,  47.9047],\n",
    "        [201.3239,  37.6164],\n",
    "        [211.2581,  44.8000],\n",
    "        [222.7320,  47.0272],\n",
    "        [238.3773,  22.5040],\n",
    "        [243.2571,   8.1350],\n",
    "        [253.7555,  26.0882],\n",
    "        [357.0800,   0.9549],\n",
    "        [116.9959,  43.3015],\n",
    "        [184.6687,  50.2621],\n",
    "        [166.63912,   -18.35661],  # FOS lens\n",
    "        [166.6396, -18.3567], # FOS lens\n",
    "        [216.9947,  -1.3601],  \n",
    "        [9.9763, -27.4229],  # 2QZ pair\n",
    "        [341.6578, -29.4963], # 2QZ pair\n",
    "        ]"
   ]
  },
  {
   "cell_type": "code",
   "execution_count": 7,
   "metadata": {
    "collapsed": false
   },
   "outputs": [],
   "source": [
    "sa = np.array(skip)\n",
    "stbl = Table()\n",
    "stbl['RA'] = sa[:,0]\n",
    "stbl['DEC'] = sa[:,1]\n",
    "#stbl"
   ]
  },
  {
   "cell_type": "markdown",
   "metadata": {},
   "source": [
    "### Bad sources"
   ]
  },
  {
   "cell_type": "code",
   "execution_count": 42,
   "metadata": {
    "collapsed": true
   },
   "outputs": [],
   "source": [
    "bad = [[21.0166,   0.7421],  # XQ-100\n",
    "       [23.4187,   4.0163],  # XQ-100\n",
    "       [28.4156,  -0.1850],  # XQ-100\n",
    "       [32.4355,   5.2881],  # HD-LLS, HD100\n",
    "       [32.4629,  -0.0869],  # HD-LLS (Q0207)\n",
    "       [43.8279,   0.8129],  # XQ-100\n",
    "       [129.8876,  11.2011],  # HD100\n",
    "       [131.1012,  12.7635],  # HD100\n",
    "       [143.4076,  28.7598], # HD100\n",
    "       [149.4353,  33.1399], # HD100\n",
    "       [150.3368,  55.8971], # HST-QSO, SDSS, BOSS :: Very strange..\n",
    "       [155.4868,  30.0254], #HD100\n",
    "       [164.4842,  45.9290],  #HD100\n",
    "       [173.7835,  22.4519],  #HD100\n",
    "       [216.7352,  60.4285],  #HD100\n",
    "       [338.5367,   0.0006],  #HD100\n",
    "       [356.6908,  12.7583],  #HD100\n",
    "       [170.3085,   3.4297],   # Bad COS\n",
    "       [332.2169, -19.7327],  #HD100\n",
    "       [9.9763, -26.5771],    # Not in 2QZ?! -- Nope, my bug\n",
    "       [188.0004,  -2.4021],   # Bad HSTQSO\n",
    "       [17.5677,  -2.3147 ],   # Bad HSTQSO\n",
    "      ]"
   ]
  },
  {
   "cell_type": "markdown",
   "metadata": {},
   "source": [
    "## Nsources"
   ]
  },
  {
   "cell_type": "code",
   "execution_count": 6,
   "metadata": {
    "collapsed": false
   },
   "outputs": [
    {
     "data": {
      "text/plain": [
       "405189"
      ]
     },
     "execution_count": 6,
     "metadata": {},
     "output_type": "execute_result"
    }
   ],
   "source": [
    "len(igmsp.qcat.cat)"
   ]
  },
  {
   "cell_type": "markdown",
   "metadata": {},
   "source": [
    "## NSpec"
   ]
  },
  {
   "cell_type": "code",
   "execution_count": 5,
   "metadata": {
    "collapsed": false
   },
   "outputs": [
    {
     "name": "stdout",
     "output_type": "stream",
     "text": [
      "Nspec = 433910\n"
     ]
    }
   ],
   "source": [
    "Nspec = 0\n",
    "for key in igmsp.idb.hdf.keys():\n",
    "    if key in ['catalog', 'quasars']:\n",
    "        continue\n",
    "    #\n",
    "    Nspec += igmsp.idb.hdf[key]['meta'].size\n",
    "#\n",
    "print(\"Nspec = {:d}\".format(Nspec))"
   ]
  },
  {
   "cell_type": "code",
   "execution_count": null,
   "metadata": {
    "collapsed": true
   },
   "outputs": [],
   "source": []
  }
 ],
 "metadata": {
  "kernelspec": {
   "display_name": "Python 2",
   "language": "python",
   "name": "python2"
  },
  "language_info": {
   "codemirror_mode": {
    "name": "ipython",
    "version": 2
   },
   "file_extension": ".py",
   "mimetype": "text/x-python",
   "name": "python",
   "nbconvert_exporter": "python",
   "pygments_lexer": "ipython2",
   "version": "2.7.11"
  }
 },
 "nbformat": 4,
 "nbformat_minor": 0
}
