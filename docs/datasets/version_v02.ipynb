{
 "cells": [
  {
   "cell_type": "markdown",
   "metadata": {},
   "source": [
    "# Final notes on Version v02"
   ]
  },
  {
   "cell_type": "code",
   "execution_count": 1,
   "metadata": {
    "collapsed": true
   },
   "outputs": [],
   "source": [
    "# imports\n",
    "import pdb\n",
    "from specdb.specdb import IgmSpec\n",
    "\n",
    "from astropy import units as u\n",
    "from astropy.coordinates import match_coordinates_sky, SkyCoord\n",
    "\n",
    "#from xastropy.obs import radec as xra"
   ]
  },
  {
   "cell_type": "markdown",
   "metadata": {},
   "source": [
    "## Load"
   ]
  },
  {
   "cell_type": "code",
   "execution_count": 2,
   "metadata": {
    "collapsed": false
   },
   "outputs": [
    {
     "name": "stdout",
     "output_type": "stream",
     "text": [
      "Using /raid/IGMSPEC_DB/IGMspec_DB_v02.hdf5 for the catalog file\n",
      "Using /raid/IGMSPEC_DB/IGMspec_DB_v02.hdf5 for the DB file\n",
      "Available surveys: [u'BOSS_DR12', u'HSTQSO', u'SDSS_DR7', u'KODIAQ_DR1', u'HD-LLS_DR1', u'2QZ', u'ESI_DLA', u'HDLA100', u'GGG', u'COS-Halos', u'HST_z2', u'COS-Dwarfs', u'XQ-100']\n"
     ]
    }
   ],
   "source": [
    "igmsp = IgmSpec()"
   ]
  },
  {
   "cell_type": "markdown",
   "metadata": {},
   "source": [
    "## Pairs"
   ]
  },
  {
   "cell_type": "code",
   "execution_count": 3,
   "metadata": {
    "collapsed": true
   },
   "outputs": [],
   "source": [
    "pair_sep=10*u.arcsec"
   ]
  },
  {
   "cell_type": "code",
   "execution_count": 4,
   "metadata": {
    "collapsed": true
   },
   "outputs": [],
   "source": [
    "def chk_for_pairs(maindb, pair_sep=10*u.arcsec):\n",
    "    \"\"\" Generate new IGM_IDs for an input DB\n",
    "\n",
    "    Parameters\n",
    "    ----------\n",
    "    maindb : Table\n",
    "\n",
    "    Return\n",
    "    ------\n",
    "    result : bool\n",
    "      * True = pass\n",
    "      * False = fail\n",
    "    \"\"\"\n",
    "    c_main = SkyCoord(ra=maindb['RA'], dec=maindb['DEC'], unit='deg')\n",
    "    # Find candidate dups\n",
    "    idx, d2d, d3d = match_coordinates_sky(c_main, c_main, nthneighbor=2)\n",
    "    cand_pairs = np.where(d2d < pair_sep)[0]\n",
    "    # Finish\n",
    "    print(\"There are {:d} potential pairs with separation theta<{:g}\".format(len(cand_pairs)/2,pair_sep))\n",
    "    return cand_pairs"
   ]
  },
  {
   "cell_type": "code",
   "execution_count": 5,
   "metadata": {
    "collapsed": false
   },
   "outputs": [
    {
     "name": "stdout",
     "output_type": "stream",
     "text": [
      "There are 193 potential pairs with separation theta<10 arcsec\n"
     ]
    }
   ],
   "source": [
    "cpairs = chk_for_pairs(igmsp.qcat.cat)"
   ]
  },
  {
   "cell_type": "markdown",
   "metadata": {},
   "source": [
    "### Print a list"
   ]
  },
  {
   "cell_type": "code",
   "execution_count": 6,
   "metadata": {
    "collapsed": true
   },
   "outputs": [],
   "source": [
    "c_main = SkyCoord(ra=igmsp.qcat.cat['RA'], dec=igmsp.qcat.cat['DEC'], unit='deg')"
   ]
  },
  {
   "cell_type": "code",
   "execution_count": null,
   "metadata": {
    "collapsed": false
   },
   "outputs": [
    {
     "name": "stdout",
     "output_type": "stream",
     "text": [
      "   RA      DEC    IGM_ID  zem   flag_survey\n",
      "-------- -------- ------ ------ -----------\n",
      " 32.4359   5.2871  32570  4.141       133.0\n",
      " 32.4355   5.2881 382423  4.170         8.0\n",
      "[u'0arcsec' u'3.9306arcsec']\n",
      "> <ipython-input-10-7598f3713296>(2)<module>()\n",
      "-> for cpair in cpairs:\n",
      "(Pdb) c\n",
      "   RA      DEC    IGM_ID  zem   flag_survey\n",
      "-------- -------- ------ ------ -----------\n",
      " 32.4613  -0.0851  32589  2.858        15.0\n",
      " 32.4629  -0.0869 382424  2.860         8.0\n",
      "[u'0arcsec' u'8.72939arcsec']\n",
      "> <ipython-input-10-7598f3713296>(2)<module>()\n",
      "-> for cpair in cpairs:\n",
      "(Pdb) c\n",
      "   RA      DEC    IGM_ID  zem   flag_survey\n",
      "-------- -------- ------ ------ -----------\n",
      "150.3362  55.8989  95972  1.413      4097.0\n",
      "150.3368  55.8971 328293  1.413      4098.0\n",
      "[u'0arcsec' u'6.42924arcsec']\n",
      "> <ipython-input-10-7598f3713296>(2)<module>()\n",
      "-> for cpair in cpairs:\n",
      "(Pdb) c\n",
      "   RA      DEC    IGM_ID  zem   flag_survey\n",
      "-------- -------- ------ ------ -----------\n",
      "181.7848  -1.0007 344129  1.913         2.0\n",
      "181.7848  -0.9993 394632  1.911       256.0\n",
      "[u'0arcsec' u'4.88455arcsec']\n",
      "> <ipython-input-10-7598f3713296>(2)<module>()\n",
      "-> for cpair in cpairs:\n",
      "(Pdb) c\n",
      "   RA      DEC    IGM_ID  zem   flag_survey\n",
      "-------- -------- ------ ------ -----------\n",
      "184.6687  50.2621 345438  1.458         2.0\n",
      "184.6709  50.2600 345440  1.455      4098.0\n",
      "[u'0arcsec' u'9.0947arcsec']\n",
      "> <ipython-input-10-7598f3713296>(2)<module>()\n",
      "-> for cpair in cpairs:\n",
      "(Pdb) c\n",
      "   RA      DEC    IGM_ID  zem   flag_survey\n",
      "-------- -------- ------ ------ -----------\n",
      "188.0001  -2.4013 347140  1.043      4098.0\n",
      "188.0004  -2.4021 382643  1.038      4096.0\n",
      "[u'0arcsec' u'3.0154arcsec']\n",
      "> <ipython-input-10-7598f3713296>(2)<module>()\n",
      "-> for cpair in cpairs:\n",
      "(Pdb) c\n",
      "   RA      DEC    IGM_ID  zem   flag_survey\n",
      "-------- -------- ------ ------ -----------\n",
      "228.6795  36.8473 366206  0.371         2.0\n",
      "228.6813  36.8475 382688  0.371      4096.0\n",
      "[u'0arcsec' u'5.45961arcsec']\n",
      "> <ipython-input-10-7598f3713296>(2)<module>()\n",
      "-> for cpair in cpairs:\n",
      "(Pdb) c\n",
      "   RA      DEC    IGM_ID  zem   flag_survey\n",
      "-------- -------- ------ ------ -----------\n",
      "229.8056  23.7827 366763  1.839         2.0\n",
      "229.8058  23.7818 382690  1.834      4096.0\n",
      "[u'0arcsec' u'3.25511arcsec']\n",
      "> <ipython-input-10-7598f3713296>(2)<module>()\n",
      "-> for cpair in cpairs:\n",
      "(Pdb) c\n",
      "   RA      DEC    IGM_ID  zem   flag_survey\n",
      "-------- -------- ------ ------ -----------\n",
      "236.4729   9.6057 369718  0.665      2050.0\n",
      "236.4735   9.6057 382698  0.664      4096.0\n",
      "[u'0arcsec' u'2.30368arcsec']\n",
      "> <ipython-input-10-7598f3713296>(2)<module>()\n",
      "-> for cpair in cpairs:\n",
      "(Pdb) c\n",
      "   RA      DEC    IGM_ID  zem   flag_survey\n",
      "-------- -------- ------ ------ -----------\n",
      "332.2170 -19.7333 382412  2.573         4.0\n",
      "332.2169 -19.7327 405078  2.560       128.0\n",
      "[u'0arcsec' u'2.40662arcsec']\n",
      "> <ipython-input-10-7598f3713296>(2)<module>()\n",
      "-> for cpair in cpairs:\n",
      "(Pdb) from xastropy.obs import radec as xra\n"
     ]
    },
    {
     "name": "stderr",
     "output_type": "stream",
     "text": [
      "/Users/xavier/anaconda/lib/python2.7/site-packages/astroquery/sdss/__init__.py:33: UserWarning: Experimental: SDSS has not yet been refactored to have its API match the rest of astroquery (but it's nearly there).\n",
      "  warnings.warn(\"Experimental: SDSS has not yet been refactored to have its API \"\n"
     ]
    },
    {
     "name": "stdout",
     "output_type": "stream",
     "text": [
      "(Pdb) xra.dtos1((332.2170, -19.7333 ))\n",
      "('22:08:52.08', '-19:43:59.9')\n",
      "(Pdb) c\n",
      "   RA      DEC    IGM_ID  zem   flag_survey\n",
      "-------- -------- ------ ------ -----------\n",
      " 17.5680  -2.3147 382485  0.956      4096.0\n",
      " 17.5677  -2.3142 382486  0.956      4096.0\n",
      "[u'0arcsec' u'2.08599arcsec']\n",
      "> <ipython-input-10-7598f3713296>(2)<module>()\n",
      "-> for cpair in cpairs:\n",
      "(Pdb) c\n",
      "   RA      DEC    IGM_ID  zem   flag_survey\n",
      "-------- -------- ------ ------ -----------\n",
      " 70.3221 -43.2288 382560  0.593      4096.0\n",
      " 70.3222 -43.2293 382561  0.593      4096.0\n",
      "[u'0arcsec' u'1.68633arcsec']\n",
      "> <ipython-input-10-7598f3713296>(2)<module>()\n",
      "-> for cpair in cpairs:\n",
      "(Pdb) c\n",
      "   RA      DEC    IGM_ID  zem   flag_survey\n",
      "-------- -------- ------ ------ -----------\n",
      " 73.3062 -13.0988 382567  2.300      4096.0\n",
      " 73.3073 -13.0984 405067  2.300       128.0\n",
      "[u'0arcsec' u'4.19269arcsec']\n",
      "> <ipython-input-10-7598f3713296>(2)<module>()\n",
      "-> for cpair in cpairs:\n",
      "(Pdb) xrad.stod1(('04:53:13.6', '-13:05:55'))\n",
      "*** NameError: name 'xrad' is not defined\n",
      "(Pdb) xra.stod1(('04:53:13.6', '-13:05:55'))\n",
      "(<Quantity 73.30666666666666 deg>, <Quantity -13.098611111111111 deg>)\n",
      "(Pdb) c\n",
      "   RA      DEC    IGM_ID  zem   flag_survey\n",
      "-------- -------- ------ ------ -----------\n",
      "166.6396 -18.3567 382615  2.303      4096.0\n",
      "166.6400 -18.3572 382616  2.303      4096.0\n",
      "[u'0arcsec' u'2.44421arcsec']\n",
      "> <ipython-input-10-7598f3713296>(2)<module>()\n",
      "-> for cpair in cpairs:\n",
      "(Pdb) xra.stod1(('11:06:33.39','-18:21:23.8'))\n",
      "(<Quantity 166.639125 deg>, <Quantity -18.356611111111114 deg>)\n",
      "(Pdb) xra.stod1(('11:06:33.60','-18:21:26.0'))\n",
      "(<Quantity 166.64000000000001 deg>, <Quantity -18.357222222222223 deg>)\n",
      "(Pdb) c\n",
      "   RA      DEC    IGM_ID  zem   flag_survey\n",
      "-------- -------- ------ ------ -----------\n",
      "322.8967 -12.1179 382736  0.501      4096.0\n",
      "322.8976 -12.1182 382737  0.501      4096.0\n",
      "[u'0arcsec' u'3.37295arcsec']\n",
      "> <ipython-input-10-7598f3713296>(2)<module>()\n",
      "-> for cpair in cpairs:\n",
      "(Pdb) xra.stod1(('21:31:35.261'c'-12:07:04.7961'))\n",
      "*** SyntaxError: invalid syntax (<stdin>, line 1)\n",
      "(Pdb) xra.stod1(('21:31:35.261','-12:07:04.7961'))\n",
      "(<Quantity 322.8969208333333 deg>, <Quantity -12.117998916666668 deg>)\n",
      "(Pdb) c\n",
      "   RA      DEC    IGM_ID  zem   flag_survey\n",
      "-------- -------- ------ ------ -----------\n",
      "  9.9763 -26.5771 384358  1.310       256.0\n",
      "  9.9783 -26.5778 384360  1.260       256.0\n",
      "[u'7.23051arcsec' u'0arcsec']\n",
      "> <ipython-input-10-7598f3713296>(2)<module>()\n",
      "-> for cpair in cpairs:\n",
      "(Pdb) 2**6\n",
      "64\n",
      "(Pdb) 2**8\n",
      "256\n",
      "(Pdb) xra.dtos1((9.9763,-26.571))\n",
      "('00:39:54.31', '-26:34:15.6')\n",
      "(Pdb)  xra.dtos1((9.9763,-26.5771))\n",
      "('00:39:54.31', '-26:34:37.6')\n",
      "(Pdb) cpair\n",
      "384360\n",
      "(Pdb) igmsp.qcat.cat[cpair]\n",
      "<Row index=384360>\n",
      "sig_zem flag_zem flag_survey   zem      RA      DEC    IGM_ID STYPE\n",
      "float64  str10     float64   float64 float64  float64  int64   str3\n",
      "------- -------- ----------- ------- -------- -------- ------ -----\n",
      "  0.000      2QZ       256.0   1.260   9.9783 -26.5778 384360   QSO\n",
      "(Pdb) c\n",
      "   RA      DEC    IGM_ID  zem   flag_survey\n",
      "-------- -------- ------ ------ -----------\n",
      "341.6578 -28.5037 402202  0.860       256.0\n",
      "341.6605 -28.5046 402204  0.863       256.0\n",
      "[u'0arcsec' u'9.09568arcsec']\n",
      "> <ipython-input-10-7598f3713296>(2)<module>()\n",
      "-> for cpair in cpairs:\n"
     ]
    }
   ],
   "source": [
    "flg_cp = np.array([False]*len(igmsp.qcat.cat))\n",
    "for cpair in cpairs:\n",
    "    # Skip those already done\n",
    "    if flg_cp[cpair]:\n",
    "        continue\n",
    "    # Find the matches\n",
    "    sep = c_main[cpair].separation(c_main)\n",
    "    pairs = sep < pair_sep\n",
    "    flg_cp[pairs] = True\n",
    "    # Skip pairs with very different zem\n",
    "    if np.sum(pairs) == 2:\n",
    "        zem = igmsp.qcat.cat['zem'][pairs]\n",
    "        if np.abs(zem[0]-zem[1]) > 0.1:\n",
    "            continue\n",
    "        # Both BOSS?\n",
    "        if (igmsp.qcat.cat['flag_survey'][pairs][0] == 1.) & (\n",
    "            igmsp.qcat.cat['flag_survey'][pairs][1] == 1.):\n",
    "            continue\n",
    "    # Skip table?\n",
    "    if np.min(np.abs(igmsp.qcat.cat['RA'][pairs][0]-stbl['RA'])) < 1e-4:\n",
    "        continue\n",
    "    # XQ-100?\n",
    "    if igmsp.qcat.cat['flag_survey'][pairs][1] == 64.:\n",
    "        print(\"Skipping XQ-100\")\n",
    "        pdb.set_trace()\n",
    "        continue\n",
    "    # Print\n",
    "    print(igmsp.qcat.cat[['RA','DEC','IGM_ID','zem','flag_survey']][pairs])\n",
    "    print(sep.to('arcsec')[pairs])\n",
    "    pdb.set_trace()"
   ]
  },
  {
   "cell_type": "code",
   "execution_count": null,
   "metadata": {
    "collapsed": true
   },
   "outputs": [],
   "source": [
    "tdF_bad = [[181.7848,  -0.9993],\n",
    "      ]"
   ]
  },
  {
   "cell_type": "code",
   "execution_count": 8,
   "metadata": {
    "collapsed": true
   },
   "outputs": [],
   "source": [
    "skip = [[10.9697,   4.4073],\n",
    "        [15.3189,   2.0326],\n",
    "        [23.7452,  24.5140],\n",
    "        [28.4283,  20.9148],\n",
    "        [35.1739,   1.1985],\n",
    "        [40.0218,  -0.6527],\n",
    "        [41.2998,  -1.2216],\n",
    "        [41.9780,   0.6380],\n",
    "        [123.3026,  54.2806],\n",
    "        [126.6732,  45.7450],\n",
    "        [131.5022,   7.0747],\n",
    "        [150.3681,  50.4663],\n",
    "        [150.3362,  55.8989],  # FOS lens\n",
    "        [158.2551,  47.2532],\n",
    "        [164.0395,  55.2669],\n",
    "        [170.1281,  54.7426],\n",
    "        [176.7206,  16.7400],\n",
    "        [188.5052,   6.5367],\n",
    "        [190.7380,  25.7174],\n",
    "        [193.7286,   8.7812],\n",
    "        [196.9841,   4.3710],\n",
    "        [198.7737,  47.9047],\n",
    "        [201.3239,  37.6164],\n",
    "        [211.2581,  44.8000],\n",
    "        [222.7320,  47.0272],\n",
    "        [238.3773,  22.5040],\n",
    "        [243.2571,   8.1350],\n",
    "        [253.7555,  26.0882],\n",
    "        [357.0800,   0.9549],\n",
    "        [116.9959,  43.3015]\n",
    "        [184.6687,  50.2621],\n",
    "        [166.63912,   -18.35661],  # FOS lens\n",
    "        ]"
   ]
  },
  {
   "cell_type": "code",
   "execution_count": 9,
   "metadata": {
    "collapsed": false
   },
   "outputs": [
    {
     "data": {
      "text/html": [
       "&lt;Table length=29&gt;\n",
       "<table id=\"table4410626000\" class=\"table-striped table-bordered table-condensed\">\n",
       "<thead><tr><th>RA</th><th>DEC</th></tr></thead>\n",
       "<thead><tr><th>float64</th><th>float64</th></tr></thead>\n",
       "<tr><td>10.9697</td><td>4.4073</td></tr>\n",
       "<tr><td>15.3189</td><td>2.0326</td></tr>\n",
       "<tr><td>23.7452</td><td>24.514</td></tr>\n",
       "<tr><td>28.4283</td><td>20.9148</td></tr>\n",
       "<tr><td>35.1739</td><td>1.1985</td></tr>\n",
       "<tr><td>40.0218</td><td>-0.6527</td></tr>\n",
       "<tr><td>41.2998</td><td>-1.2216</td></tr>\n",
       "<tr><td>41.978</td><td>0.638</td></tr>\n",
       "<tr><td>123.3026</td><td>54.2806</td></tr>\n",
       "<tr><td>126.6732</td><td>45.745</td></tr>\n",
       "<tr><td>...</td><td>...</td></tr>\n",
       "<tr><td>196.9841</td><td>4.371</td></tr>\n",
       "<tr><td>198.7737</td><td>47.9047</td></tr>\n",
       "<tr><td>201.3239</td><td>37.6164</td></tr>\n",
       "<tr><td>211.2581</td><td>44.8</td></tr>\n",
       "<tr><td>222.732</td><td>47.0272</td></tr>\n",
       "<tr><td>238.3773</td><td>22.504</td></tr>\n",
       "<tr><td>243.2571</td><td>8.135</td></tr>\n",
       "<tr><td>253.7555</td><td>26.0882</td></tr>\n",
       "<tr><td>357.08</td><td>0.9549</td></tr>\n",
       "<tr><td>116.9959</td><td>43.3015</td></tr>\n",
       "</table>"
      ],
      "text/plain": [
       "<Table length=29>\n",
       "   RA      DEC  \n",
       "float64  float64\n",
       "-------- -------\n",
       " 10.9697  4.4073\n",
       " 15.3189  2.0326\n",
       " 23.7452  24.514\n",
       " 28.4283 20.9148\n",
       " 35.1739  1.1985\n",
       " 40.0218 -0.6527\n",
       " 41.2998 -1.2216\n",
       "  41.978   0.638\n",
       "123.3026 54.2806\n",
       "126.6732  45.745\n",
       "     ...     ...\n",
       "196.9841   4.371\n",
       "198.7737 47.9047\n",
       "201.3239 37.6164\n",
       "211.2581    44.8\n",
       " 222.732 47.0272\n",
       "238.3773  22.504\n",
       "243.2571   8.135\n",
       "253.7555 26.0882\n",
       "  357.08  0.9549\n",
       "116.9959 43.3015"
      ]
     },
     "execution_count": 9,
     "metadata": {},
     "output_type": "execute_result"
    }
   ],
   "source": [
    "sa = np.array(skip)\n",
    "stbl = Table()\n",
    "stbl['RA'] = sa[:,0]\n",
    "stbl['DEC'] = sa[:,1]\n",
    "stbl"
   ]
  },
  {
   "cell_type": "markdown",
   "metadata": {},
   "source": [
    "### Bad sources"
   ]
  },
  {
   "cell_type": "code",
   "execution_count": 42,
   "metadata": {
    "collapsed": true
   },
   "outputs": [],
   "source": [
    "bad = [[21.0166,   0.7421],  # XQ-100\n",
    "       [23.4187,   4.0163],  # XQ-100\n",
    "       [28.4156,  -0.1850],  # XQ-100\n",
    "       [32.4355,   5.2881],  # HD-LLS, HD100\n",
    "       [32.4629,  -0.0869],  # HD-LLS (Q0207)\n",
    "       [43.8279,   0.8129],  # XQ-100\n",
    "       [129.8876,  11.2011],  # HD100\n",
    "       [131.1012,  12.7635],  # HD100\n",
    "       [143.4076,  28.7598], # HD100\n",
    "       [149.4353,  33.1399], # HD100\n",
    "       [150.3368,  55.8971], # HST-QSO, SDSS, BOSS :: Very strange..\n",
    "       [155.4868,  30.0254], #HD100\n",
    "       [164.4842,  45.9290],  #HD100\n",
    "       [173.7835,  22.4519],  #HD100\n",
    "       [216.7352,  60.4285],  #HD100\n",
    "       [338.5367,   0.0006],  #HD100\n",
    "       [356.6908,  12.7583],  #HD100\n",
    "       [170.3085,   3.4297],   # Bad COS\n",
    "       [332.2169, -19.7327],  #HD100\n",
    "       [9.9763, -26.5771],    # Not in 2QZ?!\n",
    "      ]"
   ]
  },
  {
   "cell_type": "markdown",
   "metadata": {},
   "source": [
    "## Nsources"
   ]
  },
  {
   "cell_type": "code",
   "execution_count": 6,
   "metadata": {
    "collapsed": false
   },
   "outputs": [
    {
     "data": {
      "text/plain": [
       "405189"
      ]
     },
     "execution_count": 6,
     "metadata": {},
     "output_type": "execute_result"
    }
   ],
   "source": [
    "len(igmsp.qcat.cat)"
   ]
  },
  {
   "cell_type": "markdown",
   "metadata": {},
   "source": [
    "## NSpec"
   ]
  },
  {
   "cell_type": "code",
   "execution_count": 5,
   "metadata": {
    "collapsed": false
   },
   "outputs": [
    {
     "name": "stdout",
     "output_type": "stream",
     "text": [
      "Nspec = 433910\n"
     ]
    }
   ],
   "source": [
    "Nspec = 0\n",
    "for key in igmsp.idb.hdf.keys():\n",
    "    if key in ['catalog', 'quasars']:\n",
    "        continue\n",
    "    #\n",
    "    Nspec += igmsp.idb.hdf[key]['meta'].size\n",
    "#\n",
    "print(\"Nspec = {:d}\".format(Nspec))"
   ]
  },
  {
   "cell_type": "code",
   "execution_count": null,
   "metadata": {
    "collapsed": true
   },
   "outputs": [],
   "source": []
  }
 ],
 "metadata": {
  "kernelspec": {
   "display_name": "Python 2",
   "language": "python",
   "name": "python2"
  },
  "language_info": {
   "codemirror_mode": {
    "name": "ipython",
    "version": 2
   },
   "file_extension": ".py",
   "mimetype": "text/x-python",
   "name": "python",
   "nbconvert_exporter": "python",
   "pygments_lexer": "ipython2",
   "version": "2.7.11"
  }
 },
 "nbformat": 4,
 "nbformat_minor": 0
}
