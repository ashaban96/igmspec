{
 "cells": [
  {
   "cell_type": "markdown",
   "metadata": {},
   "source": [
    "# COS-Halos Spectra (Quasars only)"
   ]
  },
  {
   "cell_type": "code",
   "execution_count": 1,
   "metadata": {
    "collapsed": true
   },
   "outputs": [],
   "source": [
    "# imports"
   ]
  },
  {
   "cell_type": "markdown",
   "metadata": {},
   "source": [
    "## Summary"
   ]
  },
  {
   "cell_type": "code",
   "execution_count": 15,
   "metadata": {
    "collapsed": true
   },
   "outputs": [],
   "source": [
    "summ_file = os.getenv('RAW_IGMSPEC')+'/COS-Halos/cos_halos_obs.ascii'"
   ]
  },
  {
   "cell_type": "code",
   "execution_count": 19,
   "metadata": {
    "collapsed": false
   },
   "outputs": [],
   "source": [
    "coshalos = Table.read(summ_file,format='ascii')"
   ]
  },
  {
   "cell_type": "code",
   "execution_count": 20,
   "metadata": {
    "collapsed": false
   },
   "outputs": [
    {
     "data": {
      "text/html": [
       "&lt;Table length=3&gt;\n",
       "<table id=\"table4559710352\">\n",
       "<thead><tr><th>QSO</th><th>RA_JT</th><th>DEC_JT</th><th>zem</th><th>m_FUV</th><th>t_G130M</th><th>t_G160M</th><th>Visit</th></tr></thead>\n",
       "<thead><tr><th>str23</th><th>float64</th><th>float64</th><th>float64</th><th>float64</th><th>int64</th><th>int64</th><th>str5</th></tr></thead>\n",
       "<tr><td>SDSSJ004222.29-103743.8</td><td>10.593</td><td>-10.629</td><td>0.424</td><td>17.42</td><td>2448</td><td>2781</td><td>05</td></tr>\n",
       "<tr><td>SDSSJ022614.46+001529.7</td><td>36.56</td><td>0.258</td><td>0.615</td><td>17.87</td><td>5826</td><td>4361</td><td>26,A5</td></tr>\n",
       "<tr><td>SDSSJ040148.98-054056.5</td><td>60.454</td><td>-5.682</td><td>0.57</td><td>18.33</td><td>5377</td><td>5912</td><td>22</td></tr>\n",
       "</table>"
      ],
      "text/plain": [
       "<Table length=3>\n",
       "          QSO            RA_JT   DEC_JT   zem    m_FUV  t_G130M t_G160M Visit\n",
       "         str23          float64 float64 float64 float64  int64   int64   str5\n",
       "----------------------- ------- ------- ------- ------- ------- ------- -----\n",
       "SDSSJ004222.29-103743.8  10.593 -10.629   0.424   17.42    2448    2781    05\n",
       "SDSSJ022614.46+001529.7   36.56   0.258   0.615   17.87    5826    4361 26,A5\n",
       "SDSSJ040148.98-054056.5  60.454  -5.682    0.57   18.33    5377    5912    22"
      ]
     },
     "execution_count": 20,
     "metadata": {},
     "output_type": "execute_result"
    }
   ],
   "source": [
    "coshalos[0:3]"
   ]
  },
  {
   "cell_type": "markdown",
   "metadata": {},
   "source": [
    "## Visits"
   ]
  },
  {
   "cell_type": "code",
   "execution_count": 21,
   "metadata": {
    "collapsed": true
   },
   "outputs": [],
   "source": [
    "visit_file = os.getenv('RAW_IGMSPEC')+'/COS-Halos/cos_halos_visits.ascii'"
   ]
  },
  {
   "cell_type": "code",
   "execution_count": 24,
   "metadata": {
    "collapsed": false
   },
   "outputs": [],
   "source": [
    "ch_visits = Table.read(visit_file,format='ascii')"
   ]
  },
  {
   "cell_type": "code",
   "execution_count": 25,
   "metadata": {
    "collapsed": false
   },
   "outputs": [
    {
     "data": {
      "text/html": [
       "&lt;Table length=3&gt;\n",
       "<table id=\"table4559850256\">\n",
       "<thead><tr><th>Visit</th><th>Status</th><th>Targets</th><th>Config1</th><th>Config2</th><th>Orbits</th><th>Start_UT</th></tr></thead>\n",
       "<thead><tr><th>str2</th><th>str8</th><th>str23</th><th>str7</th><th>str7</th><th>int64</th><th>str19</th></tr></thead>\n",
       "<tr><td>25</td><td>Archived</td><td>SDSSJ092837.98+602521.0</td><td>COS/FUV</td><td>COS/NUV</td><td>2</td><td>Mar6,2010T05:49:37</td></tr>\n",
       "<tr><td>42</td><td>Archived</td><td>SDSSJ094331.61+053131.4</td><td>COS/FUV</td><td>COS/NUV</td><td>3</td><td>Mar6,2010T10:06:20</td></tr>\n",
       "<tr><td>13</td><td>Archived</td><td>SDSSJ100902.06+071343.8</td><td>COS/FUV</td><td>COS/NUV</td><td>3</td><td>Mar29,2010T22:09:04</td></tr>\n",
       "</table>"
      ],
      "text/plain": [
       "<Table length=3>\n",
       "Visit  Status          Targets         ... Config2 Orbits       Start_UT     \n",
       " str2   str8            str23          ...   str7  int64         str19       \n",
       "----- -------- ----------------------- ... ------- ------ -------------------\n",
       "   25 Archived SDSSJ092837.98+602521.0 ... COS/NUV      2  Mar6,2010T05:49:37\n",
       "   42 Archived SDSSJ094331.61+053131.4 ... COS/NUV      3  Mar6,2010T10:06:20\n",
       "   13 Archived SDSSJ100902.06+071343.8 ... COS/NUV      3 Mar29,2010T22:09:04"
      ]
     },
     "execution_count": 25,
     "metadata": {},
     "output_type": "execute_result"
    }
   ],
   "source": [
    "ch_visits[0:3]"
   ]
  },
  {
   "cell_type": "markdown",
   "metadata": {},
   "source": [
    "## Test spectrum"
   ]
  },
  {
   "cell_type": "markdown",
   "metadata": {},
   "source": [
    "### xspec"
   ]
  },
  {
   "cell_type": "code",
   "execution_count": 3,
   "metadata": {
    "collapsed": true
   },
   "outputs": [],
   "source": [
    "xspec_file = os.getenv('DROPBOX_DIR')+'/COS-Halos/Targets/J1330+2813/Data/J1330+2813_xspec.fits'"
   ]
  },
  {
   "cell_type": "code",
   "execution_count": 4,
   "metadata": {
    "collapsed": true
   },
   "outputs": [],
   "source": [
    "hdu_xspec = fits.open(xspec_file)"
   ]
  },
  {
   "cell_type": "code",
   "execution_count": 5,
   "metadata": {
    "collapsed": false
   },
   "outputs": [
    {
     "name": "stdout",
     "output_type": "stream",
     "text": [
      "Filename: /u/xavier/Dropbox//COS-Halos/Targets/J1330+2813/Data/J1330+2813_xspec.fits\n",
      "No.    Name         Type      Cards   Dimensions   Format\n",
      "0    PRIMARY     PrimaryHDU       5   (60300,)     float64   \n",
      "1                ImageHDU         6   (60300,)     float64   \n",
      "2                ImageHDU         6   (60300,)     float64   \n"
     ]
    }
   ],
   "source": [
    "hdu_xspec.info()"
   ]
  },
  {
   "cell_type": "markdown",
   "metadata": {},
   "source": [
    "### nbin3"
   ]
  },
  {
   "cell_type": "code",
   "execution_count": 7,
   "metadata": {
    "collapsed": false
   },
   "outputs": [],
   "source": [
    "nbin3_file = os.getenv('DROPBOX_DIR')+'/COS-Halos/Targets/J1330+2813/Data/J1330+2813_nbin3_coadd.fits'"
   ]
  },
  {
   "cell_type": "code",
   "execution_count": 8,
   "metadata": {
    "collapsed": true
   },
   "outputs": [],
   "source": [
    "hdu_nbin3 = fits.open(nbin3_file)"
   ]
  },
  {
   "cell_type": "code",
   "execution_count": 9,
   "metadata": {
    "collapsed": false
   },
   "outputs": [
    {
     "name": "stdout",
     "output_type": "stream",
     "text": [
      "Filename: /u/xavier/Dropbox//COS-Halos/Targets/J1330+2813/Data/J1330+2813_nbin3_coadd.fits\n",
      "No.    Name         Type      Cards   Dimensions   Format\n",
      "0    PRIMARY     PrimaryHDU       4   ()              \n",
      "1                BinTableHDU     69   1R x 26C     [19645D, 19645E, 19645D, 19645E, 19645E, 19645D, 19645E, 19645E, 19645E, J, D, D, D, 2E, 2E, 2E, 2E, E, 2D, E, 2D, E, 2D, E, 4A, 10A]   \n"
     ]
    }
   ],
   "source": [
    "hdu_nbin3.info()"
   ]
  },
  {
   "cell_type": "code",
   "execution_count": 10,
   "metadata": {
    "collapsed": true
   },
   "outputs": [],
   "source": [
    "data = Table(hdu_nbin3[1].data)"
   ]
  },
  {
   "cell_type": "code",
   "execution_count": 12,
   "metadata": {
    "collapsed": false
   },
   "outputs": [
    {
     "data": {
      "text/html": [
       "&lt;Table length=1&gt;\n",
       "<table id=\"table4547208720\">\n",
       "<thead><tr><th>WAVE [19645]</th><th>FLUX [19645]</th><th>ERROR [19645]</th><th>SIGMA_UP [19645]</th><th>SIGMA_DOWN [19645]</th><th>WBIN [19645]</th><th>FBIN [19645]</th><th>BKGBIN [19645]</th><th>TIMEBIN [19645]</th><th>NPIX</th><th>VELOFF_G130</th><th>VELOFF_G160</th><th>VELOFF_G130_G160</th><th>G130S_WALIGN [2]</th><th>G130L_WALIGN [2]</th><th>G160S_WALIGN [2]</th><th>G160L_WALIGN [2]</th><th>Z130</th><th>G130_WAVEREF [2]</th><th>Z160</th><th>G160_WAVEREF [2]</th><th>ZALIGN</th><th>WAVEREF [2]</th><th>ALIGN_WIDTH</th><th>CALCOS_VER</th><th>CALCOS_DATE</th></tr></thead>\n",
       "<thead><tr><th>float64</th><th>float32</th><th>float64</th><th>float32</th><th>float32</th><th>float64</th><th>float32</th><th>float32</th><th>float32</th><th>int32</th><th>float64</th><th>float64</th><th>float64</th><th>float32</th><th>float32</th><th>float32</th><th>float32</th><th>float32</th><th>float64</th><th>float32</th><th>float64</th><th>float32</th><th>float64</th><th>float32</th><th>str4</th><th>str10</th></tr></thead>\n",
       "<tr><td>1135.3712415 .. 1795.14398647</td><td>0.00135703 .. 0.000623868</td><td>0.000551963108592 .. 0.000347608089214</td><td>0.000520176 .. 0.000428958</td><td>0.00058375 .. 0.000266258</td><td>1135.3712415 .. 1795.14398647</td><td>9.0 .. 6.0</td><td>0.225 .. 0.36</td><td>6466.31 .. 9040.37</td><td>19645</td><td>-5.59726105646</td><td>1.09800599406</td><td>-12.0134769877</td><td>1205.0 .. 1208.9</td><td>1332.0 .. 1338.0</td><td>1525.0 .. 1530.0</td><td>1668.0 .. 1674.0</td><td>0.0</td><td>1260.422 .. 1334.532</td><td>0.0</td><td>1526.707 .. 1670.787</td><td>0.0</td><td>1260.4221 .. 1526.7066</td><td>300.0</td><td>2.12</td><td>2010-12-22</td></tr>\n",
       "</table>"
      ],
      "text/plain": [
       "<Table length=1>\n",
       "         WAVE [19645]                FLUX [19645]       ... CALCOS_DATE\n",
       "           float64                     float32          ...    str10   \n",
       "----------------------------- ------------------------- ... -----------\n",
       "1135.3712415 .. 1795.14398647 0.00135703 .. 0.000623868 ...  2010-12-22"
      ]
     },
     "execution_count": 12,
     "metadata": {},
     "output_type": "execute_result"
    }
   ],
   "source": [
    "data"
   ]
  },
  {
   "cell_type": "code",
   "execution_count": 13,
   "metadata": {
    "collapsed": true
   },
   "outputs": [],
   "source": [
    "head = hdu_nbin3[1].header"
   ]
  },
  {
   "cell_type": "code",
   "execution_count": 14,
   "metadata": {
    "collapsed": false
   },
   "outputs": [
    {
     "data": {
      "text/plain": [
       "XTENSION= 'BINTABLE'           /Binary table written by MWRFITS v1.6            \n",
       "BITPIX  =                    8 /Required value                                  \n",
       "NAXIS   =                    2 /Required value                                  \n",
       "NAXIS1  =               943098 /Number of bytes per row                         \n",
       "NAXIS2  =                    1 /Number of rows                                  \n",
       "PCOUNT  =                    0 /Normally 0 (no varying arrays)                  \n",
       "GCOUNT  =                    1 /Required value                                  \n",
       "TFIELDS =                   26 /Number of columns in table                      \n",
       "COMMENT                                                                         \n",
       "COMMENT  *** End of mandatory fields ***                                        \n",
       "COMMENT                                                                         \n",
       "COMMENT                                                                         \n",
       "COMMENT  *** Column names ***                                                   \n",
       "COMMENT                                                                         \n",
       "TTYPE1  = 'WAVE    '           /                                                \n",
       "TTYPE2  = 'FLUX    '           /                                                \n",
       "TTYPE3  = 'ERROR   '           /                                                \n",
       "TTYPE4  = 'SIGMA_UP '          /                                                \n",
       "TTYPE5  = 'SIGMA_DOWN '        /                                                \n",
       "TTYPE6  = 'WBIN    '           /                                                \n",
       "TTYPE7  = 'FBIN    '           /                                                \n",
       "TTYPE8  = 'BKGBIN  '           /                                                \n",
       "TTYPE9  = 'TIMEBIN '           /                                                \n",
       "TTYPE10 = 'NPIX    '           /                                                \n",
       "TTYPE11 = 'VELOFF_G130 '       /                                                \n",
       "TTYPE12 = 'VELOFF_G160 '       /                                                \n",
       "TTYPE13 = 'VELOFF_G130_G160 '  /                                                \n",
       "TTYPE14 = 'G130S_WALIGN '      /                                                \n",
       "TTYPE15 = 'G130L_WALIGN '      /                                                \n",
       "TTYPE16 = 'G160S_WALIGN '      /                                                \n",
       "TTYPE17 = 'G160L_WALIGN '      /                                                \n",
       "TTYPE18 = 'Z130    '           /                                                \n",
       "TTYPE19 = 'G130_WAVEREF '      /                                                \n",
       "TTYPE20 = 'Z160    '           /                                                \n",
       "TTYPE21 = 'G160_WAVEREF '      /                                                \n",
       "TTYPE22 = 'ZALIGN  '           /                                                \n",
       "TTYPE23 = 'WAVEREF '           /                                                \n",
       "TTYPE24 = 'ALIGN_WIDTH '       /                                                \n",
       "TTYPE25 = 'CALCOS_VER '        /                                                \n",
       "TTYPE26 = 'CALCOS_DATE '       /                                                \n",
       "COMMENT                                                                         \n",
       "COMMENT  *** Column formats ***                                                 \n",
       "COMMENT                                                                         \n",
       "TFORM1  = '19645D  '           /                                                \n",
       "TFORM2  = '19645E  '           /                                                \n",
       "TFORM3  = '19645D  '           /                                                \n",
       "TFORM4  = '19645E  '           /                                                \n",
       "TFORM5  = '19645E  '           /                                                \n",
       "TFORM6  = '19645D  '           /                                                \n",
       "TFORM7  = '19645E  '           /                                                \n",
       "TFORM8  = '19645E  '           /                                                \n",
       "TFORM9  = '19645E  '           /                                                \n",
       "TFORM10 = 'J       '           /                                                \n",
       "TFORM11 = 'D       '           /                                                \n",
       "TFORM12 = 'D       '           /                                                \n",
       "TFORM13 = 'D       '           /                                                \n",
       "TFORM14 = '2E      '           /                                                \n",
       "TFORM15 = '2E      '           /                                                \n",
       "TFORM16 = '2E      '           /                                                \n",
       "TFORM17 = '2E      '           /                                                \n",
       "TFORM18 = 'E       '           /                                                \n",
       "TFORM19 = '2D      '           /                                                \n",
       "TFORM20 = 'E       '           /                                                \n",
       "TFORM21 = '2D      '           /                                                \n",
       "TFORM22 = 'E       '           /                                                \n",
       "TFORM23 = '2D      '           /                                                \n",
       "TFORM24 = 'E       '           /                                                \n",
       "TFORM25 = '4A      '           /                                                \n",
       "TFORM26 = '10A     '           /                                                "
      ]
     },
     "execution_count": 14,
     "metadata": {},
     "output_type": "execute_result"
    }
   ],
   "source": [
    "head"
   ]
  },
  {
   "cell_type": "code",
   "execution_count": 26,
   "metadata": {
    "collapsed": true
   },
   "outputs": [],
   "source": [
    "from time import strptime"
   ]
  },
  {
   "cell_type": "code",
   "execution_count": 28,
   "metadata": {
    "collapsed": false
   },
   "outputs": [
    {
     "data": {
      "text/plain": [
       "int"
      ]
     },
     "execution_count": 28,
     "metadata": {},
     "output_type": "execute_result"
    }
   ],
   "source": [
    "type(strptime('Mar','%b').tm_mon)"
   ]
  },
  {
   "cell_type": "code",
   "execution_count": null,
   "metadata": {
    "collapsed": true
   },
   "outputs": [],
   "source": []
  }
 ],
 "metadata": {
  "kernelspec": {
   "display_name": "Python 2",
   "language": "python",
   "name": "python2"
  },
  "language_info": {
   "codemirror_mode": {
    "name": "ipython",
    "version": 2
   },
   "file_extension": ".py",
   "mimetype": "text/x-python",
   "name": "python",
   "nbconvert_exporter": "python",
   "pygments_lexer": "ipython2",
   "version": "2.7.11"
  }
 },
 "nbformat": 4,
 "nbformat_minor": 0
}
