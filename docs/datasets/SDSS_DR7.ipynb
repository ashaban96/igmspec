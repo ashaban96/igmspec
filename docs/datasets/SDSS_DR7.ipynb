{
 "cells": [
  {
   "cell_type": "markdown",
   "metadata": {},
   "source": [
    "# Notes on SDSS DR7\n",
    "    At the heart is a home-brew QSO sample by JXP"
   ]
  },
  {
   "cell_type": "code",
   "execution_count": 5,
   "metadata": {
    "collapsed": true
   },
   "outputs": [],
   "source": [
    "# imports\n",
    "from igmspec.igmspec import IgmSpec"
   ]
  },
  {
   "cell_type": "markdown",
   "metadata": {},
   "source": [
    "## Database\n",
    "\n",
    "Here is the SQL:\n",
    "    \n",
    "    SQL query\n",
    "\n",
    "    SELECT s.ra, s.dec,\n",
    "            s.fiberID, s.mjd, s.plate,      -- spectro info for DAS upload\n",
    "            s.SpecClass,       -- and spectral classification\n",
    "            s.specObjID,     -- get the spectroscopic object id\n",
    "            s.z, s.zErr, s.zConf,        -- redshift, redshift confidence\n",
    "            p.psfMag_u,p.psfMagerr_u,\n",
    "            p.psfMag_g,p.psfMagerr_g,\n",
    "            p.psfMag_r,p.psfMagerr_r,\n",
    "            p.psfMag_i,p.psfMagerr_i,\n",
    "            p.psfMag_z,p.psfMagerr_z\n",
    "    FROM SpecObj as s          -- from the spectroscopic objects\n",
    "         JOIN PhotoObj as p ON s.bestobjid = p.objid -- from the photometric objects\n",
    "    WHERE\n",
    "        -- use a function to translate SpecClass bits to names; want quasars\n",
    "        (SpecClass=dbo.fSpecClass('QSO')\n",
    "        or SpecClass=dbo.fSpecClass('HIZ_QSO'))\n",
    "        and s.z between 0 and 0.5\n",
    "        and s.z between 0.5 and 1.0\n",
    "        and s.z between 1.0 and 1.5\n",
    "        and s.z between 1.5 and 1.8\n",
    "        and s.z between 1.8 and 2.2\n",
    "        and s.z between 2.2 and 2.5\n",
    "        and s.z between 2.5 and 3.0\n",
    "        and s.z between 3.0 and 8.0\n"
   ]
  },
  {
   "cell_type": "markdown",
   "metadata": {},
   "source": [
    "## Schneider DR7\n",
    "    http://classic.sdss.org/dr7/products/value_added/qsocat_dr7.html\n",
    "    \n",
    "    Grabbed dr7qso.fit.gz on 26 Aug 2016"
   ]
  },
  {
   "cell_type": "code",
   "execution_count": 2,
   "metadata": {
    "collapsed": true
   },
   "outputs": [],
   "source": [
    "dr7qso = Table.read(os.getenv('RAW_IGMSPEC')+'/SDSS/dr7qso.fit.gz')"
   ]
  },
  {
   "cell_type": "code",
   "execution_count": 3,
   "metadata": {
    "collapsed": false
   },
   "outputs": [
    {
     "data": {
      "text/html": [
       "&lt;Table length=3&gt;\n",
       "<table id=\"table4587778576\">\n",
       "<thead><tr><th>SDSSJ</th><th>RA</th><th>DEC</th><th>z</th><th>UMAG</th><th>UMAGERR</th><th>GMAG</th><th>GMAGERR</th><th>RMAG</th><th>RMAGERR</th><th>IMAG</th><th>IMAGERR</th><th>ZMAG</th><th>ZMAGERR</th><th>AU</th><th>logNH</th><th>FIRSTMAG</th><th>FIRSTSN</th><th>FIRSTDEL</th><th>RASSCNT</th><th>RASSSN</th><th>RASSDEL</th><th>JMAG</th><th>JMAGERR</th><th>HMAG</th><th>HMAGERR</th><th>KMAG</th><th>KMAGERR</th><th>MASSDEL</th><th>MASSFLG</th><th>MIMAG</th><th>DGMI</th><th>MFLAG</th><th>SPFLAG</th><th>MODEFLAG</th><th>USELFLAG</th><th>BESTFLAG</th><th>LZFLAG</th><th>HZFLAG</th><th>FTFLAG</th><th>RTFLAG</th><th>SRFLAG</th><th>STFLAG</th><th>GXFLAG</th><th>RUN</th><th>RMJD</th><th>SMJD</th><th>PLATE</th><th>FIBER</th><th>RERUN</th><th>CAMCOL</th><th>FIELD</th><th>OBJECT</th><th>TFLAG</th><th>LZTFLAG</th><th>HZTFLAG</th><th>FTTFLAG</th><th>RTTFLAG</th><th>SRTFLAG</th><th>STTFLAG</th><th>GXTFLAG</th><th>UTMAG</th><th>UTMAGERR</th><th>GTMAG</th><th>GTMAGERR</th><th>RTMAG</th><th>RTMAGERR</th><th>ITMAG</th><th>ITMAGERR</th><th>ZTMAG</th><th>ZTMAGERR</th><th>BESTID</th><th>SPECOID</th><th>ONAME</th></tr></thead>\n",
       "<thead><tr><th>str31</th><th>float64</th><th>float64</th><th>float64</th><th>float64</th><th>float64</th><th>float64</th><th>float64</th><th>float64</th><th>float64</th><th>float64</th><th>float64</th><th>float64</th><th>float64</th><th>float64</th><th>float64</th><th>float64</th><th>float64</th><th>float64</th><th>float64</th><th>float64</th><th>float64</th><th>float64</th><th>float64</th><th>float64</th><th>float64</th><th>float64</th><th>float64</th><th>float64</th><th>int32</th><th>float64</th><th>float64</th><th>int32</th><th>int32</th><th>int32</th><th>int32</th><th>int32</th><th>int32</th><th>int32</th><th>int32</th><th>int32</th><th>int32</th><th>int32</th><th>int32</th><th>int32</th><th>int32</th><th>int32</th><th>int32</th><th>int32</th><th>int32</th><th>int32</th><th>int32</th><th>int32</th><th>int32</th><th>int32</th><th>int32</th><th>int32</th><th>int32</th><th>int32</th><th>int32</th><th>int32</th><th>float64</th><th>float64</th><th>float64</th><th>float64</th><th>float64</th><th>float64</th><th>float64</th><th>float64</th><th>float64</th><th>float64</th><th>str31</th><th>str31</th><th>str31</th></tr></thead>\n",
       "<tr><td>000006.53+003055.2</td><td>0.027228</td><td>0.515341</td><td>1.8246</td><td>20.384</td><td>0.065</td><td>20.461</td><td>0.034</td><td>20.324</td><td>0.038</td><td>20.093</td><td>0.041</td><td>20.042</td><td>0.121</td><td>0.13</td><td>20.508</td><td>0.0</td><td>0.0</td><td>0.0</td><td>-9.0</td><td>0.0</td><td>0.0</td><td>0.0</td><td>0.0</td><td>0.0</td><td>0.0</td><td>0.0</td><td>0.0</td><td>0.0</td><td>0</td><td>-25.109</td><td>0.091</td><td>0</td><td>0</td><td>1</td><td>0</td><td>34603008</td><td>0</td><td>0</td><td>0</td><td>0</td><td>1</td><td>0</td><td>0</td><td>3325</td><td>52522</td><td>52203</td><td>685</td><td>467</td><td>41</td><td>5</td><td>108</td><td>118</td><td>34603008</td><td>0</td><td>0</td><td>0</td><td>0</td><td>1</td><td>0</td><td>0</td><td>20.384</td><td>0.065</td><td>20.461</td><td>0.034</td><td>20.324</td><td>0.038</td><td>20.093</td><td>0.041</td><td>20.042</td><td>0.121</td><td>588015509806252150</td><td>193034571183292416</td><td>SDSS J000006.53+003055.2</td></tr>\n",
       "<tr><td>000008.13+001634.6</td><td>0.0339</td><td>0.276301</td><td>1.8373</td><td>20.242</td><td>0.054</td><td>20.206</td><td>0.024</td><td>19.941</td><td>0.032</td><td>19.485</td><td>0.032</td><td>19.178</td><td>0.068</td><td>0.161</td><td>20.502</td><td>0.0</td><td>0.0</td><td>0.0</td><td>-9.0</td><td>0.0</td><td>0.0</td><td>17.351</td><td>0.291</td><td>0.0</td><td>0.0</td><td>0.0</td><td>0.0</td><td>0.0</td><td>18</td><td>-25.745</td><td>0.438</td><td>0</td><td>0</td><td>1</td><td>0</td><td>34603008</td><td>0</td><td>0</td><td>0</td><td>0</td><td>1</td><td>0</td><td>0</td><td>2662</td><td>52197</td><td>52203</td><td>685</td><td>470</td><td>40</td><td>4</td><td>283</td><td>150</td><td>1048576</td><td>0</td><td>0</td><td>0</td><td>0</td><td>1</td><td>0</td><td>0</td><td>20.094</td><td>0.044</td><td>19.98</td><td>0.017</td><td>19.852</td><td>0.02</td><td>19.405</td><td>0.021</td><td>19.1</td><td>0.079</td><td>587731186740822166</td><td>193034571195875328</td><td>SDSS J000008.13+001634.6</td></tr>\n",
       "<tr><td>000009.26+151754.5</td><td>0.038604</td><td>15.298477</td><td>1.1985</td><td>19.916</td><td>0.042</td><td>19.807</td><td>0.036</td><td>19.374</td><td>0.017</td><td>19.148</td><td>0.023</td><td>19.312</td><td>0.069</td><td>0.223</td><td>20.551</td><td>-1.0</td><td>0.0</td><td>0.0</td><td>-9.0</td><td>0.0</td><td>0.0</td><td>0.0</td><td>0.0</td><td>0.0</td><td>0.0</td><td>0.0</td><td>0.0</td><td>0.0</td><td>0</td><td>-25.101</td><td>0.338</td><td>0</td><td>1</td><td>1</td><td>1</td><td>1048578</td><td>1</td><td>0</td><td>0</td><td>0</td><td>1</td><td>0</td><td>0</td><td>1739</td><td>51814</td><td>52251</td><td>751</td><td>354</td><td>40</td><td>4</td><td>303</td><td>24</td><td>1048578</td><td>1</td><td>0</td><td>0</td><td>0</td><td>1</td><td>0</td><td>0</td><td>19.912</td><td>0.037</td><td>19.77</td><td>0.024</td><td>19.393</td><td>0.018</td><td>19.173</td><td>0.019</td><td>19.353</td><td>0.07</td><td>587727222487318552</td><td>211612125330669568</td><td>SDSS J000009.26+151754.5</td></tr>\n",
       "</table>"
      ],
      "text/plain": [
       "<Table length=3>\n",
       "      SDSSJ           RA    ...      SPECOID                 ONAME           \n",
       "      str31        float64  ...       str31                  str31           \n",
       "------------------ -------- ... ------------------ --------------------------\n",
       "000006.53+003055.2 0.027228 ... 193034571183292416  SDSS J000006.53+003055.2 \n",
       "000008.13+001634.6   0.0339 ... 193034571195875328  SDSS J000008.13+001634.6 \n",
       "000009.26+151754.5 0.038604 ... 211612125330669568  SDSS J000009.26+151754.5 "
      ]
     },
     "execution_count": 3,
     "metadata": {},
     "output_type": "execute_result"
    }
   ],
   "source": [
    "dr7qso[0:3]"
   ]
  },
  {
   "cell_type": "code",
   "execution_count": 4,
   "metadata": {
    "collapsed": false
   },
   "outputs": [
    {
     "data": {
      "text/plain": [
       "105783"
      ]
     },
     "execution_count": 4,
     "metadata": {},
     "output_type": "execute_result"
    }
   ],
   "source": [
    "len(dr7qso)"
   ]
  },
  {
   "cell_type": "markdown",
   "metadata": {},
   "source": [
    "### Compare against JXP set"
   ]
  },
  {
   "cell_type": "code",
   "execution_count": 6,
   "metadata": {
    "collapsed": false
   },
   "outputs": [
    {
     "name": "stdout",
     "output_type": "stream",
     "text": [
      "Using /raid/IGMSPEC_DB/IGMspec_DB_v02.hdf5 for the catalog file\n",
      "Using /raid/IGMSPEC_DB/IGMspec_DB_v02.hdf5 for the DB file\n",
      "Available surveys: [u'GGG', u'HD-LLS_DR1', u'HST_z2', u'KODIAQ_DR1', u'SDSS_DR7', u'XQ-100']\n"
     ]
    }
   ],
   "source": [
    "igmsp = IgmSpec()"
   ]
  },
  {
   "cell_type": "code",
   "execution_count": 8,
   "metadata": {
    "collapsed": false
   },
   "outputs": [],
   "source": [
    "jxp_sdss = Table(igmsp.idb.hdf['SDSS_DR7/meta'].value)"
   ]
  },
  {
   "cell_type": "code",
   "execution_count": 9,
   "metadata": {
    "collapsed": false
   },
   "outputs": [
    {
     "data": {
      "text/html": [
       "&lt;Table length=3&gt;\n",
       "<table id=\"table4605726416\">\n",
       "<thead><tr><th>zem</th><th>sig_zem</th><th>Z_CONF</th><th>Z_WARN</th><th>PLATE</th><th>MJD</th><th>FIBERID</th><th>FLG_TARG</th><th>RA</th><th>DEC</th><th>PSF_U</th><th>PSF_G</th><th>PSF_R</th><th>PSF_I</th><th>PSF_Z</th><th>PSF_SU</th><th>PSF_SG</th><th>PSF_SR</th><th>PSF_SI</th><th>PSF_SZ</th><th>DATE-OBS</th><th>EPOCH</th><th>R</th><th>IGM_ID</th><th>SPEC_FILE</th><th>NPIX</th><th>WV_MIN</th><th>WV_MAX</th><th>SURVEY_ID</th><th>INSTR</th><th>GRATING</th><th>TELESCOPE</th></tr></thead>\n",
       "<thead><tr><th>float32</th><th>float32</th><th>float32</th><th>int16</th><th>int32</th><th>int32</th><th>int32</th><th>int16</th><th>float64</th><th>float64</th><th>float32</th><th>float32</th><th>float32</th><th>float32</th><th>float32</th><th>float32</th><th>float32</th><th>float32</th><th>float32</th><th>float32</th><th>str10</th><th>float64</th><th>float64</th><th>int64</th><th>str28</th><th>int64</th><th>float64</th><th>float64</th><th>int64</th><th>str4</th><th>str4</th><th>str10</th></tr></thead>\n",
       "<tr><td>1.19851</td><td>0.000990054</td><td>0.0</td><td>0</td><td>751</td><td>52251</td><td>354</td><td>0</td><td>0.0386095</td><td>15.298489</td><td>19.9162</td><td>19.8067</td><td>19.3741</td><td>19.1477</td><td>19.3124</td><td>0.041842</td><td>0.035909</td><td>0.016587</td><td>0.022998</td><td>0.068749</td><td>2001-12-08</td><td>2000.0</td><td>2000.0</td><td>297301</td><td>spSpec-52251-0751-354.fit.gz</td><td>3828</td><td>3817.68419498</td><td>9215.09888735</td><td>0</td><td>SDSS</td><td>BOTH</td><td>SDSS 2.5-M</td></tr>\n",
       "<tr><td>2.23419</td><td>0.00146079</td><td>0.0</td><td>0</td><td>750</td><td>52235</td><td>82</td><td>0</td><td>0.03909926</td><td>13.938458</td><td>19.2332</td><td>18.8861</td><td>18.4268</td><td>18.3014</td><td>18.0839</td><td>0.025944</td><td>0.02224</td><td>0.018289</td><td>0.023856</td><td>0.032778</td><td>2001-11-22</td><td>2000.0</td><td>2000.0</td><td>47</td><td>spSpec-52235-0750-082.fit.gz</td><td>3841</td><td>3804.5211258</td><td>9210.85615448</td><td>1</td><td>SDSS</td><td>BOTH</td><td>SDSS 2.5-M</td></tr>\n",
       "<tr><td>1.84493</td><td>0.00199866</td><td>0.0</td><td>0</td><td>650</td><td>52143</td><td>199</td><td>0</td><td>0.03926445</td><td>-10.46441</td><td>19.2416</td><td>19.0187</td><td>18.9659</td><td>18.7754</td><td>18.7046</td><td>0.035869</td><td>0.027196</td><td>0.021356</td><td>0.018248</td><td>0.046806</td><td>2001-08-22</td><td>2000.0</td><td>2000.0</td><td>297302</td><td>spSpec-52143-0650-199.fit.gz</td><td>3836</td><td>3802.76948244</td><td>9196.02196659</td><td>2</td><td>SDSS</td><td>BOTH</td><td>SDSS 2.5-M</td></tr>\n",
       "</table>"
      ],
      "text/plain": [
       "<Table length=3>\n",
       "  zem     sig_zem    Z_CONF Z_WARN PLATE ... SURVEY_ID INSTR GRATING TELESCOPE \n",
       "float32   float32   float32 int16  int32 ...   int64    str4   str4    str10   \n",
       "------- ----------- ------- ------ ----- ... --------- ----- ------- ----------\n",
       "1.19851 0.000990054     0.0      0   751 ...         0  SDSS    BOTH SDSS 2.5-M\n",
       "2.23419  0.00146079     0.0      0   750 ...         1  SDSS    BOTH SDSS 2.5-M\n",
       "1.84493  0.00199866     0.0      0   650 ...         2  SDSS    BOTH SDSS 2.5-M"
      ]
     },
     "execution_count": 9,
     "metadata": {},
     "output_type": "execute_result"
    }
   ],
   "source": [
    "jxp_sdss[0:3]"
   ]
  },
  {
   "cell_type": "code",
   "execution_count": 12,
   "metadata": {
    "collapsed": false
   },
   "outputs": [],
   "source": [
    "dr7_plateID = dr7qso['PLATE']*1000 + dr7qso['FIBER']\n",
    "jxp_plateID = jxp_sdss['PLATE']*1000 + jxp_sdss['FIBERID']"
   ]
  },
  {
   "cell_type": "code",
   "execution_count": 14,
   "metadata": {
    "collapsed": false
   },
   "outputs": [],
   "source": [
    "good = np.in1d(dr7_plateID, jxp_plateID)"
   ]
  },
  {
   "cell_type": "code",
   "execution_count": 18,
   "metadata": {
    "collapsed": false
   },
   "outputs": [
    {
     "data": {
      "text/plain": [
       "12012"
      ]
     },
     "execution_count": 18,
     "metadata": {},
     "output_type": "execute_result"
    }
   ],
   "source": [
    "np.sum(~good)"
   ]
  },
  {
   "cell_type": "markdown",
   "metadata": {},
   "source": [
    "### Generate the file to download the missing ones"
   ]
  },
  {
   "cell_type": "code",
   "execution_count": 26,
   "metadata": {
    "collapsed": false
   },
   "outputs": [],
   "source": [
    "need_tbl = dr7qso[['PLATE','SMJD','FIBER']][~good]"
   ]
  },
  {
   "cell_type": "code",
   "execution_count": 27,
   "metadata": {
    "collapsed": true
   },
   "outputs": [],
   "source": [
    "# First 9999 then rest\n",
    "need_tbl[0:5999].write(os.getenv('RAW_IGMSPEC')+'/SDSS/dr7_neededA.csv')\n",
    "need_tbl[5999:].write(os.getenv('RAW_IGMSPEC')+'/SDSS/dr7_neededB.csv')"
   ]
  },
  {
   "cell_type": "markdown",
   "metadata": {},
   "source": [
    "### Grabbing\n",
    "    Comment out first line\n",
    "    Use this web page:  http://das.sdss.org/www/html/post_fibers.html"
   ]
  },
  {
   "cell_type": "code",
   "execution_count": null,
   "metadata": {
    "collapsed": true
   },
   "outputs": [],
   "source": []
  }
 ],
 "metadata": {
  "kernelspec": {
   "display_name": "Python 2",
   "language": "python",
   "name": "python2"
  },
  "language_info": {
   "codemirror_mode": {
    "name": "ipython",
    "version": 2
   },
   "file_extension": ".py",
   "mimetype": "text/x-python",
   "name": "python",
   "nbconvert_exporter": "python",
   "pygments_lexer": "ipython2",
   "version": "2.7.11"
  }
 },
 "nbformat": 4,
 "nbformat_minor": 0
}
