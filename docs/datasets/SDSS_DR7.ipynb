{
 "cells": [
  {
   "cell_type": "markdown",
   "metadata": {},
   "source": [
    "# Notes on SDSS DR7 (v2)\n",
    "    At the heart is a home-brew QSO sample by JXP"
   ]
  },
  {
   "cell_type": "code",
   "execution_count": 32,
   "metadata": {
    "collapsed": true
   },
   "outputs": [],
   "source": [
    "%matplotlib notebook"
   ]
  },
  {
   "cell_type": "code",
   "execution_count": 5,
   "metadata": {
    "collapsed": false
   },
   "outputs": [],
   "source": [
    "# imports\n",
    "from linetools.spectra import io as lsio\n",
    "from specdb.specdb import IgmSpec"
   ]
  },
  {
   "cell_type": "markdown",
   "metadata": {},
   "source": [
    "## Database\n",
    "\n",
    "Here is the SQL:\n",
    "    \n",
    "    SQL query\n",
    "\n",
    "    SELECT s.ra, s.dec,\n",
    "            s.fiberID, s.mjd, s.plate,      -- spectro info for DAS upload\n",
    "            s.SpecClass,       -- and spectral classification\n",
    "            s.specObjID,     -- get the spectroscopic object id\n",
    "            s.z, s.zErr, s.zConf,        -- redshift, redshift confidence\n",
    "            p.psfMag_u,p.psfMagerr_u,\n",
    "            p.psfMag_g,p.psfMagerr_g,\n",
    "            p.psfMag_r,p.psfMagerr_r,\n",
    "            p.psfMag_i,p.psfMagerr_i,\n",
    "            p.psfMag_z,p.psfMagerr_z\n",
    "    FROM SpecObj as s          -- from the spectroscopic objects\n",
    "         JOIN PhotoObj as p ON s.bestobjid = p.objid -- from the photometric objects\n",
    "    WHERE\n",
    "        -- use a function to translate SpecClass bits to names; want quasars\n",
    "        (SpecClass=dbo.fSpecClass('QSO')\n",
    "        or SpecClass=dbo.fSpecClass('HIZ_QSO'))\n",
    "        and s.z between 0 and 0.5\n",
    "        and s.z between 0.5 and 1.0\n",
    "        and s.z between 1.0 and 1.5\n",
    "        and s.z between 1.5 and 1.8\n",
    "        and s.z between 1.8 and 2.2\n",
    "        and s.z between 2.2 and 2.5\n",
    "        and s.z between 2.5 and 3.0\n",
    "        and s.z between 3.0 and 8.0\n"
   ]
  },
  {
   "cell_type": "markdown",
   "metadata": {},
   "source": [
    "## Schneider DR7\n",
    "    http://classic.sdss.org/dr7/products/value_added/qsocat_dr7.html\n",
    "    \n",
    "    Grabbed dr7qso.fit.gz on 26 Aug 2016"
   ]
  },
  {
   "cell_type": "code",
   "execution_count": 2,
   "metadata": {
    "collapsed": true
   },
   "outputs": [],
   "source": [
    "dr7qso = Table.read(os.getenv('RAW_IGMSPEC')+'/SDSS/dr7qso.fit.gz')"
   ]
  },
  {
   "cell_type": "code",
   "execution_count": 3,
   "metadata": {
    "collapsed": false
   },
   "outputs": [
    {
     "data": {
      "text/html": [
       "&lt;Table length=3&gt;\n",
       "<table id=\"table4587778576\">\n",
       "<thead><tr><th>SDSSJ</th><th>RA</th><th>DEC</th><th>z</th><th>UMAG</th><th>UMAGERR</th><th>GMAG</th><th>GMAGERR</th><th>RMAG</th><th>RMAGERR</th><th>IMAG</th><th>IMAGERR</th><th>ZMAG</th><th>ZMAGERR</th><th>AU</th><th>logNH</th><th>FIRSTMAG</th><th>FIRSTSN</th><th>FIRSTDEL</th><th>RASSCNT</th><th>RASSSN</th><th>RASSDEL</th><th>JMAG</th><th>JMAGERR</th><th>HMAG</th><th>HMAGERR</th><th>KMAG</th><th>KMAGERR</th><th>MASSDEL</th><th>MASSFLG</th><th>MIMAG</th><th>DGMI</th><th>MFLAG</th><th>SPFLAG</th><th>MODEFLAG</th><th>USELFLAG</th><th>BESTFLAG</th><th>LZFLAG</th><th>HZFLAG</th><th>FTFLAG</th><th>RTFLAG</th><th>SRFLAG</th><th>STFLAG</th><th>GXFLAG</th><th>RUN</th><th>RMJD</th><th>SMJD</th><th>PLATE</th><th>FIBER</th><th>RERUN</th><th>CAMCOL</th><th>FIELD</th><th>OBJECT</th><th>TFLAG</th><th>LZTFLAG</th><th>HZTFLAG</th><th>FTTFLAG</th><th>RTTFLAG</th><th>SRTFLAG</th><th>STTFLAG</th><th>GXTFLAG</th><th>UTMAG</th><th>UTMAGERR</th><th>GTMAG</th><th>GTMAGERR</th><th>RTMAG</th><th>RTMAGERR</th><th>ITMAG</th><th>ITMAGERR</th><th>ZTMAG</th><th>ZTMAGERR</th><th>BESTID</th><th>SPECOID</th><th>ONAME</th></tr></thead>\n",
       "<thead><tr><th>str31</th><th>float64</th><th>float64</th><th>float64</th><th>float64</th><th>float64</th><th>float64</th><th>float64</th><th>float64</th><th>float64</th><th>float64</th><th>float64</th><th>float64</th><th>float64</th><th>float64</th><th>float64</th><th>float64</th><th>float64</th><th>float64</th><th>float64</th><th>float64</th><th>float64</th><th>float64</th><th>float64</th><th>float64</th><th>float64</th><th>float64</th><th>float64</th><th>float64</th><th>int32</th><th>float64</th><th>float64</th><th>int32</th><th>int32</th><th>int32</th><th>int32</th><th>int32</th><th>int32</th><th>int32</th><th>int32</th><th>int32</th><th>int32</th><th>int32</th><th>int32</th><th>int32</th><th>int32</th><th>int32</th><th>int32</th><th>int32</th><th>int32</th><th>int32</th><th>int32</th><th>int32</th><th>int32</th><th>int32</th><th>int32</th><th>int32</th><th>int32</th><th>int32</th><th>int32</th><th>int32</th><th>float64</th><th>float64</th><th>float64</th><th>float64</th><th>float64</th><th>float64</th><th>float64</th><th>float64</th><th>float64</th><th>float64</th><th>str31</th><th>str31</th><th>str31</th></tr></thead>\n",
       "<tr><td>000006.53+003055.2</td><td>0.027228</td><td>0.515341</td><td>1.8246</td><td>20.384</td><td>0.065</td><td>20.461</td><td>0.034</td><td>20.324</td><td>0.038</td><td>20.093</td><td>0.041</td><td>20.042</td><td>0.121</td><td>0.13</td><td>20.508</td><td>0.0</td><td>0.0</td><td>0.0</td><td>-9.0</td><td>0.0</td><td>0.0</td><td>0.0</td><td>0.0</td><td>0.0</td><td>0.0</td><td>0.0</td><td>0.0</td><td>0.0</td><td>0</td><td>-25.109</td><td>0.091</td><td>0</td><td>0</td><td>1</td><td>0</td><td>34603008</td><td>0</td><td>0</td><td>0</td><td>0</td><td>1</td><td>0</td><td>0</td><td>3325</td><td>52522</td><td>52203</td><td>685</td><td>467</td><td>41</td><td>5</td><td>108</td><td>118</td><td>34603008</td><td>0</td><td>0</td><td>0</td><td>0</td><td>1</td><td>0</td><td>0</td><td>20.384</td><td>0.065</td><td>20.461</td><td>0.034</td><td>20.324</td><td>0.038</td><td>20.093</td><td>0.041</td><td>20.042</td><td>0.121</td><td>588015509806252150</td><td>193034571183292416</td><td>SDSS J000006.53+003055.2</td></tr>\n",
       "<tr><td>000008.13+001634.6</td><td>0.0339</td><td>0.276301</td><td>1.8373</td><td>20.242</td><td>0.054</td><td>20.206</td><td>0.024</td><td>19.941</td><td>0.032</td><td>19.485</td><td>0.032</td><td>19.178</td><td>0.068</td><td>0.161</td><td>20.502</td><td>0.0</td><td>0.0</td><td>0.0</td><td>-9.0</td><td>0.0</td><td>0.0</td><td>17.351</td><td>0.291</td><td>0.0</td><td>0.0</td><td>0.0</td><td>0.0</td><td>0.0</td><td>18</td><td>-25.745</td><td>0.438</td><td>0</td><td>0</td><td>1</td><td>0</td><td>34603008</td><td>0</td><td>0</td><td>0</td><td>0</td><td>1</td><td>0</td><td>0</td><td>2662</td><td>52197</td><td>52203</td><td>685</td><td>470</td><td>40</td><td>4</td><td>283</td><td>150</td><td>1048576</td><td>0</td><td>0</td><td>0</td><td>0</td><td>1</td><td>0</td><td>0</td><td>20.094</td><td>0.044</td><td>19.98</td><td>0.017</td><td>19.852</td><td>0.02</td><td>19.405</td><td>0.021</td><td>19.1</td><td>0.079</td><td>587731186740822166</td><td>193034571195875328</td><td>SDSS J000008.13+001634.6</td></tr>\n",
       "<tr><td>000009.26+151754.5</td><td>0.038604</td><td>15.298477</td><td>1.1985</td><td>19.916</td><td>0.042</td><td>19.807</td><td>0.036</td><td>19.374</td><td>0.017</td><td>19.148</td><td>0.023</td><td>19.312</td><td>0.069</td><td>0.223</td><td>20.551</td><td>-1.0</td><td>0.0</td><td>0.0</td><td>-9.0</td><td>0.0</td><td>0.0</td><td>0.0</td><td>0.0</td><td>0.0</td><td>0.0</td><td>0.0</td><td>0.0</td><td>0.0</td><td>0</td><td>-25.101</td><td>0.338</td><td>0</td><td>1</td><td>1</td><td>1</td><td>1048578</td><td>1</td><td>0</td><td>0</td><td>0</td><td>1</td><td>0</td><td>0</td><td>1739</td><td>51814</td><td>52251</td><td>751</td><td>354</td><td>40</td><td>4</td><td>303</td><td>24</td><td>1048578</td><td>1</td><td>0</td><td>0</td><td>0</td><td>1</td><td>0</td><td>0</td><td>19.912</td><td>0.037</td><td>19.77</td><td>0.024</td><td>19.393</td><td>0.018</td><td>19.173</td><td>0.019</td><td>19.353</td><td>0.07</td><td>587727222487318552</td><td>211612125330669568</td><td>SDSS J000009.26+151754.5</td></tr>\n",
       "</table>"
      ],
      "text/plain": [
       "<Table length=3>\n",
       "      SDSSJ           RA    ...      SPECOID                 ONAME           \n",
       "      str31        float64  ...       str31                  str31           \n",
       "------------------ -------- ... ------------------ --------------------------\n",
       "000006.53+003055.2 0.027228 ... 193034571183292416  SDSS J000006.53+003055.2 \n",
       "000008.13+001634.6   0.0339 ... 193034571195875328  SDSS J000008.13+001634.6 \n",
       "000009.26+151754.5 0.038604 ... 211612125330669568  SDSS J000009.26+151754.5 "
      ]
     },
     "execution_count": 3,
     "metadata": {},
     "output_type": "execute_result"
    }
   ],
   "source": [
    "dr7qso[0:3]"
   ]
  },
  {
   "cell_type": "code",
   "execution_count": 4,
   "metadata": {
    "collapsed": false
   },
   "outputs": [
    {
     "data": {
      "text/plain": [
       "105783"
      ]
     },
     "execution_count": 4,
     "metadata": {},
     "output_type": "execute_result"
    }
   ],
   "source": [
    "len(dr7qso)"
   ]
  },
  {
   "cell_type": "markdown",
   "metadata": {},
   "source": [
    "### Compare against JXP set"
   ]
  },
  {
   "cell_type": "code",
   "execution_count": 6,
   "metadata": {
    "collapsed": false
   },
   "outputs": [
    {
     "name": "stdout",
     "output_type": "stream",
     "text": [
      "Using /raid/IGMSPEC_DB/IGMspec_DB_v02.hdf5 for the catalog file\n",
      "Using /raid/IGMSPEC_DB/IGMspec_DB_v02.hdf5 for the DB file\n",
      "Available surveys: [u'GGG', u'HD-LLS_DR1', u'HST_z2', u'KODIAQ_DR1', u'SDSS_DR7', u'XQ-100']\n"
     ]
    }
   ],
   "source": [
    "igmsp = IgmSpec()"
   ]
  },
  {
   "cell_type": "code",
   "execution_count": 8,
   "metadata": {
    "collapsed": false
   },
   "outputs": [],
   "source": [
    "jxp_sdss = Table(igmsp.idb.hdf['SDSS_DR7/meta'].value)"
   ]
  },
  {
   "cell_type": "code",
   "execution_count": 9,
   "metadata": {
    "collapsed": false
   },
   "outputs": [
    {
     "data": {
      "text/html": [
       "&lt;Table length=3&gt;\n",
       "<table id=\"table4605726416\">\n",
       "<thead><tr><th>zem</th><th>sig_zem</th><th>Z_CONF</th><th>Z_WARN</th><th>PLATE</th><th>MJD</th><th>FIBERID</th><th>FLG_TARG</th><th>RA</th><th>DEC</th><th>PSF_U</th><th>PSF_G</th><th>PSF_R</th><th>PSF_I</th><th>PSF_Z</th><th>PSF_SU</th><th>PSF_SG</th><th>PSF_SR</th><th>PSF_SI</th><th>PSF_SZ</th><th>DATE-OBS</th><th>EPOCH</th><th>R</th><th>IGM_ID</th><th>SPEC_FILE</th><th>NPIX</th><th>WV_MIN</th><th>WV_MAX</th><th>SURVEY_ID</th><th>INSTR</th><th>GRATING</th><th>TELESCOPE</th></tr></thead>\n",
       "<thead><tr><th>float32</th><th>float32</th><th>float32</th><th>int16</th><th>int32</th><th>int32</th><th>int32</th><th>int16</th><th>float64</th><th>float64</th><th>float32</th><th>float32</th><th>float32</th><th>float32</th><th>float32</th><th>float32</th><th>float32</th><th>float32</th><th>float32</th><th>float32</th><th>str10</th><th>float64</th><th>float64</th><th>int64</th><th>str28</th><th>int64</th><th>float64</th><th>float64</th><th>int64</th><th>str4</th><th>str4</th><th>str10</th></tr></thead>\n",
       "<tr><td>1.19851</td><td>0.000990054</td><td>0.0</td><td>0</td><td>751</td><td>52251</td><td>354</td><td>0</td><td>0.0386095</td><td>15.298489</td><td>19.9162</td><td>19.8067</td><td>19.3741</td><td>19.1477</td><td>19.3124</td><td>0.041842</td><td>0.035909</td><td>0.016587</td><td>0.022998</td><td>0.068749</td><td>2001-12-08</td><td>2000.0</td><td>2000.0</td><td>297301</td><td>spSpec-52251-0751-354.fit.gz</td><td>3828</td><td>3817.68419498</td><td>9215.09888735</td><td>0</td><td>SDSS</td><td>BOTH</td><td>SDSS 2.5-M</td></tr>\n",
       "<tr><td>2.23419</td><td>0.00146079</td><td>0.0</td><td>0</td><td>750</td><td>52235</td><td>82</td><td>0</td><td>0.03909926</td><td>13.938458</td><td>19.2332</td><td>18.8861</td><td>18.4268</td><td>18.3014</td><td>18.0839</td><td>0.025944</td><td>0.02224</td><td>0.018289</td><td>0.023856</td><td>0.032778</td><td>2001-11-22</td><td>2000.0</td><td>2000.0</td><td>47</td><td>spSpec-52235-0750-082.fit.gz</td><td>3841</td><td>3804.5211258</td><td>9210.85615448</td><td>1</td><td>SDSS</td><td>BOTH</td><td>SDSS 2.5-M</td></tr>\n",
       "<tr><td>1.84493</td><td>0.00199866</td><td>0.0</td><td>0</td><td>650</td><td>52143</td><td>199</td><td>0</td><td>0.03926445</td><td>-10.46441</td><td>19.2416</td><td>19.0187</td><td>18.9659</td><td>18.7754</td><td>18.7046</td><td>0.035869</td><td>0.027196</td><td>0.021356</td><td>0.018248</td><td>0.046806</td><td>2001-08-22</td><td>2000.0</td><td>2000.0</td><td>297302</td><td>spSpec-52143-0650-199.fit.gz</td><td>3836</td><td>3802.76948244</td><td>9196.02196659</td><td>2</td><td>SDSS</td><td>BOTH</td><td>SDSS 2.5-M</td></tr>\n",
       "</table>"
      ],
      "text/plain": [
       "<Table length=3>\n",
       "  zem     sig_zem    Z_CONF Z_WARN PLATE ... SURVEY_ID INSTR GRATING TELESCOPE \n",
       "float32   float32   float32 int16  int32 ...   int64    str4   str4    str10   \n",
       "------- ----------- ------- ------ ----- ... --------- ----- ------- ----------\n",
       "1.19851 0.000990054     0.0      0   751 ...         0  SDSS    BOTH SDSS 2.5-M\n",
       "2.23419  0.00146079     0.0      0   750 ...         1  SDSS    BOTH SDSS 2.5-M\n",
       "1.84493  0.00199866     0.0      0   650 ...         2  SDSS    BOTH SDSS 2.5-M"
      ]
     },
     "execution_count": 9,
     "metadata": {},
     "output_type": "execute_result"
    }
   ],
   "source": [
    "jxp_sdss[0:3]"
   ]
  },
  {
   "cell_type": "code",
   "execution_count": 12,
   "metadata": {
    "collapsed": false
   },
   "outputs": [],
   "source": [
    "dr7_plateID = dr7qso['PLATE']*1000 + dr7qso['FIBER']\n",
    "jxp_plateID = jxp_sdss['PLATE']*1000 + jxp_sdss['FIBERID']"
   ]
  },
  {
   "cell_type": "code",
   "execution_count": 14,
   "metadata": {
    "collapsed": false
   },
   "outputs": [],
   "source": [
    "good = np.in1d(dr7_plateID, jxp_plateID)"
   ]
  },
  {
   "cell_type": "code",
   "execution_count": 18,
   "metadata": {
    "collapsed": false
   },
   "outputs": [
    {
     "data": {
      "text/plain": [
       "12012"
      ]
     },
     "execution_count": 18,
     "metadata": {},
     "output_type": "execute_result"
    }
   ],
   "source": [
    "np.sum(~good)"
   ]
  },
  {
   "cell_type": "markdown",
   "metadata": {},
   "source": [
    "### Generate the file to download the missing ones"
   ]
  },
  {
   "cell_type": "code",
   "execution_count": 26,
   "metadata": {
    "collapsed": false
   },
   "outputs": [],
   "source": [
    "need_tbl = dr7qso[['PLATE','SMJD','FIBER']][~good]"
   ]
  },
  {
   "cell_type": "code",
   "execution_count": 27,
   "metadata": {
    "collapsed": true
   },
   "outputs": [],
   "source": [
    "# First 9999 then rest\n",
    "need_tbl[0:5999].write(os.getenv('RAW_IGMSPEC')+'/SDSS/dr7_neededA.csv')\n",
    "need_tbl[5999:].write(os.getenv('RAW_IGMSPEC')+'/SDSS/dr7_neededB.csv')"
   ]
  },
  {
   "cell_type": "markdown",
   "metadata": {},
   "source": [
    "### Grabbing\n",
    "    Comment out first line\n",
    "    Use this web page:  http://das.sdss.org/www/html/post_fibers.html"
   ]
  },
  {
   "cell_type": "markdown",
   "metadata": {
    "collapsed": true
   },
   "source": [
    "## Zhu Continua"
   ]
  },
  {
   "cell_type": "code",
   "execution_count": 1,
   "metadata": {
    "collapsed": true
   },
   "outputs": [],
   "source": [
    "cfile = os.getenv('RAW_IGMSPEC')+'/SDSS/ALLQSO_SPEC_106_continuum_nointerp.fits'"
   ]
  },
  {
   "cell_type": "code",
   "execution_count": 2,
   "metadata": {
    "collapsed": true
   },
   "outputs": [],
   "source": [
    "conti = Table.read(cfile)"
   ]
  },
  {
   "cell_type": "code",
   "execution_count": 3,
   "metadata": {
    "collapsed": false
   },
   "outputs": [
    {
     "data": {
      "text/html": [
       "&lt;Table length=1&gt;\n",
       "<table id=\"table4571588624\" class=\"table-striped table-bordered table-condensed\">\n",
       "<thead><tr><th>CONTINUUM [3955,107194]</th><th>RA [107194]</th><th>DEC [107194]</th><th>PLATE [107194]</th><th>FIBER [107194]</th><th>MJD [107194]</th><th>ZQSO [107194]</th><th>ERR_ZQSO [107194]</th><th>SPEC_SNR_MEDIAN [107194]</th><th>ISITDECOMPOSED [107194]</th><th>MED_SDEVIATION_RED [107194]</th><th>MED_SDEVIATION_BLUE [107194]</th></tr></thead>\n",
       "<thead><tr><th>float32</th><th>float64</th><th>float64</th><th>int32</th><th>int32</th><th>int32</th><th>float32</th><th>float32</th><th>float32</th><th>uint8</th><th>float32</th><th>float32</th></tr></thead>\n",
       "<tr><td>5.04552 .. 0.0</td><td>0.027228 .. 359.997675</td><td>0.515341 .. 0.14487</td><td>685 .. 1489</td><td>467 .. 520</td><td>52203 .. 52991</td><td>1.82383 .. 1.35685</td><td>0.00333 .. 0.001825</td><td>3.94727 .. 2.91944</td><td>1 .. 1</td><td>0.0498405 .. 0.0747612</td><td>0.0554914 .. -999.0</td></tr>\n",
       "</table>"
      ],
      "text/plain": [
       "<Table length=1>\n",
       "CONTINUUM [3955,107194]      RA [107194]       ... MED_SDEVIATION_BLUE [107194]\n",
       "        float32                float64         ...           float32           \n",
       "----------------------- ---------------------- ... ----------------------------\n",
       "         5.04552 .. 0.0 0.027228 .. 359.997675 ...          0.0554914 .. -999.0"
      ]
     },
     "execution_count": 3,
     "metadata": {},
     "output_type": "execute_result"
    }
   ],
   "source": [
    "conti[0:3]"
   ]
  },
  {
   "cell_type": "code",
   "execution_count": 39,
   "metadata": {
    "collapsed": false
   },
   "outputs": [
    {
     "data": {
      "text/plain": [
       "(3955, 107194)"
      ]
     },
     "execution_count": 39,
     "metadata": {},
     "output_type": "execute_result"
    }
   ],
   "source": [
    "conti['CONTINUUM'][0].shape"
   ]
  },
  {
   "cell_type": "code",
   "execution_count": 9,
   "metadata": {
    "collapsed": true
   },
   "outputs": [],
   "source": [
    "wv_file = os.getenv('RAW_IGMSPEC')+'/SDSS/ALLQSO_SPEC_106_wave_nointerp.fits'"
   ]
  },
  {
   "cell_type": "code",
   "execution_count": 10,
   "metadata": {
    "collapsed": true
   },
   "outputs": [],
   "source": [
    "zhu_wave = Table.read(wv_file)"
   ]
  },
  {
   "cell_type": "code",
   "execution_count": 15,
   "metadata": {
    "collapsed": false
   },
   "outputs": [
    {
     "data": {
      "text/html": [
       "&lt;Table length=1&gt;\n",
       "<table id=\"table4617713232\" class=\"table-striped table-bordered table-condensed\">\n",
       "<thead><tr><th>WAVE [3955,107194]</th><th>RA [107194]</th><th>DEC [107194]</th><th>PLATE [107194]</th><th>FIBER [107194]</th><th>MJD [107194]</th><th>ZQSO [107194]</th><th>ERR_ZQSO [107194]</th><th>SPEC_SNR_MEDIAN [107194]</th><th>ISITDECOMPOSED [107194]</th><th>MED_SDEVIATION_RED [107194]</th><th>MED_SDEVIATION_BLUE [107194]</th></tr></thead>\n",
       "<thead><tr><th>float32</th><th>float64</th><th>float64</th><th>int32</th><th>int32</th><th>int32</th><th>float32</th><th>float32</th><th>float32</th><th>uint8</th><th>float32</th><th>float32</th></tr></thead>\n",
       "<tr><td>3795.77 .. 1.0</td><td>0.027228 .. 359.997675</td><td>0.515341 .. 0.14487</td><td>685 .. 1489</td><td>467 .. 520</td><td>52203 .. 52991</td><td>1.82383 .. 1.35685</td><td>0.00333 .. 0.001825</td><td>3.94727 .. 2.91944</td><td>1 .. 1</td><td>0.0498405 .. 0.0747612</td><td>0.0554914 .. -999.0</td></tr>\n",
       "</table>"
      ],
      "text/plain": [
       "<Table length=1>\n",
       "WAVE [3955,107194]      RA [107194]       ... MED_SDEVIATION_BLUE [107194]\n",
       "     float32              float64         ...           float32           \n",
       "------------------ ---------------------- ... ----------------------------\n",
       "    3795.77 .. 1.0 0.027228 .. 359.997675 ...          0.0554914 .. -999.0"
      ]
     },
     "execution_count": 15,
     "metadata": {},
     "output_type": "execute_result"
    }
   ],
   "source": [
    "zhu_wave[0:3]"
   ]
  },
  {
   "cell_type": "markdown",
   "metadata": {},
   "source": [
    "### Test"
   ]
  },
  {
   "cell_type": "code",
   "execution_count": 43,
   "metadata": {
    "collapsed": false
   },
   "outputs": [
    {
     "data": {
      "text/plain": [
       "1"
      ]
     },
     "execution_count": 43,
     "metadata": {},
     "output_type": "execute_result"
    }
   ],
   "source": [
    "plate=1473\n",
    "fiber=304\n",
    "mtc = (conti['PLATE'] == plate) & (conti['FIBER']==fiber)\n",
    "np.sum(mtc)"
   ]
  },
  {
   "cell_type": "code",
   "execution_count": 44,
   "metadata": {
    "collapsed": false
   },
   "outputs": [
    {
     "data": {
      "text/html": [
       "&lt;Column name=&apos;MJD&apos; dtype=&apos;int32&apos; length=1&gt;\n",
       "<table>\n",
       "<tr><td>52908</td></tr>\n",
       "</table>"
      ],
      "text/plain": [
       "<Column name='MJD' dtype='int32' length=1>\n",
       "52908"
      ]
     },
     "execution_count": 44,
     "metadata": {},
     "output_type": "execute_result"
    }
   ],
   "source": [
    "conti['MJD'][mtc]"
   ]
  },
  {
   "cell_type": "code",
   "execution_count": 45,
   "metadata": {
    "collapsed": false
   },
   "outputs": [
    {
     "data": {
      "text/plain": [
       "1"
      ]
     },
     "execution_count": 45,
     "metadata": {},
     "output_type": "execute_result"
    }
   ],
   "source": [
    "mtw = (zhu_wave['PLATE'] == plate) & (zhu_wave['FIBER']==fiber)\n",
    "np.sum(mtw)"
   ]
  },
  {
   "cell_type": "code",
   "execution_count": 50,
   "metadata": {
    "collapsed": true
   },
   "outputs": [],
   "source": [
    "#spec = lsio.readspec(os.getenv('RAW_IGMSPEC')+'/SDSS/Schneider/spSpec-52908-1473-613.fit.gz')\n",
    "spec = lsio.readspec(os.getenv('RAW_IGMSPEC')+'/SDSS/Schneider/spSpec-52908-1473-304.fit.gz')"
   ]
  },
  {
   "cell_type": "code",
   "execution_count": 51,
   "metadata": {
    "collapsed": false
   },
   "outputs": [
    {
     "data": {
      "text/plain": [
       "(array([ 3826.48413086], dtype=float32), 3826.484865951097)"
      ]
     },
     "execution_count": 51,
     "metadata": {},
     "output_type": "execute_result"
    }
   ],
   "source": [
    "imin = np.argmin(np.abs(zhu_wave['WAVE'][0,:,np.where(mtw)[0]]-spec.wavelength[0].value))\n",
    "zhu_wave['WAVE'][0,imin,np.where(mtw)[0]].data,spec.wavelength[0].value"
   ]
  },
  {
   "cell_type": "code",
   "execution_count": 52,
   "metadata": {
    "collapsed": false
   },
   "outputs": [
    {
     "data": {
      "text/html": [
       "&lt;Column name=&apos;WAVE&apos; dtype=&apos;float32&apos; shape=(3955,) length=1&gt;\n",
       "<table>\n",
       "<tr><td>3795.77 .. 1.0</td></tr>\n",
       "</table>"
      ],
      "text/plain": [
       "<Column name='WAVE' dtype='float32' shape=(3955,) length=1>\n",
       "3795.77 .. 1.0"
      ]
     },
     "execution_count": 52,
     "metadata": {},
     "output_type": "execute_result"
    }
   ],
   "source": [
    "zhu_wave['WAVE'][0,:,np.where(mtw)[0]]"
   ]
  },
  {
   "cell_type": "markdown",
   "metadata": {},
   "source": [
    "### Plot"
   ]
  },
  {
   "cell_type": "code",
   "execution_count": 56,
   "metadata": {
    "collapsed": false
   },
   "outputs": [
    {
     "data": {
      "text/plain": [
       "(array([1473], dtype=int32), array([304], dtype=int32))"
      ]
     },
     "execution_count": 56,
     "metadata": {},
     "output_type": "execute_result"
    }
   ],
   "source": [
    "conti['PLATE'][mtc].data, conti['FIBER'][mtc].data"
   ]
  },
  {
   "cell_type": "code",
   "execution_count": 68,
   "metadata": {
    "collapsed": false
   },
   "outputs": [
    {
     "data": {
      "text/plain": [
       "(array([0]), array([102734]))"
      ]
     },
     "execution_count": 68,
     "metadata": {},
     "output_type": "execute_result"
    }
   ],
   "source": [
    "np.where(mtc)"
   ]
  },
  {
   "cell_type": "code",
   "execution_count": 69,
   "metadata": {
    "collapsed": false
   },
   "outputs": [
    {
     "data": {
      "text/plain": [
       "array([[ 11.25391293],\n",
       "       [ 11.25391293],\n",
       "       [ 11.25391293],\n",
       "       ..., \n",
       "       [  0.        ],\n",
       "       [  0.        ],\n",
       "       [  0.        ]], dtype=float32)"
      ]
     },
     "execution_count": 69,
     "metadata": {},
     "output_type": "execute_result"
    }
   ],
   "source": [
    "conti['CONTINUUM'][0][:,np.where(mtc)[1]]"
   ]
  },
  {
   "cell_type": "code",
   "execution_count": 70,
   "metadata": {
    "collapsed": false
   },
   "outputs": [
    {
     "data": {
      "application/javascript": [
       "/* Put everything inside the global mpl namespace */\n",
       "window.mpl = {};\n",
       "\n",
       "mpl.get_websocket_type = function() {\n",
       "    if (typeof(WebSocket) !== 'undefined') {\n",
       "        return WebSocket;\n",
       "    } else if (typeof(MozWebSocket) !== 'undefined') {\n",
       "        return MozWebSocket;\n",
       "    } else {\n",
       "        alert('Your browser does not have WebSocket support.' +\n",
       "              'Please try Chrome, Safari or Firefox ≥ 6. ' +\n",
       "              'Firefox 4 and 5 are also supported but you ' +\n",
       "              'have to enable WebSockets in about:config.');\n",
       "    };\n",
       "}\n",
       "\n",
       "mpl.figure = function(figure_id, websocket, ondownload, parent_element) {\n",
       "    this.id = figure_id;\n",
       "\n",
       "    this.ws = websocket;\n",
       "\n",
       "    this.supports_binary = (this.ws.binaryType != undefined);\n",
       "\n",
       "    if (!this.supports_binary) {\n",
       "        var warnings = document.getElementById(\"mpl-warnings\");\n",
       "        if (warnings) {\n",
       "            warnings.style.display = 'block';\n",
       "            warnings.textContent = (\n",
       "                \"This browser does not support binary websocket messages. \" +\n",
       "                    \"Performance may be slow.\");\n",
       "        }\n",
       "    }\n",
       "\n",
       "    this.imageObj = new Image();\n",
       "\n",
       "    this.context = undefined;\n",
       "    this.message = undefined;\n",
       "    this.canvas = undefined;\n",
       "    this.rubberband_canvas = undefined;\n",
       "    this.rubberband_context = undefined;\n",
       "    this.format_dropdown = undefined;\n",
       "\n",
       "    this.image_mode = 'full';\n",
       "\n",
       "    this.root = $('<div/>');\n",
       "    this._root_extra_style(this.root)\n",
       "    this.root.attr('style', 'display: inline-block');\n",
       "\n",
       "    $(parent_element).append(this.root);\n",
       "\n",
       "    this._init_header(this);\n",
       "    this._init_canvas(this);\n",
       "    this._init_toolbar(this);\n",
       "\n",
       "    var fig = this;\n",
       "\n",
       "    this.waiting = false;\n",
       "\n",
       "    this.ws.onopen =  function () {\n",
       "            fig.send_message(\"supports_binary\", {value: fig.supports_binary});\n",
       "            fig.send_message(\"send_image_mode\", {});\n",
       "            fig.send_message(\"refresh\", {});\n",
       "        }\n",
       "\n",
       "    this.imageObj.onload = function() {\n",
       "            if (fig.image_mode == 'full') {\n",
       "                // Full images could contain transparency (where diff images\n",
       "                // almost always do), so we need to clear the canvas so that\n",
       "                // there is no ghosting.\n",
       "                fig.context.clearRect(0, 0, fig.canvas.width, fig.canvas.height);\n",
       "            }\n",
       "            fig.context.drawImage(fig.imageObj, 0, 0);\n",
       "        };\n",
       "\n",
       "    this.imageObj.onunload = function() {\n",
       "        this.ws.close();\n",
       "    }\n",
       "\n",
       "    this.ws.onmessage = this._make_on_message_function(this);\n",
       "\n",
       "    this.ondownload = ondownload;\n",
       "}\n",
       "\n",
       "mpl.figure.prototype._init_header = function() {\n",
       "    var titlebar = $(\n",
       "        '<div class=\"ui-dialog-titlebar ui-widget-header ui-corner-all ' +\n",
       "        'ui-helper-clearfix\"/>');\n",
       "    var titletext = $(\n",
       "        '<div class=\"ui-dialog-title\" style=\"width: 100%; ' +\n",
       "        'text-align: center; padding: 3px;\"/>');\n",
       "    titlebar.append(titletext)\n",
       "    this.root.append(titlebar);\n",
       "    this.header = titletext[0];\n",
       "}\n",
       "\n",
       "\n",
       "\n",
       "mpl.figure.prototype._canvas_extra_style = function(canvas_div) {\n",
       "\n",
       "}\n",
       "\n",
       "\n",
       "mpl.figure.prototype._root_extra_style = function(canvas_div) {\n",
       "\n",
       "}\n",
       "\n",
       "mpl.figure.prototype._init_canvas = function() {\n",
       "    var fig = this;\n",
       "\n",
       "    var canvas_div = $('<div/>');\n",
       "\n",
       "    canvas_div.attr('style', 'position: relative; clear: both; outline: 0');\n",
       "\n",
       "    function canvas_keyboard_event(event) {\n",
       "        return fig.key_event(event, event['data']);\n",
       "    }\n",
       "\n",
       "    canvas_div.keydown('key_press', canvas_keyboard_event);\n",
       "    canvas_div.keyup('key_release', canvas_keyboard_event);\n",
       "    this.canvas_div = canvas_div\n",
       "    this._canvas_extra_style(canvas_div)\n",
       "    this.root.append(canvas_div);\n",
       "\n",
       "    var canvas = $('<canvas/>');\n",
       "    canvas.addClass('mpl-canvas');\n",
       "    canvas.attr('style', \"left: 0; top: 0; z-index: 0; outline: 0\")\n",
       "\n",
       "    this.canvas = canvas[0];\n",
       "    this.context = canvas[0].getContext(\"2d\");\n",
       "\n",
       "    var rubberband = $('<canvas/>');\n",
       "    rubberband.attr('style', \"position: absolute; left: 0; top: 0; z-index: 1;\")\n",
       "\n",
       "    var pass_mouse_events = true;\n",
       "\n",
       "    canvas_div.resizable({\n",
       "        start: function(event, ui) {\n",
       "            pass_mouse_events = false;\n",
       "        },\n",
       "        resize: function(event, ui) {\n",
       "            fig.request_resize(ui.size.width, ui.size.height);\n",
       "        },\n",
       "        stop: function(event, ui) {\n",
       "            pass_mouse_events = true;\n",
       "            fig.request_resize(ui.size.width, ui.size.height);\n",
       "        },\n",
       "    });\n",
       "\n",
       "    function mouse_event_fn(event) {\n",
       "        if (pass_mouse_events)\n",
       "            return fig.mouse_event(event, event['data']);\n",
       "    }\n",
       "\n",
       "    rubberband.mousedown('button_press', mouse_event_fn);\n",
       "    rubberband.mouseup('button_release', mouse_event_fn);\n",
       "    // Throttle sequential mouse events to 1 every 20ms.\n",
       "    rubberband.mousemove('motion_notify', mouse_event_fn);\n",
       "\n",
       "    rubberband.mouseenter('figure_enter', mouse_event_fn);\n",
       "    rubberband.mouseleave('figure_leave', mouse_event_fn);\n",
       "\n",
       "    canvas_div.on(\"wheel\", function (event) {\n",
       "        event = event.originalEvent;\n",
       "        event['data'] = 'scroll'\n",
       "        if (event.deltaY < 0) {\n",
       "            event.step = 1;\n",
       "        } else {\n",
       "            event.step = -1;\n",
       "        }\n",
       "        mouse_event_fn(event);\n",
       "    });\n",
       "\n",
       "    canvas_div.append(canvas);\n",
       "    canvas_div.append(rubberband);\n",
       "\n",
       "    this.rubberband = rubberband;\n",
       "    this.rubberband_canvas = rubberband[0];\n",
       "    this.rubberband_context = rubberband[0].getContext(\"2d\");\n",
       "    this.rubberband_context.strokeStyle = \"#000000\";\n",
       "\n",
       "    this._resize_canvas = function(width, height) {\n",
       "        // Keep the size of the canvas, canvas container, and rubber band\n",
       "        // canvas in synch.\n",
       "        canvas_div.css('width', width)\n",
       "        canvas_div.css('height', height)\n",
       "\n",
       "        canvas.attr('width', width);\n",
       "        canvas.attr('height', height);\n",
       "\n",
       "        rubberband.attr('width', width);\n",
       "        rubberband.attr('height', height);\n",
       "    }\n",
       "\n",
       "    // Set the figure to an initial 600x600px, this will subsequently be updated\n",
       "    // upon first draw.\n",
       "    this._resize_canvas(600, 600);\n",
       "\n",
       "    // Disable right mouse context menu.\n",
       "    $(this.rubberband_canvas).bind(\"contextmenu\",function(e){\n",
       "        return false;\n",
       "    });\n",
       "\n",
       "    function set_focus () {\n",
       "        canvas.focus();\n",
       "        canvas_div.focus();\n",
       "    }\n",
       "\n",
       "    window.setTimeout(set_focus, 100);\n",
       "}\n",
       "\n",
       "mpl.figure.prototype._init_toolbar = function() {\n",
       "    var fig = this;\n",
       "\n",
       "    var nav_element = $('<div/>')\n",
       "    nav_element.attr('style', 'width: 100%');\n",
       "    this.root.append(nav_element);\n",
       "\n",
       "    // Define a callback function for later on.\n",
       "    function toolbar_event(event) {\n",
       "        return fig.toolbar_button_onclick(event['data']);\n",
       "    }\n",
       "    function toolbar_mouse_event(event) {\n",
       "        return fig.toolbar_button_onmouseover(event['data']);\n",
       "    }\n",
       "\n",
       "    for(var toolbar_ind in mpl.toolbar_items) {\n",
       "        var name = mpl.toolbar_items[toolbar_ind][0];\n",
       "        var tooltip = mpl.toolbar_items[toolbar_ind][1];\n",
       "        var image = mpl.toolbar_items[toolbar_ind][2];\n",
       "        var method_name = mpl.toolbar_items[toolbar_ind][3];\n",
       "\n",
       "        if (!name) {\n",
       "            // put a spacer in here.\n",
       "            continue;\n",
       "        }\n",
       "        var button = $('<button/>');\n",
       "        button.addClass('ui-button ui-widget ui-state-default ui-corner-all ' +\n",
       "                        'ui-button-icon-only');\n",
       "        button.attr('role', 'button');\n",
       "        button.attr('aria-disabled', 'false');\n",
       "        button.click(method_name, toolbar_event);\n",
       "        button.mouseover(tooltip, toolbar_mouse_event);\n",
       "\n",
       "        var icon_img = $('<span/>');\n",
       "        icon_img.addClass('ui-button-icon-primary ui-icon');\n",
       "        icon_img.addClass(image);\n",
       "        icon_img.addClass('ui-corner-all');\n",
       "\n",
       "        var tooltip_span = $('<span/>');\n",
       "        tooltip_span.addClass('ui-button-text');\n",
       "        tooltip_span.html(tooltip);\n",
       "\n",
       "        button.append(icon_img);\n",
       "        button.append(tooltip_span);\n",
       "\n",
       "        nav_element.append(button);\n",
       "    }\n",
       "\n",
       "    var fmt_picker_span = $('<span/>');\n",
       "\n",
       "    var fmt_picker = $('<select/>');\n",
       "    fmt_picker.addClass('mpl-toolbar-option ui-widget ui-widget-content');\n",
       "    fmt_picker_span.append(fmt_picker);\n",
       "    nav_element.append(fmt_picker_span);\n",
       "    this.format_dropdown = fmt_picker[0];\n",
       "\n",
       "    for (var ind in mpl.extensions) {\n",
       "        var fmt = mpl.extensions[ind];\n",
       "        var option = $(\n",
       "            '<option/>', {selected: fmt === mpl.default_extension}).html(fmt);\n",
       "        fmt_picker.append(option)\n",
       "    }\n",
       "\n",
       "    // Add hover states to the ui-buttons\n",
       "    $( \".ui-button\" ).hover(\n",
       "        function() { $(this).addClass(\"ui-state-hover\");},\n",
       "        function() { $(this).removeClass(\"ui-state-hover\");}\n",
       "    );\n",
       "\n",
       "    var status_bar = $('<span class=\"mpl-message\"/>');\n",
       "    nav_element.append(status_bar);\n",
       "    this.message = status_bar[0];\n",
       "}\n",
       "\n",
       "mpl.figure.prototype.request_resize = function(x_pixels, y_pixels) {\n",
       "    // Request matplotlib to resize the figure. Matplotlib will then trigger a resize in the client,\n",
       "    // which will in turn request a refresh of the image.\n",
       "    this.send_message('resize', {'width': x_pixels, 'height': y_pixels});\n",
       "}\n",
       "\n",
       "mpl.figure.prototype.send_message = function(type, properties) {\n",
       "    properties['type'] = type;\n",
       "    properties['figure_id'] = this.id;\n",
       "    this.ws.send(JSON.stringify(properties));\n",
       "}\n",
       "\n",
       "mpl.figure.prototype.send_draw_message = function() {\n",
       "    if (!this.waiting) {\n",
       "        this.waiting = true;\n",
       "        this.ws.send(JSON.stringify({type: \"draw\", figure_id: this.id}));\n",
       "    }\n",
       "}\n",
       "\n",
       "\n",
       "mpl.figure.prototype.handle_save = function(fig, msg) {\n",
       "    var format_dropdown = fig.format_dropdown;\n",
       "    var format = format_dropdown.options[format_dropdown.selectedIndex].value;\n",
       "    fig.ondownload(fig, format);\n",
       "}\n",
       "\n",
       "\n",
       "mpl.figure.prototype.handle_resize = function(fig, msg) {\n",
       "    var size = msg['size'];\n",
       "    if (size[0] != fig.canvas.width || size[1] != fig.canvas.height) {\n",
       "        fig._resize_canvas(size[0], size[1]);\n",
       "        fig.send_message(\"refresh\", {});\n",
       "    };\n",
       "}\n",
       "\n",
       "mpl.figure.prototype.handle_rubberband = function(fig, msg) {\n",
       "    var x0 = msg['x0'];\n",
       "    var y0 = fig.canvas.height - msg['y0'];\n",
       "    var x1 = msg['x1'];\n",
       "    var y1 = fig.canvas.height - msg['y1'];\n",
       "    x0 = Math.floor(x0) + 0.5;\n",
       "    y0 = Math.floor(y0) + 0.5;\n",
       "    x1 = Math.floor(x1) + 0.5;\n",
       "    y1 = Math.floor(y1) + 0.5;\n",
       "    var min_x = Math.min(x0, x1);\n",
       "    var min_y = Math.min(y0, y1);\n",
       "    var width = Math.abs(x1 - x0);\n",
       "    var height = Math.abs(y1 - y0);\n",
       "\n",
       "    fig.rubberband_context.clearRect(\n",
       "        0, 0, fig.canvas.width, fig.canvas.height);\n",
       "\n",
       "    fig.rubberband_context.strokeRect(min_x, min_y, width, height);\n",
       "}\n",
       "\n",
       "mpl.figure.prototype.handle_figure_label = function(fig, msg) {\n",
       "    // Updates the figure title.\n",
       "    fig.header.textContent = msg['label'];\n",
       "}\n",
       "\n",
       "mpl.figure.prototype.handle_cursor = function(fig, msg) {\n",
       "    var cursor = msg['cursor'];\n",
       "    switch(cursor)\n",
       "    {\n",
       "    case 0:\n",
       "        cursor = 'pointer';\n",
       "        break;\n",
       "    case 1:\n",
       "        cursor = 'default';\n",
       "        break;\n",
       "    case 2:\n",
       "        cursor = 'crosshair';\n",
       "        break;\n",
       "    case 3:\n",
       "        cursor = 'move';\n",
       "        break;\n",
       "    }\n",
       "    fig.rubberband_canvas.style.cursor = cursor;\n",
       "}\n",
       "\n",
       "mpl.figure.prototype.handle_message = function(fig, msg) {\n",
       "    fig.message.textContent = msg['message'];\n",
       "}\n",
       "\n",
       "mpl.figure.prototype.handle_draw = function(fig, msg) {\n",
       "    // Request the server to send over a new figure.\n",
       "    fig.send_draw_message();\n",
       "}\n",
       "\n",
       "mpl.figure.prototype.handle_image_mode = function(fig, msg) {\n",
       "    fig.image_mode = msg['mode'];\n",
       "}\n",
       "\n",
       "mpl.figure.prototype.updated_canvas_event = function() {\n",
       "    // Called whenever the canvas gets updated.\n",
       "    this.send_message(\"ack\", {});\n",
       "}\n",
       "\n",
       "// A function to construct a web socket function for onmessage handling.\n",
       "// Called in the figure constructor.\n",
       "mpl.figure.prototype._make_on_message_function = function(fig) {\n",
       "    return function socket_on_message(evt) {\n",
       "        if (evt.data instanceof Blob) {\n",
       "            /* FIXME: We get \"Resource interpreted as Image but\n",
       "             * transferred with MIME type text/plain:\" errors on\n",
       "             * Chrome.  But how to set the MIME type?  It doesn't seem\n",
       "             * to be part of the websocket stream */\n",
       "            evt.data.type = \"image/png\";\n",
       "\n",
       "            /* Free the memory for the previous frames */\n",
       "            if (fig.imageObj.src) {\n",
       "                (window.URL || window.webkitURL).revokeObjectURL(\n",
       "                    fig.imageObj.src);\n",
       "            }\n",
       "\n",
       "            fig.imageObj.src = (window.URL || window.webkitURL).createObjectURL(\n",
       "                evt.data);\n",
       "            fig.updated_canvas_event();\n",
       "            fig.waiting = false;\n",
       "            return;\n",
       "        }\n",
       "        else if (typeof evt.data === 'string' && evt.data.slice(0, 21) == \"data:image/png;base64\") {\n",
       "            fig.imageObj.src = evt.data;\n",
       "            fig.updated_canvas_event();\n",
       "            fig.waiting = false;\n",
       "            return;\n",
       "        }\n",
       "\n",
       "        var msg = JSON.parse(evt.data);\n",
       "        var msg_type = msg['type'];\n",
       "\n",
       "        // Call the  \"handle_{type}\" callback, which takes\n",
       "        // the figure and JSON message as its only arguments.\n",
       "        try {\n",
       "            var callback = fig[\"handle_\" + msg_type];\n",
       "        } catch (e) {\n",
       "            console.log(\"No handler for the '\" + msg_type + \"' message type: \", msg);\n",
       "            return;\n",
       "        }\n",
       "\n",
       "        if (callback) {\n",
       "            try {\n",
       "                // console.log(\"Handling '\" + msg_type + \"' message: \", msg);\n",
       "                callback(fig, msg);\n",
       "            } catch (e) {\n",
       "                console.log(\"Exception inside the 'handler_\" + msg_type + \"' callback:\", e, e.stack, msg);\n",
       "            }\n",
       "        }\n",
       "    };\n",
       "}\n",
       "\n",
       "// from http://stackoverflow.com/questions/1114465/getting-mouse-location-in-canvas\n",
       "mpl.findpos = function(e) {\n",
       "    //this section is from http://www.quirksmode.org/js/events_properties.html\n",
       "    var targ;\n",
       "    if (!e)\n",
       "        e = window.event;\n",
       "    if (e.target)\n",
       "        targ = e.target;\n",
       "    else if (e.srcElement)\n",
       "        targ = e.srcElement;\n",
       "    if (targ.nodeType == 3) // defeat Safari bug\n",
       "        targ = targ.parentNode;\n",
       "\n",
       "    // jQuery normalizes the pageX and pageY\n",
       "    // pageX,Y are the mouse positions relative to the document\n",
       "    // offset() returns the position of the element relative to the document\n",
       "    var x = e.pageX - $(targ).offset().left;\n",
       "    var y = e.pageY - $(targ).offset().top;\n",
       "\n",
       "    return {\"x\": x, \"y\": y};\n",
       "};\n",
       "\n",
       "/*\n",
       " * return a copy of an object with only non-object keys\n",
       " * we need this to avoid circular references\n",
       " * http://stackoverflow.com/a/24161582/3208463\n",
       " */\n",
       "function simpleKeys (original) {\n",
       "  return Object.keys(original).reduce(function (obj, key) {\n",
       "    if (typeof original[key] !== 'object')\n",
       "        obj[key] = original[key]\n",
       "    return obj;\n",
       "  }, {});\n",
       "}\n",
       "\n",
       "mpl.figure.prototype.mouse_event = function(event, name) {\n",
       "    var canvas_pos = mpl.findpos(event)\n",
       "\n",
       "    if (name === 'button_press')\n",
       "    {\n",
       "        this.canvas.focus();\n",
       "        this.canvas_div.focus();\n",
       "    }\n",
       "\n",
       "    var x = canvas_pos.x;\n",
       "    var y = canvas_pos.y;\n",
       "\n",
       "    this.send_message(name, {x: x, y: y, button: event.button,\n",
       "                             step: event.step,\n",
       "                             guiEvent: simpleKeys(event)});\n",
       "\n",
       "    /* This prevents the web browser from automatically changing to\n",
       "     * the text insertion cursor when the button is pressed.  We want\n",
       "     * to control all of the cursor setting manually through the\n",
       "     * 'cursor' event from matplotlib */\n",
       "    event.preventDefault();\n",
       "    return false;\n",
       "}\n",
       "\n",
       "mpl.figure.prototype._key_event_extra = function(event, name) {\n",
       "    // Handle any extra behaviour associated with a key event\n",
       "}\n",
       "\n",
       "mpl.figure.prototype.key_event = function(event, name) {\n",
       "\n",
       "    // Prevent repeat events\n",
       "    if (name == 'key_press')\n",
       "    {\n",
       "        if (event.which === this._key)\n",
       "            return;\n",
       "        else\n",
       "            this._key = event.which;\n",
       "    }\n",
       "    if (name == 'key_release')\n",
       "        this._key = null;\n",
       "\n",
       "    var value = '';\n",
       "    if (event.ctrlKey && event.which != 17)\n",
       "        value += \"ctrl+\";\n",
       "    if (event.altKey && event.which != 18)\n",
       "        value += \"alt+\";\n",
       "    if (event.shiftKey && event.which != 16)\n",
       "        value += \"shift+\";\n",
       "\n",
       "    value += 'k';\n",
       "    value += event.which.toString();\n",
       "\n",
       "    this._key_event_extra(event, name);\n",
       "\n",
       "    this.send_message(name, {key: value,\n",
       "                             guiEvent: simpleKeys(event)});\n",
       "    return false;\n",
       "}\n",
       "\n",
       "mpl.figure.prototype.toolbar_button_onclick = function(name) {\n",
       "    if (name == 'download') {\n",
       "        this.handle_save(this, null);\n",
       "    } else {\n",
       "        this.send_message(\"toolbar_button\", {name: name});\n",
       "    }\n",
       "};\n",
       "\n",
       "mpl.figure.prototype.toolbar_button_onmouseover = function(tooltip) {\n",
       "    this.message.textContent = tooltip;\n",
       "};\n",
       "mpl.toolbar_items = [[\"Home\", \"Reset original view\", \"fa fa-home icon-home\", \"home\"], [\"Back\", \"Back to  previous view\", \"fa fa-arrow-left icon-arrow-left\", \"back\"], [\"Forward\", \"Forward to next view\", \"fa fa-arrow-right icon-arrow-right\", \"forward\"], [\"\", \"\", \"\", \"\"], [\"Pan\", \"Pan axes with left mouse, zoom with right\", \"fa fa-arrows icon-move\", \"pan\"], [\"Zoom\", \"Zoom to rectangle\", \"fa fa-square-o icon-check-empty\", \"zoom\"], [\"\", \"\", \"\", \"\"], [\"Download\", \"Download plot\", \"fa fa-floppy-o icon-save\", \"download\"]];\n",
       "\n",
       "mpl.extensions = [\"eps\", \"jpeg\", \"pdf\", \"png\", \"ps\", \"raw\", \"svg\", \"tif\"];\n",
       "\n",
       "mpl.default_extension = \"png\";var comm_websocket_adapter = function(comm) {\n",
       "    // Create a \"websocket\"-like object which calls the given IPython comm\n",
       "    // object with the appropriate methods. Currently this is a non binary\n",
       "    // socket, so there is still some room for performance tuning.\n",
       "    var ws = {};\n",
       "\n",
       "    ws.close = function() {\n",
       "        comm.close()\n",
       "    };\n",
       "    ws.send = function(m) {\n",
       "        //console.log('sending', m);\n",
       "        comm.send(m);\n",
       "    };\n",
       "    // Register the callback with on_msg.\n",
       "    comm.on_msg(function(msg) {\n",
       "        //console.log('receiving', msg['content']['data'], msg);\n",
       "        // Pass the mpl event to the overriden (by mpl) onmessage function.\n",
       "        ws.onmessage(msg['content']['data'])\n",
       "    });\n",
       "    return ws;\n",
       "}\n",
       "\n",
       "mpl.mpl_figure_comm = function(comm, msg) {\n",
       "    // This is the function which gets called when the mpl process\n",
       "    // starts-up an IPython Comm through the \"matplotlib\" channel.\n",
       "\n",
       "    var id = msg.content.data.id;\n",
       "    // Get hold of the div created by the display call when the Comm\n",
       "    // socket was opened in Python.\n",
       "    var element = $(\"#\" + id);\n",
       "    var ws_proxy = comm_websocket_adapter(comm)\n",
       "\n",
       "    function ondownload(figure, format) {\n",
       "        window.open(figure.imageObj.src);\n",
       "    }\n",
       "\n",
       "    var fig = new mpl.figure(id, ws_proxy,\n",
       "                           ondownload,\n",
       "                           element.get(0));\n",
       "\n",
       "    // Call onopen now - mpl needs it, as it is assuming we've passed it a real\n",
       "    // web socket which is closed, not our websocket->open comm proxy.\n",
       "    ws_proxy.onopen();\n",
       "\n",
       "    fig.parent_element = element.get(0);\n",
       "    fig.cell_info = mpl.find_output_cell(\"<div id='\" + id + \"'></div>\");\n",
       "    if (!fig.cell_info) {\n",
       "        console.error(\"Failed to find cell for figure\", id, fig);\n",
       "        return;\n",
       "    }\n",
       "\n",
       "    var output_index = fig.cell_info[2]\n",
       "    var cell = fig.cell_info[0];\n",
       "\n",
       "};\n",
       "\n",
       "mpl.figure.prototype.handle_close = function(fig, msg) {\n",
       "    fig.root.unbind('remove')\n",
       "\n",
       "    // Update the output cell to use the data from the current canvas.\n",
       "    fig.push_to_output();\n",
       "    var dataURL = fig.canvas.toDataURL();\n",
       "    // Re-enable the keyboard manager in IPython - without this line, in FF,\n",
       "    // the notebook keyboard shortcuts fail.\n",
       "    IPython.keyboard_manager.enable()\n",
       "    $(fig.parent_element).html('<img src=\"' + dataURL + '\">');\n",
       "    fig.close_ws(fig, msg);\n",
       "}\n",
       "\n",
       "mpl.figure.prototype.close_ws = function(fig, msg){\n",
       "    fig.send_message('closing', msg);\n",
       "    // fig.ws.close()\n",
       "}\n",
       "\n",
       "mpl.figure.prototype.push_to_output = function(remove_interactive) {\n",
       "    // Turn the data on the canvas into data in the output cell.\n",
       "    var dataURL = this.canvas.toDataURL();\n",
       "    this.cell_info[1]['text/html'] = '<img src=\"' + dataURL + '\">';\n",
       "}\n",
       "\n",
       "mpl.figure.prototype.updated_canvas_event = function() {\n",
       "    // Tell IPython that the notebook contents must change.\n",
       "    IPython.notebook.set_dirty(true);\n",
       "    this.send_message(\"ack\", {});\n",
       "    var fig = this;\n",
       "    // Wait a second, then push the new image to the DOM so\n",
       "    // that it is saved nicely (might be nice to debounce this).\n",
       "    setTimeout(function () { fig.push_to_output() }, 1000);\n",
       "}\n",
       "\n",
       "mpl.figure.prototype._init_toolbar = function() {\n",
       "    var fig = this;\n",
       "\n",
       "    var nav_element = $('<div/>')\n",
       "    nav_element.attr('style', 'width: 100%');\n",
       "    this.root.append(nav_element);\n",
       "\n",
       "    // Define a callback function for later on.\n",
       "    function toolbar_event(event) {\n",
       "        return fig.toolbar_button_onclick(event['data']);\n",
       "    }\n",
       "    function toolbar_mouse_event(event) {\n",
       "        return fig.toolbar_button_onmouseover(event['data']);\n",
       "    }\n",
       "\n",
       "    for(var toolbar_ind in mpl.toolbar_items){\n",
       "        var name = mpl.toolbar_items[toolbar_ind][0];\n",
       "        var tooltip = mpl.toolbar_items[toolbar_ind][1];\n",
       "        var image = mpl.toolbar_items[toolbar_ind][2];\n",
       "        var method_name = mpl.toolbar_items[toolbar_ind][3];\n",
       "\n",
       "        if (!name) { continue; };\n",
       "\n",
       "        var button = $('<button class=\"btn btn-default\" href=\"#\" title=\"' + name + '\"><i class=\"fa ' + image + ' fa-lg\"></i></button>');\n",
       "        button.click(method_name, toolbar_event);\n",
       "        button.mouseover(tooltip, toolbar_mouse_event);\n",
       "        nav_element.append(button);\n",
       "    }\n",
       "\n",
       "    // Add the status bar.\n",
       "    var status_bar = $('<span class=\"mpl-message\" style=\"text-align:right; float: right;\"/>');\n",
       "    nav_element.append(status_bar);\n",
       "    this.message = status_bar[0];\n",
       "\n",
       "    // Add the close button to the window.\n",
       "    var buttongrp = $('<div class=\"btn-group inline pull-right\"></div>');\n",
       "    var button = $('<button class=\"btn btn-mini btn-primary\" href=\"#\" title=\"Stop Interaction\"><i class=\"fa fa-power-off icon-remove icon-large\"></i></button>');\n",
       "    button.click(function (evt) { fig.handle_close(fig, {}); } );\n",
       "    button.mouseover('Stop Interaction', toolbar_mouse_event);\n",
       "    buttongrp.append(button);\n",
       "    var titlebar = this.root.find($('.ui-dialog-titlebar'));\n",
       "    titlebar.prepend(buttongrp);\n",
       "}\n",
       "\n",
       "mpl.figure.prototype._root_extra_style = function(el){\n",
       "    var fig = this\n",
       "    el.on(\"remove\", function(){\n",
       "\tfig.close_ws(fig, {});\n",
       "    });\n",
       "}\n",
       "\n",
       "mpl.figure.prototype._canvas_extra_style = function(el){\n",
       "    // this is important to make the div 'focusable\n",
       "    el.attr('tabindex', 0)\n",
       "    // reach out to IPython and tell the keyboard manager to turn it's self\n",
       "    // off when our div gets focus\n",
       "\n",
       "    // location in version 3\n",
       "    if (IPython.notebook.keyboard_manager) {\n",
       "        IPython.notebook.keyboard_manager.register_events(el);\n",
       "    }\n",
       "    else {\n",
       "        // location in version 2\n",
       "        IPython.keyboard_manager.register_events(el);\n",
       "    }\n",
       "\n",
       "}\n",
       "\n",
       "mpl.figure.prototype._key_event_extra = function(event, name) {\n",
       "    var manager = IPython.notebook.keyboard_manager;\n",
       "    if (!manager)\n",
       "        manager = IPython.keyboard_manager;\n",
       "\n",
       "    // Check for shift+enter\n",
       "    if (event.shiftKey && event.which == 13) {\n",
       "        this.canvas_div.blur();\n",
       "        event.shiftKey = false;\n",
       "        // Send a \"J\" for go to next cell\n",
       "        event.which = 74;\n",
       "        event.keyCode = 74;\n",
       "        manager.command_mode();\n",
       "        manager.handle_keydown(event);\n",
       "    }\n",
       "}\n",
       "\n",
       "mpl.figure.prototype.handle_save = function(fig, msg) {\n",
       "    fig.ondownload(fig, null);\n",
       "}\n",
       "\n",
       "\n",
       "mpl.find_output_cell = function(html_output) {\n",
       "    // Return the cell and output element which can be found *uniquely* in the notebook.\n",
       "    // Note - this is a bit hacky, but it is done because the \"notebook_saving.Notebook\"\n",
       "    // IPython event is triggered only after the cells have been serialised, which for\n",
       "    // our purposes (turning an active figure into a static one), is too late.\n",
       "    var cells = IPython.notebook.get_cells();\n",
       "    var ncells = cells.length;\n",
       "    for (var i=0; i<ncells; i++) {\n",
       "        var cell = cells[i];\n",
       "        if (cell.cell_type === 'code'){\n",
       "            for (var j=0; j<cell.output_area.outputs.length; j++) {\n",
       "                var data = cell.output_area.outputs[j];\n",
       "                if (data.data) {\n",
       "                    // IPython >= 3 moved mimebundle to data attribute of output\n",
       "                    data = data.data;\n",
       "                }\n",
       "                if (data['text/html'] == html_output) {\n",
       "                    return [cell, data, j];\n",
       "                }\n",
       "            }\n",
       "        }\n",
       "    }\n",
       "}\n",
       "\n",
       "// Register the function which deals with the matplotlib target/channel.\n",
       "// The kernel may be null if the page has been refreshed.\n",
       "if (IPython.notebook.kernel != null) {\n",
       "    IPython.notebook.kernel.comm_manager.register_target('matplotlib', mpl.mpl_figure_comm);\n",
       "}\n"
      ],
      "text/plain": [
       "<IPython.core.display.Javascript object>"
      ]
     },
     "metadata": {},
     "output_type": "display_data"
    },
    {
     "data": {
      "text/html": [
       "<img src=\"data:image/png;base64,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\">"
      ],
      "text/plain": [
       "<IPython.core.display.HTML object>"
      ]
     },
     "metadata": {},
     "output_type": "display_data"
    }
   ],
   "source": [
    "plt.clf()\n",
    "ax = plt.gca()\n",
    "# Data\n",
    "ax.plot(spec.wavelength, spec.flux, 'k')\n",
    "# Continuum\n",
    "ax.plot(zhu_wave['WAVE'][0][:,np.where(mtw)[0]], conti['CONTINUUM'][0][:,np.where(mtc)[1]])\n",
    "ax.set_xlim(3800., 8000.)\n",
    "ax.set_ylim(0., 12)\n",
    "plt.show()"
   ]
  },
  {
   "cell_type": "code",
   "execution_count": null,
   "metadata": {
    "collapsed": true
   },
   "outputs": [],
   "source": []
  }
 ],
 "metadata": {
  "kernelspec": {
   "display_name": "Python 2",
   "language": "python",
   "name": "python2"
  },
  "language_info": {
   "codemirror_mode": {
    "name": "ipython",
    "version": 2
   },
   "file_extension": ".py",
   "mimetype": "text/x-python",
   "name": "python",
   "nbconvert_exporter": "python",
   "pygments_lexer": "ipython2",
   "version": "2.7.11"
  }
 },
 "nbformat": 4,
 "nbformat_minor": 0
}
