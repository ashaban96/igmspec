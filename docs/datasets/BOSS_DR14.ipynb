{
 "cells": [
  {
   "cell_type": "markdown",
   "metadata": {},
   "source": [
    "# Fussing about with the BOSS DR14 quasars"
   ]
  },
  {
   "cell_type": "code",
   "execution_count": 22,
   "metadata": {
    "collapsed": true
   },
   "outputs": [],
   "source": [
    "# imports\n",
    "import os\n",
    "import numpy as np\n",
    "\n",
    "from astropy.table import Table\n",
    "from astropy.io import fits\n",
    "from astropy.coordinates import SkyCoord, match_coordinates_sky"
   ]
  },
  {
   "cell_type": "markdown",
   "metadata": {
    "collapsed": true
   },
   "source": [
    "## Load meta table (Paris et al.), v4"
   ]
  },
  {
   "cell_type": "code",
   "execution_count": 2,
   "metadata": {
    "collapsed": true
   },
   "outputs": [],
   "source": [
    "boss_dr14_file = os.getenv(\"RAW_IGMSPEC\")+'BOSS_DR14/DR14Q_v4_4.fits.gz'"
   ]
  },
  {
   "cell_type": "code",
   "execution_count": 3,
   "metadata": {},
   "outputs": [
    {
     "name": "stderr",
     "output_type": "stream",
     "text": [
      "WARNING: UnitsWarning: 'erg/s/cm2' contains multiple slashes, which is discouraged by the FITS standard [astropy.units.format.generic]\n",
      "WARNING: UnitsWarning: 'W/m2/Hz' contains multiple slashes, which is discouraged by the FITS standard [astropy.units.format.generic]\n"
     ]
    }
   ],
   "source": [
    "dr14 = Table.read(boss_dr14_file)"
   ]
  },
  {
   "cell_type": "code",
   "execution_count": 4,
   "metadata": {},
   "outputs": [
    {
     "data": {
      "text/html": [
       "&lt;Table length=5&gt;\n",
       "<table id=\"table139781329087064\" class=\"table-striped table-bordered table-condensed\">\n",
       "<thead><tr><th>SDSS_NAME</th><th>RA</th><th>DEC</th><th>THING_ID</th><th>PLATE</th><th>MJD</th><th>FIBERID</th><th>SPECTRO</th><th>Z</th><th>Z_ERR</th><th>SOURCE_Z</th><th>Z_VI</th><th>Z_PIPE</th><th>Z_PIPE_ERR</th><th>ZWARNING</th><th>Z_PCA</th><th>Z_PCA_ER</th><th>Z_MGII</th><th>BOSS_TARGET1</th><th>ANCILLARY_TARGET1</th><th>ANCILLARY_TARGET2</th><th>EBOSS_TARGET0</th><th>EBOSS_TARGET1</th><th>EBOSS_TARGET2</th><th>N_SPEC_SDSS</th><th>N_SPEC_BOSS</th><th>N_SPEC</th><th>PLATE_DUPLICATE [51]</th><th>MJD_DUPLICATE [51]</th><th>FIBERID_DUPLICATE [51]</th><th>SPECTRO_DUPLICATE [51]</th><th>BI_CIV</th><th>ERR_BI_CIV</th><th>RUN_NUMBER</th><th>RERUN_NUMBER</th><th>COL_NUMBER</th><th>FIELD_NUMBER</th><th>OBJ_ID</th><th>PSFFLUX [5]</th><th>IVAR_PSFFLUX [5]</th><th>PSFMAG [5]</th><th>ERR_PSFMAG [5]</th><th>MI</th><th>GAL_EXT [5]</th><th>RASS_COUNTS</th><th>RASS_COUNTS_SNR</th><th>SDSS2ROSAT_SEP</th><th>FLUX_0.2_2.0keV</th><th>FLUX_0.2_2.0keV_ERR</th><th>FLUX_2.0_12.0keV</th><th>FLUX_2.0_12.0keV_ERR</th><th>FLUX_0.2_12.0keV</th><th>FLUX_0.2_12.0keV_ERR</th><th>LUM_0.2_12.0keV</th><th>SDSS2XMM_SEP</th><th>GALEX_MATCHED</th><th>FUV</th><th>FUV_IVAR</th><th>NUV</th><th>NUV_IVAR</th><th>JMAG</th><th>ERR_JMAG</th><th>JSNR</th><th>JRDFLAG</th><th>HMAG</th><th>ERR_HMAG</th><th>HSNR</th><th>HRDFLAG</th><th>KMAG</th><th>ERR_KMAG</th><th>KSNR</th><th>KRDFLAG</th><th>SDSS2MASS_SEP</th><th>W1MAG</th><th>ERR_W1MAG</th><th>W1SNR</th><th>W1CHI2</th><th>W2MAG</th><th>ERR_W2MAG</th><th>W2SNR</th><th>W2CHI2</th><th>W3MAG</th><th>ERR_W3MAG</th><th>W3SNR</th><th>W3CHI2</th><th>W4MAG</th><th>ERR_W4MAG</th><th>W4SNR</th><th>W4CHI2</th><th>CC_FLAGS</th><th>PH_FLAGS</th><th>SDSS2WISE_SEP</th><th>UKIDSS_MATCHED</th><th>YFLUX</th><th>YFLUX_ERR</th><th>JFLUX</th><th>JFLUX_ERR</th><th>HFLUX</th><th>HFLUX_ERR</th><th>KFLUX</th><th>KFLUX_ERR</th><th>FIRST_MATCHED</th><th>FIRST_FLUX</th><th>FIRST_SNR</th><th>SDSS2FIRST_SEP</th></tr></thead>\n",
       "<thead><tr><th>-</th><th>deg</th><th>deg</th><th>-</th><th>-</th><th>-</th><th>-</th><th>-</th><th>-</th><th>-</th><th>-</th><th>-</th><th>-</th><th>-</th><th>-</th><th>-</th><th>-</th><th>-</th><th>-</th><th>-</th><th>-</th><th>-</th><th>-</th><th>-</th><th>-</th><th>-</th><th>-</th><th>-</th><th>-</th><th>-</th><th>-</th><th>km / s</th><th>km / s</th><th>-</th><th>-</th><th>-</th><th>-</th><th>-</th><th>nanomaggies</th><th>-</th><th>mag</th><th>mag</th><th>-</th><th>mag</th><th>counts/s</th><th>-</th><th>arcsec</th><th>erg / (cm2 s)</th><th>erg / (cm2 s)</th><th>erg / (cm2 s)</th><th>erg / (cm2 s)</th><th>erg / (cm2 s)</th><th>erg / (cm2 s)</th><th>erg / s</th><th>arcsec</th><th>-</th><th>-</th><th>-</th><th>-</th><th>-</th><th>Vega</th><th>Vega</th><th>-</th><th>-</th><th>Vega</th><th>Vega</th><th>-</th><th>-</th><th>Vega</th><th>Vega</th><th>-</th><th>-</th><th>arcsec</th><th>-</th><th>-</th><th>-</th><th>-</th><th>-</th><th>-</th><th>-</th><th>-</th><th>-</th><th>-</th><th>-</th><th>-</th><th>-</th><th>-</th><th>-</th><th>-</th><th>-</th><th>-</th><th>arcsec</th><th>-</th><th>W / (Hz m2)</th><th>W / (Hz m2)</th><th>W / (Hz m2)</th><th>W / (Hz m2)</th><th>W / (Hz m2)</th><th>W / (Hz m2)</th><th>W / (Hz m2)</th><th>W / (Hz m2)</th><th>-</th><th>mJy</th><th>-</th><th>arcsec</th></tr></thead>\n",
       "<thead><tr><th>str18</th><th>float64</th><th>float64</th><th>int32</th><th>int16</th><th>int32</th><th>int16</th><th>str4</th><th>float64</th><th>float64</th><th>str4</th><th>float64</th><th>float64</th><th>float64</th><th>int16</th><th>float64</th><th>float64</th><th>float64</th><th>int64</th><th>int64</th><th>int64</th><th>int64</th><th>int64</th><th>int64</th><th>int16</th><th>int16</th><th>int16</th><th>int32</th><th>int32</th><th>int32</th><th>str1</th><th>float64</th><th>float64</th><th>int16</th><th>str1</th><th>int16</th><th>int16</th><th>str1</th><th>float64</th><th>float64</th><th>float64</th><th>float64</th><th>float64</th><th>float64</th><th>float64</th><th>float64</th><th>float64</th><th>float64</th><th>float64</th><th>float64</th><th>float64</th><th>float64</th><th>float64</th><th>float64</th><th>float64</th><th>float32</th><th>float64</th><th>float64</th><th>float64</th><th>float64</th><th>float64</th><th>float64</th><th>float32</th><th>int16</th><th>float64</th><th>float64</th><th>float32</th><th>int16</th><th>float64</th><th>float64</th><th>float32</th><th>int16</th><th>float64</th><th>float64</th><th>float64</th><th>float64</th><th>float64</th><th>float64</th><th>float64</th><th>float64</th><th>float64</th><th>float64</th><th>float64</th><th>float64</th><th>float64</th><th>float64</th><th>float64</th><th>float64</th><th>float64</th><th>str4</th><th>str4</th><th>float64</th><th>float32</th><th>float64</th><th>float64</th><th>float64</th><th>float64</th><th>float64</th><th>float64</th><th>float64</th><th>float64</th><th>int16</th><th>float64</th><th>float64</th><th>float64</th></tr></thead>\n",
       "<tr><td>000000.45+174625.4</td><td>0.00189827435634</td><td>17.7737391238</td><td>268270422</td><td>7596</td><td>56945</td><td>162</td><td>BOSS</td><td>2.309</td><td>0.0</td><td>VI</td><td>2.30900001526</td><td>2.3077507019</td><td>0.00103000446688</td><td>0</td><td>2.3045657</td><td>-1.0</td><td>-1.0</td><td>0</td><td>0</td><td>0</td><td>0</td><td>4096</td><td>0</td><td>0</td><td>1</td><td>1</td><td>0 .. -1</td><td>0 .. -1</td><td>0 .. -1</td><td>- .. -</td><td>0.0</td><td>0.0</td><td>0</td><td>-</td><td>0</td><td>0</td><td>-</td><td>1.03793668747 .. 2.63113641739</td><td>12.3725328445 .. 0.870614349842</td><td>22.4403381348 .. 21.372461319</td><td>0.28712439537 .. 0.385455340147</td><td>-24.410782</td><td>0.12021728605 .. 0.0358184576035</td><td>0.0</td><td>0.0</td><td>-1.0</td><td>nan</td><td>nan</td><td>nan</td><td>nan</td><td>nan</td><td>nan</td><td>nan</td><td>nan</td><td>1.0</td><td>0.302318871021</td><td>8.78557314038</td><td>0.727564871311</td><td>4.53735896492</td><td>nan</td><td>nan</td><td>nan</td><td>-1</td><td>nan</td><td>nan</td><td>nan</td><td>-1</td><td>nan</td><td>nan</td><td>nan</td><td>-1</td><td>nan</td><td>nan</td><td>nan</td><td>nan</td><td>nan</td><td>nan</td><td>nan</td><td>nan</td><td>nan</td><td>nan</td><td>nan</td><td>nan</td><td>nan</td><td>nan</td><td>nan</td><td>nan</td><td>nan</td><td></td><td></td><td>nan</td><td>0.0</td><td>0.0</td><td>0.0</td><td>0.0</td><td>0.0</td><td>0.0</td><td>0.0</td><td>0.0</td><td>0.0</td><td>-1</td><td>-1.0</td><td>-1.0</td><td>-1.0</td></tr>\n",
       "<tr><td>000000.57+055630.8</td><td>0.00237547618883</td><td>5.94190300552</td><td>163544156</td><td>8740</td><td>57367</td><td>694</td><td>BOSS</td><td>2.1031203</td><td>0.0</td><td>AUTO</td><td>-1.0</td><td>2.103120327</td><td>0.000924157735426</td><td>0</td><td>2.0996385</td><td>2.098349</td><td>2.098349</td><td>0</td><td>0</td><td>0</td><td>0</td><td>2048</td><td>0</td><td>0</td><td>0</td><td>0</td><td>-1 .. -1</td><td>-1 .. -1</td><td>-1 .. -1</td><td>- .. -</td><td>0.0</td><td>0.0</td><td>0</td><td>-</td><td>0</td><td>0</td><td>-</td><td>1.1197296381 .. 4.73010158539</td><td>9.19686603546 .. 0.819230973721</td><td>22.3606281281 .. 20.7871761322</td><td>0.310184836388 .. 0.24203003943</td><td>-24.732</td><td>0.233826398849 .. 0.0696680247784</td><td>0.0</td><td>0.0</td><td>-1.0</td><td>nan</td><td>nan</td><td>nan</td><td>nan</td><td>nan</td><td>nan</td><td>nan</td><td>nan</td><td>1.0</td><td>0.0</td><td>0.0</td><td>0.0</td><td>0.0</td><td>nan</td><td>nan</td><td>nan</td><td>-1</td><td>nan</td><td>nan</td><td>nan</td><td>-1</td><td>nan</td><td>nan</td><td>nan</td><td>-1</td><td>nan</td><td>16.969</td><td>0.127</td><td>8.5</td><td>0.9904</td><td>16.888</td><td>0.409</td><td>2.70000004768</td><td>1.004</td><td>11.861</td><td>nan</td><td>1.39999997616</td><td>0.9819</td><td>8.604</td><td>0.127</td><td>0.699999988079</td><td>0.9478</td><td>hH00</td><td>BCUU</td><td>0.706171</td><td>1.0</td><td>1.28851366578e-31</td><td>2.4790984841e-32</td><td>1.22988905886e-31</td><td>4.50454225375e-32</td><td>1.49642464465e-31</td><td>4.72904962594e-32</td><td>2.45981902493e-31</td><td>5.68957192087e-32</td><td>0</td><td>-1.0</td><td>-1.0</td><td>-1.0</td></tr>\n",
       "<tr><td>000000.66+145828.8</td><td>0.00275643255031</td><td>14.9746754858</td><td>244864389</td><td>6177</td><td>56268</td><td>595</td><td>BOSS</td><td>2.497</td><td>0.0</td><td>VI</td><td>2.49699997902</td><td>2.49796199799</td><td>0.000869089795742</td><td>0</td><td>2.5099661</td><td>-1.0</td><td>-1.0</td><td>2199023255552</td><td>0</td><td>0</td><td>0</td><td>0</td><td>0</td><td>0</td><td>1</td><td>1</td><td>0 .. -1</td><td>0 .. -1</td><td>0 .. -1</td><td>- .. -</td><td>0.0</td><td>0.0</td><td>0</td><td>-</td><td>0</td><td>0</td><td>-</td><td>1.66018438339 .. 5.34850072861</td><td>15.4859495163 .. 0.861799418926</td><td>21.9419689178 .. 20.6592082977</td><td>0.163873434067 .. 0.210750207305</td><td>-25.664871</td><td>0.163414999843 .. 0.0486891120672</td><td>0.0</td><td>0.0</td><td>-1.0</td><td>nan</td><td>nan</td><td>nan</td><td>nan</td><td>nan</td><td>nan</td><td>nan</td><td>nan</td><td>1.0</td><td>0.0463186129928</td><td>701.104283731</td><td>0.0525297634304</td><td>384.750962198</td><td>nan</td><td>nan</td><td>nan</td><td>-1</td><td>nan</td><td>nan</td><td>nan</td><td>-1</td><td>nan</td><td>nan</td><td>nan</td><td>-1</td><td>nan</td><td>17.5</td><td>0.185</td><td>5.90000009537</td><td>0.9299</td><td>16.206</td><td>0.211</td><td>5.19999980927</td><td>0.8249</td><td>12.321</td><td>nan</td><td>0.300000011921</td><td>1.149</td><td>8.51</td><td>0.185</td><td>0.699999988079</td><td>1.036</td><td>0000</td><td>BBUU</td><td>0.495515</td><td>1.0</td><td>1.86038296879e-31</td><td>3.14768440602e-32</td><td>2.31094783757e-31</td><td>4.56533235635e-32</td><td>2.35531428576e-31</td><td>5.97048039363e-32</td><td>2.42714921573e-31</td><td>6.52172435522e-32</td><td>0</td><td>-1.0</td><td>-1.0</td><td>-1.0</td></tr>\n",
       "<tr><td>000000.97+044947.2</td><td>0.0040523894528</td><td>4.82978056253</td><td>154078229</td><td>4415</td><td>55831</td><td>464</td><td>BOSS</td><td>1.619</td><td>0.0</td><td>VI</td><td>1.61899995804</td><td>1.6172041893</td><td>0.000485710479552</td><td>0</td><td>1.6273098</td><td>1.6304535</td><td>1.6304535</td><td>2199023910912</td><td>0</td><td>0</td><td>0</td><td>0</td><td>0</td><td>0</td><td>0</td><td>0</td><td>-1 .. -1</td><td>-1 .. -1</td><td>-1 .. -1</td><td>- .. -</td><td>0.0</td><td>0.0</td><td>0</td><td>-</td><td>0</td><td>0</td><td>-</td><td>6.68976020813 .. 19.6006660461</td><td>7.06273508072 .. 0.541244924068</td><td>20.4359989166 .. 19.2677783966</td><td>0.0610164925456 .. 0.0750796124339</td><td>-25.806284</td><td>0.139207452536 .. 0.0414765328169</td><td>0.0</td><td>0.0</td><td>-1.0</td><td>nan</td><td>nan</td><td>nan</td><td>nan</td><td>nan</td><td>nan</td><td>nan</td><td>nan</td><td>1.0</td><td>0.349308043718</td><td>22.5872342774</td><td>1.57329285145</td><td>13.871135159</td><td>nan</td><td>nan</td><td>nan</td><td>-1</td><td>nan</td><td>nan</td><td>nan</td><td>-1</td><td>nan</td><td>nan</td><td>nan</td><td>-1</td><td>nan</td><td>15.503</td><td>0.044</td><td>24.5</td><td>0.9052</td><td>13.987</td><td>0.044</td><td>24.5</td><td>0.913</td><td>10.764</td><td>0.112</td><td>9.69999980927</td><td>0.9418</td><td>8.056</td><td>0.044</td><td>5.30000019073</td><td>1.052</td><td>0000</td><td>AABB</td><td>0.26852</td><td>1.0</td><td>5.52543705692e-31</td><td>3.595586545e-32</td><td>6.59749965981e-31</td><td>4.15465165825e-32</td><td>9.03815977251e-31</td><td>4.42033248332e-32</td><td>8.56742506636e-31</td><td>5.17876849143e-32</td><td>0</td><td>-1.0</td><td>-1.0</td><td>-1.0</td></tr>\n",
       "<tr><td>000001.20+240354.5</td><td>0.00502571355207</td><td>24.0651625295</td><td>319918739</td><td>7666</td><td>57339</td><td>121</td><td>BOSS</td><td>1.6162103</td><td>0.0</td><td>AUTO</td><td>-1.0</td><td>1.61621034145</td><td>0.000726774451323</td><td>0</td><td>1.6146076</td><td>1.616566</td><td>1.616566</td><td>0</td><td>0</td><td>0</td><td>0</td><td>1024</td><td>0</td><td>0</td><td>0</td><td>0</td><td>-1 .. -1</td><td>-1 .. -1</td><td>-1 .. -1</td><td>- .. -</td><td>0.0</td><td>0.0</td><td>0</td><td>-</td><td>0</td><td>0</td><td>-</td><td>1.61899769306 .. 9.25469684601</td><td>20.3802089691 .. 1.29871487617</td><td>21.9688549042 .. 20.0772190094</td><td>0.146377399564 .. 0.10165335238</td><td>-24.794746</td><td>0.450184196234 .. 0.13413131237</td><td>0.0</td><td>0.0</td><td>-1.0</td><td>nan</td><td>nan</td><td>nan</td><td>nan</td><td>nan</td><td>nan</td><td>nan</td><td>nan</td><td>1.0</td><td>-0.117326639593</td><td>56.6415722501</td><td>-0.0216697528958</td><td>82.5365430396</td><td>nan</td><td>nan</td><td>nan</td><td>-1</td><td>nan</td><td>nan</td><td>nan</td><td>-1</td><td>nan</td><td>nan</td><td>nan</td><td>-1</td><td>nan</td><td>16.366</td><td>0.072</td><td>15.0</td><td>1.052</td><td>15.447</td><td>0.11</td><td>9.89999961853</td><td>0.9336</td><td>12.434</td><td>nan</td><td>0.20000000298</td><td>0.9305</td><td>8.398</td><td>0.072</td><td>0.800000011921</td><td>0.9579</td><td>0000</td><td>ABUU</td><td>0.110225</td><td>0.0</td><td>0.0</td><td>0.0</td><td>0.0</td><td>0.0</td><td>0.0</td><td>0.0</td><td>0.0</td><td>0.0</td><td>-1</td><td>-1.0</td><td>-1.0</td><td>-1.0</td></tr>\n",
       "</table>"
      ],
      "text/plain": [
       "<Table length=5>\n",
       "    SDSS_NAME             RA             DEC      ... FIRST_SNR SDSS2FIRST_SEP\n",
       "        -                deg             deg      ...     -         arcsec    \n",
       "      str18            float64         float64    ...  float64     float64    \n",
       "------------------ ---------------- ------------- ... --------- --------------\n",
       "000000.45+174625.4 0.00189827435634 17.7737391238 ...      -1.0           -1.0\n",
       "000000.57+055630.8 0.00237547618883 5.94190300552 ...      -1.0           -1.0\n",
       "000000.66+145828.8 0.00275643255031 14.9746754858 ...      -1.0           -1.0\n",
       "000000.97+044947.2  0.0040523894528 4.82978056253 ...      -1.0           -1.0\n",
       "000001.20+240354.5 0.00502571355207 24.0651625295 ...      -1.0           -1.0"
      ]
     },
     "execution_count": 4,
     "metadata": {},
     "output_type": "execute_result"
    }
   ],
   "source": [
    "dr14[0:5]"
   ]
  },
  {
   "cell_type": "markdown",
   "metadata": {
    "collapsed": true
   },
   "source": [
    "## Checking redshifts"
   ]
  },
  {
   "cell_type": "code",
   "execution_count": 7,
   "metadata": {},
   "outputs": [
    {
     "data": {
      "text/plain": [
       "(446796, 526356)"
      ]
     },
     "execution_count": 7,
     "metadata": {},
     "output_type": "execute_result"
    }
   ],
   "source": [
    "gd = np.any([dr14['Z_PIPE'] > 0., dr14['Z_PCA'] > 0.],axis=0) # CUTS Z_VI\n",
    "np.sum(gd), len(dr14)"
   ]
  },
  {
   "cell_type": "code",
   "execution_count": 8,
   "metadata": {},
   "outputs": [
    {
     "data": {
      "text/plain": [
       "0.0085170869999999996"
      ]
     },
     "execution_count": 8,
     "metadata": {},
     "output_type": "execute_result"
    }
   ],
   "source": [
    "np.min(dr14['Z'])"
   ]
  },
  {
   "cell_type": "code",
   "execution_count": 9,
   "metadata": {},
   "outputs": [
    {
     "data": {
      "text/plain": [
       "0.0"
      ]
     },
     "execution_count": 9,
     "metadata": {},
     "output_type": "execute_result"
    }
   ],
   "source": [
    "np.max(dr14['Z_ERR'])"
   ]
  },
  {
   "cell_type": "markdown",
   "metadata": {},
   "source": [
    "## Are these unique?"
   ]
  },
  {
   "cell_type": "code",
   "execution_count": 12,
   "metadata": {
    "collapsed": true
   },
   "outputs": [],
   "source": [
    "coords = SkyCoord(ra=dr14['RA'], dec=dr14['DEC'], unit='deg')"
   ]
  },
  {
   "cell_type": "code",
   "execution_count": 13,
   "metadata": {
    "collapsed": true
   },
   "outputs": [],
   "source": [
    "idx, d2d, _ = match_coordinates_sky?"
   ]
  },
  {
   "cell_type": "code",
   "execution_count": 14,
   "metadata": {
    "collapsed": true
   },
   "outputs": [],
   "source": [
    "idx, d2d, _ = match_coordinates_sky(coords, coords, nthneighbor=2)"
   ]
  },
  {
   "cell_type": "code",
   "execution_count": 15,
   "metadata": {},
   "outputs": [
    {
     "data": {
      "text/latex": [
       "$2.00344\\mathrm{{}^{\\prime\\prime}}$"
      ],
      "text/plain": [
       "<Angle 2.0034430390755933 arcsec>"
      ]
     },
     "execution_count": 15,
     "metadata": {},
     "output_type": "execute_result"
    }
   ],
   "source": [
    "np.min(d2d.to('arcsec'))"
   ]
  },
  {
   "cell_type": "markdown",
   "metadata": {},
   "source": [
    "## Bad spectra"
   ]
  },
  {
   "cell_type": "code",
   "execution_count": 25,
   "metadata": {
    "collapsed": true
   },
   "outputs": [],
   "source": [
    "bad = dr14['PLATE'] == 6190"
   ]
  },
  {
   "cell_type": "code",
   "execution_count": 26,
   "metadata": {},
   "outputs": [
    {
     "data": {
      "text/html": [
       "&lt;Table length=92&gt;\n",
       "<table id=\"table139781201215896\" class=\"table-striped table-bordered table-condensed\">\n",
       "<thead><tr><th>SDSS_NAME</th><th>RA</th><th>DEC</th><th>THING_ID</th><th>PLATE</th><th>MJD</th><th>FIBERID</th><th>SPECTRO</th><th>Z</th><th>Z_ERR</th><th>SOURCE_Z</th><th>Z_VI</th><th>Z_PIPE</th><th>Z_PIPE_ERR</th><th>ZWARNING</th><th>Z_PCA</th><th>Z_PCA_ER</th><th>Z_MGII</th><th>BOSS_TARGET1</th><th>ANCILLARY_TARGET1</th><th>ANCILLARY_TARGET2</th><th>EBOSS_TARGET0</th><th>EBOSS_TARGET1</th><th>EBOSS_TARGET2</th><th>N_SPEC_SDSS</th><th>N_SPEC_BOSS</th><th>N_SPEC</th><th>PLATE_DUPLICATE [51]</th><th>MJD_DUPLICATE [51]</th><th>FIBERID_DUPLICATE [51]</th><th>SPECTRO_DUPLICATE [51]</th><th>BI_CIV</th><th>ERR_BI_CIV</th><th>RUN_NUMBER</th><th>RERUN_NUMBER</th><th>COL_NUMBER</th><th>FIELD_NUMBER</th><th>OBJ_ID</th><th>PSFFLUX [5]</th><th>IVAR_PSFFLUX [5]</th><th>PSFMAG [5]</th><th>ERR_PSFMAG [5]</th><th>MI</th><th>GAL_EXT [5]</th><th>RASS_COUNTS</th><th>RASS_COUNTS_SNR</th><th>SDSS2ROSAT_SEP</th><th>FLUX_0.2_2.0keV</th><th>FLUX_0.2_2.0keV_ERR</th><th>FLUX_2.0_12.0keV</th><th>FLUX_2.0_12.0keV_ERR</th><th>FLUX_0.2_12.0keV</th><th>FLUX_0.2_12.0keV_ERR</th><th>LUM_0.2_12.0keV</th><th>SDSS2XMM_SEP</th><th>GALEX_MATCHED</th><th>FUV</th><th>FUV_IVAR</th><th>NUV</th><th>NUV_IVAR</th><th>JMAG</th><th>ERR_JMAG</th><th>JSNR</th><th>JRDFLAG</th><th>HMAG</th><th>ERR_HMAG</th><th>HSNR</th><th>HRDFLAG</th><th>KMAG</th><th>ERR_KMAG</th><th>KSNR</th><th>KRDFLAG</th><th>SDSS2MASS_SEP</th><th>W1MAG</th><th>ERR_W1MAG</th><th>W1SNR</th><th>W1CHI2</th><th>W2MAG</th><th>ERR_W2MAG</th><th>W2SNR</th><th>W2CHI2</th><th>W3MAG</th><th>ERR_W3MAG</th><th>W3SNR</th><th>W3CHI2</th><th>W4MAG</th><th>ERR_W4MAG</th><th>W4SNR</th><th>W4CHI2</th><th>CC_FLAGS</th><th>PH_FLAGS</th><th>SDSS2WISE_SEP</th><th>UKIDSS_MATCHED</th><th>YFLUX</th><th>YFLUX_ERR</th><th>JFLUX</th><th>JFLUX_ERR</th><th>HFLUX</th><th>HFLUX_ERR</th><th>KFLUX</th><th>KFLUX_ERR</th><th>FIRST_MATCHED</th><th>FIRST_FLUX</th><th>FIRST_SNR</th><th>SDSS2FIRST_SEP</th></tr></thead>\n",
       "<thead><tr><th>-</th><th>deg</th><th>deg</th><th>-</th><th>-</th><th>-</th><th>-</th><th>-</th><th>-</th><th>-</th><th>-</th><th>-</th><th>-</th><th>-</th><th>-</th><th>-</th><th>-</th><th>-</th><th>-</th><th>-</th><th>-</th><th>-</th><th>-</th><th>-</th><th>-</th><th>-</th><th>-</th><th>-</th><th>-</th><th>-</th><th>-</th><th>km / s</th><th>km / s</th><th>-</th><th>-</th><th>-</th><th>-</th><th>-</th><th>nanomaggies</th><th>-</th><th>mag</th><th>mag</th><th>-</th><th>mag</th><th>counts/s</th><th>-</th><th>arcsec</th><th>erg / (cm2 s)</th><th>erg / (cm2 s)</th><th>erg / (cm2 s)</th><th>erg / (cm2 s)</th><th>erg / (cm2 s)</th><th>erg / (cm2 s)</th><th>erg / s</th><th>arcsec</th><th>-</th><th>-</th><th>-</th><th>-</th><th>-</th><th>Vega</th><th>Vega</th><th>-</th><th>-</th><th>Vega</th><th>Vega</th><th>-</th><th>-</th><th>Vega</th><th>Vega</th><th>-</th><th>-</th><th>arcsec</th><th>-</th><th>-</th><th>-</th><th>-</th><th>-</th><th>-</th><th>-</th><th>-</th><th>-</th><th>-</th><th>-</th><th>-</th><th>-</th><th>-</th><th>-</th><th>-</th><th>-</th><th>-</th><th>arcsec</th><th>-</th><th>W / (Hz m2)</th><th>W / (Hz m2)</th><th>W / (Hz m2)</th><th>W / (Hz m2)</th><th>W / (Hz m2)</th><th>W / (Hz m2)</th><th>W / (Hz m2)</th><th>W / (Hz m2)</th><th>-</th><th>mJy</th><th>-</th><th>arcsec</th></tr></thead>\n",
       "<thead><tr><th>str18</th><th>float64</th><th>float64</th><th>int32</th><th>int16</th><th>int32</th><th>int16</th><th>str4</th><th>float64</th><th>float64</th><th>str4</th><th>float64</th><th>float64</th><th>float64</th><th>int16</th><th>float64</th><th>float64</th><th>float64</th><th>int64</th><th>int64</th><th>int64</th><th>int64</th><th>int64</th><th>int64</th><th>int16</th><th>int16</th><th>int16</th><th>int32</th><th>int32</th><th>int32</th><th>str1</th><th>float64</th><th>float64</th><th>int16</th><th>str1</th><th>int16</th><th>int16</th><th>str1</th><th>float64</th><th>float64</th><th>float64</th><th>float64</th><th>float64</th><th>float64</th><th>float64</th><th>float64</th><th>float64</th><th>float64</th><th>float64</th><th>float64</th><th>float64</th><th>float64</th><th>float64</th><th>float64</th><th>float64</th><th>float32</th><th>float64</th><th>float64</th><th>float64</th><th>float64</th><th>float64</th><th>float64</th><th>float32</th><th>int16</th><th>float64</th><th>float64</th><th>float32</th><th>int16</th><th>float64</th><th>float64</th><th>float32</th><th>int16</th><th>float64</th><th>float64</th><th>float64</th><th>float64</th><th>float64</th><th>float64</th><th>float64</th><th>float64</th><th>float64</th><th>float64</th><th>float64</th><th>float64</th><th>float64</th><th>float64</th><th>float64</th><th>float64</th><th>float64</th><th>str4</th><th>str4</th><th>float64</th><th>float32</th><th>float64</th><th>float64</th><th>float64</th><th>float64</th><th>float64</th><th>float64</th><th>float64</th><th>float64</th><th>int16</th><th>float64</th><th>float64</th><th>float64</th></tr></thead>\n",
       "<tr><td>002050.65+130552.7</td><td>5.21107929573</td><td>13.0979997205</td><td>226927154</td><td>6190</td><td>56210</td><td>504</td><td>BOSS</td><td>0.731</td><td>0.0</td><td>VI</td><td>0.731000006199</td><td>0.0</td><td>0.0</td><td>0</td><td>-1.0</td><td>-1.0</td><td>-1.0</td><td>2199023796224</td><td>0</td><td>0</td><td>0</td><td>0</td><td>0</td><td>0</td><td>0</td><td>0</td><td>-1 .. -1</td><td>-1 .. -1</td><td>-1 .. -1</td><td>- .. -</td><td>0.0</td><td>0.0</td><td>0</td><td>-</td><td>0</td><td>0</td><td>-</td><td>1.3561732769 .. 4.89706945419</td><td>11.7487611771 .. 1.29484128952</td><td>22.1578216553 .. 20.7511749268</td><td>0.22874340415 .. 0.186509162188</td><td>-22.257511</td><td>0.2954467237 .. 0.0880276486278</td><td>0.0</td><td>0.0</td><td>-1.0</td><td>nan</td><td>nan</td><td>nan</td><td>nan</td><td>nan</td><td>nan</td><td>nan</td><td>nan</td><td>1.0</td><td>-0.0236356854439</td><td>3451.76878559</td><td>-0.0157097578049</td><td>2373.99480094</td><td>nan</td><td>nan</td><td>nan</td><td>-1</td><td>nan</td><td>nan</td><td>nan</td><td>-1</td><td>nan</td><td>nan</td><td>nan</td><td>-1</td><td>nan</td><td>nan</td><td>nan</td><td>nan</td><td>nan</td><td>nan</td><td>nan</td><td>nan</td><td>nan</td><td>nan</td><td>nan</td><td>nan</td><td>nan</td><td>nan</td><td>nan</td><td>nan</td><td>nan</td><td></td><td></td><td>nan</td><td>1.0</td><td>5.5529071844e-32</td><td>2.6366370615e-32</td><td>9.46950507356e-32</td><td>3.79249184046e-32</td><td>1.84716206628e-31</td><td>7.30331054908e-32</td><td>1.49414406806e-31</td><td>5.75547659939e-32</td><td>-1</td><td>-1.0</td><td>-1.0</td><td>-1.0</td></tr>\n",
       "<tr><td>002117.04+120547.7</td><td>5.32103170262</td><td>12.0966110702</td><td>220075469</td><td>6190</td><td>56210</td><td>487</td><td>BOSS</td><td>1.681</td><td>0.0</td><td>VI</td><td>1.68099999428</td><td>1.68680763245</td><td>0.000124771191622</td><td>0</td><td>1.6849587</td><td>1.6701293</td><td>1.6701293</td><td>2199023255552</td><td>0</td><td>1024</td><td>0</td><td>0</td><td>0</td><td>0</td><td>0</td><td>0</td><td>-1 .. -1</td><td>-1 .. -1</td><td>-1 .. -1</td><td>- .. -</td><td>0.0</td><td>0.0</td><td>0</td><td>-</td><td>0</td><td>0</td><td>-</td><td>0.93025714159 .. 1.95294857025</td><td>10.6337366104 .. 1.12510502338</td><td>22.5546970367 .. 21.643119812</td><td>0.342725455761 .. 0.417727142572</td><td>-23.988163</td><td>0.383745610714 .. 0.11433609575</td><td>0.0</td><td>0.0</td><td>-1.0</td><td>nan</td><td>nan</td><td>nan</td><td>nan</td><td>nan</td><td>nan</td><td>nan</td><td>nan</td><td>1.0</td><td>0.366937071085</td><td>13.0621381745</td><td>-0.165271311998</td><td>5.1322079452</td><td>nan</td><td>nan</td><td>nan</td><td>-1</td><td>nan</td><td>nan</td><td>nan</td><td>-1</td><td>nan</td><td>nan</td><td>nan</td><td>-1</td><td>nan</td><td>16.84</td><td>0.115</td><td>9.5</td><td>0.9195</td><td>15.798</td><td>0.181</td><td>6.0</td><td>0.8562</td><td>12.294</td><td>nan</td><td>0.300000011921</td><td>1.139</td><td>8.687</td><td>0.115</td><td>-0.40000000596</td><td>0.9243</td><td>0000</td><td>BBUU</td><td>1.895738</td><td>1.0</td><td>8.85698670569e-32</td><td>2.45019733918e-32</td><td>1.63642649203e-31</td><td>3.25057660204e-32</td><td>1.99526248199e-31</td><td>5.0787392119e-32</td><td>8.39995097561e-32</td><td>6.59779529664e-32</td><td>0</td><td>-1.0</td><td>-1.0</td><td>-1.0</td></tr>\n",
       "<tr><td>002124.55+132855.3</td><td>5.35230399996</td><td>13.4820326754</td><td>230434124</td><td>6190</td><td>56210</td><td>549</td><td>BOSS</td><td>2.752</td><td>0.0</td><td>VI</td><td>2.75200009346</td><td>0.0</td><td>0.0</td><td>0</td><td>-1.0</td><td>-1.0</td><td>-1.0</td><td>3298535424000</td><td>0</td><td>0</td><td>0</td><td>0</td><td>0</td><td>0</td><td>0</td><td>0</td><td>-1 .. -1</td><td>-1 .. -1</td><td>-1 .. -1</td><td>- .. -</td><td>0.0</td><td>0.0</td><td>0</td><td>-</td><td>0</td><td>0</td><td>-</td><td>1.63307154179 .. 3.72961807251</td><td>8.07897758484 .. 1.06114506721</td><td>21.9595947266 .. 21.0304203033</td><td>0.230541661382 .. 0.262674510479</td><td>-25.319599</td><td>0.287478238344 .. 0.0856534689665</td><td>0.0</td><td>0.0</td><td>-1.0</td><td>nan</td><td>nan</td><td>nan</td><td>nan</td><td>nan</td><td>nan</td><td>nan</td><td>nan</td><td>1.0</td><td>0.80466812849</td><td>7.14755634853</td><td>0.289129555225</td><td>19.3238451676</td><td>nan</td><td>nan</td><td>nan</td><td>-1</td><td>nan</td><td>nan</td><td>nan</td><td>-1</td><td>nan</td><td>nan</td><td>nan</td><td>-1</td><td>nan</td><td>17.313</td><td>0.175</td><td>6.19999980927</td><td>0.8515</td><td>16.523</td><td>0.321</td><td>3.40000009537</td><td>0.9391</td><td>11.459</td><td>nan</td><td>1.79999995232</td><td>1.044</td><td>8.414</td><td>0.175</td><td>0.40000000596</td><td>0.8998</td><td>0000</td><td>BBUU</td><td>0.574636</td><td>1.0</td><td>9.78189563602e-32</td><td>2.39626462981e-32</td><td>2.15855157776e-31</td><td>3.53471415778e-32</td><td>3.29156591373e-31</td><td>6.63312301611e-32</td><td>3.1292268525e-31</td><td>5.45253701151e-32</td><td>-1</td><td>-1.0</td><td>-1.0</td><td>-1.0</td></tr>\n",
       "<tr><td>002137.22+131953.9</td><td>5.40510764914</td><td>13.3316559013</td><td>228673770</td><td>6190</td><td>56210</td><td>502</td><td>BOSS</td><td>2.142</td><td>0.0</td><td>VI</td><td>2.14199995995</td><td>0.0</td><td>0.0</td><td>0</td><td>-1.0</td><td>-1.0</td><td>-1.0</td><td>2199023779840</td><td>0</td><td>0</td><td>0</td><td>0</td><td>0</td><td>0</td><td>0</td><td>0</td><td>-1 .. -1</td><td>-1 .. -1</td><td>-1 .. -1</td><td>- .. -</td><td>0.0</td><td>0.0</td><td>0</td><td>-</td><td>0</td><td>0</td><td>-</td><td>1.4183883667 .. 4.06683301926</td><td>16.789604187 .. 1.6869969368</td><td>22.110086441 .. 20.9425754547</td><td>0.183276802301 .. 0.193154007196</td><td>-24.714407</td><td>0.317397236824 .. 0.0945677608252</td><td>0.0</td><td>0.0</td><td>-1.0</td><td>nan</td><td>nan</td><td>nan</td><td>nan</td><td>nan</td><td>nan</td><td>nan</td><td>nan</td><td>1.0</td><td>0.359657078981</td><td>5.58254284098</td><td>-0.168375343084</td><td>28.0100697718</td><td>nan</td><td>nan</td><td>nan</td><td>-1</td><td>nan</td><td>nan</td><td>nan</td><td>-1</td><td>nan</td><td>nan</td><td>nan</td><td>-1</td><td>nan</td><td>nan</td><td>nan</td><td>nan</td><td>nan</td><td>nan</td><td>nan</td><td>nan</td><td>nan</td><td>nan</td><td>nan</td><td>nan</td><td>nan</td><td>nan</td><td>nan</td><td>nan</td><td>nan</td><td></td><td></td><td>nan</td><td>1.0</td><td>7.33956749684e-32</td><td>2.81324421439e-32</td><td>1.04477702802e-31</td><td>4.73981686032e-32</td><td>9.99717978566e-32</td><td>7.59481904215e-32</td><td>1.55676323987e-31</td><td>6.07467209866e-32</td><td>-1</td><td>-1.0</td><td>-1.0</td><td>-1.0</td></tr>\n",
       "<tr><td>002149.64+113954.7</td><td>5.45687213759</td><td>11.6652187303</td><td>216664261</td><td>6190</td><td>56210</td><td>447</td><td>BOSS</td><td>1.551</td><td>0.0</td><td>VI</td><td>1.55099999905</td><td>1.55011773109</td><td>31.7508792877</td><td>0</td><td>1.5645913</td><td>1.5405748</td><td>1.5405748</td><td>1099511627776</td><td>0</td><td>0</td><td>0</td><td>0</td><td>0</td><td>0</td><td>0</td><td>0</td><td>-1 .. -1</td><td>-1 .. -1</td><td>-1 .. -1</td><td>- .. -</td><td>0.0</td><td>0.0</td><td>0</td><td>-</td><td>0</td><td>0</td><td>-</td><td>-0.355299264193 .. 0.724571287632</td><td>10.1720476151 .. 0.808835566044</td><td>25.784866333 .. 22.3145961761</td><td>0.752536296844 .. 0.732617020607</td><td>-23.989319</td><td>0.363268852234 .. 0.108235098422</td><td>0.0</td><td>0.0</td><td>-1.0</td><td>nan</td><td>nan</td><td>nan</td><td>nan</td><td>nan</td><td>nan</td><td>nan</td><td>nan</td><td>1.0</td><td>0.0</td><td>0.0</td><td>0.0</td><td>0.0</td><td>nan</td><td>nan</td><td>nan</td><td>-1</td><td>nan</td><td>nan</td><td>nan</td><td>-1</td><td>nan</td><td>nan</td><td>nan</td><td>-1</td><td>nan</td><td>nan</td><td>nan</td><td>nan</td><td>nan</td><td>nan</td><td>nan</td><td>nan</td><td>nan</td><td>nan</td><td>nan</td><td>nan</td><td>nan</td><td>nan</td><td>nan</td><td>nan</td><td>nan</td><td></td><td></td><td>nan</td><td>1.0</td><td>9.90723801091e-32</td><td>3.21820084276e-32</td><td>1.97333857195e-31</td><td>3.94107168154e-32</td><td>3.43403959063e-31</td><td>6.06923484954e-32</td><td>4.37324382531e-31</td><td>6.65313639518e-32</td><td>0</td><td>-1.0</td><td>-1.0</td><td>-1.0</td></tr>\n",
       "<tr><td>002150.73+122925.9</td><td>5.46138830839</td><td>12.4905400583</td><td>221759625</td><td>6190</td><td>56210</td><td>464</td><td>BOSS</td><td>1.909</td><td>0.0</td><td>VI</td><td>1.9090000391</td><td>1.91202151775</td><td>0.00209368253127</td><td>0</td><td>1.9051545</td><td>1.8942246</td><td>1.8942246</td><td>2199023255552</td><td>0</td><td>1024</td><td>0</td><td>0</td><td>0</td><td>0</td><td>0</td><td>0</td><td>-1 .. -1</td><td>-1 .. -1</td><td>-1 .. -1</td><td>- .. -</td><td>0.0</td><td>0.0</td><td>0</td><td>-</td><td>0</td><td>0</td><td>-</td><td>2.01174926758 .. 9.10976409912</td><td>14.1727809906 .. 1.33106827736</td><td>21.7358455658 .. 20.0941371918</td><td>0.141989633441 .. 0.101967066526</td><td>-25.320055</td><td>0.299748659134 .. 0.0893094092607</td><td>0.0</td><td>0.0</td><td>-1.0</td><td>nan</td><td>nan</td><td>nan</td><td>nan</td><td>nan</td><td>nan</td><td>nan</td><td>nan</td><td>1.0</td><td>0.493483066559</td><td>13.3087931243</td><td>-0.279731780291</td><td>37.1238354091</td><td>nan</td><td>nan</td><td>nan</td><td>-1</td><td>nan</td><td>nan</td><td>nan</td><td>-1</td><td>nan</td><td>nan</td><td>nan</td><td>-1</td><td>nan</td><td>16.985</td><td>0.113</td><td>9.60000038147</td><td>0.8926</td><td>15.881</td><td>0.162</td><td>6.69999980927</td><td>0.8784</td><td>11.979</td><td>nan</td><td>0.800000011921</td><td>0.8139</td><td>8.701</td><td>0.113</td><td>0.10000000149</td><td>0.9446</td><td>0000</td><td>BBUU</td><td>0.096862</td><td>1.0</td><td>2.53797341254e-31</td><td>2.63019241373e-32</td><td>2.87261573042e-31</td><td>3.57573420865e-32</td><td>3.94852549122e-31</td><td>5.7331169336e-32</td><td>5.79067043006e-31</td><td>6.8841756956e-32</td><td>0</td><td>-1.0</td><td>-1.0</td><td>-1.0</td></tr>\n",
       "<tr><td>002157.78+130300.8</td><td>5.49075704138</td><td>13.0502292002</td><td>226921498</td><td>6190</td><td>56210</td><td>530</td><td>BOSS</td><td>2.294</td><td>0.0</td><td>VI</td><td>2.29399991035</td><td>0.0</td><td>0.0</td><td>0</td><td>-1.0</td><td>-1.0</td><td>-1.0</td><td>2199023255552</td><td>0</td><td>0</td><td>0</td><td>0</td><td>0</td><td>0</td><td>0</td><td>0</td><td>-1 .. -1</td><td>-1 .. -1</td><td>-1 .. -1</td><td>- .. -</td><td>0.0</td><td>0.0</td><td>0</td><td>-</td><td>0</td><td>0</td><td>-</td><td>2.82094883919 .. 3.81897783279</td><td>10.0588207245 .. 1.32524824142</td><td>21.3713474274 .. 21.0064888</td><td>0.12076099962 .. 0.230273813009</td><td>-25.233852</td><td>0.330246239901 .. 0.0983960852027</td><td>0.0</td><td>0.0</td><td>-1.0</td><td>nan</td><td>nan</td><td>nan</td><td>nan</td><td>nan</td><td>nan</td><td>nan</td><td>nan</td><td>1.0</td><td>-0.0236356854439</td><td>3451.76878559</td><td>-0.0157097578049</td><td>2373.99480094</td><td>nan</td><td>nan</td><td>nan</td><td>-1</td><td>nan</td><td>nan</td><td>nan</td><td>-1</td><td>nan</td><td>nan</td><td>nan</td><td>-1</td><td>nan</td><td>17.454</td><td>0.181</td><td>6.0</td><td>0.963</td><td>17.116</td><td>0.507</td><td>2.09999990463</td><td>0.9568</td><td>12.249</td><td>nan</td><td>-0.10000000149</td><td>0.7963</td><td>8.268</td><td>0.181</td><td>1.60000002384</td><td>1.054</td><td>0000</td><td>BCUU</td><td>0.156778</td><td>1.0</td><td>1.35641915324e-31</td><td>2.51812048844e-32</td><td>1.89218573335e-31</td><td>3.81270946167e-32</td><td>1.92646961384e-31</td><td>6.98006664727e-32</td><td>1.83712886935e-31</td><td>5.41594916209e-32</td><td>-1</td><td>-1.0</td><td>-1.0</td><td>-1.0</td></tr>\n",
       "<tr><td>002220.62+123810.9</td><td>5.58593895478</td><td>12.636364899</td><td>223474709</td><td>6190</td><td>56210</td><td>540</td><td>BOSS</td><td>1.113</td><td>0.0</td><td>VI</td><td>1.11300003529</td><td>0.0</td><td>0.0</td><td>0</td><td>-1.0</td><td>-1.0</td><td>-1.0</td><td>2199023255552</td><td>0</td><td>1024</td><td>0</td><td>0</td><td>0</td><td>0</td><td>0</td><td>0</td><td>-1 .. -1</td><td>-1 .. -1</td><td>-1 .. -1</td><td>- .. -</td><td>0.0</td><td>0.0</td><td>0</td><td>-</td><td>0</td><td>0</td><td>-</td><td>2.56236433983 .. 8.97948455811</td><td>7.62209367752 .. 0.916669130325</td><td>21.4751701355 .. 20.1095714569</td><td>0.15256986022 .. 0.124608121812</td><td>-24.255774</td><td>0.310845971107 .. 0.0926158279181</td><td>0.0</td><td>0.0</td><td>-1.0</td><td>nan</td><td>nan</td><td>nan</td><td>nan</td><td>nan</td><td>nan</td><td>nan</td><td>nan</td><td>1.0</td><td>0.0464188158512</td><td>25.5702543295</td><td>-0.0333120562136</td><td>28.7967545924</td><td>nan</td><td>nan</td><td>nan</td><td>-1</td><td>nan</td><td>nan</td><td>nan</td><td>-1</td><td>nan</td><td>nan</td><td>nan</td><td>-1</td><td>nan</td><td>16.087</td><td>0.064</td><td>17.0</td><td>0.9682</td><td>14.749</td><td>0.072</td><td>15.0</td><td>0.8733</td><td>12.152</td><td>0.509</td><td>2.09999990463</td><td>1.022</td><td>8.437</td><td>0.064</td><td>0.600000023842</td><td>0.9972</td><td>0000</td><td>AACU</td><td>0.289933</td><td>1.0</td><td>3.70783526463e-31</td><td>2.67257192381e-32</td><td>3.15675128782e-31</td><td>3.57724148628e-32</td><td>4.19010039486e-31</td><td>5.73221297844e-32</td><td>6.67092761973e-31</td><td>6.88522012234e-32</td><td>0</td><td>-1.0</td><td>-1.0</td><td>-1.0</td></tr>\n",
       "<tr><td>002230.41+121728.6</td><td>5.62671384436</td><td>12.2912844662</td><td>221757875</td><td>6190</td><td>56210</td><td>470</td><td>BOSS</td><td>2.366</td><td>0.0</td><td>VI</td><td>2.36599993706</td><td>2.36293411255</td><td>0.000495427113492</td><td>0</td><td>2.3803072</td><td>2.3754475</td><td>2.3754475</td><td>3298535424000</td><td>0</td><td>1024</td><td>0</td><td>0</td><td>0</td><td>0</td><td>0</td><td>0</td><td>-1 .. -1</td><td>-1 .. -1</td><td>-1 .. -1</td><td>- .. -</td><td>0.0</td><td>0.0</td><td>0</td><td>-</td><td>0</td><td>0</td><td>-</td><td>6.84781885147 .. 16.6490211487</td><td>7.13861227036 .. 0.970189511776</td><td>20.4106655121 .. 19.4443893433</td><td>0.0592928603292 .. 0.0659474655986</td><td>-26.576548</td><td>0.350185871124 .. 0.104337058961</td><td>0.0</td><td>0.0</td><td>-1.0</td><td>nan</td><td>nan</td><td>nan</td><td>nan</td><td>nan</td><td>nan</td><td>nan</td><td>nan</td><td>1.0</td><td>0.270953834057</td><td>16.9580802855</td><td>0.303000301123</td><td>20.1757232725</td><td>nan</td><td>nan</td><td>nan</td><td>-1</td><td>nan</td><td>nan</td><td>nan</td><td>-1</td><td>nan</td><td>nan</td><td>nan</td><td>-1</td><td>nan</td><td>16.402</td><td>0.076</td><td>14.1999998093</td><td>0.954</td><td>15.327</td><td>0.098</td><td>11.1000003815</td><td>0.9866</td><td>11.525</td><td>0.269</td><td>4.0</td><td>0.7564</td><td>8.096</td><td>0.076</td><td>1.70000004768</td><td>0.8806</td><td>0000</td><td>AABU</td><td>0.364597</td><td>1.0</td><td>4.67693749283e-31</td><td>2.646078926e-32</td><td>6.72321831043e-31</td><td>3.58467061058e-32</td><td>4.74331483763e-31</td><td>5.40158344563e-32</td><td>7.27768818117e-31</td><td>7.10509222643e-32</td><td>0</td><td>-1.0</td><td>-1.0</td><td>-1.0</td></tr>\n",
       "<tr><td>...</td><td>...</td><td>...</td><td>...</td><td>...</td><td>...</td><td>...</td><td>...</td><td>...</td><td>...</td><td>...</td><td>...</td><td>...</td><td>...</td><td>...</td><td>...</td><td>...</td><td>...</td><td>...</td><td>...</td><td>...</td><td>...</td><td>...</td><td>...</td><td>...</td><td>...</td><td>...</td><td>...</td><td>...</td><td>...</td><td>...</td><td>...</td><td>...</td><td>...</td><td>...</td><td>...</td><td>...</td><td>...</td><td>...</td><td>...</td><td>...</td><td>...</td><td>...</td><td>...</td><td>...</td><td>...</td><td>...</td><td>...</td><td>...</td><td>...</td><td>...</td><td>...</td><td>...</td><td>...</td><td>...</td><td>...</td><td>...</td><td>...</td><td>...</td><td>...</td><td>...</td><td>...</td><td>...</td><td>...</td><td>...</td><td>...</td><td>...</td><td>...</td><td>...</td><td>...</td><td>...</td><td>...</td><td>...</td><td>...</td><td>...</td><td>...</td><td>...</td><td>...</td><td>...</td><td>...</td><td>...</td><td>...</td><td>...</td><td>...</td><td>...</td><td>...</td><td>...</td><td>...</td><td>...</td><td>...</td><td>...</td><td>...</td><td>...</td><td>...</td><td>...</td><td>...</td><td>...</td><td>...</td><td>...</td><td>...</td><td>...</td><td>...</td><td>...</td><td>...</td><td>...</td></tr>\n",
       "<tr><td>003001.19+122346.6</td><td>7.50496115588</td><td>12.3963032795</td><td>221635732</td><td>6190</td><td>56210</td><td>75</td><td>BOSS</td><td>2.896</td><td>0.0</td><td>VI</td><td>2.89599990845</td><td>2.89644098282</td><td>0.000653014867567</td><td>0</td><td>2.8942342</td><td>-1.0</td><td>-1.0</td><td>2199023255552</td><td>0</td><td>0</td><td>0</td><td>0</td><td>0</td><td>0</td><td>0</td><td>0</td><td>-1 .. -1</td><td>-1 .. -1</td><td>-1 .. -1</td><td>- .. -</td><td>0.0</td><td>0.0</td><td>0</td><td>-</td><td>0</td><td>0</td><td>-</td><td>0.821136772633 .. 2.24823093414</td><td>17.1231918335 .. 1.29019975662</td><td>22.6836929321 .. 21.5182857513</td><td>0.302434206009 .. 0.35512265563</td><td>-25.353077</td><td>0.339996099472 .. 0.101301036775</td><td>0.0</td><td>0.0</td><td>-1.0</td><td>nan</td><td>nan</td><td>nan</td><td>nan</td><td>nan</td><td>nan</td><td>nan</td><td>nan</td><td>1.0</td><td>0.135419651866</td><td>25.9707190762</td><td>-0.0893438905478</td><td>7.28999800991</td><td>nan</td><td>nan</td><td>nan</td><td>-1</td><td>nan</td><td>nan</td><td>nan</td><td>-1</td><td>nan</td><td>nan</td><td>nan</td><td>-1</td><td>nan</td><td>nan</td><td>nan</td><td>nan</td><td>nan</td><td>nan</td><td>nan</td><td>nan</td><td>nan</td><td>nan</td><td>nan</td><td>nan</td><td>nan</td><td>nan</td><td>nan</td><td>nan</td><td>nan</td><td></td><td></td><td>nan</td><td>1.0</td><td>1.6472746592e-31</td><td>3.01881613583e-32</td><td>9.55846824927e-32</td><td>4.52364256758e-32</td><td>1.94191231823e-31</td><td>5.90990129226e-32</td><td>6.80442486912e-32</td><td>6.32651118387e-32</td><td>0</td><td>-1.0</td><td>-1.0</td><td>-1.0</td></tr>\n",
       "<tr><td>003002.32+121514.0</td><td>7.50970816769</td><td>12.2538948789</td><td>219939106</td><td>6190</td><td>56210</td><td>70</td><td>BOSS</td><td>2.297</td><td>0.0</td><td>VI</td><td>2.29699993134</td><td>2.29729533195</td><td>0.00104421889409</td><td>0</td><td>2.3019338</td><td>2.297852</td><td>2.297852</td><td>2199023255552</td><td>0</td><td>0</td><td>0</td><td>0</td><td>0</td><td>0</td><td>0</td><td>0</td><td>-1 .. -1</td><td>-1 .. -1</td><td>-1 .. -1</td><td>- .. -</td><td>0.0</td><td>0.0</td><td>0</td><td>-</td><td>0</td><td>0</td><td>-</td><td>2.34380984306 .. 8.57163047791</td><td>6.7409157753 .. 0.00457794172689</td><td>21.5713405609 .. 20.1593379974</td><td>0.177159875631 .. 1.84478890896</td><td>-27.762363</td><td>0.306322008371 .. 0.0912679210305</td><td>0.0</td><td>0.0</td><td>-1.0</td><td>nan</td><td>nan</td><td>nan</td><td>nan</td><td>nan</td><td>nan</td><td>nan</td><td>nan</td><td>1.0</td><td>0.316750317812</td><td>21.4647446157</td><td>0.355119913816</td><td>30.9456873474</td><td>nan</td><td>nan</td><td>nan</td><td>-1</td><td>nan</td><td>nan</td><td>nan</td><td>-1</td><td>nan</td><td>nan</td><td>nan</td><td>-1</td><td>nan</td><td>nan</td><td>nan</td><td>nan</td><td>nan</td><td>nan</td><td>nan</td><td>nan</td><td>nan</td><td>nan</td><td>nan</td><td>nan</td><td>nan</td><td>nan</td><td>nan</td><td>nan</td><td>nan</td><td></td><td></td><td>nan</td><td>1.0</td><td>2.81973400115e-31</td><td>2.79495704878e-32</td><td>2.78431659146e-31</td><td>3.44852603036e-32</td><td>3.93232905986e-31</td><td>5.05260738474e-32</td><td>4.73343880429e-31</td><td>6.07167223707e-32</td><td>0</td><td>-1.0</td><td>-1.0</td><td>-1.0</td></tr>\n",
       "<tr><td>003004.94+131314.1</td><td>7.52059522011</td><td>13.2205852858</td><td>228547261</td><td>6190</td><td>56210</td><td>968</td><td>BOSS</td><td>2.25</td><td>0.0</td><td>VI</td><td>2.25</td><td>0.0</td><td>0.0</td><td>0</td><td>-1.0</td><td>-1.0</td><td>-1.0</td><td>3298535424000</td><td>0</td><td>1024</td><td>0</td><td>0</td><td>0</td><td>0</td><td>0</td><td>0</td><td>-1 .. -1</td><td>-1 .. -1</td><td>-1 .. -1</td><td>- .. -</td><td>0.0</td><td>0.0</td><td>0</td><td>-</td><td>0</td><td>0</td><td>-</td><td>2.52007198334 .. 8.25981903076</td><td>14.7135190964 .. 1.573584795</td><td>21.4931316376 .. 20.1989612579</td><td>0.111632026732 .. 0.10314463079</td><td>-25.626793</td><td>0.362142682076 .. 0.107899554074</td><td>0.0</td><td>0.0</td><td>-1.0</td><td>nan</td><td>nan</td><td>nan</td><td>nan</td><td>nan</td><td>nan</td><td>nan</td><td>nan</td><td>1.0</td><td>-0.0539942830801</td><td>28.6925785716</td><td>0.0514126271009</td><td>5.26438914245</td><td>nan</td><td>nan</td><td>nan</td><td>-1</td><td>nan</td><td>nan</td><td>nan</td><td>-1</td><td>nan</td><td>nan</td><td>nan</td><td>-1</td><td>nan</td><td>16.842</td><td>0.124</td><td>8.80000019073</td><td>0.9013</td><td>15.859</td><td>0.212</td><td>5.09999990463</td><td>0.8392</td><td>nan</td><td>nan</td><td>nan</td><td>nan</td><td>7.88</td><td>0.124</td><td>-1.0</td><td>1.265</td><td>0000</td><td>BBXU</td><td>0.757337</td><td>1.0</td><td>2.29172709434e-31</td><td>3.03018698656e-32</td><td>2.0042291529e-31</td><td>5.10164548257e-32</td><td>2.42816601835e-31</td><td>5.29764447189e-32</td><td>3.46780684135e-31</td><td>6.20730430176e-32</td><td>-1</td><td>-1.0</td><td>-1.0</td><td>-1.0</td></tr>\n",
       "<tr><td>003010.52+113955.9</td><td>7.5438513423</td><td>11.6655354749</td><td>216538385</td><td>6190</td><td>56210</td><td>44</td><td>BOSS</td><td>1.716</td><td>0.0</td><td>VI</td><td>1.7159999609</td><td>1.71803128719</td><td>1.92833161354</td><td>0</td><td>1.7185115</td><td>-1.0</td><td>-1.0</td><td>2199023255552</td><td>0</td><td>0</td><td>0</td><td>0</td><td>0</td><td>0</td><td>0</td><td>0</td><td>-1 .. -1</td><td>-1 .. -1</td><td>-1 .. -1</td><td>- .. -</td><td>0.0</td><td>0.0</td><td>0</td><td>-</td><td>0</td><td>0</td><td>-</td><td>0.866007089615 .. 1.85955810547</td><td>8.46407318115 .. 1.21191596985</td><td>22.6288738251 .. 21.685136795</td><td>0.410036832094 .. 0.414979845285</td><td>-23.326216</td><td>0.397779345512 .. 0.118517421186</td><td>0.0</td><td>0.0</td><td>-1.0</td><td>nan</td><td>nan</td><td>nan</td><td>nan</td><td>nan</td><td>nan</td><td>nan</td><td>nan</td><td>1.0</td><td>0.152642786503</td><td>19.7187478927</td><td>0.644537091255</td><td>13.851617582</td><td>nan</td><td>nan</td><td>nan</td><td>-1</td><td>nan</td><td>nan</td><td>nan</td><td>-1</td><td>nan</td><td>nan</td><td>nan</td><td>-1</td><td>nan</td><td>nan</td><td>nan</td><td>nan</td><td>nan</td><td>nan</td><td>nan</td><td>nan</td><td>nan</td><td>nan</td><td>nan</td><td>nan</td><td>nan</td><td>nan</td><td>nan</td><td>nan</td><td>nan</td><td></td><td></td><td>nan</td><td>1.0</td><td>7.10584042858e-32</td><td>3.38495823461e-32</td><td>1.08834989997e-31</td><td>4.06474955642e-32</td><td>1.18808659896e-31</td><td>6.2822679275e-32</td><td>1.84975356112e-31</td><td>6.70545059577e-32</td><td>0</td><td>-1.0</td><td>-1.0</td><td>-1.0</td></tr>\n",
       "<tr><td>003020.11+125943.9</td><td>7.58382063191</td><td>12.9955487922</td><td>226787086</td><td>6190</td><td>56210</td><td>974</td><td>BOSS</td><td>2.376</td><td>0.0</td><td>VI</td><td>2.37599992752</td><td>0.0</td><td>0.0</td><td>0</td><td>-1.0</td><td>-1.0</td><td>-1.0</td><td>2199023255552</td><td>0</td><td>0</td><td>0</td><td>0</td><td>0</td><td>0</td><td>0</td><td>0</td><td>-1 .. -1</td><td>-1 .. -1</td><td>-1 .. -1</td><td>- .. -</td><td>0.0</td><td>0.0</td><td>0</td><td>-</td><td>0</td><td>0</td><td>-</td><td>1.08586800098 .. 2.20180225372</td><td>9.94927501678 .. 1.26694726944</td><td>22.3929443359 .. 21.5371494293</td><td>0.306953787804 .. 0.363588482141</td><td>-25.059961</td><td>0.420631855726 .. 0.125326260924</td><td>0.0</td><td>0.0</td><td>-1.0</td><td>nan</td><td>nan</td><td>nan</td><td>nan</td><td>nan</td><td>nan</td><td>nan</td><td>nan</td><td>1.0</td><td>-0.0236356854439</td><td>3451.76878559</td><td>-0.0157097578049</td><td>2373.99480094</td><td>nan</td><td>nan</td><td>nan</td><td>-1</td><td>nan</td><td>nan</td><td>nan</td><td>-1</td><td>nan</td><td>nan</td><td>nan</td><td>-1</td><td>nan</td><td>17.259</td><td>0.174</td><td>6.19999980927</td><td>1.051</td><td>16.307</td><td>0.287</td><td>3.79999995232</td><td>0.9297</td><td>nan</td><td>nan</td><td>nan</td><td>nan</td><td>nan</td><td>0.174</td><td>nan</td><td>nan</td><td>0000</td><td>BBXX</td><td>1.359262</td><td>1.0</td><td>1.10988683727e-31</td><td>3.33654256103e-32</td><td>1.04481687728e-31</td><td>4.16498337197e-32</td><td>1.75554274353e-31</td><td>4.53727418782e-32</td><td>1.42511903978e-31</td><td>6.17103207257e-32</td><td>-1</td><td>-1.0</td><td>-1.0</td><td>-1.0</td></tr>\n",
       "<tr><td>003028.72+124101.1</td><td>7.61970056182</td><td>12.6836535681</td><td>223336808</td><td>6190</td><td>56210</td><td>22</td><td>BOSS</td><td>2.282</td><td>0.0</td><td>VI</td><td>2.28200006485</td><td>2.27840542793</td><td>0.00100216874853</td><td>0</td><td>2.2874627</td><td>2.2804453</td><td>2.2804453</td><td>2199023255552</td><td>0</td><td>0</td><td>0</td><td>0</td><td>0</td><td>0</td><td>0</td><td>0</td><td>-1 .. -1</td><td>-1 .. -1</td><td>-1 .. -1</td><td>- .. -</td><td>0.0</td><td>0.0</td><td>0</td><td>-</td><td>0</td><td>0</td><td>-</td><td>2.42300415039 .. 4.85791492462</td><td>7.06682395935 .. 0.970918238163</td><td>21.5355072021 .. 20.7595157623</td><td>0.167447030544 .. 0.216974914074</td><td>-25.350109</td><td>0.365584969521 .. 0.108925178647</td><td>0.0</td><td>0.0</td><td>-1.0</td><td>nan</td><td>nan</td><td>nan</td><td>nan</td><td>nan</td><td>nan</td><td>nan</td><td>nan</td><td>1.0</td><td>-0.0592855215073</td><td>63.5704455891</td><td>-0.140662118793</td><td>40.9289173551</td><td>nan</td><td>nan</td><td>nan</td><td>-1</td><td>nan</td><td>nan</td><td>nan</td><td>-1</td><td>nan</td><td>nan</td><td>nan</td><td>-1</td><td>nan</td><td>nan</td><td>nan</td><td>nan</td><td>nan</td><td>nan</td><td>nan</td><td>nan</td><td>nan</td><td>nan</td><td>nan</td><td>nan</td><td>nan</td><td>nan</td><td>nan</td><td>nan</td><td>nan</td><td></td><td></td><td>nan</td><td>1.0</td><td>2.21407158654e-31</td><td>2.52578118513e-32</td><td>2.48607862833e-31</td><td>3.37879335448e-32</td><td>2.63872620884e-31</td><td>5.0673469084e-32</td><td>3.07552486328e-31</td><td>5.77315779767e-32</td><td>0</td><td>-1.0</td><td>-1.0</td><td>-1.0</td></tr>\n",
       "<tr><td>003047.02+115723.8</td><td>7.69592388372</td><td>11.9566275417</td><td>218240461</td><td>6190</td><td>56210</td><td>46</td><td>BOSS</td><td>0.939</td><td>0.0</td><td>VI</td><td>0.93900001049</td><td>0.939471364021</td><td>0.000227922428166</td><td>0</td><td>0.0</td><td>-1.0</td><td>-1.0</td><td>2199023779840</td><td>0</td><td>0</td><td>0</td><td>0</td><td>0</td><td>0</td><td>0</td><td>0</td><td>-1 .. -1</td><td>-1 .. -1</td><td>-1 .. -1</td><td>- .. -</td><td>0.0</td><td>0.0</td><td>0</td><td>-</td><td>0</td><td>0</td><td>-</td><td>1.9835652113 .. 14.3583965302</td><td>11.4629411697 .. 1.11827981472</td><td>21.7510147095 .. 19.6043624878</td><td>0.160083085299 .. 0.0711292475462</td><td>-24.113153</td><td>0.289097726345 .. 0.0861359909177</td><td>0.0</td><td>0.0</td><td>-1.0</td><td>nan</td><td>nan</td><td>nan</td><td>nan</td><td>nan</td><td>nan</td><td>nan</td><td>nan</td><td>1.0</td><td>0.104835674167</td><td>5.27898620353</td><td>0.0419284403324</td><td>48.5029722667</td><td>nan</td><td>nan</td><td>nan</td><td>-1</td><td>nan</td><td>nan</td><td>nan</td><td>-1</td><td>nan</td><td>nan</td><td>nan</td><td>-1</td><td>nan</td><td>nan</td><td>nan</td><td>nan</td><td>nan</td><td>nan</td><td>nan</td><td>nan</td><td>nan</td><td>nan</td><td>nan</td><td>nan</td><td>nan</td><td>nan</td><td>nan</td><td>nan</td><td>nan</td><td></td><td></td><td>nan</td><td>1.0</td><td>5.13937650024e-31</td><td>2.97190009918e-32</td><td>6.08518395689e-31</td><td>3.7447347376e-32</td><td>5.33155478027e-31</td><td>4.97416664671e-32</td><td>7.97078833247e-31</td><td>6.27376146263e-32</td><td>0</td><td>-1.0</td><td>-1.0</td><td>-1.0</td></tr>\n",
       "<tr><td>003106.68+125842.5</td><td>7.7778443248</td><td>12.9784726338</td><td>226776419</td><td>6190</td><td>56210</td><td>988</td><td>BOSS</td><td>2.439</td><td>0.0</td><td>VI</td><td>2.43899989128</td><td>0.0</td><td>0.0</td><td>0</td><td>-1.0</td><td>-1.0</td><td>-1.0</td><td>3298534899712</td><td>0</td><td>0</td><td>0</td><td>0</td><td>0</td><td>0</td><td>0</td><td>0</td><td>-1 .. -1</td><td>-1 .. -1</td><td>-1 .. -1</td><td>- .. -</td><td>0.0</td><td>0.0</td><td>0</td><td>-</td><td>0</td><td>0</td><td>-</td><td>0.424503743649 .. 4.26429224014</td><td>12.7300519943 .. 1.61936175823</td><td>23.3278312683 .. 20.894071579</td><td>0.598400712013 .. 0.189020082355</td><td>-25.021736</td><td>0.337563097477 .. 0.100576125085</td><td>0.0</td><td>0.0</td><td>-1.0</td><td>nan</td><td>nan</td><td>nan</td><td>nan</td><td>nan</td><td>nan</td><td>nan</td><td>nan</td><td>1.0</td><td>-0.0236356854439</td><td>3451.76878559</td><td>-0.0157097578049</td><td>2373.99480094</td><td>nan</td><td>nan</td><td>nan</td><td>-1</td><td>nan</td><td>nan</td><td>nan</td><td>-1</td><td>nan</td><td>nan</td><td>nan</td><td>-1</td><td>nan</td><td>17.293</td><td>0.201</td><td>5.40000009537</td><td>0.9822</td><td>16.354</td><td>0.37</td><td>2.90000009537</td><td>1.143</td><td>10.777</td><td>nan</td><td>1.20000004768</td><td>1.068</td><td>7.735</td><td>0.201</td><td>1.10000002384</td><td>0.8683</td><td>0000</td><td>BCUU</td><td>0.405202</td><td>1.0</td><td>1.1570102899e-31</td><td>3.32083678101e-32</td><td>1.95571109377e-31</td><td>4.21119411202e-32</td><td>9.97448098975e-32</td><td>4.68844276133e-32</td><td>3.33113117279e-31</td><td>6.71002444429e-32</td><td>-1</td><td>-1.0</td><td>-1.0</td><td>-1.0</td></tr>\n",
       "<tr><td>003112.71+125534.9</td><td>7.8029893608</td><td>12.9263767675</td><td>226776350</td><td>6190</td><td>56210</td><td>992</td><td>BOSS</td><td>2.17</td><td>0.0</td><td>VI</td><td>2.17000007629</td><td>0.0</td><td>0.0</td><td>0</td><td>-1.0</td><td>-1.0</td><td>-1.0</td><td>2199023255552</td><td>0</td><td>0</td><td>0</td><td>0</td><td>0</td><td>0</td><td>0</td><td>0</td><td>-1 .. -1</td><td>-1 .. -1</td><td>-1 .. -1</td><td>- .. -</td><td>0.0</td><td>0.0</td><td>0</td><td>-</td><td>0</td><td>0</td><td>-</td><td>2.11643147469 .. 5.15426969528</td><td>9.85024929047 .. 1.6795116663</td><td>21.681268692 .. 20.6978645325</td><td>0.162042409182 .. 0.156229048967</td><td>-25.129456</td><td>0.327213853598 .. 0.0974925979972</td><td>0.0</td><td>0.0</td><td>-1.0</td><td>nan</td><td>nan</td><td>nan</td><td>nan</td><td>nan</td><td>nan</td><td>nan</td><td>nan</td><td>1.0</td><td>-0.0236356854439</td><td>3451.76878559</td><td>-0.0157097578049</td><td>2373.99480094</td><td>nan</td><td>nan</td><td>nan</td><td>-1</td><td>nan</td><td>nan</td><td>nan</td><td>-1</td><td>nan</td><td>nan</td><td>nan</td><td>-1</td><td>nan</td><td>17.079</td><td>0.178</td><td>6.09999990463</td><td>0.9028</td><td>16.521</td><td>0.419</td><td>2.59999990463</td><td>0.7942</td><td>11.476</td><td>nan</td><td>0.5</td><td>1.202</td><td>7.726</td><td>0.178</td><td>1.20000004768</td><td>0.7624</td><td>0000</td><td>BCUU</td><td>0.65942</td><td>1.0</td><td>1.75514613174e-31</td><td>2.81601779331e-32</td><td>1.42811725567e-31</td><td>4.49885726919e-32</td><td>1.5603676582e-31</td><td>4.75921721908e-32</td><td>4.09358055372e-31</td><td>6.12269927135e-32</td><td>-1</td><td>-1.0</td><td>-1.0</td><td>-1.0</td></tr>\n",
       "<tr><td>003137.19+123046.6</td><td>7.90496269846</td><td>12.5129691852</td><td>223314363</td><td>6190</td><td>56210</td><td>19</td><td>BOSS</td><td>2.146</td><td>0.0</td><td>VI</td><td>2.14599990845</td><td>2.14455866814</td><td>0.00194531946909</td><td>0</td><td>2.1562114</td><td>2.1479657</td><td>2.1479657</td><td>2199023255552</td><td>0</td><td>0</td><td>0</td><td>0</td><td>0</td><td>0</td><td>0</td><td>0</td><td>-1 .. -1</td><td>-1 .. -1</td><td>-1 .. -1</td><td>- .. -</td><td>0.0</td><td>0.0</td><td>0</td><td>-</td><td>0</td><td>0</td><td>-</td><td>3.4953622818 .. 7.72612380981</td><td>7.26471090317 .. 0.98880136013</td><td>21.1395320892 .. 20.2702693939</td><td>0.114877231419 .. 0.138797849417</td><td>-25.666384</td><td>0.365118026733 .. 0.108786061406</td><td>0.0</td><td>0.0</td><td>-1.0</td><td>nan</td><td>nan</td><td>nan</td><td>nan</td><td>nan</td><td>nan</td><td>nan</td><td>nan</td><td>1.0</td><td>0.13925871253</td><td>27.191636617</td><td>-0.14221970737</td><td>14.3080323553</td><td>nan</td><td>nan</td><td>nan</td><td>-1</td><td>nan</td><td>nan</td><td>nan</td><td>-1</td><td>nan</td><td>nan</td><td>nan</td><td>-1</td><td>nan</td><td>17.062</td><td>0.162</td><td>6.69999980927</td><td>0.8846</td><td>16.225</td><td>0.327</td><td>3.29999995232</td><td>0.8871</td><td>10.908</td><td>nan</td><td>0.699999988079</td><td>0.3616</td><td>7.905</td><td>0.162</td><td>-2.09999990463</td><td>0.6327</td><td>0000</td><td>BBUU</td><td>0.437489</td><td>1.0</td><td>2.2790630235e-31</td><td>2.58604084591e-32</td><td>2.26652825704e-31</td><td>3.28829468927e-32</td><td>3.01450871311e-31</td><td>5.08488175763e-32</td><td>2.88700048989e-31</td><td>6.31633316604e-32</td><td>0</td><td>-1.0</td><td>-1.0</td><td>-1.0</td></tr>\n",
       "</table>"
      ],
      "text/plain": [
       "<Table length=92>\n",
       "    SDSS_NAME            RA           DEC      ... FIRST_SNR SDSS2FIRST_SEP\n",
       "        -               deg           deg      ...     -         arcsec    \n",
       "      str18           float64       float64    ...  float64     float64    \n",
       "------------------ ------------- ------------- ... --------- --------------\n",
       "002050.65+130552.7 5.21107929573 13.0979997205 ...      -1.0           -1.0\n",
       "002117.04+120547.7 5.32103170262 12.0966110702 ...      -1.0           -1.0\n",
       "002124.55+132855.3 5.35230399996 13.4820326754 ...      -1.0           -1.0\n",
       "002137.22+131953.9 5.40510764914 13.3316559013 ...      -1.0           -1.0\n",
       "002149.64+113954.7 5.45687213759 11.6652187303 ...      -1.0           -1.0\n",
       "002150.73+122925.9 5.46138830839 12.4905400583 ...      -1.0           -1.0\n",
       "002157.78+130300.8 5.49075704138 13.0502292002 ...      -1.0           -1.0\n",
       "002220.62+123810.9 5.58593895478  12.636364899 ...      -1.0           -1.0\n",
       "002230.41+121728.6 5.62671384436 12.2912844662 ...      -1.0           -1.0\n",
       "               ...           ...           ... ...       ...            ...\n",
       "003001.19+122346.6 7.50496115588 12.3963032795 ...      -1.0           -1.0\n",
       "003002.32+121514.0 7.50970816769 12.2538948789 ...      -1.0           -1.0\n",
       "003004.94+131314.1 7.52059522011 13.2205852858 ...      -1.0           -1.0\n",
       "003010.52+113955.9  7.5438513423 11.6655354749 ...      -1.0           -1.0\n",
       "003020.11+125943.9 7.58382063191 12.9955487922 ...      -1.0           -1.0\n",
       "003028.72+124101.1 7.61970056182 12.6836535681 ...      -1.0           -1.0\n",
       "003047.02+115723.8 7.69592388372 11.9566275417 ...      -1.0           -1.0\n",
       "003106.68+125842.5  7.7778443248 12.9784726338 ...      -1.0           -1.0\n",
       "003112.71+125534.9  7.8029893608 12.9263767675 ...      -1.0           -1.0\n",
       "003137.19+123046.6 7.90496269846 12.5129691852 ...      -1.0           -1.0"
      ]
     },
     "execution_count": 26,
     "metadata": {},
     "output_type": "execute_result"
    }
   ],
   "source": [
    "dr14[bad]"
   ]
  },
  {
   "cell_type": "markdown",
   "metadata": {},
   "source": [
    "### Check the file"
   ]
  },
  {
   "cell_type": "code",
   "execution_count": 21,
   "metadata": {
    "collapsed": true
   },
   "outputs": [],
   "source": [
    "spec_file = '/data/Raw_IGMSpec//BOSS_DR14/dr14_quasar_0-50000/spec-6190-56210-0504.fits'"
   ]
  },
  {
   "cell_type": "code",
   "execution_count": 23,
   "metadata": {},
   "outputs": [
    {
     "name": "stdout",
     "output_type": "stream",
     "text": [
      "Filename: /data/Raw_IGMSpec//BOSS_DR14/dr14_quasar_0-50000/spec-6190-56210-0504.fits\n",
      "No.    Name      Ver    Type      Cards   Dimensions   Format\n",
      "  0  PRIMARY       1 PrimaryHDU     113   ()      \n",
      "  1  COADD         1 BinTableHDU     26   4625R x 8C   [E, E, E, J, J, E, E, E]   \n",
      "  2  SPALL         1 BinTableHDU    488   1R x 236C   [27A, 14A, 4A, E, E, J, J, E, J, E, E, E, K, K, K, K, K, K, K, K, K, B, B, J, I, 5E, 5E, J, J, J, J, 7A, 7A, 16A, D, D, 6A, 21A, E, E, E, J, E, 24A, 10J, J, 10E, E, E, E, E, E, E, J, E, E, E, J, 5E, E, E, 10E, 10E, 10E, 5E, 5E, 5E, 5E, 5E, J, J, E, E, E, E, E, E, 16A, 9A, 12A, E, E, E, E, E, E, E, E, J, E, E, J, J, 6A, 21A, E, 35E, K, 19A, 19A, 19A, B, B, B, I, 3A, B, I, I, I, I, J, E, J, J, E, E, E, E, E, E, E, E, 5E, 5E, 5E, 5E, 5E, 5E, 5E, 5E, 5E, 5E, 5E, 5E, 5E, 5E, 5E, 5E, 5E, 5E, 5E, 5E, 5E, 5E, 5E, 5E, 5E, 5E, 5E, 5E, 5E, 5E, 5E, 5E, 5E, 5E, 5E, 5J, 5J, 5J, 5E, 5J, 75E, 75E, 5E, 5E, 5E, 5J, 5E, D, D, D, D, D, D, D, D, D, 5E, 5E, 5E, 5E, 5E, 5E, 5E, 5E, 5E, 5E, 5E, 5E, 5E, 5E, 5E, 5E, 5E, 5E, 5E, 5E, 5E, 5E, 5E, 5E, 5E, 5E, 5E, 5E, 5E, 5E, 5E, 5E, 5E, 5E, 5E, 5E, 5E, 5E, 5E, 5E, 5E, 5E, 40E, 40E, 5J, 5J, 5E, 5E, 5D, J, J, J, J, J, J, J, E]   \n",
      "  3  SPZLINE       1 BinTableHDU     48   32R x 19C   [J, J, J, 13A, D, E, E, E, E, E, E, E, E, E, E, J, J, E, E]   \n"
     ]
    }
   ],
   "source": [
    "hdul = fits.open(spec_file)\n",
    "hdul.info()"
   ]
  },
  {
   "cell_type": "code",
   "execution_count": 24,
   "metadata": {},
   "outputs": [
    {
     "data": {
      "text/html": [
       "&lt;Table length=4625&gt;\n",
       "<table id=\"table139781201218472\" class=\"table-striped table-bordered table-condensed\">\n",
       "<thead><tr><th>flux</th><th>loglam</th><th>ivar</th><th>and_mask</th><th>or_mask</th><th>wdisp</th><th>sky</th><th>model</th></tr></thead>\n",
       "<thead><tr><th>float32</th><th>float32</th><th>float32</th><th>int32</th><th>int32</th><th>float32</th><th>float32</th><th>float32</th></tr></thead>\n",
       "<tr><td>0.0</td><td>3.5522</td><td>0.0</td><td>16777216</td><td>16777216</td><td>0.0</td><td>0.0</td><td>0.0</td></tr>\n",
       "<tr><td>0.0</td><td>3.5523</td><td>0.0</td><td>16777216</td><td>16777216</td><td>0.0</td><td>0.0</td><td>0.0</td></tr>\n",
       "<tr><td>0.0</td><td>3.5524</td><td>0.0</td><td>16777216</td><td>16777216</td><td>0.0</td><td>0.0</td><td>0.0</td></tr>\n",
       "<tr><td>0.0</td><td>3.5525</td><td>0.0</td><td>16777216</td><td>16777216</td><td>0.0</td><td>0.0</td><td>0.0</td></tr>\n",
       "<tr><td>0.0</td><td>3.5526</td><td>0.0</td><td>16777216</td><td>16777216</td><td>0.0</td><td>0.0</td><td>0.0</td></tr>\n",
       "<tr><td>0.0</td><td>3.5527</td><td>0.0</td><td>16777216</td><td>16777216</td><td>0.0</td><td>0.0</td><td>0.0</td></tr>\n",
       "<tr><td>0.0</td><td>3.5528</td><td>0.0</td><td>16777216</td><td>16777216</td><td>0.0</td><td>0.0</td><td>0.0</td></tr>\n",
       "<tr><td>0.0</td><td>3.5529</td><td>0.0</td><td>16777216</td><td>16777216</td><td>0.0</td><td>0.0</td><td>0.0</td></tr>\n",
       "<tr><td>0.0</td><td>3.553</td><td>0.0</td><td>16777216</td><td>16777216</td><td>0.0</td><td>0.0</td><td>0.0</td></tr>\n",
       "<tr><td>0.0</td><td>3.5531</td><td>0.0</td><td>16777216</td><td>16777216</td><td>0.0</td><td>0.0</td><td>0.0</td></tr>\n",
       "<tr><td>...</td><td>...</td><td>...</td><td>...</td><td>...</td><td>...</td><td>...</td><td>...</td></tr>\n",
       "<tr><td>0.0</td><td>4.0137</td><td>0.0</td><td>16777216</td><td>16777216</td><td>0.0</td><td>0.0</td><td>0.0</td></tr>\n",
       "<tr><td>0.0</td><td>4.0138</td><td>0.0</td><td>16777216</td><td>16777216</td><td>0.0</td><td>0.0</td><td>0.0</td></tr>\n",
       "<tr><td>0.0</td><td>4.0139</td><td>0.0</td><td>16777216</td><td>16777216</td><td>0.0</td><td>0.0</td><td>0.0</td></tr>\n",
       "<tr><td>0.0</td><td>4.014</td><td>0.0</td><td>16777216</td><td>16777216</td><td>0.0</td><td>0.0</td><td>0.0</td></tr>\n",
       "<tr><td>0.0</td><td>4.0141</td><td>0.0</td><td>16777216</td><td>16777216</td><td>0.0</td><td>0.0</td><td>0.0</td></tr>\n",
       "<tr><td>0.0</td><td>4.0142</td><td>0.0</td><td>16777216</td><td>16777216</td><td>0.0</td><td>0.0</td><td>0.0</td></tr>\n",
       "<tr><td>0.0</td><td>4.0143</td><td>0.0</td><td>16777216</td><td>16777216</td><td>0.0</td><td>0.0</td><td>0.0</td></tr>\n",
       "<tr><td>0.0</td><td>4.0144</td><td>0.0</td><td>16777216</td><td>16777216</td><td>0.0</td><td>0.0</td><td>0.0</td></tr>\n",
       "<tr><td>0.0</td><td>4.0145</td><td>0.0</td><td>16777216</td><td>16777216</td><td>0.0</td><td>0.0</td><td>0.0</td></tr>\n",
       "<tr><td>0.0</td><td>4.0146</td><td>0.0</td><td>16777216</td><td>16777216</td><td>0.0</td><td>0.0</td><td>0.0</td></tr>\n",
       "</table>"
      ],
      "text/plain": [
       "<Table length=4625>\n",
       "  flux   loglam   ivar  and_mask or_mask   wdisp    sky    model \n",
       "float32 float32 float32  int32    int32   float32 float32 float32\n",
       "------- ------- ------- -------- -------- ------- ------- -------\n",
       "    0.0  3.5522     0.0 16777216 16777216     0.0     0.0     0.0\n",
       "    0.0  3.5523     0.0 16777216 16777216     0.0     0.0     0.0\n",
       "    0.0  3.5524     0.0 16777216 16777216     0.0     0.0     0.0\n",
       "    0.0  3.5525     0.0 16777216 16777216     0.0     0.0     0.0\n",
       "    0.0  3.5526     0.0 16777216 16777216     0.0     0.0     0.0\n",
       "    0.0  3.5527     0.0 16777216 16777216     0.0     0.0     0.0\n",
       "    0.0  3.5528     0.0 16777216 16777216     0.0     0.0     0.0\n",
       "    0.0  3.5529     0.0 16777216 16777216     0.0     0.0     0.0\n",
       "    0.0   3.553     0.0 16777216 16777216     0.0     0.0     0.0\n",
       "    0.0  3.5531     0.0 16777216 16777216     0.0     0.0     0.0\n",
       "    ...     ...     ...      ...      ...     ...     ...     ...\n",
       "    0.0  4.0137     0.0 16777216 16777216     0.0     0.0     0.0\n",
       "    0.0  4.0138     0.0 16777216 16777216     0.0     0.0     0.0\n",
       "    0.0  4.0139     0.0 16777216 16777216     0.0     0.0     0.0\n",
       "    0.0   4.014     0.0 16777216 16777216     0.0     0.0     0.0\n",
       "    0.0  4.0141     0.0 16777216 16777216     0.0     0.0     0.0\n",
       "    0.0  4.0142     0.0 16777216 16777216     0.0     0.0     0.0\n",
       "    0.0  4.0143     0.0 16777216 16777216     0.0     0.0     0.0\n",
       "    0.0  4.0144     0.0 16777216 16777216     0.0     0.0     0.0\n",
       "    0.0  4.0145     0.0 16777216 16777216     0.0     0.0     0.0\n",
       "    0.0  4.0146     0.0 16777216 16777216     0.0     0.0     0.0"
      ]
     },
     "execution_count": 24,
     "metadata": {},
     "output_type": "execute_result"
    }
   ],
   "source": [
    "tbl = Table(hdul[1].data)\n",
    "tbl"
   ]
  },
  {
   "cell_type": "markdown",
   "metadata": {},
   "source": [
    "### We are replacing all of plate 6190 with DR12 reduction"
   ]
  },
  {
   "cell_type": "markdown",
   "metadata": {},
   "source": [
    "### Still missing this one:  6190, 447"
   ]
  },
  {
   "cell_type": "code",
   "execution_count": 27,
   "metadata": {
    "collapsed": true
   },
   "outputs": [],
   "source": [
    "bad = (dr14['PLATE'] == 6190) & (dr14['FIBERID'] == 447)"
   ]
  },
  {
   "cell_type": "code",
   "execution_count": 28,
   "metadata": {},
   "outputs": [
    {
     "data": {
      "text/html": [
       "&lt;Table length=1&gt;\n",
       "<table id=\"table139781201437864\" class=\"table-striped table-bordered table-condensed\">\n",
       "<thead><tr><th>SDSS_NAME</th><th>RA</th><th>DEC</th><th>THING_ID</th><th>PLATE</th><th>MJD</th><th>FIBERID</th><th>SPECTRO</th><th>Z</th><th>Z_ERR</th><th>SOURCE_Z</th><th>Z_VI</th><th>Z_PIPE</th><th>Z_PIPE_ERR</th><th>ZWARNING</th><th>Z_PCA</th><th>Z_PCA_ER</th><th>Z_MGII</th><th>BOSS_TARGET1</th><th>ANCILLARY_TARGET1</th><th>ANCILLARY_TARGET2</th><th>EBOSS_TARGET0</th><th>EBOSS_TARGET1</th><th>EBOSS_TARGET2</th><th>N_SPEC_SDSS</th><th>N_SPEC_BOSS</th><th>N_SPEC</th><th>PLATE_DUPLICATE [51]</th><th>MJD_DUPLICATE [51]</th><th>FIBERID_DUPLICATE [51]</th><th>SPECTRO_DUPLICATE [51]</th><th>BI_CIV</th><th>ERR_BI_CIV</th><th>RUN_NUMBER</th><th>RERUN_NUMBER</th><th>COL_NUMBER</th><th>FIELD_NUMBER</th><th>OBJ_ID</th><th>PSFFLUX [5]</th><th>IVAR_PSFFLUX [5]</th><th>PSFMAG [5]</th><th>ERR_PSFMAG [5]</th><th>MI</th><th>GAL_EXT [5]</th><th>RASS_COUNTS</th><th>RASS_COUNTS_SNR</th><th>SDSS2ROSAT_SEP</th><th>FLUX_0.2_2.0keV</th><th>FLUX_0.2_2.0keV_ERR</th><th>FLUX_2.0_12.0keV</th><th>FLUX_2.0_12.0keV_ERR</th><th>FLUX_0.2_12.0keV</th><th>FLUX_0.2_12.0keV_ERR</th><th>LUM_0.2_12.0keV</th><th>SDSS2XMM_SEP</th><th>GALEX_MATCHED</th><th>FUV</th><th>FUV_IVAR</th><th>NUV</th><th>NUV_IVAR</th><th>JMAG</th><th>ERR_JMAG</th><th>JSNR</th><th>JRDFLAG</th><th>HMAG</th><th>ERR_HMAG</th><th>HSNR</th><th>HRDFLAG</th><th>KMAG</th><th>ERR_KMAG</th><th>KSNR</th><th>KRDFLAG</th><th>SDSS2MASS_SEP</th><th>W1MAG</th><th>ERR_W1MAG</th><th>W1SNR</th><th>W1CHI2</th><th>W2MAG</th><th>ERR_W2MAG</th><th>W2SNR</th><th>W2CHI2</th><th>W3MAG</th><th>ERR_W3MAG</th><th>W3SNR</th><th>W3CHI2</th><th>W4MAG</th><th>ERR_W4MAG</th><th>W4SNR</th><th>W4CHI2</th><th>CC_FLAGS</th><th>PH_FLAGS</th><th>SDSS2WISE_SEP</th><th>UKIDSS_MATCHED</th><th>YFLUX</th><th>YFLUX_ERR</th><th>JFLUX</th><th>JFLUX_ERR</th><th>HFLUX</th><th>HFLUX_ERR</th><th>KFLUX</th><th>KFLUX_ERR</th><th>FIRST_MATCHED</th><th>FIRST_FLUX</th><th>FIRST_SNR</th><th>SDSS2FIRST_SEP</th></tr></thead>\n",
       "<thead><tr><th>-</th><th>deg</th><th>deg</th><th>-</th><th>-</th><th>-</th><th>-</th><th>-</th><th>-</th><th>-</th><th>-</th><th>-</th><th>-</th><th>-</th><th>-</th><th>-</th><th>-</th><th>-</th><th>-</th><th>-</th><th>-</th><th>-</th><th>-</th><th>-</th><th>-</th><th>-</th><th>-</th><th>-</th><th>-</th><th>-</th><th>-</th><th>km / s</th><th>km / s</th><th>-</th><th>-</th><th>-</th><th>-</th><th>-</th><th>nanomaggies</th><th>-</th><th>mag</th><th>mag</th><th>-</th><th>mag</th><th>counts/s</th><th>-</th><th>arcsec</th><th>erg / (cm2 s)</th><th>erg / (cm2 s)</th><th>erg / (cm2 s)</th><th>erg / (cm2 s)</th><th>erg / (cm2 s)</th><th>erg / (cm2 s)</th><th>erg / s</th><th>arcsec</th><th>-</th><th>-</th><th>-</th><th>-</th><th>-</th><th>Vega</th><th>Vega</th><th>-</th><th>-</th><th>Vega</th><th>Vega</th><th>-</th><th>-</th><th>Vega</th><th>Vega</th><th>-</th><th>-</th><th>arcsec</th><th>-</th><th>-</th><th>-</th><th>-</th><th>-</th><th>-</th><th>-</th><th>-</th><th>-</th><th>-</th><th>-</th><th>-</th><th>-</th><th>-</th><th>-</th><th>-</th><th>-</th><th>-</th><th>arcsec</th><th>-</th><th>W / (Hz m2)</th><th>W / (Hz m2)</th><th>W / (Hz m2)</th><th>W / (Hz m2)</th><th>W / (Hz m2)</th><th>W / (Hz m2)</th><th>W / (Hz m2)</th><th>W / (Hz m2)</th><th>-</th><th>mJy</th><th>-</th><th>arcsec</th></tr></thead>\n",
       "<thead><tr><th>str18</th><th>float64</th><th>float64</th><th>int32</th><th>int16</th><th>int32</th><th>int16</th><th>str4</th><th>float64</th><th>float64</th><th>str4</th><th>float64</th><th>float64</th><th>float64</th><th>int16</th><th>float64</th><th>float64</th><th>float64</th><th>int64</th><th>int64</th><th>int64</th><th>int64</th><th>int64</th><th>int64</th><th>int16</th><th>int16</th><th>int16</th><th>int32</th><th>int32</th><th>int32</th><th>str1</th><th>float64</th><th>float64</th><th>int16</th><th>str1</th><th>int16</th><th>int16</th><th>str1</th><th>float64</th><th>float64</th><th>float64</th><th>float64</th><th>float64</th><th>float64</th><th>float64</th><th>float64</th><th>float64</th><th>float64</th><th>float64</th><th>float64</th><th>float64</th><th>float64</th><th>float64</th><th>float64</th><th>float64</th><th>float32</th><th>float64</th><th>float64</th><th>float64</th><th>float64</th><th>float64</th><th>float64</th><th>float32</th><th>int16</th><th>float64</th><th>float64</th><th>float32</th><th>int16</th><th>float64</th><th>float64</th><th>float32</th><th>int16</th><th>float64</th><th>float64</th><th>float64</th><th>float64</th><th>float64</th><th>float64</th><th>float64</th><th>float64</th><th>float64</th><th>float64</th><th>float64</th><th>float64</th><th>float64</th><th>float64</th><th>float64</th><th>float64</th><th>float64</th><th>str4</th><th>str4</th><th>float64</th><th>float32</th><th>float64</th><th>float64</th><th>float64</th><th>float64</th><th>float64</th><th>float64</th><th>float64</th><th>float64</th><th>int16</th><th>float64</th><th>float64</th><th>float64</th></tr></thead>\n",
       "<tr><td>002149.64+113954.7</td><td>5.45687213759</td><td>11.6652187303</td><td>216664261</td><td>6190</td><td>56210</td><td>447</td><td>BOSS</td><td>1.551</td><td>0.0</td><td>VI</td><td>1.55099999905</td><td>1.55011773109</td><td>31.7508792877</td><td>0</td><td>1.5645913</td><td>1.5405748</td><td>1.5405748</td><td>1099511627776</td><td>0</td><td>0</td><td>0</td><td>0</td><td>0</td><td>0</td><td>0</td><td>0</td><td>-1 .. -1</td><td>-1 .. -1</td><td>-1 .. -1</td><td>- .. -</td><td>0.0</td><td>0.0</td><td>0</td><td>-</td><td>0</td><td>0</td><td>-</td><td>-0.355299264193 .. 0.724571287632</td><td>10.1720476151 .. 0.808835566044</td><td>25.784866333 .. 22.3145961761</td><td>0.752536296844 .. 0.732617020607</td><td>-23.989319</td><td>0.363268852234 .. 0.108235098422</td><td>0.0</td><td>0.0</td><td>-1.0</td><td>nan</td><td>nan</td><td>nan</td><td>nan</td><td>nan</td><td>nan</td><td>nan</td><td>nan</td><td>1.0</td><td>0.0</td><td>0.0</td><td>0.0</td><td>0.0</td><td>nan</td><td>nan</td><td>nan</td><td>-1</td><td>nan</td><td>nan</td><td>nan</td><td>-1</td><td>nan</td><td>nan</td><td>nan</td><td>-1</td><td>nan</td><td>nan</td><td>nan</td><td>nan</td><td>nan</td><td>nan</td><td>nan</td><td>nan</td><td>nan</td><td>nan</td><td>nan</td><td>nan</td><td>nan</td><td>nan</td><td>nan</td><td>nan</td><td>nan</td><td></td><td></td><td>nan</td><td>1.0</td><td>9.90723801091e-32</td><td>3.21820084276e-32</td><td>1.97333857195e-31</td><td>3.94107168154e-32</td><td>3.43403959063e-31</td><td>6.06923484954e-32</td><td>4.37324382531e-31</td><td>6.65313639518e-32</td><td>0</td><td>-1.0</td><td>-1.0</td><td>-1.0</td></tr>\n",
       "</table>"
      ],
      "text/plain": [
       "<Table length=1>\n",
       "    SDSS_NAME            RA           DEC      ... FIRST_SNR SDSS2FIRST_SEP\n",
       "        -               deg           deg      ...     -         arcsec    \n",
       "      str18           float64       float64    ...  float64     float64    \n",
       "------------------ ------------- ------------- ... --------- --------------\n",
       "002149.64+113954.7 5.45687213759 11.6652187303 ...      -1.0           -1.0"
      ]
     },
     "execution_count": 28,
     "metadata": {},
     "output_type": "execute_result"
    }
   ],
   "source": [
    "dr14[bad]"
   ]
  },
  {
   "cell_type": "markdown",
   "metadata": {},
   "source": [
    "----"
   ]
  },
  {
   "cell_type": "code",
   "execution_count": 30,
   "metadata": {},
   "outputs": [
    {
     "data": {
      "text/html": [
       "&lt;Row index=50000&gt;\n",
       "<table id=\"table139781282396480\">\n",
       "<thead><tr><th>SDSS_NAME</th><th>RA</th><th>DEC</th><th>THING_ID</th><th>PLATE</th><th>MJD</th><th>FIBERID</th><th>SPECTRO</th><th>Z</th><th>Z_ERR</th><th>SOURCE_Z</th><th>Z_VI</th><th>Z_PIPE</th><th>Z_PIPE_ERR</th><th>ZWARNING</th><th>Z_PCA</th><th>Z_PCA_ER</th><th>Z_MGII</th><th>BOSS_TARGET1</th><th>ANCILLARY_TARGET1</th><th>ANCILLARY_TARGET2</th><th>EBOSS_TARGET0</th><th>EBOSS_TARGET1</th><th>EBOSS_TARGET2</th><th>N_SPEC_SDSS</th><th>N_SPEC_BOSS</th><th>N_SPEC</th><th>PLATE_DUPLICATE [51]</th><th>MJD_DUPLICATE [51]</th><th>FIBERID_DUPLICATE [51]</th><th>SPECTRO_DUPLICATE [51]</th><th>BI_CIV</th><th>ERR_BI_CIV</th><th>RUN_NUMBER</th><th>RERUN_NUMBER</th><th>COL_NUMBER</th><th>FIELD_NUMBER</th><th>OBJ_ID</th><th>PSFFLUX [5]</th><th>IVAR_PSFFLUX [5]</th><th>PSFMAG [5]</th><th>ERR_PSFMAG [5]</th><th>MI</th><th>GAL_EXT [5]</th><th>RASS_COUNTS</th><th>RASS_COUNTS_SNR</th><th>SDSS2ROSAT_SEP</th><th>FLUX_0.2_2.0keV</th><th>FLUX_0.2_2.0keV_ERR</th><th>FLUX_2.0_12.0keV</th><th>FLUX_2.0_12.0keV_ERR</th><th>FLUX_0.2_12.0keV</th><th>FLUX_0.2_12.0keV_ERR</th><th>LUM_0.2_12.0keV</th><th>SDSS2XMM_SEP</th><th>GALEX_MATCHED</th><th>FUV</th><th>FUV_IVAR</th><th>NUV</th><th>NUV_IVAR</th><th>JMAG</th><th>ERR_JMAG</th><th>JSNR</th><th>JRDFLAG</th><th>HMAG</th><th>ERR_HMAG</th><th>HSNR</th><th>HRDFLAG</th><th>KMAG</th><th>ERR_KMAG</th><th>KSNR</th><th>KRDFLAG</th><th>SDSS2MASS_SEP</th><th>W1MAG</th><th>ERR_W1MAG</th><th>W1SNR</th><th>W1CHI2</th><th>W2MAG</th><th>ERR_W2MAG</th><th>W2SNR</th><th>W2CHI2</th><th>W3MAG</th><th>ERR_W3MAG</th><th>W3SNR</th><th>W3CHI2</th><th>W4MAG</th><th>ERR_W4MAG</th><th>W4SNR</th><th>W4CHI2</th><th>CC_FLAGS</th><th>PH_FLAGS</th><th>SDSS2WISE_SEP</th><th>UKIDSS_MATCHED</th><th>YFLUX</th><th>YFLUX_ERR</th><th>JFLUX</th><th>JFLUX_ERR</th><th>HFLUX</th><th>HFLUX_ERR</th><th>KFLUX</th><th>KFLUX_ERR</th><th>FIRST_MATCHED</th><th>FIRST_FLUX</th><th>FIRST_SNR</th><th>SDSS2FIRST_SEP</th></tr></thead>\n",
       "<thead><tr><th>-</th><th>deg</th><th>deg</th><th>-</th><th>-</th><th>-</th><th>-</th><th>-</th><th>-</th><th>-</th><th>-</th><th>-</th><th>-</th><th>-</th><th>-</th><th>-</th><th>-</th><th>-</th><th>-</th><th>-</th><th>-</th><th>-</th><th>-</th><th>-</th><th>-</th><th>-</th><th>-</th><th>-</th><th>-</th><th>-</th><th>-</th><th>km / s</th><th>km / s</th><th>-</th><th>-</th><th>-</th><th>-</th><th>-</th><th>nanomaggies</th><th>-</th><th>mag</th><th>mag</th><th>-</th><th>mag</th><th>counts/s</th><th>-</th><th>arcsec</th><th>erg / (cm2 s)</th><th>erg / (cm2 s)</th><th>erg / (cm2 s)</th><th>erg / (cm2 s)</th><th>erg / (cm2 s)</th><th>erg / (cm2 s)</th><th>erg / s</th><th>arcsec</th><th>-</th><th>-</th><th>-</th><th>-</th><th>-</th><th>Vega</th><th>Vega</th><th>-</th><th>-</th><th>Vega</th><th>Vega</th><th>-</th><th>-</th><th>Vega</th><th>Vega</th><th>-</th><th>-</th><th>arcsec</th><th>-</th><th>-</th><th>-</th><th>-</th><th>-</th><th>-</th><th>-</th><th>-</th><th>-</th><th>-</th><th>-</th><th>-</th><th>-</th><th>-</th><th>-</th><th>-</th><th>-</th><th>-</th><th>arcsec</th><th>-</th><th>W / (Hz m2)</th><th>W / (Hz m2)</th><th>W / (Hz m2)</th><th>W / (Hz m2)</th><th>W / (Hz m2)</th><th>W / (Hz m2)</th><th>W / (Hz m2)</th><th>W / (Hz m2)</th><th>-</th><th>mJy</th><th>-</th><th>arcsec</th></tr></thead>\n",
       "<thead><tr><th>str18</th><th>float64</th><th>float64</th><th>int32</th><th>int16</th><th>int32</th><th>int16</th><th>str4</th><th>float64</th><th>float64</th><th>str4</th><th>float64</th><th>float64</th><th>float64</th><th>int16</th><th>float64</th><th>float64</th><th>float64</th><th>int64</th><th>int64</th><th>int64</th><th>int64</th><th>int64</th><th>int64</th><th>int16</th><th>int16</th><th>int16</th><th>int32</th><th>int32</th><th>int32</th><th>str1</th><th>float64</th><th>float64</th><th>int16</th><th>str1</th><th>int16</th><th>int16</th><th>str1</th><th>float64</th><th>float64</th><th>float64</th><th>float64</th><th>float64</th><th>float64</th><th>float64</th><th>float64</th><th>float64</th><th>float64</th><th>float64</th><th>float64</th><th>float64</th><th>float64</th><th>float64</th><th>float64</th><th>float64</th><th>float32</th><th>float64</th><th>float64</th><th>float64</th><th>float64</th><th>float64</th><th>float64</th><th>float32</th><th>int16</th><th>float64</th><th>float64</th><th>float32</th><th>int16</th><th>float64</th><th>float64</th><th>float32</th><th>int16</th><th>float64</th><th>float64</th><th>float64</th><th>float64</th><th>float64</th><th>float64</th><th>float64</th><th>float64</th><th>float64</th><th>float64</th><th>float64</th><th>float64</th><th>float64</th><th>float64</th><th>float64</th><th>float64</th><th>float64</th><th>str4</th><th>str4</th><th>float64</th><th>float32</th><th>float64</th><th>float64</th><th>float64</th><th>float64</th><th>float64</th><th>float64</th><th>float64</th><th>float64</th><th>int16</th><th>float64</th><th>float64</th><th>float64</th></tr></thead>\n",
       "<tr><td>011616.98+010050.0</td><td>19.0707766884</td><td>1.01391502633</td><td>115630438</td><td>7861</td><td>57281</td><td>425</td><td>BOSS</td><td>1.4568506</td><td>0.0</td><td>AUTO</td><td>-1.0</td><td>1.45685064793</td><td>0.000594040611759</td><td>0</td><td>1.4568728</td><td>1.4571359</td><td>1.4571359</td><td>0</td><td>0</td><td>0</td><td>0</td><td>512</td><td>0</td><td>0</td><td>0</td><td>0</td><td>-1 .. -1</td><td>-1 .. -1</td><td>-1 .. -1</td><td>- .. -</td><td>0.0</td><td>0.0</td><td>0</td><td>-</td><td>0</td><td>0</td><td>-</td><td>1.19719731808 .. 6.30123233795</td><td>24.2483978271 .. 1.30410706997</td><td>22.2900333405 .. 20.4867630005</td><td>0.179329872131 .. 0.146886467934</td><td>-24.474094</td><td>0.127548605204 .. 0.038002807647</td><td>0.0</td><td>0.0</td><td>-1.0</td><td>nan</td><td>nan</td><td>nan</td><td>nan</td><td>nan</td><td>nan</td><td>nan</td><td>nan</td><td>1.0</td><td>0.352254927158</td><td>262.236208423</td><td>0.358281224966</td><td>70.6062241661</td><td>nan</td><td>nan</td><td>nan</td><td>-1</td><td>nan</td><td>nan</td><td>nan</td><td>-1</td><td>nan</td><td>nan</td><td>nan</td><td>-1</td><td>nan</td><td>16.835</td><td>0.107</td><td>10.1000003815</td><td>0.8611</td><td>15.073</td><td>0.086</td><td>12.6999998093</td><td>0.9024</td><td>12.291</td><td>0.427</td><td>2.5</td><td>0.8142</td><td>9.074</td><td>0.107</td><td>-0.5</td><td>0.9895</td><td>0000</td><td>AACU</td><td>0.215297</td><td>1.0</td><td>2.52444065137e-31</td><td>3.62346780163e-32</td><td>3.95592781425e-31</td><td>4.82434665908e-32</td><td>1.90952157139e-31</td><td>6.33866109348e-32</td><td>2.82314857714e-31</td><td>6.14323985964e-32</td><td>0</td><td>-1.0</td><td>-1.0</td><td>-1.0</td></tr>\n",
       "</table>"
      ],
      "text/plain": [
       "<Row index=50000>\n",
       "    SDSS_NAME            RA           DEC       THING_ID PLATE  MJD  FIBERID SPECTRO     Z      Z_ERR  SOURCE_Z   Z_VI      Z_PIPE        Z_PIPE_ERR    ZWARNING   Z_PCA    Z_PCA_ER   Z_MGII  BOSS_TARGET1 ANCILLARY_TARGET1 ANCILLARY_TARGET2 EBOSS_TARGET0 EBOSS_TARGET1 EBOSS_TARGET2 N_SPEC_SDSS N_SPEC_BOSS N_SPEC PLATE_DUPLICATE [51] MJD_DUPLICATE [51] FIBERID_DUPLICATE [51] SPECTRO_DUPLICATE [51]  BI_CIV ERR_BI_CIV RUN_NUMBER RERUN_NUMBER COL_NUMBER FIELD_NUMBER OBJ_ID          PSFFLUX [5]                  IVAR_PSFFLUX [5]                  PSFMAG [5]                    ERR_PSFMAG [5]              MI               GAL_EXT [5]            RASS_COUNTS RASS_COUNTS_SNR SDSS2ROSAT_SEP FLUX_0.2_2.0keV FLUX_0.2_2.0keV_ERR FLUX_2.0_12.0keV FLUX_2.0_12.0keV_ERR FLUX_0.2_12.0keV FLUX_0.2_12.0keV_ERR LUM_0.2_12.0keV SDSS2XMM_SEP GALEX_MATCHED      FUV          FUV_IVAR        NUV          NUV_IVAR     JMAG  ERR_JMAG   JSNR  JRDFLAG   HMAG  ERR_HMAG   HSNR  HRDFLAG   KMAG  ERR_KMAG   KSNR  KRDFLAG SDSS2MASS_SEP  W1MAG  ERR_W1MAG     W1SNR      W1CHI2  W2MAG  ERR_W2MAG     W2SNR      W2CHI2  W3MAG  ERR_W3MAG  W3SNR   W3CHI2  W4MAG  ERR_W4MAG  W4SNR   W4CHI2 CC_FLAGS PH_FLAGS SDSS2WISE_SEP UKIDSS_MATCHED       YFLUX           YFLUX_ERR           JFLUX           JFLUX_ERR           HFLUX           HFLUX_ERR           KFLUX           KFLUX_ERR     FIRST_MATCHED FIRST_FLUX FIRST_SNR SDSS2FIRST_SEP\n",
       "        -               deg           deg          -       -     -      -       -        -        -       -        -          -               -            -         -         -         -          -               -                 -               -             -             -            -           -        -             -                   -                    -                      -             km / s   km / s       -           -           -           -         -             nanomaggies                         -                             mag                             mag                    -                    mag                  counts/s         -            arcsec      erg / (cm2 s)     erg / (cm2 s)     erg / (cm2 s)      erg / (cm2 s)      erg / (cm2 s)      erg / (cm2 s)         erg / s        arcsec          -             -              -             -              -         Vega    Vega      -       -      Vega    Vega      -       -      Vega    Vega      -       -        arcsec       -        -           -          -       -        -           -          -       -        -        -       -       -        -        -       -       -        -         arcsec          -           W / (Hz m2)       W / (Hz m2)       W / (Hz m2)       W / (Hz m2)       W / (Hz m2)       W / (Hz m2)       W / (Hz m2)       W / (Hz m2)          -          mJy         -         arcsec    \n",
       "      str18           float64       float64      int32   int16 int32  int16    str4   float64  float64   str4   float64    float64         float64       int16    float64   float64   float64     int64           int64             int64           int64         int64         int64        int16       int16    int16         int32               int32                int32                   str1          float64  float64     int16        str1       int16       int16      str1             float64                        float64                        float64                         float64               float64               float64                float64       float64        float64         float64           float64           float64            float64            float64            float64            float64       float64       float32       float64        float64       float64        float64    float64 float64  float32  int16  float64 float64  float32  int16  float64 float64  float32  int16     float64    float64  float64     float64    float64 float64  float64     float64    float64 float64  float64  float64 float64 float64  float64  float64 float64   str4     str4      float64       float32          float64           float64           float64           float64           float64           float64           float64           float64          int16      float64    float64     float64    \n",
       "------------------ ------------- ------------- --------- ----- ----- ------- ------- --------- ------- -------- ------- ------------- ----------------- -------- --------- --------- --------- ------------ ----------------- ----------------- ------------- ------------- ------------- ----------- ----------- ------ -------------------- ------------------ ---------------------- ---------------------- ------- ---------- ---------- ------------ ---------- ------------ ------ ------------------------------ ------------------------------ ------------------------------ -------------------------------- ---------- -------------------------------- ----------- --------------- -------------- --------------- ------------------- ---------------- -------------------- ---------------- -------------------- --------------- ------------ ------------- -------------- ------------- -------------- ------------- ------- -------- ------- ------- ------- -------- ------- ------- ------- -------- ------- ------- ------------- ------- --------- ------------- ------- ------- --------- ------------- ------- ------- --------- ------- ------- ------- --------- ------- ------- -------- -------- ------------- -------------- ----------------- ----------------- ----------------- ----------------- ----------------- ----------------- ----------------- ----------------- ------------- ---------- --------- --------------\n",
       "011616.98+010050.0 19.0707766884 1.01391502633 115630438  7861 57281     425    BOSS 1.4568506     0.0     AUTO    -1.0 1.45685064793 0.000594040611759        0 1.4568728 1.4571359 1.4571359            0                 0                 0             0           512             0           0           0      0             -1 .. -1           -1 .. -1               -1 .. -1                 - .. -     0.0        0.0          0            -          0            0      - 1.19719731808 .. 6.30123233795 24.2483978271 .. 1.30410706997 22.2900333405 .. 20.4867630005 0.179329872131 .. 0.146886467934 -24.474094 0.127548605204 .. 0.038002807647         0.0             0.0           -1.0             nan                 nan              nan                  nan              nan                  nan             nan          nan           1.0 0.352254927158 262.236208423 0.358281224966 70.6062241661     nan      nan     nan      -1     nan      nan     nan      -1     nan      nan     nan      -1           nan  16.835     0.107 10.1000003815  0.8611  15.073     0.086 12.6999998093  0.9024  12.291     0.427     2.5  0.8142   9.074     0.107    -0.5  0.9895     0000     AACU      0.215297            1.0 2.52444065137e-31 3.62346780163e-32 3.95592781425e-31 4.82434665908e-32 1.90952157139e-31 6.33866109348e-32 2.82314857714e-31 6.14323985964e-32             0       -1.0      -1.0           -1.0"
      ]
     },
     "execution_count": 30,
     "metadata": {},
     "output_type": "execute_result"
    }
   ],
   "source": [
    "dr14[50000]"
   ]
  },
  {
   "cell_type": "code",
   "execution_count": 31,
   "metadata": {
    "collapsed": true
   },
   "outputs": [],
   "source": [
    "abad = (dr14['PLATE'] == 7840) & (dr14['FIBERID'] == 505)"
   ]
  },
  {
   "cell_type": "code",
   "execution_count": 32,
   "metadata": {},
   "outputs": [
    {
     "data": {
      "text/html": [
       "&lt;Table length=1&gt;\n",
       "<table id=\"table139781201404816\" class=\"table-striped table-bordered table-condensed\">\n",
       "<thead><tr><th>SDSS_NAME</th><th>RA</th><th>DEC</th><th>THING_ID</th><th>PLATE</th><th>MJD</th><th>FIBERID</th><th>SPECTRO</th><th>Z</th><th>Z_ERR</th><th>SOURCE_Z</th><th>Z_VI</th><th>Z_PIPE</th><th>Z_PIPE_ERR</th><th>ZWARNING</th><th>Z_PCA</th><th>Z_PCA_ER</th><th>Z_MGII</th><th>BOSS_TARGET1</th><th>ANCILLARY_TARGET1</th><th>ANCILLARY_TARGET2</th><th>EBOSS_TARGET0</th><th>EBOSS_TARGET1</th><th>EBOSS_TARGET2</th><th>N_SPEC_SDSS</th><th>N_SPEC_BOSS</th><th>N_SPEC</th><th>PLATE_DUPLICATE [51]</th><th>MJD_DUPLICATE [51]</th><th>FIBERID_DUPLICATE [51]</th><th>SPECTRO_DUPLICATE [51]</th><th>BI_CIV</th><th>ERR_BI_CIV</th><th>RUN_NUMBER</th><th>RERUN_NUMBER</th><th>COL_NUMBER</th><th>FIELD_NUMBER</th><th>OBJ_ID</th><th>PSFFLUX [5]</th><th>IVAR_PSFFLUX [5]</th><th>PSFMAG [5]</th><th>ERR_PSFMAG [5]</th><th>MI</th><th>GAL_EXT [5]</th><th>RASS_COUNTS</th><th>RASS_COUNTS_SNR</th><th>SDSS2ROSAT_SEP</th><th>FLUX_0.2_2.0keV</th><th>FLUX_0.2_2.0keV_ERR</th><th>FLUX_2.0_12.0keV</th><th>FLUX_2.0_12.0keV_ERR</th><th>FLUX_0.2_12.0keV</th><th>FLUX_0.2_12.0keV_ERR</th><th>LUM_0.2_12.0keV</th><th>SDSS2XMM_SEP</th><th>GALEX_MATCHED</th><th>FUV</th><th>FUV_IVAR</th><th>NUV</th><th>NUV_IVAR</th><th>JMAG</th><th>ERR_JMAG</th><th>JSNR</th><th>JRDFLAG</th><th>HMAG</th><th>ERR_HMAG</th><th>HSNR</th><th>HRDFLAG</th><th>KMAG</th><th>ERR_KMAG</th><th>KSNR</th><th>KRDFLAG</th><th>SDSS2MASS_SEP</th><th>W1MAG</th><th>ERR_W1MAG</th><th>W1SNR</th><th>W1CHI2</th><th>W2MAG</th><th>ERR_W2MAG</th><th>W2SNR</th><th>W2CHI2</th><th>W3MAG</th><th>ERR_W3MAG</th><th>W3SNR</th><th>W3CHI2</th><th>W4MAG</th><th>ERR_W4MAG</th><th>W4SNR</th><th>W4CHI2</th><th>CC_FLAGS</th><th>PH_FLAGS</th><th>SDSS2WISE_SEP</th><th>UKIDSS_MATCHED</th><th>YFLUX</th><th>YFLUX_ERR</th><th>JFLUX</th><th>JFLUX_ERR</th><th>HFLUX</th><th>HFLUX_ERR</th><th>KFLUX</th><th>KFLUX_ERR</th><th>FIRST_MATCHED</th><th>FIRST_FLUX</th><th>FIRST_SNR</th><th>SDSS2FIRST_SEP</th></tr></thead>\n",
       "<thead><tr><th>-</th><th>deg</th><th>deg</th><th>-</th><th>-</th><th>-</th><th>-</th><th>-</th><th>-</th><th>-</th><th>-</th><th>-</th><th>-</th><th>-</th><th>-</th><th>-</th><th>-</th><th>-</th><th>-</th><th>-</th><th>-</th><th>-</th><th>-</th><th>-</th><th>-</th><th>-</th><th>-</th><th>-</th><th>-</th><th>-</th><th>-</th><th>km / s</th><th>km / s</th><th>-</th><th>-</th><th>-</th><th>-</th><th>-</th><th>nanomaggies</th><th>-</th><th>mag</th><th>mag</th><th>-</th><th>mag</th><th>counts/s</th><th>-</th><th>arcsec</th><th>erg / (cm2 s)</th><th>erg / (cm2 s)</th><th>erg / (cm2 s)</th><th>erg / (cm2 s)</th><th>erg / (cm2 s)</th><th>erg / (cm2 s)</th><th>erg / s</th><th>arcsec</th><th>-</th><th>-</th><th>-</th><th>-</th><th>-</th><th>Vega</th><th>Vega</th><th>-</th><th>-</th><th>Vega</th><th>Vega</th><th>-</th><th>-</th><th>Vega</th><th>Vega</th><th>-</th><th>-</th><th>arcsec</th><th>-</th><th>-</th><th>-</th><th>-</th><th>-</th><th>-</th><th>-</th><th>-</th><th>-</th><th>-</th><th>-</th><th>-</th><th>-</th><th>-</th><th>-</th><th>-</th><th>-</th><th>-</th><th>arcsec</th><th>-</th><th>W / (Hz m2)</th><th>W / (Hz m2)</th><th>W / (Hz m2)</th><th>W / (Hz m2)</th><th>W / (Hz m2)</th><th>W / (Hz m2)</th><th>W / (Hz m2)</th><th>W / (Hz m2)</th><th>-</th><th>mJy</th><th>-</th><th>arcsec</th></tr></thead>\n",
       "<thead><tr><th>str18</th><th>float64</th><th>float64</th><th>int32</th><th>int16</th><th>int32</th><th>int16</th><th>str4</th><th>float64</th><th>float64</th><th>str4</th><th>float64</th><th>float64</th><th>float64</th><th>int16</th><th>float64</th><th>float64</th><th>float64</th><th>int64</th><th>int64</th><th>int64</th><th>int64</th><th>int64</th><th>int64</th><th>int16</th><th>int16</th><th>int16</th><th>int32</th><th>int32</th><th>int32</th><th>str1</th><th>float64</th><th>float64</th><th>int16</th><th>str1</th><th>int16</th><th>int16</th><th>str1</th><th>float64</th><th>float64</th><th>float64</th><th>float64</th><th>float64</th><th>float64</th><th>float64</th><th>float64</th><th>float64</th><th>float64</th><th>float64</th><th>float64</th><th>float64</th><th>float64</th><th>float64</th><th>float64</th><th>float64</th><th>float32</th><th>float64</th><th>float64</th><th>float64</th><th>float64</th><th>float64</th><th>float64</th><th>float32</th><th>int16</th><th>float64</th><th>float64</th><th>float32</th><th>int16</th><th>float64</th><th>float64</th><th>float32</th><th>int16</th><th>float64</th><th>float64</th><th>float64</th><th>float64</th><th>float64</th><th>float64</th><th>float64</th><th>float64</th><th>float64</th><th>float64</th><th>float64</th><th>float64</th><th>float64</th><th>float64</th><th>float64</th><th>float64</th><th>float64</th><th>str4</th><th>str4</th><th>float64</th><th>float32</th><th>float64</th><th>float64</th><th>float64</th><th>float64</th><th>float64</th><th>float64</th><th>float64</th><th>float64</th><th>int16</th><th>float64</th><th>float64</th><th>float64</th></tr></thead>\n",
       "<tr><td>015805.13-000954.3</td><td>29.5213774202</td><td>-0.165105795743</td><td>94192547</td><td>7840</td><td>57003</td><td>505</td><td>BOSS</td><td>1.418</td><td>0.0</td><td>VI</td><td>1.41799998283</td><td>0.0</td><td>0.0</td><td>0</td><td>-1.0</td><td>-1.0</td><td>-1.0</td><td>0</td><td>0</td><td>0</td><td>0</td><td>512</td><td>0</td><td>0</td><td>0</td><td>0</td><td>-1 .. -1</td><td>-1 .. -1</td><td>-1 .. -1</td><td>- .. -</td><td>0.0</td><td>0.0</td><td>0</td><td>-</td><td>0</td><td>0</td><td>-</td><td>3.19229030609 .. 7.47847652435</td><td>16.9976634979 .. 1.88667714596</td><td>21.2376613617 .. 20.3049888611</td><td>0.0821794345975 .. 0.103686004877</td><td>-24.320971</td><td>0.115248307586 .. 0.0343379601836</td><td>0.0</td><td>0.0</td><td>-1.0</td><td>nan</td><td>nan</td><td>nan</td><td>nan</td><td>nan</td><td>nan</td><td>nan</td><td>nan</td><td>1.0</td><td>0.598008930683</td><td>111.61151351</td><td>1.20277929306</td><td>121.209508407</td><td>nan</td><td>nan</td><td>nan</td><td>-1</td><td>nan</td><td>nan</td><td>nan</td><td>-1</td><td>nan</td><td>nan</td><td>nan</td><td>-1</td><td>nan</td><td>17.893</td><td>0.197</td><td>5.5</td><td>0.9913</td><td>17.01</td><td>0.39</td><td>2.79999995232</td><td>1.007</td><td>12.577</td><td>nan</td><td>0.40000000596</td><td>0.993</td><td>9.281</td><td>0.197</td><td>0.20000000298</td><td>1.09</td><td>0000</td><td>BCUU</td><td>0.579438</td><td>1.0</td><td>2.11641974433e-31</td><td>3.09619099436e-32</td><td>2.32198408383e-31</td><td>4.6006280436e-32</td><td>2.32775764189e-31</td><td>6.44379848371e-32</td><td>2.95234810164e-31</td><td>7.10431052268e-32</td><td>0</td><td>-1.0</td><td>-1.0</td><td>-1.0</td></tr>\n",
       "</table>"
      ],
      "text/plain": [
       "<Table length=1>\n",
       "    SDSS_NAME            RA            DEC       ... FIRST_SNR SDSS2FIRST_SEP\n",
       "        -               deg            deg       ...     -         arcsec    \n",
       "      str18           float64        float64     ...  float64     float64    \n",
       "------------------ ------------- --------------- ... --------- --------------\n",
       "015805.13-000954.3 29.5213774202 -0.165105795743 ...      -1.0           -1.0"
      ]
     },
     "execution_count": 32,
     "metadata": {},
     "output_type": "execute_result"
    }
   ],
   "source": [
    "dr14[abad]"
   ]
  },
  {
   "cell_type": "code",
   "execution_count": 34,
   "metadata": {},
   "outputs": [
    {
     "data": {
      "text/plain": [
       "(array([75246]),)"
      ]
     },
     "execution_count": 34,
     "metadata": {},
     "output_type": "execute_result"
    }
   ],
   "source": [
    "np.where(abad)"
   ]
  },
  {
   "cell_type": "code",
   "execution_count": 35,
   "metadata": {},
   "outputs": [
    {
     "data": {
      "text/plain": [
       "10000"
      ]
     },
     "execution_count": 35,
     "metadata": {},
     "output_type": "execute_result"
    }
   ],
   "source": [
    "np.max(dr14['PLATE'])"
   ]
  },
  {
   "cell_type": "markdown",
   "metadata": {},
   "source": [
    "### Insufficient pixels\n",
    "    3678, 850"
   ]
  },
  {
   "cell_type": "code",
   "execution_count": 36,
   "metadata": {
    "collapsed": true
   },
   "outputs": [],
   "source": [
    "bad = (dr14['PLATE'] == 3678) & (dr14['FIBERID'] == 850)"
   ]
  },
  {
   "cell_type": "code",
   "execution_count": 37,
   "metadata": {},
   "outputs": [
    {
     "data": {
      "text/html": [
       "&lt;Table length=1&gt;\n",
       "<table id=\"table139781177046016\" class=\"table-striped table-bordered table-condensed\">\n",
       "<thead><tr><th>SDSS_NAME</th><th>RA</th><th>DEC</th><th>THING_ID</th><th>PLATE</th><th>MJD</th><th>FIBERID</th><th>SPECTRO</th><th>Z</th><th>Z_ERR</th><th>SOURCE_Z</th><th>Z_VI</th><th>Z_PIPE</th><th>Z_PIPE_ERR</th><th>ZWARNING</th><th>Z_PCA</th><th>Z_PCA_ER</th><th>Z_MGII</th><th>BOSS_TARGET1</th><th>ANCILLARY_TARGET1</th><th>ANCILLARY_TARGET2</th><th>EBOSS_TARGET0</th><th>EBOSS_TARGET1</th><th>EBOSS_TARGET2</th><th>N_SPEC_SDSS</th><th>N_SPEC_BOSS</th><th>N_SPEC</th><th>PLATE_DUPLICATE [51]</th><th>MJD_DUPLICATE [51]</th><th>FIBERID_DUPLICATE [51]</th><th>SPECTRO_DUPLICATE [51]</th><th>BI_CIV</th><th>ERR_BI_CIV</th><th>RUN_NUMBER</th><th>RERUN_NUMBER</th><th>COL_NUMBER</th><th>FIELD_NUMBER</th><th>OBJ_ID</th><th>PSFFLUX [5]</th><th>IVAR_PSFFLUX [5]</th><th>PSFMAG [5]</th><th>ERR_PSFMAG [5]</th><th>MI</th><th>GAL_EXT [5]</th><th>RASS_COUNTS</th><th>RASS_COUNTS_SNR</th><th>SDSS2ROSAT_SEP</th><th>FLUX_0.2_2.0keV</th><th>FLUX_0.2_2.0keV_ERR</th><th>FLUX_2.0_12.0keV</th><th>FLUX_2.0_12.0keV_ERR</th><th>FLUX_0.2_12.0keV</th><th>FLUX_0.2_12.0keV_ERR</th><th>LUM_0.2_12.0keV</th><th>SDSS2XMM_SEP</th><th>GALEX_MATCHED</th><th>FUV</th><th>FUV_IVAR</th><th>NUV</th><th>NUV_IVAR</th><th>JMAG</th><th>ERR_JMAG</th><th>JSNR</th><th>JRDFLAG</th><th>HMAG</th><th>ERR_HMAG</th><th>HSNR</th><th>HRDFLAG</th><th>KMAG</th><th>ERR_KMAG</th><th>KSNR</th><th>KRDFLAG</th><th>SDSS2MASS_SEP</th><th>W1MAG</th><th>ERR_W1MAG</th><th>W1SNR</th><th>W1CHI2</th><th>W2MAG</th><th>ERR_W2MAG</th><th>W2SNR</th><th>W2CHI2</th><th>W3MAG</th><th>ERR_W3MAG</th><th>W3SNR</th><th>W3CHI2</th><th>W4MAG</th><th>ERR_W4MAG</th><th>W4SNR</th><th>W4CHI2</th><th>CC_FLAGS</th><th>PH_FLAGS</th><th>SDSS2WISE_SEP</th><th>UKIDSS_MATCHED</th><th>YFLUX</th><th>YFLUX_ERR</th><th>JFLUX</th><th>JFLUX_ERR</th><th>HFLUX</th><th>HFLUX_ERR</th><th>KFLUX</th><th>KFLUX_ERR</th><th>FIRST_MATCHED</th><th>FIRST_FLUX</th><th>FIRST_SNR</th><th>SDSS2FIRST_SEP</th></tr></thead>\n",
       "<thead><tr><th>-</th><th>deg</th><th>deg</th><th>-</th><th>-</th><th>-</th><th>-</th><th>-</th><th>-</th><th>-</th><th>-</th><th>-</th><th>-</th><th>-</th><th>-</th><th>-</th><th>-</th><th>-</th><th>-</th><th>-</th><th>-</th><th>-</th><th>-</th><th>-</th><th>-</th><th>-</th><th>-</th><th>-</th><th>-</th><th>-</th><th>-</th><th>km / s</th><th>km / s</th><th>-</th><th>-</th><th>-</th><th>-</th><th>-</th><th>nanomaggies</th><th>-</th><th>mag</th><th>mag</th><th>-</th><th>mag</th><th>counts/s</th><th>-</th><th>arcsec</th><th>erg / (cm2 s)</th><th>erg / (cm2 s)</th><th>erg / (cm2 s)</th><th>erg / (cm2 s)</th><th>erg / (cm2 s)</th><th>erg / (cm2 s)</th><th>erg / s</th><th>arcsec</th><th>-</th><th>-</th><th>-</th><th>-</th><th>-</th><th>Vega</th><th>Vega</th><th>-</th><th>-</th><th>Vega</th><th>Vega</th><th>-</th><th>-</th><th>Vega</th><th>Vega</th><th>-</th><th>-</th><th>arcsec</th><th>-</th><th>-</th><th>-</th><th>-</th><th>-</th><th>-</th><th>-</th><th>-</th><th>-</th><th>-</th><th>-</th><th>-</th><th>-</th><th>-</th><th>-</th><th>-</th><th>-</th><th>-</th><th>arcsec</th><th>-</th><th>W / (Hz m2)</th><th>W / (Hz m2)</th><th>W / (Hz m2)</th><th>W / (Hz m2)</th><th>W / (Hz m2)</th><th>W / (Hz m2)</th><th>W / (Hz m2)</th><th>W / (Hz m2)</th><th>-</th><th>mJy</th><th>-</th><th>arcsec</th></tr></thead>\n",
       "<thead><tr><th>str18</th><th>float64</th><th>float64</th><th>int32</th><th>int16</th><th>int32</th><th>int16</th><th>str4</th><th>float64</th><th>float64</th><th>str4</th><th>float64</th><th>float64</th><th>float64</th><th>int16</th><th>float64</th><th>float64</th><th>float64</th><th>int64</th><th>int64</th><th>int64</th><th>int64</th><th>int64</th><th>int64</th><th>int16</th><th>int16</th><th>int16</th><th>int32</th><th>int32</th><th>int32</th><th>str1</th><th>float64</th><th>float64</th><th>int16</th><th>str1</th><th>int16</th><th>int16</th><th>str1</th><th>float64</th><th>float64</th><th>float64</th><th>float64</th><th>float64</th><th>float64</th><th>float64</th><th>float64</th><th>float64</th><th>float64</th><th>float64</th><th>float64</th><th>float64</th><th>float64</th><th>float64</th><th>float64</th><th>float64</th><th>float32</th><th>float64</th><th>float64</th><th>float64</th><th>float64</th><th>float64</th><th>float64</th><th>float32</th><th>int16</th><th>float64</th><th>float64</th><th>float32</th><th>int16</th><th>float64</th><th>float64</th><th>float32</th><th>int16</th><th>float64</th><th>float64</th><th>float64</th><th>float64</th><th>float64</th><th>float64</th><th>float64</th><th>float64</th><th>float64</th><th>float64</th><th>float64</th><th>float64</th><th>float64</th><th>float64</th><th>float64</th><th>float64</th><th>float64</th><th>str4</th><th>str4</th><th>float64</th><th>float32</th><th>float64</th><th>float64</th><th>float64</th><th>float64</th><th>float64</th><th>float64</th><th>float64</th><th>float64</th><th>int16</th><th>float64</th><th>float64</th><th>float64</th></tr></thead>\n",
       "<tr><td>075304.27+465706.9</td><td>118.267817646</td><td>46.9519169335</td><td>473244696</td><td>3678</td><td>55208</td><td>850</td><td>BOSS</td><td>2.096</td><td>0.0</td><td>VI</td><td>2.09599995613</td><td>0.0</td><td>0.0</td><td>0</td><td>-1.0</td><td>-1.0</td><td>-1.0</td><td>133120</td><td>0</td><td>0</td><td>0</td><td>0</td><td>0</td><td>0</td><td>0</td><td>0</td><td>-1 .. -1</td><td>-1 .. -1</td><td>-1 .. -1</td><td>- .. -</td><td>0.0</td><td>0.0</td><td>0</td><td>-</td><td>0</td><td>0</td><td>-</td><td>1.96374642849 .. 3.1741001606</td><td>14.1891937256 .. 0.957379758358</td><td>21.7618103027 .. 21.1912384033</td><td>0.145308032632 .. 0.316842108965</td><td>-24.900135</td><td>0.323132038116 .. 0.0962764248252</td><td>0.0</td><td>0.0</td><td>-1.0</td><td>nan</td><td>nan</td><td>nan</td><td>nan</td><td>nan</td><td>nan</td><td>nan</td><td>nan</td><td>1.0</td><td>0.839659512043</td><td>9.34160919355</td><td>0.635183572769</td><td>206.129591854</td><td>nan</td><td>nan</td><td>nan</td><td>-1</td><td>nan</td><td>nan</td><td>nan</td><td>-1</td><td>nan</td><td>nan</td><td>nan</td><td>-1</td><td>nan</td><td>17.463</td><td>0.155</td><td>7.0</td><td>0.9124</td><td>16.222</td><td>0.198</td><td>5.5</td><td>0.9066</td><td>12.345</td><td>0.387</td><td>2.79999995232</td><td>0.9924</td><td>9.091</td><td>0.155</td><td>-0.5</td><td>0.9341</td><td>0000</td><td>BBCU</td><td>1.031207</td><td>0.0</td><td>0.0</td><td>0.0</td><td>0.0</td><td>0.0</td><td>0.0</td><td>0.0</td><td>0.0</td><td>0.0</td><td>0</td><td>-1.0</td><td>-1.0</td><td>-1.0</td></tr>\n",
       "</table>"
      ],
      "text/plain": [
       "<Table length=1>\n",
       "    SDSS_NAME            RA           DEC      ... FIRST_SNR SDSS2FIRST_SEP\n",
       "        -               deg           deg      ...     -         arcsec    \n",
       "      str18           float64       float64    ...  float64     float64    \n",
       "------------------ ------------- ------------- ... --------- --------------\n",
       "075304.27+465706.9 118.267817646 46.9519169335 ...      -1.0           -1.0"
      ]
     },
     "execution_count": 37,
     "metadata": {},
     "output_type": "execute_result"
    }
   ],
   "source": [
    "dr14[bad]"
   ]
  },
  {
   "cell_type": "code",
   "execution_count": null,
   "metadata": {
    "collapsed": true
   },
   "outputs": [],
   "source": []
  }
 ],
 "metadata": {
  "kernelspec": {
   "display_name": "Python 3",
   "language": "python",
   "name": "python3"
  },
  "language_info": {
   "codemirror_mode": {
    "name": "ipython",
    "version": 3
   },
   "file_extension": ".py",
   "mimetype": "text/x-python",
   "name": "python",
   "nbconvert_exporter": "python",
   "pygments_lexer": "ipython3",
   "version": "3.6.2"
  }
 },
 "nbformat": 4,
 "nbformat_minor": 2
}
