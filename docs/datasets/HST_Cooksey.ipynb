{
 "cells": [
  {
   "cell_type": "markdown",
   "metadata": {},
   "source": [
    "# HST+FUSE AGN spectra compiled by Cooksey et al. 2011"
   ]
  },
  {
   "cell_type": "code",
   "execution_count": 23,
   "metadata": {
    "collapsed": true
   },
   "outputs": [],
   "source": [
    "# imports\n",
    "from astropy.table import Table\n",
    "from astropy.io.fits import Header\n",
    "\n",
    "from linetools.spectra import io as lsio"
   ]
  },
  {
   "cell_type": "markdown",
   "metadata": {},
   "source": [
    "## Meta"
   ]
  },
  {
   "cell_type": "code",
   "execution_count": 2,
   "metadata": {
    "collapsed": true
   },
   "outputs": [],
   "source": [
    "meta_file = os.getenv('RAW_IGMSPEC')+'/HST_Cooksey/HSTQSO_pre-SM4.lst'"
   ]
  },
  {
   "cell_type": "code",
   "execution_count": 7,
   "metadata": {
    "collapsed": false
   },
   "outputs": [],
   "source": [
    "meta = Table.read(meta_file, format='ascii')"
   ]
  },
  {
   "cell_type": "code",
   "execution_count": 8,
   "metadata": {
    "collapsed": false
   },
   "outputs": [
    {
     "data": {
      "text/html": [
       "&lt;Table length=3&gt;\n",
       "<table id=\"table4548170768\">\n",
       "<thead><tr><th>QSO</th><th>RA</th><th>DEC</th><th>ZEM</th><th>Instr</th><th>SPEC_FILE</th></tr></thead>\n",
       "<thead><tr><th>str11</th><th>float64</th><th>float64</th><th>float64</th><th>str4</th><th>str39</th></tr></thead>\n",
       "<tr><td>MRK335</td><td>1.581</td><td>20.203</td><td>0.02578</td><td>FUSE</td><td>MRK335lif2b.fits</td></tr>\n",
       "<tr><td>MRK335</td><td>1.581</td><td>20.203</td><td>0.02578</td><td>FUSE</td><td>MRK335sic1a.fits</td></tr>\n",
       "<tr><td>MRK335</td><td>1.581</td><td>20.203</td><td>0.02578</td><td>FUSE</td><td>MRK335sic2a.fits</td></tr>\n",
       "</table>"
      ],
      "text/plain": [
       "<Table length=3>\n",
       " QSO      RA     DEC     ZEM   Instr    SPEC_FILE    \n",
       "str11  float64 float64 float64  str4      str39      \n",
       "------ ------- ------- ------- ----- ----------------\n",
       "MRK335   1.581  20.203 0.02578  FUSE MRK335lif2b.fits\n",
       "MRK335   1.581  20.203 0.02578  FUSE MRK335sic1a.fits\n",
       "MRK335   1.581  20.203 0.02578  FUSE MRK335sic2a.fits"
      ]
     },
     "execution_count": 8,
     "metadata": {},
     "output_type": "execute_result"
    }
   ],
   "source": [
    "meta[0:3]"
   ]
  },
  {
   "cell_type": "markdown",
   "metadata": {},
   "source": [
    "## Read FUSE"
   ]
  },
  {
   "cell_type": "code",
   "execution_count": 10,
   "metadata": {
    "collapsed": true
   },
   "outputs": [],
   "source": [
    "fuse_file = os.getenv('RAW_IGMSPEC')+'/HST_Cooksey/NGC4151/FUSE/NGC4151lif2a.fits'"
   ]
  },
  {
   "cell_type": "code",
   "execution_count": 14,
   "metadata": {
    "collapsed": true
   },
   "outputs": [],
   "source": [
    "reload(lsio)\n",
    "fuse = lsio.readspec(fuse_file, head_ext=1)"
   ]
  },
  {
   "cell_type": "code",
   "execution_count": 45,
   "metadata": {
    "collapsed": false
   },
   "outputs": [],
   "source": [
    "tmp = ''\n",
    "for ii in range(len(fuse.header['HISTORY'])):\n",
    "    tmp += fuse.header['HISTORY'][ii]+'\\n'"
   ]
  },
  {
   "cell_type": "code",
   "execution_count": 50,
   "metadata": {
    "collapsed": false
   },
   "outputs": [
    {
     "data": {
      "text/plain": [
       "\"SIMPLE  =                    T / Data conforms to FITS standard\\nBITPIX  =                   16 / Bits per data value\\nNAXIS   =                    0 / Number of data axes\\nEXTEND  =                    T / File may contain standard extensions\\nNEXTEND =                    1 / Number of standard extensions\\nGROUPS  =                    F / Image is in group format\\nDATE    = '2007-04-23T08:57:27' / file creation date (YYYY-MM-DDThh:mm:s\\n\\n              DATA DESCRIPTION KEYWORDS\\n\\nTELESCOP= 'FUSE              ' / Telescope used to acquire data\\nINSTRUME= 'FUV               ' / Instrument in use (one of FUV, FESA, or\\nROOTNAME= 'C0920101999'        / Rootname of the observation set (pppptt\\nFILENAME= 'C09201019992alif4ttagfcal.fit' / Name of file\\nFILETYPE= 'CALIBRATED EXTRACTED SPECTRUM' / Type of data found in data f\\nEXP_STAT=                    0 / Science data processing status (0=good)\\n\\n              PROPOSAL INFORMATION\\n\\nPRGRM_ID= 'C092              ' / Program ID from data header\\nTARG_ID = '01                ' / Target ID from data header\\nSCOBS_ID= '01                ' / Observation ID from data header\\nEXP_ID  = '999     '           / Exposure ID from data header\\nOBS_ID  = '01                ' / Observation ID from proposal database\\nPR_INV_L= 'Crenshaw          ' / Last name of principal investigator\\nPR_INV_F= 'D. Michael        ' / First name of principal investigator\\n\\n              TARGET INFORMATION\\n\\nTARGNAME= 'NGC4151           ' / Target name on proposal\\nRA_TARG =            182.63575 / [deg] Right ascension of the target (J2\\nDEC_TARG=            39.405722 / [deg] Declination of the target (J2000)\\nAPER_PA =           211.219788 / [deg] Position angle of Y axis (E of N)\\nEQUINOX =               2000.0 / Equinox of celestial coord. system\\nELAT    =   3.662376571992E+01 / [deg] Ecliptic latitude\\nELONG   =   1.640968558454E+02 / [deg] Ecliptic longitude\\nGLAT    =   7.506283271702E+01 / [deg] Galactic latitude\\nGLONG   =   1.550790457014E+02 / [deg] Galactic longitude\\nOBJCLASS=                   84 / Object class (modified IUE classificati\\nSP_TYPE = 'AGN               ' / MK spectral type and luminosity class (\\nSRC_TYPE= 'PC                ' / [P]oint or [E]xtended, [C]ontinuum, [E]\\nVMAG    =                 11.5 / Target V magnitude\\nEBV     =                 0.03 / Color excess E(B-V)\\nZ       =                995.0 / Redshift\\nEFLX_950=              2.0E-14 / Expected flux at 950 A\\nEFLX1050=              3.0E-14 / Expected flux at 1050 A\\nEFLX1150=              2.5E-14 / Expected flux at 1150 A\\nHIGH_PM = 'F                 ' / High proper motion target (T or F)\\nMOV_TARG= 'F                 ' / [F]ixed or [M]oving target\\nPCNTRATE=                 51.0 / Expected count rate (sum of all channel\\n\\n              SUMMARY EXPOSURE INFORMATION\\n\\nDATEOBS = '2002-05-28'         / UT date of start of exposure (yyyy-mm-d\\nTIMEOBS = '23:17:01'           / UT start time of exposure (hh:mm:ss)\\nEXPSTART=   5.242297015046E+04 / Exposure start time (Modified Julian Da\\nEXPEND  =         52424.988648 / Exposure end time (Modified Julian Date\\nEXPTIME =               48890. / [s] Total time after screening\\nEXPENDC = 'OCC               ' / End condition (ENDO; SAA; OCC; NGHT; EN\\nNEVENTS =              2327322 / Number of events in raw data file\\nRAWTIME =             54360.66 / [s] Exposure duration of raw data file\\nPLANTIME=                54343 / [s] Planned exposure time\\nSUNANGLE=     95.3587351209719 / [deg] Angle between sun and Z axis\\nMOONANGL=     111.577378654635 / [deg] Angle between moon and Z axis\\nGEO_LONG=     54.5234221758759 / [deg] Geocentric longitude\\nGEO_LAT =     7.25856847871725 / [deg] Geocentric latitude\\nMAG_LAT =     13.5570395281651 / [deg] Geomagnetic latitude\\nMIN_LIMB=      10.240825583107 / [deg] Minimum angle above Earth limb\\n\\nNBADEVNT=               585048 / Number of events deleted in screening\\nNBADPHA =                53676 / Number of events deleted in PHA screeni\\nEXP_BAD =                 5461 / [s] Time lost to screening\\nEXP_BRST=                   45 / [s] Time lost to event bursts\\nEXP_HV  =                   41 / [s] Time lost to low voltage/FIFO overf\\nEXP_JITR=                    0 / [s] Time lost to jitter\\nEXP_LIM =                 5375 / [s] Time with low limb angle\\nEXP_SAA =                    0 / [s] Time while in SAA\\nEXPNIGHT=                41111 / [s] Night time after screening\\nV_GEOCEN=    -2.98939502350894 / [km/s] Observed to geocentric velocity\\nV_HELIO =    -23.3860511705717 / [km/s] Geocentric to heliocentric veloc\\nV_LSRDYN=     5.96311092376709 / [km/s] Heliocentric to dynamical LSR\\nV_LSRSTD=      6.7404580116272 / [km/s] Heliocentric to standard solar L\\n              Geocentric and helocentric conversions are applied by the\\n              CALFUSE calibration pipeline.  LSR conversion is not.\\n\\n              SCIENCE INSTRUMENT CONFIGURATION\\n\\nINSTMODE= 'TTAG              ' / Instrument mode (TTAG or HIST)\\nDETECTOR= '2A                ' / Detector for data in this file (1A, 1B,\\nAPERTURE= 'LWRS              ' / Planned target aperture (PINH, HIRS, MD\\nBRIT_OBJ= 'NO                ' / Special configuration for bright-object\\nAPER_ACT= 'LWRS_LIF'           / Extracted aperture in this file\\nDET_MASK= 'AIC1              ' / Detector mask used\\nNUM_APS =                    1 / Number of apertures in use in the obser\\nINITBINX=                    1 / Initial binning in X coordinate\\nINITBINY=                    1 / Initial binning in Y coordinate\\nSPECBINX=                    1 / Current binning in X coordinate\\nSPECBINY=                    1 / Current binning in Y coordinate\\nSIA_TBL = '                  ' / SIA Table name\\nNUM_HIST=                    0 / Number of histograms in the observation\\nINT_CAL = '                  ' / Internal Calibration (STIM, NONE)\\nFPSPLIT =                    0 / Number of FP Split positions\\nFPASXPOS=              124.726 / [microns] FPA SiC X position\\nFPALXPOS=              175.374 / [microns] FPA LiF X position\\nFPASZPOS=              61.1036 / [microns] FPA SiC Z position\\nFPALZPOS=              145.009 / [microns] FPA LiF Z position\\nMIRL1FOC=             0.000000 / [microns] LiF 1 mirror position\\nMIRL2FOC=             0.000000 / [microns] LiF 2 mirror position\\nMIRS1FOC=             0.000000 / [microns] SiC 1 mirror position\\nMIRS2FOC=             0.000000 / [microns] SiC 2 mirror position\\nTTPERIOD=                  1.0 / [s] Time marker insertion period\\nENGSNAPT=                  300 / [s] Engineering snapshot period\\nTACQSEQ = 'ACQ-T-NOPKUP      ' / Target acquisition sequence\\nROLLOFF =                  0.0 / [Deg] Roll offset\\nFES_BIN =                    1 / FES binning factor (1;2;4;8)\\nFES_FILT= 'CLR               ' / FES filter wheel position: CLR=Clear, C\\nFES_TPOS= 'IN                ' / FES target position: IN or OUT\\n\\n              DETECTOR HV BIAS RANGES\\n\\nDET1HVAL=                  154 / Det1 MCP A HV bias minimum setting\\nDET1HVAH=                  154 / Det1 MCP A HV bias maximum setting\\nDET1HVBL=                  150 / Det1 MCP B HV bias minimum setting\\nDET1HVBH=                  150 / Det1 MCP B HV bias maximum setting\\nDET2HVAL=                  148 / Det2 MCP A HV bias minimum setting\\nDET2HVAH=                  148 / Det2 MCP A HV bias maximum setting\\nDET2HVBL=                  118 / Det2 MCP B HV bias minimum setting\\nDET2HVBH=                  118 / Det2 MCP B HV bias maximum setting\\nHV_FLAG =                    4 / Detector voltage full throughout exposu\\n\\n              ORBITAL EPHEMERIS\\n\\nEPCHTIMD=               52422. / Epoch time of parameters whole day (MJD\\nEPCHTIMF=    0.901110380000318 / Epoch time of parameters fraction of da\\nINCLINAT=              24.9863 / [deg] Inclination\\nECCENTRY=            0.0011269 / Eccentricity\\nMEANANOM=             149.3088 / [deg] Mean anomaly\\nARGPERIG=             210.6845 / [deg] Argument of perigee\\nRASCASCN=             275.9625 / [deg] RA of ascending node\\nSEMIMAJR=     7133.56428875908 / [km] Semi-major axis\\nMEANMOTN=          14.40930136 / [revs/day] Mean motion\\nFDM2COEF=            1.229E-05 / First time derivative of mean motion /\\nSDM6COEF=                   0. / Second time derivative of mean motion /\\nDRAGCOEF=           0.00032134 / B star drag coefficient\\nPROPMODL= 'SGP4    '           / Propagation model\\n\\n              SCIENCE DATA PROCESSING STEPS\\n\\nINIT_COR= 'COMPLETE'           / Initialize processing\\nDIGI_COR= 'COMPLETE'           / Check digitizer values\\nIDS__COR= 'COMPLETE'           / IDS dead-time correction\\nELEC_COR= 'COMPLETE'           / Detector dead-time correction\\nDEAD_COR= 'COMPLETE'           / Apply dead-time correction\\nTHRM_COR= 'COMPLETE'           / Thermal distortion correction\\nRATE_COR= 'COMPLETE'           / Count-rate Y distortion\\nGEOM_COR= 'COMPLETE'           / Geometric distortion\\nPHAX_COR= 'COMPLETE'           / Low pulse-height X distortion (walk)\\nACTV_COR= 'COMPLETE'           / Define detector active region\\nLIMB_COR= 'COMPLETE'           / Limb-angle screening\\nSAA__COR= 'COMPLETE'           / SAA screening\\nVOLT_COR= 'COMPLETE'           / Confirm detector voltage\\nFIFO_COR= 'COMPLETE'           / Exclude FIFO overflows\\nBRST_COR= 'COMPLETE'           / Screen for bursts\\nUGTI_COR= 'COMPLETE'           / Set user good-time intervals\\nFLAG_COR= 'COMPLETE'           / Set individual photon flags\\nGTI__COR= 'COMPLETE'           / Determine good-time intervals\\nTIME_COR= 'OMIT    '           / Modify photon arrival times\\nPHA__COR= 'COMPLETE'           / Pulse-height screening\\nFIND_COR= 'COMPLETE'           / Find spectra on detector\\nYMOT_COR= 'COMPLETE'           / Track motion of Y centroid\\nGRAT_COR= 'COMPLETE'           / Grating motion correction\\nFPA__COR= 'COMPLETE'           / FPA offset correction\\nMIRR_COR= 'COMPLETE'           / Mirror motion correction\\nJITR_COR= 'COMPLETE'           / Satellite jitter correction\\nYCNT_COR= 'COMPLETE'           / Y centroid of corrected data\\nCHID_COR= 'COMPLETE'           / Final channel assignment\\nTCRT_COR= 'COMPLETE'           / Calculate target count rate\\nASTG_COR= 'COMPLETE'           / Astigmatism correction\\nWAVE_COR= 'COMPLETE'           / Assign wavelength to photons\\nDOPP_COR= 'COMPLETE'           / Heliocentric reference frame\\nFLAT_COR= 'OMIT    '           / Flat-field correction\\nFLUX_COR= 'COMPLETE'           / Flux-calibrate each photon\\nQUIK_COR= 'INITIAL           ' / Quick-look spectrum for exposure\\nCOMB_COR= 'PERFORM '           / Quick-look spectrum for observation\\n\\n              SCIENCE DATA PROCESSING CALIBRATION FILES\\n\\nAEFF1CAL= 'aeff2a109.fit     ' / Affective-area curve #1\\nAEFF2CAL= 'aeff2a110.fit     ' / Affective-area curve #2\\nAIRG_CAL= 'airg2a004.fit     ' / Geocoronal line locations\\nASTG_CAL= 'astg2a011.fit     ' / Astigmatism correction\\nBCHR_CAL= 'bchr2a003.fit     ' / Background characteristics\\nBKGD_CAL= 'bkgd2a015.fit     ' / Background/scattered-light model\\nBPM_CAL = 'C09201012acmbdfbpm.fit' / Bad-pixel map for this exposure\\nCHID_CAL= 'chid2a014.fit     ' / Windows for spectral extraction\\nDIGI_CAL= 'digi001.fit       ' / Reference file for digitizer values\\nELEC_CAL= 'elec005.fit       ' / Detector parameters\\nFLAT1CAL= '        '           / Flat-field correction #1\\nFLAT2CAL= '        '           / Flat-field correction #2\\nGEOM_CAL= 'geom2a016.fit     ' / X and Y geometric corrections\\nGRAT_CAL= 'grat005.fit       ' / Grating motions\\nHSKP_CAL= 'C0920101001hskpf.fit' / Housekeeping data\\nJITR_CAL= 'C0920101001jitrf.fit' / Spacecraft jitter data\\nMIRR_CAL= 'mirr002.fit       ' / Mirror motions\\nPARM_CAL= 'parm2a015.fit     ' / Master parameter file\\nPHAX_CAL= 'phax2a005.fit     ' / Low-pulse-height X distortion\\nQUAL_CAL= 'qual2a020.fit     ' / Quality flag (bad pixel) map\\nRATE_CAL= 'rate2a002.fit     ' / Y stretch with count rate\\nSAAC_CAL= 'saac004.fit       ' / SAA contours for data screening\\nSCRN_CAL= 'scrn2a015.fit     ' / Parameters for data screening\\nSPEC_CAL= 'spec002.fit       ' / Spectrograph parameters\\nVOLT_CAL= 'volt2a009.fit     ' / Detector bias voltages and dates\\nWAVE_CAL= 'wave2a023.fit     ' / Wavelength calibration\\nWGTS_CAL= 'wgts2a011.fit     ' / Pixel weights for extraction\\nWORM1CAL= '        '           / Worm correction #1\\nWORM2CAL= '        '           / Worm correction #2\\n\\n              SCIENCE DATA PROCESSING KEYWORDS\\n\\nOPUSVERS= '2.7               ' / FUSE OPUS version number\\nCF_VERS = '3.2.0   '           / CALFUSE pipeline version number\\nHKEXISTS= 'yes               ' / Housekeeping data file exists\\nDAYNIGHT= 'BOTH    '           / Use only DAY, NIGHT, or BOTH\\nPHALOW  =                    3 / Pulse height screening low limit\\nPHAHIGH =                   23 / Pulse height screening high limit\\nOPT_EXTR=                    5 / Number of optimal extraction iterations\\nSTIM_L_X=             244.7213 / X centroid of left stim pulse\\nSTIM_L_Y=             618.8038 / Y centroid of left stim pulse\\nSTIM_R_X=             16122.08 / X centroid of right stim pulse\\nSTIM_R_Y=             627.0447 / Y centroid of right stim pulse\\nFPADXLIF=         -0.006667671 / [pixels] Correction for FPA position (L\\nFPADXSIC=             7.759192 / [pixels] Correction for FPA position (S\\nWPC     =                0.013 / [A] Wavelength increment per pixel\\nW0      =             1085.003 / [A] Wavelength of first pixel\\nDET_DEAD=             1.000734 / Mean detector deadtime correction facto\\nIDS_DEAD=                   1. / Mean IDS deadtime correction factor\\nTOT_DEAD=             1.000734 / TOTAL deadtime correction factor\\n\\n              MEASURED SPECTRAL CENTROIDS\\n\\nYCENT1  =             697.2563 / [pixels] Y centroid of LIF HIRS spectru\\nYCENT2  =             578.3564 / [pixels] Y centroid of LIF MDRS spectru\\nYCENT3  =            815.29694 / [pixels] Y centroid of LIF LWRS spectru\\nCOMMENT /23.4.2007: (YCENT3,YQUAL3) was (815.72440,HIGH), ycent_mode=0\\nYCENT5  =             298.5922 / [pixels] Y centroid of SIC HIRS spectru\\nYCENT6  =             189.8922 / [pixels] Y centroid of SIC MDRS spectru\\nYCENT7  =            422.10390 / [pixels] Y centroid of SIC LWRS spectru\\nCOMMENT /23.4.2007: (YCENT7,YQUAL7) was (423.67030,HIGH), ycent_mode=0\\nYQUAL1  = 'MEDIUM  '           / Quality of Y centroid value (LIF HIRS)\\nYQUAL2  = 'MEDIUM  '           / Quality of Y centroid value (LIF MDRS)\\nYQUAL3  = 'HIGH    '           / Quality of Y centroid value (LIF LWRS)\\nYQUAL5  = 'MEDIUM  '           / Quality of Y centroid value (SIC HIRS)\\nYQUAL6  = 'MEDIUM  '           / Quality of Y centroid value (SIC MDRS)\\nYQUAL7  = 'HIGH    '           / Quality of Y centroid value (SIC LWRS)\\nYGEO_LIF=             0.000000 / [pixels] YCENT of geocoronal lines in t\\nYGEO_SIC=             0.000000 / [pixels] YCENT of geocoronal lines in t\\n\\n              BACKGROUND SAMPLE REGIONS\\n\\nBKGD_NUM=                    3 / Number of background regions specified\\nBKG_MIN0=                   82 / [pixels] bkgd sample region 0 - lower l\\nBKG_MIN1=                  500 / [pixels] bkgd sample region 1 - lower l\\nBKG_MIN2=                  890 / [pixels] bkgd sample region 2 - lower l\\nBKG_MIN3=                    0 / [pixels] bkgd sample region 3 - lower l\\nBKG_MIN4=                    0 / [pixels] bkgd sample region 4 - lower l\\nBKG_MIN5=                    0 / [pixels] bkgd sample region 5 - lower l\\nBKG_MIN6=                    0 / [pixels] bkgd sample region 6 - lower l\\nBKG_MIN7=                    0 / [pixels] bkgd sample region 7 - lower l\\nBKG_MAX0=                  335 / [pixels] bkgd sample region 0 - upper l\\nBKG_MAX1=                  720 / [pixels] bkgd sample region 1 - upper l\\nBKG_MAX2=                  905 / [pixels] bkgd sample region 2 - upper l\\nBKG_MAX3=                    0 / [pixels] bkgd sample region 3 - upper l\\nBKG_MAX4=                    0 / [pixels] bkgd sample region 4 - upper l\\nBKG_MAX5=                    0 / [pixels] bkgd sample region 5 - upper l\\nBKG_MAX6=                    0 / [pixels] bkgd sample region 6 - upper l\\nBKG_MAX7=                    0 / [pixels] bkgd sample region 7 - upper l\\n\\n              ENGINEERING KEYWORDS\\n\\nTHERMCON= 'ON                ' / Thermal control flag\\nFESSRC  = 'FES A             ' / Source of FES dump data\\nFESCENT = 'FES A             ' / Source of FES centroid data\\nGMODE   = 'IDENTIFIED_TRACKING ' / Guidance mode\\nTRACKON = 'OFF               ' / Guide star tracking on\\nATCMDATT= 'AT COMMANDED ATTITUD    ' / At commanded attitude\\n\\n              Segment 2A Counters\\n\\nC2ASIC_B=             16332891 / SIC counter at beginning of integration\\nC2ASIC_E=             16335997 / SIC counter at end of integration\\nC2ALIF_B=             11354220 / LIF counter at beginning of integration\\nC2ALIF_E=             11368185 / LIF counter at end of integration\\nC2ADE_B =              6260058 / Digitized events counter at beginning o\\nC2ADE_E =              6291429 / Digitized events counter at end of inte\\nC2AAS_B =             10316048 / Autonomous shutdown (SAA) counter at be\\nC2AAS_E =             10316568 / Autonomous shutdown (SAA) counter at en\\nC2AFE_B =             13301686 / Fast event counter at beginning of inte\\nC2AFE_E =             13335259 / Fast event counter at end of integratio\\nC2AFE_CR=            54.413292 / Count rate from fast event counter\\n\\n              Active Image Counters\\n\\nCTIME_B =   5.242297016204E+04 / [MJD] Time of first engineering snapsho\\nCTIME_E =   5.242297730324E+04 / [MJD] Time of last engineering snapshot\\nC1AAI_B =             14689043 / Seg 1A at beginning\\nC1AAI_E =             14721134 / Seg 1A at end of integration\\nC1BAI_B =             14375772 / Seg 1B at beginning\\nC1BAI_E =             14400396 / Seg 1B at end of integration\\nC2AAI_B =              6223366 / Seg 2A at beginning\\nC2AAI_E =              6254737 / Seg 2A at end of integration\\nC2BAI_B =              9817492 / Seg 2B at beginning\\nC2BAI_E =              9843853 / Seg 2B at end of integration\\n\\n              Detector 2 parameters\\n\\nDET2ETMP=              23.9537 / DET2 electronics temperature\\nDET2PTMP=              18.1919 / DET2 Baseplate temperature\\nDET2ASCL=                 65.0 / DET2 segment A  Time (X) image scale fa\\nDET2BSCL=                 78.0 / DET2 segment B  Time (X) image scale fa\\nDET2AXOF=                108.0 / DET2 segment A  Time (X) image position\\nDET2BXOF=                 80.0 / DET2 segment B  Time (X) image position\\nDET2TEMP=              17.9842 / DET2 Detector temperature\\nDET2HVMT=              23.7661 / DET2 High Voltage Module temperature\\nDET2HVFT=              20.5619 / DET2 High Voltage Filter temperature\\nDET2AMAT=              26.7594 / DET2 segment A Amplifier temperature\\nDET2AMBT=              26.7594 / DET2 segment B Amplifier temperature\\nDET2TDAT=            19.932251 / DET2 TDC A  temperature\\nDET2TDBT=              20.5619 / DET2 TDC B  temperature\\nDET2HVA =                 44.0 / DET2 MCP A Bias Current\\nDET2HVB =                 38.0 / DET2 MCP B Bias Current\\nDET2AUCT=                228.0 / DET2 TDC-A Upper Charge Threshold setti\\nDET2BUCT=                228.0 / DET2 TDC-B Upper Charge Threshold setti\\nDET2ABWK=                113.0 / DET2 TDC-A Begin CFD Walk setting\\nDET2BBWK=                111.0 / DET2 TDC-B Begin CFD Walk setting\\nDET2AEWK=                114.0 / DET2 TDC-A End CFD Walk setting\\nDET2BEWK=                112.0 / DET2 TDC-B End CFD Walk setting\\nDET2ABSL=                228.0 / DET2 TDC-A charge Baseline threshold se\\nDET2BBSL=                228.0 / DET2 TDC-B charge Baseline threshold se\\nDET2ALCT=                  7.0 / DET2 TDC-A Lower Charge Threshold setti\\nDET2BLCT=                  7.0 / DET2 TDC-B Lower Charge Threshold setti\\nDET2ALTT=                159.0 / DET2 TDC-A Lower Time Threshold setting\\nDET2BLTT=                149.0 / DET2 TDC-B Lower Time Threshold setting\\nDET2HVGR=                  1.0 / DET2 Grid High Voltage Status\\nDET2HVPW=                  1.0 / DET2 Bias High Voltage Status\\nDET2STIM= 'OFF               ' / DET2 Stimulation Lamp Status\\n\\n              ARCHIVE SEARCH KEYWORDS\\n\\nBANDWID =             99.99597 / [Angstroms] Bandwidth of the data\\nCENTRWV =             1135.001 / [Angstroms] Central wavelength of the d\\nWAVEMIN =             1085.003 / [Angstroms] Minimum wavelength of the d\\nWAVEMAX =             1184.999 / [Angstroms] Maximum wavelength of the d\\nPLATESC =              -0.6335 / [arcsec/pixel] Plate scale\\n\\n              ASSOCIATION KEYWORDS\\n\\nASN_ID  = 'C0920101000       ' / Unique identifier assigned to associati\\nASN_TAB = 'C0920101000asn.fit  ' / Name of the association table\\nASN_MTYP= 'EXPOSURE          ' / Role of the exposure in the association\\nTMXY_COR= 'COMPLETE'\\nPHAH_COR= 'OMIT    '\\nAPER_COR= 'COMPLETE'\\nAIRG_COR= 'COMPLETE'\\nBPIX_COR= 'COMPLETE'\\nPHAH_CAL= 'phah2a001.fit     '\\nTMXY_CAL= 'tmxy2a002.fit     '\\nSTIM_CAL= 'stim2a001.fit     '\\nPOLEANGL=     25.6639847693031\\nORBPERID=                5992. / [s] Estimate of orbital period\\nBRITLIMB=                  15.\\nDARKLIMB=                  10.\\nNSPEC   =                   34\\nHISTORY  COMBINED WITH IDF_COMBINE\\nSPEC001 = 'C09201010012attagfidf.fit'\\nWOFFL001=                   0. / [Angstroms] Shift applied to LiF spectr\\nWOFFS001=                   0. / [Angstroms] Shift applied to SiC spectr\\nSPEC002 = 'C09201010022attagfidf.fit'\\nWOFFL002=                   0. / [Angstroms] Shift applied to LiF spectr\\nWOFFS002=                   0. / [Angstroms] Shift applied to SiC spectr\\nSPEC003 = 'C09201010032attagfidf.fit'\\nWOFFL003=                   0. / [Angstroms] Shift applied to LiF spectr\\nWOFFS003=                   0. / [Angstroms] Shift applied to SiC spectr\\nSPEC004 = 'C09201010042attagfidf.fit'\\nWOFFL004=                   0. / [Angstroms] Shift applied to LiF spectr\\nWOFFS004=                   0. / [Angstroms] Shift applied to SiC spectr\\nSPEC005 = 'C09201010052attagfidf.fit'\\nWOFFL005=                   0. / [Angstroms] Shift applied to LiF spectr\\nWOFFS005=                   0. / [Angstroms] Shift applied to SiC spectr\\nSPEC006 = 'C09201010062attagfidf.fit'\\nWOFFL006=                   0. / [Angstroms] Shift applied to LiF spectr\\nWOFFS006=                   0. / [Angstroms] Shift applied to SiC spectr\\nSPEC007 = 'C09201010072attagfidf.fit'\\nWOFFL007=                   0. / [Angstroms] Shift applied to LiF spectr\\nWOFFS007=                   0. / [Angstroms] Shift applied to SiC spectr\\nSPEC008 = 'C09201010082attagfidf.fit'\\nWOFFL008=                   0. / [Angstroms] Shift applied to LiF spectr\\nWOFFS008=                   0. / [Angstroms] Shift applied to SiC spectr\\nSPEC009 = 'C09201010092attagfidf.fit'\\nWOFFL009=                   0. / [Angstroms] Shift applied to LiF spectr\\nWOFFS009=                   0. / [Angstroms] Shift applied to SiC spectr\\nSPEC010 = 'C09201010102attagfidf.fit'\\nWOFFL010=                   0. / [Angstroms] Shift applied to LiF spectr\\nWOFFS010=                   0. / [Angstroms] Shift applied to SiC spectr\\nSPEC011 = 'C09201010112attagfidf.fit'\\nWOFFL011=                   0. / [Angstroms] Shift applied to LiF spectr\\nWOFFS011=                   0. / [Angstroms] Shift applied to SiC spectr\\nSPEC012 = 'C09201010122attagfidf.fit'\\nWOFFL012=                   0. / [Angstroms] Shift applied to LiF spectr\\nWOFFS012=                   0. / [Angstroms] Shift applied to SiC spectr\\nSPEC013 = 'C09201010132attagfidf.fit'\\nWOFFL013=                   0. / [Angstroms] Shift applied to LiF spectr\\nWOFFS013=                   0. / [Angstroms] Shift applied to SiC spectr\\nSPEC014 = 'C09201010142attagfidf.fit'\\nWOFFL014=                   0. / [Angstroms] Shift applied to LiF spectr\\nWOFFS014=                   0. / [Angstroms] Shift applied to SiC spectr\\nSPEC015 = 'C09201010152attagfidf.fit'\\nWOFFL015=                   0. / [Angstroms] Shift applied to LiF spectr\\nWOFFS015=                   0. / [Angstroms] Shift applied to SiC spectr\\nSPEC016 = 'C09201010162attagfidf.fit'\\nWOFFL016=                   0. / [Angstroms] Shift applied to LiF spectr\\nWOFFS016=                   0. / [Angstroms] Shift applied to SiC spectr\\nSPEC017 = 'C09201010172attagfidf.fit'\\nWOFFL017=                   0. / [Angstroms] Shift applied to LiF spectr\\nWOFFS017=                   0. / [Angstroms] Shift applied to SiC spectr\\nSPEC018 = 'C09201010182attagfidf.fit'\\nWOFFL018=                   0. / [Angstroms] Shift applied to LiF spectr\\nWOFFS018=                   0. / [Angstroms] Shift applied to SiC spectr\\nSPEC019 = 'C09201010192attagfidf.fit'\\nWOFFL019=                   0. / [Angstroms] Shift applied to LiF spectr\\nWOFFS019=                   0. / [Angstroms] Shift applied to SiC spectr\\nSPEC020 = 'C09201010202attagfidf.fit'\\nWOFFL020=                   0. / [Angstroms] Shift applied to LiF spectr\\nWOFFS020=                   0. / [Angstroms] Shift applied to SiC spectr\\nSPEC021 = 'C09201010212attagfidf.fit'\\nWOFFL021=                   0. / [Angstroms] Shift applied to LiF spectr\\nWOFFS021=                   0. / [Angstroms] Shift applied to SiC spectr\\nSPEC022 = 'C09201010222attagfidf.fit'\\nWOFFL022=                   0. / [Angstroms] Shift applied to LiF spectr\\nWOFFS022=                   0. / [Angstroms] Shift applied to SiC spectr\\nSPEC023 = 'C09201010232attagfidf.fit'\\nWOFFL023=                   0. / [Angstroms] Shift applied to LiF spectr\\nWOFFS023=                   0. / [Angstroms] Shift applied to SiC spectr\\nSPEC024 = 'C09201010242attagfidf.fit'\\nWOFFL024=                   0. / [Angstroms] Shift applied to LiF spectr\\nWOFFS024=                   0. / [Angstroms] Shift applied to SiC spectr\\nSPEC025 = 'C09201010252attagfidf.fit'\\nWOFFL025=                   0. / [Angstroms] Shift applied to LiF spectr\\nWOFFS025=                   0. / [Angstroms] Shift applied to SiC spectr\\nSPEC026 = 'C09201010262attagfidf.fit'\\nWOFFL026=                   0. / [Angstroms] Shift applied to LiF spectr\\nWOFFS026=                   0. / [Angstroms] Shift applied to SiC spectr\\nSPEC027 = 'C09201010272attagfidf.fit'\\nWOFFL027=                   0. / [Angstroms] Shift applied to LiF spectr\\nWOFFS027=                   0. / [Angstroms] Shift applied to SiC spectr\\nSPEC028 = 'C09201010282attagfidf.fit'\\nWOFFL028=                   0. / [Angstroms] Shift applied to LiF spectr\\nWOFFS028=                   0. / [Angstroms] Shift applied to SiC spectr\\nSPEC029 = 'C09201010292attagfidf.fit'\\nWOFFL029=                   0. / [Angstroms] Shift applied to LiF spectr\\nWOFFS029=                   0. / [Angstroms] Shift applied to SiC spectr\\nSPEC030 = 'C09201010302attagfidf.fit'\\nWOFFL030=                   0. / [Angstroms] Shift applied to LiF spectr\\nWOFFS030=                   0. / [Angstroms] Shift applied to SiC spectr\\nSPEC031 = 'C09201010312attagfidf.fit'\\nWOFFL031=                   0. / [Angstroms] Shift applied to LiF spectr\\nWOFFS031=                   0. / [Angstroms] Shift applied to SiC spectr\\nSPEC032 = 'C09201010322attagfidf.fit'\\nWOFFL032=                   0. / [Angstroms] Shift applied to LiF spectr\\nWOFFS032=                   0. / [Angstroms] Shift applied to SiC spectr\\nSPEC033 = 'C09201010332attagfidf.fit'\\nWOFFL033=                   0. / [Angstroms] Shift applied to LiF spectr\\nWOFFS033=                   0. / [Angstroms] Shift applied to SiC spectr\\nSPEC034 = 'C09201010342attagfidf.fit'\\nWOFFL034=                   0. / [Angstroms] Shift applied to LiF spectr\\nWOFFS034=                   0. / [Angstroms] Shift applied to SiC spectr\\nEND\\n\""
      ]
     },
     "execution_count": 50,
     "metadata": {},
     "output_type": "execute_result"
    }
   ],
   "source": [
    "tmp"
   ]
  },
  {
   "cell_type": "code",
   "execution_count": 49,
   "metadata": {
    "collapsed": false
   },
   "outputs": [
    {
     "data": {
      "text/plain": [
       "'SIMPLE  =                    T / Data conforms to FITS standard'"
      ]
     },
     "execution_count": 49,
     "metadata": {},
     "output_type": "execute_result"
    }
   ],
   "source": [
    "fuse.header['HISTORY'][0]"
   ]
  },
  {
   "cell_type": "code",
   "execution_count": 55,
   "metadata": {
    "collapsed": false
   },
   "outputs": [
    {
     "data": {
      "text/plain": [
       "              DATA DESCRIPTION KEYWORDS                                         "
      ]
     },
     "execution_count": 55,
     "metadata": {},
     "output_type": "execute_result"
    }
   ],
   "source": [
    "hist = Header.fromstring(fuse.header['HISTORY'][8])\n",
    "hist"
   ]
  },
  {
   "cell_type": "code",
   "execution_count": 56,
   "metadata": {
    "collapsed": false
   },
   "outputs": [
    {
     "data": {
      "text/plain": [
       "['']"
      ]
     },
     "execution_count": 56,
     "metadata": {},
     "output_type": "execute_result"
    }
   ],
   "source": [
    "hist.keys()"
   ]
  },
  {
   "cell_type": "code",
   "execution_count": null,
   "metadata": {
    "collapsed": true
   },
   "outputs": [],
   "source": []
  }
 ],
 "metadata": {
  "kernelspec": {
   "display_name": "Python 2",
   "language": "python",
   "name": "python2"
  },
  "language_info": {
   "codemirror_mode": {
    "name": "ipython",
    "version": 2
   },
   "file_extension": ".py",
   "mimetype": "text/x-python",
   "name": "python",
   "nbconvert_exporter": "python",
   "pygments_lexer": "ipython2",
   "version": "2.7.11"
  }
 },
 "nbformat": 4,
 "nbformat_minor": 0
}
