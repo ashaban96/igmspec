{
 "cells": [
  {
   "cell_type": "markdown",
   "metadata": {},
   "source": [
    "# 2QZ [v1.1]"
   ]
  },
  {
   "cell_type": "code",
   "execution_count": 1,
   "metadata": {
    "collapsed": true
   },
   "outputs": [],
   "source": [
    "# imports"
   ]
  },
  {
   "cell_type": "markdown",
   "metadata": {},
   "source": [
    "## Data\n",
    "    Used this website (on Croom recommendation):  http://www.2dfquasar.org/Spec_Cat/2qzsearch2.html\n",
    "    Restricted to zmin>0.05"
   ]
  },
  {
   "cell_type": "markdown",
   "metadata": {},
   "source": [
    "## Catalog\n",
    "\n",
    "    See file:///Users/xavier/Raw_IGMspec/2dF/2df/html/catalogue.html"
   ]
  },
  {
   "cell_type": "code",
   "execution_count": 1,
   "metadata": {
    "collapsed": true
   },
   "outputs": [],
   "source": [
    "#catfil = os.getenv('RAW_IGMSPEC')+'/2dF/2df/cat/2QZ_6QZ_pubcat.txt'\n",
    "catfil = os.getenv('RAW_IGMSPEC')+'/2dF/2QZ393524355693.out'"
   ]
  },
  {
   "cell_type": "code",
   "execution_count": 2,
   "metadata": {
    "collapsed": false
   },
   "outputs": [],
   "source": [
    "cat = Table.read(catfil,format='ascii')"
   ]
  },
  {
   "cell_type": "code",
   "execution_count": 3,
   "metadata": {
    "collapsed": false
   },
   "outputs": [
    {
     "data": {
      "text/html": [
       "&lt;Table length=3&gt;\n",
       "<table id=\"table4556544912\">\n",
       "<thead><tr><th>col1</th><th>col2</th><th>col3</th><th>col4</th><th>col5</th><th>col6</th><th>col7</th><th>col8</th><th>col9</th><th>col10</th><th>col11</th><th>col12</th><th>col13</th><th>col14</th><th>col15</th><th>col16</th><th>col17</th><th>col18</th><th>col19</th><th>col20</th><th>col21</th><th>col22</th><th>col23</th><th>col24</th><th>col25</th><th>col26</th><th>col27</th><th>col28</th><th>col29</th><th>col30</th><th>col31</th><th>col32</th><th>col33</th><th>col34</th><th>col35</th><th>col36</th><th>col37</th><th>col38</th><th>col39</th><th>col40</th><th>col41</th><th>col42</th><th>col43</th><th>col44</th><th>col45</th></tr></thead>\n",
       "<thead><tr><th>str16</th><th>int64</th><th>int64</th><th>float64</th><th>int64</th><th>int64</th><th>float64</th><th>int64</th><th>str10</th><th>str25</th><th>int64</th><th>int64</th><th>float64</th><th>int64</th><th>int64</th><th>float64</th><th>int64</th><th>float64</th><th>float64</th><th>float64</th><th>float64</th><th>float64</th><th>float64</th><th>float64</th><th>int64</th><th>float64</th><th>int64</th><th>str9</th><th>int64</th><th>float64</th><th>int64</th><th>float64</th><th>float64</th><th>int64</th><th>str9</th><th>float64</th><th>float64</th><th>int64</th><th>float64</th><th>float64</th><th>float64</th><th>float64</th><th>float64</th><th>str20</th><th>str20</th></tr></thead>\n",
       "<tr><td>J120310.0-025755</td><td>12</td><td>3</td><td>10.09</td><td>-2</td><td>57</td><td>54.2</td><td>8573</td><td>TQN178_111</td><td>N_178_244</td><td>12</td><td>0</td><td>36.29</td><td>-2</td><td>41</td><td>12.8</td><td>859</td><td>-1051.86</td><td>17295.65</td><td>3.14423174</td><td>-0.04689506</td><td>20.224</td><td>-0.229</td><td>-0.612</td><td>3</td><td>0.9174</td><td>11</td><td>QSO</td><td>20010524</td><td>2441.0</td><td>168</td><td>3.89</td><td>0.9113</td><td>11</td><td>QSO</td><td>20000624.0</td><td>2441.0</td><td>167</td><td>0.41</td><td>0.0</td><td>0.0</td><td>0.0</td><td>0.02606</td><td>-</td><td>-</td></tr>\n",
       "<tr><td>J120427.0-025447</td><td>12</td><td>4</td><td>27.1</td><td>-2</td><td>54</td><td>46.7</td><td>8601</td><td>TQN178_114</td><td>N_178_179_244</td><td>12</td><td>1</td><td>53.29</td><td>-2</td><td>38</td><td>5.3</td><td>859</td><td>-3200.31</td><td>16946.83</td><td>3.14983133</td><td>-0.04598603</td><td>20.621</td><td>-0.634</td><td>1.112</td><td>3</td><td>0.3276</td><td>11</td><td>QSO</td><td>20010524</td><td>2441.0</td><td>184</td><td>5.97</td><td>0.0</td><td>33</td><td>??</td><td>20000624.0</td><td>2441.0</td><td>190</td><td>0.71</td><td>0.0</td><td>0.0</td><td>0.0</td><td>0.02662</td><td>-</td><td>-</td></tr>\n",
       "<tr><td>J120434.3-025032</td><td>12</td><td>4</td><td>34.32</td><td>-2</td><td>50</td><td>31.3</td><td>8631</td><td>TQN178_117</td><td>N_178_179_244</td><td>12</td><td>2</td><td>0.51</td><td>-2</td><td>33</td><td>49.9</td><td>859</td><td>-3402.12</td><td>16471.4</td><td>3.15035639</td><td>-0.04474782</td><td>20.798</td><td>-0.319</td><td>0.406</td><td>3</td><td>0.4312</td><td>11</td><td>NELG</td><td>20010524</td><td>2441.0</td><td>190</td><td>3.49</td><td>0.431</td><td>11</td><td>NELG</td><td>20000624.0</td><td>2441.0</td><td>189</td><td>0.26</td><td>0.0</td><td>0.0</td><td>0.0</td><td>0.02582</td><td>-</td><td>-</td></tr>\n",
       "</table>"
      ],
      "text/plain": [
       "<Table length=3>\n",
       "      col1        col2  col3   col4   col5 ...  col42   col43  col44 col45\n",
       "     str16       int64 int64 float64 int64 ... float64 float64 str20 str20\n",
       "---------------- ----- ----- ------- ----- ... ------- ------- ----- -----\n",
       "J120310.0-025755    12     3   10.09    -2 ...     0.0 0.02606     -     -\n",
       "J120427.0-025447    12     4    27.1    -2 ...     0.0 0.02662     -     -\n",
       "J120434.3-025032    12     4   34.32    -2 ...     0.0 0.02582     -     -"
      ]
     },
     "execution_count": 3,
     "metadata": {},
     "output_type": "execute_result"
    }
   ],
   "source": [
    "cat[0:3]"
   ]
  },
  {
   "cell_type": "markdown",
   "metadata": {},
   "source": [
    "### Rename columns"
   ]
  },
  {
   "cell_type": "code",
   "execution_count": 4,
   "metadata": {
    "collapsed": true
   },
   "outputs": [],
   "source": [
    "clms = ['Name', 'RAh00', 'RAm00', 'RAs00', 'DECd00', 'DECm00', 'DECs00',\n",
    "       'ID','cat_name', 'Sector', 'RAh50', 'RAm50', 'RAs50', 'DECd50', 'DECm50', 'DECs50',\n",
    "       'UKST', 'XAPM','YAPM','RA50','DEC50','bj','u-b','b-r','Nobs',\n",
    "       'z1','q1','ID1','date1','fld1','fiber1','SN1',\n",
    "       'z2','q2','ID2','date2','fld2','fiber2','SN2',\n",
    "        'zprev','rflux','Xray','EBV','comm1','comm2']"
   ]
  },
  {
   "cell_type": "code",
   "execution_count": 5,
   "metadata": {
    "collapsed": false
   },
   "outputs": [],
   "source": [
    "for ii in range(1,46):\n",
    "    cat.rename_column('col{:d}'.format(ii), clms[ii-1])"
   ]
  },
  {
   "cell_type": "code",
   "execution_count": 6,
   "metadata": {
    "collapsed": false
   },
   "outputs": [
    {
     "data": {
      "text/html": [
       "&lt;Table length=3&gt;\n",
       "<table id=\"table4748415120\">\n",
       "<thead><tr><th>Name</th><th>RAh00</th><th>RAm00</th><th>RAs00</th><th>DECd00</th><th>DECm00</th><th>DECs00</th><th>ID</th><th>cat_name</th><th>Sector</th><th>RAh50</th><th>RAm50</th><th>RAs50</th><th>DECd50</th><th>DECm50</th><th>DECs50</th><th>UKST</th><th>XAPM</th><th>YAPM</th><th>RA50</th><th>DEC50</th><th>bj</th><th>u-b</th><th>b-r</th><th>Nobs</th><th>z1</th><th>q1</th><th>ID1</th><th>date1</th><th>fld1</th><th>fiber1</th><th>SN1</th><th>z2</th><th>q2</th><th>ID2</th><th>date2</th><th>fld2</th><th>fiber2</th><th>SN2</th><th>zprev</th><th>rflux</th><th>Xray</th><th>EBV</th><th>comm1</th><th>comm2</th></tr></thead>\n",
       "<thead><tr><th>str16</th><th>int64</th><th>int64</th><th>float64</th><th>int64</th><th>int64</th><th>float64</th><th>int64</th><th>str10</th><th>str25</th><th>int64</th><th>int64</th><th>float64</th><th>int64</th><th>int64</th><th>float64</th><th>int64</th><th>float64</th><th>float64</th><th>float64</th><th>float64</th><th>float64</th><th>float64</th><th>float64</th><th>int64</th><th>float64</th><th>int64</th><th>str9</th><th>int64</th><th>float64</th><th>int64</th><th>float64</th><th>float64</th><th>int64</th><th>str9</th><th>float64</th><th>float64</th><th>int64</th><th>float64</th><th>float64</th><th>float64</th><th>float64</th><th>float64</th><th>str20</th><th>str20</th></tr></thead>\n",
       "<tr><td>J120310.0-025755</td><td>12</td><td>3</td><td>10.09</td><td>-2</td><td>57</td><td>54.2</td><td>8573</td><td>TQN178_111</td><td>N_178_244</td><td>12</td><td>0</td><td>36.29</td><td>-2</td><td>41</td><td>12.8</td><td>859</td><td>-1051.86</td><td>17295.65</td><td>3.14423174</td><td>-0.04689506</td><td>20.224</td><td>-0.229</td><td>-0.612</td><td>3</td><td>0.9174</td><td>11</td><td>QSO</td><td>20010524</td><td>2441.0</td><td>168</td><td>3.89</td><td>0.9113</td><td>11</td><td>QSO</td><td>20000624.0</td><td>2441.0</td><td>167</td><td>0.41</td><td>0.0</td><td>0.0</td><td>0.0</td><td>0.02606</td><td>-</td><td>-</td></tr>\n",
       "<tr><td>J120427.0-025447</td><td>12</td><td>4</td><td>27.1</td><td>-2</td><td>54</td><td>46.7</td><td>8601</td><td>TQN178_114</td><td>N_178_179_244</td><td>12</td><td>1</td><td>53.29</td><td>-2</td><td>38</td><td>5.3</td><td>859</td><td>-3200.31</td><td>16946.83</td><td>3.14983133</td><td>-0.04598603</td><td>20.621</td><td>-0.634</td><td>1.112</td><td>3</td><td>0.3276</td><td>11</td><td>QSO</td><td>20010524</td><td>2441.0</td><td>184</td><td>5.97</td><td>0.0</td><td>33</td><td>??</td><td>20000624.0</td><td>2441.0</td><td>190</td><td>0.71</td><td>0.0</td><td>0.0</td><td>0.0</td><td>0.02662</td><td>-</td><td>-</td></tr>\n",
       "<tr><td>J120434.3-025032</td><td>12</td><td>4</td><td>34.32</td><td>-2</td><td>50</td><td>31.3</td><td>8631</td><td>TQN178_117</td><td>N_178_179_244</td><td>12</td><td>2</td><td>0.51</td><td>-2</td><td>33</td><td>49.9</td><td>859</td><td>-3402.12</td><td>16471.4</td><td>3.15035639</td><td>-0.04474782</td><td>20.798</td><td>-0.319</td><td>0.406</td><td>3</td><td>0.4312</td><td>11</td><td>NELG</td><td>20010524</td><td>2441.0</td><td>190</td><td>3.49</td><td>0.431</td><td>11</td><td>NELG</td><td>20000624.0</td><td>2441.0</td><td>189</td><td>0.26</td><td>0.0</td><td>0.0</td><td>0.0</td><td>0.02582</td><td>-</td><td>-</td></tr>\n",
       "</table>"
      ],
      "text/plain": [
       "<Table length=3>\n",
       "      Name       RAh00 RAm00  RAs00  DECd00 ...   Xray    EBV   comm1 comm2\n",
       "     str16       int64 int64 float64 int64  ... float64 float64 str20 str20\n",
       "---------------- ----- ----- ------- ------ ... ------- ------- ----- -----\n",
       "J120310.0-025755    12     3   10.09     -2 ...     0.0 0.02606     -     -\n",
       "J120427.0-025447    12     4    27.1     -2 ...     0.0 0.02662     -     -\n",
       "J120434.3-025032    12     4   34.32     -2 ...     0.0 0.02582     -     -"
      ]
     },
     "execution_count": 6,
     "metadata": {},
     "output_type": "execute_result"
    }
   ],
   "source": [
    "cat[0:3]"
   ]
  },
  {
   "cell_type": "markdown",
   "metadata": {},
   "source": [
    "## FITS\n",
    "    Long or short?\n",
    "    Over-wrote CD files with those from the website\n",
    "    tar -xvf 2QZspec393524355693.tar"
   ]
  },
  {
   "cell_type": "code",
   "execution_count": 11,
   "metadata": {
    "collapsed": true
   },
   "outputs": [],
   "source": [
    "exfits = os.getenv('RAW_IGMSPEC')+'/2dF/2df/fits/ra12_13/J120310.0-025755a.fits.gz'"
   ]
  },
  {
   "cell_type": "code",
   "execution_count": 12,
   "metadata": {
    "collapsed": false
   },
   "outputs": [
    {
     "name": "stdout",
     "output_type": "stream",
     "text": [
      "Filename: /u/xavier/Raw_IGMspec/2dF/2df/fits/ra12_13/J120310.0-025755a.fits.gz\n",
      "No.    Name         Type      Cards   Dimensions   Format\n",
      "0    PRIMARY     PrimaryHDU      70   (1024,)      int16 (rescales to float32)   \n",
      "1    BADPIX      ImageHDU        15   (1024,)      uint8   \n",
      "2    VARIANCE    ImageHDU        17   (1024,)      int16 (rescales to float32)   \n"
     ]
    }
   ],
   "source": [
    "hdu = fits.open(exfits)\n",
    "hdu.info()"
   ]
  },
  {
   "cell_type": "markdown",
   "metadata": {
    "collapsed": true
   },
   "source": [
    "## Resolution"
   ]
  },
  {
   "cell_type": "markdown",
   "metadata": {},
   "source": [
    "### 2dF\n",
    "     arXiv:astro-ph/9804079"
   ]
  },
  {
   "cell_type": "code",
   "execution_count": 13,
   "metadata": {
    "collapsed": false
   },
   "outputs": [
    {
     "data": {
      "text/plain": [
       "581.3953488372093"
      ]
     },
     "execution_count": 13,
     "metadata": {},
     "output_type": "execute_result"
    }
   ],
   "source": [
    "R = 5000./8.6\n",
    "R"
   ]
  },
  {
   "cell_type": "markdown",
   "metadata": {},
   "source": [
    "### 6dF\n",
    "    Dead link:  https://www.aao.gov.au/ukst/6df.html\n",
    "    http://adsabs.harvard.edu/abs/2001MNRAS.322L..29C\n",
    "    "
   ]
  },
  {
   "cell_type": "markdown",
   "metadata": {},
   "source": [
    "## Time"
   ]
  },
  {
   "cell_type": "code",
   "execution_count": 15,
   "metadata": {
    "collapsed": true
   },
   "outputs": [],
   "source": [
    "from astropy.time import Time"
   ]
  },
  {
   "cell_type": "code",
   "execution_count": 20,
   "metadata": {
    "collapsed": false
   },
   "outputs": [
    {
     "data": {
      "text/plain": [
       "array(['2000-06-24'], \n",
       "      dtype='|S10')"
      ]
     },
     "execution_count": 20,
     "metadata": {},
     "output_type": "execute_result"
    }
   ],
   "source": [
    "t = Time(['2000-06-24'], format='iso',out_subfmt='date')  # Fixes to YYYY-MM-DD\n",
    "t.iso"
   ]
  },
  {
   "cell_type": "code",
   "execution_count": null,
   "metadata": {
    "collapsed": true
   },
   "outputs": [],
   "source": []
  }
 ],
 "metadata": {
  "kernelspec": {
   "display_name": "Python 2",
   "language": "python",
   "name": "python2"
  },
  "language_info": {
   "codemirror_mode": {
    "name": "ipython",
    "version": 2
   },
   "file_extension": ".py",
   "mimetype": "text/x-python",
   "name": "python",
   "nbconvert_exporter": "python",
   "pygments_lexer": "ipython2",
   "version": "2.7.11"
  }
 },
 "nbformat": 4,
 "nbformat_minor": 0
}
