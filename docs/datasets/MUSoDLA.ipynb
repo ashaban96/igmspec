{
 "cells": [
  {
   "cell_type": "markdown",
   "metadata": {},
   "source": [
    "# MUSoDLA dataset from Murphy&Jorgensen\n",
    "    http://adsabs.harvard.edu/abs/2013MNRAS.435..482J"
   ]
  },
  {
   "cell_type": "code",
   "execution_count": 11,
   "metadata": {
    "collapsed": true
   },
   "outputs": [],
   "source": [
    "# imports\n",
    "from astropy.table import Table\n",
    "\n",
    "from linetools.spectra import io as lsio"
   ]
  },
  {
   "cell_type": "markdown",
   "metadata": {},
   "source": [
    "## Catalog\n",
    "\n",
    "    Instrument key: 1=MagE, 2=XShooter, 3=UVES, 4=HIRES"
   ]
  },
  {
   "cell_type": "code",
   "execution_count": 2,
   "metadata": {
    "collapsed": true
   },
   "outputs": [],
   "source": [
    "catfil = os.getenv('RAW_IGMSPEC')+'/MUSoDLA/datatab.dat'"
   ]
  },
  {
   "cell_type": "code",
   "execution_count": 6,
   "metadata": {
    "collapsed": false
   },
   "outputs": [],
   "source": [
    "cat = Table.read(catfil,format='ascii')"
   ]
  },
  {
   "cell_type": "code",
   "execution_count": 7,
   "metadata": {
    "collapsed": false
   },
   "outputs": [
    {
     "data": {
      "text/html": [
       "&lt;Table length=3&gt;\n",
       "<table id=\"table4557587920\">\n",
       "<thead><tr><th>QSOname</th><th>RA(J2000)</th><th>DEC(J2000)</th><th>z_em</th><th>Instrum</th></tr></thead>\n",
       "<thead><tr><th>str10</th><th>str11</th><th>str11</th><th>float64</th><th>str3</th></tr></thead>\n",
       "<tr><td>J0011+1446</td><td>00:11:15.23</td><td>+14:46:01.8</td><td>4.9672</td><td>1</td></tr>\n",
       "<tr><td>J0013+1358</td><td>00:13:28.21</td><td>+13:58:27.9</td><td>3.5755</td><td>1</td></tr>\n",
       "<tr><td>J0035-0918</td><td>00:35:01.88</td><td>-09:18:17.6</td><td>2.4195</td><td>1,4</td></tr>\n",
       "</table>"
      ],
      "text/plain": [
       "<Table length=3>\n",
       " QSOname    RA(J2000)   DEC(J2000)   z_em  Instrum\n",
       "  str10       str11       str11    float64   str3 \n",
       "---------- ----------- ----------- ------- -------\n",
       "J0011+1446 00:11:15.23 +14:46:01.8  4.9672       1\n",
       "J0013+1358 00:13:28.21 +13:58:27.9  3.5755       1\n",
       "J0035-0918 00:35:01.88 -09:18:17.6  2.4195     1,4"
      ]
     },
     "execution_count": 7,
     "metadata": {},
     "output_type": "execute_result"
    }
   ],
   "source": [
    "cat[0:3]"
   ]
  },
  {
   "cell_type": "markdown",
   "metadata": {},
   "source": [
    "## Data"
   ]
  },
  {
   "cell_type": "code",
   "execution_count": 8,
   "metadata": {
    "collapsed": true
   },
   "outputs": [],
   "source": [
    "datfil = os.getenv('RAW_IGMSPEC')+'/MUSoDLA/data/J1111+1336_UVES.ascii'"
   ]
  },
  {
   "cell_type": "code",
   "execution_count": 12,
   "metadata": {
    "collapsed": false
   },
   "outputs": [
    {
     "name": "stderr",
     "output_type": "stream",
     "text": [
      "/Users/xavier/local/Python/linetools/linetools/spectra/io.py:92: UserWarning: No header found in ASCII file /u/xavier/Raw_IGMspec/MUSoDLA/data/J1111+1336_UVES.ascii, assuming columns to be: [u'WAVE', u'FLUX', u'ERROR', u'CONTINUUM']\n",
      "  warnings.warn('No header found in ASCII file {}, assuming columns to be: {}'.format(specfil, names[:len(tbl.colnames)]))\n",
      "/Users/xavier/local/Python/linetools/linetools/spectra/xspectrum1d.py:269: RuntimeWarning: invalid value encountered in greater\n",
      "  gdsigval = np.where(self.data['sig'][kk].data > 0.)[0]\n",
      "/Users/xavier/local/Python/linetools/linetools/spectra/xspectrum1d.py:270: RuntimeWarning: invalid value encountered in less_equal\n",
      "  badsigval = self.data['sig'][kk].data <= 0.\n"
     ]
    }
   ],
   "source": [
    "spec = lsio.readspec(datfil)"
   ]
  },
  {
   "cell_type": "code",
   "execution_count": 14,
   "metadata": {
    "collapsed": false
   },
   "outputs": [],
   "source": [
    "spec.plot()"
   ]
  },
  {
   "cell_type": "code",
   "execution_count": null,
   "metadata": {
    "collapsed": true
   },
   "outputs": [],
   "source": []
  }
 ],
 "metadata": {
  "kernelspec": {
   "display_name": "Python 2",
   "language": "python",
   "name": "python2"
  },
  "language_info": {
   "codemirror_mode": {
    "name": "ipython",
    "version": 2
   },
   "file_extension": ".py",
   "mimetype": "text/x-python",
   "name": "python",
   "nbconvert_exporter": "python",
   "pygments_lexer": "ipython2",
   "version": "2.7.11"
  }
 },
 "nbformat": 4,
 "nbformat_minor": 0
}
