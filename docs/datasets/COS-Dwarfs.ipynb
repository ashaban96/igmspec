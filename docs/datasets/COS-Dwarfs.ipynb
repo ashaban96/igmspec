{
 "cells": [
  {
   "cell_type": "markdown",
   "metadata": {},
   "source": [
    "# Ingesting COS-Dwarfs"
   ]
  },
  {
   "cell_type": "code",
   "execution_count": 1,
   "metadata": {
    "collapsed": false
   },
   "outputs": [],
   "source": [
    "# imports\n",
    "from pyigm.cgm.cos_halos import COSDwarfs"
   ]
  },
  {
   "cell_type": "markdown",
   "metadata": {},
   "source": [
    "## Load"
   ]
  },
  {
   "cell_type": "code",
   "execution_count": 2,
   "metadata": {
    "collapsed": false
   },
   "outputs": [
    {
     "name": "stderr",
     "output_type": "stream",
     "text": [
      "WARNING: UnitsWarning: The unit 'Angstrom' has been deprecated in the FITS standard. Suggested: 10**-1 nm. [astropy.units.format.utils]\n",
      "/Users/xavier/local/Python/linetools/linetools/lists/linelist.py:374: RuntimeWarning: divide by zero encountered in log10\n",
      "  self._data['log(w*f)'] = np.log10(qm_strength)\n",
      "/Users/xavier/anaconda/lib/python2.7/site-packages/numpy/ma/core.py:827: RuntimeWarning: invalid value encountered in less_equal\n",
      "  return umath.less_equal(x, self.critical_value)\n"
     ]
    },
    {
     "name": "stdout",
     "output_type": "stream",
     "text": [
      "Loading abundances from Asplund2009\n",
      "Abundances are relative by number on a logarithmic scale with H=12\n"
     ]
    },
    {
     "name": "stderr",
     "output_type": "stream",
     "text": [
      "/Users/xavier/anaconda/lib/python2.7/site-packages/astropy/table/column.py:1095: MaskedArrayFutureWarning: setting an item on a masked array which has a shared mask will not copy the mask and also change the original mask array in the future.\n",
      "Check the NumPy 1.11 release notes for more information.\n",
      "  ma.MaskedArray.__setitem__(self, index, value)\n"
     ]
    },
    {
     "name": "stdout",
     "output_type": "stream",
     "text": [
      "Be patient, using /Users/xavier/Dropbox/COS-Halos-Data//cos-dwarfs_systems.v1.1.tar.gz to load\n",
      "Skipping a likely folder: CGM_JSON\n"
     ]
    }
   ],
   "source": [
    "cosdwarfs = COSDwarfs()\n",
    "cosdwarfs.load_sys(tfile=cosdwarfs.cdir+'/cos-dwarfs_systems.v1.1.tar.gz', chk_lowz=False)\n"
   ]
  },
  {
   "cell_type": "code",
   "execution_count": 3,
   "metadata": {
    "collapsed": false
   },
   "outputs": [
    {
     "data": {
      "text/plain": [
       "array([u'J0042-1037_358_9', u'J0155-0857_329_403', u'J0212-0737_334_153',\n",
       "       u'J0242-0759_84_223', u'J0310-0049_124_197', u'J0809+4619_257_269',\n",
       "       u'J0820+2334_260_17', u'J0826+0742_69_79', u'J0843+4117_94_177',\n",
       "       u'J0912+2957_20_223', u'J0925+4535_227_334', u'J0929+4644_172_157',\n",
       "       u'J0946+4711_198_218', u'J0947+1005_135_580', u'J0949+3902_234_105',\n",
       "       u'J0959+0503_318_13', u'J1001+5944_87_608', u'J1022+0132_337_29',\n",
       "       u'J1059+1441_316_200', u'J1059+2517_247_92', u'J1103+4141_13_58',\n",
       "       u'J1104+3141_211_65', u'J1117+2634_114_210', u'J1121+0325_73_198',\n",
       "       u'J1122+5755_259_309', u'J1134+2555_358_76', u'J1207+2624_285_98',\n",
       "       u'J1210+3157_65_308', u'J1211+3657_312_196', u'J1236+2641_356_25',\n",
       "       u'J1327+4435_122_131', u'J1330+3119_70_57', u'J1342+0505_210_241',\n",
       "       u'J1342+1844_160_190', u'J1342+3829_322_238', u'J1356+2515_182_159',\n",
       "       u'J1357+1704_93_248', u'J1451+2709_184_526', u'J1521+0337_252_124',\n",
       "       u'J1545+0936_285_81', u'J1616+4154_327_30', u'PG1049-005_316_78',\n",
       "       u'PG1202+281_165_95'], \n",
       "      dtype='<U18')"
      ]
     },
     "execution_count": 3,
     "metadata": {},
     "output_type": "execute_result"
    }
   ],
   "source": [
    "cosdwarfs.name"
   ]
  },
  {
   "cell_type": "code",
   "execution_count": null,
   "metadata": {
    "collapsed": true
   },
   "outputs": [],
   "source": []
  }
 ],
 "metadata": {
  "kernelspec": {
   "display_name": "Python 2",
   "language": "python",
   "name": "python2"
  },
  "language_info": {
   "codemirror_mode": {
    "name": "ipython",
    "version": 2
   },
   "file_extension": ".py",
   "mimetype": "text/x-python",
   "name": "python",
   "nbconvert_exporter": "python",
   "pygments_lexer": "ipython2",
   "version": "2.7.11"
  }
 },
 "nbformat": 4,
 "nbformat_minor": 0
}
