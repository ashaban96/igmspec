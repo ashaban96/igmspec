{
 "cells": [
  {
   "cell_type": "markdown",
   "metadata": {},
   "source": [
    "# HST QSO Dataset used by Neeleman and Ribaduo"
   ]
  },
  {
   "cell_type": "code",
   "execution_count": 24,
   "metadata": {
    "collapsed": true
   },
   "outputs": [],
   "source": [
    "# imports\n",
    "import glob, os\n",
    "import pdb\n",
    "from shutil import copy\n",
    "\n",
    "from astropy.table import Table\n",
    "\n",
    "from linetools import utils as ltu"
   ]
  },
  {
   "cell_type": "markdown",
   "metadata": {},
   "source": [
    "## Summary file"
   ]
  },
  {
   "cell_type": "code",
   "execution_count": 22,
   "metadata": {
    "collapsed": true
   },
   "outputs": [],
   "source": [
    "dat_dir = summ_file = os.getenv('RAW_IGMSPEC')+'/HSTQSO/'"
   ]
  },
  {
   "cell_type": "code",
   "execution_count": 17,
   "metadata": {
    "collapsed": true
   },
   "outputs": [],
   "source": [
    "summ_file = os.getenv('RAW_IGMSPEC')+'/HSTQSO/hstqso.lst'"
   ]
  },
  {
   "cell_type": "code",
   "execution_count": 18,
   "metadata": {
    "collapsed": false
   },
   "outputs": [],
   "source": [
    "hstqso = Table.read(summ_file, format='ascii')"
   ]
  },
  {
   "cell_type": "code",
   "execution_count": 6,
   "metadata": {
    "collapsed": false
   },
   "outputs": [
    {
     "data": {
      "text/html": [
       "&lt;Table length=3&gt;\n",
       "<table id=\"table4607658448\">\n",
       "<thead><tr><th>QSO_NAME</th><th>QSO_ALT_NAME</th><th>RA</th><th>DEC</th><th>QSO_ZEM</th><th>INST</th><th>GRATE</th><th>PID</th><th>SPEC_FILE</th></tr></thead>\n",
       "<thead><tr><th>str10</th><th>str24</th><th>float64</th><th>float64</th><th>float64</th><th>str4</th><th>str17</th><th>str19</th><th>str23</th></tr></thead>\n",
       "<tr><td>J0000-1245</td><td>PHL2525</td><td>0.1017646</td><td>-12.76326</td><td>0.2</td><td>COS</td><td>G130M-G160M</td><td>12604</td><td>J0000-1245_COS.fits</td></tr>\n",
       "<tr><td>J0001+0709</td><td>0</td><td>0.4190833</td><td>7.1651722</td><td>3.234</td><td>STIS</td><td>G230L</td><td>8569</td><td>J0001+0709_STIS.fits</td></tr>\n",
       "<tr><td>J0004-4157</td><td>B0002-4214</td><td>1.2</td><td>-41.96</td><td>2.76</td><td>FOS</td><td>G270H</td><td>6577</td><td>B0002-4214_FOS-H.fits</td></tr>\n",
       "</table>"
      ],
      "text/plain": [
       "<Table length=3>\n",
       " QSO_NAME  QSO_ALT_NAME     RA    ...    GRATE     PID        SPEC_FILE      \n",
       "  str10       str24      float64  ...    str17    str19         str23        \n",
       "---------- ------------ --------- ... ----------- ----- ---------------------\n",
       "J0000-1245      PHL2525 0.1017646 ... G130M-G160M 12604   J0000-1245_COS.fits\n",
       "J0001+0709            0 0.4190833 ...       G230L  8569  J0001+0709_STIS.fits\n",
       "J0004-4157   B0002-4214       1.2 ...       G270H  6577 B0002-4214_FOS-H.fits"
      ]
     },
     "execution_count": 6,
     "metadata": {},
     "output_type": "execute_result"
    }
   ],
   "source": [
    "hstqso[0:3]"
   ]
  },
  {
   "cell_type": "markdown",
   "metadata": {},
   "source": [
    "## DATE-OBS"
   ]
  },
  {
   "cell_type": "code",
   "execution_count": 10,
   "metadata": {
    "collapsed": true
   },
   "outputs": [],
   "source": [
    "date_file = os.getenv('RAW_IGMSPEC')+'/HSTQSO/date_obs_fosh.txt'"
   ]
  },
  {
   "cell_type": "code",
   "execution_count": 11,
   "metadata": {
    "collapsed": true
   },
   "outputs": [],
   "source": [
    "date_fosh = Table.read(date_file, format='ascii')"
   ]
  },
  {
   "cell_type": "code",
   "execution_count": 12,
   "metadata": {
    "collapsed": false
   },
   "outputs": [
    {
     "data": {
      "text/html": [
       "&lt;Table length=3&gt;\n",
       "<table id=\"table4608097872\">\n",
       "<thead><tr><th>SPEC</th><th>GRATING</th><th>DATE-OBS</th></tr></thead>\n",
       "<thead><tr><th>str18</th><th>str5</th><th>str10</th></tr></thead>\n",
       "<tr><td>B0002-4214_FOS-H</td><td>G270H</td><td>1996-6-2</td></tr>\n",
       "<tr><td>B0002+0507_FOS-H</td><td>G270H</td><td>1993-11-4</td></tr>\n",
       "<tr><td>B0002+0507_FOS-H</td><td>G270H</td><td>1993-11-4</td></tr>\n",
       "</table>"
      ],
      "text/plain": [
       "<Table length=3>\n",
       "      SPEC       GRATING  DATE-OBS\n",
       "     str18         str5    str10  \n",
       "---------------- ------- ---------\n",
       "B0002-4214_FOS-H   G270H  1996-6-2\n",
       "B0002+0507_FOS-H   G270H 1993-11-4\n",
       "B0002+0507_FOS-H   G270H 1993-11-4"
      ]
     },
     "execution_count": 12,
     "metadata": {},
     "output_type": "execute_result"
    }
   ],
   "source": [
    "date_fosh[0:3]"
   ]
  },
  {
   "cell_type": "markdown",
   "metadata": {},
   "source": [
    "## RA/DEC"
   ]
  },
  {
   "cell_type": "code",
   "execution_count": 16,
   "metadata": {
    "collapsed": true
   },
   "outputs": [],
   "source": [
    "radec_file = os.getenv('RAW_IGMSPEC')+'/HSTQSO/all_qso_table.txt'"
   ]
  },
  {
   "cell_type": "code",
   "execution_count": 17,
   "metadata": {
    "collapsed": false
   },
   "outputs": [],
   "source": [
    "radec = Table.read(radec_file, format='ascii')"
   ]
  },
  {
   "cell_type": "code",
   "execution_count": 18,
   "metadata": {
    "collapsed": false
   },
   "outputs": [
    {
     "data": {
      "text/html": [
       "&lt;Table length=3&gt;\n",
       "<table id=\"table4611173904\">\n",
       "<thead><tr><th>File_ID</th><th>RA</th><th>DEC</th><th>GL</th><th>GB</th><th>ZEM</th><th>Zlls</th><th>NHI</th><th>NHI+</th><th>NHI-</th><th>LLS_TYPE</th></tr></thead>\n",
       "<thead><tr><th>str12</th><th>float64</th><th>float64</th><th>float64</th><th>float64</th><th>float64</th><th>float64</th><th>float64</th><th>float64</th><th>float64</th><th>str9</th></tr></thead>\n",
       "<tr><td>B0002-4214</td><td>1.20083332</td><td>-41.95777893</td><td>332.680756</td><td>-72.370941</td><td>2.76</td><td>2.301</td><td>17.81</td><td>0.0</td><td>0.0</td><td>R1,R2</td></tr>\n",
       "<tr><td>B0002+0507</td><td>1.33416665</td><td>5.40311098</td><td>102.310738</td><td>-55.611916</td><td>1.9</td><td>0.0</td><td>0.0</td><td>0.0</td><td>0.0</td><td>none</td></tr>\n",
       "<tr><td>B0003+0146</td><td>1.448125</td><td>2.05061102</td><td>100.481804</td><td>-58.817158</td><td>0.234</td><td>0.0</td><td>0.0</td><td>0.0</td><td>0.0</td><td>none</td></tr>\n",
       "</table>"
      ],
      "text/plain": [
       "<Table length=3>\n",
       " File_ID       RA         DEC          GL     ...   NHI+    NHI-  LLS_TYPE\n",
       "  str12     float64     float64     float64   ... float64 float64   str9  \n",
       "---------- ---------- ------------ ---------- ... ------- ------- --------\n",
       "B0002-4214 1.20083332 -41.95777893 332.680756 ...     0.0     0.0    R1,R2\n",
       "B0002+0507 1.33416665   5.40311098 102.310738 ...     0.0     0.0     none\n",
       "B0003+0146   1.448125   2.05061102 100.481804 ...     0.0     0.0     none"
      ]
     },
     "execution_count": 18,
     "metadata": {},
     "output_type": "execute_result"
    }
   ],
   "source": [
    "radec[0:3]"
   ]
  },
  {
   "cell_type": "code",
   "execution_count": 19,
   "metadata": {
    "collapsed": true
   },
   "outputs": [],
   "source": [
    "fl = [row['File_ID'][0] for row in radec]"
   ]
  },
  {
   "cell_type": "markdown",
   "metadata": {},
   "source": [
    "### Worry about lenses"
   ]
  },
  {
   "cell_type": "code",
   "execution_count": 3,
   "metadata": {
    "collapsed": false
   },
   "outputs": [],
   "source": [
    "q1318 = ltu.radec_to_coord(('13:18:54.67','+29:03:01.49'))"
   ]
  },
  {
   "cell_type": "code",
   "execution_count": 5,
   "metadata": {
    "collapsed": false
   },
   "outputs": [],
   "source": [
    "q1318a = ltu.radec_to_coord(('13:18:53.58','+29:03:30.52'))"
   ]
  },
  {
   "cell_type": "code",
   "execution_count": 7,
   "metadata": {
    "collapsed": false
   },
   "outputs": [
    {
     "data": {
      "text/latex": [
       "$32.3576\\mathrm{{}^{\\prime\\prime}}$"
      ],
      "text/plain": [
       "<Angle 32.3576307359541 arcsec>"
      ]
     },
     "execution_count": 7,
     "metadata": {},
     "output_type": "execute_result"
    }
   ],
   "source": [
    "q1318.separation(q1318a).to('arcsec')"
   ]
  },
  {
   "cell_type": "markdown",
   "metadata": {},
   "source": [
    "## Bad spectra"
   ]
  },
  {
   "cell_type": "code",
   "execution_count": 9,
   "metadata": {
    "collapsed": true
   },
   "outputs": [],
   "source": [
    "bad1 = '/raid/Raw_IGMspec//HSTQSO/J1330-2056_STIS.fits.gz'"
   ]
  },
  {
   "cell_type": "code",
   "execution_count": 10,
   "metadata": {
    "collapsed": false
   },
   "outputs": [
    {
     "name": "stdout",
     "output_type": "stream",
     "text": [
      "Filename: /raid/Raw_IGMspec//HSTQSO/J1330-2056_STIS.fits.gz\n",
      "No.    Name         Type      Cards   Dimensions   Format\n",
      "0    PRIMARY     PrimaryHDU       4   ()              \n",
      "1                BinTableHDU     43   1R x 3C      [1024D, 1024D, 1024D]   \n"
     ]
    }
   ],
   "source": [
    "hdu1 = fits.open(bad1)\n",
    "hdu1.info()"
   ]
  },
  {
   "cell_type": "code",
   "execution_count": 11,
   "metadata": {
    "collapsed": false
   },
   "outputs": [
    {
     "data": {
      "text/html": [
       "&lt;Table length=1&gt;\n",
       "<table id=\"table4686105360\" class=\"table-striped table-bordered table-condensed\">\n",
       "<thead><tr><th>WAVE [1024]</th><th>FLUX [1024]</th><th>ERR [1024]</th></tr></thead>\n",
       "<thead><tr><th>float64</th><th>float64</th><th>float64</th></tr></thead>\n",
       "<tr><td>1118.6217041 .. 1715.77966309</td><td>0.0 .. 0.0</td><td>-0.0 .. -0.0</td></tr>\n",
       "</table>"
      ],
      "text/plain": [
       "<Table length=1>\n",
       "         WAVE [1024]          FLUX [1024]  ERR [1024] \n",
       "           float64              float64     float64   \n",
       "----------------------------- ----------- ------------\n",
       "1118.6217041 .. 1715.77966309  0.0 .. 0.0 -0.0 .. -0.0"
      ]
     },
     "execution_count": 11,
     "metadata": {},
     "output_type": "execute_result"
    }
   ],
   "source": [
    "data1 = Table(hdu1[1].data)\n",
    "data1"
   ]
  },
  {
   "cell_type": "code",
   "execution_count": 12,
   "metadata": {
    "collapsed": false
   },
   "outputs": [
    {
     "data": {
      "text/plain": [
       "-0.0"
      ]
     },
     "execution_count": 12,
     "metadata": {},
     "output_type": "execute_result"
    }
   ],
   "source": [
    "np.max(data1['ERR'])"
   ]
  },
  {
   "cell_type": "markdown",
   "metadata": {},
   "source": [
    "### Pushing these into a BAD folder"
   ]
  },
  {
   "cell_type": "markdown",
   "metadata": {},
   "source": [
    "## Grabbing new COS files"
   ]
  },
  {
   "cell_type": "code",
   "execution_count": 19,
   "metadata": {
    "collapsed": true
   },
   "outputs": [],
   "source": [
    "legacy_dir = os.getenv('DROPBOX_DIR')+'COS-CGM-Legacy/Analysis'"
   ]
  },
  {
   "cell_type": "code",
   "execution_count": 26,
   "metadata": {
    "collapsed": false
   },
   "outputs": [
    {
     "name": "stdout",
     "output_type": "stream",
     "text": [
      "Copying /u/xavier/Dropbox/COS-CGM-Legacy/Analysis/PHL2525/PHL2525_hsla.fits\n",
      "Copying /u/xavier/Dropbox/COS-CGM-Legacy/Analysis/RXS-J00057-5007/RXS-J00057-5007_hsla.fits\n",
      "Copying /u/xavier/Dropbox/COS-CGM-Legacy/Analysis/PG0003+158/PG0003+158_hsla.fits\n",
      "Copying /u/xavier/Dropbox/COS-CGM-Legacy/Analysis/MRK335/MRK335_hsla.fits\n",
      "Copying /u/xavier/Dropbox/COS-CGM-Legacy/Analysis/QSO-B0007+107/QSO-B0007+107_hsla.fits\n",
      "Copying /u/xavier/Dropbox/COS-CGM-Legacy/Analysis/SDSSJ001224.01-102226.5/SDSSJ001224.01-102226.5_hsla.fits\n",
      "Copying /u/xavier/Dropbox/COS-CGM-Legacy/Analysis/QSO-B0026+129/QSO-B0026+129_hsla.fits\n",
      "Copying /u/xavier/Dropbox/COS-CGM-Legacy/Analysis/HS-0033+4300/HS-0033+4300_hsla.fits\n",
      "Copying /u/xavier/Dropbox/COS-CGM-Legacy/Analysis/SDSSJ004222.29-103743.8/SDSSJ004222.29-103743.8_hsla.fits\n",
      "Copying /u/xavier/Dropbox/COS-CGM-Legacy/Analysis/PG0044+030/PG0044+030_hsla.fits\n",
      "Copying /u/xavier/Dropbox/COS-CGM-Legacy/Analysis/IO-AND/IO-AND_hsla.fits\n",
      "Copying /u/xavier/Dropbox/COS-CGM-Legacy/Analysis/QSO-B0050+124/QSO-B0050+124_hsla.fits\n",
      "Copying /u/xavier/Dropbox/COS-CGM-Legacy/Analysis/HE0056-3622/HE0056-3622_hsla.fits\n",
      "Copying /u/xavier/Dropbox/COS-CGM-Legacy/Analysis/RBS144/RBS144_hsla.fits\n",
      "Copying /u/xavier/Dropbox/COS-CGM-Legacy/Analysis/2MASX-J01013113+4229356/2MASX-J01013113+4229356_hsla.fits\n",
      "Copying /u/xavier/Dropbox/COS-CGM-Legacy/Analysis/IRAS01003-2238/IRAS01003-2238_hsla.fits\n",
      "Copying /u/xavier/Dropbox/COS-CGM-Legacy/Analysis/LBQS-0107-0235/LBQS-0107-0235_hsla.fits\n",
      "Copying /u/xavier/Dropbox/COS-CGM-Legacy/Analysis/LBQS-0107-0232/LBQS-0107-0232_hsla.fits\n",
      "Copying /u/xavier/Dropbox/COS-CGM-Legacy/Analysis/HB89-0107-025-NED05/HB89-0107-025-NED05_hsla.fits\n",
      "Copying /u/xavier/Dropbox/COS-CGM-Legacy/Analysis/TONS210/TONS210_hsla.fits\n",
      "Copying /u/xavier/Dropbox/COS-CGM-Legacy/Analysis/B0120-28/B0120-28_hsla.fits\n",
      "Copying /u/xavier/Dropbox/COS-CGM-Legacy/Analysis/FAIRALL9/FAIRALL9_hsla.fits\n",
      "Copying /u/xavier/Dropbox/COS-CGM-Legacy/Analysis/Q0122-003/Q0122-003_hsla.fits\n",
      "Copying /u/xavier/Dropbox/COS-CGM-Legacy/Analysis/SDSSJ014143.20+134032.0/SDSSJ014143.20+134032.0_hsla.fits\n",
      "Copying /u/xavier/Dropbox/COS-CGM-Legacy/Analysis/PHL1226/PHL1226_hsla.fits\n",
      "Copying /u/xavier/Dropbox/COS-CGM-Legacy/Analysis/HE0153-4520/HE0153-4520_hsla.fits\n",
      "Copying /u/xavier/Dropbox/COS-CGM-Legacy/Analysis/SDSSJ015530.02-085704.0/SDSSJ015530.02-085704.0_hsla.fits\n",
      "Copying /u/xavier/Dropbox/COS-CGM-Legacy/Analysis/QSO-B0157+001/QSO-B0157+001_hsla.fits\n",
      "Copying /u/xavier/Dropbox/COS-CGM-Legacy/Analysis/VV2006-J015953.0+134554/VV2006-J015953.0+134554_hsla.fits\n",
      "Copying /u/xavier/Dropbox/COS-CGM-Legacy/Analysis/3C57/3C57_hsla.fits\n",
      "Copying /u/xavier/Dropbox/COS-CGM-Legacy/Analysis/HB89-0202-765/HB89-0202-765_hsla.fits\n",
      "Copying /u/xavier/Dropbox/COS-CGM-Legacy/Analysis/FIRST-J020930.7-043826/FIRST-J020930.7-043826_hsla.fits\n",
      "Copying /u/xavier/Dropbox/COS-CGM-Legacy/Analysis/SDSSJ021218.32-073719.8/SDSSJ021218.32-073719.8_hsla.fits\n",
      "Copying /u/xavier/Dropbox/COS-CGM-Legacy/Analysis/NGC891AGN/NGC891AGN_hsla.fits\n",
      "Copying /u/xavier/Dropbox/COS-CGM-Legacy/Analysis/3C-66A/3C-66A_hsla.fits\n",
      "Copying /u/xavier/Dropbox/COS-CGM-Legacy/Analysis/SDSSJ022614.46+001529.7/SDSSJ022614.46+001529.7_hsla.fits\n",
      "Copying /u/xavier/Dropbox/COS-CGM-Legacy/Analysis/HE0226-4110/HE0226-4110_hsla.fits\n",
      "Copying /u/xavier/Dropbox/COS-CGM-Legacy/Analysis/MRK-1044/MRK-1044_hsla.fits\n",
      "Copying /u/xavier/Dropbox/COS-CGM-Legacy/Analysis/NGC-985/NGC-985_hsla.fits\n",
      "Copying /u/xavier/Dropbox/COS-CGM-Legacy/Analysis/HB89-0232-042/HB89-0232-042_hsla.fits\n",
      "Copying /u/xavier/Dropbox/COS-CGM-Legacy/Analysis/HE0238-1904/HE0238-1904_hsla.fits\n",
      "Copying /u/xavier/Dropbox/COS-CGM-Legacy/Analysis/MRK595/MRK595_hsla.fits\n",
      "Copying /u/xavier/Dropbox/COS-CGM-Legacy/Analysis/SDSSJ024250.85-075914.2/SDSSJ024250.85-075914.2_hsla.fits\n",
      "Copying /u/xavier/Dropbox/COS-CGM-Legacy/Analysis/UKS-0242-724/UKS-0242-724_hsla.fits\n",
      "Copying /u/xavier/Dropbox/COS-CGM-Legacy/Analysis/HE0241-3043/HE0241-3043_hsla.fits\n",
      "Copying /u/xavier/Dropbox/COS-CGM-Legacy/Analysis/2DFGRSS393Z082/2DFGRSS393Z082_hsla.fits\n",
      "Copying /u/xavier/Dropbox/COS-CGM-Legacy/Analysis/Q0244-303/Q0244-303_hsla.fits\n",
      "Copying /u/xavier/Dropbox/COS-CGM-Legacy/Analysis/Q0246-308/Q0246-308_hsla.fits\n",
      "Copying /u/xavier/Dropbox/COS-CGM-Legacy/Analysis/Q0255-081/Q0255-081_hsla.fits\n",
      "Copying /u/xavier/Dropbox/COS-CGM-Legacy/Analysis/SDSSJ025937.46+003736.3/SDSSJ025937.46+003736.3_hsla.fits\n",
      "Copying /u/xavier/Dropbox/COS-CGM-Legacy/Analysis/Q0302-003/Q0302-003_hsla.fits\n",
      "Copying /u/xavier/Dropbox/COS-CGM-Legacy/Analysis/ESO-031--G-008/ESO-031--G-008_hsla.fits\n",
      "Copying /u/xavier/Dropbox/COS-CGM-Legacy/Analysis/SDSSJ031027.82-004950.7/SDSSJ031027.82-004950.7_hsla.fits\n",
      "Copying /u/xavier/Dropbox/COS-CGM-Legacy/Analysis/NGC1275-NUCLEUS/NGC1275-NUCLEUS_hsla.fits\n",
      "Copying /u/xavier/Dropbox/COS-CGM-Legacy/Analysis/Q0349-146/Q0349-146_hsla.fits\n",
      "Copying /u/xavier/Dropbox/COS-CGM-Legacy/Analysis/SDSSJ040148.98-054056.5/SDSSJ040148.98-054056.5_hsla.fits\n",
      "Copying /u/xavier/Dropbox/COS-CGM-Legacy/Analysis/PKS0405-123/PKS0405-123_hsla.fits\n",
      "Copying /u/xavier/Dropbox/COS-CGM-Legacy/Analysis/RBS542/RBS542_hsla.fits\n",
      "Copying /u/xavier/Dropbox/COS-CGM-Legacy/Analysis/HE0429-5343/HE0429-5343_hsla.fits\n",
      "Copying /u/xavier/Dropbox/COS-CGM-Legacy/Analysis/HE0435-5304/HE0435-5304_hsla.fits\n",
      "Copying /u/xavier/Dropbox/COS-CGM-Legacy/Analysis/RBS563/RBS563_hsla.fits\n",
      "Copying /u/xavier/Dropbox/COS-CGM-Legacy/Analysis/RXJ0439.6-5311/RXJ0439.6-5311_hsla.fits\n",
      "Copying /u/xavier/Dropbox/COS-CGM-Legacy/Analysis/HE0439-5254/HE0439-5254_hsla.fits\n",
      "Copying /u/xavier/Dropbox/COS-CGM-Legacy/Analysis/Q0439-433/Q0439-433_hsla.fits\n",
      "Copying /u/xavier/Dropbox/COS-CGM-Legacy/Analysis/QSO-J0456-2159/QSO-J0456-2159_hsla.fits\n",
      "Copying /u/xavier/Dropbox/COS-CGM-Legacy/Analysis/CAL-F/CAL-F_hsla.fits\n",
      "Copying /u/xavier/Dropbox/COS-CGM-Legacy/Analysis/PKS0552-640/PKS0552-640_hsla.fits\n",
      "Copying /u/xavier/Dropbox/COS-CGM-Legacy/Analysis/PKS0558-504/PKS0558-504_hsla.fits\n",
      "Copying /u/xavier/Dropbox/COS-CGM-Legacy/Analysis/IRAS-L06229-6434/IRAS-L06229-6434_hsla.fits\n",
      "Copying /u/xavier/Dropbox/COS-CGM-Legacy/Analysis/PKS0637-752/PKS0637-752_hsla.fits\n",
      "Copying /u/xavier/Dropbox/COS-CGM-Legacy/Analysis/RXJ07145+7408/RXJ07145+7408_hsla.fits\n",
      "Copying /u/xavier/Dropbox/COS-CGM-Legacy/Analysis/MRK380/MRK380_hsla.fits\n",
      "Copying /u/xavier/Dropbox/COS-CGM-Legacy/Analysis/S50716+714/S50716+714_hsla.fits\n",
      "Copying /u/xavier/Dropbox/COS-CGM-Legacy/Analysis/FBQS-0751+2919/FBQS-0751+2919_hsla.fits\n",
      "Copying /u/xavier/Dropbox/COS-CGM-Legacy/Analysis/SDSSJ080359.23+433258.4/SDSSJ080359.23+433258.4_hsla.fits\n",
      "Copying /u/xavier/Dropbox/COS-CGM-Legacy/Analysis/VV2006-J080838.8+051440/VV2006-J080838.8+051440_hsla.fits\n",
      "Copying /u/xavier/Dropbox/COS-CGM-Legacy/Analysis/SDSSJ080908.13+461925.6/SDSSJ080908.13+461925.6_hsla.fits\n",
      "Copying /u/xavier/Dropbox/COS-CGM-Legacy/Analysis/PG0804+761/PG0804+761_hsla.fits\n",
      "Copying /u/xavier/Dropbox/COS-CGM-Legacy/Analysis/SDSSJ082024.21+233450.4/SDSSJ082024.21+233450.4_hsla.fits\n",
      "Copying /u/xavier/Dropbox/COS-CGM-Legacy/Analysis/SDSSJ082633.51+074248.3/SDSSJ082633.51+074248.3_hsla.fits\n",
      "Copying /u/xavier/Dropbox/COS-CGM-Legacy/Analysis/PG0832+251/PG0832+251_hsla.fits\n",
      "Copying /u/xavier/Dropbox/COS-CGM-Legacy/Analysis/SDSS-J083803.67+540642.1/SDSS-J083803.67+540642.1_hsla.fits\n",
      "Copying /u/xavier/Dropbox/COS-CGM-Legacy/Analysis/SDSSJ084349.49+411741.6/SDSSJ084349.49+411741.6_hsla.fits\n",
      "Copying /u/xavier/Dropbox/COS-CGM-Legacy/Analysis/VIIZW244/VIIZW244_hsla.fits\n",
      "Copying /u/xavier/Dropbox/COS-CGM-Legacy/Analysis/QSO-B0844+349/QSO-B0844+349_hsla.fits\n",
      "Copying /u/xavier/Dropbox/COS-CGM-Legacy/Analysis/VV2006-J085259.2+031320/VV2006-J085259.2+031320_hsla.fits\n",
      "Copying /u/xavier/Dropbox/COS-CGM-Legacy/Analysis/Q0850+440/Q0850+440_hsla.fits\n",
      "Copying /u/xavier/Dropbox/COS-CGM-Legacy/Analysis/QSO-B0906+3248/QSO-B0906+3248_hsla.fits\n",
      "Copying /u/xavier/Dropbox/COS-CGM-Legacy/Analysis/SDSSJ091029.75+101413.6/SDSSJ091029.75+101413.6_hsla.fits\n",
      "Copying /u/xavier/Dropbox/COS-CGM-Legacy/Analysis/SDSSJ091235.42+295725.4/SDSSJ091235.42+295725.4_hsla.fits\n",
      "Copying /u/xavier/Dropbox/COS-CGM-Legacy/Analysis/VV2006-J091431.8+083742/VV2006-J091431.8+083742_hsla.fits\n",
      "Copying /u/xavier/Dropbox/COS-CGM-Legacy/Analysis/SDSSJ091440.38+282330.6/SDSSJ091440.38+282330.6_hsla.fits\n",
      "Copying /u/xavier/Dropbox/COS-CGM-Legacy/Analysis/SDSSJ0915+4756/SDSSJ0915+4756_hsla.fits\n",
      "Copying /u/xavier/Dropbox/COS-CGM-Legacy/Analysis/MRK106/MRK106_hsla.fits\n",
      "Copying /u/xavier/Dropbox/COS-CGM-Legacy/Analysis/SDSSJ092554.43+453544.4/SDSSJ092554.43+453544.4_hsla.fits\n",
      "Copying /u/xavier/Dropbox/COS-CGM-Legacy/Analysis/SDSSJ092554.70+400414.1/SDSSJ092554.70+400414.1_hsla.fits\n",
      "Copying /u/xavier/Dropbox/COS-CGM-Legacy/Analysis/QSO-B0923+201/QSO-B0923+201_hsla.fits\n",
      "Copying /u/xavier/Dropbox/COS-CGM-Legacy/Analysis/SDSSJ092837.98+602521.0/SDSSJ092837.98+602521.0_hsla.fits\n",
      "Copying /u/xavier/Dropbox/COS-CGM-Legacy/Analysis/SDSSJ092909.79+464424.0/SDSSJ092909.79+464424.0_hsla.fits\n",
      "Copying /u/xavier/Dropbox/COS-CGM-Legacy/Analysis/SDSS-J093001.90+284858.4/SDSS-J093001.90+284858.4_hsla.fits\n",
      "Copying /u/xavier/Dropbox/COS-CGM-Legacy/Analysis/2MASS-J09311671+2628474/2MASS-J09311671+2628474_hsla.fits\n",
      "Copying /u/xavier/Dropbox/COS-CGM-Legacy/Analysis/SDSSJ093518.19+020415.5/SDSSJ093518.19+020415.5_hsla.fits\n",
      "Copying /u/xavier/Dropbox/COS-CGM-Legacy/Analysis/VV2000-J093603.9+320709/VV2000-J093603.9+320709_hsla.fits\n",
      "Copying /u/xavier/Dropbox/COS-CGM-Legacy/Analysis/SDSS-J093706.85+170021.5/SDSS-J093706.85+170021.5_hsla.fits\n",
      "Copying /u/xavier/Dropbox/COS-CGM-Legacy/Analysis/SDSSJ094331.61+053131.4/SDSSJ094331.61+053131.4_hsla.fits\n",
      "Copying /u/xavier/Dropbox/COS-CGM-Legacy/Analysis/SDSSJ094621.26+471131.3/SDSSJ094621.26+471131.3_hsla.fits\n",
      "Copying /u/xavier/Dropbox/COS-CGM-Legacy/Analysis/SDSSJ094733.21+100508.7/SDSSJ094733.21+100508.7_hsla.fits\n",
      "Copying /u/xavier/Dropbox/COS-CGM-Legacy/Analysis/Q0949+544/Q0949+544_hsla.fits\n",
      "Copying /u/xavier/Dropbox/COS-CGM-Legacy/Analysis/Q0949-051/Q0949-051_hsla.fits\n",
      "Copying /u/xavier/Dropbox/COS-CGM-Legacy/Analysis/SDSSJ094952.91+390203.9/SDSSJ094952.91+390203.9_hsla.fits\n",
      "Copying /u/xavier/Dropbox/COS-CGM-Legacy/Analysis/SDSSJ095000.73+483129.3/SDSSJ095000.73+483129.3_hsla.fits\n",
      "Copying /u/xavier/Dropbox/COS-CGM-Legacy/Analysis/SDSSJ095109.12+330745.8/SDSSJ095109.12+330745.8_hsla.fits\n",
      "Copying /u/xavier/Dropbox/COS-CGM-Legacy/Analysis/2MASS-J09512393+3542490/2MASS-J09512393+3542490_hsla.fits\n",
      "Copying /u/xavier/Dropbox/COS-CGM-Legacy/Analysis/RXSJ09565-0452/RXSJ09565-0452_hsla.fits\n",
      "Copying /u/xavier/Dropbox/COS-CGM-Legacy/Analysis/PG0953+414/PG0953+414_hsla.fits\n",
      "Copying /u/xavier/Dropbox/COS-CGM-Legacy/Analysis/2MASS-J09591486+3203573/2MASS-J09591486+3203573_hsla.fits\n",
      "Copying /u/xavier/Dropbox/COS-CGM-Legacy/Analysis/SDSSJ095915.65+050355.1/SDSSJ095915.65+050355.1_hsla.fits\n",
      "Copying /u/xavier/Dropbox/COS-CGM-Legacy/Analysis/SDSSJ100102.55+594414.3/SDSSJ100102.55+594414.3_hsla.fits\n",
      "Copying /u/xavier/Dropbox/COS-CGM-Legacy/Analysis/VV96-J100254.6+324039/VV96-J100254.6+324039_hsla.fits\n",
      "Copying /u/xavier/Dropbox/COS-CGM-Legacy/Analysis/PG1001+291/PG1001+291_hsla.fits\n",
      "Copying /u/xavier/Dropbox/COS-CGM-Legacy/Analysis/SDSS-J100535.24+013445.7/SDSS-J100535.24+013445.7_hsla.fits\n",
      "Copying /u/xavier/Dropbox/COS-CGM-Legacy/Analysis/4C-13.41/4C-13.41_hsla.fits\n",
      "Copying /u/xavier/Dropbox/COS-CGM-Legacy/Analysis/Q1007+363/Q1007+363_hsla.fits\n",
      "Copying /u/xavier/Dropbox/COS-CGM-Legacy/Analysis/SDSSJ100902.06+071343.8/SDSSJ100902.06+071343.8_hsla.fits\n",
      "Copying /u/xavier/Dropbox/COS-CGM-Legacy/Analysis/FBQSJ1010+3003/FBQSJ1010+3003_hsla.fits\n",
      "Copying /u/xavier/Dropbox/COS-CGM-Legacy/Analysis/TON1187/TON1187_hsla.fits\n",
      "Copying /u/xavier/Dropbox/COS-CGM-Legacy/Analysis/2MASS-J10131797+0500342/2MASS-J10131797+0500342_hsla.fits\n",
      "Copying /u/xavier/Dropbox/COS-CGM-Legacy/Analysis/PG1011-040/PG1011-040_hsla.fits\n",
      "Copying /u/xavier/Dropbox/COS-CGM-Legacy/Analysis/SDSSJ101622.60+470643.3/SDSSJ101622.60+470643.3_hsla.fits\n",
      "Copying /u/xavier/Dropbox/COS-CGM-Legacy/Analysis/Q1017+592/Q1017+592_hsla.fits\n",
      "Copying /u/xavier/Dropbox/COS-CGM-Legacy/Analysis/Q1021+343/Q1021+343_hsla.fits\n",
      "Copying /u/xavier/Dropbox/COS-CGM-Legacy/Analysis/SDSSJ102218.99+013218.8/SDSSJ102218.99+013218.8_hsla.fits\n",
      "Copying /u/xavier/Dropbox/COS-CGM-Legacy/Analysis/Q1022+393/Q1022+393_hsla.fits\n",
      "Copying /u/xavier/Dropbox/COS-CGM-Legacy/Analysis/HS1024+1849/HS1024+1849_hsla.fits\n",
      "Copying /u/xavier/Dropbox/COS-CGM-Legacy/Analysis/1ES1028+511/1ES1028+511_hsla.fits\n",
      "Copying /u/xavier/Dropbox/COS-CGM-Legacy/Analysis/1SAXJ1032.3+5051/1SAXJ1032.3+5051_hsla.fits\n",
      "Copying /u/xavier/Dropbox/COS-CGM-Legacy/Analysis/NGC-3259/NGC-3259_hsla.fits\n",
      "Copying /u/xavier/Dropbox/COS-CGM-Legacy/Analysis/SDSS-J103304.86+211216.1/SDSS-J103304.86+211216.1_hsla.fits\n",
      "Copying /u/xavier/Dropbox/COS-CGM-Legacy/Analysis/4C-06.41/4C-06.41_hsla.fits\n",
      "Copying /u/xavier/Dropbox/COS-CGM-Legacy/Analysis/SDSSJ104709.83+130454.6/SDSSJ104709.83+130454.6_hsla.fits\n",
      "Copying /u/xavier/Dropbox/COS-CGM-Legacy/Analysis/SDSSJ104816.25+120734.7/SDSSJ104816.25+120734.7_hsla.fits\n",
      "Copying /u/xavier/Dropbox/COS-CGM-Legacy/Analysis/SDSSJ104843.49+130605.9/SDSSJ104843.49+130605.9_hsla.fits\n",
      "Copying /u/xavier/Dropbox/COS-CGM-Legacy/Analysis/PG1048+342/PG1048+342_hsla.fits\n",
      "Copying /u/xavier/Dropbox/COS-CGM-Legacy/Analysis/PG1049-005/PG1049-005_hsla.fits\n",
      "Copying /u/xavier/Dropbox/COS-CGM-Legacy/Analysis/VV2006-J105910.9+051935/VV2006-J105910.9+051935_hsla.fits\n",
      "Copying /u/xavier/Dropbox/COS-CGM-Legacy/Analysis/SDSSJ105945.23+144142.9/SDSSJ105945.23+144142.9_hsla.fits\n",
      "Copying /u/xavier/Dropbox/COS-CGM-Legacy/Analysis/VV2006-J105956.1+121151/VV2006-J105956.1+121151_hsla.fits\n",
      "Copying /u/xavier/Dropbox/COS-CGM-Legacy/Analysis/SDSSJ105958.82+251708.8/SDSSJ105958.82+251708.8_hsla.fits\n",
      "Copying /u/xavier/Dropbox/COS-CGM-Legacy/Analysis/2E-1058.1+1102/2E-1058.1+1102_hsla.fits\n",
      "Copying /u/xavier/Dropbox/COS-CGM-Legacy/Analysis/SDSSJ110312.93+414154.9/SDSSJ110312.93+414154.9_hsla.fits\n",
      "Copying /u/xavier/Dropbox/COS-CGM-Legacy/Analysis/PKS1101-325/PKS1101-325_hsla.fits\n",
      "Copying /u/xavier/Dropbox/COS-CGM-Legacy/Analysis/PMNJ1103-2329/PMNJ1103-2329_hsla.fits\n",
      "Copying /u/xavier/Dropbox/COS-CGM-Legacy/Analysis/SDSSJ110406.94+314111.4/SDSSJ110406.94+314111.4_hsla.fits\n",
      "Copying /u/xavier/Dropbox/COS-CGM-Legacy/Analysis/MRK421/MRK421_hsla.fits\n",
      "Copying /u/xavier/Dropbox/COS-CGM-Legacy/Analysis/HS1102+3441/HS1102+3441_hsla.fits\n",
      "Copying /u/xavier/Dropbox/COS-CGM-Legacy/Analysis/NGC-3516/NGC-3516_hsla.fits\n",
      "Copying /u/xavier/Dropbox/COS-CGM-Legacy/Analysis/SBS1108+560/SBS1108+560_hsla.fits\n",
      "Copying /u/xavier/Dropbox/COS-CGM-Legacy/Analysis/SDSSJ111239.11+353928.2/SDSSJ111239.11+353928.2_hsla.fits\n",
      "Copying /u/xavier/Dropbox/COS-CGM-Legacy/Analysis/PG1112+431/PG1112+431_hsla.fits\n",
      "Copying /u/xavier/Dropbox/COS-CGM-Legacy/Analysis/VV2006-J111507.6+023757/VV2006-J111507.6+023757_hsla.fits\n",
      "Copying /u/xavier/Dropbox/COS-CGM-Legacy/Analysis/SDSSJ111754.31+263416.6/SDSSJ111754.31+263416.6_hsla.fits\n",
      "Copying /u/xavier/Dropbox/COS-CGM-Legacy/Analysis/QSO-B1115+080A/QSO-B1115+080A_hsla.fits\n",
      "Copying /u/xavier/Dropbox/COS-CGM-Legacy/Analysis/PG1115+407/PG1115+407_hsla.fits\n",
      "Copying /u/xavier/Dropbox/COS-CGM-Legacy/Analysis/PG1116+215/PG1116+215_hsla.fits\n",
      "Copying /u/xavier/Dropbox/COS-CGM-Legacy/Analysis/VV2006-J112005.0+041323/VV2006-J112005.0+041323_hsla.fits\n",
      "Copying /u/xavier/Dropbox/COS-CGM-Legacy/Analysis/ESO265-G23/ESO265-G23_hsla.fits\n",
      "Copying /u/xavier/Dropbox/COS-CGM-Legacy/Analysis/SDSSJ112114.22+032546.7/SDSSJ112114.22+032546.7_hsla.fits\n",
      "Copying /u/xavier/Dropbox/COS-CGM-Legacy/Analysis/VV2006-J112224.1+031802/VV2006-J112224.1+031802_hsla.fits\n",
      "Copying /u/xavier/Dropbox/COS-CGM-Legacy/Analysis/SDSSJ112244.89+575543.0/SDSSJ112244.89+575543.0_hsla.fits\n",
      "Copying /u/xavier/Dropbox/COS-CGM-Legacy/Analysis/PG1121+422/PG1121+422_hsla.fits\n",
      "Copying /u/xavier/Dropbox/COS-CGM-Legacy/Analysis/SBS1122+594/SBS1122+594_hsla.fits\n",
      "Copying /u/xavier/Dropbox/COS-CGM-Legacy/Analysis/UM428/UM428_hsla.fits\n",
      "Copying /u/xavier/Dropbox/COS-CGM-Legacy/Analysis/QSO-B1124+271/QSO-B1124+271_hsla.fits\n",
      "Copying /u/xavier/Dropbox/COS-CGM-Legacy/Analysis/QSO-B1126-041/QSO-B1126-041_hsla.fits\n",
      "Copying /u/xavier/Dropbox/COS-CGM-Legacy/Analysis/TON580/TON580_hsla.fits\n",
      "Copying /u/xavier/Dropbox/COS-CGM-Legacy/Analysis/SDSS-J113137.16+155645.3/SDSS-J113137.16+155645.3_hsla.fits\n",
      "Copying /u/xavier/Dropbox/COS-CGM-Legacy/Analysis/2MASS-J11321056+1335091/2MASS-J11321056+1335091_hsla.fits\n",
      "Copying /u/xavier/Dropbox/COS-CGM-Legacy/Analysis/SDSSJ113327.78+032719.1/SDSSJ113327.78+032719.1_hsla.fits\n",
      "Copying /u/xavier/Dropbox/COS-CGM-Legacy/Analysis/SDSSJ113457.62+255527.9/SDSSJ113457.62+255527.9_hsla.fits\n",
      "Copying /u/xavier/Dropbox/COS-CGM-Legacy/Analysis/NGC-3783/NGC-3783_hsla.fits\n",
      "Copying /u/xavier/Dropbox/COS-CGM-Legacy/Analysis/PKS1136-13/PKS1136-13_hsla.fits\n",
      "Copying /u/xavier/Dropbox/COS-CGM-Legacy/Analysis/3C263/3C263_hsla.fits\n",
      "Copying /u/xavier/Dropbox/COS-CGM-Legacy/Analysis/QSO-B1139+305/QSO-B1139+305_hsla.fits\n",
      "Copying /u/xavier/Dropbox/COS-CGM-Legacy/Analysis/PG-1148+549/PG-1148+549_hsla.fits\n",
      "Copying /u/xavier/Dropbox/COS-CGM-Legacy/Analysis/SDSS-J115552.80+292238.4/SDSS-J115552.80+292238.4_hsla.fits\n",
      "Copying /u/xavier/Dropbox/COS-CGM-Legacy/Analysis/SDSSJ115758.72-002220.8/SDSSJ115758.72-002220.8_hsla.fits\n",
      "Copying /u/xavier/Dropbox/COS-CGM-Legacy/Analysis/HE1159-1338/HE1159-1338_hsla.fits\n",
      "Copying /u/xavier/Dropbox/COS-CGM-Legacy/Analysis/NGC-4051/NGC-4051_hsla.fits\n",
      "Copying /u/xavier/Dropbox/COS-CGM-Legacy/Analysis/PG1202+281/PG1202+281_hsla.fits\n",
      "Copying /u/xavier/Dropbox/COS-CGM-Legacy/Analysis/ESO267-013/ESO267-013_hsla.fits\n",
      "Copying /u/xavier/Dropbox/COS-CGM-Legacy/Analysis/SDSSJ120556.08+104253.8/SDSSJ120556.08+104253.8_hsla.fits\n",
      "Copying /u/xavier/Dropbox/COS-CGM-Legacy/Analysis/SDSSJ120720.99+262429.1/SDSSJ120720.99+262429.1_hsla.fits\n",
      "Copying /u/xavier/Dropbox/COS-CGM-Legacy/Analysis/PG-1206+459/PG-1206+459_hsla.fits\n",
      "Copying /u/xavier/Dropbox/COS-CGM-Legacy/Analysis/SDSSJ120924.07+103612.0/SDSSJ120924.07+103612.0_hsla.fits\n",
      "Copying /u/xavier/Dropbox/COS-CGM-Legacy/Analysis/SDSSJ121037.56+315706.0/SDSSJ121037.56+315706.0_hsla.fits\n",
      "Copying /u/xavier/Dropbox/COS-CGM-Legacy/Analysis/SDSSJ121114.56+365739.5/SDSSJ121114.56+365739.5_hsla.fits\n",
      "Copying /u/xavier/Dropbox/COS-CGM-Legacy/Analysis/SDSSJ121430.55+082508.1/SDSSJ121430.55+082508.1_hsla.fits\n",
      "Copying /u/xavier/Dropbox/COS-CGM-Legacy/Analysis/SDSSJ121640.56+071224.3/SDSSJ121640.56+071224.3_hsla.fits\n",
      "Copying /u/xavier/Dropbox/COS-CGM-Legacy/Analysis/SDSSJ121716.08+080942.0/SDSSJ121716.08+080942.0_hsla.fits\n",
      "Copying /u/xavier/Dropbox/COS-CGM-Legacy/Analysis/SDSSJ121850.51+101554.2/SDSSJ121850.51+101554.2_hsla.fits\n",
      "Copying /u/xavier/Dropbox/COS-CGM-Legacy/Analysis/PG1216+069/PG1216+069_hsla.fits\n",
      "Copying /u/xavier/Dropbox/COS-CGM-Legacy/Analysis/SDSSJ122018.43+064119.6/SDSSJ122018.43+064119.6_hsla.fits\n",
      "Copying /u/xavier/Dropbox/COS-CGM-Legacy/Analysis/SDSSJ122035.10+385316.4/SDSSJ122035.10+385316.4_hsla.fits\n",
      "Copying /u/xavier/Dropbox/COS-CGM-Legacy/Analysis/SDSSJ122102.49+155447.0/SDSSJ122102.49+155447.0_hsla.fits\n",
      "Copying /u/xavier/Dropbox/COS-CGM-Legacy/Analysis/SDSSJ122106.87+454852.1/SDSSJ122106.87+454852.1_hsla.fits\n",
      "Copying /u/xavier/Dropbox/COS-CGM-Legacy/Analysis/SDSSJ122312.16+095017.7/SDSSJ122312.16+095017.7_hsla.fits\n",
      "Copying /u/xavier/Dropbox/COS-CGM-Legacy/Analysis/SDSSJ122317.79+092306.9/SDSSJ122317.79+092306.9_hsla.fits\n",
      "Copying /u/xavier/Dropbox/COS-CGM-Legacy/Analysis/SDSSJ122512.93+121835.6/SDSSJ122512.93+121835.6_hsla.fits\n",
      "Copying /u/xavier/Dropbox/COS-CGM-Legacy/Analysis/SDSSJ122520.13+084450.7/SDSSJ122520.13+084450.7_hsla.fits\n",
      "Copying /u/xavier/Dropbox/COS-CGM-Legacy/Analysis/NGC-4395/NGC-4395_hsla.fits\n",
      "Copying /u/xavier/Dropbox/COS-CGM-Legacy/Analysis/3C273/3C273_hsla.fits\n",
      "Copying /u/xavier/Dropbox/COS-CGM-Legacy/Analysis/RXJ1230.8+0115/RXJ1230.8+0115_hsla.fits\n",
      "Copying /u/xavier/Dropbox/COS-CGM-Legacy/Analysis/Q1232-022/Q1232-022_hsla.fits\n",
      "Copying /u/xavier/Dropbox/COS-CGM-Legacy/Analysis/QSO-B1229+204/QSO-B1229+204_hsla.fits\n",
      "Copying /u/xavier/Dropbox/COS-CGM-Legacy/Analysis/SDSSJ123304.05-003134.1/SDSSJ123304.05-003134.1_hsla.fits\n",
      "Copying /u/xavier/Dropbox/COS-CGM-Legacy/Analysis/SDSSJ123335.07+475800.4/SDSSJ123335.07+475800.4_hsla.fits\n",
      "Copying /u/xavier/Dropbox/COS-CGM-Legacy/Analysis/SDSSJ123426.80+072411.3/SDSSJ123426.80+072411.3_hsla.fits\n",
      "Copying /u/xavier/Dropbox/COS-CGM-Legacy/Analysis/SDSSJ123604.02+264135.9/SDSSJ123604.02+264135.9_hsla.fits\n",
      "Copying /u/xavier/Dropbox/COS-CGM-Legacy/Analysis/SDSSJ123647.72+060048.4/SDSSJ123647.72+060048.4_hsla.fits\n",
      "Copying /u/xavier/Dropbox/COS-CGM-Legacy/Analysis/SDSSJ124035.51+094941.0/SDSSJ124035.51+094941.0_hsla.fits\n",
      "Copying /u/xavier/Dropbox/COS-CGM-Legacy/Analysis/SDSS-J124129.64+285212.0/SDSS-J124129.64+285212.0_hsla.fits\n",
      "Copying /u/xavier/Dropbox/COS-CGM-Legacy/Analysis/SDSSJ124154.02+572107.3/SDSSJ124154.02+572107.3_hsla.fits\n",
      "Copying /u/xavier/Dropbox/COS-CGM-Legacy/Analysis/Q1241+176/Q1241+176_hsla.fits\n",
      "Copying /u/xavier/Dropbox/COS-CGM-Legacy/Analysis/SDSSJ124511.25+335610.1/SDSSJ124511.25+335610.1_hsla.fits\n",
      "Copying /u/xavier/Dropbox/COS-CGM-Legacy/Analysis/TOLOLO-1247-232-FUVHOT/TOLOLO-1247-232-FUVHOT_hsla.fits\n",
      "Copying /u/xavier/Dropbox/COS-CGM-Legacy/Analysis/VV2006-J125124.6+055420/VV2006-J125124.6+055420_hsla.fits\n",
      "Copying /u/xavier/Dropbox/COS-CGM-Legacy/Analysis/Q1251+463/Q1251+463_hsla.fits\n",
      "Copying /u/xavier/Dropbox/COS-CGM-Legacy/Analysis/QSO-B1254+571/QSO-B1254+571_hsla.fits\n",
      "Copying /u/xavier/Dropbox/COS-CGM-Legacy/Analysis/PG1259+593/PG1259+593_hsla.fits\n",
      "Copying /u/xavier/Dropbox/COS-CGM-Legacy/Analysis/VV2006-J130524.3+035731/VV2006-J130524.3+035731_hsla.fits\n",
      "Copying /u/xavier/Dropbox/COS-CGM-Legacy/Analysis/PKS1302-102/PKS1302-102_hsla.fits\n",
      "Copying /u/xavier/Dropbox/COS-CGM-Legacy/Analysis/QSO-B1307+085/QSO-B1307+085_hsla.fits\n",
      "Copying /u/xavier/Dropbox/COS-CGM-Legacy/Analysis/QSO-B1309+3531/QSO-B1309+3531_hsla.fits\n",
      "Copying /u/xavier/Dropbox/COS-CGM-Legacy/Analysis/VV2006-J131545.2+152556/VV2006-J131545.2+152556_hsla.fits\n",
      "Copying /u/xavier/Dropbox/COS-CGM-Legacy/Analysis/SDSS-J131802.01+262830.3/SDSS-J131802.01+262830.3_hsla.fits\n",
      "Copying /u/xavier/Dropbox/COS-CGM-Legacy/Analysis/CSO-0873/CSO-0873_hsla.fits\n",
      "Copying /u/xavier/Dropbox/COS-CGM-Legacy/Analysis/SDSSJ132222.68+464535.2/SDSSJ132222.68+464535.2_hsla.fits\n",
      "Copying /u/xavier/Dropbox/COS-CGM-Legacy/Analysis/Q1323+343/Q1323+343_hsla.fits\n",
      "Copying /u/xavier/Dropbox/COS-CGM-Legacy/Analysis/2MASS-J13250381+2717189/2MASS-J13250381+2717189_hsla.fits\n",
      "Copying /u/xavier/Dropbox/COS-CGM-Legacy/Analysis/SDSSJ132704.13+443505.0/SDSSJ132704.13+443505.0_hsla.fits\n",
      "Copying /u/xavier/Dropbox/COS-CGM-Legacy/Analysis/Q1328+524/Q1328+524_hsla.fits\n",
      "Copying /u/xavier/Dropbox/COS-CGM-Legacy/Analysis/SDSSJ133045.15+281321.4/SDSSJ133045.15+281321.4_hsla.fits\n",
      "Copying /u/xavier/Dropbox/COS-CGM-Legacy/Analysis/SDSSJ133053.27+311930.5/SDSSJ133053.27+311930.5_hsla.fits\n",
      "Copying /u/xavier/Dropbox/COS-CGM-Legacy/Analysis/PG-1338+416/PG-1338+416_hsla.fits\n",
      "Copying /u/xavier/Dropbox/COS-CGM-Legacy/Analysis/SDSSJ134206.56+050523.8/SDSSJ134206.56+050523.8_hsla.fits\n",
      "Copying /u/xavier/Dropbox/COS-CGM-Legacy/Analysis/SDSSJ134231.22+382903.4/SDSSJ134231.22+382903.4_hsla.fits\n",
      "Copying /u/xavier/Dropbox/COS-CGM-Legacy/Analysis/SDSSJ134246.89+184443.6/SDSSJ134246.89+184443.6_hsla.fits\n",
      "Copying /u/xavier/Dropbox/COS-CGM-Legacy/Analysis/SDSSJ134251.60-005345.3/SDSSJ134251.60-005345.3_hsla.fits\n",
      "Copying /u/xavier/Dropbox/COS-CGM-Legacy/Analysis/2MASS-J13482237+2456498/2MASS-J13482237+2456498_hsla.fits\n",
      "Copying /u/xavier/Dropbox/COS-CGM-Legacy/Analysis/MRK-279/MRK-279_hsla.fits\n",
      "Copying /u/xavier/Dropbox/COS-CGM-Legacy/Analysis/QSO-B1351+6400/QSO-B1351+6400_hsla.fits\n",
      "Copying /u/xavier/Dropbox/COS-CGM-Legacy/Analysis/SDSS-J135424.90+243006.3/SDSS-J135424.90+243006.3_hsla.fits\n",
      "Copying /u/xavier/Dropbox/COS-CGM-Legacy/Analysis/SDSSJ135625.55+251523.7/SDSSJ135625.55+251523.7_hsla.fits\n",
      "Copying /u/xavier/Dropbox/COS-CGM-Legacy/Analysis/Q1354+195/Q1354+195_hsla.fits\n",
      "Copying /u/xavier/Dropbox/COS-CGM-Legacy/Analysis/SDSSJ135712.61+170444.1/SDSSJ135712.61+170444.1_hsla.fits\n",
      "Copying /u/xavier/Dropbox/COS-CGM-Legacy/Analysis/SDSS-J135726.27+043541.4/SDSS-J135726.27+043541.4_hsla.fits\n",
      "Copying /u/xavier/Dropbox/COS-CGM-Legacy/Analysis/MRK1486/MRK1486_hsla.fits\n",
      "Copying /u/xavier/Dropbox/COS-CGM-Legacy/Analysis/Q1400+553/Q1400+553_hsla.fits\n",
      "Copying /u/xavier/Dropbox/COS-CGM-Legacy/Analysis/2MASS-J14042827+3353426/2MASS-J14042827+3353426_hsla.fits\n",
      "Copying /u/xavier/Dropbox/COS-CGM-Legacy/Analysis/VV2006-J140655.7+015713/VV2006-J140655.7+015713_hsla.fits\n",
      "Copying /u/xavier/Dropbox/COS-CGM-Legacy/Analysis/SDSSJ140732.25+550725.6/SDSSJ140732.25+550725.6_hsla.fits\n",
      "Copying /u/xavier/Dropbox/COS-CGM-Legacy/Analysis/PG-1407+265/PG-1407+265_hsla.fits\n",
      "Copying /u/xavier/Dropbox/COS-CGM-Legacy/Analysis/SDSS-J141038.39+230447.1/SDSS-J141038.39+230447.1_hsla.fits\n",
      "Copying /u/xavier/Dropbox/COS-CGM-Legacy/Analysis/QSO-B1411+4414/QSO-B1411+4414_hsla.fits\n",
      "Copying /u/xavier/Dropbox/COS-CGM-Legacy/Analysis/SDSSJ141542.90+163413.8/SDSSJ141542.90+163413.8_hsla.fits\n",
      "Copying /u/xavier/Dropbox/COS-CGM-Legacy/Analysis/SBS1415+437-OBJECT-1/SBS1415+437-OBJECT-1_hsla.fits\n",
      "Copying /u/xavier/Dropbox/COS-CGM-Legacy/Analysis/NGC-5548/NGC-5548_hsla.fits\n",
      "Copying /u/xavier/Dropbox/COS-CGM-Legacy/Analysis/SDSSJ141910.20+420746.9/SDSSJ141910.20+420746.9_hsla.fits\n",
      "Copying /u/xavier/Dropbox/COS-CGM-Legacy/Analysis/Q1421+253/Q1421+253_hsla.fits\n",
      "Copying /u/xavier/Dropbox/COS-CGM-Legacy/Analysis/PG1424+240/PG1424+240_hsla.fits\n",
      "Copying /u/xavier/Dropbox/COS-CGM-Legacy/Analysis/87GB-142519.5+264555/87GB-142519.5+264555_hsla.fits\n",
      "Copying /u/xavier/Dropbox/COS-CGM-Legacy/Analysis/2MASS-J14294076+0321257/2MASS-J14294076+0321257_hsla.fits\n",
      "Copying /u/xavier/Dropbox/COS-CGM-Legacy/Analysis/J143004.07+022213.3/J143004.07+022213.3_hsla.fits\n",
      "Copying /u/xavier/Dropbox/COS-CGM-Legacy/Analysis/2MASS-J14312586+2442203/2MASS-J14312586+2442203_hsla.fits\n",
      "Copying /u/xavier/Dropbox/COS-CGM-Legacy/Analysis/SDSSJ143511.53+360437.2/SDSSJ143511.53+360437.2_hsla.fits\n",
      "Copying /u/xavier/Dropbox/COS-CGM-Legacy/Analysis/MRK817/MRK817_hsla.fits\n",
      "Copying /u/xavier/Dropbox/COS-CGM-Legacy/Analysis/SDSSJ143726.14+504555.8/SDSSJ143726.14+504555.8_hsla.fits\n",
      "Copying /u/xavier/Dropbox/COS-CGM-Legacy/Analysis/LBQS-1435-0134/LBQS-1435-0134_hsla.fits\n",
      "Copying /u/xavier/Dropbox/COS-CGM-Legacy/Analysis/QSO-B1435-0645/QSO-B1435-0645_hsla.fits\n",
      "Copying /u/xavier/Dropbox/COS-CGM-Legacy/Analysis/QSO-B1440+3539/QSO-B1440+3539_hsla.fits\n",
      "Copying /u/xavier/Dropbox/COS-CGM-Legacy/Analysis/SDSSJ144511.28+342825.4/SDSSJ144511.28+342825.4_hsla.fits\n",
      "Copying /u/xavier/Dropbox/COS-CGM-Legacy/Analysis/SDSSJ145108.76+270926.9/SDSSJ145108.76+270926.9_hsla.fits\n",
      "Copying /u/xavier/Dropbox/COS-CGM-Legacy/Analysis/SDSS-J145424.33+304658.3/SDSS-J145424.33+304658.3_hsla.fits\n",
      "Copying /u/xavier/Dropbox/COS-CGM-Legacy/Analysis/SDSSJ145907.58+714019.9/SDSSJ145907.58+714019.9_hsla.fits\n",
      "Copying /u/xavier/Dropbox/COS-CGM-Legacy/Analysis/SBS1458+534/SBS1458+534_hsla.fits\n",
      "Copying /u/xavier/Dropbox/COS-CGM-Legacy/Analysis/CSO712/CSO712_hsla.fits\n",
      "Copying /u/xavier/Dropbox/COS-CGM-Legacy/Analysis/VV2000-J150204.1+064514/VV2000-J150204.1+064514_hsla.fits\n",
      "Copying /u/xavier/Dropbox/COS-CGM-Legacy/Analysis/QSO-1503-4155/QSO-1503-4155_hsla.fits\n",
      "Copying /u/xavier/Dropbox/COS-CGM-Legacy/Analysis/RXSJ15032+6809/RXSJ15032+6809_hsla.fits\n",
      "Copying /u/xavier/Dropbox/COS-CGM-Legacy/Analysis/QSO-1504-4152/QSO-1504-4152_hsla.fits\n",
      "Copying /u/xavier/Dropbox/COS-CGM-Legacy/Analysis/SDSSJ150455.56+564920.3/SDSSJ150455.56+564920.3_hsla.fits\n",
      "Copying /u/xavier/Dropbox/COS-CGM-Legacy/Analysis/NPM1G+68.0125/NPM1G+68.0125_hsla.fits\n",
      "Copying /u/xavier/Dropbox/COS-CGM-Legacy/Analysis/SDSS-J150928.29+070235.7/SDSS-J150928.29+070235.7_hsla.fits\n",
      "Copying /u/xavier/Dropbox/COS-CGM-Legacy/Analysis/SDSS-J150952.19+111047.0/SDSS-J150952.19+111047.0_hsla.fits\n",
      "Copying /u/xavier/Dropbox/COS-CGM-Legacy/Analysis/SDSS-J151237.05+012846./SDSS-J151237.05+012846._hsla.fits\n",
      "Copying /u/xavier/Dropbox/COS-CGM-Legacy/Analysis/SDSSJ151428.64+361957.9/SDSSJ151428.64+361957.9_hsla.fits\n",
      "Copying /u/xavier/Dropbox/COS-CGM-Legacy/Analysis/SDSS-J151507.43+065708.3/SDSS-J151507.43+065708.3_hsla.fits\n",
      "Copying /u/xavier/Dropbox/COS-CGM-Legacy/Analysis/SBS1518+593/SBS1518+593_hsla.fits\n",
      "Copying /u/xavier/Dropbox/COS-CGM-Legacy/Analysis/SDSSJ152139.66+033729.2/SDSSJ152139.66+033729.2_hsla.fits\n",
      "Copying /u/xavier/Dropbox/COS-CGM-Legacy/Analysis/SBS1521+598/SBS1521+598_hsla.fits\n",
      "Copying /u/xavier/Dropbox/COS-CGM-Legacy/Analysis/4C63.22/4C63.22_hsla.fits\n",
      "Copying /u/xavier/Dropbox/COS-CGM-Legacy/Analysis/PG-1522+101/PG-1522+101_hsla.fits\n",
      "Copying /u/xavier/Dropbox/COS-CGM-Legacy/Analysis/FBS1526+659/FBS1526+659_hsla.fits\n",
      "Copying /u/xavier/Dropbox/COS-CGM-Legacy/Analysis/TON236/TON236_hsla.fits\n",
      "Copying /u/xavier/Dropbox/COS-CGM-Legacy/Analysis/SBS1527+564/SBS1527+564_hsla.fits\n",
      "Copying /u/xavier/Dropbox/COS-CGM-Legacy/Analysis/MRK290/MRK290_hsla.fits\n",
      "Copying /u/xavier/Dropbox/COS-CGM-Legacy/Analysis/MRK486/MRK486_hsla.fits\n",
      "Copying /u/xavier/Dropbox/COS-CGM-Legacy/Analysis/MCG+10-22-028/MCG+10-22-028_hsla.fits\n",
      "Copying /u/xavier/Dropbox/COS-CGM-Legacy/Analysis/2MASS-J15412146+2817063/2MASS-J15412146+2817063_hsla.fits\n",
      "Copying /u/xavier/Dropbox/COS-CGM-Legacy/Analysis/2MASX-J15442722+2743237/2MASX-J15442722+2743237_hsla.fits\n",
      "Copying /u/xavier/Dropbox/COS-CGM-Legacy/Analysis/SDSSJ154553.48+093620.5/SDSSJ154553.48+093620.5_hsla.fits\n",
      "Copying /u/xavier/Dropbox/COS-CGM-Legacy/Analysis/Q1545+210/Q1545+210_hsla.fits\n",
      "Copying /u/xavier/Dropbox/COS-CGM-Legacy/Analysis/SDSSJ155048.29+400144.9/SDSSJ155048.29+400144.9_hsla.fits\n",
      "Copying /u/xavier/Dropbox/COS-CGM-Legacy/Analysis/SBS1551+572/SBS1551+572_hsla.fits\n",
      "Copying /u/xavier/Dropbox/COS-CGM-Legacy/Analysis/SDSSJ155304.92+354828.6/SDSSJ155304.92+354828.6_hsla.fits\n",
      "Copying /u/xavier/Dropbox/COS-CGM-Legacy/Analysis/SDSSJ155504.39+362848.0/SDSSJ155504.39+362848.0_hsla.fits\n",
      "Copying /u/xavier/Dropbox/COS-CGM-Legacy/Analysis/1ES1553+113/1ES1553+113_hsla.fits\n",
      "Copying /u/xavier/Dropbox/COS-CGM-Legacy/Analysis/4C57.27/4C57.27_hsla.fits\n",
      "Copying /u/xavier/Dropbox/COS-CGM-Legacy/Analysis/SDSS-J160519.70+144852.2/SDSS-J160519.70+144852.2_hsla.fits\n",
      "Copying /u/xavier/Dropbox/COS-CGM-Legacy/Analysis/RXSJ16083+6018/RXSJ16083+6018_hsla.fits\n",
      "Copying /u/xavier/Dropbox/COS-CGM-Legacy/Analysis/MRK876/MRK876_hsla.fits\n",
      "Copying /u/xavier/Dropbox/COS-CGM-Legacy/Analysis/SDSSJ161649.42+415416.3/SDSSJ161649.42+415416.3_hsla.fits\n",
      "Copying /u/xavier/Dropbox/COS-CGM-Legacy/Analysis/SDSSJ161711.42+063833.4/SDSSJ161711.42+063833.4_hsla.fits\n",
      "Copying /u/xavier/Dropbox/COS-CGM-Legacy/Analysis/SDSSJ161916.54+334238.4/SDSSJ161916.54+334238.4_hsla.fits\n",
      "Copying /u/xavier/Dropbox/COS-CGM-Legacy/Analysis/QSO-B1617+1731/QSO-B1617+1731_hsla.fits\n",
      "Copying /u/xavier/Dropbox/COS-CGM-Legacy/Analysis/SBS1624+575/SBS1624+575_hsla.fits\n",
      "Copying /u/xavier/Dropbox/COS-CGM-Legacy/Analysis/PG1626+554/PG1626+554_hsla.fits\n",
      "Copying /u/xavier/Dropbox/COS-CGM-Legacy/Analysis/PG-1630+377/PG-1630+377_hsla.fits\n",
      "Copying /u/xavier/Dropbox/COS-CGM-Legacy/Analysis/Q1659+373/Q1659+373_hsla.fits\n",
      "Copying /u/xavier/Dropbox/COS-CGM-Legacy/Analysis/MRK504/MRK504_hsla.fits\n",
      "Copying /u/xavier/Dropbox/COS-CGM-Legacy/Analysis/SDSSJ170328.90+614109.0/SDSSJ170328.90+614109.0_hsla.fits\n",
      "Copying /u/xavier/Dropbox/COS-CGM-Legacy/Analysis/SDSSJ171737.95+655939.3/SDSSJ171737.95+655939.3_hsla.fits\n",
      "Copying /u/xavier/Dropbox/COS-CGM-Legacy/Analysis/H1821+643/H1821+643_hsla.fits\n",
      "Copying /u/xavier/Dropbox/COS-CGM-Legacy/Analysis/HD-169454/HD-169454_hsla.fits\n",
      "Copying /u/xavier/Dropbox/COS-CGM-Legacy/Analysis/HS1831+5338/HS1831+5338_hsla.fits\n",
      "Copying /u/xavier/Dropbox/COS-CGM-Legacy/Analysis/ESO-141-55/ESO-141-55_hsla.fits\n",
      "Copying /u/xavier/Dropbox/COS-CGM-Legacy/Analysis/PKS2005-489/PKS2005-489_hsla.fits\n",
      "Copying /u/xavier/Dropbox/COS-CGM-Legacy/Analysis/MRK-509/MRK-509_hsla.fits\n",
      "Copying /u/xavier/Dropbox/COS-CGM-Legacy/Analysis/Q2128-123/Q2128-123_hsla.fits\n",
      "Copying /u/xavier/Dropbox/COS-CGM-Legacy/Analysis/MRK1513/MRK1513_hsla.fits\n",
      "Copying /u/xavier/Dropbox/COS-CGM-Legacy/Analysis/1H-2129-624/1H-2129-624_hsla.fits\n",
      "Copying /u/xavier/Dropbox/COS-CGM-Legacy/Analysis/RXS-J21388-3828/RXS-J21388-3828_hsla.fits\n",
      "Copying /u/xavier/Dropbox/COS-CGM-Legacy/Analysis/RXJ2154.1-4414/RXJ2154.1-4414_hsla.fits\n",
      "Copying /u/xavier/Dropbox/COS-CGM-Legacy/Analysis/PHL1811/PHL1811_hsla.fits\n",
      "Copying /u/xavier/Dropbox/COS-CGM-Legacy/Analysis/Q2156+224/Q2156+224_hsla.fits\n",
      "Copying /u/xavier/Dropbox/COS-CGM-Legacy/Analysis/PKS2155-304/PKS2155-304_hsla.fits\n",
      "Copying /u/xavier/Dropbox/COS-CGM-Legacy/Analysis/MRK304/MRK304_hsla.fits\n",
      "Copying /u/xavier/Dropbox/COS-CGM-Legacy/Analysis/AKN-564/AKN-564_hsla.fits\n",
      "Copying /u/xavier/Dropbox/COS-CGM-Legacy/Analysis/RBS1892/RBS1892_hsla.fits\n",
      "Copying /u/xavier/Dropbox/COS-CGM-Legacy/Analysis/IRAS-F22456-5125/IRAS-F22456-5125_hsla.fits\n",
      "Copying /u/xavier/Dropbox/COS-CGM-Legacy/Analysis/Q2251+155/Q2251+155_hsla.fits\n",
      "Copying /u/xavier/Dropbox/COS-CGM-Legacy/Analysis/MR2251-178/MR2251-178_hsla.fits\n",
      "Copying /u/xavier/Dropbox/COS-CGM-Legacy/Analysis/SDSSJ225738.20+134045.4/SDSSJ225738.20+134045.4_hsla.fits\n",
      "Copying /u/xavier/Dropbox/COS-CGM-Legacy/Analysis/NGC-7469/NGC-7469_hsla.fits\n",
      "Copying /u/xavier/Dropbox/COS-CGM-Legacy/Analysis/RXS-J23218-7026/RXS-J23218-7026_hsla.fits\n",
      "Copying /u/xavier/Dropbox/COS-CGM-Legacy/Analysis/SDSSJ234500.43-005936.0/SDSSJ234500.43-005936.0_hsla.fits\n",
      "Copying /u/xavier/Dropbox/COS-CGM-Legacy/Analysis/PMNJ2345-1555/PMNJ2345-1555_hsla.fits\n",
      "Copying /u/xavier/Dropbox/COS-CGM-Legacy/Analysis/HE2347-4342/HE2347-4342_hsla.fits\n",
      "Copying /u/xavier/Dropbox/COS-CGM-Legacy/Analysis/4C--01.61/4C--01.61_hsla.fits\n",
      "Copying /u/xavier/Dropbox/COS-CGM-Legacy/Analysis/QSO-B2356-309/QSO-B2356-309_hsla.fits\n"
     ]
    }
   ],
   "source": [
    "for row in hstqso:\n",
    "    if row['INST'] == 'COS':\n",
    "        new_file = legacy_dir + '/{:s}/{:s}_hsla.fits'.format(row['QSO_ALT_NAME'], row['QSO_ALT_NAME'])\n",
    "        if not os.path.isfile(new_file):\n",
    "            pdb.set_trace()\n",
    "        print('Copying {:s}'.format(new_file))\n",
    "        copy(new_file,dat_dir)"
   ]
  },
  {
   "cell_type": "markdown",
   "metadata": {},
   "source": [
    "### Then I gzipped them"
   ]
  },
  {
   "cell_type": "markdown",
   "metadata": {},
   "source": [
    "## Test"
   ]
  },
  {
   "cell_type": "code",
   "execution_count": 27,
   "metadata": {
    "collapsed": true
   },
   "outputs": [],
   "source": [
    "from igmspec.igmspec import IgmSpec"
   ]
  },
  {
   "cell_type": "code",
   "execution_count": 28,
   "metadata": {
    "collapsed": false
   },
   "outputs": [
    {
     "name": "stdout",
     "output_type": "stream",
     "text": [
      "Using /Users/xavier/local/Python/igmspec/igmspec/../DB/IGMspec_DB_v02.hdf5 for the catalog file\n",
      "Using /Users/xavier/local/Python/igmspec/igmspec/../DB/IGMspec_DB_v02.hdf5 for the DB file\n",
      "Available surveys: [u'HSTQSO', u'2QZ', u'ESI_DLA', u'HDLA100', u'COS-Halos', u'HST_z2', u'COS-Dwarfs', u'XQ-100']\n"
     ]
    }
   ],
   "source": [
    "igmsp = IgmSpec(db_file='/Users/xavier/local/Python/igmspec/igmspec/../DB/IGMspec_DB_v02.hdf5')"
   ]
  },
  {
   "cell_type": "code",
   "execution_count": 29,
   "metadata": {
    "collapsed": false
   },
   "outputs": [
    {
     "name": "stdout",
     "output_type": "stream",
     "text": [
      "Your search yielded 1 match[es]\n",
      "Staged 0 spectra totalling 0 Gb\n",
      "No spectra matching in survey 2QZ\n",
      "Staged 0 spectra totalling 0 Gb\n",
      "No spectra matching in survey COS-Dwarfs\n",
      "Staged 0 spectra totalling 0 Gb\n",
      "No spectra matching in survey COS-Halos\n",
      "Staged 0 spectra totalling 0 Gb\n",
      "No spectra matching in survey ESI_DLA\n",
      "Staged 0 spectra totalling 0 Gb\n",
      "No spectra matching in survey HDLA100\n",
      "Staged 2 spectra totalling 0.001952 Gb\n",
      "Loaded spectra\n",
      "Staged 0 spectra totalling 0 Gb\n",
      "No spectra matching in survey HST_z2\n",
      "Staged 0 spectra totalling 0 Gb\n",
      "No spectra matching in survey XQ-100\n"
     ]
    },
    {
     "name": "stderr",
     "output_type": "stream",
     "text": [
      "/Users/xavier/local/Python/linetools/linetools/spectra/xspectrum1d.py:295: UserWarning: No unit given to wavelength, assuming Angstroms.\n",
      "  warnings.warn(\"No unit given to wavelength, assuming Angstroms.\")\n"
     ]
    }
   ],
   "source": [
    "spec, meta = igmsp.spec_from_coord((1.4968168,16.163614))"
   ]
  },
  {
   "cell_type": "code",
   "execution_count": 30,
   "metadata": {
    "collapsed": false
   },
   "outputs": [
    {
     "data": {
      "text/plain": [
       "[<Table length=2>\n",
       "  QSO_NAME  QSO_ALT_NAME     RA        DEC     ... SURVEY_ID  DATE-OBS  TELESCOPE\n",
       "   str10       str24      float64    float64   ...   int64     str10       str3  \n",
       " ---------- ------------ --------- ----------- ... --------- ---------- ---------\n",
       " J0005+1609   PG0003+158 1.4968168   16.163614 ...         6 2011-10-22       HST\n",
       " J0006+1609   B0003+1553   1.49675 16.16363907 ...         7 1993-11-07       HST]"
      ]
     },
     "execution_count": 30,
     "metadata": {},
     "output_type": "execute_result"
    }
   ],
   "source": [
    "meta"
   ]
  },
  {
   "cell_type": "code",
   "execution_count": 32,
   "metadata": {
    "collapsed": false
   },
   "outputs": [
    {
     "data": {
      "text/html": [
       "&lt;Table length=2&gt;\n",
       "<table id=\"table4688501136\" class=\"table-striped table-bordered table-condensed\">\n",
       "<thead><tr><th>QSO_NAME</th><th>INSTR</th></tr></thead>\n",
       "<thead><tr><th>str10</th><th>str4</th></tr></thead>\n",
       "<tr><td>J0005+1609</td><td>COS</td></tr>\n",
       "<tr><td>J0006+1609</td><td>FOS</td></tr>\n",
       "</table>"
      ],
      "text/plain": [
       "<Table length=2>\n",
       " QSO_NAME  INSTR\n",
       "  str10     str4\n",
       "---------- -----\n",
       "J0005+1609   COS\n",
       "J0006+1609   FOS"
      ]
     },
     "execution_count": 32,
     "metadata": {},
     "output_type": "execute_result"
    }
   ],
   "source": [
    "meta[0][['QSO_NAME', 'INSTR']]"
   ]
  },
  {
   "cell_type": "code",
   "execution_count": null,
   "metadata": {
    "collapsed": true
   },
   "outputs": [],
   "source": []
  }
 ],
 "metadata": {
  "kernelspec": {
   "display_name": "Python 2",
   "language": "python",
   "name": "python2"
  },
  "language_info": {
   "codemirror_mode": {
    "name": "ipython",
    "version": 2
   },
   "file_extension": ".py",
   "mimetype": "text/x-python",
   "name": "python",
   "nbconvert_exporter": "python",
   "pygments_lexer": "ipython2",
   "version": "2.7.11"
  }
 },
 "nbformat": 4,
 "nbformat_minor": 0
}
