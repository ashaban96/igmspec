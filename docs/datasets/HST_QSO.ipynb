{
 "cells": [
  {
   "cell_type": "markdown",
   "metadata": {},
   "source": [
    "# HST QSO Dataset used by Neeleman and Ribaduo"
   ]
  },
  {
   "cell_type": "code",
   "execution_count": 1,
   "metadata": {
    "collapsed": true
   },
   "outputs": [],
   "source": [
    "# imports\n",
    "from astropy.table import Table\n",
    "\n",
    "from linetools import utils as ltu"
   ]
  },
  {
   "cell_type": "markdown",
   "metadata": {},
   "source": [
    "## Summary file"
   ]
  },
  {
   "cell_type": "code",
   "execution_count": 2,
   "metadata": {
    "collapsed": true
   },
   "outputs": [],
   "source": [
    "summ_file = os.getenv('RAW_IGMSPEC')+'/HSTQSO/hstqso.lst'"
   ]
  },
  {
   "cell_type": "code",
   "execution_count": 5,
   "metadata": {
    "collapsed": false
   },
   "outputs": [],
   "source": [
    "hstqso = Table.read(summ_file, format='ascii')"
   ]
  },
  {
   "cell_type": "code",
   "execution_count": 6,
   "metadata": {
    "collapsed": false
   },
   "outputs": [
    {
     "data": {
      "text/html": [
       "&lt;Table length=3&gt;\n",
       "<table id=\"table4607658448\">\n",
       "<thead><tr><th>QSO_NAME</th><th>QSO_ALT_NAME</th><th>RA</th><th>DEC</th><th>QSO_ZEM</th><th>INST</th><th>GRATE</th><th>PID</th><th>SPEC_FILE</th></tr></thead>\n",
       "<thead><tr><th>str10</th><th>str24</th><th>float64</th><th>float64</th><th>float64</th><th>str4</th><th>str17</th><th>str19</th><th>str23</th></tr></thead>\n",
       "<tr><td>J0000-1245</td><td>PHL2525</td><td>0.1017646</td><td>-12.76326</td><td>0.2</td><td>COS</td><td>G130M-G160M</td><td>12604</td><td>J0000-1245_COS.fits</td></tr>\n",
       "<tr><td>J0001+0709</td><td>0</td><td>0.4190833</td><td>7.1651722</td><td>3.234</td><td>STIS</td><td>G230L</td><td>8569</td><td>J0001+0709_STIS.fits</td></tr>\n",
       "<tr><td>J0004-4157</td><td>B0002-4214</td><td>1.2</td><td>-41.96</td><td>2.76</td><td>FOS</td><td>G270H</td><td>6577</td><td>B0002-4214_FOS-H.fits</td></tr>\n",
       "</table>"
      ],
      "text/plain": [
       "<Table length=3>\n",
       " QSO_NAME  QSO_ALT_NAME     RA    ...    GRATE     PID        SPEC_FILE      \n",
       "  str10       str24      float64  ...    str17    str19         str23        \n",
       "---------- ------------ --------- ... ----------- ----- ---------------------\n",
       "J0000-1245      PHL2525 0.1017646 ... G130M-G160M 12604   J0000-1245_COS.fits\n",
       "J0001+0709            0 0.4190833 ...       G230L  8569  J0001+0709_STIS.fits\n",
       "J0004-4157   B0002-4214       1.2 ...       G270H  6577 B0002-4214_FOS-H.fits"
      ]
     },
     "execution_count": 6,
     "metadata": {},
     "output_type": "execute_result"
    }
   ],
   "source": [
    "hstqso[0:3]"
   ]
  },
  {
   "cell_type": "markdown",
   "metadata": {},
   "source": [
    "## DATE-OBS"
   ]
  },
  {
   "cell_type": "code",
   "execution_count": 10,
   "metadata": {
    "collapsed": true
   },
   "outputs": [],
   "source": [
    "date_file = os.getenv('RAW_IGMSPEC')+'/HSTQSO/date_obs_fosh.txt'"
   ]
  },
  {
   "cell_type": "code",
   "execution_count": 11,
   "metadata": {
    "collapsed": true
   },
   "outputs": [],
   "source": [
    "date_fosh = Table.read(date_file, format='ascii')"
   ]
  },
  {
   "cell_type": "code",
   "execution_count": 12,
   "metadata": {
    "collapsed": false
   },
   "outputs": [
    {
     "data": {
      "text/html": [
       "&lt;Table length=3&gt;\n",
       "<table id=\"table4608097872\">\n",
       "<thead><tr><th>SPEC</th><th>GRATING</th><th>DATE-OBS</th></tr></thead>\n",
       "<thead><tr><th>str18</th><th>str5</th><th>str10</th></tr></thead>\n",
       "<tr><td>B0002-4214_FOS-H</td><td>G270H</td><td>1996-6-2</td></tr>\n",
       "<tr><td>B0002+0507_FOS-H</td><td>G270H</td><td>1993-11-4</td></tr>\n",
       "<tr><td>B0002+0507_FOS-H</td><td>G270H</td><td>1993-11-4</td></tr>\n",
       "</table>"
      ],
      "text/plain": [
       "<Table length=3>\n",
       "      SPEC       GRATING  DATE-OBS\n",
       "     str18         str5    str10  \n",
       "---------------- ------- ---------\n",
       "B0002-4214_FOS-H   G270H  1996-6-2\n",
       "B0002+0507_FOS-H   G270H 1993-11-4\n",
       "B0002+0507_FOS-H   G270H 1993-11-4"
      ]
     },
     "execution_count": 12,
     "metadata": {},
     "output_type": "execute_result"
    }
   ],
   "source": [
    "date_fosh[0:3]"
   ]
  },
  {
   "cell_type": "markdown",
   "metadata": {},
   "source": [
    "## RA/DEC"
   ]
  },
  {
   "cell_type": "code",
   "execution_count": 16,
   "metadata": {
    "collapsed": true
   },
   "outputs": [],
   "source": [
    "radec_file = os.getenv('RAW_IGMSPEC')+'/HSTQSO/all_qso_table.txt'"
   ]
  },
  {
   "cell_type": "code",
   "execution_count": 17,
   "metadata": {
    "collapsed": false
   },
   "outputs": [],
   "source": [
    "radec = Table.read(radec_file, format='ascii')"
   ]
  },
  {
   "cell_type": "code",
   "execution_count": 18,
   "metadata": {
    "collapsed": false
   },
   "outputs": [
    {
     "data": {
      "text/html": [
       "&lt;Table length=3&gt;\n",
       "<table id=\"table4611173904\">\n",
       "<thead><tr><th>File_ID</th><th>RA</th><th>DEC</th><th>GL</th><th>GB</th><th>ZEM</th><th>Zlls</th><th>NHI</th><th>NHI+</th><th>NHI-</th><th>LLS_TYPE</th></tr></thead>\n",
       "<thead><tr><th>str12</th><th>float64</th><th>float64</th><th>float64</th><th>float64</th><th>float64</th><th>float64</th><th>float64</th><th>float64</th><th>float64</th><th>str9</th></tr></thead>\n",
       "<tr><td>B0002-4214</td><td>1.20083332</td><td>-41.95777893</td><td>332.680756</td><td>-72.370941</td><td>2.76</td><td>2.301</td><td>17.81</td><td>0.0</td><td>0.0</td><td>R1,R2</td></tr>\n",
       "<tr><td>B0002+0507</td><td>1.33416665</td><td>5.40311098</td><td>102.310738</td><td>-55.611916</td><td>1.9</td><td>0.0</td><td>0.0</td><td>0.0</td><td>0.0</td><td>none</td></tr>\n",
       "<tr><td>B0003+0146</td><td>1.448125</td><td>2.05061102</td><td>100.481804</td><td>-58.817158</td><td>0.234</td><td>0.0</td><td>0.0</td><td>0.0</td><td>0.0</td><td>none</td></tr>\n",
       "</table>"
      ],
      "text/plain": [
       "<Table length=3>\n",
       " File_ID       RA         DEC          GL     ...   NHI+    NHI-  LLS_TYPE\n",
       "  str12     float64     float64     float64   ... float64 float64   str9  \n",
       "---------- ---------- ------------ ---------- ... ------- ------- --------\n",
       "B0002-4214 1.20083332 -41.95777893 332.680756 ...     0.0     0.0    R1,R2\n",
       "B0002+0507 1.33416665   5.40311098 102.310738 ...     0.0     0.0     none\n",
       "B0003+0146   1.448125   2.05061102 100.481804 ...     0.0     0.0     none"
      ]
     },
     "execution_count": 18,
     "metadata": {},
     "output_type": "execute_result"
    }
   ],
   "source": [
    "radec[0:3]"
   ]
  },
  {
   "cell_type": "code",
   "execution_count": 19,
   "metadata": {
    "collapsed": true
   },
   "outputs": [],
   "source": [
    "fl = [row['File_ID'][0] for row in radec]"
   ]
  },
  {
   "cell_type": "markdown",
   "metadata": {},
   "source": [
    "### Worry about lenses"
   ]
  },
  {
   "cell_type": "code",
   "execution_count": 3,
   "metadata": {
    "collapsed": false
   },
   "outputs": [],
   "source": [
    "q1318 = ltu.radec_to_coord(('13:18:54.67','+29:03:01.49'))"
   ]
  },
  {
   "cell_type": "code",
   "execution_count": 5,
   "metadata": {
    "collapsed": false
   },
   "outputs": [],
   "source": [
    "q1318a = ltu.radec_to_coord(('13:18:53.58','+29:03:30.52'))"
   ]
  },
  {
   "cell_type": "code",
   "execution_count": 7,
   "metadata": {
    "collapsed": false
   },
   "outputs": [
    {
     "data": {
      "text/latex": [
       "$32.3576\\mathrm{{}^{\\prime\\prime}}$"
      ],
      "text/plain": [
       "<Angle 32.3576307359541 arcsec>"
      ]
     },
     "execution_count": 7,
     "metadata": {},
     "output_type": "execute_result"
    }
   ],
   "source": [
    "q1318.separation(q1318a).to('arcsec')"
   ]
  },
  {
   "cell_type": "markdown",
   "metadata": {},
   "source": [
    "## Bad spectra"
   ]
  },
  {
   "cell_type": "code",
   "execution_count": 9,
   "metadata": {
    "collapsed": true
   },
   "outputs": [],
   "source": [
    "bad1 = '/raid/Raw_IGMspec//HSTQSO/J1330-2056_STIS.fits.gz'"
   ]
  },
  {
   "cell_type": "code",
   "execution_count": 10,
   "metadata": {
    "collapsed": false
   },
   "outputs": [
    {
     "name": "stdout",
     "output_type": "stream",
     "text": [
      "Filename: /raid/Raw_IGMspec//HSTQSO/J1330-2056_STIS.fits.gz\n",
      "No.    Name         Type      Cards   Dimensions   Format\n",
      "0    PRIMARY     PrimaryHDU       4   ()              \n",
      "1                BinTableHDU     43   1R x 3C      [1024D, 1024D, 1024D]   \n"
     ]
    }
   ],
   "source": [
    "hdu1 = fits.open(bad1)\n",
    "hdu1.info()"
   ]
  },
  {
   "cell_type": "code",
   "execution_count": null,
   "metadata": {
    "collapsed": true
   },
   "outputs": [],
   "source": [
    "data = Table"
   ]
  }
 ],
 "metadata": {
  "kernelspec": {
   "display_name": "Python 2",
   "language": "python",
   "name": "python2"
  },
  "language_info": {
   "codemirror_mode": {
    "name": "ipython",
    "version": 2
   },
   "file_extension": ".py",
   "mimetype": "text/x-python",
   "name": "python",
   "nbconvert_exporter": "python",
   "pygments_lexer": "ipython2",
   "version": "2.7.11"
  }
 },
 "nbformat": 4,
 "nbformat_minor": 0
}
