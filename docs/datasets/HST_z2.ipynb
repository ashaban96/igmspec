{
 "cells": [
  {
   "cell_type": "markdown",
   "metadata": {},
   "source": [
    "# WFC3 and ACS spectra from O'Meara et al. (2011, ApJS, 195, 16)"
   ]
  },
  {
   "cell_type": "code",
   "execution_count": 2,
   "metadata": {
    "collapsed": true
   },
   "outputs": [],
   "source": [
    "# imports\n",
    "import os"
   ]
  },
  {
   "cell_type": "markdown",
   "metadata": {},
   "source": [
    "## Data\n",
    "\n",
    "    All grabbed from the Drobpox by JXP on 12 July 2016\n",
    "    cp ~/Dropbox/ACS_Prism/Spec/SDSS*fits .\n",
    "    cp ~/Dropbox/WFC3/Spec/* .\n",
    "    cp wfc3_specstrct.fits.gz /raid/Raw_IGMSpec/HST_z2/"
   ]
  },
  {
   "cell_type": "markdown",
   "metadata": {},
   "source": [
    "## WFC3 Summary"
   ]
  },
  {
   "cell_type": "code",
   "execution_count": 3,
   "metadata": {
    "collapsed": true
   },
   "outputs": [],
   "source": [
    "wfc3_summ_fil = os.getenv('RAW_IGMSPEC')+'/HST_z2/wfc3_specstrct.fits.gz'"
   ]
  },
  {
   "cell_type": "code",
   "execution_count": 5,
   "metadata": {
    "collapsed": false
   },
   "outputs": [
    {
     "data": {
      "text/html": [
       "&lt;Table length=5&gt;\n",
       "<table id=\"table4589903760\">\n",
       "<thead><tr><th>WAVEA [267]</th><th>FLUXA [267]</th><th>SIGA [267]</th><th>PLATE</th><th>FIBER</th><th>ZEM</th><th>SDSSFLUX [123]</th><th>SDSSWAVE [123]</th><th>FX_1450</th><th>S2N_1450</th><th>WAVE [267]</th><th>FLUX [267]</th><th>SIG [267]</th><th>NPIX</th></tr></thead>\n",
       "<thead><tr><th>float32</th><th>float32</th><th>float32</th><th>int16</th><th>int16</th><th>float32</th><th>float32</th><th>float64</th><th>float32</th><th>float32</th><th>float32</th><th>float32</th><th>float32</th><th>int32</th></tr></thead>\n",
       "<tr><td>1907.07 .. 5694.69</td><td>-1.62386e-16 .. 0.0</td><td>-5.01693e-17 .. 0.0</td><td>434</td><td>555</td><td>2.45303</td><td>45.1997 .. 26.6899</td><td>3900.31784495 .. 5678.060168</td><td>1.12169e-13</td><td>22.2327</td><td>1907.07 .. 5694.69</td><td>-1.62386e-16 .. 0.0</td><td>-5.01693e-17 .. 0.0</td><td>267</td></tr>\n",
       "<tr><td>1907.07 .. 5694.69</td><td>-6.30021e-16 .. 0.0</td><td>-7.81323e-17 .. 0.0</td><td>1264</td><td>163</td><td>2.31889</td><td>55.3948 .. 25.4679</td><td>3900.31784111 .. 5678.06015023</td><td>1.79721e-13</td><td>26.547</td><td>1907.07 .. 5694.69</td><td>-6.30021e-16 .. 0.0</td><td>-7.81323e-17 .. 0.0</td><td>267</td></tr>\n",
       "<tr><td>1907.07 .. 5694.69</td><td>-5.29405e-16 .. 0.0</td><td>-5.69209e-17 .. 0.0</td><td>1780</td><td>181</td><td>2.45652</td><td>60.5692 .. 30.8256</td><td>3900.31784264 .. 5678.06032292</td><td>2.01631e-13</td><td>32.3651</td><td>1907.07 .. 5694.69</td><td>-5.29405e-16 .. 0.0</td><td>-5.69209e-17 .. 0.0</td><td>267</td></tr>\n",
       "<tr><td>1907.07 .. 5694.69</td><td>-1.24728e-15 .. 0.0</td><td>-7.21998e-17 .. 0.0</td><td>1759</td><td>283</td><td>2.58121</td><td>38.9279 .. 24.7811</td><td>3900.31783959 .. 5678.06017236</td><td>1.31636e-13</td><td>23.9283</td><td>1907.07 .. 5694.69</td><td>-1.24728e-15 .. 0.0</td><td>-7.21998e-17 .. 0.0</td><td>267</td></tr>\n",
       "<tr><td>1907.07 .. 5694.69</td><td>-1.25475e-16 .. 0.0</td><td>-5.47054e-17 .. 0.0</td><td>1298</td><td>512</td><td>2.30716</td><td>19.4333 .. 22.403</td><td>3900.31784269 .. 5678.06027429</td><td>1.13846e-13</td><td>21.3466</td><td>1907.07 .. 5694.69</td><td>-1.25475e-16 .. 0.0</td><td>-5.47054e-17 .. 0.0</td><td>267</td></tr>\n",
       "</table>"
      ],
      "text/plain": [
       "<Table length=5>\n",
       "   WAVEA [267]         FLUXA [267]     ...      SIG [267]       NPIX\n",
       "     float32             float32       ...       float32       int32\n",
       "------------------ ------------------- ... ------------------- -----\n",
       "1907.07 .. 5694.69 -1.62386e-16 .. 0.0 ... -5.01693e-17 .. 0.0   267\n",
       "1907.07 .. 5694.69 -6.30021e-16 .. 0.0 ... -7.81323e-17 .. 0.0   267\n",
       "1907.07 .. 5694.69 -5.29405e-16 .. 0.0 ... -5.69209e-17 .. 0.0   267\n",
       "1907.07 .. 5694.69 -1.24728e-15 .. 0.0 ... -7.21998e-17 .. 0.0   267\n",
       "1907.07 .. 5694.69 -1.25475e-16 .. 0.0 ... -5.47054e-17 .. 0.0   267"
      ]
     },
     "execution_count": 5,
     "metadata": {},
     "output_type": "execute_result"
    }
   ],
   "source": [
    "wfc3 = Table.read(wfc3_summ_fil)\n",
    "wfc3[0:5]"
   ]
  },
  {
   "cell_type": "code",
   "execution_count": 12,
   "metadata": {
    "collapsed": true
   },
   "outputs": [],
   "source": [
    "xdb.xplot(wfc3[0]['WAVE'], wfc3[0]['FLUX'])"
   ]
  },
  {
   "cell_type": "markdown",
   "metadata": {},
   "source": [
    "### Test data file"
   ]
  },
  {
   "cell_type": "code",
   "execution_count": 8,
   "metadata": {
    "collapsed": true
   },
   "outputs": [],
   "source": [
    "spec_fil = os.getenv('RAW_IGMSPEC')+'/HST_z2/J075158.65+424522.9_wfc3.fits.gz'"
   ]
  },
  {
   "cell_type": "code",
   "execution_count": 9,
   "metadata": {
    "collapsed": true
   },
   "outputs": [],
   "source": [
    "spec_tab = Table.read(spec_fil)"
   ]
  },
  {
   "cell_type": "code",
   "execution_count": 10,
   "metadata": {
    "collapsed": false
   },
   "outputs": [
    {
     "data": {
      "text/html": [
       "&lt;Table length=1&gt;\n",
       "<table id=\"table4401638224\">\n",
       "<thead><tr><th>PLATE</th><th>FIBER</th><th>RA</th><th>DEC</th><th>ZEM</th><th>EXPTIME</th><th>NPIX</th><th>XCEN</th><th>YCEN</th><th>TRACE_X [291]</th><th>TRACE_Y [291]</th><th>WAVE [291]</th><th>BOX_FX [291]</th><th>BOX_SIG [291]</th><th>FLAM [291]</th><th>FLAM_SIG [291]</th></tr></thead>\n",
       "<thead><tr><th>int32</th><th>int32</th><th>float64</th><th>float64</th><th>float32</th><th>float64</th><th>int32</th><th>float32</th><th>float32</th><th>float32</th><th>float32</th><th>float32</th><th>float32</th><th>float32</th><th>float64</th><th>float64</th></tr></thead>\n",
       "<tr><td>434</td><td>555</td><td>117.994375</td><td>42.7563611111</td><td>2.45303</td><td>640.0</td><td>291</td><td>2047.32</td><td>1084.67</td><td>1767.32 .. 2057.32</td><td>1251.26 .. 1281.67</td><td>1647.65 .. 5601.65</td><td>-16.7236 .. 487.508</td><td>24.2414 .. 33.2377</td><td>-159.370033784 .. 13.4274364099</td><td>231.011902482 .. 0.915466758119</td></tr>\n",
       "</table>"
      ],
      "text/plain": [
       "<Table length=1>\n",
       "PLATE FIBER ...            FLAM [291]                    FLAM_SIG [291]        \n",
       "int32 int32 ...             float64                         float64            \n",
       "----- ----- ... ------------------------------- -------------------------------\n",
       "  434   555 ... -159.370033784 .. 13.4274364099 231.011902482 .. 0.915466758119"
      ]
     },
     "execution_count": 10,
     "metadata": {},
     "output_type": "execute_result"
    }
   ],
   "source": [
    "spec_tab"
   ]
  },
  {
   "cell_type": "code",
   "execution_count": 14,
   "metadata": {
    "collapsed": true
   },
   "outputs": [],
   "source": [
    "xdb.xplot(spec_tab['WAVE'], spec_tab['FLAM'])"
   ]
  },
  {
   "cell_type": "markdown",
   "metadata": {},
   "source": [
    "### Resolution\n",
    "\n",
    "    The individual files appear to be flambda with 1e-17 fluxes"
   ]
  },
  {
   "cell_type": "markdown",
   "metadata": {},
   "source": [
    "## Summary file (from JMO)"
   ]
  },
  {
   "cell_type": "code",
   "execution_count": 15,
   "metadata": {
    "collapsed": true
   },
   "outputs": [],
   "source": [
    "summ_fil = os.getenv('RAW_IGMSPEC')+'/HST_z2/hst_z2.ascii'"
   ]
  },
  {
   "cell_type": "code",
   "execution_count": 31,
   "metadata": {
    "collapsed": false
   },
   "outputs": [],
   "source": [
    "hst_z2 = Table.read(summ_fil,format='ascii')#,guess=False)"
   ]
  },
  {
   "cell_type": "code",
   "execution_count": 32,
   "metadata": {
    "collapsed": false
   },
   "outputs": [
    {
     "data": {
      "text/html": [
       "&lt;Table length=69&gt;\n",
       "<table id=\"table4823309200\">\n",
       "<thead><tr><th>qso</th><th>ra</th><th>dec</th><th>zem</th><th>obsdate</th><th>tel</th><th>inst</th><th>grating</th><th>resolution</th></tr></thead>\n",
       "<thead><tr><th>str13</th><th>str12</th><th>str12</th><th>float64</th><th>str10</th><th>str3</th><th>str4</th><th>str6</th><th>int64</th></tr></thead>\n",
       "<tr><td>SDSS0106-0855</td><td>01:06:57.940</td><td>-08:55:0.10</td><td>2.35</td><td>2006-09-17</td><td>HST</td><td>ACS</td><td>PR200L</td><td>59</td></tr>\n",
       "<tr><td>SDSS0233+0049</td><td>02:33:59.710</td><td>+00:49:38.50</td><td>2.522</td><td>2006-09-20</td><td>HST</td><td>ACS</td><td>PR200L</td><td>59</td></tr>\n",
       "<tr><td>SDSS0340-0519</td><td>03:40:24.570</td><td>-05:19:9.20</td><td>2.34</td><td>2006-10-24</td><td>HST</td><td>ACS</td><td>PR200L</td><td>59</td></tr>\n",
       "<tr><td>SDSS0402-0641</td><td>04:02:41.420</td><td>-06:41:37.90</td><td>2.432</td><td>2006-08-31</td><td>HST</td><td>ACS</td><td>PR200L</td><td>59</td></tr>\n",
       "<tr><td>SDSS0751+4245</td><td>07:51:58.650</td><td>+42:45:22.90</td><td>2.453</td><td>2009-11-8</td><td>HST</td><td>WFC3</td><td>G280</td><td>70</td></tr>\n",
       "<tr><td>SDSS0755+2204</td><td>07:55:47.830</td><td>+22:04:50.10</td><td>2.319</td><td>2009-10-8</td><td>HST</td><td>WFC3</td><td>G280</td><td>70</td></tr>\n",
       "<tr><td>SDSS0804+2516</td><td>08:04:13.660</td><td>+25:16:33.80</td><td>2.302</td><td>2006-09-23</td><td>HST</td><td>ACS</td><td>PR200L</td><td>59</td></tr>\n",
       "<tr><td>SDSS0806+5041</td><td>08:06:20.470</td><td>+50:41:24.40</td><td>2.457</td><td>2009-11-7</td><td>HST</td><td>WFC3</td><td>G280</td><td>70</td></tr>\n",
       "<tr><td>SDSS0833+0815</td><td>08:33:26.820</td><td>+08:15:52.00</td><td>2.581</td><td>2009-12-29</td><td>HST</td><td>WFC3</td><td>G280</td><td>70</td></tr>\n",
       "<tr><td>SDSS0845+0722</td><td>08:45:25.840</td><td>+07:22:22.30</td><td>2.307</td><td>2009-11-26</td><td>HST</td><td>WFC3</td><td>G280</td><td>70</td></tr>\n",
       "<tr><td>...</td><td>...</td><td>...</td><td>...</td><td>...</td><td>...</td><td>...</td><td>...</td><td>...</td></tr>\n",
       "<tr><td>SDSS1618+3701</td><td>16:18:15.530</td><td>+37:01:3.90</td><td>2.496</td><td>2007-01-6</td><td>HST</td><td>ACS</td><td>PR200L</td><td>59</td></tr>\n",
       "<tr><td>SDSS1625+2943</td><td>16:25:16.420</td><td>+29:43:18.30</td><td>2.357</td><td>2009-11-29</td><td>HST</td><td>WFC3</td><td>G280</td><td>70</td></tr>\n",
       "<tr><td>SDSS1625+2646</td><td>16:25:48.790</td><td>+26:46:58.70</td><td>2.518</td><td>2009-12-28</td><td>HST</td><td>WFC3</td><td>G280</td><td>70</td></tr>\n",
       "<tr><td>SDSS1651+4002</td><td>16:51:37.520</td><td>+40:02:18.90</td><td>2.343</td><td>2009-10-10</td><td>HST</td><td>WFC3</td><td>G280</td><td>70</td></tr>\n",
       "<tr><td>SDSS1659+3809</td><td>16:59:14.540</td><td>+38:09:0.70</td><td>2.343</td><td>2007-01-5</td><td>HST</td><td>ACS</td><td>PR200L</td><td>59</td></tr>\n",
       "<tr><td>SDSS1724+5314</td><td>17:24:9.190</td><td>+53:14:5.50</td><td>2.547</td><td>2009-10-12</td><td>HST</td><td>WFC3</td><td>G280</td><td>70</td></tr>\n",
       "<tr><td>SDSS2111+0024</td><td>21:11:57.780</td><td>+00:24:57.50</td><td>2.325</td><td>2009-12-21</td><td>HST</td><td>WFC3</td><td>G280</td><td>70</td></tr>\n",
       "<tr><td>SDSS2136+1029</td><td>21:36:29.440</td><td>+10:29:52.20</td><td>2.555</td><td>2010-04-27</td><td>HST</td><td>WFC3</td><td>G280</td><td>70</td></tr>\n",
       "<tr><td>SDSS2300-1021</td><td>23:00:11.740</td><td>-10:21:44.40</td><td>2.297</td><td>2006-09-6</td><td>HST</td><td>ACS</td><td>PR200L</td><td>59</td></tr>\n",
       "<tr><td>SDSS2338+1504</td><td>23:38:23.160</td><td>+15:04:45.20</td><td>2.419</td><td>2010-06-8</td><td>HST</td><td>WFC3</td><td>G280</td><td>70</td></tr>\n",
       "</table>"
      ],
      "text/plain": [
       "<Table length=69>\n",
       "     qso           ra          dec        zem   ... tel  inst grating resolution\n",
       "    str13        str12        str12     float64 ... str3 str4   str6    int64   \n",
       "------------- ------------ ------------ ------- ... ---- ---- ------- ----------\n",
       "SDSS0106-0855 01:06:57.940  -08:55:0.10    2.35 ...  HST  ACS  PR200L         59\n",
       "SDSS0233+0049 02:33:59.710 +00:49:38.50   2.522 ...  HST  ACS  PR200L         59\n",
       "SDSS0340-0519 03:40:24.570  -05:19:9.20    2.34 ...  HST  ACS  PR200L         59\n",
       "SDSS0402-0641 04:02:41.420 -06:41:37.90   2.432 ...  HST  ACS  PR200L         59\n",
       "SDSS0751+4245 07:51:58.650 +42:45:22.90   2.453 ...  HST WFC3    G280         70\n",
       "SDSS0755+2204 07:55:47.830 +22:04:50.10   2.319 ...  HST WFC3    G280         70\n",
       "SDSS0804+2516 08:04:13.660 +25:16:33.80   2.302 ...  HST  ACS  PR200L         59\n",
       "SDSS0806+5041 08:06:20.470 +50:41:24.40   2.457 ...  HST WFC3    G280         70\n",
       "SDSS0833+0815 08:33:26.820 +08:15:52.00   2.581 ...  HST WFC3    G280         70\n",
       "SDSS0845+0722 08:45:25.840 +07:22:22.30   2.307 ...  HST WFC3    G280         70\n",
       "          ...          ...          ...     ... ...  ...  ...     ...        ...\n",
       "SDSS1618+3701 16:18:15.530  +37:01:3.90   2.496 ...  HST  ACS  PR200L         59\n",
       "SDSS1625+2943 16:25:16.420 +29:43:18.30   2.357 ...  HST WFC3    G280         70\n",
       "SDSS1625+2646 16:25:48.790 +26:46:58.70   2.518 ...  HST WFC3    G280         70\n",
       "SDSS1651+4002 16:51:37.520 +40:02:18.90   2.343 ...  HST WFC3    G280         70\n",
       "SDSS1659+3809 16:59:14.540  +38:09:0.70   2.343 ...  HST  ACS  PR200L         59\n",
       "SDSS1724+5314  17:24:9.190  +53:14:5.50   2.547 ...  HST WFC3    G280         70\n",
       "SDSS2111+0024 21:11:57.780 +00:24:57.50   2.325 ...  HST WFC3    G280         70\n",
       "SDSS2136+1029 21:36:29.440 +10:29:52.20   2.555 ...  HST WFC3    G280         70\n",
       "SDSS2300-1021 23:00:11.740 -10:21:44.40   2.297 ...  HST  ACS  PR200L         59\n",
       "SDSS2338+1504 23:38:23.160 +15:04:45.20   2.419 ...  HST WFC3    G280         70"
      ]
     },
     "execution_count": 32,
     "metadata": {},
     "output_type": "execute_result"
    }
   ],
   "source": [
    "hst_z2"
   ]
  },
  {
   "cell_type": "code",
   "execution_count": null,
   "metadata": {
    "collapsed": true
   },
   "outputs": [],
   "source": []
  }
 ],
 "metadata": {
  "kernelspec": {
   "display_name": "Python 2",
   "language": "python",
   "name": "python2"
  },
  "language_info": {
   "codemirror_mode": {
    "name": "ipython",
    "version": 2
   },
   "file_extension": ".py",
   "mimetype": "text/x-python",
   "name": "python",
   "nbconvert_exporter": "python",
   "pygments_lexer": "ipython2",
   "version": "2.7.11"
  }
 },
 "nbformat": 4,
 "nbformat_minor": 0
}
